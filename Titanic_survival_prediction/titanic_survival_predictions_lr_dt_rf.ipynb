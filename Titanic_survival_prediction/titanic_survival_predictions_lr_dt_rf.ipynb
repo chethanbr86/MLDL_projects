{
 "cells": [
  {
   "cell_type": "code",
   "execution_count": 1,
   "metadata": {
    "_cell_guid": "b1076dfc-b9ad-4769-8c92-a6c4dae69d19",
    "_uuid": "8f2839f25d086af736a60e9eeb907d3b93b6e0e5",
    "execution": {
     "iopub.execute_input": "2021-03-30T15:10:45.869231Z",
     "iopub.status.busy": "2021-03-30T15:10:45.868589Z",
     "iopub.status.idle": "2021-03-30T15:10:45.873167Z",
     "shell.execute_reply": "2021-03-30T15:10:45.872450Z"
    },
    "papermill": {
     "duration": 0.055298,
     "end_time": "2021-03-30T15:10:45.873292",
     "exception": false,
     "start_time": "2021-03-30T15:10:45.817994",
     "status": "completed"
    },
    "tags": []
   },
   "outputs": [
    {
     "name": "stdout",
     "output_type": "stream",
     "text": [
      "/kaggle/input/titanic/train.csv\n",
      "/kaggle/input/titanic/test.csv\n",
      "/kaggle/input/titanic/gender_submission.csv\n"
     ]
    }
   ],
   "source": [
    "# This Python 3 environment comes with many helpful analytics libraries installed\n",
    "# It is defined by the kaggle/python Docker image: https://github.com/kaggle/docker-python\n",
    "# For example, here's several helpful packages to load\n",
    "\n",
    "import numpy as np # linear algebra\n",
    "import pandas as pd # data processing, CSV file I/O (e.g. pd.read_csv)\n",
    "\n",
    "# Input data files are available in the read-only \"../input/\" directory\n",
    "# For example, running this (by clicking run or pressing Shift+Enter) will list all files under the input directory\n",
    "\n",
    "import os\n",
    "for dirname, _, filenames in os.walk('/kaggle/input'):\n",
    "    for filename in filenames:\n",
    "        print(os.path.join(dirname, filename))\n",
    "\n",
    "# You can write up to 20GB to the current directory (/kaggle/working/) that gets preserved as output when you create a version using \"Save & Run All\" \n",
    "# You can also write temporary files to /kaggle/temp/, but they won't be saved outside of the current session"
   ]
  },
  {
   "cell_type": "code",
   "execution_count": 2,
   "metadata": {
    "execution": {
     "iopub.execute_input": "2021-03-30T15:10:45.964344Z",
     "iopub.status.busy": "2021-03-30T15:10:45.963715Z",
     "iopub.status.idle": "2021-03-30T15:10:45.967887Z",
     "shell.execute_reply": "2021-03-30T15:10:45.968309Z"
    },
    "papermill": {
     "duration": 0.050385,
     "end_time": "2021-03-30T15:10:45.968489",
     "exception": false,
     "start_time": "2021-03-30T15:10:45.918104",
     "status": "completed"
    },
    "tags": []
   },
   "outputs": [],
   "source": [
    "import warnings\n",
    "warnings.filterwarnings('ignore')"
   ]
  },
  {
   "cell_type": "code",
   "execution_count": 3,
   "metadata": {
    "execution": {
     "iopub.execute_input": "2021-03-30T15:10:46.061332Z",
     "iopub.status.busy": "2021-03-30T15:10:46.060635Z",
     "iopub.status.idle": "2021-03-30T15:10:46.063959Z",
     "shell.execute_reply": "2021-03-30T15:10:46.063400Z"
    },
    "papermill": {
     "duration": 0.052191,
     "end_time": "2021-03-30T15:10:46.064081",
     "exception": false,
     "start_time": "2021-03-30T15:10:46.011890",
     "status": "completed"
    },
    "tags": []
   },
   "outputs": [],
   "source": [
    "pd.set_option('display.max_columns',500)\n",
    "pd.set_option('display.width',500)\n",
    "pd.set_option('display.max_rows', 500)"
   ]
  },
  {
   "cell_type": "markdown",
   "metadata": {
    "papermill": {
     "duration": 0.043242,
     "end_time": "2021-03-30T15:10:46.151567",
     "exception": false,
     "start_time": "2021-03-30T15:10:46.108325",
     "status": "completed"
    },
    "tags": []
   },
   "source": [
    "### Importing requried libraries"
   ]
  },
  {
   "cell_type": "code",
   "execution_count": 4,
   "metadata": {
    "execution": {
     "iopub.execute_input": "2021-03-30T15:10:46.246318Z",
     "iopub.status.busy": "2021-03-30T15:10:46.245697Z",
     "iopub.status.idle": "2021-03-30T15:10:47.536208Z",
     "shell.execute_reply": "2021-03-30T15:10:47.535578Z"
    },
    "papermill": {
     "duration": 1.339495,
     "end_time": "2021-03-30T15:10:47.536314",
     "exception": false,
     "start_time": "2021-03-30T15:10:46.196819",
     "status": "completed"
    },
    "tags": []
   },
   "outputs": [],
   "source": [
    "import matplotlib.pyplot as plt\n",
    "import seaborn as sns\n",
    "import matplotlib.gridspec as gridspec\n",
    "\n",
    "from sklearn.preprocessing import OneHotEncoder\n",
    "from sklearn.preprocessing import OrdinalEncoder\n",
    "from sklearn.preprocessing import StandardScaler\n",
    "\n",
    "from sklearn.model_selection import RandomizedSearchCV\n",
    "from sklearn.model_selection import train_test_split\n",
    "\n",
    "from sklearn.linear_model import LogisticRegression\n",
    "from sklearn.tree import DecisionTreeClassifier\n",
    "\n",
    "from sklearn.ensemble import RandomForestClassifier\n",
    "\n",
    "from sklearn.metrics import confusion_matrix\n",
    "from sklearn.metrics import accuracy_score"
   ]
  },
  {
   "cell_type": "code",
   "execution_count": 5,
   "metadata": {
    "_cell_guid": "79c7e3d0-c299-4dcb-8224-4455121ee9b0",
    "_uuid": "d629ff2d2480ee46fbb7e2d37f6b5fab8052498a",
    "execution": {
     "iopub.execute_input": "2021-03-30T15:10:47.630103Z",
     "iopub.status.busy": "2021-03-30T15:10:47.629442Z",
     "iopub.status.idle": "2021-03-30T15:10:47.653394Z",
     "shell.execute_reply": "2021-03-30T15:10:47.652880Z"
    },
    "papermill": {
     "duration": 0.073864,
     "end_time": "2021-03-30T15:10:47.653531",
     "exception": false,
     "start_time": "2021-03-30T15:10:47.579667",
     "status": "completed"
    },
    "tags": []
   },
   "outputs": [],
   "source": [
    "train_data = pd.read_csv('../input/titanic/train.csv')\n",
    "test_data = pd.read_csv('../input/titanic/test.csv')"
   ]
  },
  {
   "cell_type": "code",
   "execution_count": 6,
   "metadata": {
    "execution": {
     "iopub.execute_input": "2021-03-30T15:10:47.759547Z",
     "iopub.status.busy": "2021-03-30T15:10:47.758927Z",
     "iopub.status.idle": "2021-03-30T15:10:47.769806Z",
     "shell.execute_reply": "2021-03-30T15:10:47.769253Z"
    },
    "papermill": {
     "duration": 0.072673,
     "end_time": "2021-03-30T15:10:47.769923",
     "exception": false,
     "start_time": "2021-03-30T15:10:47.697250",
     "status": "completed"
    },
    "tags": []
   },
   "outputs": [
    {
     "data": {
      "text/html": [
       "<div>\n",
       "<style scoped>\n",
       "    .dataframe tbody tr th:only-of-type {\n",
       "        vertical-align: middle;\n",
       "    }\n",
       "\n",
       "    .dataframe tbody tr th {\n",
       "        vertical-align: top;\n",
       "    }\n",
       "\n",
       "    .dataframe thead th {\n",
       "        text-align: right;\n",
       "    }\n",
       "</style>\n",
       "<table border=\"1\" class=\"dataframe\">\n",
       "  <thead>\n",
       "    <tr style=\"text-align: right;\">\n",
       "      <th></th>\n",
       "      <th>PassengerId</th>\n",
       "      <th>Survived</th>\n",
       "      <th>Pclass</th>\n",
       "      <th>Name</th>\n",
       "      <th>Sex</th>\n",
       "      <th>Age</th>\n",
       "      <th>SibSp</th>\n",
       "      <th>Parch</th>\n",
       "      <th>Ticket</th>\n",
       "      <th>Fare</th>\n",
       "      <th>Cabin</th>\n",
       "      <th>Embarked</th>\n",
       "    </tr>\n",
       "  </thead>\n",
       "  <tbody>\n",
       "    <tr>\n",
       "      <th>0</th>\n",
       "      <td>1</td>\n",
       "      <td>0</td>\n",
       "      <td>3</td>\n",
       "      <td>Braund, Mr. Owen Harris</td>\n",
       "      <td>male</td>\n",
       "      <td>22.0</td>\n",
       "      <td>1</td>\n",
       "      <td>0</td>\n",
       "      <td>A/5 21171</td>\n",
       "      <td>7.2500</td>\n",
       "      <td>NaN</td>\n",
       "      <td>S</td>\n",
       "    </tr>\n",
       "    <tr>\n",
       "      <th>1</th>\n",
       "      <td>2</td>\n",
       "      <td>1</td>\n",
       "      <td>1</td>\n",
       "      <td>Cumings, Mrs. John Bradley (Florence Briggs Th...</td>\n",
       "      <td>female</td>\n",
       "      <td>38.0</td>\n",
       "      <td>1</td>\n",
       "      <td>0</td>\n",
       "      <td>PC 17599</td>\n",
       "      <td>71.2833</td>\n",
       "      <td>C85</td>\n",
       "      <td>C</td>\n",
       "    </tr>\n",
       "    <tr>\n",
       "      <th>2</th>\n",
       "      <td>3</td>\n",
       "      <td>1</td>\n",
       "      <td>3</td>\n",
       "      <td>Heikkinen, Miss. Laina</td>\n",
       "      <td>female</td>\n",
       "      <td>26.0</td>\n",
       "      <td>0</td>\n",
       "      <td>0</td>\n",
       "      <td>STON/O2. 3101282</td>\n",
       "      <td>7.9250</td>\n",
       "      <td>NaN</td>\n",
       "      <td>S</td>\n",
       "    </tr>\n",
       "    <tr>\n",
       "      <th>3</th>\n",
       "      <td>4</td>\n",
       "      <td>1</td>\n",
       "      <td>1</td>\n",
       "      <td>Futrelle, Mrs. Jacques Heath (Lily May Peel)</td>\n",
       "      <td>female</td>\n",
       "      <td>35.0</td>\n",
       "      <td>1</td>\n",
       "      <td>0</td>\n",
       "      <td>113803</td>\n",
       "      <td>53.1000</td>\n",
       "      <td>C123</td>\n",
       "      <td>S</td>\n",
       "    </tr>\n",
       "    <tr>\n",
       "      <th>4</th>\n",
       "      <td>5</td>\n",
       "      <td>0</td>\n",
       "      <td>3</td>\n",
       "      <td>Allen, Mr. William Henry</td>\n",
       "      <td>male</td>\n",
       "      <td>35.0</td>\n",
       "      <td>0</td>\n",
       "      <td>0</td>\n",
       "      <td>373450</td>\n",
       "      <td>8.0500</td>\n",
       "      <td>NaN</td>\n",
       "      <td>S</td>\n",
       "    </tr>\n",
       "  </tbody>\n",
       "</table>\n",
       "</div>"
      ],
      "text/plain": [
       "   PassengerId  Survived  Pclass                                               Name     Sex   Age  SibSp  Parch            Ticket     Fare Cabin Embarked\n",
       "0            1         0       3                            Braund, Mr. Owen Harris    male  22.0      1      0         A/5 21171   7.2500   NaN        S\n",
       "1            2         1       1  Cumings, Mrs. John Bradley (Florence Briggs Th...  female  38.0      1      0          PC 17599  71.2833   C85        C\n",
       "2            3         1       3                             Heikkinen, Miss. Laina  female  26.0      0      0  STON/O2. 3101282   7.9250   NaN        S\n",
       "3            4         1       1       Futrelle, Mrs. Jacques Heath (Lily May Peel)  female  35.0      1      0            113803  53.1000  C123        S\n",
       "4            5         0       3                           Allen, Mr. William Henry    male  35.0      0      0            373450   8.0500   NaN        S"
      ]
     },
     "execution_count": 6,
     "metadata": {},
     "output_type": "execute_result"
    }
   ],
   "source": [
    "train_data.head()"
   ]
  },
  {
   "cell_type": "code",
   "execution_count": 7,
   "metadata": {
    "execution": {
     "iopub.execute_input": "2021-03-30T15:10:47.872099Z",
     "iopub.status.busy": "2021-03-30T15:10:47.871343Z",
     "iopub.status.idle": "2021-03-30T15:10:47.875663Z",
     "shell.execute_reply": "2021-03-30T15:10:47.875179Z"
    },
    "papermill": {
     "duration": 0.061493,
     "end_time": "2021-03-30T15:10:47.875777",
     "exception": false,
     "start_time": "2021-03-30T15:10:47.814284",
     "status": "completed"
    },
    "tags": []
   },
   "outputs": [
    {
     "data": {
      "text/html": [
       "<div>\n",
       "<style scoped>\n",
       "    .dataframe tbody tr th:only-of-type {\n",
       "        vertical-align: middle;\n",
       "    }\n",
       "\n",
       "    .dataframe tbody tr th {\n",
       "        vertical-align: top;\n",
       "    }\n",
       "\n",
       "    .dataframe thead th {\n",
       "        text-align: right;\n",
       "    }\n",
       "</style>\n",
       "<table border=\"1\" class=\"dataframe\">\n",
       "  <thead>\n",
       "    <tr style=\"text-align: right;\">\n",
       "      <th></th>\n",
       "      <th>PassengerId</th>\n",
       "      <th>Pclass</th>\n",
       "      <th>Name</th>\n",
       "      <th>Sex</th>\n",
       "      <th>Age</th>\n",
       "      <th>SibSp</th>\n",
       "      <th>Parch</th>\n",
       "      <th>Ticket</th>\n",
       "      <th>Fare</th>\n",
       "      <th>Cabin</th>\n",
       "      <th>Embarked</th>\n",
       "    </tr>\n",
       "  </thead>\n",
       "  <tbody>\n",
       "    <tr>\n",
       "      <th>0</th>\n",
       "      <td>892</td>\n",
       "      <td>3</td>\n",
       "      <td>Kelly, Mr. James</td>\n",
       "      <td>male</td>\n",
       "      <td>34.5</td>\n",
       "      <td>0</td>\n",
       "      <td>0</td>\n",
       "      <td>330911</td>\n",
       "      <td>7.8292</td>\n",
       "      <td>NaN</td>\n",
       "      <td>Q</td>\n",
       "    </tr>\n",
       "    <tr>\n",
       "      <th>1</th>\n",
       "      <td>893</td>\n",
       "      <td>3</td>\n",
       "      <td>Wilkes, Mrs. James (Ellen Needs)</td>\n",
       "      <td>female</td>\n",
       "      <td>47.0</td>\n",
       "      <td>1</td>\n",
       "      <td>0</td>\n",
       "      <td>363272</td>\n",
       "      <td>7.0000</td>\n",
       "      <td>NaN</td>\n",
       "      <td>S</td>\n",
       "    </tr>\n",
       "    <tr>\n",
       "      <th>2</th>\n",
       "      <td>894</td>\n",
       "      <td>2</td>\n",
       "      <td>Myles, Mr. Thomas Francis</td>\n",
       "      <td>male</td>\n",
       "      <td>62.0</td>\n",
       "      <td>0</td>\n",
       "      <td>0</td>\n",
       "      <td>240276</td>\n",
       "      <td>9.6875</td>\n",
       "      <td>NaN</td>\n",
       "      <td>Q</td>\n",
       "    </tr>\n",
       "    <tr>\n",
       "      <th>3</th>\n",
       "      <td>895</td>\n",
       "      <td>3</td>\n",
       "      <td>Wirz, Mr. Albert</td>\n",
       "      <td>male</td>\n",
       "      <td>27.0</td>\n",
       "      <td>0</td>\n",
       "      <td>0</td>\n",
       "      <td>315154</td>\n",
       "      <td>8.6625</td>\n",
       "      <td>NaN</td>\n",
       "      <td>S</td>\n",
       "    </tr>\n",
       "    <tr>\n",
       "      <th>4</th>\n",
       "      <td>896</td>\n",
       "      <td>3</td>\n",
       "      <td>Hirvonen, Mrs. Alexander (Helga E Lindqvist)</td>\n",
       "      <td>female</td>\n",
       "      <td>22.0</td>\n",
       "      <td>1</td>\n",
       "      <td>1</td>\n",
       "      <td>3101298</td>\n",
       "      <td>12.2875</td>\n",
       "      <td>NaN</td>\n",
       "      <td>S</td>\n",
       "    </tr>\n",
       "  </tbody>\n",
       "</table>\n",
       "</div>"
      ],
      "text/plain": [
       "   PassengerId  Pclass                                          Name     Sex   Age  SibSp  Parch   Ticket     Fare Cabin Embarked\n",
       "0          892       3                              Kelly, Mr. James    male  34.5      0      0   330911   7.8292   NaN        Q\n",
       "1          893       3              Wilkes, Mrs. James (Ellen Needs)  female  47.0      1      0   363272   7.0000   NaN        S\n",
       "2          894       2                     Myles, Mr. Thomas Francis    male  62.0      0      0   240276   9.6875   NaN        Q\n",
       "3          895       3                              Wirz, Mr. Albert    male  27.0      0      0   315154   8.6625   NaN        S\n",
       "4          896       3  Hirvonen, Mrs. Alexander (Helga E Lindqvist)  female  22.0      1      1  3101298  12.2875   NaN        S"
      ]
     },
     "execution_count": 7,
     "metadata": {},
     "output_type": "execute_result"
    }
   ],
   "source": [
    "test_data.head()"
   ]
  },
  {
   "cell_type": "code",
   "execution_count": 8,
   "metadata": {
    "execution": {
     "iopub.execute_input": "2021-03-30T15:10:47.970938Z",
     "iopub.status.busy": "2021-03-30T15:10:47.970252Z",
     "iopub.status.idle": "2021-03-30T15:10:47.974164Z",
     "shell.execute_reply": "2021-03-30T15:10:47.973632Z"
    },
    "papermill": {
     "duration": 0.053264,
     "end_time": "2021-03-30T15:10:47.974266",
     "exception": false,
     "start_time": "2021-03-30T15:10:47.921002",
     "status": "completed"
    },
    "tags": []
   },
   "outputs": [
    {
     "data": {
      "text/plain": [
       "46.91358024691358"
      ]
     },
     "execution_count": 8,
     "metadata": {},
     "output_type": "execute_result"
    }
   ],
   "source": [
    "100*len(test_data)/len(train_data)"
   ]
  },
  {
   "cell_type": "code",
   "execution_count": 9,
   "metadata": {
    "execution": {
     "iopub.execute_input": "2021-03-30T15:10:48.069813Z",
     "iopub.status.busy": "2021-03-30T15:10:48.069200Z",
     "iopub.status.idle": "2021-03-30T15:10:48.071959Z",
     "shell.execute_reply": "2021-03-30T15:10:48.072428Z"
    },
    "papermill": {
     "duration": 0.053778,
     "end_time": "2021-03-30T15:10:48.072562",
     "exception": false,
     "start_time": "2021-03-30T15:10:48.018784",
     "status": "completed"
    },
    "tags": []
   },
   "outputs": [
    {
     "data": {
      "text/plain": [
       "((891, 12), (418, 11))"
      ]
     },
     "execution_count": 9,
     "metadata": {},
     "output_type": "execute_result"
    }
   ],
   "source": [
    "train_data.shape, test_data.shape"
   ]
  },
  {
   "cell_type": "markdown",
   "metadata": {
    "papermill": {
     "duration": 0.045312,
     "end_time": "2021-03-30T15:10:48.163338",
     "exception": false,
     "start_time": "2021-03-30T15:10:48.118026",
     "status": "completed"
    },
    "tags": []
   },
   "source": [
    "### Information of dataset"
   ]
  },
  {
   "cell_type": "code",
   "execution_count": 10,
   "metadata": {
    "execution": {
     "iopub.execute_input": "2021-03-30T15:10:48.256676Z",
     "iopub.status.busy": "2021-03-30T15:10:48.256101Z",
     "iopub.status.idle": "2021-03-30T15:10:48.261995Z",
     "shell.execute_reply": "2021-03-30T15:10:48.262467Z"
    },
    "papermill": {
     "duration": 0.054147,
     "end_time": "2021-03-30T15:10:48.262616",
     "exception": false,
     "start_time": "2021-03-30T15:10:48.208469",
     "status": "completed"
    },
    "tags": []
   },
   "outputs": [],
   "source": [
    "def details(df):\n",
    "    missing_values = df.isnull().sum()\n",
    "    missing_perc = 100*df.isnull().sum()/len(df)\n",
    "    data_types = df.dtypes\n",
    "    unique_vlaues = df.nunique()\n",
    "    \n",
    "    table = pd.concat([missing_values,missing_perc,data_types,unique_vlaues], axis=1)\n",
    "    table_columns = table.rename(columns = {0 : 'Missing Values', 1 : '% of Total Missing Values', 2 : 'Data_Types', 3: 'Unique values'})\n",
    "    return table_columns"
   ]
  },
  {
   "cell_type": "code",
   "execution_count": 11,
   "metadata": {
    "execution": {
     "iopub.execute_input": "2021-03-30T15:10:48.360737Z",
     "iopub.status.busy": "2021-03-30T15:10:48.359982Z",
     "iopub.status.idle": "2021-03-30T15:10:48.398242Z",
     "shell.execute_reply": "2021-03-30T15:10:48.397729Z"
    },
    "papermill": {
     "duration": 0.09053,
     "end_time": "2021-03-30T15:10:48.398343",
     "exception": false,
     "start_time": "2021-03-30T15:10:48.307813",
     "status": "completed"
    },
    "tags": []
   },
   "outputs": [
    {
     "data": {
      "text/html": [
       "<div>\n",
       "<style scoped>\n",
       "    .dataframe tbody tr th:only-of-type {\n",
       "        vertical-align: middle;\n",
       "    }\n",
       "\n",
       "    .dataframe tbody tr th {\n",
       "        vertical-align: top;\n",
       "    }\n",
       "\n",
       "    .dataframe thead th {\n",
       "        text-align: right;\n",
       "    }\n",
       "</style>\n",
       "<table border=\"1\" class=\"dataframe\">\n",
       "  <thead>\n",
       "    <tr style=\"text-align: right;\">\n",
       "      <th></th>\n",
       "      <th>Missing Values</th>\n",
       "      <th>% of Total Missing Values</th>\n",
       "      <th>Data_Types</th>\n",
       "      <th>Unique values</th>\n",
       "    </tr>\n",
       "  </thead>\n",
       "  <tbody>\n",
       "    <tr>\n",
       "      <th>PassengerId</th>\n",
       "      <td>0</td>\n",
       "      <td>0.000000</td>\n",
       "      <td>int64</td>\n",
       "      <td>891</td>\n",
       "    </tr>\n",
       "    <tr>\n",
       "      <th>Survived</th>\n",
       "      <td>0</td>\n",
       "      <td>0.000000</td>\n",
       "      <td>int64</td>\n",
       "      <td>2</td>\n",
       "    </tr>\n",
       "    <tr>\n",
       "      <th>Pclass</th>\n",
       "      <td>0</td>\n",
       "      <td>0.000000</td>\n",
       "      <td>int64</td>\n",
       "      <td>3</td>\n",
       "    </tr>\n",
       "    <tr>\n",
       "      <th>Name</th>\n",
       "      <td>0</td>\n",
       "      <td>0.000000</td>\n",
       "      <td>object</td>\n",
       "      <td>891</td>\n",
       "    </tr>\n",
       "    <tr>\n",
       "      <th>Sex</th>\n",
       "      <td>0</td>\n",
       "      <td>0.000000</td>\n",
       "      <td>object</td>\n",
       "      <td>2</td>\n",
       "    </tr>\n",
       "    <tr>\n",
       "      <th>Age</th>\n",
       "      <td>177</td>\n",
       "      <td>19.865320</td>\n",
       "      <td>float64</td>\n",
       "      <td>88</td>\n",
       "    </tr>\n",
       "    <tr>\n",
       "      <th>SibSp</th>\n",
       "      <td>0</td>\n",
       "      <td>0.000000</td>\n",
       "      <td>int64</td>\n",
       "      <td>7</td>\n",
       "    </tr>\n",
       "    <tr>\n",
       "      <th>Parch</th>\n",
       "      <td>0</td>\n",
       "      <td>0.000000</td>\n",
       "      <td>int64</td>\n",
       "      <td>7</td>\n",
       "    </tr>\n",
       "    <tr>\n",
       "      <th>Ticket</th>\n",
       "      <td>0</td>\n",
       "      <td>0.000000</td>\n",
       "      <td>object</td>\n",
       "      <td>681</td>\n",
       "    </tr>\n",
       "    <tr>\n",
       "      <th>Fare</th>\n",
       "      <td>0</td>\n",
       "      <td>0.000000</td>\n",
       "      <td>float64</td>\n",
       "      <td>248</td>\n",
       "    </tr>\n",
       "    <tr>\n",
       "      <th>Cabin</th>\n",
       "      <td>687</td>\n",
       "      <td>77.104377</td>\n",
       "      <td>object</td>\n",
       "      <td>147</td>\n",
       "    </tr>\n",
       "    <tr>\n",
       "      <th>Embarked</th>\n",
       "      <td>2</td>\n",
       "      <td>0.224467</td>\n",
       "      <td>object</td>\n",
       "      <td>3</td>\n",
       "    </tr>\n",
       "  </tbody>\n",
       "</table>\n",
       "</div>"
      ],
      "text/plain": [
       "             Missing Values  % of Total Missing Values Data_Types  Unique values\n",
       "PassengerId               0                   0.000000      int64            891\n",
       "Survived                  0                   0.000000      int64              2\n",
       "Pclass                    0                   0.000000      int64              3\n",
       "Name                      0                   0.000000     object            891\n",
       "Sex                       0                   0.000000     object              2\n",
       "Age                     177                  19.865320    float64             88\n",
       "SibSp                     0                   0.000000      int64              7\n",
       "Parch                     0                   0.000000      int64              7\n",
       "Ticket                    0                   0.000000     object            681\n",
       "Fare                      0                   0.000000    float64            248\n",
       "Cabin                   687                  77.104377     object            147\n",
       "Embarked                  2                   0.224467     object              3"
      ]
     },
     "execution_count": 11,
     "metadata": {},
     "output_type": "execute_result"
    }
   ],
   "source": [
    "details(train_data)"
   ]
  },
  {
   "cell_type": "code",
   "execution_count": 12,
   "metadata": {
    "execution": {
     "iopub.execute_input": "2021-03-30T15:10:48.493222Z",
     "iopub.status.busy": "2021-03-30T15:10:48.492342Z",
     "iopub.status.idle": "2021-03-30T15:10:48.508689Z",
     "shell.execute_reply": "2021-03-30T15:10:48.509094Z"
    },
    "papermill": {
     "duration": 0.065251,
     "end_time": "2021-03-30T15:10:48.509237",
     "exception": false,
     "start_time": "2021-03-30T15:10:48.443986",
     "status": "completed"
    },
    "tags": []
   },
   "outputs": [
    {
     "data": {
      "text/html": [
       "<div>\n",
       "<style scoped>\n",
       "    .dataframe tbody tr th:only-of-type {\n",
       "        vertical-align: middle;\n",
       "    }\n",
       "\n",
       "    .dataframe tbody tr th {\n",
       "        vertical-align: top;\n",
       "    }\n",
       "\n",
       "    .dataframe thead th {\n",
       "        text-align: right;\n",
       "    }\n",
       "</style>\n",
       "<table border=\"1\" class=\"dataframe\">\n",
       "  <thead>\n",
       "    <tr style=\"text-align: right;\">\n",
       "      <th></th>\n",
       "      <th>Missing Values</th>\n",
       "      <th>% of Total Missing Values</th>\n",
       "      <th>Data_Types</th>\n",
       "      <th>Unique values</th>\n",
       "    </tr>\n",
       "  </thead>\n",
       "  <tbody>\n",
       "    <tr>\n",
       "      <th>PassengerId</th>\n",
       "      <td>0</td>\n",
       "      <td>0.000000</td>\n",
       "      <td>int64</td>\n",
       "      <td>418</td>\n",
       "    </tr>\n",
       "    <tr>\n",
       "      <th>Pclass</th>\n",
       "      <td>0</td>\n",
       "      <td>0.000000</td>\n",
       "      <td>int64</td>\n",
       "      <td>3</td>\n",
       "    </tr>\n",
       "    <tr>\n",
       "      <th>Name</th>\n",
       "      <td>0</td>\n",
       "      <td>0.000000</td>\n",
       "      <td>object</td>\n",
       "      <td>418</td>\n",
       "    </tr>\n",
       "    <tr>\n",
       "      <th>Sex</th>\n",
       "      <td>0</td>\n",
       "      <td>0.000000</td>\n",
       "      <td>object</td>\n",
       "      <td>2</td>\n",
       "    </tr>\n",
       "    <tr>\n",
       "      <th>Age</th>\n",
       "      <td>86</td>\n",
       "      <td>20.574163</td>\n",
       "      <td>float64</td>\n",
       "      <td>79</td>\n",
       "    </tr>\n",
       "    <tr>\n",
       "      <th>SibSp</th>\n",
       "      <td>0</td>\n",
       "      <td>0.000000</td>\n",
       "      <td>int64</td>\n",
       "      <td>7</td>\n",
       "    </tr>\n",
       "    <tr>\n",
       "      <th>Parch</th>\n",
       "      <td>0</td>\n",
       "      <td>0.000000</td>\n",
       "      <td>int64</td>\n",
       "      <td>8</td>\n",
       "    </tr>\n",
       "    <tr>\n",
       "      <th>Ticket</th>\n",
       "      <td>0</td>\n",
       "      <td>0.000000</td>\n",
       "      <td>object</td>\n",
       "      <td>363</td>\n",
       "    </tr>\n",
       "    <tr>\n",
       "      <th>Fare</th>\n",
       "      <td>1</td>\n",
       "      <td>0.239234</td>\n",
       "      <td>float64</td>\n",
       "      <td>169</td>\n",
       "    </tr>\n",
       "    <tr>\n",
       "      <th>Cabin</th>\n",
       "      <td>327</td>\n",
       "      <td>78.229665</td>\n",
       "      <td>object</td>\n",
       "      <td>76</td>\n",
       "    </tr>\n",
       "    <tr>\n",
       "      <th>Embarked</th>\n",
       "      <td>0</td>\n",
       "      <td>0.000000</td>\n",
       "      <td>object</td>\n",
       "      <td>3</td>\n",
       "    </tr>\n",
       "  </tbody>\n",
       "</table>\n",
       "</div>"
      ],
      "text/plain": [
       "             Missing Values  % of Total Missing Values Data_Types  Unique values\n",
       "PassengerId               0                   0.000000      int64            418\n",
       "Pclass                    0                   0.000000      int64              3\n",
       "Name                      0                   0.000000     object            418\n",
       "Sex                       0                   0.000000     object              2\n",
       "Age                      86                  20.574163    float64             79\n",
       "SibSp                     0                   0.000000      int64              7\n",
       "Parch                     0                   0.000000      int64              8\n",
       "Ticket                    0                   0.000000     object            363\n",
       "Fare                      1                   0.239234    float64            169\n",
       "Cabin                   327                  78.229665     object             76\n",
       "Embarked                  0                   0.000000     object              3"
      ]
     },
     "execution_count": 12,
     "metadata": {},
     "output_type": "execute_result"
    }
   ],
   "source": [
    "details(test_data)"
   ]
  },
  {
   "cell_type": "markdown",
   "metadata": {
    "papermill": {
     "duration": 0.056733,
     "end_time": "2021-03-30T15:10:48.613170",
     "exception": false,
     "start_time": "2021-03-30T15:10:48.556437",
     "status": "completed"
    },
    "tags": []
   },
   "source": [
    "### Balance of Data"
   ]
  },
  {
   "cell_type": "code",
   "execution_count": 13,
   "metadata": {
    "execution": {
     "iopub.execute_input": "2021-03-30T15:10:48.725741Z",
     "iopub.status.busy": "2021-03-30T15:10:48.724845Z",
     "iopub.status.idle": "2021-03-30T15:10:48.731860Z",
     "shell.execute_reply": "2021-03-30T15:10:48.732589Z"
    },
    "papermill": {
     "duration": 0.066988,
     "end_time": "2021-03-30T15:10:48.732780",
     "exception": false,
     "start_time": "2021-03-30T15:10:48.665792",
     "status": "completed"
    },
    "tags": []
   },
   "outputs": [
    {
     "data": {
      "text/plain": [
       "0    61.616162\n",
       "1    38.383838\n",
       "Name: Survived, dtype: float64"
      ]
     },
     "execution_count": 13,
     "metadata": {},
     "output_type": "execute_result"
    }
   ],
   "source": [
    "100*train_data['Survived'].value_counts(normalize=True)"
   ]
  },
  {
   "cell_type": "code",
   "execution_count": 14,
   "metadata": {
    "execution": {
     "iopub.execute_input": "2021-03-30T15:10:48.839586Z",
     "iopub.status.busy": "2021-03-30T15:10:48.838608Z",
     "iopub.status.idle": "2021-03-30T15:10:49.007155Z",
     "shell.execute_reply": "2021-03-30T15:10:49.007694Z"
    },
    "papermill": {
     "duration": 0.224643,
     "end_time": "2021-03-30T15:10:49.007843",
     "exception": false,
     "start_time": "2021-03-30T15:10:48.783200",
     "status": "completed"
    },
    "tags": []
   },
   "outputs": [
    {
     "data": {
      "image/png": "[encoded data removed]",
      "text/plain": [
       "<Figure size 432x288 with 1 Axes>"
      ]
     },
     "metadata": {
      "needs_background": "light"
     },
     "output_type": "display_data"
    }
   ],
   "source": [
    "round(100*train_data['Survived'].value_counts(normalize=True),2).plot(kind='bar', figsize=(6,4))\n",
    "plt.show()"
   ]
  },
  {
   "cell_type": "markdown",
   "metadata": {
    "papermill": {
     "duration": 0.05785,
     "end_time": "2021-03-30T15:10:49.114006",
     "exception": false,
     "start_time": "2021-03-30T15:10:49.056156",
     "status": "completed"
    },
    "tags": []
   },
   "source": [
    "### Male vs Female Surviours"
   ]
  },
  {
   "cell_type": "code",
   "execution_count": 15,
   "metadata": {
    "execution": {
     "iopub.execute_input": "2021-03-30T15:10:49.214901Z",
     "iopub.status.busy": "2021-03-30T15:10:49.213960Z",
     "iopub.status.idle": "2021-03-30T15:10:49.221205Z",
     "shell.execute_reply": "2021-03-30T15:10:49.221778Z"
    },
    "papermill": {
     "duration": 0.058273,
     "end_time": "2021-03-30T15:10:49.221916",
     "exception": false,
     "start_time": "2021-03-30T15:10:49.163643",
     "status": "completed"
    },
    "tags": []
   },
   "outputs": [
    {
     "name": "stdout",
     "output_type": "stream",
     "text": [
      "% of women who survived: 0.7420382165605095\n"
     ]
    }
   ],
   "source": [
    "women = train_data.loc[train_data.Sex == 'female'][\"Survived\"]\n",
    "rate_women = sum(women)/len(women)\n",
    "\n",
    "print(\"% of women who survived:\", rate_women)"
   ]
  },
  {
   "cell_type": "code",
   "execution_count": 16,
   "metadata": {
    "execution": {
     "iopub.execute_input": "2021-03-30T15:10:49.321127Z",
     "iopub.status.busy": "2021-03-30T15:10:49.320207Z",
     "iopub.status.idle": "2021-03-30T15:10:49.329955Z",
     "shell.execute_reply": "2021-03-30T15:10:49.329342Z"
    },
    "papermill": {
     "duration": 0.060532,
     "end_time": "2021-03-30T15:10:49.330062",
     "exception": false,
     "start_time": "2021-03-30T15:10:49.269530",
     "status": "completed"
    },
    "tags": []
   },
   "outputs": [
    {
     "name": "stdout",
     "output_type": "stream",
     "text": [
      "% of men who survived: 0.18890814558058924\n"
     ]
    }
   ],
   "source": [
    "men = train_data.loc[train_data.Sex == 'male'][\"Survived\"]\n",
    "rate_men = sum(men)/len(men)\n",
    "\n",
    "print(\"% of men who survived:\", rate_men)"
   ]
  },
  {
   "cell_type": "code",
   "execution_count": 17,
   "metadata": {
    "execution": {
     "iopub.execute_input": "2021-03-30T15:10:49.433920Z",
     "iopub.status.busy": "2021-03-30T15:10:49.433250Z",
     "iopub.status.idle": "2021-03-30T15:10:49.464105Z",
     "shell.execute_reply": "2021-03-30T15:10:49.463599Z"
    },
    "papermill": {
     "duration": 0.081755,
     "end_time": "2021-03-30T15:10:49.464215",
     "exception": false,
     "start_time": "2021-03-30T15:10:49.382460",
     "status": "completed"
    },
    "tags": []
   },
   "outputs": [
    {
     "data": {
      "text/html": [
       "<div>\n",
       "<style scoped>\n",
       "    .dataframe tbody tr th:only-of-type {\n",
       "        vertical-align: middle;\n",
       "    }\n",
       "\n",
       "    .dataframe tbody tr th {\n",
       "        vertical-align: top;\n",
       "    }\n",
       "\n",
       "    .dataframe thead th {\n",
       "        text-align: right;\n",
       "    }\n",
       "</style>\n",
       "<table border=\"1\" class=\"dataframe\">\n",
       "  <thead>\n",
       "    <tr style=\"text-align: right;\">\n",
       "      <th></th>\n",
       "      <th>PassengerId</th>\n",
       "      <th>Survived</th>\n",
       "      <th>Pclass</th>\n",
       "      <th>Age</th>\n",
       "      <th>SibSp</th>\n",
       "      <th>Parch</th>\n",
       "      <th>Fare</th>\n",
       "    </tr>\n",
       "  </thead>\n",
       "  <tbody>\n",
       "    <tr>\n",
       "      <th>count</th>\n",
       "      <td>891.000000</td>\n",
       "      <td>891.000000</td>\n",
       "      <td>891.000000</td>\n",
       "      <td>714.000000</td>\n",
       "      <td>891.000000</td>\n",
       "      <td>891.000000</td>\n",
       "      <td>891.000000</td>\n",
       "    </tr>\n",
       "    <tr>\n",
       "      <th>mean</th>\n",
       "      <td>446.000000</td>\n",
       "      <td>0.383838</td>\n",
       "      <td>2.308642</td>\n",
       "      <td>29.699118</td>\n",
       "      <td>0.523008</td>\n",
       "      <td>0.381594</td>\n",
       "      <td>32.204208</td>\n",
       "    </tr>\n",
       "    <tr>\n",
       "      <th>std</th>\n",
       "      <td>257.353842</td>\n",
       "      <td>0.486592</td>\n",
       "      <td>0.836071</td>\n",
       "      <td>14.526497</td>\n",
       "      <td>1.102743</td>\n",
       "      <td>0.806057</td>\n",
       "      <td>49.693429</td>\n",
       "    </tr>\n",
       "    <tr>\n",
       "      <th>min</th>\n",
       "      <td>1.000000</td>\n",
       "      <td>0.000000</td>\n",
       "      <td>1.000000</td>\n",
       "      <td>0.420000</td>\n",
       "      <td>0.000000</td>\n",
       "      <td>0.000000</td>\n",
       "      <td>0.000000</td>\n",
       "    </tr>\n",
       "    <tr>\n",
       "      <th>1%</th>\n",
       "      <td>9.900000</td>\n",
       "      <td>0.000000</td>\n",
       "      <td>1.000000</td>\n",
       "      <td>1.000000</td>\n",
       "      <td>0.000000</td>\n",
       "      <td>0.000000</td>\n",
       "      <td>0.000000</td>\n",
       "    </tr>\n",
       "    <tr>\n",
       "      <th>10%</th>\n",
       "      <td>90.000000</td>\n",
       "      <td>0.000000</td>\n",
       "      <td>1.000000</td>\n",
       "      <td>14.000000</td>\n",
       "      <td>0.000000</td>\n",
       "      <td>0.000000</td>\n",
       "      <td>7.550000</td>\n",
       "    </tr>\n",
       "    <tr>\n",
       "      <th>25%</th>\n",
       "      <td>223.500000</td>\n",
       "      <td>0.000000</td>\n",
       "      <td>2.000000</td>\n",
       "      <td>20.125000</td>\n",
       "      <td>0.000000</td>\n",
       "      <td>0.000000</td>\n",
       "      <td>7.910400</td>\n",
       "    </tr>\n",
       "    <tr>\n",
       "      <th>50%</th>\n",
       "      <td>446.000000</td>\n",
       "      <td>0.000000</td>\n",
       "      <td>3.000000</td>\n",
       "      <td>28.000000</td>\n",
       "      <td>0.000000</td>\n",
       "      <td>0.000000</td>\n",
       "      <td>14.454200</td>\n",
       "    </tr>\n",
       "    <tr>\n",
       "      <th>75%</th>\n",
       "      <td>668.500000</td>\n",
       "      <td>1.000000</td>\n",
       "      <td>3.000000</td>\n",
       "      <td>38.000000</td>\n",
       "      <td>1.000000</td>\n",
       "      <td>0.000000</td>\n",
       "      <td>31.000000</td>\n",
       "    </tr>\n",
       "    <tr>\n",
       "      <th>90%</th>\n",
       "      <td>802.000000</td>\n",
       "      <td>1.000000</td>\n",
       "      <td>3.000000</td>\n",
       "      <td>50.000000</td>\n",
       "      <td>1.000000</td>\n",
       "      <td>2.000000</td>\n",
       "      <td>77.958300</td>\n",
       "    </tr>\n",
       "    <tr>\n",
       "      <th>95%</th>\n",
       "      <td>846.500000</td>\n",
       "      <td>1.000000</td>\n",
       "      <td>3.000000</td>\n",
       "      <td>56.000000</td>\n",
       "      <td>3.000000</td>\n",
       "      <td>2.000000</td>\n",
       "      <td>112.079150</td>\n",
       "    </tr>\n",
       "    <tr>\n",
       "      <th>99%</th>\n",
       "      <td>882.100000</td>\n",
       "      <td>1.000000</td>\n",
       "      <td>3.000000</td>\n",
       "      <td>65.870000</td>\n",
       "      <td>5.000000</td>\n",
       "      <td>4.000000</td>\n",
       "      <td>249.006220</td>\n",
       "    </tr>\n",
       "    <tr>\n",
       "      <th>max</th>\n",
       "      <td>891.000000</td>\n",
       "      <td>1.000000</td>\n",
       "      <td>3.000000</td>\n",
       "      <td>80.000000</td>\n",
       "      <td>8.000000</td>\n",
       "      <td>6.000000</td>\n",
       "      <td>512.329200</td>\n",
       "    </tr>\n",
       "  </tbody>\n",
       "</table>\n",
       "</div>"
      ],
      "text/plain": [
       "       PassengerId    Survived      Pclass         Age       SibSp       Parch        Fare\n",
       "count   891.000000  891.000000  891.000000  714.000000  891.000000  891.000000  891.000000\n",
       "mean    446.000000    0.383838    2.308642   29.699118    0.523008    0.381594   32.204208\n",
       "std     257.353842    0.486592    0.836071   14.526497    1.102743    0.806057   49.693429\n",
       "min       1.000000    0.000000    1.000000    0.420000    0.000000    0.000000    0.000000\n",
       "1%        9.900000    0.000000    1.000000    1.000000    0.000000    0.000000    0.000000\n",
       "10%      90.000000    0.000000    1.000000   14.000000    0.000000    0.000000    7.550000\n",
       "25%     223.500000    0.000000    2.000000   20.125000    0.000000    0.000000    7.910400\n",
       "50%     446.000000    0.000000    3.000000   28.000000    0.000000    0.000000   14.454200\n",
       "75%     668.500000    1.000000    3.000000   38.000000    1.000000    0.000000   31.000000\n",
       "90%     802.000000    1.000000    3.000000   50.000000    1.000000    2.000000   77.958300\n",
       "95%     846.500000    1.000000    3.000000   56.000000    3.000000    2.000000  112.079150\n",
       "99%     882.100000    1.000000    3.000000   65.870000    5.000000    4.000000  249.006220\n",
       "max     891.000000    1.000000    3.000000   80.000000    8.000000    6.000000  512.329200"
      ]
     },
     "execution_count": 17,
     "metadata": {},
     "output_type": "execute_result"
    }
   ],
   "source": [
    "train_data.describe(percentiles=[0.01,0.1,0.25,0.5,0.75,0.9,0.95,0.99])"
   ]
  },
  {
   "cell_type": "code",
   "execution_count": 18,
   "metadata": {
    "execution": {
     "iopub.execute_input": "2021-03-30T15:10:49.570188Z",
     "iopub.status.busy": "2021-03-30T15:10:49.568590Z",
     "iopub.status.idle": "2021-03-30T15:10:49.591571Z",
     "shell.execute_reply": "2021-03-30T15:10:49.591974Z"
    },
    "papermill": {
     "duration": 0.079183,
     "end_time": "2021-03-30T15:10:49.592107",
     "exception": false,
     "start_time": "2021-03-30T15:10:49.512924",
     "status": "completed"
    },
    "tags": []
   },
   "outputs": [
    {
     "data": {
      "text/html": [
       "<div>\n",
       "<style scoped>\n",
       "    .dataframe tbody tr th:only-of-type {\n",
       "        vertical-align: middle;\n",
       "    }\n",
       "\n",
       "    .dataframe tbody tr th {\n",
       "        vertical-align: top;\n",
       "    }\n",
       "\n",
       "    .dataframe thead th {\n",
       "        text-align: right;\n",
       "    }\n",
       "</style>\n",
       "<table border=\"1\" class=\"dataframe\">\n",
       "  <thead>\n",
       "    <tr style=\"text-align: right;\">\n",
       "      <th></th>\n",
       "      <th>PassengerId</th>\n",
       "      <th>Pclass</th>\n",
       "      <th>Age</th>\n",
       "      <th>SibSp</th>\n",
       "      <th>Parch</th>\n",
       "      <th>Fare</th>\n",
       "    </tr>\n",
       "  </thead>\n",
       "  <tbody>\n",
       "    <tr>\n",
       "      <th>count</th>\n",
       "      <td>418.000000</td>\n",
       "      <td>418.000000</td>\n",
       "      <td>332.000000</td>\n",
       "      <td>418.000000</td>\n",
       "      <td>418.000000</td>\n",
       "      <td>417.000000</td>\n",
       "    </tr>\n",
       "    <tr>\n",
       "      <th>mean</th>\n",
       "      <td>1100.500000</td>\n",
       "      <td>2.265550</td>\n",
       "      <td>30.272590</td>\n",
       "      <td>0.447368</td>\n",
       "      <td>0.392344</td>\n",
       "      <td>35.627188</td>\n",
       "    </tr>\n",
       "    <tr>\n",
       "      <th>std</th>\n",
       "      <td>120.810458</td>\n",
       "      <td>0.841838</td>\n",
       "      <td>14.181209</td>\n",
       "      <td>0.896760</td>\n",
       "      <td>0.981429</td>\n",
       "      <td>55.907576</td>\n",
       "    </tr>\n",
       "    <tr>\n",
       "      <th>min</th>\n",
       "      <td>892.000000</td>\n",
       "      <td>1.000000</td>\n",
       "      <td>0.170000</td>\n",
       "      <td>0.000000</td>\n",
       "      <td>0.000000</td>\n",
       "      <td>0.000000</td>\n",
       "    </tr>\n",
       "    <tr>\n",
       "      <th>1%</th>\n",
       "      <td>896.170000</td>\n",
       "      <td>1.000000</td>\n",
       "      <td>0.857900</td>\n",
       "      <td>0.000000</td>\n",
       "      <td>0.000000</td>\n",
       "      <td>6.446828</td>\n",
       "    </tr>\n",
       "    <tr>\n",
       "      <th>10%</th>\n",
       "      <td>933.700000</td>\n",
       "      <td>1.000000</td>\n",
       "      <td>16.100000</td>\n",
       "      <td>0.000000</td>\n",
       "      <td>0.000000</td>\n",
       "      <td>7.641680</td>\n",
       "    </tr>\n",
       "    <tr>\n",
       "      <th>25%</th>\n",
       "      <td>996.250000</td>\n",
       "      <td>1.000000</td>\n",
       "      <td>21.000000</td>\n",
       "      <td>0.000000</td>\n",
       "      <td>0.000000</td>\n",
       "      <td>7.895800</td>\n",
       "    </tr>\n",
       "    <tr>\n",
       "      <th>50%</th>\n",
       "      <td>1100.500000</td>\n",
       "      <td>3.000000</td>\n",
       "      <td>27.000000</td>\n",
       "      <td>0.000000</td>\n",
       "      <td>0.000000</td>\n",
       "      <td>14.454200</td>\n",
       "    </tr>\n",
       "    <tr>\n",
       "      <th>75%</th>\n",
       "      <td>1204.750000</td>\n",
       "      <td>3.000000</td>\n",
       "      <td>39.000000</td>\n",
       "      <td>1.000000</td>\n",
       "      <td>0.000000</td>\n",
       "      <td>31.500000</td>\n",
       "    </tr>\n",
       "    <tr>\n",
       "      <th>90%</th>\n",
       "      <td>1267.300000</td>\n",
       "      <td>3.000000</td>\n",
       "      <td>50.000000</td>\n",
       "      <td>1.000000</td>\n",
       "      <td>1.300000</td>\n",
       "      <td>79.200000</td>\n",
       "    </tr>\n",
       "    <tr>\n",
       "      <th>95%</th>\n",
       "      <td>1288.150000</td>\n",
       "      <td>3.000000</td>\n",
       "      <td>57.000000</td>\n",
       "      <td>2.000000</td>\n",
       "      <td>2.000000</td>\n",
       "      <td>151.550000</td>\n",
       "    </tr>\n",
       "    <tr>\n",
       "      <th>99%</th>\n",
       "      <td>1304.830000</td>\n",
       "      <td>3.000000</td>\n",
       "      <td>64.000000</td>\n",
       "      <td>4.000000</td>\n",
       "      <td>4.000000</td>\n",
       "      <td>262.375000</td>\n",
       "    </tr>\n",
       "    <tr>\n",
       "      <th>max</th>\n",
       "      <td>1309.000000</td>\n",
       "      <td>3.000000</td>\n",
       "      <td>76.000000</td>\n",
       "      <td>8.000000</td>\n",
       "      <td>9.000000</td>\n",
       "      <td>512.329200</td>\n",
       "    </tr>\n",
       "  </tbody>\n",
       "</table>\n",
       "</div>"
      ],
      "text/plain": [
       "       PassengerId      Pclass         Age       SibSp       Parch        Fare\n",
       "count   418.000000  418.000000  332.000000  418.000000  418.000000  417.000000\n",
       "mean   1100.500000    2.265550   30.272590    0.447368    0.392344   35.627188\n",
       "std     120.810458    0.841838   14.181209    0.896760    0.981429   55.907576\n",
       "min     892.000000    1.000000    0.170000    0.000000    0.000000    0.000000\n",
       "1%      896.170000    1.000000    0.857900    0.000000    0.000000    6.446828\n",
       "10%     933.700000    1.000000   16.100000    0.000000    0.000000    7.641680\n",
       "25%     996.250000    1.000000   21.000000    0.000000    0.000000    7.895800\n",
       "50%    1100.500000    3.000000   27.000000    0.000000    0.000000   14.454200\n",
       "75%    1204.750000    3.000000   39.000000    1.000000    0.000000   31.500000\n",
       "90%    1267.300000    3.000000   50.000000    1.000000    1.300000   79.200000\n",
       "95%    1288.150000    3.000000   57.000000    2.000000    2.000000  151.550000\n",
       "99%    1304.830000    3.000000   64.000000    4.000000    4.000000  262.375000\n",
       "max    1309.000000    3.000000   76.000000    8.000000    9.000000  512.329200"
      ]
     },
     "execution_count": 18,
     "metadata": {},
     "output_type": "execute_result"
    }
   ],
   "source": [
    "test_data.describe(percentiles=[0.01,0.1,0.25,0.5,0.75,0.9,0.95,0.99])"
   ]
  },
  {
   "cell_type": "markdown",
   "metadata": {
    "papermill": {
     "duration": 0.049869,
     "end_time": "2021-03-30T15:10:49.691445",
     "exception": false,
     "start_time": "2021-03-30T15:10:49.641576",
     "status": "completed"
    },
    "tags": []
   },
   "source": [
    "### Dropping cabin column from both train and test dataset"
   ]
  },
  {
   "cell_type": "code",
   "execution_count": 19,
   "metadata": {
    "execution": {
     "iopub.execute_input": "2021-03-30T15:10:49.807243Z",
     "iopub.status.busy": "2021-03-30T15:10:49.806643Z",
     "iopub.status.idle": "2021-03-30T15:10:49.810517Z",
     "shell.execute_reply": "2021-03-30T15:10:49.810039Z"
    },
    "papermill": {
     "duration": 0.069759,
     "end_time": "2021-03-30T15:10:49.810623",
     "exception": false,
     "start_time": "2021-03-30T15:10:49.740864",
     "status": "completed"
    },
    "tags": []
   },
   "outputs": [
    {
     "data": {
      "text/html": [
       "<div>\n",
       "<style scoped>\n",
       "    .dataframe tbody tr th:only-of-type {\n",
       "        vertical-align: middle;\n",
       "    }\n",
       "\n",
       "    .dataframe tbody tr th {\n",
       "        vertical-align: top;\n",
       "    }\n",
       "\n",
       "    .dataframe thead th {\n",
       "        text-align: right;\n",
       "    }\n",
       "</style>\n",
       "<table border=\"1\" class=\"dataframe\">\n",
       "  <thead>\n",
       "    <tr style=\"text-align: right;\">\n",
       "      <th></th>\n",
       "      <th>PassengerId</th>\n",
       "      <th>Survived</th>\n",
       "      <th>Pclass</th>\n",
       "      <th>Name</th>\n",
       "      <th>Sex</th>\n",
       "      <th>Age</th>\n",
       "      <th>SibSp</th>\n",
       "      <th>Parch</th>\n",
       "      <th>Ticket</th>\n",
       "      <th>Fare</th>\n",
       "      <th>Embarked</th>\n",
       "    </tr>\n",
       "  </thead>\n",
       "  <tbody>\n",
       "    <tr>\n",
       "      <th>0</th>\n",
       "      <td>1</td>\n",
       "      <td>0</td>\n",
       "      <td>3</td>\n",
       "      <td>Braund, Mr. Owen Harris</td>\n",
       "      <td>male</td>\n",
       "      <td>22.0</td>\n",
       "      <td>1</td>\n",
       "      <td>0</td>\n",
       "      <td>A/5 21171</td>\n",
       "      <td>7.2500</td>\n",
       "      <td>S</td>\n",
       "    </tr>\n",
       "    <tr>\n",
       "      <th>1</th>\n",
       "      <td>2</td>\n",
       "      <td>1</td>\n",
       "      <td>1</td>\n",
       "      <td>Cumings, Mrs. John Bradley (Florence Briggs Th...</td>\n",
       "      <td>female</td>\n",
       "      <td>38.0</td>\n",
       "      <td>1</td>\n",
       "      <td>0</td>\n",
       "      <td>PC 17599</td>\n",
       "      <td>71.2833</td>\n",
       "      <td>C</td>\n",
       "    </tr>\n",
       "    <tr>\n",
       "      <th>2</th>\n",
       "      <td>3</td>\n",
       "      <td>1</td>\n",
       "      <td>3</td>\n",
       "      <td>Heikkinen, Miss. Laina</td>\n",
       "      <td>female</td>\n",
       "      <td>26.0</td>\n",
       "      <td>0</td>\n",
       "      <td>0</td>\n",
       "      <td>STON/O2. 3101282</td>\n",
       "      <td>7.9250</td>\n",
       "      <td>S</td>\n",
       "    </tr>\n",
       "    <tr>\n",
       "      <th>3</th>\n",
       "      <td>4</td>\n",
       "      <td>1</td>\n",
       "      <td>1</td>\n",
       "      <td>Futrelle, Mrs. Jacques Heath (Lily May Peel)</td>\n",
       "      <td>female</td>\n",
       "      <td>35.0</td>\n",
       "      <td>1</td>\n",
       "      <td>0</td>\n",
       "      <td>113803</td>\n",
       "      <td>53.1000</td>\n",
       "      <td>S</td>\n",
       "    </tr>\n",
       "    <tr>\n",
       "      <th>4</th>\n",
       "      <td>5</td>\n",
       "      <td>0</td>\n",
       "      <td>3</td>\n",
       "      <td>Allen, Mr. William Henry</td>\n",
       "      <td>male</td>\n",
       "      <td>35.0</td>\n",
       "      <td>0</td>\n",
       "      <td>0</td>\n",
       "      <td>373450</td>\n",
       "      <td>8.0500</td>\n",
       "      <td>S</td>\n",
       "    </tr>\n",
       "  </tbody>\n",
       "</table>\n",
       "</div>"
      ],
      "text/plain": [
       "   PassengerId  Survived  Pclass                                               Name     Sex   Age  SibSp  Parch            Ticket     Fare Embarked\n",
       "0            1         0       3                            Braund, Mr. Owen Harris    male  22.0      1      0         A/5 21171   7.2500        S\n",
       "1            2         1       1  Cumings, Mrs. John Bradley (Florence Briggs Th...  female  38.0      1      0          PC 17599  71.2833        C\n",
       "2            3         1       3                             Heikkinen, Miss. Laina  female  26.0      0      0  STON/O2. 3101282   7.9250        S\n",
       "3            4         1       1       Futrelle, Mrs. Jacques Heath (Lily May Peel)  female  35.0      1      0            113803  53.1000        S\n",
       "4            5         0       3                           Allen, Mr. William Henry    male  35.0      0      0            373450   8.0500        S"
      ]
     },
     "execution_count": 19,
     "metadata": {},
     "output_type": "execute_result"
    }
   ],
   "source": [
    "train_data.drop('Cabin', axis=1, inplace=True)\n",
    "train_data.head()"
   ]
  },
  {
   "cell_type": "code",
   "execution_count": 20,
   "metadata": {
    "execution": {
     "iopub.execute_input": "2021-03-30T15:10:49.920029Z",
     "iopub.status.busy": "2021-03-30T15:10:49.917141Z",
     "iopub.status.idle": "2021-03-30T15:10:49.929138Z",
     "shell.execute_reply": "2021-03-30T15:10:49.928672Z"
    },
    "papermill": {
     "duration": 0.068164,
     "end_time": "2021-03-30T15:10:49.929249",
     "exception": false,
     "start_time": "2021-03-30T15:10:49.861085",
     "status": "completed"
    },
    "tags": []
   },
   "outputs": [
    {
     "data": {
      "text/html": [
       "<div>\n",
       "<style scoped>\n",
       "    .dataframe tbody tr th:only-of-type {\n",
       "        vertical-align: middle;\n",
       "    }\n",
       "\n",
       "    .dataframe tbody tr th {\n",
       "        vertical-align: top;\n",
       "    }\n",
       "\n",
       "    .dataframe thead th {\n",
       "        text-align: right;\n",
       "    }\n",
       "</style>\n",
       "<table border=\"1\" class=\"dataframe\">\n",
       "  <thead>\n",
       "    <tr style=\"text-align: right;\">\n",
       "      <th></th>\n",
       "      <th>PassengerId</th>\n",
       "      <th>Pclass</th>\n",
       "      <th>Name</th>\n",
       "      <th>Sex</th>\n",
       "      <th>Age</th>\n",
       "      <th>SibSp</th>\n",
       "      <th>Parch</th>\n",
       "      <th>Ticket</th>\n",
       "      <th>Fare</th>\n",
       "      <th>Embarked</th>\n",
       "    </tr>\n",
       "  </thead>\n",
       "  <tbody>\n",
       "    <tr>\n",
       "      <th>0</th>\n",
       "      <td>892</td>\n",
       "      <td>3</td>\n",
       "      <td>Kelly, Mr. James</td>\n",
       "      <td>male</td>\n",
       "      <td>34.5</td>\n",
       "      <td>0</td>\n",
       "      <td>0</td>\n",
       "      <td>330911</td>\n",
       "      <td>7.8292</td>\n",
       "      <td>Q</td>\n",
       "    </tr>\n",
       "    <tr>\n",
       "      <th>1</th>\n",
       "      <td>893</td>\n",
       "      <td>3</td>\n",
       "      <td>Wilkes, Mrs. James (Ellen Needs)</td>\n",
       "      <td>female</td>\n",
       "      <td>47.0</td>\n",
       "      <td>1</td>\n",
       "      <td>0</td>\n",
       "      <td>363272</td>\n",
       "      <td>7.0000</td>\n",
       "      <td>S</td>\n",
       "    </tr>\n",
       "    <tr>\n",
       "      <th>2</th>\n",
       "      <td>894</td>\n",
       "      <td>2</td>\n",
       "      <td>Myles, Mr. Thomas Francis</td>\n",
       "      <td>male</td>\n",
       "      <td>62.0</td>\n",
       "      <td>0</td>\n",
       "      <td>0</td>\n",
       "      <td>240276</td>\n",
       "      <td>9.6875</td>\n",
       "      <td>Q</td>\n",
       "    </tr>\n",
       "    <tr>\n",
       "      <th>3</th>\n",
       "      <td>895</td>\n",
       "      <td>3</td>\n",
       "      <td>Wirz, Mr. Albert</td>\n",
       "      <td>male</td>\n",
       "      <td>27.0</td>\n",
       "      <td>0</td>\n",
       "      <td>0</td>\n",
       "      <td>315154</td>\n",
       "      <td>8.6625</td>\n",
       "      <td>S</td>\n",
       "    </tr>\n",
       "    <tr>\n",
       "      <th>4</th>\n",
       "      <td>896</td>\n",
       "      <td>3</td>\n",
       "      <td>Hirvonen, Mrs. Alexander (Helga E Lindqvist)</td>\n",
       "      <td>female</td>\n",
       "      <td>22.0</td>\n",
       "      <td>1</td>\n",
       "      <td>1</td>\n",
       "      <td>3101298</td>\n",
       "      <td>12.2875</td>\n",
       "      <td>S</td>\n",
       "    </tr>\n",
       "  </tbody>\n",
       "</table>\n",
       "</div>"
      ],
      "text/plain": [
       "   PassengerId  Pclass                                          Name     Sex   Age  SibSp  Parch   Ticket     Fare Embarked\n",
       "0          892       3                              Kelly, Mr. James    male  34.5      0      0   330911   7.8292        Q\n",
       "1          893       3              Wilkes, Mrs. James (Ellen Needs)  female  47.0      1      0   363272   7.0000        S\n",
       "2          894       2                     Myles, Mr. Thomas Francis    male  62.0      0      0   240276   9.6875        Q\n",
       "3          895       3                              Wirz, Mr. Albert    male  27.0      0      0   315154   8.6625        S\n",
       "4          896       3  Hirvonen, Mrs. Alexander (Helga E Lindqvist)  female  22.0      1      1  3101298  12.2875        S"
      ]
     },
     "execution_count": 20,
     "metadata": {},
     "output_type": "execute_result"
    }
   ],
   "source": [
    "test_data.drop('Cabin', axis=1, inplace=True)\n",
    "test_data.head()"
   ]
  },
  {
   "cell_type": "markdown",
   "metadata": {
    "papermill": {
     "duration": 0.050422,
     "end_time": "2021-03-30T15:10:50.030338",
     "exception": false,
     "start_time": "2021-03-30T15:10:49.979916",
     "status": "completed"
    },
    "tags": []
   },
   "source": [
    "### Imputing Age, Fare and Embarked with median and mode values"
   ]
  },
  {
   "cell_type": "code",
   "execution_count": 21,
   "metadata": {
    "execution": {
     "iopub.execute_input": "2021-03-30T15:10:50.142534Z",
     "iopub.status.busy": "2021-03-30T15:10:50.141617Z",
     "iopub.status.idle": "2021-03-30T15:10:50.145184Z",
     "shell.execute_reply": "2021-03-30T15:10:50.145658Z"
    },
    "papermill": {
     "duration": 0.062234,
     "end_time": "2021-03-30T15:10:50.145798",
     "exception": false,
     "start_time": "2021-03-30T15:10:50.083564",
     "status": "completed"
    },
    "tags": []
   },
   "outputs": [
    {
     "data": {
      "text/plain": [
       "0"
      ]
     },
     "execution_count": 21,
     "metadata": {},
     "output_type": "execute_result"
    }
   ],
   "source": [
    "age_median_train = train_data.Age.median()\n",
    "train_data.Age.fillna(age_median_train, inplace=True)\n",
    "train_data.Age.isnull().sum()"
   ]
  },
  {
   "cell_type": "code",
   "execution_count": 22,
   "metadata": {
    "execution": {
     "iopub.execute_input": "2021-03-30T15:10:50.255368Z",
     "iopub.status.busy": "2021-03-30T15:10:50.254491Z",
     "iopub.status.idle": "2021-03-30T15:10:50.258753Z",
     "shell.execute_reply": "2021-03-30T15:10:50.258266Z"
    },
    "papermill": {
     "duration": 0.062362,
     "end_time": "2021-03-30T15:10:50.258859",
     "exception": false,
     "start_time": "2021-03-30T15:10:50.196497",
     "status": "completed"
    },
    "tags": []
   },
   "outputs": [
    {
     "data": {
      "text/plain": [
       "0"
      ]
     },
     "execution_count": 22,
     "metadata": {},
     "output_type": "execute_result"
    }
   ],
   "source": [
    "age_median_test = test_data.Age.median()\n",
    "test_data.Age.fillna(age_median_test, inplace=True)\n",
    "test_data.Age.isnull().sum()"
   ]
  },
  {
   "cell_type": "code",
   "execution_count": 23,
   "metadata": {
    "execution": {
     "iopub.execute_input": "2021-03-30T15:10:50.364930Z",
     "iopub.status.busy": "2021-03-30T15:10:50.364297Z",
     "iopub.status.idle": "2021-03-30T15:10:50.370432Z",
     "shell.execute_reply": "2021-03-30T15:10:50.370878Z"
    },
    "papermill": {
     "duration": 0.061115,
     "end_time": "2021-03-30T15:10:50.371007",
     "exception": false,
     "start_time": "2021-03-30T15:10:50.309892",
     "status": "completed"
    },
    "tags": []
   },
   "outputs": [
    {
     "data": {
      "text/plain": [
       "0    608\n",
       "1    209\n",
       "2     28\n",
       "4     18\n",
       "3     16\n",
       "8      7\n",
       "5      5\n",
       "Name: SibSp, dtype: int64"
      ]
     },
     "execution_count": 23,
     "metadata": {},
     "output_type": "execute_result"
    }
   ],
   "source": [
    "train_data.SibSp.value_counts()"
   ]
  },
  {
   "cell_type": "code",
   "execution_count": 24,
   "metadata": {
    "execution": {
     "iopub.execute_input": "2021-03-30T15:10:50.478395Z",
     "iopub.status.busy": "2021-03-30T15:10:50.477806Z",
     "iopub.status.idle": "2021-03-30T15:10:50.486271Z",
     "shell.execute_reply": "2021-03-30T15:10:50.485668Z"
    },
    "papermill": {
     "duration": 0.063173,
     "end_time": "2021-03-30T15:10:50.486385",
     "exception": false,
     "start_time": "2021-03-30T15:10:50.423212",
     "status": "completed"
    },
    "tags": []
   },
   "outputs": [
    {
     "data": {
      "text/plain": [
       "0    678\n",
       "1    118\n",
       "2     80\n",
       "5      5\n",
       "3      5\n",
       "4      4\n",
       "6      1\n",
       "Name: Parch, dtype: int64"
      ]
     },
     "execution_count": 24,
     "metadata": {},
     "output_type": "execute_result"
    }
   ],
   "source": [
    "train_data.Parch.value_counts()"
   ]
  },
  {
   "cell_type": "code",
   "execution_count": 25,
   "metadata": {
    "execution": {
     "iopub.execute_input": "2021-03-30T15:10:50.598359Z",
     "iopub.status.busy": "2021-03-30T15:10:50.597479Z",
     "iopub.status.idle": "2021-03-30T15:10:50.601016Z",
     "shell.execute_reply": "2021-03-30T15:10:50.601438Z"
    },
    "papermill": {
     "duration": 0.062879,
     "end_time": "2021-03-30T15:10:50.601575",
     "exception": false,
     "start_time": "2021-03-30T15:10:50.538696",
     "status": "completed"
    },
    "tags": []
   },
   "outputs": [
    {
     "data": {
      "text/plain": [
       "S      644\n",
       "C      168\n",
       "Q       77\n",
       "NaN      2\n",
       "Name: Embarked, dtype: int64"
      ]
     },
     "execution_count": 25,
     "metadata": {},
     "output_type": "execute_result"
    }
   ],
   "source": [
    "train_data.Embarked.value_counts(dropna=False)"
   ]
  },
  {
   "cell_type": "code",
   "execution_count": 26,
   "metadata": {
    "execution": {
     "iopub.execute_input": "2021-03-30T15:10:50.710960Z",
     "iopub.status.busy": "2021-03-30T15:10:50.709886Z",
     "iopub.status.idle": "2021-03-30T15:10:50.717470Z",
     "shell.execute_reply": "2021-03-30T15:10:50.717867Z"
    },
    "papermill": {
     "duration": 0.062685,
     "end_time": "2021-03-30T15:10:50.718000",
     "exception": false,
     "start_time": "2021-03-30T15:10:50.655315",
     "status": "completed"
    },
    "tags": []
   },
   "outputs": [
    {
     "data": {
      "text/plain": [
       "0"
      ]
     },
     "execution_count": 26,
     "metadata": {},
     "output_type": "execute_result"
    }
   ],
   "source": [
    "Embarked_mode_train = train_data.Embarked.mode()[0]\n",
    "train_data.Embarked.fillna(Embarked_mode_train, inplace=True)\n",
    "train_data.Embarked.isnull().sum()"
   ]
  },
  {
   "cell_type": "code",
   "execution_count": 27,
   "metadata": {
    "execution": {
     "iopub.execute_input": "2021-03-30T15:10:50.826912Z",
     "iopub.status.busy": "2021-03-30T15:10:50.825947Z",
     "iopub.status.idle": "2021-03-30T15:10:50.833256Z",
     "shell.execute_reply": "2021-03-30T15:10:50.833683Z"
    },
    "papermill": {
     "duration": 0.063392,
     "end_time": "2021-03-30T15:10:50.833820",
     "exception": false,
     "start_time": "2021-03-30T15:10:50.770428",
     "status": "completed"
    },
    "tags": []
   },
   "outputs": [
    {
     "data": {
      "text/plain": [
       "0"
      ]
     },
     "execution_count": 27,
     "metadata": {},
     "output_type": "execute_result"
    }
   ],
   "source": [
    "Fare_median_test = test_data.Fare.median()\n",
    "test_data.Fare.fillna(Fare_median_test, inplace=True)\n",
    "test_data.Fare.isnull().sum()"
   ]
  },
  {
   "cell_type": "code",
   "execution_count": 28,
   "metadata": {
    "execution": {
     "iopub.execute_input": "2021-03-30T15:10:50.986959Z",
     "iopub.status.busy": "2021-03-30T15:10:50.986004Z",
     "iopub.status.idle": "2021-03-30T15:10:51.096467Z",
     "shell.execute_reply": "2021-03-30T15:10:51.095808Z"
    },
    "papermill": {
     "duration": 0.21059,
     "end_time": "2021-03-30T15:10:51.096635",
     "exception": false,
     "start_time": "2021-03-30T15:10:50.886045",
     "status": "completed"
    },
    "tags": []
   },
   "outputs": [
    {
     "data": {
      "text/plain": [
       "<matplotlib.axes._subplots.AxesSubplot at 0x7f5062211c50>"
      ]
     },
     "execution_count": 28,
     "metadata": {},
     "output_type": "execute_result"
    },
    {
     "data": {
      "image/png": "[encoded data removed]",
      "text/plain": [
       "<Figure size 432x288 with 1 Axes>"
      ]
     },
     "metadata": {
      "needs_background": "light"
     },
     "output_type": "display_data"
    }
   ],
   "source": [
    "train_data.Pclass.value_counts().plot(kind='bar')"
   ]
  },
  {
   "cell_type": "code",
   "execution_count": 29,
   "metadata": {
    "execution": {
     "iopub.execute_input": "2021-03-30T15:10:51.255759Z",
     "iopub.status.busy": "2021-03-30T15:10:51.254960Z",
     "iopub.status.idle": "2021-03-30T15:10:51.258081Z",
     "shell.execute_reply": "2021-03-30T15:10:51.258575Z"
    },
    "papermill": {
     "duration": 0.078005,
     "end_time": "2021-03-30T15:10:51.258726",
     "exception": false,
     "start_time": "2021-03-30T15:10:51.180721",
     "status": "completed"
    },
    "tags": []
   },
   "outputs": [
    {
     "data": {
      "text/html": [
       "<div>\n",
       "<style scoped>\n",
       "    .dataframe tbody tr th:only-of-type {\n",
       "        vertical-align: middle;\n",
       "    }\n",
       "\n",
       "    .dataframe tbody tr th {\n",
       "        vertical-align: top;\n",
       "    }\n",
       "\n",
       "    .dataframe thead th {\n",
       "        text-align: right;\n",
       "    }\n",
       "</style>\n",
       "<table border=\"1\" class=\"dataframe\">\n",
       "  <thead>\n",
       "    <tr style=\"text-align: right;\">\n",
       "      <th></th>\n",
       "      <th>PassengerId</th>\n",
       "      <th>Survived</th>\n",
       "      <th>Pclass</th>\n",
       "      <th>Name</th>\n",
       "      <th>Sex</th>\n",
       "      <th>Age</th>\n",
       "      <th>SibSp</th>\n",
       "      <th>Parch</th>\n",
       "      <th>Ticket</th>\n",
       "      <th>Fare</th>\n",
       "      <th>Embarked</th>\n",
       "    </tr>\n",
       "  </thead>\n",
       "  <tbody>\n",
       "    <tr>\n",
       "      <th>0</th>\n",
       "      <td>1</td>\n",
       "      <td>0</td>\n",
       "      <td>3</td>\n",
       "      <td>Braund, Mr. Owen Harris</td>\n",
       "      <td>male</td>\n",
       "      <td>22.0</td>\n",
       "      <td>1</td>\n",
       "      <td>0</td>\n",
       "      <td>A/5 21171</td>\n",
       "      <td>7.2500</td>\n",
       "      <td>S</td>\n",
       "    </tr>\n",
       "    <tr>\n",
       "      <th>1</th>\n",
       "      <td>2</td>\n",
       "      <td>1</td>\n",
       "      <td>1</td>\n",
       "      <td>Cumings, Mrs. John Bradley (Florence Briggs Th...</td>\n",
       "      <td>female</td>\n",
       "      <td>38.0</td>\n",
       "      <td>1</td>\n",
       "      <td>0</td>\n",
       "      <td>PC 17599</td>\n",
       "      <td>71.2833</td>\n",
       "      <td>C</td>\n",
       "    </tr>\n",
       "  </tbody>\n",
       "</table>\n",
       "</div>"
      ],
      "text/plain": [
       "   PassengerId  Survived  Pclass                                               Name     Sex   Age  SibSp  Parch     Ticket     Fare Embarked\n",
       "0            1         0       3                            Braund, Mr. Owen Harris    male  22.0      1      0  A/5 21171   7.2500        S\n",
       "1            2         1       1  Cumings, Mrs. John Bradley (Florence Briggs Th...  female  38.0      1      0   PC 17599  71.2833        C"
      ]
     },
     "execution_count": 29,
     "metadata": {},
     "output_type": "execute_result"
    }
   ],
   "source": [
    "train_data.head(2)"
   ]
  },
  {
   "cell_type": "code",
   "execution_count": 30,
   "metadata": {
    "execution": {
     "iopub.execute_input": "2021-03-30T15:10:51.370905Z",
     "iopub.status.busy": "2021-03-30T15:10:51.370285Z",
     "iopub.status.idle": "2021-03-30T15:10:51.382356Z",
     "shell.execute_reply": "2021-03-30T15:10:51.381741Z"
    },
    "papermill": {
     "duration": 0.069826,
     "end_time": "2021-03-30T15:10:51.382489",
     "exception": false,
     "start_time": "2021-03-30T15:10:51.312663",
     "status": "completed"
    },
    "tags": []
   },
   "outputs": [
    {
     "data": {
      "text/html": [
       "<div>\n",
       "<style scoped>\n",
       "    .dataframe tbody tr th:only-of-type {\n",
       "        vertical-align: middle;\n",
       "    }\n",
       "\n",
       "    .dataframe tbody tr th {\n",
       "        vertical-align: top;\n",
       "    }\n",
       "\n",
       "    .dataframe thead th {\n",
       "        text-align: right;\n",
       "    }\n",
       "</style>\n",
       "<table border=\"1\" class=\"dataframe\">\n",
       "  <thead>\n",
       "    <tr style=\"text-align: right;\">\n",
       "      <th></th>\n",
       "      <th>PassengerId</th>\n",
       "      <th>Pclass</th>\n",
       "      <th>Name</th>\n",
       "      <th>Sex</th>\n",
       "      <th>Age</th>\n",
       "      <th>SibSp</th>\n",
       "      <th>Parch</th>\n",
       "      <th>Ticket</th>\n",
       "      <th>Fare</th>\n",
       "      <th>Embarked</th>\n",
       "    </tr>\n",
       "  </thead>\n",
       "  <tbody>\n",
       "    <tr>\n",
       "      <th>0</th>\n",
       "      <td>892</td>\n",
       "      <td>3</td>\n",
       "      <td>Kelly, Mr. James</td>\n",
       "      <td>male</td>\n",
       "      <td>34.5</td>\n",
       "      <td>0</td>\n",
       "      <td>0</td>\n",
       "      <td>330911</td>\n",
       "      <td>7.8292</td>\n",
       "      <td>Q</td>\n",
       "    </tr>\n",
       "    <tr>\n",
       "      <th>1</th>\n",
       "      <td>893</td>\n",
       "      <td>3</td>\n",
       "      <td>Wilkes, Mrs. James (Ellen Needs)</td>\n",
       "      <td>female</td>\n",
       "      <td>47.0</td>\n",
       "      <td>1</td>\n",
       "      <td>0</td>\n",
       "      <td>363272</td>\n",
       "      <td>7.0000</td>\n",
       "      <td>S</td>\n",
       "    </tr>\n",
       "  </tbody>\n",
       "</table>\n",
       "</div>"
      ],
      "text/plain": [
       "   PassengerId  Pclass                              Name     Sex   Age  SibSp  Parch  Ticket    Fare Embarked\n",
       "0          892       3                  Kelly, Mr. James    male  34.5      0      0  330911  7.8292        Q\n",
       "1          893       3  Wilkes, Mrs. James (Ellen Needs)  female  47.0      1      0  363272  7.0000        S"
      ]
     },
     "execution_count": 30,
     "metadata": {},
     "output_type": "execute_result"
    }
   ],
   "source": [
    "test_data.head(2)"
   ]
  },
  {
   "cell_type": "code",
   "execution_count": 31,
   "metadata": {
    "execution": {
     "iopub.execute_input": "2021-03-30T15:10:51.495573Z",
     "iopub.status.busy": "2021-03-30T15:10:51.494973Z",
     "iopub.status.idle": "2021-03-30T15:10:51.513506Z",
     "shell.execute_reply": "2021-03-30T15:10:51.512938Z"
    },
    "papermill": {
     "duration": 0.075882,
     "end_time": "2021-03-30T15:10:51.513617",
     "exception": false,
     "start_time": "2021-03-30T15:10:51.437735",
     "status": "completed"
    },
    "tags": []
   },
   "outputs": [
    {
     "data": {
      "text/html": [
       "<div>\n",
       "<style scoped>\n",
       "    .dataframe tbody tr th:only-of-type {\n",
       "        vertical-align: middle;\n",
       "    }\n",
       "\n",
       "    .dataframe tbody tr th {\n",
       "        vertical-align: top;\n",
       "    }\n",
       "\n",
       "    .dataframe thead th {\n",
       "        text-align: right;\n",
       "    }\n",
       "</style>\n",
       "<table border=\"1\" class=\"dataframe\">\n",
       "  <thead>\n",
       "    <tr style=\"text-align: right;\">\n",
       "      <th></th>\n",
       "      <th>Missing Values</th>\n",
       "      <th>% of Total Missing Values</th>\n",
       "      <th>Data_Types</th>\n",
       "      <th>Unique values</th>\n",
       "    </tr>\n",
       "  </thead>\n",
       "  <tbody>\n",
       "    <tr>\n",
       "      <th>PassengerId</th>\n",
       "      <td>0</td>\n",
       "      <td>0.0</td>\n",
       "      <td>int64</td>\n",
       "      <td>891</td>\n",
       "    </tr>\n",
       "    <tr>\n",
       "      <th>Survived</th>\n",
       "      <td>0</td>\n",
       "      <td>0.0</td>\n",
       "      <td>int64</td>\n",
       "      <td>2</td>\n",
       "    </tr>\n",
       "    <tr>\n",
       "      <th>Pclass</th>\n",
       "      <td>0</td>\n",
       "      <td>0.0</td>\n",
       "      <td>int64</td>\n",
       "      <td>3</td>\n",
       "    </tr>\n",
       "    <tr>\n",
       "      <th>Name</th>\n",
       "      <td>0</td>\n",
       "      <td>0.0</td>\n",
       "      <td>object</td>\n",
       "      <td>891</td>\n",
       "    </tr>\n",
       "    <tr>\n",
       "      <th>Sex</th>\n",
       "      <td>0</td>\n",
       "      <td>0.0</td>\n",
       "      <td>object</td>\n",
       "      <td>2</td>\n",
       "    </tr>\n",
       "    <tr>\n",
       "      <th>Age</th>\n",
       "      <td>0</td>\n",
       "      <td>0.0</td>\n",
       "      <td>float64</td>\n",
       "      <td>88</td>\n",
       "    </tr>\n",
       "    <tr>\n",
       "      <th>SibSp</th>\n",
       "      <td>0</td>\n",
       "      <td>0.0</td>\n",
       "      <td>int64</td>\n",
       "      <td>7</td>\n",
       "    </tr>\n",
       "    <tr>\n",
       "      <th>Parch</th>\n",
       "      <td>0</td>\n",
       "      <td>0.0</td>\n",
       "      <td>int64</td>\n",
       "      <td>7</td>\n",
       "    </tr>\n",
       "    <tr>\n",
       "      <th>Ticket</th>\n",
       "      <td>0</td>\n",
       "      <td>0.0</td>\n",
       "      <td>object</td>\n",
       "      <td>681</td>\n",
       "    </tr>\n",
       "    <tr>\n",
       "      <th>Fare</th>\n",
       "      <td>0</td>\n",
       "      <td>0.0</td>\n",
       "      <td>float64</td>\n",
       "      <td>248</td>\n",
       "    </tr>\n",
       "    <tr>\n",
       "      <th>Embarked</th>\n",
       "      <td>0</td>\n",
       "      <td>0.0</td>\n",
       "      <td>object</td>\n",
       "      <td>3</td>\n",
       "    </tr>\n",
       "  </tbody>\n",
       "</table>\n",
       "</div>"
      ],
      "text/plain": [
       "             Missing Values  % of Total Missing Values Data_Types  Unique values\n",
       "PassengerId               0                        0.0      int64            891\n",
       "Survived                  0                        0.0      int64              2\n",
       "Pclass                    0                        0.0      int64              3\n",
       "Name                      0                        0.0     object            891\n",
       "Sex                       0                        0.0     object              2\n",
       "Age                       0                        0.0    float64             88\n",
       "SibSp                     0                        0.0      int64              7\n",
       "Parch                     0                        0.0      int64              7\n",
       "Ticket                    0                        0.0     object            681\n",
       "Fare                      0                        0.0    float64            248\n",
       "Embarked                  0                        0.0     object              3"
      ]
     },
     "execution_count": 31,
     "metadata": {},
     "output_type": "execute_result"
    }
   ],
   "source": [
    "details(train_data)"
   ]
  },
  {
   "cell_type": "code",
   "execution_count": 32,
   "metadata": {
    "execution": {
     "iopub.execute_input": "2021-03-30T15:10:51.629700Z",
     "iopub.status.busy": "2021-03-30T15:10:51.629082Z",
     "iopub.status.idle": "2021-03-30T15:10:51.643964Z",
     "shell.execute_reply": "2021-03-30T15:10:51.644373Z"
    },
    "papermill": {
     "duration": 0.075639,
     "end_time": "2021-03-30T15:10:51.644533",
     "exception": false,
     "start_time": "2021-03-30T15:10:51.568894",
     "status": "completed"
    },
    "tags": []
   },
   "outputs": [
    {
     "data": {
      "text/html": [
       "<div>\n",
       "<style scoped>\n",
       "    .dataframe tbody tr th:only-of-type {\n",
       "        vertical-align: middle;\n",
       "    }\n",
       "\n",
       "    .dataframe tbody tr th {\n",
       "        vertical-align: top;\n",
       "    }\n",
       "\n",
       "    .dataframe thead th {\n",
       "        text-align: right;\n",
       "    }\n",
       "</style>\n",
       "<table border=\"1\" class=\"dataframe\">\n",
       "  <thead>\n",
       "    <tr style=\"text-align: right;\">\n",
       "      <th></th>\n",
       "      <th>Missing Values</th>\n",
       "      <th>% of Total Missing Values</th>\n",
       "      <th>Data_Types</th>\n",
       "      <th>Unique values</th>\n",
       "    </tr>\n",
       "  </thead>\n",
       "  <tbody>\n",
       "    <tr>\n",
       "      <th>PassengerId</th>\n",
       "      <td>0</td>\n",
       "      <td>0.0</td>\n",
       "      <td>int64</td>\n",
       "      <td>418</td>\n",
       "    </tr>\n",
       "    <tr>\n",
       "      <th>Pclass</th>\n",
       "      <td>0</td>\n",
       "      <td>0.0</td>\n",
       "      <td>int64</td>\n",
       "      <td>3</td>\n",
       "    </tr>\n",
       "    <tr>\n",
       "      <th>Name</th>\n",
       "      <td>0</td>\n",
       "      <td>0.0</td>\n",
       "      <td>object</td>\n",
       "      <td>418</td>\n",
       "    </tr>\n",
       "    <tr>\n",
       "      <th>Sex</th>\n",
       "      <td>0</td>\n",
       "      <td>0.0</td>\n",
       "      <td>object</td>\n",
       "      <td>2</td>\n",
       "    </tr>\n",
       "    <tr>\n",
       "      <th>Age</th>\n",
       "      <td>0</td>\n",
       "      <td>0.0</td>\n",
       "      <td>float64</td>\n",
       "      <td>79</td>\n",
       "    </tr>\n",
       "    <tr>\n",
       "      <th>SibSp</th>\n",
       "      <td>0</td>\n",
       "      <td>0.0</td>\n",
       "      <td>int64</td>\n",
       "      <td>7</td>\n",
       "    </tr>\n",
       "    <tr>\n",
       "      <th>Parch</th>\n",
       "      <td>0</td>\n",
       "      <td>0.0</td>\n",
       "      <td>int64</td>\n",
       "      <td>8</td>\n",
       "    </tr>\n",
       "    <tr>\n",
       "      <th>Ticket</th>\n",
       "      <td>0</td>\n",
       "      <td>0.0</td>\n",
       "      <td>object</td>\n",
       "      <td>363</td>\n",
       "    </tr>\n",
       "    <tr>\n",
       "      <th>Fare</th>\n",
       "      <td>0</td>\n",
       "      <td>0.0</td>\n",
       "      <td>float64</td>\n",
       "      <td>169</td>\n",
       "    </tr>\n",
       "    <tr>\n",
       "      <th>Embarked</th>\n",
       "      <td>0</td>\n",
       "      <td>0.0</td>\n",
       "      <td>object</td>\n",
       "      <td>3</td>\n",
       "    </tr>\n",
       "  </tbody>\n",
       "</table>\n",
       "</div>"
      ],
      "text/plain": [
       "             Missing Values  % of Total Missing Values Data_Types  Unique values\n",
       "PassengerId               0                        0.0      int64            418\n",
       "Pclass                    0                        0.0      int64              3\n",
       "Name                      0                        0.0     object            418\n",
       "Sex                       0                        0.0     object              2\n",
       "Age                       0                        0.0    float64             79\n",
       "SibSp                     0                        0.0      int64              7\n",
       "Parch                     0                        0.0      int64              8\n",
       "Ticket                    0                        0.0     object            363\n",
       "Fare                      0                        0.0    float64            169\n",
       "Embarked                  0                        0.0     object              3"
      ]
     },
     "execution_count": 32,
     "metadata": {},
     "output_type": "execute_result"
    }
   ],
   "source": [
    "details(test_data)"
   ]
  },
  {
   "cell_type": "markdown",
   "metadata": {
    "papermill": {
     "duration": 0.055,
     "end_time": "2021-03-30T15:10:51.755760",
     "exception": false,
     "start_time": "2021-03-30T15:10:51.700760",
     "status": "completed"
    },
    "tags": []
   },
   "source": [
    "### Checking outliers in Fare, Parch, SibSp"
   ]
  },
  {
   "cell_type": "code",
   "execution_count": 33,
   "metadata": {
    "execution": {
     "iopub.execute_input": "2021-03-30T15:10:51.955330Z",
     "iopub.status.busy": "2021-03-30T15:10:51.952651Z",
     "iopub.status.idle": "2021-03-30T15:10:52.225468Z",
     "shell.execute_reply": "2021-03-30T15:10:52.224962Z"
    },
    "papermill": {
     "duration": 0.414405,
     "end_time": "2021-03-30T15:10:52.225587",
     "exception": false,
     "start_time": "2021-03-30T15:10:51.811182",
     "status": "completed"
    },
    "tags": []
   },
   "outputs": [
    {
     "data": {
      "image/png": "[encoded data removed]",
      "text/plain": [
       "<Figure size 1440x360 with 3 Axes>"
      ]
     },
     "metadata": {
      "needs_background": "light"
     },
     "output_type": "display_data"
    }
   ],
   "source": [
    "col_data_train = ['SibSp','Parch','Fare']\n",
    "\n",
    "plt.figure(figsize=(20,5))\n",
    "for i in enumerate(col_data_train):\n",
    "    plt.subplot(1,3,i[0]+1)\n",
    "    sns.boxplot(train_data[i[1]])"
   ]
  },
  {
   "cell_type": "code",
   "execution_count": 34,
   "metadata": {
    "execution": {
     "iopub.execute_input": "2021-03-30T15:10:52.348745Z",
     "iopub.status.busy": "2021-03-30T15:10:52.348140Z",
     "iopub.status.idle": "2021-03-30T15:10:52.617591Z",
     "shell.execute_reply": "2021-03-30T15:10:52.616920Z"
    },
    "papermill": {
     "duration": 0.335847,
     "end_time": "2021-03-30T15:10:52.617738",
     "exception": false,
     "start_time": "2021-03-30T15:10:52.281891",
     "status": "completed"
    },
    "tags": []
   },
   "outputs": [
    {
     "data": {
      "image/png": "[encoded data removed]",
      "text/plain": [
       "<Figure size 1440x360 with 3 Axes>"
      ]
     },
     "metadata": {
      "needs_background": "light"
     },
     "output_type": "display_data"
    }
   ],
   "source": [
    "col_data_test = ['SibSp','Parch','Fare']\n",
    "\n",
    "plt.figure(figsize=(20,5))\n",
    "for i in enumerate(col_data_test):\n",
    "    plt.subplot(1,3,i[0]+1)\n",
    "    sns.boxplot(test_data[i[1]])"
   ]
  },
  {
   "cell_type": "markdown",
   "metadata": {
    "papermill": {
     "duration": 0.058381,
     "end_time": "2021-03-30T15:10:52.734022",
     "exception": false,
     "start_time": "2021-03-30T15:10:52.675641",
     "status": "completed"
    },
    "tags": []
   },
   "source": [
    "### Splitting and joining columns"
   ]
  },
  {
   "cell_type": "code",
   "execution_count": 35,
   "metadata": {
    "execution": {
     "iopub.execute_input": "2021-03-30T15:10:52.861761Z",
     "iopub.status.busy": "2021-03-30T15:10:52.860796Z",
     "iopub.status.idle": "2021-03-30T15:10:52.865197Z",
     "shell.execute_reply": "2021-03-30T15:10:52.864629Z"
    },
    "papermill": {
     "duration": 0.074612,
     "end_time": "2021-03-30T15:10:52.865299",
     "exception": false,
     "start_time": "2021-03-30T15:10:52.790687",
     "status": "completed"
    },
    "tags": []
   },
   "outputs": [
    {
     "data": {
      "text/html": [
       "<div>\n",
       "<style scoped>\n",
       "    .dataframe tbody tr th:only-of-type {\n",
       "        vertical-align: middle;\n",
       "    }\n",
       "\n",
       "    .dataframe tbody tr th {\n",
       "        vertical-align: top;\n",
       "    }\n",
       "\n",
       "    .dataframe thead th {\n",
       "        text-align: right;\n",
       "    }\n",
       "</style>\n",
       "<table border=\"1\" class=\"dataframe\">\n",
       "  <thead>\n",
       "    <tr style=\"text-align: right;\">\n",
       "      <th></th>\n",
       "      <th>PassengerId</th>\n",
       "      <th>Survived</th>\n",
       "      <th>Pclass</th>\n",
       "      <th>Name</th>\n",
       "      <th>Sex</th>\n",
       "      <th>Age</th>\n",
       "      <th>SibSp</th>\n",
       "      <th>Parch</th>\n",
       "      <th>Ticket</th>\n",
       "      <th>Fare</th>\n",
       "      <th>Embarked</th>\n",
       "    </tr>\n",
       "  </thead>\n",
       "  <tbody>\n",
       "    <tr>\n",
       "      <th>0</th>\n",
       "      <td>1</td>\n",
       "      <td>0</td>\n",
       "      <td>3</td>\n",
       "      <td>Braund, Mr. Owen Harris</td>\n",
       "      <td>male</td>\n",
       "      <td>22.0</td>\n",
       "      <td>1</td>\n",
       "      <td>0</td>\n",
       "      <td>A/5 21171</td>\n",
       "      <td>7.2500</td>\n",
       "      <td>S</td>\n",
       "    </tr>\n",
       "    <tr>\n",
       "      <th>1</th>\n",
       "      <td>2</td>\n",
       "      <td>1</td>\n",
       "      <td>1</td>\n",
       "      <td>Cumings, Mrs. John Bradley (Florence Briggs Th...</td>\n",
       "      <td>female</td>\n",
       "      <td>38.0</td>\n",
       "      <td>1</td>\n",
       "      <td>0</td>\n",
       "      <td>PC 17599</td>\n",
       "      <td>71.2833</td>\n",
       "      <td>C</td>\n",
       "    </tr>\n",
       "    <tr>\n",
       "      <th>2</th>\n",
       "      <td>3</td>\n",
       "      <td>1</td>\n",
       "      <td>3</td>\n",
       "      <td>Heikkinen, Miss. Laina</td>\n",
       "      <td>female</td>\n",
       "      <td>26.0</td>\n",
       "      <td>0</td>\n",
       "      <td>0</td>\n",
       "      <td>STON/O2. 3101282</td>\n",
       "      <td>7.9250</td>\n",
       "      <td>S</td>\n",
       "    </tr>\n",
       "    <tr>\n",
       "      <th>3</th>\n",
       "      <td>4</td>\n",
       "      <td>1</td>\n",
       "      <td>1</td>\n",
       "      <td>Futrelle, Mrs. Jacques Heath (Lily May Peel)</td>\n",
       "      <td>female</td>\n",
       "      <td>35.0</td>\n",
       "      <td>1</td>\n",
       "      <td>0</td>\n",
       "      <td>113803</td>\n",
       "      <td>53.1000</td>\n",
       "      <td>S</td>\n",
       "    </tr>\n",
       "    <tr>\n",
       "      <th>4</th>\n",
       "      <td>5</td>\n",
       "      <td>0</td>\n",
       "      <td>3</td>\n",
       "      <td>Allen, Mr. William Henry</td>\n",
       "      <td>male</td>\n",
       "      <td>35.0</td>\n",
       "      <td>0</td>\n",
       "      <td>0</td>\n",
       "      <td>373450</td>\n",
       "      <td>8.0500</td>\n",
       "      <td>S</td>\n",
       "    </tr>\n",
       "  </tbody>\n",
       "</table>\n",
       "</div>"
      ],
      "text/plain": [
       "   PassengerId  Survived  Pclass                                               Name     Sex   Age  SibSp  Parch            Ticket     Fare Embarked\n",
       "0            1         0       3                            Braund, Mr. Owen Harris    male  22.0      1      0         A/5 21171   7.2500        S\n",
       "1            2         1       1  Cumings, Mrs. John Bradley (Florence Briggs Th...  female  38.0      1      0          PC 17599  71.2833        C\n",
       "2            3         1       3                             Heikkinen, Miss. Laina  female  26.0      0      0  STON/O2. 3101282   7.9250        S\n",
       "3            4         1       1       Futrelle, Mrs. Jacques Heath (Lily May Peel)  female  35.0      1      0            113803  53.1000        S\n",
       "4            5         0       3                           Allen, Mr. William Henry    male  35.0      0      0            373450   8.0500        S"
      ]
     },
     "execution_count": 35,
     "metadata": {},
     "output_type": "execute_result"
    }
   ],
   "source": [
    "train_data.head()"
   ]
  },
  {
   "cell_type": "code",
   "execution_count": 36,
   "metadata": {
    "execution": {
     "iopub.execute_input": "2021-03-30T15:10:52.995804Z",
     "iopub.status.busy": "2021-03-30T15:10:52.995112Z",
     "iopub.status.idle": "2021-03-30T15:10:52.999862Z",
     "shell.execute_reply": "2021-03-30T15:10:52.999397Z"
    },
    "papermill": {
     "duration": 0.076608,
     "end_time": "2021-03-30T15:10:52.999971",
     "exception": false,
     "start_time": "2021-03-30T15:10:52.923363",
     "status": "completed"
    },
    "tags": []
   },
   "outputs": [
    {
     "data": {
      "text/html": [
       "<div>\n",
       "<style scoped>\n",
       "    .dataframe tbody tr th:only-of-type {\n",
       "        vertical-align: middle;\n",
       "    }\n",
       "\n",
       "    .dataframe tbody tr th {\n",
       "        vertical-align: top;\n",
       "    }\n",
       "\n",
       "    .dataframe thead th {\n",
       "        text-align: right;\n",
       "    }\n",
       "</style>\n",
       "<table border=\"1\" class=\"dataframe\">\n",
       "  <thead>\n",
       "    <tr style=\"text-align: right;\">\n",
       "      <th></th>\n",
       "      <th>PassengerId</th>\n",
       "      <th>Pclass</th>\n",
       "      <th>Name</th>\n",
       "      <th>Sex</th>\n",
       "      <th>Age</th>\n",
       "      <th>SibSp</th>\n",
       "      <th>Parch</th>\n",
       "      <th>Ticket</th>\n",
       "      <th>Fare</th>\n",
       "      <th>Embarked</th>\n",
       "    </tr>\n",
       "  </thead>\n",
       "  <tbody>\n",
       "    <tr>\n",
       "      <th>0</th>\n",
       "      <td>892</td>\n",
       "      <td>3</td>\n",
       "      <td>Kelly, Mr. James</td>\n",
       "      <td>male</td>\n",
       "      <td>34.5</td>\n",
       "      <td>0</td>\n",
       "      <td>0</td>\n",
       "      <td>330911</td>\n",
       "      <td>7.8292</td>\n",
       "      <td>Q</td>\n",
       "    </tr>\n",
       "    <tr>\n",
       "      <th>1</th>\n",
       "      <td>893</td>\n",
       "      <td>3</td>\n",
       "      <td>Wilkes, Mrs. James (Ellen Needs)</td>\n",
       "      <td>female</td>\n",
       "      <td>47.0</td>\n",
       "      <td>1</td>\n",
       "      <td>0</td>\n",
       "      <td>363272</td>\n",
       "      <td>7.0000</td>\n",
       "      <td>S</td>\n",
       "    </tr>\n",
       "    <tr>\n",
       "      <th>2</th>\n",
       "      <td>894</td>\n",
       "      <td>2</td>\n",
       "      <td>Myles, Mr. Thomas Francis</td>\n",
       "      <td>male</td>\n",
       "      <td>62.0</td>\n",
       "      <td>0</td>\n",
       "      <td>0</td>\n",
       "      <td>240276</td>\n",
       "      <td>9.6875</td>\n",
       "      <td>Q</td>\n",
       "    </tr>\n",
       "    <tr>\n",
       "      <th>3</th>\n",
       "      <td>895</td>\n",
       "      <td>3</td>\n",
       "      <td>Wirz, Mr. Albert</td>\n",
       "      <td>male</td>\n",
       "      <td>27.0</td>\n",
       "      <td>0</td>\n",
       "      <td>0</td>\n",
       "      <td>315154</td>\n",
       "      <td>8.6625</td>\n",
       "      <td>S</td>\n",
       "    </tr>\n",
       "    <tr>\n",
       "      <th>4</th>\n",
       "      <td>896</td>\n",
       "      <td>3</td>\n",
       "      <td>Hirvonen, Mrs. Alexander (Helga E Lindqvist)</td>\n",
       "      <td>female</td>\n",
       "      <td>22.0</td>\n",
       "      <td>1</td>\n",
       "      <td>1</td>\n",
       "      <td>3101298</td>\n",
       "      <td>12.2875</td>\n",
       "      <td>S</td>\n",
       "    </tr>\n",
       "  </tbody>\n",
       "</table>\n",
       "</div>"
      ],
      "text/plain": [
       "   PassengerId  Pclass                                          Name     Sex   Age  SibSp  Parch   Ticket     Fare Embarked\n",
       "0          892       3                              Kelly, Mr. James    male  34.5      0      0   330911   7.8292        Q\n",
       "1          893       3              Wilkes, Mrs. James (Ellen Needs)  female  47.0      1      0   363272   7.0000        S\n",
       "2          894       2                     Myles, Mr. Thomas Francis    male  62.0      0      0   240276   9.6875        Q\n",
       "3          895       3                              Wirz, Mr. Albert    male  27.0      0      0   315154   8.6625        S\n",
       "4          896       3  Hirvonen, Mrs. Alexander (Helga E Lindqvist)  female  22.0      1      1  3101298  12.2875        S"
      ]
     },
     "execution_count": 36,
     "metadata": {},
     "output_type": "execute_result"
    }
   ],
   "source": [
    "test_data.head()"
   ]
  },
  {
   "cell_type": "code",
   "execution_count": 37,
   "metadata": {
    "execution": {
     "iopub.execute_input": "2021-03-30T15:10:53.133280Z",
     "iopub.status.busy": "2021-03-30T15:10:53.132623Z",
     "iopub.status.idle": "2021-03-30T15:10:53.136872Z",
     "shell.execute_reply": "2021-03-30T15:10:53.136100Z"
    },
    "papermill": {
     "duration": 0.078902,
     "end_time": "2021-03-30T15:10:53.137005",
     "exception": false,
     "start_time": "2021-03-30T15:10:53.058103",
     "status": "completed"
    },
    "tags": []
   },
   "outputs": [
    {
     "data": {
      "text/html": [
       "<div>\n",
       "<style scoped>\n",
       "    .dataframe tbody tr th:only-of-type {\n",
       "        vertical-align: middle;\n",
       "    }\n",
       "\n",
       "    .dataframe tbody tr th {\n",
       "        vertical-align: top;\n",
       "    }\n",
       "\n",
       "    .dataframe thead th {\n",
       "        text-align: right;\n",
       "    }\n",
       "</style>\n",
       "<table border=\"1\" class=\"dataframe\">\n",
       "  <thead>\n",
       "    <tr style=\"text-align: right;\">\n",
       "      <th></th>\n",
       "      <th>PassengerId</th>\n",
       "      <th>Survived</th>\n",
       "      <th>Pclass</th>\n",
       "      <th>Name</th>\n",
       "      <th>Sex</th>\n",
       "      <th>Age</th>\n",
       "      <th>SibSp</th>\n",
       "      <th>Parch</th>\n",
       "      <th>Ticket</th>\n",
       "      <th>Fare</th>\n",
       "      <th>Embarked</th>\n",
       "      <th>Family_size</th>\n",
       "    </tr>\n",
       "  </thead>\n",
       "  <tbody>\n",
       "    <tr>\n",
       "      <th>0</th>\n",
       "      <td>1</td>\n",
       "      <td>0</td>\n",
       "      <td>3</td>\n",
       "      <td>Braund, Mr. Owen Harris</td>\n",
       "      <td>male</td>\n",
       "      <td>22.0</td>\n",
       "      <td>1</td>\n",
       "      <td>0</td>\n",
       "      <td>A/5 21171</td>\n",
       "      <td>7.2500</td>\n",
       "      <td>S</td>\n",
       "      <td>2</td>\n",
       "    </tr>\n",
       "    <tr>\n",
       "      <th>1</th>\n",
       "      <td>2</td>\n",
       "      <td>1</td>\n",
       "      <td>1</td>\n",
       "      <td>Cumings, Mrs. John Bradley (Florence Briggs Th...</td>\n",
       "      <td>female</td>\n",
       "      <td>38.0</td>\n",
       "      <td>1</td>\n",
       "      <td>0</td>\n",
       "      <td>PC 17599</td>\n",
       "      <td>71.2833</td>\n",
       "      <td>C</td>\n",
       "      <td>2</td>\n",
       "    </tr>\n",
       "    <tr>\n",
       "      <th>2</th>\n",
       "      <td>3</td>\n",
       "      <td>1</td>\n",
       "      <td>3</td>\n",
       "      <td>Heikkinen, Miss. Laina</td>\n",
       "      <td>female</td>\n",
       "      <td>26.0</td>\n",
       "      <td>0</td>\n",
       "      <td>0</td>\n",
       "      <td>STON/O2. 3101282</td>\n",
       "      <td>7.9250</td>\n",
       "      <td>S</td>\n",
       "      <td>1</td>\n",
       "    </tr>\n",
       "    <tr>\n",
       "      <th>3</th>\n",
       "      <td>4</td>\n",
       "      <td>1</td>\n",
       "      <td>1</td>\n",
       "      <td>Futrelle, Mrs. Jacques Heath (Lily May Peel)</td>\n",
       "      <td>female</td>\n",
       "      <td>35.0</td>\n",
       "      <td>1</td>\n",
       "      <td>0</td>\n",
       "      <td>113803</td>\n",
       "      <td>53.1000</td>\n",
       "      <td>S</td>\n",
       "      <td>2</td>\n",
       "    </tr>\n",
       "    <tr>\n",
       "      <th>4</th>\n",
       "      <td>5</td>\n",
       "      <td>0</td>\n",
       "      <td>3</td>\n",
       "      <td>Allen, Mr. William Henry</td>\n",
       "      <td>male</td>\n",
       "      <td>35.0</td>\n",
       "      <td>0</td>\n",
       "      <td>0</td>\n",
       "      <td>373450</td>\n",
       "      <td>8.0500</td>\n",
       "      <td>S</td>\n",
       "      <td>1</td>\n",
       "    </tr>\n",
       "  </tbody>\n",
       "</table>\n",
       "</div>"
      ],
      "text/plain": [
       "   PassengerId  Survived  Pclass                                               Name     Sex   Age  SibSp  Parch            Ticket     Fare Embarked  Family_size\n",
       "0            1         0       3                            Braund, Mr. Owen Harris    male  22.0      1      0         A/5 21171   7.2500        S            2\n",
       "1            2         1       1  Cumings, Mrs. John Bradley (Florence Briggs Th...  female  38.0      1      0          PC 17599  71.2833        C            2\n",
       "2            3         1       3                             Heikkinen, Miss. Laina  female  26.0      0      0  STON/O2. 3101282   7.9250        S            1\n",
       "3            4         1       1       Futrelle, Mrs. Jacques Heath (Lily May Peel)  female  35.0      1      0            113803  53.1000        S            2\n",
       "4            5         0       3                           Allen, Mr. William Henry    male  35.0      0      0            373450   8.0500        S            1"
      ]
     },
     "execution_count": 37,
     "metadata": {},
     "output_type": "execute_result"
    }
   ],
   "source": [
    "train_data['Family_size'] = train_data['SibSp'] + train_data['Parch'] + 1\n",
    "train_data.head()"
   ]
  },
  {
   "cell_type": "code",
   "execution_count": 38,
   "metadata": {
    "execution": {
     "iopub.execute_input": "2021-03-30T15:10:53.271245Z",
     "iopub.status.busy": "2021-03-30T15:10:53.270343Z",
     "iopub.status.idle": "2021-03-30T15:10:53.274375Z",
     "shell.execute_reply": "2021-03-30T15:10:53.273825Z"
    },
    "papermill": {
     "duration": 0.077868,
     "end_time": "2021-03-30T15:10:53.274496",
     "exception": false,
     "start_time": "2021-03-30T15:10:53.196628",
     "status": "completed"
    },
    "tags": []
   },
   "outputs": [
    {
     "data": {
      "text/html": [
       "<div>\n",
       "<style scoped>\n",
       "    .dataframe tbody tr th:only-of-type {\n",
       "        vertical-align: middle;\n",
       "    }\n",
       "\n",
       "    .dataframe tbody tr th {\n",
       "        vertical-align: top;\n",
       "    }\n",
       "\n",
       "    .dataframe thead th {\n",
       "        text-align: right;\n",
       "    }\n",
       "</style>\n",
       "<table border=\"1\" class=\"dataframe\">\n",
       "  <thead>\n",
       "    <tr style=\"text-align: right;\">\n",
       "      <th></th>\n",
       "      <th>PassengerId</th>\n",
       "      <th>Pclass</th>\n",
       "      <th>Name</th>\n",
       "      <th>Sex</th>\n",
       "      <th>Age</th>\n",
       "      <th>SibSp</th>\n",
       "      <th>Parch</th>\n",
       "      <th>Ticket</th>\n",
       "      <th>Fare</th>\n",
       "      <th>Embarked</th>\n",
       "      <th>Family_size</th>\n",
       "    </tr>\n",
       "  </thead>\n",
       "  <tbody>\n",
       "    <tr>\n",
       "      <th>0</th>\n",
       "      <td>892</td>\n",
       "      <td>3</td>\n",
       "      <td>Kelly, Mr. James</td>\n",
       "      <td>male</td>\n",
       "      <td>34.5</td>\n",
       "      <td>0</td>\n",
       "      <td>0</td>\n",
       "      <td>330911</td>\n",
       "      <td>7.8292</td>\n",
       "      <td>Q</td>\n",
       "      <td>1</td>\n",
       "    </tr>\n",
       "    <tr>\n",
       "      <th>1</th>\n",
       "      <td>893</td>\n",
       "      <td>3</td>\n",
       "      <td>Wilkes, Mrs. James (Ellen Needs)</td>\n",
       "      <td>female</td>\n",
       "      <td>47.0</td>\n",
       "      <td>1</td>\n",
       "      <td>0</td>\n",
       "      <td>363272</td>\n",
       "      <td>7.0000</td>\n",
       "      <td>S</td>\n",
       "      <td>2</td>\n",
       "    </tr>\n",
       "    <tr>\n",
       "      <th>2</th>\n",
       "      <td>894</td>\n",
       "      <td>2</td>\n",
       "      <td>Myles, Mr. Thomas Francis</td>\n",
       "      <td>male</td>\n",
       "      <td>62.0</td>\n",
       "      <td>0</td>\n",
       "      <td>0</td>\n",
       "      <td>240276</td>\n",
       "      <td>9.6875</td>\n",
       "      <td>Q</td>\n",
       "      <td>1</td>\n",
       "    </tr>\n",
       "    <tr>\n",
       "      <th>3</th>\n",
       "      <td>895</td>\n",
       "      <td>3</td>\n",
       "      <td>Wirz, Mr. Albert</td>\n",
       "      <td>male</td>\n",
       "      <td>27.0</td>\n",
       "      <td>0</td>\n",
       "      <td>0</td>\n",
       "      <td>315154</td>\n",
       "      <td>8.6625</td>\n",
       "      <td>S</td>\n",
       "      <td>1</td>\n",
       "    </tr>\n",
       "    <tr>\n",
       "      <th>4</th>\n",
       "      <td>896</td>\n",
       "      <td>3</td>\n",
       "      <td>Hirvonen, Mrs. Alexander (Helga E Lindqvist)</td>\n",
       "      <td>female</td>\n",
       "      <td>22.0</td>\n",
       "      <td>1</td>\n",
       "      <td>1</td>\n",
       "      <td>3101298</td>\n",
       "      <td>12.2875</td>\n",
       "      <td>S</td>\n",
       "      <td>3</td>\n",
       "    </tr>\n",
       "  </tbody>\n",
       "</table>\n",
       "</div>"
      ],
      "text/plain": [
       "   PassengerId  Pclass                                          Name     Sex   Age  SibSp  Parch   Ticket     Fare Embarked  Family_size\n",
       "0          892       3                              Kelly, Mr. James    male  34.5      0      0   330911   7.8292        Q            1\n",
       "1          893       3              Wilkes, Mrs. James (Ellen Needs)  female  47.0      1      0   363272   7.0000        S            2\n",
       "2          894       2                     Myles, Mr. Thomas Francis    male  62.0      0      0   240276   9.6875        Q            1\n",
       "3          895       3                              Wirz, Mr. Albert    male  27.0      0      0   315154   8.6625        S            1\n",
       "4          896       3  Hirvonen, Mrs. Alexander (Helga E Lindqvist)  female  22.0      1      1  3101298  12.2875        S            3"
      ]
     },
     "execution_count": 38,
     "metadata": {},
     "output_type": "execute_result"
    }
   ],
   "source": [
    "test_data['Family_size'] = test_data['SibSp'] + test_data['Parch'] + 1\n",
    "test_data.head()"
   ]
  },
  {
   "cell_type": "code",
   "execution_count": 39,
   "metadata": {
    "execution": {
     "iopub.execute_input": "2021-03-30T15:10:53.408819Z",
     "iopub.status.busy": "2021-03-30T15:10:53.407962Z",
     "iopub.status.idle": "2021-03-30T15:10:53.412222Z",
     "shell.execute_reply": "2021-03-30T15:10:53.411658Z"
    },
    "papermill": {
     "duration": 0.078733,
     "end_time": "2021-03-30T15:10:53.412327",
     "exception": false,
     "start_time": "2021-03-30T15:10:53.333594",
     "status": "completed"
    },
    "tags": []
   },
   "outputs": [
    {
     "data": {
      "text/html": [
       "<div>\n",
       "<style scoped>\n",
       "    .dataframe tbody tr th:only-of-type {\n",
       "        vertical-align: middle;\n",
       "    }\n",
       "\n",
       "    .dataframe tbody tr th {\n",
       "        vertical-align: top;\n",
       "    }\n",
       "\n",
       "    .dataframe thead th {\n",
       "        text-align: right;\n",
       "    }\n",
       "</style>\n",
       "<table border=\"1\" class=\"dataframe\">\n",
       "  <thead>\n",
       "    <tr style=\"text-align: right;\">\n",
       "      <th></th>\n",
       "      <th>PassengerId</th>\n",
       "      <th>Survived</th>\n",
       "      <th>Pclass</th>\n",
       "      <th>Name</th>\n",
       "      <th>Sex</th>\n",
       "      <th>Age</th>\n",
       "      <th>Fare</th>\n",
       "      <th>Embarked</th>\n",
       "      <th>Family_size</th>\n",
       "    </tr>\n",
       "  </thead>\n",
       "  <tbody>\n",
       "    <tr>\n",
       "      <th>0</th>\n",
       "      <td>1</td>\n",
       "      <td>0</td>\n",
       "      <td>3</td>\n",
       "      <td>Braund, Mr. Owen Harris</td>\n",
       "      <td>male</td>\n",
       "      <td>22.0</td>\n",
       "      <td>7.2500</td>\n",
       "      <td>S</td>\n",
       "      <td>2</td>\n",
       "    </tr>\n",
       "    <tr>\n",
       "      <th>1</th>\n",
       "      <td>2</td>\n",
       "      <td>1</td>\n",
       "      <td>1</td>\n",
       "      <td>Cumings, Mrs. John Bradley (Florence Briggs Th...</td>\n",
       "      <td>female</td>\n",
       "      <td>38.0</td>\n",
       "      <td>71.2833</td>\n",
       "      <td>C</td>\n",
       "      <td>2</td>\n",
       "    </tr>\n",
       "    <tr>\n",
       "      <th>2</th>\n",
       "      <td>3</td>\n",
       "      <td>1</td>\n",
       "      <td>3</td>\n",
       "      <td>Heikkinen, Miss. Laina</td>\n",
       "      <td>female</td>\n",
       "      <td>26.0</td>\n",
       "      <td>7.9250</td>\n",
       "      <td>S</td>\n",
       "      <td>1</td>\n",
       "    </tr>\n",
       "    <tr>\n",
       "      <th>3</th>\n",
       "      <td>4</td>\n",
       "      <td>1</td>\n",
       "      <td>1</td>\n",
       "      <td>Futrelle, Mrs. Jacques Heath (Lily May Peel)</td>\n",
       "      <td>female</td>\n",
       "      <td>35.0</td>\n",
       "      <td>53.1000</td>\n",
       "      <td>S</td>\n",
       "      <td>2</td>\n",
       "    </tr>\n",
       "    <tr>\n",
       "      <th>4</th>\n",
       "      <td>5</td>\n",
       "      <td>0</td>\n",
       "      <td>3</td>\n",
       "      <td>Allen, Mr. William Henry</td>\n",
       "      <td>male</td>\n",
       "      <td>35.0</td>\n",
       "      <td>8.0500</td>\n",
       "      <td>S</td>\n",
       "      <td>1</td>\n",
       "    </tr>\n",
       "  </tbody>\n",
       "</table>\n",
       "</div>"
      ],
      "text/plain": [
       "   PassengerId  Survived  Pclass                                               Name     Sex   Age     Fare Embarked  Family_size\n",
       "0            1         0       3                            Braund, Mr. Owen Harris    male  22.0   7.2500        S            2\n",
       "1            2         1       1  Cumings, Mrs. John Bradley (Florence Briggs Th...  female  38.0  71.2833        C            2\n",
       "2            3         1       3                             Heikkinen, Miss. Laina  female  26.0   7.9250        S            1\n",
       "3            4         1       1       Futrelle, Mrs. Jacques Heath (Lily May Peel)  female  35.0  53.1000        S            2\n",
       "4            5         0       3                           Allen, Mr. William Henry    male  35.0   8.0500        S            1"
      ]
     },
     "execution_count": 39,
     "metadata": {},
     "output_type": "execute_result"
    }
   ],
   "source": [
    "train_data.drop(['SibSp','Parch','Ticket'], axis=1, inplace=True)\n",
    "train_data.head()"
   ]
  },
  {
   "cell_type": "code",
   "execution_count": 40,
   "metadata": {
    "execution": {
     "iopub.execute_input": "2021-03-30T15:10:53.545032Z",
     "iopub.status.busy": "2021-03-30T15:10:53.544353Z",
     "iopub.status.idle": "2021-03-30T15:10:53.548509Z",
     "shell.execute_reply": "2021-03-30T15:10:53.548005Z"
    },
    "papermill": {
     "duration": 0.076755,
     "end_time": "2021-03-30T15:10:53.548613",
     "exception": false,
     "start_time": "2021-03-30T15:10:53.471858",
     "status": "completed"
    },
    "tags": []
   },
   "outputs": [
    {
     "data": {
      "text/html": [
       "<div>\n",
       "<style scoped>\n",
       "    .dataframe tbody tr th:only-of-type {\n",
       "        vertical-align: middle;\n",
       "    }\n",
       "\n",
       "    .dataframe tbody tr th {\n",
       "        vertical-align: top;\n",
       "    }\n",
       "\n",
       "    .dataframe thead th {\n",
       "        text-align: right;\n",
       "    }\n",
       "</style>\n",
       "<table border=\"1\" class=\"dataframe\">\n",
       "  <thead>\n",
       "    <tr style=\"text-align: right;\">\n",
       "      <th></th>\n",
       "      <th>PassengerId</th>\n",
       "      <th>Pclass</th>\n",
       "      <th>Name</th>\n",
       "      <th>Sex</th>\n",
       "      <th>Age</th>\n",
       "      <th>Fare</th>\n",
       "      <th>Embarked</th>\n",
       "      <th>Family_size</th>\n",
       "    </tr>\n",
       "  </thead>\n",
       "  <tbody>\n",
       "    <tr>\n",
       "      <th>0</th>\n",
       "      <td>892</td>\n",
       "      <td>3</td>\n",
       "      <td>Kelly, Mr. James</td>\n",
       "      <td>male</td>\n",
       "      <td>34.5</td>\n",
       "      <td>7.8292</td>\n",
       "      <td>Q</td>\n",
       "      <td>1</td>\n",
       "    </tr>\n",
       "    <tr>\n",
       "      <th>1</th>\n",
       "      <td>893</td>\n",
       "      <td>3</td>\n",
       "      <td>Wilkes, Mrs. James (Ellen Needs)</td>\n",
       "      <td>female</td>\n",
       "      <td>47.0</td>\n",
       "      <td>7.0000</td>\n",
       "      <td>S</td>\n",
       "      <td>2</td>\n",
       "    </tr>\n",
       "    <tr>\n",
       "      <th>2</th>\n",
       "      <td>894</td>\n",
       "      <td>2</td>\n",
       "      <td>Myles, Mr. Thomas Francis</td>\n",
       "      <td>male</td>\n",
       "      <td>62.0</td>\n",
       "      <td>9.6875</td>\n",
       "      <td>Q</td>\n",
       "      <td>1</td>\n",
       "    </tr>\n",
       "    <tr>\n",
       "      <th>3</th>\n",
       "      <td>895</td>\n",
       "      <td>3</td>\n",
       "      <td>Wirz, Mr. Albert</td>\n",
       "      <td>male</td>\n",
       "      <td>27.0</td>\n",
       "      <td>8.6625</td>\n",
       "      <td>S</td>\n",
       "      <td>1</td>\n",
       "    </tr>\n",
       "    <tr>\n",
       "      <th>4</th>\n",
       "      <td>896</td>\n",
       "      <td>3</td>\n",
       "      <td>Hirvonen, Mrs. Alexander (Helga E Lindqvist)</td>\n",
       "      <td>female</td>\n",
       "      <td>22.0</td>\n",
       "      <td>12.2875</td>\n",
       "      <td>S</td>\n",
       "      <td>3</td>\n",
       "    </tr>\n",
       "  </tbody>\n",
       "</table>\n",
       "</div>"
      ],
      "text/plain": [
       "   PassengerId  Pclass                                          Name     Sex   Age     Fare Embarked  Family_size\n",
       "0          892       3                              Kelly, Mr. James    male  34.5   7.8292        Q            1\n",
       "1          893       3              Wilkes, Mrs. James (Ellen Needs)  female  47.0   7.0000        S            2\n",
       "2          894       2                     Myles, Mr. Thomas Francis    male  62.0   9.6875        Q            1\n",
       "3          895       3                              Wirz, Mr. Albert    male  27.0   8.6625        S            1\n",
       "4          896       3  Hirvonen, Mrs. Alexander (Helga E Lindqvist)  female  22.0  12.2875        S            3"
      ]
     },
     "execution_count": 40,
     "metadata": {},
     "output_type": "execute_result"
    }
   ],
   "source": [
    "test_data.drop(['SibSp','Parch','Ticket'], axis=1, inplace=True)\n",
    "test_data.head()"
   ]
  },
  {
   "cell_type": "code",
   "execution_count": 41,
   "metadata": {
    "execution": {
     "iopub.execute_input": "2021-03-30T15:10:53.675651Z",
     "iopub.status.busy": "2021-03-30T15:10:53.675032Z",
     "iopub.status.idle": "2021-03-30T15:10:53.679020Z",
     "shell.execute_reply": "2021-03-30T15:10:53.678465Z"
    },
    "papermill": {
     "duration": 0.070134,
     "end_time": "2021-03-30T15:10:53.679126",
     "exception": false,
     "start_time": "2021-03-30T15:10:53.608992",
     "status": "completed"
    },
    "tags": []
   },
   "outputs": [
    {
     "data": {
      "text/plain": [
       "1     537\n",
       "2     161\n",
       "3     102\n",
       "4      29\n",
       "6      22\n",
       "5      15\n",
       "7      12\n",
       "11      7\n",
       "8       6\n",
       "Name: Family_size, dtype: int64"
      ]
     },
     "execution_count": 41,
     "metadata": {},
     "output_type": "execute_result"
    }
   ],
   "source": [
    "train_data.Family_size.value_counts(dropna=False)"
   ]
  },
  {
   "cell_type": "code",
   "execution_count": 42,
   "metadata": {
    "execution": {
     "iopub.execute_input": "2021-03-30T15:10:53.807698Z",
     "iopub.status.busy": "2021-03-30T15:10:53.807091Z",
     "iopub.status.idle": "2021-03-30T15:10:53.810898Z",
     "shell.execute_reply": "2021-03-30T15:10:53.810436Z"
    },
    "papermill": {
     "duration": 0.071261,
     "end_time": "2021-03-30T15:10:53.811001",
     "exception": false,
     "start_time": "2021-03-30T15:10:53.739740",
     "status": "completed"
    },
    "tags": []
   },
   "outputs": [
    {
     "data": {
      "text/plain": [
       "1     253\n",
       "2      74\n",
       "3      57\n",
       "4      14\n",
       "5       7\n",
       "11      4\n",
       "7       4\n",
       "6       3\n",
       "8       2\n",
       "Name: Family_size, dtype: int64"
      ]
     },
     "execution_count": 42,
     "metadata": {},
     "output_type": "execute_result"
    }
   ],
   "source": [
    "test_data.Family_size.value_counts(dropna=False)"
   ]
  },
  {
   "cell_type": "markdown",
   "metadata": {
    "papermill": {
     "duration": 0.060442,
     "end_time": "2021-03-30T15:10:53.932818",
     "exception": false,
     "start_time": "2021-03-30T15:10:53.872376",
     "status": "completed"
    },
    "tags": []
   },
   "source": [
    "### OHE"
   ]
  },
  {
   "cell_type": "code",
   "execution_count": 43,
   "metadata": {
    "execution": {
     "iopub.execute_input": "2021-03-30T15:10:54.060483Z",
     "iopub.status.busy": "2021-03-30T15:10:54.059870Z",
     "iopub.status.idle": "2021-03-30T15:10:54.062729Z",
     "shell.execute_reply": "2021-03-30T15:10:54.063130Z"
    },
    "papermill": {
     "duration": 0.069304,
     "end_time": "2021-03-30T15:10:54.063263",
     "exception": false,
     "start_time": "2021-03-30T15:10:53.993959",
     "status": "completed"
    },
    "tags": []
   },
   "outputs": [],
   "source": [
    "ohe = OneHotEncoder(sparse=False, drop='first', dtype=int)"
   ]
  },
  {
   "cell_type": "code",
   "execution_count": 44,
   "metadata": {
    "execution": {
     "iopub.execute_input": "2021-03-30T15:10:54.197956Z",
     "iopub.status.busy": "2021-03-30T15:10:54.197300Z",
     "iopub.status.idle": "2021-03-30T15:10:54.203833Z",
     "shell.execute_reply": "2021-03-30T15:10:54.203296Z"
    },
    "papermill": {
     "duration": 0.074863,
     "end_time": "2021-03-30T15:10:54.203940",
     "exception": false,
     "start_time": "2021-03-30T15:10:54.129077",
     "status": "completed"
    },
    "tags": []
   },
   "outputs": [],
   "source": [
    "ohe_df1 = pd.DataFrame(ohe.fit_transform(train_data[['Sex','Embarked']]),columns=ohe.get_feature_names())\n",
    "ohe_df2 = pd.DataFrame(ohe.transform(test_data[['Sex','Embarked']]),columns=ohe.get_feature_names())"
   ]
  },
  {
   "cell_type": "code",
   "execution_count": 45,
   "metadata": {
    "execution": {
     "iopub.execute_input": "2021-03-30T15:10:54.334139Z",
     "iopub.status.busy": "2021-03-30T15:10:54.333205Z",
     "iopub.status.idle": "2021-03-30T15:10:54.336215Z",
     "shell.execute_reply": "2021-03-30T15:10:54.335727Z"
    },
    "papermill": {
     "duration": 0.071502,
     "end_time": "2021-03-30T15:10:54.336320",
     "exception": false,
     "start_time": "2021-03-30T15:10:54.264818",
     "status": "completed"
    },
    "tags": []
   },
   "outputs": [],
   "source": [
    "train_data = pd.concat([train_data, ohe_df1],1)\n",
    "test_data = pd.concat([test_data, ohe_df2],1)"
   ]
  },
  {
   "cell_type": "code",
   "execution_count": 46,
   "metadata": {
    "execution": {
     "iopub.execute_input": "2021-03-30T15:10:54.466965Z",
     "iopub.status.busy": "2021-03-30T15:10:54.465067Z",
     "iopub.status.idle": "2021-03-30T15:10:54.471430Z",
     "shell.execute_reply": "2021-03-30T15:10:54.470823Z"
    },
    "papermill": {
     "duration": 0.073537,
     "end_time": "2021-03-30T15:10:54.471542",
     "exception": false,
     "start_time": "2021-03-30T15:10:54.398005",
     "status": "completed"
    },
    "tags": []
   },
   "outputs": [],
   "source": [
    "# For train data\n",
    "train_data.drop(['Sex','Embarked', 'Name'],1, inplace=True)\n",
    "\n",
    "# For test data\n",
    "test_data.drop(['Sex','Embarked', 'Name'],1, inplace=True)"
   ]
  },
  {
   "cell_type": "markdown",
   "metadata": {
    "papermill": {
     "duration": 0.061041,
     "end_time": "2021-03-30T15:10:54.595045",
     "exception": false,
     "start_time": "2021-03-30T15:10:54.534004",
     "status": "completed"
    },
    "tags": []
   },
   "source": [
    "### Saving original dataset"
   ]
  },
  {
   "cell_type": "code",
   "execution_count": 47,
   "metadata": {
    "execution": {
     "iopub.execute_input": "2021-03-30T15:10:54.722135Z",
     "iopub.status.busy": "2021-03-30T15:10:54.721570Z",
     "iopub.status.idle": "2021-03-30T15:10:54.724703Z",
     "shell.execute_reply": "2021-03-30T15:10:54.724167Z"
    },
    "papermill": {
     "duration": 0.068438,
     "end_time": "2021-03-30T15:10:54.724822",
     "exception": false,
     "start_time": "2021-03-30T15:10:54.656384",
     "status": "completed"
    },
    "tags": []
   },
   "outputs": [],
   "source": [
    "df_train = train_data.copy()\n",
    "df_test = test_data.copy()"
   ]
  },
  {
   "cell_type": "markdown",
   "metadata": {
    "papermill": {
     "duration": 0.060859,
     "end_time": "2021-03-30T15:10:54.847837",
     "exception": false,
     "start_time": "2021-03-30T15:10:54.786978",
     "status": "completed"
    },
    "tags": []
   },
   "source": [
    "### Data prep for Logistic Regression"
   ]
  },
  {
   "cell_type": "code",
   "execution_count": 48,
   "metadata": {
    "execution": {
     "iopub.execute_input": "2021-03-30T15:10:54.981748Z",
     "iopub.status.busy": "2021-03-30T15:10:54.976655Z",
     "iopub.status.idle": "2021-03-30T15:10:54.985366Z",
     "shell.execute_reply": "2021-03-30T15:10:54.984842Z"
    },
    "papermill": {
     "duration": 0.076487,
     "end_time": "2021-03-30T15:10:54.985499",
     "exception": false,
     "start_time": "2021-03-30T15:10:54.909012",
     "status": "completed"
    },
    "tags": []
   },
   "outputs": [],
   "source": [
    "bins_age = [0, 12, 18, 35, 60, 100]\n",
    "labels_age = ['Child','Teen','Young_Adult','Adult','Senior']\n",
    "df_train['age_bins'] = pd.cut(df_train['Age'], bins=bins_age, labels=labels_age)\n",
    "df_test['age_bins'] = pd.cut(df_test['Age'], bins=bins_age, labels=labels_age)"
   ]
  },
  {
   "cell_type": "code",
   "execution_count": 49,
   "metadata": {
    "execution": {
     "iopub.execute_input": "2021-03-30T15:10:55.118607Z",
     "iopub.status.busy": "2021-03-30T15:10:55.117994Z",
     "iopub.status.idle": "2021-03-30T15:10:55.120729Z",
     "shell.execute_reply": "2021-03-30T15:10:55.120117Z"
    },
    "papermill": {
     "duration": 0.073307,
     "end_time": "2021-03-30T15:10:55.120849",
     "exception": false,
     "start_time": "2021-03-30T15:10:55.047542",
     "status": "completed"
    },
    "tags": []
   },
   "outputs": [],
   "source": [
    "df_train.drop('Age',1, inplace=True)\n",
    "df_test.drop('Age',1, inplace=True)"
   ]
  },
  {
   "cell_type": "markdown",
   "metadata": {
    "papermill": {
     "duration": 0.061646,
     "end_time": "2021-03-30T15:10:55.244742",
     "exception": false,
     "start_time": "2021-03-30T15:10:55.183096",
     "status": "completed"
    },
    "tags": []
   },
   "source": [
    "### Ordinal encoding for age_bins"
   ]
  },
  {
   "cell_type": "code",
   "execution_count": 50,
   "metadata": {
    "execution": {
     "iopub.execute_input": "2021-03-30T15:10:55.378311Z",
     "iopub.status.busy": "2021-03-30T15:10:55.377669Z",
     "iopub.status.idle": "2021-03-30T15:10:55.381166Z",
     "shell.execute_reply": "2021-03-30T15:10:55.380704Z"
    },
    "papermill": {
     "duration": 0.074658,
     "end_time": "2021-03-30T15:10:55.381269",
     "exception": false,
     "start_time": "2021-03-30T15:10:55.306611",
     "status": "completed"
    },
    "tags": []
   },
   "outputs": [],
   "source": [
    "age_bins = ['Child','Teen','Young_Adult','Adult','Senior']\n",
    "ordi = OrdinalEncoder(categories=[age_bins], dtype=int)\n",
    "df_train['age_bins'] = pd.DataFrame(ordi.fit_transform(df_train[['age_bins']]))\n",
    "df_test['age_bins'] = pd.DataFrame(ordi.transform(df_test[['age_bins']]))"
   ]
  },
  {
   "cell_type": "markdown",
   "metadata": {
    "papermill": {
     "duration": 0.060982,
     "end_time": "2021-03-30T15:10:55.504517",
     "exception": false,
     "start_time": "2021-03-30T15:10:55.443535",
     "status": "completed"
    },
    "tags": []
   },
   "source": [
    "### HeatMap"
   ]
  },
  {
   "cell_type": "code",
   "execution_count": 51,
   "metadata": {
    "execution": {
     "iopub.execute_input": "2021-03-30T15:10:55.633754Z",
     "iopub.status.busy": "2021-03-30T15:10:55.633084Z",
     "iopub.status.idle": "2021-03-30T15:10:56.258233Z",
     "shell.execute_reply": "2021-03-30T15:10:56.257788Z"
    },
    "papermill": {
     "duration": 0.692429,
     "end_time": "2021-03-30T15:10:56.258353",
     "exception": false,
     "start_time": "2021-03-30T15:10:55.565924",
     "status": "completed"
    },
    "tags": []
   },
   "outputs": [
    {
     "data": {
      "image/png": "[encoded data removed]",
      "text/plain": [
       "<Figure size 2160x2160 with 2 Axes>"
      ]
     },
     "metadata": {
      "needs_background": "light"
     },
     "output_type": "display_data"
    }
   ],
   "source": [
    "plt.figure(figsize = (30,30))\n",
    "sns.heatmap(df_train.corr(),annot = True, cmap=\"GnBu\",fmt='.2f')\n",
    "plt.show()"
   ]
  },
  {
   "cell_type": "code",
   "execution_count": 52,
   "metadata": {
    "execution": {
     "iopub.execute_input": "2021-03-30T15:10:56.393750Z",
     "iopub.status.busy": "2021-03-30T15:10:56.392784Z",
     "iopub.status.idle": "2021-03-30T15:10:56.401215Z",
     "shell.execute_reply": "2021-03-30T15:10:56.401773Z"
    },
    "papermill": {
     "duration": 0.078923,
     "end_time": "2021-03-30T15:10:56.401903",
     "exception": false,
     "start_time": "2021-03-30T15:10:56.322980",
     "status": "completed"
    },
    "tags": []
   },
   "outputs": [
    {
     "data": {
      "text/plain": [
       "[]"
      ]
     },
     "execution_count": 52,
     "metadata": {},
     "output_type": "execute_result"
    }
   ],
   "source": [
    "corr_matrix_train = df_train.corr().abs()\n",
    "\n",
    "# Select upper triangle of correlation matrix\n",
    "upper_train = corr_matrix_train.where(np.triu(np.ones(corr_matrix_train.shape), k=1).astype(np.bool))\n",
    "\n",
    "# Find features with correlation greater than 0.8 as they are highly correlated\n",
    "to_drop_train = [column for column in upper_train.columns if any(upper_train[column] > 0.7)]\n",
    "to_drop_train"
   ]
  },
  {
   "cell_type": "markdown",
   "metadata": {
    "papermill": {
     "duration": 0.064301,
     "end_time": "2021-03-30T15:10:56.530939",
     "exception": false,
     "start_time": "2021-03-30T15:10:56.466638",
     "status": "completed"
    },
    "tags": []
   },
   "source": [
    "### Splitting the data"
   ]
  },
  {
   "cell_type": "code",
   "execution_count": 53,
   "metadata": {
    "execution": {
     "iopub.execute_input": "2021-03-30T15:10:56.664611Z",
     "iopub.status.busy": "2021-03-30T15:10:56.663679Z",
     "iopub.status.idle": "2021-03-30T15:10:56.674597Z",
     "shell.execute_reply": "2021-03-30T15:10:56.675051Z"
    },
    "papermill": {
     "duration": 0.079664,
     "end_time": "2021-03-30T15:10:56.675185",
     "exception": false,
     "start_time": "2021-03-30T15:10:56.595521",
     "status": "completed"
    },
    "tags": []
   },
   "outputs": [
    {
     "data": {
      "text/html": [
       "<div>\n",
       "<style scoped>\n",
       "    .dataframe tbody tr th:only-of-type {\n",
       "        vertical-align: middle;\n",
       "    }\n",
       "\n",
       "    .dataframe tbody tr th {\n",
       "        vertical-align: top;\n",
       "    }\n",
       "\n",
       "    .dataframe thead th {\n",
       "        text-align: right;\n",
       "    }\n",
       "</style>\n",
       "<table border=\"1\" class=\"dataframe\">\n",
       "  <thead>\n",
       "    <tr style=\"text-align: right;\">\n",
       "      <th></th>\n",
       "      <th>PassengerId</th>\n",
       "      <th>Survived</th>\n",
       "      <th>Pclass</th>\n",
       "      <th>Fare</th>\n",
       "      <th>Family_size</th>\n",
       "      <th>x0_male</th>\n",
       "      <th>x1_Q</th>\n",
       "      <th>x1_S</th>\n",
       "      <th>age_bins</th>\n",
       "    </tr>\n",
       "  </thead>\n",
       "  <tbody>\n",
       "    <tr>\n",
       "      <th>0</th>\n",
       "      <td>1</td>\n",
       "      <td>0</td>\n",
       "      <td>3</td>\n",
       "      <td>7.2500</td>\n",
       "      <td>2</td>\n",
       "      <td>1</td>\n",
       "      <td>0</td>\n",
       "      <td>1</td>\n",
       "      <td>2</td>\n",
       "    </tr>\n",
       "    <tr>\n",
       "      <th>1</th>\n",
       "      <td>2</td>\n",
       "      <td>1</td>\n",
       "      <td>1</td>\n",
       "      <td>71.2833</td>\n",
       "      <td>2</td>\n",
       "      <td>0</td>\n",
       "      <td>0</td>\n",
       "      <td>0</td>\n",
       "      <td>3</td>\n",
       "    </tr>\n",
       "    <tr>\n",
       "      <th>2</th>\n",
       "      <td>3</td>\n",
       "      <td>1</td>\n",
       "      <td>3</td>\n",
       "      <td>7.9250</td>\n",
       "      <td>1</td>\n",
       "      <td>0</td>\n",
       "      <td>0</td>\n",
       "      <td>1</td>\n",
       "      <td>2</td>\n",
       "    </tr>\n",
       "    <tr>\n",
       "      <th>3</th>\n",
       "      <td>4</td>\n",
       "      <td>1</td>\n",
       "      <td>1</td>\n",
       "      <td>53.1000</td>\n",
       "      <td>2</td>\n",
       "      <td>0</td>\n",
       "      <td>0</td>\n",
       "      <td>1</td>\n",
       "      <td>2</td>\n",
       "    </tr>\n",
       "    <tr>\n",
       "      <th>4</th>\n",
       "      <td>5</td>\n",
       "      <td>0</td>\n",
       "      <td>3</td>\n",
       "      <td>8.0500</td>\n",
       "      <td>1</td>\n",
       "      <td>1</td>\n",
       "      <td>0</td>\n",
       "      <td>1</td>\n",
       "      <td>2</td>\n",
       "    </tr>\n",
       "  </tbody>\n",
       "</table>\n",
       "</div>"
      ],
      "text/plain": [
       "   PassengerId  Survived  Pclass     Fare  Family_size  x0_male  x1_Q  x1_S  age_bins\n",
       "0            1         0       3   7.2500            2        1     0     1         2\n",
       "1            2         1       1  71.2833            2        0     0     0         3\n",
       "2            3         1       3   7.9250            1        0     0     1         2\n",
       "3            4         1       1  53.1000            2        0     0     1         2\n",
       "4            5         0       3   8.0500            1        1     0     1         2"
      ]
     },
     "execution_count": 53,
     "metadata": {},
     "output_type": "execute_result"
    }
   ],
   "source": [
    "df_train.head()"
   ]
  },
  {
   "cell_type": "code",
   "execution_count": 54,
   "metadata": {
    "execution": {
     "iopub.execute_input": "2021-03-30T15:10:56.808574Z",
     "iopub.status.busy": "2021-03-30T15:10:56.808003Z",
     "iopub.status.idle": "2021-03-30T15:10:56.818227Z",
     "shell.execute_reply": "2021-03-30T15:10:56.818721Z"
    },
    "papermill": {
     "duration": 0.078214,
     "end_time": "2021-03-30T15:10:56.818857",
     "exception": false,
     "start_time": "2021-03-30T15:10:56.740643",
     "status": "completed"
    },
    "tags": []
   },
   "outputs": [
    {
     "data": {
      "text/html": [
       "<div>\n",
       "<style scoped>\n",
       "    .dataframe tbody tr th:only-of-type {\n",
       "        vertical-align: middle;\n",
       "    }\n",
       "\n",
       "    .dataframe tbody tr th {\n",
       "        vertical-align: top;\n",
       "    }\n",
       "\n",
       "    .dataframe thead th {\n",
       "        text-align: right;\n",
       "    }\n",
       "</style>\n",
       "<table border=\"1\" class=\"dataframe\">\n",
       "  <thead>\n",
       "    <tr style=\"text-align: right;\">\n",
       "      <th></th>\n",
       "      <th>PassengerId</th>\n",
       "      <th>Pclass</th>\n",
       "      <th>Fare</th>\n",
       "      <th>Family_size</th>\n",
       "      <th>x0_male</th>\n",
       "      <th>x1_Q</th>\n",
       "      <th>x1_S</th>\n",
       "      <th>age_bins</th>\n",
       "    </tr>\n",
       "  </thead>\n",
       "  <tbody>\n",
       "    <tr>\n",
       "      <th>0</th>\n",
       "      <td>892</td>\n",
       "      <td>3</td>\n",
       "      <td>7.8292</td>\n",
       "      <td>1</td>\n",
       "      <td>1</td>\n",
       "      <td>1</td>\n",
       "      <td>0</td>\n",
       "      <td>2</td>\n",
       "    </tr>\n",
       "    <tr>\n",
       "      <th>1</th>\n",
       "      <td>893</td>\n",
       "      <td>3</td>\n",
       "      <td>7.0000</td>\n",
       "      <td>2</td>\n",
       "      <td>0</td>\n",
       "      <td>0</td>\n",
       "      <td>1</td>\n",
       "      <td>3</td>\n",
       "    </tr>\n",
       "    <tr>\n",
       "      <th>2</th>\n",
       "      <td>894</td>\n",
       "      <td>2</td>\n",
       "      <td>9.6875</td>\n",
       "      <td>1</td>\n",
       "      <td>1</td>\n",
       "      <td>1</td>\n",
       "      <td>0</td>\n",
       "      <td>4</td>\n",
       "    </tr>\n",
       "    <tr>\n",
       "      <th>3</th>\n",
       "      <td>895</td>\n",
       "      <td>3</td>\n",
       "      <td>8.6625</td>\n",
       "      <td>1</td>\n",
       "      <td>1</td>\n",
       "      <td>0</td>\n",
       "      <td>1</td>\n",
       "      <td>2</td>\n",
       "    </tr>\n",
       "    <tr>\n",
       "      <th>4</th>\n",
       "      <td>896</td>\n",
       "      <td>3</td>\n",
       "      <td>12.2875</td>\n",
       "      <td>3</td>\n",
       "      <td>0</td>\n",
       "      <td>0</td>\n",
       "      <td>1</td>\n",
       "      <td>2</td>\n",
       "    </tr>\n",
       "  </tbody>\n",
       "</table>\n",
       "</div>"
      ],
      "text/plain": [
       "   PassengerId  Pclass     Fare  Family_size  x0_male  x1_Q  x1_S  age_bins\n",
       "0          892       3   7.8292            1        1     1     0         2\n",
       "1          893       3   7.0000            2        0     0     1         3\n",
       "2          894       2   9.6875            1        1     1     0         4\n",
       "3          895       3   8.6625            1        1     0     1         2\n",
       "4          896       3  12.2875            3        0     0     1         2"
      ]
     },
     "execution_count": 54,
     "metadata": {},
     "output_type": "execute_result"
    }
   ],
   "source": [
    "df_test.head()"
   ]
  },
  {
   "cell_type": "code",
   "execution_count": 55,
   "metadata": {
    "execution": {
     "iopub.execute_input": "2021-03-30T15:10:56.952720Z",
     "iopub.status.busy": "2021-03-30T15:10:56.952135Z",
     "iopub.status.idle": "2021-03-30T15:10:56.961214Z",
     "shell.execute_reply": "2021-03-30T15:10:56.961762Z"
    },
    "papermill": {
     "duration": 0.077211,
     "end_time": "2021-03-30T15:10:56.961901",
     "exception": false,
     "start_time": "2021-03-30T15:10:56.884690",
     "status": "completed"
    },
    "tags": []
   },
   "outputs": [
    {
     "data": {
      "text/plain": [
       "((623, 7), (268, 7), (623,), (268,))"
      ]
     },
     "execution_count": 55,
     "metadata": {},
     "output_type": "execute_result"
    }
   ],
   "source": [
    "X = df_train.drop(['PassengerId','Survived'],1)\n",
    "y = df_train['Survived']\n",
    "\n",
    "X_train, X_val, y_train, y_val = train_test_split(X, y, test_size=0.3, random_state=23)\n",
    "X_train.shape, X_val.shape, y_train.shape, y_val.shape"
   ]
  },
  {
   "cell_type": "markdown",
   "metadata": {
    "papermill": {
     "duration": 0.064988,
     "end_time": "2021-03-30T15:10:57.091999",
     "exception": false,
     "start_time": "2021-03-30T15:10:57.027011",
     "status": "completed"
    },
    "tags": []
   },
   "source": [
    "### Scaling"
   ]
  },
  {
   "cell_type": "code",
   "execution_count": 56,
   "metadata": {
    "execution": {
     "iopub.execute_input": "2021-03-30T15:10:57.227319Z",
     "iopub.status.busy": "2021-03-30T15:10:57.226733Z",
     "iopub.status.idle": "2021-03-30T15:10:57.241659Z",
     "shell.execute_reply": "2021-03-30T15:10:57.242132Z"
    },
    "papermill": {
     "duration": 0.084112,
     "end_time": "2021-03-30T15:10:57.242266",
     "exception": false,
     "start_time": "2021-03-30T15:10:57.158154",
     "status": "completed"
    },
    "tags": []
   },
   "outputs": [],
   "source": [
    "scaler = StandardScaler()\n",
    "X_train[['Pclass', 'Fare', 'Family_size']] = scaler.fit_transform(X_train[['Pclass', 'Fare', 'Family_size']])\n",
    "X_val[['Pclass', 'Fare', 'Family_size']] = scaler.transform(X_val[['Pclass', 'Fare', 'Family_size']])"
   ]
  },
  {
   "cell_type": "markdown",
   "metadata": {
    "papermill": {
     "duration": 0.066384,
     "end_time": "2021-03-30T15:10:57.374206",
     "exception": false,
     "start_time": "2021-03-30T15:10:57.307822",
     "status": "completed"
    },
    "tags": []
   },
   "source": [
    " ### Model Building"
   ]
  },
  {
   "cell_type": "markdown",
   "metadata": {
    "papermill": {
     "duration": 0.065388,
     "end_time": "2021-03-30T15:10:57.506935",
     "exception": false,
     "start_time": "2021-03-30T15:10:57.441547",
     "status": "completed"
    },
    "tags": []
   },
   "source": []
  },
  {
   "cell_type": "code",
   "execution_count": 57,
   "metadata": {
    "execution": {
     "iopub.execute_input": "2021-03-30T15:10:57.643982Z",
     "iopub.status.busy": "2021-03-30T15:10:57.643354Z",
     "iopub.status.idle": "2021-03-30T15:10:57.653345Z",
     "shell.execute_reply": "2021-03-30T15:10:57.652868Z"
    },
    "papermill": {
     "duration": 0.078907,
     "end_time": "2021-03-30T15:10:57.653475",
     "exception": false,
     "start_time": "2021-03-30T15:10:57.574568",
     "status": "completed"
    },
    "tags": []
   },
   "outputs": [],
   "source": [
    "# Models\n",
    "model_algos = []\n",
    "# accuracy\n",
    "train_accuracy = []\n",
    "val_accuracy = []"
   ]
  },
  {
   "cell_type": "markdown",
   "metadata": {
    "papermill": {
     "duration": 0.066339,
     "end_time": "2021-03-30T15:10:57.786067",
     "exception": false,
     "start_time": "2021-03-30T15:10:57.719728",
     "status": "completed"
    },
    "tags": []
   },
   "source": [
    "### Logistic Regression without hyperparameters"
   ]
  },
  {
   "cell_type": "code",
   "execution_count": 58,
   "metadata": {
    "execution": {
     "iopub.execute_input": "2021-03-30T15:10:57.920502Z",
     "iopub.status.busy": "2021-03-30T15:10:57.919893Z",
     "iopub.status.idle": "2021-03-30T15:10:57.923012Z",
     "shell.execute_reply": "2021-03-30T15:10:57.923499Z"
    },
    "papermill": {
     "duration": 0.071896,
     "end_time": "2021-03-30T15:10:57.923635",
     "exception": false,
     "start_time": "2021-03-30T15:10:57.851739",
     "status": "completed"
    },
    "tags": []
   },
   "outputs": [],
   "source": [
    "model_LR = LogisticRegression()"
   ]
  },
  {
   "cell_type": "code",
   "execution_count": 59,
   "metadata": {
    "execution": {
     "iopub.execute_input": "2021-03-30T15:10:58.058143Z",
     "iopub.status.busy": "2021-03-30T15:10:58.057562Z",
     "iopub.status.idle": "2021-03-30T15:10:58.064918Z",
     "shell.execute_reply": "2021-03-30T15:10:58.065370Z"
    },
    "papermill": {
     "duration": 0.076269,
     "end_time": "2021-03-30T15:10:58.065522",
     "exception": false,
     "start_time": "2021-03-30T15:10:57.989253",
     "status": "completed"
    },
    "tags": []
   },
   "outputs": [],
   "source": [
    "def model_fit(model, X_train, y_train, X_val, y_val, algo=None):\n",
    "    \n",
    "    model_LR.fit(X_train, y_train)\n",
    "    \n",
    "    y_train_pred= model_LR.predict(X_train)\n",
    "    y_val_pred = model_LR.predict(X_val)\n",
    "    acc_train = accuracy_score(y_train, y_train_pred)\n",
    "    acc_val = accuracy_score(y_val, y_val_pred)\n",
    "    matrix_train = confusion_matrix(y_train, y_train_pred)\n",
    "    matrix_val = confusion_matrix(y_val, y_val_pred)\n",
    "    \n",
    "    print('Confusion Matrix train')\n",
    "    print('='*60)\n",
    "    print(matrix_train,\"\\n\")\n",
    "    print('Confusion Matrix validation')\n",
    "    print('='*60)\n",
    "    print(matrix_val,\"\\n\")\n",
    "    print('Accuracy of training set')\n",
    "    print('='*60)\n",
    "    print(acc_train)\n",
    "    print('='*60)\n",
    "    print('Accuracy of validation set')\n",
    "    print('='*60)\n",
    "    print(acc_val)\n",
    "    \n",
    "    model_algos.append(algo)\n",
    "    train_accuracy.append(acc_train)\n",
    "    val_accuracy.append(acc_val)"
   ]
  },
  {
   "cell_type": "code",
   "execution_count": 60,
   "metadata": {
    "execution": {
     "iopub.execute_input": "2021-03-30T15:10:58.205568Z",
     "iopub.status.busy": "2021-03-30T15:10:58.204902Z",
     "iopub.status.idle": "2021-03-30T15:10:58.234706Z",
     "shell.execute_reply": "2021-03-30T15:10:58.235425Z"
    },
    "papermill": {
     "duration": 0.103489,
     "end_time": "2021-03-30T15:10:58.235610",
     "exception": false,
     "start_time": "2021-03-30T15:10:58.132121",
     "status": "completed"
    },
    "tags": []
   },
   "outputs": [
    {
     "name": "stdout",
     "output_type": "stream",
     "text": [
      "Confusion Matrix train\n",
      "============================================================\n",
      "[[325  51]\n",
      " [ 65 182]] \n",
      "\n",
      "Confusion Matrix validation\n",
      "============================================================\n",
      "[[142  31]\n",
      " [ 32  63]] \n",
      "\n",
      "Accuracy of training set\n",
      "============================================================\n",
      "0.8138041733547352\n",
      "============================================================\n",
      "Accuracy of validation set\n",
      "============================================================\n",
      "0.7649253731343284\n"
     ]
    }
   ],
   "source": [
    "model_fit(model_LR, X_train, y_train, X_val, y_val, algo='LR without HPT')"
   ]
  },
  {
   "cell_type": "code",
   "execution_count": 61,
   "metadata": {
    "execution": {
     "iopub.execute_input": "2021-03-30T15:10:58.373972Z",
     "iopub.status.busy": "2021-03-30T15:10:58.373334Z",
     "iopub.status.idle": "2021-03-30T15:10:58.378341Z",
     "shell.execute_reply": "2021-03-30T15:10:58.378846Z"
    },
    "papermill": {
     "duration": 0.075406,
     "end_time": "2021-03-30T15:10:58.378992",
     "exception": false,
     "start_time": "2021-03-30T15:10:58.303586",
     "status": "completed"
    },
    "tags": []
   },
   "outputs": [],
   "source": [
    "params_LR = {'C':np.logspace(-1, 5, 10), 'class_weight':[None,'balanced'], 'penalty':['l1','l2']}"
   ]
  },
  {
   "cell_type": "code",
   "execution_count": 62,
   "metadata": {
    "execution": {
     "iopub.execute_input": "2021-03-30T15:10:58.515697Z",
     "iopub.status.busy": "2021-03-30T15:10:58.515099Z",
     "iopub.status.idle": "2021-03-30T15:10:58.524734Z",
     "shell.execute_reply": "2021-03-30T15:10:58.525278Z"
    },
    "papermill": {
     "duration": 0.079059,
     "end_time": "2021-03-30T15:10:58.525441",
     "exception": false,
     "start_time": "2021-03-30T15:10:58.446382",
     "status": "completed"
    },
    "tags": []
   },
   "outputs": [],
   "source": [
    "def model_fit_evaluation(model, params, X_train, y_train, X_val, y_val, algo=None):\n",
    "        \n",
    "    rcv = RandomizedSearchCV(model, params, cv=5, scoring='roc_auc', n_jobs=-1, verbose=1, random_state=23)\n",
    "    rcv.fit(X_train, y_train)\n",
    "    \n",
    "    print('\\n')\n",
    "    print('best estimator : ', rcv.best_estimator_)\n",
    "    print('best parameters: ', rcv.best_params_)\n",
    "    print('best score: ', rcv.best_score_)\n",
    "    print('\\n')\n",
    "\n",
    "    # Prediction    \n",
    "    y_train_pred=(rcv.best_estimator_).predict(X_train)\n",
    "    y_val_pred=(rcv.best_estimator_).predict(X_val)\n",
    "    acc_train = accuracy_score(y_train, y_train_pred)\n",
    "    acc_val = accuracy_score(y_val, y_val_pred)\n",
    "    matrix_train = confusion_matrix(y_train, y_train_pred)\n",
    "    matrix_val = confusion_matrix(y_val, y_val_pred)\n",
    "    \n",
    "    print('Confusion Matrix train')\n",
    "    print('='*60)\n",
    "    print(matrix_train,\"\\n\")\n",
    "    print('Confusion Matrix validation')\n",
    "    print('='*60)\n",
    "    print(matrix_val,\"\\n\")\n",
    "    print('Accuracy of training set')\n",
    "    print('='*60)\n",
    "    print(acc_train)\n",
    "    print('='*60)\n",
    "    print('Accuracy of validation set')\n",
    "    print('='*60)\n",
    "    print(acc_val)    \n",
    "        \n",
    "    model_algos.append(algo)\n",
    "    train_accuracy.append(acc_train)\n",
    "    val_accuracy.append(acc_val)"
   ]
  },
  {
   "cell_type": "code",
   "execution_count": 63,
   "metadata": {
    "execution": {
     "iopub.execute_input": "2021-03-30T15:10:58.662218Z",
     "iopub.status.busy": "2021-03-30T15:10:58.661611Z",
     "iopub.status.idle": "2021-03-30T15:11:00.772663Z",
     "shell.execute_reply": "2021-03-30T15:11:00.773497Z"
    },
    "papermill": {
     "duration": 2.181315,
     "end_time": "2021-03-30T15:11:00.773713",
     "exception": false,
     "start_time": "2021-03-30T15:10:58.592398",
     "status": "completed"
    },
    "tags": []
   },
   "outputs": [
    {
     "name": "stdout",
     "output_type": "stream",
     "text": [
      "Fitting 5 folds for each of 10 candidates, totalling 50 fits\n"
     ]
    },
    {
     "name": "stderr",
     "output_type": "stream",
     "text": [
      "[Parallel(n_jobs=-1)]: Using backend LokyBackend with 4 concurrent workers.\n"
     ]
    },
    {
     "name": "stdout",
     "output_type": "stream",
     "text": [
      "\n",
      "\n",
      "best estimator :  LogisticRegression(C=0.1, class_weight='balanced')\n",
      "best parameters:  {'penalty': 'l2', 'class_weight': 'balanced', 'C': 0.1}\n",
      "best score:  0.8663065520945221\n",
      "\n",
      "\n",
      "Confusion Matrix train\n",
      "============================================================\n",
      "[[310  66]\n",
      " [ 50 197]] \n",
      "\n",
      "Confusion Matrix validation\n",
      "============================================================\n",
      "[[133  40]\n",
      " [ 27  68]] \n",
      "\n",
      "Accuracy of training set\n",
      "============================================================\n",
      "0.8138041733547352\n",
      "============================================================\n",
      "Accuracy of validation set\n",
      "============================================================\n",
      "0.75\n"
     ]
    },
    {
     "name": "stderr",
     "output_type": "stream",
     "text": [
      "[Parallel(n_jobs=-1)]: Done  43 out of  50 | elapsed:    2.0s remaining:    0.3s\n",
      "[Parallel(n_jobs=-1)]: Done  50 out of  50 | elapsed:    2.1s finished\n"
     ]
    }
   ],
   "source": [
    "model_fit_evaluation(model_LR, params_LR, X_train, y_train, X_val, y_val, algo='LR with HPT')"
   ]
  },
  {
   "cell_type": "markdown",
   "metadata": {
    "papermill": {
     "duration": 0.069028,
     "end_time": "2021-03-30T15:11:00.912001",
     "exception": false,
     "start_time": "2021-03-30T15:11:00.842973",
     "status": "completed"
    },
    "tags": []
   },
   "source": [
    "### Decision Tree"
   ]
  },
  {
   "cell_type": "code",
   "execution_count": 64,
   "metadata": {
    "execution": {
     "iopub.execute_input": "2021-03-30T15:11:01.054795Z",
     "iopub.status.busy": "2021-03-30T15:11:01.054147Z",
     "iopub.status.idle": "2021-03-30T15:11:01.057258Z",
     "shell.execute_reply": "2021-03-30T15:11:01.056694Z"
    },
    "papermill": {
     "duration": 0.077083,
     "end_time": "2021-03-30T15:11:01.057370",
     "exception": false,
     "start_time": "2021-03-30T15:11:00.980287",
     "status": "completed"
    },
    "tags": []
   },
   "outputs": [],
   "source": [
    "train_dt = train_data.copy()\n",
    "test_dt = test_data.copy()"
   ]
  },
  {
   "cell_type": "code",
   "execution_count": 65,
   "metadata": {
    "execution": {
     "iopub.execute_input": "2021-03-30T15:11:01.204662Z",
     "iopub.status.busy": "2021-03-30T15:11:01.201983Z",
     "iopub.status.idle": "2021-03-30T15:11:01.209516Z",
     "shell.execute_reply": "2021-03-30T15:11:01.209014Z"
    },
    "papermill": {
     "duration": 0.083104,
     "end_time": "2021-03-30T15:11:01.209631",
     "exception": false,
     "start_time": "2021-03-30T15:11:01.126527",
     "status": "completed"
    },
    "tags": []
   },
   "outputs": [
    {
     "data": {
      "text/plain": [
       "((623, 7), (268, 7), (623,), (268,))"
      ]
     },
     "execution_count": 65,
     "metadata": {},
     "output_type": "execute_result"
    }
   ],
   "source": [
    "X = train_dt.drop(['PassengerId','Survived'],1)\n",
    "y = train_dt['Survived']\n",
    "\n",
    "X_train, X_val, y_train, y_val = train_test_split(X, y, test_size=0.3, random_state=23)\n",
    "X_train.shape, X_val.shape, y_train.shape, y_val.shape"
   ]
  },
  {
   "cell_type": "code",
   "execution_count": 66,
   "metadata": {
    "execution": {
     "iopub.execute_input": "2021-03-30T15:11:01.354272Z",
     "iopub.status.busy": "2021-03-30T15:11:01.353372Z",
     "iopub.status.idle": "2021-03-30T15:11:01.356776Z",
     "shell.execute_reply": "2021-03-30T15:11:01.356167Z"
    },
    "papermill": {
     "duration": 0.078317,
     "end_time": "2021-03-30T15:11:01.356887",
     "exception": false,
     "start_time": "2021-03-30T15:11:01.278570",
     "status": "completed"
    },
    "tags": []
   },
   "outputs": [],
   "source": [
    "model_DT = DecisionTreeClassifier(random_state=23)\n",
    "# model_DT.fit(X_train, y_train)\n",
    "# y_train_pred= model_DT.predict(X_train)\n",
    "# y_val_pred = model_DT.predict(X_val)\n",
    "# acc_train = accuracy_score(y_train, y_train_pred)\n",
    "# acc_val = accuracy_score(y_val, y_val_pred)\n",
    "# print('Accuracy of training set')\n",
    "# print('='*60)\n",
    "# print(acc_train)\n",
    "# print('='*60)\n",
    "# print('Accuracy of validation set')\n",
    "# print('='*60)\n",
    "# print(acc_val)"
   ]
  },
  {
   "cell_type": "code",
   "execution_count": 67,
   "metadata": {
    "execution": {
     "iopub.execute_input": "2021-03-30T15:11:01.501781Z",
     "iopub.status.busy": "2021-03-30T15:11:01.501121Z",
     "iopub.status.idle": "2021-03-30T15:11:01.545819Z",
     "shell.execute_reply": "2021-03-30T15:11:01.546602Z"
    },
    "papermill": {
     "duration": 0.120121,
     "end_time": "2021-03-30T15:11:01.546821",
     "exception": false,
     "start_time": "2021-03-30T15:11:01.426700",
     "status": "completed"
    },
    "tags": []
   },
   "outputs": [
    {
     "name": "stdout",
     "output_type": "stream",
     "text": [
      "Confusion Matrix train\n",
      "============================================================\n",
      "[[326  50]\n",
      " [ 67 180]] \n",
      "\n",
      "Confusion Matrix validation\n",
      "============================================================\n",
      "[[141  32]\n",
      " [ 33  62]] \n",
      "\n",
      "Accuracy of training set\n",
      "============================================================\n",
      "0.812199036918138\n",
      "============================================================\n",
      "Accuracy of validation set\n",
      "============================================================\n",
      "0.7574626865671642\n"
     ]
    }
   ],
   "source": [
    "model_fit(model_DT, X_train, y_train, X_val, y_val, algo='DT without HPT')"
   ]
  },
  {
   "cell_type": "code",
   "execution_count": 68,
   "metadata": {
    "execution": {
     "iopub.execute_input": "2021-03-30T15:11:01.694466Z",
     "iopub.status.busy": "2021-03-30T15:11:01.693611Z",
     "iopub.status.idle": "2021-03-30T15:11:01.696739Z",
     "shell.execute_reply": "2021-03-30T15:11:01.696225Z"
    },
    "papermill": {
     "duration": 0.080216,
     "end_time": "2021-03-30T15:11:01.696849",
     "exception": false,
     "start_time": "2021-03-30T15:11:01.616633",
     "status": "completed"
    },
    "tags": []
   },
   "outputs": [],
   "source": [
    "params_DT = {\n",
    "    'max_depth': [10, 20, 50, 100, 200],\n",
    "    'min_samples_leaf': [10, 20, 50, 100, 200],\n",
    "    'min_samples_split' : [10, 20, 50, 100, 200],\n",
    "    'criterion': [\"gini\", \"entropy\"]\n",
    "}"
   ]
  },
  {
   "cell_type": "code",
   "execution_count": 69,
   "metadata": {
    "execution": {
     "iopub.execute_input": "2021-03-30T15:11:01.839299Z",
     "iopub.status.busy": "2021-03-30T15:11:01.838726Z",
     "iopub.status.idle": "2021-03-30T15:11:02.088339Z",
     "shell.execute_reply": "2021-03-30T15:11:02.089145Z"
    },
    "papermill": {
     "duration": 0.323693,
     "end_time": "2021-03-30T15:11:02.089288",
     "exception": false,
     "start_time": "2021-03-30T15:11:01.765595",
     "status": "completed"
    },
    "tags": []
   },
   "outputs": [
    {
     "name": "stdout",
     "output_type": "stream",
     "text": [
      "Fitting 5 folds for each of 10 candidates, totalling 50 fits\n"
     ]
    },
    {
     "name": "stderr",
     "output_type": "stream",
     "text": [
      "[Parallel(n_jobs=-1)]: Using backend LokyBackend with 4 concurrent workers.\n"
     ]
    },
    {
     "name": "stdout",
     "output_type": "stream",
     "text": [
      "\n",
      "\n",
      "best estimator :  DecisionTreeClassifier(criterion='entropy', max_depth=100, min_samples_leaf=20,\n",
      "                       min_samples_split=20, random_state=23)\n",
      "best parameters:  {'min_samples_split': 20, 'min_samples_leaf': 20, 'max_depth': 100, 'criterion': 'entropy'}\n",
      "best score:  0.851818575008951\n",
      "\n",
      "\n",
      "Confusion Matrix train\n",
      "============================================================\n",
      "[[341  35]\n",
      " [ 73 174]] \n",
      "\n",
      "Confusion Matrix validation\n",
      "============================================================\n",
      "[[153  20]\n",
      " [ 36  59]] \n",
      "\n",
      "Accuracy of training set\n",
      "============================================================\n",
      "0.826645264847512\n",
      "============================================================\n",
      "Accuracy of validation set\n",
      "============================================================\n",
      "0.7910447761194029\n"
     ]
    },
    {
     "name": "stderr",
     "output_type": "stream",
     "text": [
      "[Parallel(n_jobs=-1)]: Done  50 out of  50 | elapsed:    0.2s finished\n"
     ]
    }
   ],
   "source": [
    "model_fit_evaluation(model_DT, params_DT, X_train, y_train, X_val, y_val, algo='DT with HPT')"
   ]
  },
  {
   "cell_type": "markdown",
   "metadata": {
    "papermill": {
     "duration": 0.076557,
     "end_time": "2021-03-30T15:11:02.256494",
     "exception": false,
     "start_time": "2021-03-30T15:11:02.179937",
     "status": "completed"
    },
    "tags": []
   },
   "source": [
    "### Random Forest"
   ]
  },
  {
   "cell_type": "code",
   "execution_count": 70,
   "metadata": {
    "execution": {
     "iopub.execute_input": "2021-03-30T15:11:02.401855Z",
     "iopub.status.busy": "2021-03-30T15:11:02.400978Z",
     "iopub.status.idle": "2021-03-30T15:11:02.403920Z",
     "shell.execute_reply": "2021-03-30T15:11:02.403354Z"
    },
    "papermill": {
     "duration": 0.077361,
     "end_time": "2021-03-30T15:11:02.404020",
     "exception": false,
     "start_time": "2021-03-30T15:11:02.326659",
     "status": "completed"
    },
    "tags": []
   },
   "outputs": [],
   "source": [
    "train_rf = train_data.copy()\n",
    "test_rf = test_data.copy()"
   ]
  },
  {
   "cell_type": "code",
   "execution_count": 71,
   "metadata": {
    "execution": {
     "iopub.execute_input": "2021-03-30T15:11:02.547218Z",
     "iopub.status.busy": "2021-03-30T15:11:02.546312Z",
     "iopub.status.idle": "2021-03-30T15:11:02.555709Z",
     "shell.execute_reply": "2021-03-30T15:11:02.556097Z"
    },
    "papermill": {
     "duration": 0.082056,
     "end_time": "2021-03-30T15:11:02.556229",
     "exception": false,
     "start_time": "2021-03-30T15:11:02.474173",
     "status": "completed"
    },
    "tags": []
   },
   "outputs": [
    {
     "data": {
      "text/plain": [
       "((623, 7), (268, 7), (623,), (268,))"
      ]
     },
     "execution_count": 71,
     "metadata": {},
     "output_type": "execute_result"
    }
   ],
   "source": [
    "X = train_rf.drop(['PassengerId','Survived'],1)\n",
    "y = train_rf['Survived']\n",
    "\n",
    "X_train, X_val, y_train, y_val = train_test_split(X, y, test_size=0.3, random_state=23)\n",
    "X_train.shape, X_val.shape, y_train.shape, y_val.shape"
   ]
  },
  {
   "cell_type": "code",
   "execution_count": 72,
   "metadata": {
    "execution": {
     "iopub.execute_input": "2021-03-30T15:11:02.700305Z",
     "iopub.status.busy": "2021-03-30T15:11:02.699372Z",
     "iopub.status.idle": "2021-03-30T15:11:02.703564Z",
     "shell.execute_reply": "2021-03-30T15:11:02.703968Z"
    },
    "papermill": {
     "duration": 0.077839,
     "end_time": "2021-03-30T15:11:02.704104",
     "exception": false,
     "start_time": "2021-03-30T15:11:02.626265",
     "status": "completed"
    },
    "tags": []
   },
   "outputs": [],
   "source": [
    "model_RF = RandomForestClassifier(random_state=23)\n",
    "# model_RF.fit(X_train, y_train)\n",
    "# y_train_pred= model_RF.predict(X_train)\n",
    "# y_val_pred = model_RF.predict(X_val)\n",
    "# acc_train = accuracy_score(y_train, y_train_pred)\n",
    "# acc_val = accuracy_score(y_val, y_val_pred)\n",
    "# print('Accuracy of training set')\n",
    "# print('='*60)\n",
    "# print(acc_train)\n",
    "# print('='*60)\n",
    "# print('Accuracy of validation set')\n",
    "# print('='*60)\n",
    "# print(acc_val)"
   ]
  },
  {
   "cell_type": "code",
   "execution_count": 73,
   "metadata": {
    "execution": {
     "iopub.execute_input": "2021-03-30T15:11:02.857007Z",
     "iopub.status.busy": "2021-03-30T15:11:02.856058Z",
     "iopub.status.idle": "2021-03-30T15:11:02.899490Z",
     "shell.execute_reply": "2021-03-30T15:11:02.898858Z"
    },
    "papermill": {
     "duration": 0.12454,
     "end_time": "2021-03-30T15:11:02.899607",
     "exception": false,
     "start_time": "2021-03-30T15:11:02.775067",
     "status": "completed"
    },
    "tags": []
   },
   "outputs": [
    {
     "name": "stdout",
     "output_type": "stream",
     "text": [
      "Confusion Matrix train\n",
      "============================================================\n",
      "[[326  50]\n",
      " [ 67 180]] \n",
      "\n",
      "Confusion Matrix validation\n",
      "============================================================\n",
      "[[141  32]\n",
      " [ 33  62]] \n",
      "\n",
      "Accuracy of training set\n",
      "============================================================\n",
      "0.812199036918138\n",
      "============================================================\n",
      "Accuracy of validation set\n",
      "============================================================\n",
      "0.7574626865671642\n"
     ]
    }
   ],
   "source": [
    "model_fit(model_RF, X_train, y_train, X_val, y_val, algo='RF without HPT')"
   ]
  },
  {
   "cell_type": "code",
   "execution_count": 74,
   "metadata": {
    "execution": {
     "iopub.execute_input": "2021-03-30T15:11:03.052769Z",
     "iopub.status.busy": "2021-03-30T15:11:03.051807Z",
     "iopub.status.idle": "2021-03-30T15:11:03.055194Z",
     "shell.execute_reply": "2021-03-30T15:11:03.054736Z"
    },
    "papermill": {
     "duration": 0.084101,
     "end_time": "2021-03-30T15:11:03.055313",
     "exception": false,
     "start_time": "2021-03-30T15:11:02.971212",
     "status": "completed"
    },
    "tags": []
   },
   "outputs": [],
   "source": [
    "params_RF = {\n",
    "    'n_estimators': [10, 20, 50, 100, 200],\n",
    "    'max_depth': [10, 20, 50, 100, 200],\n",
    "    'min_samples_leaf': [10, 20, 50, 100, 200],\n",
    "    'min_samples_split' : [10, 20, 50, 100, 200],\n",
    "    'criterion': [\"gini\", \"entropy\"]\n",
    "}"
   ]
  },
  {
   "cell_type": "code",
   "execution_count": 75,
   "metadata": {
    "execution": {
     "iopub.execute_input": "2021-03-30T15:11:03.206022Z",
     "iopub.status.busy": "2021-03-30T15:11:03.205082Z",
     "iopub.status.idle": "2021-03-30T15:11:05.787617Z",
     "shell.execute_reply": "2021-03-30T15:11:05.786894Z"
    },
    "papermill": {
     "duration": 2.66018,
     "end_time": "2021-03-30T15:11:05.787745",
     "exception": false,
     "start_time": "2021-03-30T15:11:03.127565",
     "status": "completed"
    },
    "tags": []
   },
   "outputs": [
    {
     "name": "stdout",
     "output_type": "stream",
     "text": [
      "Fitting 5 folds for each of 10 candidates, totalling 50 fits\n"
     ]
    },
    {
     "name": "stderr",
     "output_type": "stream",
     "text": [
      "[Parallel(n_jobs=-1)]: Using backend LokyBackend with 4 concurrent workers.\n",
      "[Parallel(n_jobs=-1)]: Done  43 out of  50 | elapsed:    1.9s remaining:    0.3s\n",
      "[Parallel(n_jobs=-1)]: Done  50 out of  50 | elapsed:    2.2s finished\n"
     ]
    },
    {
     "name": "stdout",
     "output_type": "stream",
     "text": [
      "\n",
      "\n",
      "best estimator :  RandomForestClassifier(max_depth=10, min_samples_leaf=20, min_samples_split=50,\n",
      "                       n_estimators=200, random_state=23)\n",
      "best parameters:  {'n_estimators': 200, 'min_samples_split': 50, 'min_samples_leaf': 20, 'max_depth': 10, 'criterion': 'gini'}\n",
      "best score:  0.8598014035087719\n",
      "\n",
      "\n",
      "Confusion Matrix train\n",
      "============================================================\n",
      "[[358  18]\n",
      " [ 90 157]] \n",
      "\n",
      "Confusion Matrix validation\n",
      "============================================================\n",
      "[[162  11]\n",
      " [ 42  53]] \n",
      "\n",
      "Accuracy of training set\n",
      "============================================================\n",
      "0.826645264847512\n",
      "============================================================\n",
      "Accuracy of validation set\n",
      "============================================================\n",
      "0.8022388059701493\n"
     ]
    }
   ],
   "source": [
    "model_fit_evaluation(model_RF, params_RF, X_train, y_train, X_val, y_val, algo='RF with HPT')"
   ]
  },
  {
   "cell_type": "code",
   "execution_count": 76,
   "metadata": {
    "execution": {
     "iopub.execute_input": "2021-03-30T15:11:05.945110Z",
     "iopub.status.busy": "2021-03-30T15:11:05.944203Z",
     "iopub.status.idle": "2021-03-30T15:11:05.948562Z",
     "shell.execute_reply": "2021-03-30T15:11:05.947989Z"
    },
    "papermill": {
     "duration": 0.088336,
     "end_time": "2021-03-30T15:11:05.948671",
     "exception": false,
     "start_time": "2021-03-30T15:11:05.860335",
     "status": "completed"
    },
    "tags": []
   },
   "outputs": [
    {
     "data": {
      "text/html": [
       "<div>\n",
       "<style scoped>\n",
       "    .dataframe tbody tr th:only-of-type {\n",
       "        vertical-align: middle;\n",
       "    }\n",
       "\n",
       "    .dataframe tbody tr th {\n",
       "        vertical-align: top;\n",
       "    }\n",
       "\n",
       "    .dataframe thead th {\n",
       "        text-align: right;\n",
       "    }\n",
       "</style>\n",
       "<table border=\"1\" class=\"dataframe\">\n",
       "  <thead>\n",
       "    <tr style=\"text-align: right;\">\n",
       "      <th></th>\n",
       "      <th>model</th>\n",
       "      <th>train_acc</th>\n",
       "      <th>val_acc</th>\n",
       "    </tr>\n",
       "  </thead>\n",
       "  <tbody>\n",
       "    <tr>\n",
       "      <th>0</th>\n",
       "      <td>LR without HPT</td>\n",
       "      <td>0.813804</td>\n",
       "      <td>0.764925</td>\n",
       "    </tr>\n",
       "    <tr>\n",
       "      <th>1</th>\n",
       "      <td>LR with HPT</td>\n",
       "      <td>0.813804</td>\n",
       "      <td>0.750000</td>\n",
       "    </tr>\n",
       "    <tr>\n",
       "      <th>2</th>\n",
       "      <td>DT without HPT</td>\n",
       "      <td>0.812199</td>\n",
       "      <td>0.757463</td>\n",
       "    </tr>\n",
       "    <tr>\n",
       "      <th>3</th>\n",
       "      <td>DT with HPT</td>\n",
       "      <td>0.826645</td>\n",
       "      <td>0.791045</td>\n",
       "    </tr>\n",
       "    <tr>\n",
       "      <th>4</th>\n",
       "      <td>RF without HPT</td>\n",
       "      <td>0.812199</td>\n",
       "      <td>0.757463</td>\n",
       "    </tr>\n",
       "    <tr>\n",
       "      <th>5</th>\n",
       "      <td>RF with HPT</td>\n",
       "      <td>0.826645</td>\n",
       "      <td>0.802239</td>\n",
       "    </tr>\n",
       "  </tbody>\n",
       "</table>\n",
       "</div>"
      ],
      "text/plain": [
       "            model  train_acc   val_acc\n",
       "0  LR without HPT   0.813804  0.764925\n",
       "1     LR with HPT   0.813804  0.750000\n",
       "2  DT without HPT   0.812199  0.757463\n",
       "3     DT with HPT   0.826645  0.791045\n",
       "4  RF without HPT   0.812199  0.757463\n",
       "5     RF with HPT   0.826645  0.802239"
      ]
     },
     "execution_count": 76,
     "metadata": {},
     "output_type": "execute_result"
    }
   ],
   "source": [
    "eval_df = pd.DataFrame({'model': model_algos, 'train_acc': train_accuracy, 'val_acc': val_accuracy})\n",
    "eval_df"
   ]
  },
  {
   "cell_type": "markdown",
   "metadata": {
    "papermill": {
     "duration": 0.073096,
     "end_time": "2021-03-30T15:11:06.095882",
     "exception": false,
     "start_time": "2021-03-30T15:11:06.022786",
     "status": "completed"
    },
    "tags": []
   },
   "source": [
    "### Running again with Random forest with perfect parameters on entire train set"
   ]
  },
  {
   "cell_type": "code",
   "execution_count": 77,
   "metadata": {
    "execution": {
     "iopub.execute_input": "2021-03-30T15:11:06.253020Z",
     "iopub.status.busy": "2021-03-30T15:11:06.252015Z",
     "iopub.status.idle": "2021-03-30T15:11:08.914986Z",
     "shell.execute_reply": "2021-03-30T15:11:08.914312Z"
    },
    "papermill": {
     "duration": 2.745668,
     "end_time": "2021-03-30T15:11:08.915106",
     "exception": false,
     "start_time": "2021-03-30T15:11:06.169438",
     "status": "completed"
    },
    "tags": []
   },
   "outputs": [
    {
     "name": "stdout",
     "output_type": "stream",
     "text": [
      "Fitting 5 folds for each of 10 candidates, totalling 50 fits\n"
     ]
    },
    {
     "name": "stderr",
     "output_type": "stream",
     "text": [
      "[Parallel(n_jobs=-1)]: Using backend LokyBackend with 4 concurrent workers.\n",
      "[Parallel(n_jobs=-1)]: Done  43 out of  50 | elapsed:    2.0s remaining:    0.3s\n",
      "[Parallel(n_jobs=-1)]: Done  50 out of  50 | elapsed:    2.3s finished\n"
     ]
    },
    {
     "name": "stdout",
     "output_type": "stream",
     "text": [
      "\n",
      "\n",
      "best estimator :  RandomForestClassifier(max_depth=10, min_samples_leaf=20, min_samples_split=50,\n",
      "                       n_estimators=200, random_state=23)\n",
      "best parameters:  {'n_estimators': 200, 'min_samples_split': 50, 'min_samples_leaf': 20, 'max_depth': 10, 'criterion': 'gini'}\n",
      "best score:  0.8556053229211328\n",
      "\n",
      "\n",
      "Confusion Matrix train\n",
      "============================================================\n",
      "[[520  29]\n",
      " [120 222]] \n",
      "\n",
      "Accuracy of training set\n",
      "============================================================\n",
      "0.8327721661054994\n"
     ]
    }
   ],
   "source": [
    "# model_RF = RandomForestClassifier( n_estimators=200, criterion: 'gini', max_depth=10, min_samples_split=50, min_samples_leaf=20, n_jobs=-1, random_state=23, verbose=1)\n",
    "rcv = RandomizedSearchCV(model_RF, params_RF, cv=5, scoring='roc_auc', n_jobs=-1, verbose=1, random_state=23)\n",
    "rcv.fit(X, y)\n",
    "\n",
    "print('\\n')\n",
    "print('best estimator : ', rcv.best_estimator_)\n",
    "print('best parameters: ', rcv.best_params_)\n",
    "print('best score: ', rcv.best_score_)\n",
    "print('\\n')\n",
    "\n",
    "# Prediction    \n",
    "y_train_pred=(rcv.best_estimator_).predict(X)\n",
    "acc_train = accuracy_score(y, y_train_pred)\n",
    "matrix_train = confusion_matrix(y, y_train_pred)\n",
    "\n",
    "print('Confusion Matrix train')\n",
    "print('='*60)\n",
    "print(matrix_train,\"\\n\")\n",
    "print('Accuracy of training set')\n",
    "print('='*60)\n",
    "print(acc_train)"
   ]
  },
  {
   "cell_type": "markdown",
   "metadata": {
    "papermill": {
     "duration": 0.082357,
     "end_time": "2021-03-30T15:11:09.072144",
     "exception": false,
     "start_time": "2021-03-30T15:11:08.989787",
     "status": "completed"
    },
    "tags": []
   },
   "source": [
    "We can see here that train accuracy for whole training data set is 0.83 with ROC of 0.86."
   ]
  },
  {
   "cell_type": "markdown",
   "metadata": {
    "papermill": {
     "duration": 0.075049,
     "end_time": "2021-03-30T15:11:09.225278",
     "exception": false,
     "start_time": "2021-03-30T15:11:09.150229",
     "status": "completed"
    },
    "tags": []
   },
   "source": [
    "### Feature importance variable using Random forest with hyperparameter tuning"
   ]
  },
  {
   "cell_type": "code",
   "execution_count": 78,
   "metadata": {
    "execution": {
     "iopub.execute_input": "2021-03-30T15:11:09.394575Z",
     "iopub.status.busy": "2021-03-30T15:11:09.393939Z",
     "iopub.status.idle": "2021-03-30T15:11:09.401768Z",
     "shell.execute_reply": "2021-03-30T15:11:09.401277Z"
    },
    "papermill": {
     "duration": 0.102018,
     "end_time": "2021-03-30T15:11:09.401882",
     "exception": false,
     "start_time": "2021-03-30T15:11:09.299864",
     "status": "completed"
    },
    "tags": []
   },
   "outputs": [
    {
     "data": {
      "text/plain": [
       "array([0.15866381, 0.07040665, 0.16812089, 0.06791769, 0.50650109,\n",
       "       0.00707958, 0.02131029])"
      ]
     },
     "execution_count": 78,
     "metadata": {},
     "output_type": "execute_result"
    }
   ],
   "source": [
    "feature = rcv.best_estimator_\n",
    "feature.feature_importances_"
   ]
  },
  {
   "cell_type": "code",
   "execution_count": 79,
   "metadata": {
    "execution": {
     "iopub.execute_input": "2021-03-30T15:11:09.577266Z",
     "iopub.status.busy": "2021-03-30T15:11:09.576582Z",
     "iopub.status.idle": "2021-03-30T15:11:09.586908Z",
     "shell.execute_reply": "2021-03-30T15:11:09.587350Z"
    },
    "papermill": {
     "duration": 0.108303,
     "end_time": "2021-03-30T15:11:09.587526",
     "exception": false,
     "start_time": "2021-03-30T15:11:09.479223",
     "status": "completed"
    },
    "tags": []
   },
   "outputs": [
    {
     "data": {
      "text/html": [
       "<div>\n",
       "<style scoped>\n",
       "    .dataframe tbody tr th:only-of-type {\n",
       "        vertical-align: middle;\n",
       "    }\n",
       "\n",
       "    .dataframe tbody tr th {\n",
       "        vertical-align: top;\n",
       "    }\n",
       "\n",
       "    .dataframe thead th {\n",
       "        text-align: right;\n",
       "    }\n",
       "</style>\n",
       "<table border=\"1\" class=\"dataframe\">\n",
       "  <thead>\n",
       "    <tr style=\"text-align: right;\">\n",
       "      <th></th>\n",
       "      <th>Varname</th>\n",
       "      <th>feature_imp</th>\n",
       "    </tr>\n",
       "  </thead>\n",
       "  <tbody>\n",
       "    <tr>\n",
       "      <th>4</th>\n",
       "      <td>x0_male</td>\n",
       "      <td>0.506501</td>\n",
       "    </tr>\n",
       "    <tr>\n",
       "      <th>2</th>\n",
       "      <td>Fare</td>\n",
       "      <td>0.168121</td>\n",
       "    </tr>\n",
       "    <tr>\n",
       "      <th>0</th>\n",
       "      <td>Pclass</td>\n",
       "      <td>0.158664</td>\n",
       "    </tr>\n",
       "    <tr>\n",
       "      <th>1</th>\n",
       "      <td>Age</td>\n",
       "      <td>0.070407</td>\n",
       "    </tr>\n",
       "    <tr>\n",
       "      <th>3</th>\n",
       "      <td>Family_size</td>\n",
       "      <td>0.067918</td>\n",
       "    </tr>\n",
       "    <tr>\n",
       "      <th>6</th>\n",
       "      <td>x1_S</td>\n",
       "      <td>0.021310</td>\n",
       "    </tr>\n",
       "    <tr>\n",
       "      <th>5</th>\n",
       "      <td>x1_Q</td>\n",
       "      <td>0.007080</td>\n",
       "    </tr>\n",
       "  </tbody>\n",
       "</table>\n",
       "</div>"
      ],
      "text/plain": [
       "       Varname  feature_imp\n",
       "4      x0_male     0.506501\n",
       "2         Fare     0.168121\n",
       "0       Pclass     0.158664\n",
       "1          Age     0.070407\n",
       "3  Family_size     0.067918\n",
       "6         x1_S     0.021310\n",
       "5         x1_Q     0.007080"
      ]
     },
     "execution_count": 79,
     "metadata": {},
     "output_type": "execute_result"
    }
   ],
   "source": [
    "final_df = pd.DataFrame({'Varname': X.columns, 'feature_imp':feature.feature_importances_})\n",
    "final_df.sort_values(by='feature_imp', ascending=False)"
   ]
  },
  {
   "cell_type": "markdown",
   "metadata": {
    "papermill": {
     "duration": 0.075068,
     "end_time": "2021-03-30T15:11:09.738755",
     "exception": false,
     "start_time": "2021-03-30T15:11:09.663687",
     "status": "completed"
    },
    "tags": []
   },
   "source": [
    "### Creating submission file"
   ]
  },
  {
   "cell_type": "code",
   "execution_count": 80,
   "metadata": {
    "execution": {
     "iopub.execute_input": "2021-03-30T15:11:09.897521Z",
     "iopub.status.busy": "2021-03-30T15:11:09.896767Z",
     "iopub.status.idle": "2021-03-30T15:11:09.927267Z",
     "shell.execute_reply": "2021-03-30T15:11:09.926764Z"
    },
    "papermill": {
     "duration": 0.114219,
     "end_time": "2021-03-30T15:11:09.927384",
     "exception": false,
     "start_time": "2021-03-30T15:11:09.813165",
     "status": "completed"
    },
    "tags": []
   },
   "outputs": [
    {
     "data": {
      "text/plain": [
       "(418, 2)"
      ]
     },
     "execution_count": 80,
     "metadata": {},
     "output_type": "execute_result"
    }
   ],
   "source": [
    "#Final prediction\n",
    "predictions = rcv.predict(test_data.drop('PassengerId', axis=1))\n",
    "\n",
    "#set the output as a dataframe and convert to csv file named submission.csv\n",
    "submission = pd.DataFrame({ 'PassengerId' : test_data['PassengerId'], 'Survived': predictions })\n",
    "submission.shape"
   ]
  },
  {
   "cell_type": "code",
   "execution_count": 81,
   "metadata": {
    "execution": {
     "iopub.execute_input": "2021-03-30T15:11:10.087431Z",
     "iopub.status.busy": "2021-03-30T15:11:10.086580Z",
     "iopub.status.idle": "2021-03-30T15:11:10.091264Z",
     "shell.execute_reply": "2021-03-30T15:11:10.090661Z"
    },
    "papermill": {
     "duration": 0.087826,
     "end_time": "2021-03-30T15:11:10.091367",
     "exception": false,
     "start_time": "2021-03-30T15:11:10.003541",
     "status": "completed"
    },
    "tags": []
   },
   "outputs": [
    {
     "data": {
      "text/html": [
       "<div>\n",
       "<style scoped>\n",
       "    .dataframe tbody tr th:only-of-type {\n",
       "        vertical-align: middle;\n",
       "    }\n",
       "\n",
       "    .dataframe tbody tr th {\n",
       "        vertical-align: top;\n",
       "    }\n",
       "\n",
       "    .dataframe thead th {\n",
       "        text-align: right;\n",
       "    }\n",
       "</style>\n",
       "<table border=\"1\" class=\"dataframe\">\n",
       "  <thead>\n",
       "    <tr style=\"text-align: right;\">\n",
       "      <th></th>\n",
       "      <th>PassengerId</th>\n",
       "      <th>Survived</th>\n",
       "    </tr>\n",
       "  </thead>\n",
       "  <tbody>\n",
       "    <tr>\n",
       "      <th>0</th>\n",
       "      <td>892</td>\n",
       "      <td>0</td>\n",
       "    </tr>\n",
       "    <tr>\n",
       "      <th>1</th>\n",
       "      <td>893</td>\n",
       "      <td>0</td>\n",
       "    </tr>\n",
       "    <tr>\n",
       "      <th>2</th>\n",
       "      <td>894</td>\n",
       "      <td>0</td>\n",
       "    </tr>\n",
       "    <tr>\n",
       "      <th>3</th>\n",
       "      <td>895</td>\n",
       "      <td>0</td>\n",
       "    </tr>\n",
       "    <tr>\n",
       "      <th>4</th>\n",
       "      <td>896</td>\n",
       "      <td>0</td>\n",
       "    </tr>\n",
       "  </tbody>\n",
       "</table>\n",
       "</div>"
      ],
      "text/plain": [
       "   PassengerId  Survived\n",
       "0          892         0\n",
       "1          893         0\n",
       "2          894         0\n",
       "3          895         0\n",
       "4          896         0"
      ]
     },
     "execution_count": 81,
     "metadata": {},
     "output_type": "execute_result"
    }
   ],
   "source": [
    "submission.head()"
   ]
  },
  {
   "cell_type": "code",
   "execution_count": 82,
   "metadata": {
    "execution": {
     "iopub.execute_input": "2021-03-30T15:11:10.249341Z",
     "iopub.status.busy": "2021-03-30T15:11:10.248770Z",
     "iopub.status.idle": "2021-03-30T15:11:10.519110Z",
     "shell.execute_reply": "2021-03-30T15:11:10.518546Z"
    },
    "papermill": {
     "duration": 0.350591,
     "end_time": "2021-03-30T15:11:10.519218",
     "exception": false,
     "start_time": "2021-03-30T15:11:10.168627",
     "status": "completed"
    },
    "tags": []
   },
   "outputs": [
    {
     "name": "stdout",
     "output_type": "stream",
     "text": [
      "Saved file: Titanic_Predictions.csv\n"
     ]
    }
   ],
   "source": [
    "filename = 'Titanic_Predictions.csv'\n",
    "submission.to_csv(filename, index=False)\n",
    "print('Saved file: '+filename)"
   ]
  }
 ],
 "metadata": {
  "kernelspec": {
   "display_name": "Python 3",
   "language": "python",
   "name": "python3"
  },
  "language_info": {
   "codemirror_mode": {
    "name": "ipython",
    "version": 3
   },
   "file_extension": ".py",
   "mimetype": "text/x-python",
   "name": "python",
   "nbconvert_exporter": "python",
   "pygments_lexer": "ipython3",
   "version": "3.7.6"
  },
  "papermill": {
   "duration": 29.293194,
   "end_time": "2021-03-30T15:11:10.704180",
   "environment_variables": {},
   "exception": null,
   "input_path": "__notebook__.ipynb",
   "output_path": "__notebook__.ipynb",
   "parameters": {},
   "start_time": "2021-03-30T15:10:41.410986",
   "version": "2.1.0"
  }
 },
 "nbformat": 4,
 "nbformat_minor": 4
}
