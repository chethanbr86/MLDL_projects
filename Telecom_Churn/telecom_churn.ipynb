{
 "metadata": {
  "language_info": {
   "codemirror_mode": {
    "name": "ipython",
    "version": 3
   },
   "file_extension": ".py",
   "mimetype": "text/x-python",
   "name": "python",
   "nbconvert_exporter": "python",
   "pygments_lexer": "ipython3",
   "version": "3.7.6-final"
  },
  "orig_nbformat": 2,
  "kernelspec": {
   "name": "python3",
   "display_name": "Python 3",
   "language": "python"
  }
 },
 "nbformat": 4,
 "nbformat_minor": 2,
 "cells": [
  {
   "source": [
    "Steps: <br>\n",
    "Importing Data <br>\n",
    "Merging different df's on a unique field <br>\n",
    "Searching for Null values <br>\n",
    "Finding outliers and Imputation <br>\n",
    "Studying the dataframe <br>\n",
    "Converting binary variables <br>\n",
    "Creating dummy variables <br>\n",
    "Running machine learning algorithms"
   ],
   "cell_type": "markdown",
   "metadata": {}
  },
  {
   "cell_type": "code",
   "execution_count": 1,
   "metadata": {},
   "outputs": [],
   "source": [
    "import pandas as pd \n",
    "import numpy as np "
   ]
  },
  {
   "cell_type": "code",
   "execution_count": 2,
   "metadata": {},
   "outputs": [],
   "source": [
    "import warnings\n",
    "warnings.filterwarnings('ignore')"
   ]
  },
  {
   "cell_type": "code",
   "execution_count": 3,
   "metadata": {},
   "outputs": [],
   "source": [
    "pd.set_option('display.max_columns',500)\n",
    "pd.set_option('display.width',500)\n",
    "pd.set_option('display.max_rows', 500)"
   ]
  },
  {
   "cell_type": "code",
   "execution_count": 4,
   "metadata": {},
   "outputs": [
    {
     "output_type": "execute_result",
     "data": {
      "text/plain": [
       "   customerID  tenure PhoneService        Contract PaperlessBilling              PaymentMethod  MonthlyCharges TotalCharges Churn\n",
       "0  7590-VHVEG       1           No  Month-to-month              Yes           Electronic check           29.85        29.85    No\n",
       "1  5575-GNVDE      34          Yes        One year               No               Mailed check           56.95       1889.5    No\n",
       "2  3668-QPYBK       2          Yes  Month-to-month              Yes               Mailed check           53.85       108.15   Yes\n",
       "3  7795-CFOCW      45           No        One year               No  Bank transfer (automatic)           42.30      1840.75    No\n",
       "4  9237-HQITU       2          Yes  Month-to-month              Yes           Electronic check           70.70       151.65   Yes"
      ],
      "text/html": "<div>\n<style scoped>\n    .dataframe tbody tr th:only-of-type {\n        vertical-align: middle;\n    }\n\n    .dataframe tbody tr th {\n        vertical-align: top;\n    }\n\n    .dataframe thead th {\n        text-align: right;\n    }\n</style>\n<table border=\"1\" class=\"dataframe\">\n  <thead>\n    <tr style=\"text-align: right;\">\n      <th></th>\n      <th>customerID</th>\n      <th>tenure</th>\n      <th>PhoneService</th>\n      <th>Contract</th>\n      <th>PaperlessBilling</th>\n      <th>PaymentMethod</th>\n      <th>MonthlyCharges</th>\n      <th>TotalCharges</th>\n      <th>Churn</th>\n    </tr>\n  </thead>\n  <tbody>\n    <tr>\n      <th>0</th>\n      <td>7590-VHVEG</td>\n      <td>1</td>\n      <td>No</td>\n      <td>Month-to-month</td>\n      <td>Yes</td>\n      <td>Electronic check</td>\n      <td>29.85</td>\n      <td>29.85</td>\n      <td>No</td>\n    </tr>\n    <tr>\n      <th>1</th>\n      <td>5575-GNVDE</td>\n      <td>34</td>\n      <td>Yes</td>\n      <td>One year</td>\n      <td>No</td>\n      <td>Mailed check</td>\n      <td>56.95</td>\n      <td>1889.5</td>\n      <td>No</td>\n    </tr>\n    <tr>\n      <th>2</th>\n      <td>3668-QPYBK</td>\n      <td>2</td>\n      <td>Yes</td>\n      <td>Month-to-month</td>\n      <td>Yes</td>\n      <td>Mailed check</td>\n      <td>53.85</td>\n      <td>108.15</td>\n      <td>Yes</td>\n    </tr>\n    <tr>\n      <th>3</th>\n      <td>7795-CFOCW</td>\n      <td>45</td>\n      <td>No</td>\n      <td>One year</td>\n      <td>No</td>\n      <td>Bank transfer (automatic)</td>\n      <td>42.30</td>\n      <td>1840.75</td>\n      <td>No</td>\n    </tr>\n    <tr>\n      <th>4</th>\n      <td>9237-HQITU</td>\n      <td>2</td>\n      <td>Yes</td>\n      <td>Month-to-month</td>\n      <td>Yes</td>\n      <td>Electronic check</td>\n      <td>70.70</td>\n      <td>151.65</td>\n      <td>Yes</td>\n    </tr>\n  </tbody>\n</table>\n</div>"
     },
     "metadata": {},
     "execution_count": 4
    }
   ],
   "source": [
    "churn_data = pd.read_csv(\"churn_data.csv\")\n",
    "churn_data.head()"
   ]
  },
  {
   "cell_type": "code",
   "execution_count": 5,
   "metadata": {},
   "outputs": [
    {
     "output_type": "execute_result",
     "data": {
      "text/plain": [
       "   customerID  gender  SeniorCitizen Partner Dependents\n",
       "0  7590-VHVEG  Female              0     Yes         No\n",
       "1  5575-GNVDE    Male              0      No         No\n",
       "2  3668-QPYBK    Male              0      No         No\n",
       "3  7795-CFOCW    Male              0      No         No\n",
       "4  9237-HQITU  Female              0      No         No"
      ],
      "text/html": "<div>\n<style scoped>\n    .dataframe tbody tr th:only-of-type {\n        vertical-align: middle;\n    }\n\n    .dataframe tbody tr th {\n        vertical-align: top;\n    }\n\n    .dataframe thead th {\n        text-align: right;\n    }\n</style>\n<table border=\"1\" class=\"dataframe\">\n  <thead>\n    <tr style=\"text-align: right;\">\n      <th></th>\n      <th>customerID</th>\n      <th>gender</th>\n      <th>SeniorCitizen</th>\n      <th>Partner</th>\n      <th>Dependents</th>\n    </tr>\n  </thead>\n  <tbody>\n    <tr>\n      <th>0</th>\n      <td>7590-VHVEG</td>\n      <td>Female</td>\n      <td>0</td>\n      <td>Yes</td>\n      <td>No</td>\n    </tr>\n    <tr>\n      <th>1</th>\n      <td>5575-GNVDE</td>\n      <td>Male</td>\n      <td>0</td>\n      <td>No</td>\n      <td>No</td>\n    </tr>\n    <tr>\n      <th>2</th>\n      <td>3668-QPYBK</td>\n      <td>Male</td>\n      <td>0</td>\n      <td>No</td>\n      <td>No</td>\n    </tr>\n    <tr>\n      <th>3</th>\n      <td>7795-CFOCW</td>\n      <td>Male</td>\n      <td>0</td>\n      <td>No</td>\n      <td>No</td>\n    </tr>\n    <tr>\n      <th>4</th>\n      <td>9237-HQITU</td>\n      <td>Female</td>\n      <td>0</td>\n      <td>No</td>\n      <td>No</td>\n    </tr>\n  </tbody>\n</table>\n</div>"
     },
     "metadata": {},
     "execution_count": 5
    }
   ],
   "source": [
    "customer_data = pd.read_csv(\"customer_data.csv\")\n",
    "customer_data.head()"
   ]
  },
  {
   "cell_type": "code",
   "execution_count": 6,
   "metadata": {},
   "outputs": [
    {
     "output_type": "execute_result",
     "data": {
      "text/plain": [
       "   customerID     MultipleLines InternetService OnlineSecurity OnlineBackup DeviceProtection TechSupport StreamingTV StreamingMovies\n",
       "0  7590-VHVEG  No phone service             DSL             No          Yes               No          No          No              No\n",
       "1  5575-GNVDE                No             DSL            Yes           No              Yes          No          No              No\n",
       "2  3668-QPYBK                No             DSL            Yes          Yes               No          No          No              No\n",
       "3  7795-CFOCW  No phone service             DSL            Yes           No              Yes         Yes          No              No\n",
       "4  9237-HQITU                No     Fiber optic             No           No               No          No          No              No"
      ],
      "text/html": "<div>\n<style scoped>\n    .dataframe tbody tr th:only-of-type {\n        vertical-align: middle;\n    }\n\n    .dataframe tbody tr th {\n        vertical-align: top;\n    }\n\n    .dataframe thead th {\n        text-align: right;\n    }\n</style>\n<table border=\"1\" class=\"dataframe\">\n  <thead>\n    <tr style=\"text-align: right;\">\n      <th></th>\n      <th>customerID</th>\n      <th>MultipleLines</th>\n      <th>InternetService</th>\n      <th>OnlineSecurity</th>\n      <th>OnlineBackup</th>\n      <th>DeviceProtection</th>\n      <th>TechSupport</th>\n      <th>StreamingTV</th>\n      <th>StreamingMovies</th>\n    </tr>\n  </thead>\n  <tbody>\n    <tr>\n      <th>0</th>\n      <td>7590-VHVEG</td>\n      <td>No phone service</td>\n      <td>DSL</td>\n      <td>No</td>\n      <td>Yes</td>\n      <td>No</td>\n      <td>No</td>\n      <td>No</td>\n      <td>No</td>\n    </tr>\n    <tr>\n      <th>1</th>\n      <td>5575-GNVDE</td>\n      <td>No</td>\n      <td>DSL</td>\n      <td>Yes</td>\n      <td>No</td>\n      <td>Yes</td>\n      <td>No</td>\n      <td>No</td>\n      <td>No</td>\n    </tr>\n    <tr>\n      <th>2</th>\n      <td>3668-QPYBK</td>\n      <td>No</td>\n      <td>DSL</td>\n      <td>Yes</td>\n      <td>Yes</td>\n      <td>No</td>\n      <td>No</td>\n      <td>No</td>\n      <td>No</td>\n    </tr>\n    <tr>\n      <th>3</th>\n      <td>7795-CFOCW</td>\n      <td>No phone service</td>\n      <td>DSL</td>\n      <td>Yes</td>\n      <td>No</td>\n      <td>Yes</td>\n      <td>Yes</td>\n      <td>No</td>\n      <td>No</td>\n    </tr>\n    <tr>\n      <th>4</th>\n      <td>9237-HQITU</td>\n      <td>No</td>\n      <td>Fiber optic</td>\n      <td>No</td>\n      <td>No</td>\n      <td>No</td>\n      <td>No</td>\n      <td>No</td>\n      <td>No</td>\n    </tr>\n  </tbody>\n</table>\n</div>"
     },
     "metadata": {},
     "execution_count": 6
    }
   ],
   "source": [
    "internet_data = pd.read_csv(\"internet_data.csv\")\n",
    "internet_data.head()"
   ]
  },
  {
   "cell_type": "code",
   "execution_count": 7,
   "metadata": {},
   "outputs": [],
   "source": [
    "df_1 = pd.merge(churn_data, customer_data, how='inner', on='customerID')"
   ]
  },
  {
   "cell_type": "code",
   "execution_count": 8,
   "metadata": {},
   "outputs": [
    {
     "output_type": "execute_result",
     "data": {
      "text/plain": [
       "   customerID  tenure PhoneService        Contract PaperlessBilling              PaymentMethod  MonthlyCharges TotalCharges Churn  gender  SeniorCitizen Partner Dependents     MultipleLines InternetService OnlineSecurity OnlineBackup DeviceProtection TechSupport StreamingTV StreamingMovies\n",
       "0  7590-VHVEG       1           No  Month-to-month              Yes           Electronic check           29.85        29.85    No  Female              0     Yes         No  No phone service             DSL             No          Yes               No          No          No              No\n",
       "1  5575-GNVDE      34          Yes        One year               No               Mailed check           56.95       1889.5    No    Male              0      No         No                No             DSL            Yes           No              Yes          No          No              No\n",
       "2  3668-QPYBK       2          Yes  Month-to-month              Yes               Mailed check           53.85       108.15   Yes    Male              0      No         No                No             DSL            Yes          Yes               No          No          No              No\n",
       "3  7795-CFOCW      45           No        One year               No  Bank transfer (automatic)           42.30      1840.75    No    Male              0      No         No  No phone service             DSL            Yes           No              Yes         Yes          No              No\n",
       "4  9237-HQITU       2          Yes  Month-to-month              Yes           Electronic check           70.70       151.65   Yes  Female              0      No         No                No     Fiber optic             No           No               No          No          No              No"
      ],
      "text/html": "<div>\n<style scoped>\n    .dataframe tbody tr th:only-of-type {\n        vertical-align: middle;\n    }\n\n    .dataframe tbody tr th {\n        vertical-align: top;\n    }\n\n    .dataframe thead th {\n        text-align: right;\n    }\n</style>\n<table border=\"1\" class=\"dataframe\">\n  <thead>\n    <tr style=\"text-align: right;\">\n      <th></th>\n      <th>customerID</th>\n      <th>tenure</th>\n      <th>PhoneService</th>\n      <th>Contract</th>\n      <th>PaperlessBilling</th>\n      <th>PaymentMethod</th>\n      <th>MonthlyCharges</th>\n      <th>TotalCharges</th>\n      <th>Churn</th>\n      <th>gender</th>\n      <th>SeniorCitizen</th>\n      <th>Partner</th>\n      <th>Dependents</th>\n      <th>MultipleLines</th>\n      <th>InternetService</th>\n      <th>OnlineSecurity</th>\n      <th>OnlineBackup</th>\n      <th>DeviceProtection</th>\n      <th>TechSupport</th>\n      <th>StreamingTV</th>\n      <th>StreamingMovies</th>\n    </tr>\n  </thead>\n  <tbody>\n    <tr>\n      <th>0</th>\n      <td>7590-VHVEG</td>\n      <td>1</td>\n      <td>No</td>\n      <td>Month-to-month</td>\n      <td>Yes</td>\n      <td>Electronic check</td>\n      <td>29.85</td>\n      <td>29.85</td>\n      <td>No</td>\n      <td>Female</td>\n      <td>0</td>\n      <td>Yes</td>\n      <td>No</td>\n      <td>No phone service</td>\n      <td>DSL</td>\n      <td>No</td>\n      <td>Yes</td>\n      <td>No</td>\n      <td>No</td>\n      <td>No</td>\n      <td>No</td>\n    </tr>\n    <tr>\n      <th>1</th>\n      <td>5575-GNVDE</td>\n      <td>34</td>\n      <td>Yes</td>\n      <td>One year</td>\n      <td>No</td>\n      <td>Mailed check</td>\n      <td>56.95</td>\n      <td>1889.5</td>\n      <td>No</td>\n      <td>Male</td>\n      <td>0</td>\n      <td>No</td>\n      <td>No</td>\n      <td>No</td>\n      <td>DSL</td>\n      <td>Yes</td>\n      <td>No</td>\n      <td>Yes</td>\n      <td>No</td>\n      <td>No</td>\n      <td>No</td>\n    </tr>\n    <tr>\n      <th>2</th>\n      <td>3668-QPYBK</td>\n      <td>2</td>\n      <td>Yes</td>\n      <td>Month-to-month</td>\n      <td>Yes</td>\n      <td>Mailed check</td>\n      <td>53.85</td>\n      <td>108.15</td>\n      <td>Yes</td>\n      <td>Male</td>\n      <td>0</td>\n      <td>No</td>\n      <td>No</td>\n      <td>No</td>\n      <td>DSL</td>\n      <td>Yes</td>\n      <td>Yes</td>\n      <td>No</td>\n      <td>No</td>\n      <td>No</td>\n      <td>No</td>\n    </tr>\n    <tr>\n      <th>3</th>\n      <td>7795-CFOCW</td>\n      <td>45</td>\n      <td>No</td>\n      <td>One year</td>\n      <td>No</td>\n      <td>Bank transfer (automatic)</td>\n      <td>42.30</td>\n      <td>1840.75</td>\n      <td>No</td>\n      <td>Male</td>\n      <td>0</td>\n      <td>No</td>\n      <td>No</td>\n      <td>No phone service</td>\n      <td>DSL</td>\n      <td>Yes</td>\n      <td>No</td>\n      <td>Yes</td>\n      <td>Yes</td>\n      <td>No</td>\n      <td>No</td>\n    </tr>\n    <tr>\n      <th>4</th>\n      <td>9237-HQITU</td>\n      <td>2</td>\n      <td>Yes</td>\n      <td>Month-to-month</td>\n      <td>Yes</td>\n      <td>Electronic check</td>\n      <td>70.70</td>\n      <td>151.65</td>\n      <td>Yes</td>\n      <td>Female</td>\n      <td>0</td>\n      <td>No</td>\n      <td>No</td>\n      <td>No</td>\n      <td>Fiber optic</td>\n      <td>No</td>\n      <td>No</td>\n      <td>No</td>\n      <td>No</td>\n      <td>No</td>\n      <td>No</td>\n    </tr>\n  </tbody>\n</table>\n</div>"
     },
     "metadata": {},
     "execution_count": 8
    }
   ],
   "source": [
    "telecom = pd.merge(df_1, internet_data, how='inner', on='customerID')\n",
    "telecom.head()"
   ]
  },
  {
   "cell_type": "code",
   "execution_count": 9,
   "metadata": {},
   "outputs": [
    {
     "output_type": "execute_result",
     "data": {
      "text/plain": [
       "(7043, 21)"
      ]
     },
     "metadata": {},
     "execution_count": 9
    }
   ],
   "source": [
    "telecom.shape"
   ]
  },
  {
   "cell_type": "code",
   "execution_count": 10,
   "metadata": {},
   "outputs": [],
   "source": [
    "def details(df):     \n",
    "    # Sum of null values\n",
    "    mis_val = df.isnull().sum()\n",
    "        \n",
    "    # Percentage of missing values\n",
    "    mis_val_percent = 100 * df.isnull().sum() / len(df)\n",
    "    \n",
    "    # Data type \n",
    "    data_type = df.dtypes\n",
    "    \n",
    "    #unique values\n",
    "    unique_val = df.nunique()\n",
    "        \n",
    "    # Make a table with the results\n",
    "    mis_val_table = pd.concat([mis_val, mis_val_percent, data_type, unique_val], axis=1)   \n",
    "        \n",
    "    # Rename the columns for clarity\n",
    "    mis_val_table_columns = mis_val_table.rename(columns = {0 : 'Missing Values', 1 : '% of Total Missing Values', 2 : 'Data_Type', 3: 'Unique values'})\n",
    "    return mis_val_table_columns"
   ]
  },
  {
   "cell_type": "code",
   "execution_count": 11,
   "metadata": {},
   "outputs": [
    {
     "output_type": "execute_result",
     "data": {
      "text/plain": [
       "                  Missing Values  % of Total Missing Values Data_Type  Unique values\n",
       "customerID                     0                        0.0    object           7043\n",
       "tenure                         0                        0.0     int64             73\n",
       "PhoneService                   0                        0.0    object              2\n",
       "Contract                       0                        0.0    object              3\n",
       "PaperlessBilling               0                        0.0    object              2\n",
       "PaymentMethod                  0                        0.0    object              4\n",
       "MonthlyCharges                 0                        0.0   float64           1585\n",
       "TotalCharges                   0                        0.0    object           6531\n",
       "Churn                          0                        0.0    object              2\n",
       "gender                         0                        0.0    object              2\n",
       "SeniorCitizen                  0                        0.0     int64              2\n",
       "Partner                        0                        0.0    object              2\n",
       "Dependents                     0                        0.0    object              2\n",
       "MultipleLines                  0                        0.0    object              3\n",
       "InternetService                0                        0.0    object              3\n",
       "OnlineSecurity                 0                        0.0    object              3\n",
       "OnlineBackup                   0                        0.0    object              3\n",
       "DeviceProtection               0                        0.0    object              3\n",
       "TechSupport                    0                        0.0    object              3\n",
       "StreamingTV                    0                        0.0    object              3\n",
       "StreamingMovies                0                        0.0    object              3"
      ],
      "text/html": "<div>\n<style scoped>\n    .dataframe tbody tr th:only-of-type {\n        vertical-align: middle;\n    }\n\n    .dataframe tbody tr th {\n        vertical-align: top;\n    }\n\n    .dataframe thead th {\n        text-align: right;\n    }\n</style>\n<table border=\"1\" class=\"dataframe\">\n  <thead>\n    <tr style=\"text-align: right;\">\n      <th></th>\n      <th>Missing Values</th>\n      <th>% of Total Missing Values</th>\n      <th>Data_Type</th>\n      <th>Unique values</th>\n    </tr>\n  </thead>\n  <tbody>\n    <tr>\n      <th>customerID</th>\n      <td>0</td>\n      <td>0.0</td>\n      <td>object</td>\n      <td>7043</td>\n    </tr>\n    <tr>\n      <th>tenure</th>\n      <td>0</td>\n      <td>0.0</td>\n      <td>int64</td>\n      <td>73</td>\n    </tr>\n    <tr>\n      <th>PhoneService</th>\n      <td>0</td>\n      <td>0.0</td>\n      <td>object</td>\n      <td>2</td>\n    </tr>\n    <tr>\n      <th>Contract</th>\n      <td>0</td>\n      <td>0.0</td>\n      <td>object</td>\n      <td>3</td>\n    </tr>\n    <tr>\n      <th>PaperlessBilling</th>\n      <td>0</td>\n      <td>0.0</td>\n      <td>object</td>\n      <td>2</td>\n    </tr>\n    <tr>\n      <th>PaymentMethod</th>\n      <td>0</td>\n      <td>0.0</td>\n      <td>object</td>\n      <td>4</td>\n    </tr>\n    <tr>\n      <th>MonthlyCharges</th>\n      <td>0</td>\n      <td>0.0</td>\n      <td>float64</td>\n      <td>1585</td>\n    </tr>\n    <tr>\n      <th>TotalCharges</th>\n      <td>0</td>\n      <td>0.0</td>\n      <td>object</td>\n      <td>6531</td>\n    </tr>\n    <tr>\n      <th>Churn</th>\n      <td>0</td>\n      <td>0.0</td>\n      <td>object</td>\n      <td>2</td>\n    </tr>\n    <tr>\n      <th>gender</th>\n      <td>0</td>\n      <td>0.0</td>\n      <td>object</td>\n      <td>2</td>\n    </tr>\n    <tr>\n      <th>SeniorCitizen</th>\n      <td>0</td>\n      <td>0.0</td>\n      <td>int64</td>\n      <td>2</td>\n    </tr>\n    <tr>\n      <th>Partner</th>\n      <td>0</td>\n      <td>0.0</td>\n      <td>object</td>\n      <td>2</td>\n    </tr>\n    <tr>\n      <th>Dependents</th>\n      <td>0</td>\n      <td>0.0</td>\n      <td>object</td>\n      <td>2</td>\n    </tr>\n    <tr>\n      <th>MultipleLines</th>\n      <td>0</td>\n      <td>0.0</td>\n      <td>object</td>\n      <td>3</td>\n    </tr>\n    <tr>\n      <th>InternetService</th>\n      <td>0</td>\n      <td>0.0</td>\n      <td>object</td>\n      <td>3</td>\n    </tr>\n    <tr>\n      <th>OnlineSecurity</th>\n      <td>0</td>\n      <td>0.0</td>\n      <td>object</td>\n      <td>3</td>\n    </tr>\n    <tr>\n      <th>OnlineBackup</th>\n      <td>0</td>\n      <td>0.0</td>\n      <td>object</td>\n      <td>3</td>\n    </tr>\n    <tr>\n      <th>DeviceProtection</th>\n      <td>0</td>\n      <td>0.0</td>\n      <td>object</td>\n      <td>3</td>\n    </tr>\n    <tr>\n      <th>TechSupport</th>\n      <td>0</td>\n      <td>0.0</td>\n      <td>object</td>\n      <td>3</td>\n    </tr>\n    <tr>\n      <th>StreamingTV</th>\n      <td>0</td>\n      <td>0.0</td>\n      <td>object</td>\n      <td>3</td>\n    </tr>\n    <tr>\n      <th>StreamingMovies</th>\n      <td>0</td>\n      <td>0.0</td>\n      <td>object</td>\n      <td>3</td>\n    </tr>\n  </tbody>\n</table>\n</div>"
     },
     "metadata": {},
     "execution_count": 11
    }
   ],
   "source": [
    "details(telecom)"
   ]
  },
  {
   "cell_type": "code",
   "execution_count": 12,
   "metadata": {},
   "outputs": [
    {
     "output_type": "execute_result",
     "data": {
      "text/plain": [
       "Yes    6361\n",
       "No      682\n",
       "Name: PhoneService, dtype: int64"
      ]
     },
     "metadata": {},
     "execution_count": 12
    }
   ],
   "source": [
    "telecom.PhoneService.value_counts(dropna=False)"
   ]
  },
  {
   "cell_type": "code",
   "execution_count": 13,
   "metadata": {},
   "outputs": [
    {
     "output_type": "execute_result",
     "data": {
      "text/plain": [
       "Month-to-month    3875\n",
       "Two year          1695\n",
       "One year          1473\n",
       "Name: Contract, dtype: int64"
      ]
     },
     "metadata": {},
     "execution_count": 13
    }
   ],
   "source": [
    "telecom.Contract.value_counts(dropna=False)"
   ]
  },
  {
   "cell_type": "code",
   "execution_count": 14,
   "metadata": {},
   "outputs": [
    {
     "output_type": "execute_result",
     "data": {
      "text/plain": [
       "Yes    4171\n",
       "No     2872\n",
       "Name: PaperlessBilling, dtype: int64"
      ]
     },
     "metadata": {},
     "execution_count": 14
    }
   ],
   "source": [
    "telecom.PaperlessBilling.value_counts(dropna=False)"
   ]
  },
  {
   "cell_type": "code",
   "execution_count": 15,
   "metadata": {},
   "outputs": [
    {
     "output_type": "execute_result",
     "data": {
      "text/plain": [
       "Electronic check             2365\n",
       "Mailed check                 1612\n",
       "Bank transfer (automatic)    1544\n",
       "Credit card (automatic)      1522\n",
       "Name: PaymentMethod, dtype: int64"
      ]
     },
     "metadata": {},
     "execution_count": 15
    }
   ],
   "source": [
    "telecom.PaymentMethod.value_counts(dropna=False)"
   ]
  },
  {
   "cell_type": "code",
   "execution_count": 16,
   "metadata": {},
   "outputs": [
    {
     "output_type": "execute_result",
     "data": {
      "text/plain": [
       "No     5174\n",
       "Yes    1869\n",
       "Name: Churn, dtype: int64"
      ]
     },
     "metadata": {},
     "execution_count": 16
    }
   ],
   "source": [
    "telecom.Churn.value_counts(dropna=False)"
   ]
  },
  {
   "cell_type": "code",
   "execution_count": 17,
   "metadata": {},
   "outputs": [
    {
     "output_type": "execute_result",
     "data": {
      "text/plain": [
       "Male      3555\n",
       "Female    3488\n",
       "Name: gender, dtype: int64"
      ]
     },
     "metadata": {},
     "execution_count": 17
    }
   ],
   "source": [
    "telecom.gender.value_counts(dropna=False)"
   ]
  },
  {
   "cell_type": "code",
   "execution_count": 18,
   "metadata": {},
   "outputs": [
    {
     "output_type": "execute_result",
     "data": {
      "text/plain": [
       "No     3641\n",
       "Yes    3402\n",
       "Name: Partner, dtype: int64"
      ]
     },
     "metadata": {},
     "execution_count": 18
    }
   ],
   "source": [
    "telecom.Partner.value_counts(dropna=False)"
   ]
  },
  {
   "cell_type": "code",
   "execution_count": 19,
   "metadata": {},
   "outputs": [
    {
     "output_type": "execute_result",
     "data": {
      "text/plain": [
       "No     4933\n",
       "Yes    2110\n",
       "Name: Dependents, dtype: int64"
      ]
     },
     "metadata": {},
     "execution_count": 19
    }
   ],
   "source": [
    "telecom.Dependents.value_counts(dropna=False)"
   ]
  },
  {
   "cell_type": "code",
   "execution_count": 20,
   "metadata": {},
   "outputs": [
    {
     "output_type": "execute_result",
     "data": {
      "text/plain": [
       "No                  3390\n",
       "Yes                 2971\n",
       "No phone service     682\n",
       "Name: MultipleLines, dtype: int64"
      ]
     },
     "metadata": {},
     "execution_count": 20
    }
   ],
   "source": [
    "telecom.MultipleLines.value_counts(dropna=False)"
   ]
  },
  {
   "cell_type": "code",
   "execution_count": 21,
   "metadata": {},
   "outputs": [
    {
     "output_type": "execute_result",
     "data": {
      "text/plain": [
       "Fiber optic    3096\n",
       "DSL            2421\n",
       "No             1526\n",
       "Name: InternetService, dtype: int64"
      ]
     },
     "metadata": {},
     "execution_count": 21
    }
   ],
   "source": [
    "telecom.InternetService.value_counts(dropna=False)"
   ]
  },
  {
   "cell_type": "code",
   "execution_count": 22,
   "metadata": {},
   "outputs": [
    {
     "output_type": "execute_result",
     "data": {
      "text/plain": [
       "No                     3498\n",
       "Yes                    2019\n",
       "No internet service    1526\n",
       "Name: OnlineSecurity, dtype: int64"
      ]
     },
     "metadata": {},
     "execution_count": 22
    }
   ],
   "source": [
    "telecom.OnlineSecurity.value_counts(dropna=False)"
   ]
  },
  {
   "cell_type": "code",
   "execution_count": 23,
   "metadata": {},
   "outputs": [
    {
     "output_type": "execute_result",
     "data": {
      "text/plain": [
       "No                     3088\n",
       "Yes                    2429\n",
       "No internet service    1526\n",
       "Name: OnlineBackup, dtype: int64"
      ]
     },
     "metadata": {},
     "execution_count": 23
    }
   ],
   "source": [
    "telecom.OnlineBackup.value_counts(dropna=False)"
   ]
  },
  {
   "cell_type": "code",
   "execution_count": 24,
   "metadata": {},
   "outputs": [
    {
     "output_type": "execute_result",
     "data": {
      "text/plain": [
       "No                     3095\n",
       "Yes                    2422\n",
       "No internet service    1526\n",
       "Name: DeviceProtection, dtype: int64"
      ]
     },
     "metadata": {},
     "execution_count": 24
    }
   ],
   "source": [
    "telecom.DeviceProtection.value_counts(dropna=False)"
   ]
  },
  {
   "cell_type": "code",
   "execution_count": 25,
   "metadata": {},
   "outputs": [
    {
     "output_type": "execute_result",
     "data": {
      "text/plain": [
       "No                     3473\n",
       "Yes                    2044\n",
       "No internet service    1526\n",
       "Name: TechSupport, dtype: int64"
      ]
     },
     "metadata": {},
     "execution_count": 25
    }
   ],
   "source": [
    "telecom.TechSupport.value_counts(dropna=False)"
   ]
  },
  {
   "cell_type": "code",
   "execution_count": 26,
   "metadata": {},
   "outputs": [
    {
     "output_type": "execute_result",
     "data": {
      "text/plain": [
       "No                     2810\n",
       "Yes                    2707\n",
       "No internet service    1526\n",
       "Name: StreamingTV, dtype: int64"
      ]
     },
     "metadata": {},
     "execution_count": 26
    }
   ],
   "source": [
    "telecom.StreamingTV.value_counts(dropna=False)"
   ]
  },
  {
   "cell_type": "code",
   "execution_count": 27,
   "metadata": {},
   "outputs": [
    {
     "output_type": "execute_result",
     "data": {
      "text/plain": [
       "No                     2785\n",
       "Yes                    2732\n",
       "No internet service    1526\n",
       "Name: StreamingMovies, dtype: int64"
      ]
     },
     "metadata": {},
     "execution_count": 27
    }
   ],
   "source": [
    "telecom.StreamingMovies.value_counts(dropna=False)"
   ]
  },
  {
   "cell_type": "code",
   "execution_count": 28,
   "metadata": {},
   "outputs": [
    {
     "output_type": "execute_result",
     "data": {
      "text/plain": [
       "0    5901\n",
       "1    1142\n",
       "Name: SeniorCitizen, dtype: int64"
      ]
     },
     "metadata": {},
     "execution_count": 28
    }
   ],
   "source": [
    "telecom.SeniorCitizen.value_counts(dropna=False)"
   ]
  },
  {
   "cell_type": "code",
   "execution_count": 29,
   "metadata": {},
   "outputs": [],
   "source": [
    "#telecom.TotalCharges = telecom.TotalCharges.astype(float)\n",
    "telecom.TotalCharges = pd.to_numeric(telecom.TotalCharges, errors='coerce')"
   ]
  },
  {
   "cell_type": "code",
   "execution_count": 30,
   "metadata": {},
   "outputs": [
    {
     "output_type": "execute_result",
     "data": {
      "text/plain": [
       "                  Missing Values  % of Total Missing Values Data_Type  Unique values\n",
       "customerID                     0                   0.000000    object           7043\n",
       "tenure                         0                   0.000000     int64             73\n",
       "PhoneService                   0                   0.000000    object              2\n",
       "Contract                       0                   0.000000    object              3\n",
       "PaperlessBilling               0                   0.000000    object              2\n",
       "PaymentMethod                  0                   0.000000    object              4\n",
       "MonthlyCharges                 0                   0.000000   float64           1585\n",
       "TotalCharges                  11                   0.156183   float64           6530\n",
       "Churn                          0                   0.000000    object              2\n",
       "gender                         0                   0.000000    object              2\n",
       "SeniorCitizen                  0                   0.000000     int64              2\n",
       "Partner                        0                   0.000000    object              2\n",
       "Dependents                     0                   0.000000    object              2\n",
       "MultipleLines                  0                   0.000000    object              3\n",
       "InternetService                0                   0.000000    object              3\n",
       "OnlineSecurity                 0                   0.000000    object              3\n",
       "OnlineBackup                   0                   0.000000    object              3\n",
       "DeviceProtection               0                   0.000000    object              3\n",
       "TechSupport                    0                   0.000000    object              3\n",
       "StreamingTV                    0                   0.000000    object              3\n",
       "StreamingMovies                0                   0.000000    object              3"
      ],
      "text/html": "<div>\n<style scoped>\n    .dataframe tbody tr th:only-of-type {\n        vertical-align: middle;\n    }\n\n    .dataframe tbody tr th {\n        vertical-align: top;\n    }\n\n    .dataframe thead th {\n        text-align: right;\n    }\n</style>\n<table border=\"1\" class=\"dataframe\">\n  <thead>\n    <tr style=\"text-align: right;\">\n      <th></th>\n      <th>Missing Values</th>\n      <th>% of Total Missing Values</th>\n      <th>Data_Type</th>\n      <th>Unique values</th>\n    </tr>\n  </thead>\n  <tbody>\n    <tr>\n      <th>customerID</th>\n      <td>0</td>\n      <td>0.000000</td>\n      <td>object</td>\n      <td>7043</td>\n    </tr>\n    <tr>\n      <th>tenure</th>\n      <td>0</td>\n      <td>0.000000</td>\n      <td>int64</td>\n      <td>73</td>\n    </tr>\n    <tr>\n      <th>PhoneService</th>\n      <td>0</td>\n      <td>0.000000</td>\n      <td>object</td>\n      <td>2</td>\n    </tr>\n    <tr>\n      <th>Contract</th>\n      <td>0</td>\n      <td>0.000000</td>\n      <td>object</td>\n      <td>3</td>\n    </tr>\n    <tr>\n      <th>PaperlessBilling</th>\n      <td>0</td>\n      <td>0.000000</td>\n      <td>object</td>\n      <td>2</td>\n    </tr>\n    <tr>\n      <th>PaymentMethod</th>\n      <td>0</td>\n      <td>0.000000</td>\n      <td>object</td>\n      <td>4</td>\n    </tr>\n    <tr>\n      <th>MonthlyCharges</th>\n      <td>0</td>\n      <td>0.000000</td>\n      <td>float64</td>\n      <td>1585</td>\n    </tr>\n    <tr>\n      <th>TotalCharges</th>\n      <td>11</td>\n      <td>0.156183</td>\n      <td>float64</td>\n      <td>6530</td>\n    </tr>\n    <tr>\n      <th>Churn</th>\n      <td>0</td>\n      <td>0.000000</td>\n      <td>object</td>\n      <td>2</td>\n    </tr>\n    <tr>\n      <th>gender</th>\n      <td>0</td>\n      <td>0.000000</td>\n      <td>object</td>\n      <td>2</td>\n    </tr>\n    <tr>\n      <th>SeniorCitizen</th>\n      <td>0</td>\n      <td>0.000000</td>\n      <td>int64</td>\n      <td>2</td>\n    </tr>\n    <tr>\n      <th>Partner</th>\n      <td>0</td>\n      <td>0.000000</td>\n      <td>object</td>\n      <td>2</td>\n    </tr>\n    <tr>\n      <th>Dependents</th>\n      <td>0</td>\n      <td>0.000000</td>\n      <td>object</td>\n      <td>2</td>\n    </tr>\n    <tr>\n      <th>MultipleLines</th>\n      <td>0</td>\n      <td>0.000000</td>\n      <td>object</td>\n      <td>3</td>\n    </tr>\n    <tr>\n      <th>InternetService</th>\n      <td>0</td>\n      <td>0.000000</td>\n      <td>object</td>\n      <td>3</td>\n    </tr>\n    <tr>\n      <th>OnlineSecurity</th>\n      <td>0</td>\n      <td>0.000000</td>\n      <td>object</td>\n      <td>3</td>\n    </tr>\n    <tr>\n      <th>OnlineBackup</th>\n      <td>0</td>\n      <td>0.000000</td>\n      <td>object</td>\n      <td>3</td>\n    </tr>\n    <tr>\n      <th>DeviceProtection</th>\n      <td>0</td>\n      <td>0.000000</td>\n      <td>object</td>\n      <td>3</td>\n    </tr>\n    <tr>\n      <th>TechSupport</th>\n      <td>0</td>\n      <td>0.000000</td>\n      <td>object</td>\n      <td>3</td>\n    </tr>\n    <tr>\n      <th>StreamingTV</th>\n      <td>0</td>\n      <td>0.000000</td>\n      <td>object</td>\n      <td>3</td>\n    </tr>\n    <tr>\n      <th>StreamingMovies</th>\n      <td>0</td>\n      <td>0.000000</td>\n      <td>object</td>\n      <td>3</td>\n    </tr>\n  </tbody>\n</table>\n</div>"
     },
     "metadata": {},
     "execution_count": 30
    }
   ],
   "source": [
    "details(telecom)"
   ]
  },
  {
   "cell_type": "code",
   "execution_count": 31,
   "metadata": {},
   "outputs": [],
   "source": [
    "telecom.TotalCharges.fillna(telecom.TotalCharges.median(), inplace=True)\n",
    "#telecom = telecom[~np.isnan(telecom['TotalCharges'])]"
   ]
  },
  {
   "cell_type": "code",
   "execution_count": 32,
   "metadata": {},
   "outputs": [
    {
     "output_type": "execute_result",
     "data": {
      "text/plain": [
       "            tenure  MonthlyCharges  TotalCharges\n",
       "count  7043.000000     7043.000000   7043.000000\n",
       "mean     32.371149       64.761692   2281.916928\n",
       "std      24.559481       30.090047   2265.270398\n",
       "min       0.000000       18.250000     18.800000\n",
       "1%        1.000000       19.200000     19.900000\n",
       "5%        1.000000       19.650000     49.650000\n",
       "25%       9.000000       35.500000    402.225000\n",
       "50%      29.000000       70.350000   1397.475000\n",
       "75%      55.000000       89.850000   3786.600000\n",
       "90%      69.000000      102.600000   5973.690000\n",
       "95%      72.000000      107.400000   6921.025000\n",
       "99%      72.000000      114.729000   8039.256000\n",
       "max      72.000000      118.750000   8684.800000"
      ],
      "text/html": "<div>\n<style scoped>\n    .dataframe tbody tr th:only-of-type {\n        vertical-align: middle;\n    }\n\n    .dataframe tbody tr th {\n        vertical-align: top;\n    }\n\n    .dataframe thead th {\n        text-align: right;\n    }\n</style>\n<table border=\"1\" class=\"dataframe\">\n  <thead>\n    <tr style=\"text-align: right;\">\n      <th></th>\n      <th>tenure</th>\n      <th>MonthlyCharges</th>\n      <th>TotalCharges</th>\n    </tr>\n  </thead>\n  <tbody>\n    <tr>\n      <th>count</th>\n      <td>7043.000000</td>\n      <td>7043.000000</td>\n      <td>7043.000000</td>\n    </tr>\n    <tr>\n      <th>mean</th>\n      <td>32.371149</td>\n      <td>64.761692</td>\n      <td>2281.916928</td>\n    </tr>\n    <tr>\n      <th>std</th>\n      <td>24.559481</td>\n      <td>30.090047</td>\n      <td>2265.270398</td>\n    </tr>\n    <tr>\n      <th>min</th>\n      <td>0.000000</td>\n      <td>18.250000</td>\n      <td>18.800000</td>\n    </tr>\n    <tr>\n      <th>1%</th>\n      <td>1.000000</td>\n      <td>19.200000</td>\n      <td>19.900000</td>\n    </tr>\n    <tr>\n      <th>5%</th>\n      <td>1.000000</td>\n      <td>19.650000</td>\n      <td>49.650000</td>\n    </tr>\n    <tr>\n      <th>25%</th>\n      <td>9.000000</td>\n      <td>35.500000</td>\n      <td>402.225000</td>\n    </tr>\n    <tr>\n      <th>50%</th>\n      <td>29.000000</td>\n      <td>70.350000</td>\n      <td>1397.475000</td>\n    </tr>\n    <tr>\n      <th>75%</th>\n      <td>55.000000</td>\n      <td>89.850000</td>\n      <td>3786.600000</td>\n    </tr>\n    <tr>\n      <th>90%</th>\n      <td>69.000000</td>\n      <td>102.600000</td>\n      <td>5973.690000</td>\n    </tr>\n    <tr>\n      <th>95%</th>\n      <td>72.000000</td>\n      <td>107.400000</td>\n      <td>6921.025000</td>\n    </tr>\n    <tr>\n      <th>99%</th>\n      <td>72.000000</td>\n      <td>114.729000</td>\n      <td>8039.256000</td>\n    </tr>\n    <tr>\n      <th>max</th>\n      <td>72.000000</td>\n      <td>118.750000</td>\n      <td>8684.800000</td>\n    </tr>\n  </tbody>\n</table>\n</div>"
     },
     "metadata": {},
     "execution_count": 32
    }
   ],
   "source": [
    "telecom[['tenure','MonthlyCharges','TotalCharges']].describe(percentiles=[0.01, 0.05, 0.25, 0.5, 0.75, 0.9, 0.95, 0.99])"
   ]
  },
  {
   "cell_type": "code",
   "execution_count": 33,
   "metadata": {},
   "outputs": [
    {
     "output_type": "execute_result",
     "data": {
      "text/plain": [
       "                  Missing Values  % of Total Missing Values Data_Type  Unique values\n",
       "customerID                     0                        0.0    object           7043\n",
       "tenure                         0                        0.0     int64             73\n",
       "PhoneService                   0                        0.0    object              2\n",
       "Contract                       0                        0.0    object              3\n",
       "PaperlessBilling               0                        0.0    object              2\n",
       "PaymentMethod                  0                        0.0    object              4\n",
       "MonthlyCharges                 0                        0.0   float64           1585\n",
       "TotalCharges                   0                        0.0   float64           6531\n",
       "Churn                          0                        0.0    object              2\n",
       "gender                         0                        0.0    object              2\n",
       "SeniorCitizen                  0                        0.0     int64              2\n",
       "Partner                        0                        0.0    object              2\n",
       "Dependents                     0                        0.0    object              2\n",
       "MultipleLines                  0                        0.0    object              3\n",
       "InternetService                0                        0.0    object              3\n",
       "OnlineSecurity                 0                        0.0    object              3\n",
       "OnlineBackup                   0                        0.0    object              3\n",
       "DeviceProtection               0                        0.0    object              3\n",
       "TechSupport                    0                        0.0    object              3\n",
       "StreamingTV                    0                        0.0    object              3\n",
       "StreamingMovies                0                        0.0    object              3"
      ],
      "text/html": "<div>\n<style scoped>\n    .dataframe tbody tr th:only-of-type {\n        vertical-align: middle;\n    }\n\n    .dataframe tbody tr th {\n        vertical-align: top;\n    }\n\n    .dataframe thead th {\n        text-align: right;\n    }\n</style>\n<table border=\"1\" class=\"dataframe\">\n  <thead>\n    <tr style=\"text-align: right;\">\n      <th></th>\n      <th>Missing Values</th>\n      <th>% of Total Missing Values</th>\n      <th>Data_Type</th>\n      <th>Unique values</th>\n    </tr>\n  </thead>\n  <tbody>\n    <tr>\n      <th>customerID</th>\n      <td>0</td>\n      <td>0.0</td>\n      <td>object</td>\n      <td>7043</td>\n    </tr>\n    <tr>\n      <th>tenure</th>\n      <td>0</td>\n      <td>0.0</td>\n      <td>int64</td>\n      <td>73</td>\n    </tr>\n    <tr>\n      <th>PhoneService</th>\n      <td>0</td>\n      <td>0.0</td>\n      <td>object</td>\n      <td>2</td>\n    </tr>\n    <tr>\n      <th>Contract</th>\n      <td>0</td>\n      <td>0.0</td>\n      <td>object</td>\n      <td>3</td>\n    </tr>\n    <tr>\n      <th>PaperlessBilling</th>\n      <td>0</td>\n      <td>0.0</td>\n      <td>object</td>\n      <td>2</td>\n    </tr>\n    <tr>\n      <th>PaymentMethod</th>\n      <td>0</td>\n      <td>0.0</td>\n      <td>object</td>\n      <td>4</td>\n    </tr>\n    <tr>\n      <th>MonthlyCharges</th>\n      <td>0</td>\n      <td>0.0</td>\n      <td>float64</td>\n      <td>1585</td>\n    </tr>\n    <tr>\n      <th>TotalCharges</th>\n      <td>0</td>\n      <td>0.0</td>\n      <td>float64</td>\n      <td>6531</td>\n    </tr>\n    <tr>\n      <th>Churn</th>\n      <td>0</td>\n      <td>0.0</td>\n      <td>object</td>\n      <td>2</td>\n    </tr>\n    <tr>\n      <th>gender</th>\n      <td>0</td>\n      <td>0.0</td>\n      <td>object</td>\n      <td>2</td>\n    </tr>\n    <tr>\n      <th>SeniorCitizen</th>\n      <td>0</td>\n      <td>0.0</td>\n      <td>int64</td>\n      <td>2</td>\n    </tr>\n    <tr>\n      <th>Partner</th>\n      <td>0</td>\n      <td>0.0</td>\n      <td>object</td>\n      <td>2</td>\n    </tr>\n    <tr>\n      <th>Dependents</th>\n      <td>0</td>\n      <td>0.0</td>\n      <td>object</td>\n      <td>2</td>\n    </tr>\n    <tr>\n      <th>MultipleLines</th>\n      <td>0</td>\n      <td>0.0</td>\n      <td>object</td>\n      <td>3</td>\n    </tr>\n    <tr>\n      <th>InternetService</th>\n      <td>0</td>\n      <td>0.0</td>\n      <td>object</td>\n      <td>3</td>\n    </tr>\n    <tr>\n      <th>OnlineSecurity</th>\n      <td>0</td>\n      <td>0.0</td>\n      <td>object</td>\n      <td>3</td>\n    </tr>\n    <tr>\n      <th>OnlineBackup</th>\n      <td>0</td>\n      <td>0.0</td>\n      <td>object</td>\n      <td>3</td>\n    </tr>\n    <tr>\n      <th>DeviceProtection</th>\n      <td>0</td>\n      <td>0.0</td>\n      <td>object</td>\n      <td>3</td>\n    </tr>\n    <tr>\n      <th>TechSupport</th>\n      <td>0</td>\n      <td>0.0</td>\n      <td>object</td>\n      <td>3</td>\n    </tr>\n    <tr>\n      <th>StreamingTV</th>\n      <td>0</td>\n      <td>0.0</td>\n      <td>object</td>\n      <td>3</td>\n    </tr>\n    <tr>\n      <th>StreamingMovies</th>\n      <td>0</td>\n      <td>0.0</td>\n      <td>object</td>\n      <td>3</td>\n    </tr>\n  </tbody>\n</table>\n</div>"
     },
     "metadata": {},
     "execution_count": 33
    }
   ],
   "source": [
    "details(telecom)"
   ]
  },
  {
   "source": [
    "### Converting to Binary"
   ],
   "cell_type": "markdown",
   "metadata": {}
  },
  {
   "cell_type": "code",
   "execution_count": 34,
   "metadata": {},
   "outputs": [
    {
     "output_type": "execute_result",
     "data": {
      "text/plain": [
       "   customerID  tenure  PhoneService        Contract  PaperlessBilling              PaymentMethod  MonthlyCharges  TotalCharges  Churn  gender  SeniorCitizen  Partner  Dependents     MultipleLines InternetService OnlineSecurity OnlineBackup DeviceProtection TechSupport StreamingTV StreamingMovies\n",
       "0  7590-VHVEG       1             0  Month-to-month                 1           Electronic check           29.85         29.85      0  Female              0        1           0  No phone service             DSL             No          Yes               No          No          No              No\n",
       "1  5575-GNVDE      34             1        One year                 0               Mailed check           56.95       1889.50      0    Male              0        0           0                No             DSL            Yes           No              Yes          No          No              No\n",
       "2  3668-QPYBK       2             1  Month-to-month                 1               Mailed check           53.85        108.15      1    Male              0        0           0                No             DSL            Yes          Yes               No          No          No              No\n",
       "3  7795-CFOCW      45             0        One year                 0  Bank transfer (automatic)           42.30       1840.75      0    Male              0        0           0  No phone service             DSL            Yes           No              Yes         Yes          No              No\n",
       "4  9237-HQITU       2             1  Month-to-month                 1           Electronic check           70.70        151.65      1  Female              0        0           0                No     Fiber optic             No           No               No          No          No              No"
      ],
      "text/html": "<div>\n<style scoped>\n    .dataframe tbody tr th:only-of-type {\n        vertical-align: middle;\n    }\n\n    .dataframe tbody tr th {\n        vertical-align: top;\n    }\n\n    .dataframe thead th {\n        text-align: right;\n    }\n</style>\n<table border=\"1\" class=\"dataframe\">\n  <thead>\n    <tr style=\"text-align: right;\">\n      <th></th>\n      <th>customerID</th>\n      <th>tenure</th>\n      <th>PhoneService</th>\n      <th>Contract</th>\n      <th>PaperlessBilling</th>\n      <th>PaymentMethod</th>\n      <th>MonthlyCharges</th>\n      <th>TotalCharges</th>\n      <th>Churn</th>\n      <th>gender</th>\n      <th>SeniorCitizen</th>\n      <th>Partner</th>\n      <th>Dependents</th>\n      <th>MultipleLines</th>\n      <th>InternetService</th>\n      <th>OnlineSecurity</th>\n      <th>OnlineBackup</th>\n      <th>DeviceProtection</th>\n      <th>TechSupport</th>\n      <th>StreamingTV</th>\n      <th>StreamingMovies</th>\n    </tr>\n  </thead>\n  <tbody>\n    <tr>\n      <th>0</th>\n      <td>7590-VHVEG</td>\n      <td>1</td>\n      <td>0</td>\n      <td>Month-to-month</td>\n      <td>1</td>\n      <td>Electronic check</td>\n      <td>29.85</td>\n      <td>29.85</td>\n      <td>0</td>\n      <td>Female</td>\n      <td>0</td>\n      <td>1</td>\n      <td>0</td>\n      <td>No phone service</td>\n      <td>DSL</td>\n      <td>No</td>\n      <td>Yes</td>\n      <td>No</td>\n      <td>No</td>\n      <td>No</td>\n      <td>No</td>\n    </tr>\n    <tr>\n      <th>1</th>\n      <td>5575-GNVDE</td>\n      <td>34</td>\n      <td>1</td>\n      <td>One year</td>\n      <td>0</td>\n      <td>Mailed check</td>\n      <td>56.95</td>\n      <td>1889.50</td>\n      <td>0</td>\n      <td>Male</td>\n      <td>0</td>\n      <td>0</td>\n      <td>0</td>\n      <td>No</td>\n      <td>DSL</td>\n      <td>Yes</td>\n      <td>No</td>\n      <td>Yes</td>\n      <td>No</td>\n      <td>No</td>\n      <td>No</td>\n    </tr>\n    <tr>\n      <th>2</th>\n      <td>3668-QPYBK</td>\n      <td>2</td>\n      <td>1</td>\n      <td>Month-to-month</td>\n      <td>1</td>\n      <td>Mailed check</td>\n      <td>53.85</td>\n      <td>108.15</td>\n      <td>1</td>\n      <td>Male</td>\n      <td>0</td>\n      <td>0</td>\n      <td>0</td>\n      <td>No</td>\n      <td>DSL</td>\n      <td>Yes</td>\n      <td>Yes</td>\n      <td>No</td>\n      <td>No</td>\n      <td>No</td>\n      <td>No</td>\n    </tr>\n    <tr>\n      <th>3</th>\n      <td>7795-CFOCW</td>\n      <td>45</td>\n      <td>0</td>\n      <td>One year</td>\n      <td>0</td>\n      <td>Bank transfer (automatic)</td>\n      <td>42.30</td>\n      <td>1840.75</td>\n      <td>0</td>\n      <td>Male</td>\n      <td>0</td>\n      <td>0</td>\n      <td>0</td>\n      <td>No phone service</td>\n      <td>DSL</td>\n      <td>Yes</td>\n      <td>No</td>\n      <td>Yes</td>\n      <td>Yes</td>\n      <td>No</td>\n      <td>No</td>\n    </tr>\n    <tr>\n      <th>4</th>\n      <td>9237-HQITU</td>\n      <td>2</td>\n      <td>1</td>\n      <td>Month-to-month</td>\n      <td>1</td>\n      <td>Electronic check</td>\n      <td>70.70</td>\n      <td>151.65</td>\n      <td>1</td>\n      <td>Female</td>\n      <td>0</td>\n      <td>0</td>\n      <td>0</td>\n      <td>No</td>\n      <td>Fiber optic</td>\n      <td>No</td>\n      <td>No</td>\n      <td>No</td>\n      <td>No</td>\n      <td>No</td>\n      <td>No</td>\n    </tr>\n  </tbody>\n</table>\n</div>"
     },
     "metadata": {},
     "execution_count": 34
    }
   ],
   "source": [
    "def binary_mapping(x):\n",
    "    return x.map({'Yes':1, 'No':0})\n",
    "telecom[['PhoneService','PaperlessBilling','Churn','Partner','Dependents']] = telecom[['PhoneService','PaperlessBilling','Churn','Partner','Dependents']].apply(binary_mapping)\n",
    "telecom.head()"
   ]
  },
  {
   "source": [
    "### Creating dummy variables (one hot encoding)"
   ],
   "cell_type": "markdown",
   "metadata": {}
  },
  {
   "cell_type": "code",
   "execution_count": 36,
   "metadata": {},
   "outputs": [
    {
     "output_type": "execute_result",
     "data": {
      "text/plain": [
       "   customerID  tenure  PhoneService        Contract  PaperlessBilling              PaymentMethod  MonthlyCharges  TotalCharges  Churn  gender  SeniorCitizen  Partner  Dependents     MultipleLines InternetService OnlineSecurity OnlineBackup DeviceProtection TechSupport StreamingTV StreamingMovies  Contract_One year  Contract_Two year  PaymentMethod_Credit card (automatic)  PaymentMethod_Electronic check  PaymentMethod_Mailed check  gender_Male\n",
       "0  7590-VHVEG       1             0  Month-to-month                 1           Electronic check           29.85         29.85      0  Female              0        1           0  No phone service             DSL             No          Yes               No          No          No              No                  0                  0                                      0                               1                           0            0\n",
       "1  5575-GNVDE      34             1        One year                 0               Mailed check           56.95       1889.50      0    Male              0        0           0                No             DSL            Yes           No              Yes          No          No              No                  1                  0                                      0                               0                           1            1\n",
       "2  3668-QPYBK       2             1  Month-to-month                 1               Mailed check           53.85        108.15      1    Male              0        0           0                No             DSL            Yes          Yes               No          No          No              No                  0                  0                                      0                               0                           1            1\n",
       "3  7795-CFOCW      45             0        One year                 0  Bank transfer (automatic)           42.30       1840.75      0    Male              0        0           0  No phone service             DSL            Yes           No              Yes         Yes          No              No                  1                  0                                      0                               0                           0            1\n",
       "4  9237-HQITU       2             1  Month-to-month                 1           Electronic check           70.70        151.65      1  Female              0        0           0                No     Fiber optic             No           No               No          No          No              No                  0                  0                                      0                               1                           0            0"
      ],
      "text/html": "<div>\n<style scoped>\n    .dataframe tbody tr th:only-of-type {\n        vertical-align: middle;\n    }\n\n    .dataframe tbody tr th {\n        vertical-align: top;\n    }\n\n    .dataframe thead th {\n        text-align: right;\n    }\n</style>\n<table border=\"1\" class=\"dataframe\">\n  <thead>\n    <tr style=\"text-align: right;\">\n      <th></th>\n      <th>customerID</th>\n      <th>tenure</th>\n      <th>PhoneService</th>\n      <th>Contract</th>\n      <th>PaperlessBilling</th>\n      <th>PaymentMethod</th>\n      <th>MonthlyCharges</th>\n      <th>TotalCharges</th>\n      <th>Churn</th>\n      <th>gender</th>\n      <th>SeniorCitizen</th>\n      <th>Partner</th>\n      <th>Dependents</th>\n      <th>MultipleLines</th>\n      <th>InternetService</th>\n      <th>OnlineSecurity</th>\n      <th>OnlineBackup</th>\n      <th>DeviceProtection</th>\n      <th>TechSupport</th>\n      <th>StreamingTV</th>\n      <th>StreamingMovies</th>\n      <th>Contract_One year</th>\n      <th>Contract_Two year</th>\n      <th>PaymentMethod_Credit card (automatic)</th>\n      <th>PaymentMethod_Electronic check</th>\n      <th>PaymentMethod_Mailed check</th>\n      <th>gender_Male</th>\n    </tr>\n  </thead>\n  <tbody>\n    <tr>\n      <th>0</th>\n      <td>7590-VHVEG</td>\n      <td>1</td>\n      <td>0</td>\n      <td>Month-to-month</td>\n      <td>1</td>\n      <td>Electronic check</td>\n      <td>29.85</td>\n      <td>29.85</td>\n      <td>0</td>\n      <td>Female</td>\n      <td>0</td>\n      <td>1</td>\n      <td>0</td>\n      <td>No phone service</td>\n      <td>DSL</td>\n      <td>No</td>\n      <td>Yes</td>\n      <td>No</td>\n      <td>No</td>\n      <td>No</td>\n      <td>No</td>\n      <td>0</td>\n      <td>0</td>\n      <td>0</td>\n      <td>1</td>\n      <td>0</td>\n      <td>0</td>\n    </tr>\n    <tr>\n      <th>1</th>\n      <td>5575-GNVDE</td>\n      <td>34</td>\n      <td>1</td>\n      <td>One year</td>\n      <td>0</td>\n      <td>Mailed check</td>\n      <td>56.95</td>\n      <td>1889.50</td>\n      <td>0</td>\n      <td>Male</td>\n      <td>0</td>\n      <td>0</td>\n      <td>0</td>\n      <td>No</td>\n      <td>DSL</td>\n      <td>Yes</td>\n      <td>No</td>\n      <td>Yes</td>\n      <td>No</td>\n      <td>No</td>\n      <td>No</td>\n      <td>1</td>\n      <td>0</td>\n      <td>0</td>\n      <td>0</td>\n      <td>1</td>\n      <td>1</td>\n    </tr>\n    <tr>\n      <th>2</th>\n      <td>3668-QPYBK</td>\n      <td>2</td>\n      <td>1</td>\n      <td>Month-to-month</td>\n      <td>1</td>\n      <td>Mailed check</td>\n      <td>53.85</td>\n      <td>108.15</td>\n      <td>1</td>\n      <td>Male</td>\n      <td>0</td>\n      <td>0</td>\n      <td>0</td>\n      <td>No</td>\n      <td>DSL</td>\n      <td>Yes</td>\n      <td>Yes</td>\n      <td>No</td>\n      <td>No</td>\n      <td>No</td>\n      <td>No</td>\n      <td>0</td>\n      <td>0</td>\n      <td>0</td>\n      <td>0</td>\n      <td>1</td>\n      <td>1</td>\n    </tr>\n    <tr>\n      <th>3</th>\n      <td>7795-CFOCW</td>\n      <td>45</td>\n      <td>0</td>\n      <td>One year</td>\n      <td>0</td>\n      <td>Bank transfer (automatic)</td>\n      <td>42.30</td>\n      <td>1840.75</td>\n      <td>0</td>\n      <td>Male</td>\n      <td>0</td>\n      <td>0</td>\n      <td>0</td>\n      <td>No phone service</td>\n      <td>DSL</td>\n      <td>Yes</td>\n      <td>No</td>\n      <td>Yes</td>\n      <td>Yes</td>\n      <td>No</td>\n      <td>No</td>\n      <td>1</td>\n      <td>0</td>\n      <td>0</td>\n      <td>0</td>\n      <td>0</td>\n      <td>1</td>\n    </tr>\n    <tr>\n      <th>4</th>\n      <td>9237-HQITU</td>\n      <td>2</td>\n      <td>1</td>\n      <td>Month-to-month</td>\n      <td>1</td>\n      <td>Electronic check</td>\n      <td>70.70</td>\n      <td>151.65</td>\n      <td>1</td>\n      <td>Female</td>\n      <td>0</td>\n      <td>0</td>\n      <td>0</td>\n      <td>No</td>\n      <td>Fiber optic</td>\n      <td>No</td>\n      <td>No</td>\n      <td>No</td>\n      <td>No</td>\n      <td>No</td>\n      <td>No</td>\n      <td>0</td>\n      <td>0</td>\n      <td>0</td>\n      <td>1</td>\n      <td>0</td>\n      <td>0</td>\n    </tr>\n  </tbody>\n</table>\n</div>"
     },
     "metadata": {},
     "execution_count": 36
    }
   ],
   "source": [
    "dummy = pd.get_dummies(telecom[['Contract','PaymentMethod','gender']], drop_first=True)\n",
    "telecom = pd.concat([telecom, dummy], axis=1)\n",
    "telecom.head()"
   ]
  },
  {
   "source": [
    "### Creating dummy variables by removing unwanted segments"
   ],
   "cell_type": "markdown",
   "metadata": {}
  },
  {
   "cell_type": "code",
   "execution_count": 38,
   "metadata": {},
   "outputs": [],
   "source": [
    "is1 = pd.get_dummies(telecom['InternetService'], prefix='InternetService')\n",
    "# Dropping MultipleLines_No phone service column\n",
    "is2 = is1.drop(['InternetService_No'], 1)\n",
    "#Adding the results to the master dataframe\n",
    "telecom = pd.concat([telecom,is2], axis=1)\n",
    "\n",
    "ml1 = pd.get_dummies(telecom['MultipleLines'], prefix='MultipleLines')\n",
    "# Dropping MultipleLines_No phone service column\n",
    "ml2 = ml1.drop(['MultipleLines_No phone service'], 1)\n",
    "#Adding the results to the master dataframe\n",
    "telecom = pd.concat([telecom,ml2], axis=1)\n",
    "\n",
    "os1 = pd.get_dummies(telecom['OnlineSecurity'], prefix='OnlineSecurity')\n",
    "# Dropping MultipleLines_No phone service column\n",
    "os2 = os1.drop(['OnlineSecurity_No internet service'], 1)\n",
    "#Adding the results to the master dataframe\n",
    "telecom = pd.concat([telecom,os2], axis=1)\n",
    "\n",
    "dp1 = pd.get_dummies(telecom['DeviceProtection'], prefix='DeviceProtection')\n",
    "# Dropping MultipleLines_No phone service column\n",
    "dp2 = dp1.drop(['DeviceProtection_No internet service'], 1)\n",
    "#Adding the results to the master dataframe\n",
    "telecom = pd.concat([telecom,dp2], axis=1)\n",
    "\n",
    "ts1 = pd.get_dummies(telecom['TechSupport'], prefix='TechSupport')\n",
    "ts2 = ts1.drop(['TechSupport_No internet service'], 1)\n",
    "# Adding the results to the master dataframe\n",
    "telecom = pd.concat([telecom,ts2], axis=1)\n",
    "\n",
    "st1 =pd.get_dummies(telecom['StreamingTV'], prefix='StreamingTV')\n",
    "st2 = st1.drop(['StreamingTV_No internet service'], 1)\n",
    "# Adding the results to the master dataframe\n",
    "telecom = pd.concat([telecom,st2], axis=1)\n",
    "\n",
    "sm1 = pd.get_dummies(telecom['StreamingMovies'], prefix='StreamingMovies')\n",
    "sm2 = sm1.drop(['StreamingMovies_No internet service'], 1)\n",
    "# Adding the results to the master dataframe\n",
    "telecom = pd.concat([telecom,sm2], axis=1)"
   ]
  },
  {
   "source": [
    "### Dropping repeated columns"
   ],
   "cell_type": "markdown",
   "metadata": {}
  },
  {
   "cell_type": "code",
   "execution_count": 41,
   "metadata": {},
   "outputs": [
    {
     "output_type": "execute_result",
     "data": {
      "text/plain": [
       "   customerID  tenure  PhoneService  PaperlessBilling  MonthlyCharges  TotalCharges  Churn  SeniorCitizen  Partner  Dependents  Contract_One year  Contract_Two year  PaymentMethod_Credit card (automatic)  PaymentMethod_Electronic check  PaymentMethod_Mailed check  gender_Male  InternetService_DSL  InternetService_Fiber optic  MultipleLines_No  MultipleLines_Yes  InternetService_DSL  InternetService_Fiber optic  MultipleLines_No  MultipleLines_Yes  OnlineSecurity_No  OnlineSecurity_Yes  \\\n",
       "0  7590-VHVEG       1             0                 1           29.85         29.85      0              0        1           0                  0                  0                                      0                               1                           0            0                    1                            0                 0                  0                    1                            0                 0                  0                  1                   0   \n",
       "1  5575-GNVDE      34             1                 0           56.95       1889.50      0              0        0           0                  1                  0                                      0                               0                           1            1                    1                            0                 1                  0                    1                            0                 1                  0                  0                   1   \n",
       "2  3668-QPYBK       2             1                 1           53.85        108.15      1              0        0           0                  0                  0                                      0                               0                           1            1                    1                            0                 1                  0                    1                            0                 1                  0                  0                   1   \n",
       "3  7795-CFOCW      45             0                 0           42.30       1840.75      0              0        0           0                  1                  0                                      0                               0                           0            1                    1                            0                 0                  0                    1                            0                 0                  0                  0                   1   \n",
       "4  9237-HQITU       2             1                 1           70.70        151.65      1              0        0           0                  0                  0                                      0                               1                           0            0                    0                            1                 1                  0                    0                            1                 1                  0                  1                   0   \n",
       "\n",
       "   DeviceProtection_No  DeviceProtection_Yes  TechSupport_No  TechSupport_Yes  StreamingTV_No  StreamingTV_Yes  StreamingMovies_No  StreamingMovies_Yes  \n",
       "0                    1                     0               1                0               1                0                   1                    0  \n",
       "1                    0                     1               1                0               1                0                   1                    0  \n",
       "2                    1                     0               1                0               1                0                   1                    0  \n",
       "3                    0                     1               0                1               1                0                   1                    0  \n",
       "4                    1                     0               1                0               1                0                   1                    0  "
      ],
      "text/html": "<div>\n<style scoped>\n    .dataframe tbody tr th:only-of-type {\n        vertical-align: middle;\n    }\n\n    .dataframe tbody tr th {\n        vertical-align: top;\n    }\n\n    .dataframe thead th {\n        text-align: right;\n    }\n</style>\n<table border=\"1\" class=\"dataframe\">\n  <thead>\n    <tr style=\"text-align: right;\">\n      <th></th>\n      <th>customerID</th>\n      <th>tenure</th>\n      <th>PhoneService</th>\n      <th>PaperlessBilling</th>\n      <th>MonthlyCharges</th>\n      <th>TotalCharges</th>\n      <th>Churn</th>\n      <th>SeniorCitizen</th>\n      <th>Partner</th>\n      <th>Dependents</th>\n      <th>Contract_One year</th>\n      <th>Contract_Two year</th>\n      <th>PaymentMethod_Credit card (automatic)</th>\n      <th>PaymentMethod_Electronic check</th>\n      <th>PaymentMethod_Mailed check</th>\n      <th>gender_Male</th>\n      <th>InternetService_DSL</th>\n      <th>InternetService_Fiber optic</th>\n      <th>MultipleLines_No</th>\n      <th>MultipleLines_Yes</th>\n      <th>InternetService_DSL</th>\n      <th>InternetService_Fiber optic</th>\n      <th>MultipleLines_No</th>\n      <th>MultipleLines_Yes</th>\n      <th>OnlineSecurity_No</th>\n      <th>OnlineSecurity_Yes</th>\n      <th>DeviceProtection_No</th>\n      <th>DeviceProtection_Yes</th>\n      <th>TechSupport_No</th>\n      <th>TechSupport_Yes</th>\n      <th>StreamingTV_No</th>\n      <th>StreamingTV_Yes</th>\n      <th>StreamingMovies_No</th>\n      <th>StreamingMovies_Yes</th>\n    </tr>\n  </thead>\n  <tbody>\n    <tr>\n      <th>0</th>\n      <td>7590-VHVEG</td>\n      <td>1</td>\n      <td>0</td>\n      <td>1</td>\n      <td>29.85</td>\n      <td>29.85</td>\n      <td>0</td>\n      <td>0</td>\n      <td>1</td>\n      <td>0</td>\n      <td>0</td>\n      <td>0</td>\n      <td>0</td>\n      <td>1</td>\n      <td>0</td>\n      <td>0</td>\n      <td>1</td>\n      <td>0</td>\n      <td>0</td>\n      <td>0</td>\n      <td>1</td>\n      <td>0</td>\n      <td>0</td>\n      <td>0</td>\n      <td>1</td>\n      <td>0</td>\n      <td>1</td>\n      <td>0</td>\n      <td>1</td>\n      <td>0</td>\n      <td>1</td>\n      <td>0</td>\n      <td>1</td>\n      <td>0</td>\n    </tr>\n    <tr>\n      <th>1</th>\n      <td>5575-GNVDE</td>\n      <td>34</td>\n      <td>1</td>\n      <td>0</td>\n      <td>56.95</td>\n      <td>1889.50</td>\n      <td>0</td>\n      <td>0</td>\n      <td>0</td>\n      <td>0</td>\n      <td>1</td>\n      <td>0</td>\n      <td>0</td>\n      <td>0</td>\n      <td>1</td>\n      <td>1</td>\n      <td>1</td>\n      <td>0</td>\n      <td>1</td>\n      <td>0</td>\n      <td>1</td>\n      <td>0</td>\n      <td>1</td>\n      <td>0</td>\n      <td>0</td>\n      <td>1</td>\n      <td>0</td>\n      <td>1</td>\n      <td>1</td>\n      <td>0</td>\n      <td>1</td>\n      <td>0</td>\n      <td>1</td>\n      <td>0</td>\n    </tr>\n    <tr>\n      <th>2</th>\n      <td>3668-QPYBK</td>\n      <td>2</td>\n      <td>1</td>\n      <td>1</td>\n      <td>53.85</td>\n      <td>108.15</td>\n      <td>1</td>\n      <td>0</td>\n      <td>0</td>\n      <td>0</td>\n      <td>0</td>\n      <td>0</td>\n      <td>0</td>\n      <td>0</td>\n      <td>1</td>\n      <td>1</td>\n      <td>1</td>\n      <td>0</td>\n      <td>1</td>\n      <td>0</td>\n      <td>1</td>\n      <td>0</td>\n      <td>1</td>\n      <td>0</td>\n      <td>0</td>\n      <td>1</td>\n      <td>1</td>\n      <td>0</td>\n      <td>1</td>\n      <td>0</td>\n      <td>1</td>\n      <td>0</td>\n      <td>1</td>\n      <td>0</td>\n    </tr>\n    <tr>\n      <th>3</th>\n      <td>7795-CFOCW</td>\n      <td>45</td>\n      <td>0</td>\n      <td>0</td>\n      <td>42.30</td>\n      <td>1840.75</td>\n      <td>0</td>\n      <td>0</td>\n      <td>0</td>\n      <td>0</td>\n      <td>1</td>\n      <td>0</td>\n      <td>0</td>\n      <td>0</td>\n      <td>0</td>\n      <td>1</td>\n      <td>1</td>\n      <td>0</td>\n      <td>0</td>\n      <td>0</td>\n      <td>1</td>\n      <td>0</td>\n      <td>0</td>\n      <td>0</td>\n      <td>0</td>\n      <td>1</td>\n      <td>0</td>\n      <td>1</td>\n      <td>0</td>\n      <td>1</td>\n      <td>1</td>\n      <td>0</td>\n      <td>1</td>\n      <td>0</td>\n    </tr>\n    <tr>\n      <th>4</th>\n      <td>9237-HQITU</td>\n      <td>2</td>\n      <td>1</td>\n      <td>1</td>\n      <td>70.70</td>\n      <td>151.65</td>\n      <td>1</td>\n      <td>0</td>\n      <td>0</td>\n      <td>0</td>\n      <td>0</td>\n      <td>0</td>\n      <td>0</td>\n      <td>1</td>\n      <td>0</td>\n      <td>0</td>\n      <td>0</td>\n      <td>1</td>\n      <td>1</td>\n      <td>0</td>\n      <td>0</td>\n      <td>1</td>\n      <td>1</td>\n      <td>0</td>\n      <td>1</td>\n      <td>0</td>\n      <td>1</td>\n      <td>0</td>\n      <td>1</td>\n      <td>0</td>\n      <td>1</td>\n      <td>0</td>\n      <td>1</td>\n      <td>0</td>\n    </tr>\n  </tbody>\n</table>\n</div>"
     },
     "metadata": {},
     "execution_count": 41
    }
   ],
   "source": [
    "telecom = telecom.drop(['Contract','PaymentMethod','gender','MultipleLines','InternetService', 'OnlineSecurity', 'OnlineBackup', 'DeviceProtection', 'TechSupport', 'StreamingTV', 'StreamingMovies'], 1)\n",
    "telecom.head()"
   ]
  },
  {
   "cell_type": "code",
   "execution_count": 42,
   "metadata": {},
   "outputs": [
    {
     "output_type": "execute_result",
     "data": {
      "text/plain": [
       "(7043, 34)"
      ]
     },
     "metadata": {},
     "execution_count": 42
    }
   ],
   "source": [
    "telecom.shape"
   ]
  },
  {
   "cell_type": "code",
   "execution_count": 43,
   "metadata": {},
   "outputs": [
    {
     "output_type": "execute_result",
     "data": {
      "text/plain": [
       "                                       Missing Values  % of Total Missing Values Data_Type  Unique values\n",
       "customerID                                          0                        0.0    object           7043\n",
       "tenure                                              0                        0.0     int64             73\n",
       "PhoneService                                        0                        0.0     int64              2\n",
       "PaperlessBilling                                    0                        0.0     int64              2\n",
       "MonthlyCharges                                      0                        0.0   float64           1585\n",
       "TotalCharges                                        0                        0.0   float64           6531\n",
       "Churn                                               0                        0.0     int64              2\n",
       "SeniorCitizen                                       0                        0.0     int64              2\n",
       "Partner                                             0                        0.0     int64              2\n",
       "Dependents                                          0                        0.0     int64              2\n",
       "Contract_One year                                   0                        0.0     uint8              2\n",
       "Contract_Two year                                   0                        0.0     uint8              2\n",
       "PaymentMethod_Credit card (automatic)               0                        0.0     uint8              2\n",
       "PaymentMethod_Electronic check                      0                        0.0     uint8              2\n",
       "PaymentMethod_Mailed check                          0                        0.0     uint8              2\n",
       "gender_Male                                         0                        0.0     uint8              2\n",
       "InternetService_DSL                                 0                        0.0     uint8              2\n",
       "InternetService_Fiber optic                         0                        0.0     uint8              2\n",
       "MultipleLines_No                                    0                        0.0     uint8              2\n",
       "MultipleLines_Yes                                   0                        0.0     uint8              2\n",
       "InternetService_DSL                                 0                        0.0     uint8              2\n",
       "InternetService_Fiber optic                         0                        0.0     uint8              2\n",
       "MultipleLines_No                                    0                        0.0     uint8              2\n",
       "MultipleLines_Yes                                   0                        0.0     uint8              2\n",
       "OnlineSecurity_No                                   0                        0.0     uint8              2\n",
       "OnlineSecurity_Yes                                  0                        0.0     uint8              2\n",
       "DeviceProtection_No                                 0                        0.0     uint8              2\n",
       "DeviceProtection_Yes                                0                        0.0     uint8              2\n",
       "TechSupport_No                                      0                        0.0     uint8              2\n",
       "TechSupport_Yes                                     0                        0.0     uint8              2\n",
       "StreamingTV_No                                      0                        0.0     uint8              2\n",
       "StreamingTV_Yes                                     0                        0.0     uint8              2\n",
       "StreamingMovies_No                                  0                        0.0     uint8              2\n",
       "StreamingMovies_Yes                                 0                        0.0     uint8              2"
      ],
      "text/html": "<div>\n<style scoped>\n    .dataframe tbody tr th:only-of-type {\n        vertical-align: middle;\n    }\n\n    .dataframe tbody tr th {\n        vertical-align: top;\n    }\n\n    .dataframe thead th {\n        text-align: right;\n    }\n</style>\n<table border=\"1\" class=\"dataframe\">\n  <thead>\n    <tr style=\"text-align: right;\">\n      <th></th>\n      <th>Missing Values</th>\n      <th>% of Total Missing Values</th>\n      <th>Data_Type</th>\n      <th>Unique values</th>\n    </tr>\n  </thead>\n  <tbody>\n    <tr>\n      <th>customerID</th>\n      <td>0</td>\n      <td>0.0</td>\n      <td>object</td>\n      <td>7043</td>\n    </tr>\n    <tr>\n      <th>tenure</th>\n      <td>0</td>\n      <td>0.0</td>\n      <td>int64</td>\n      <td>73</td>\n    </tr>\n    <tr>\n      <th>PhoneService</th>\n      <td>0</td>\n      <td>0.0</td>\n      <td>int64</td>\n      <td>2</td>\n    </tr>\n    <tr>\n      <th>PaperlessBilling</th>\n      <td>0</td>\n      <td>0.0</td>\n      <td>int64</td>\n      <td>2</td>\n    </tr>\n    <tr>\n      <th>MonthlyCharges</th>\n      <td>0</td>\n      <td>0.0</td>\n      <td>float64</td>\n      <td>1585</td>\n    </tr>\n    <tr>\n      <th>TotalCharges</th>\n      <td>0</td>\n      <td>0.0</td>\n      <td>float64</td>\n      <td>6531</td>\n    </tr>\n    <tr>\n      <th>Churn</th>\n      <td>0</td>\n      <td>0.0</td>\n      <td>int64</td>\n      <td>2</td>\n    </tr>\n    <tr>\n      <th>SeniorCitizen</th>\n      <td>0</td>\n      <td>0.0</td>\n      <td>int64</td>\n      <td>2</td>\n    </tr>\n    <tr>\n      <th>Partner</th>\n      <td>0</td>\n      <td>0.0</td>\n      <td>int64</td>\n      <td>2</td>\n    </tr>\n    <tr>\n      <th>Dependents</th>\n      <td>0</td>\n      <td>0.0</td>\n      <td>int64</td>\n      <td>2</td>\n    </tr>\n    <tr>\n      <th>Contract_One year</th>\n      <td>0</td>\n      <td>0.0</td>\n      <td>uint8</td>\n      <td>2</td>\n    </tr>\n    <tr>\n      <th>Contract_Two year</th>\n      <td>0</td>\n      <td>0.0</td>\n      <td>uint8</td>\n      <td>2</td>\n    </tr>\n    <tr>\n      <th>PaymentMethod_Credit card (automatic)</th>\n      <td>0</td>\n      <td>0.0</td>\n      <td>uint8</td>\n      <td>2</td>\n    </tr>\n    <tr>\n      <th>PaymentMethod_Electronic check</th>\n      <td>0</td>\n      <td>0.0</td>\n      <td>uint8</td>\n      <td>2</td>\n    </tr>\n    <tr>\n      <th>PaymentMethod_Mailed check</th>\n      <td>0</td>\n      <td>0.0</td>\n      <td>uint8</td>\n      <td>2</td>\n    </tr>\n    <tr>\n      <th>gender_Male</th>\n      <td>0</td>\n      <td>0.0</td>\n      <td>uint8</td>\n      <td>2</td>\n    </tr>\n    <tr>\n      <th>InternetService_DSL</th>\n      <td>0</td>\n      <td>0.0</td>\n      <td>uint8</td>\n      <td>2</td>\n    </tr>\n    <tr>\n      <th>InternetService_Fiber optic</th>\n      <td>0</td>\n      <td>0.0</td>\n      <td>uint8</td>\n      <td>2</td>\n    </tr>\n    <tr>\n      <th>MultipleLines_No</th>\n      <td>0</td>\n      <td>0.0</td>\n      <td>uint8</td>\n      <td>2</td>\n    </tr>\n    <tr>\n      <th>MultipleLines_Yes</th>\n      <td>0</td>\n      <td>0.0</td>\n      <td>uint8</td>\n      <td>2</td>\n    </tr>\n    <tr>\n      <th>InternetService_DSL</th>\n      <td>0</td>\n      <td>0.0</td>\n      <td>uint8</td>\n      <td>2</td>\n    </tr>\n    <tr>\n      <th>InternetService_Fiber optic</th>\n      <td>0</td>\n      <td>0.0</td>\n      <td>uint8</td>\n      <td>2</td>\n    </tr>\n    <tr>\n      <th>MultipleLines_No</th>\n      <td>0</td>\n      <td>0.0</td>\n      <td>uint8</td>\n      <td>2</td>\n    </tr>\n    <tr>\n      <th>MultipleLines_Yes</th>\n      <td>0</td>\n      <td>0.0</td>\n      <td>uint8</td>\n      <td>2</td>\n    </tr>\n    <tr>\n      <th>OnlineSecurity_No</th>\n      <td>0</td>\n      <td>0.0</td>\n      <td>uint8</td>\n      <td>2</td>\n    </tr>\n    <tr>\n      <th>OnlineSecurity_Yes</th>\n      <td>0</td>\n      <td>0.0</td>\n      <td>uint8</td>\n      <td>2</td>\n    </tr>\n    <tr>\n      <th>DeviceProtection_No</th>\n      <td>0</td>\n      <td>0.0</td>\n      <td>uint8</td>\n      <td>2</td>\n    </tr>\n    <tr>\n      <th>DeviceProtection_Yes</th>\n      <td>0</td>\n      <td>0.0</td>\n      <td>uint8</td>\n      <td>2</td>\n    </tr>\n    <tr>\n      <th>TechSupport_No</th>\n      <td>0</td>\n      <td>0.0</td>\n      <td>uint8</td>\n      <td>2</td>\n    </tr>\n    <tr>\n      <th>TechSupport_Yes</th>\n      <td>0</td>\n      <td>0.0</td>\n      <td>uint8</td>\n      <td>2</td>\n    </tr>\n    <tr>\n      <th>StreamingTV_No</th>\n      <td>0</td>\n      <td>0.0</td>\n      <td>uint8</td>\n      <td>2</td>\n    </tr>\n    <tr>\n      <th>StreamingTV_Yes</th>\n      <td>0</td>\n      <td>0.0</td>\n      <td>uint8</td>\n      <td>2</td>\n    </tr>\n    <tr>\n      <th>StreamingMovies_No</th>\n      <td>0</td>\n      <td>0.0</td>\n      <td>uint8</td>\n      <td>2</td>\n    </tr>\n    <tr>\n      <th>StreamingMovies_Yes</th>\n      <td>0</td>\n      <td>0.0</td>\n      <td>uint8</td>\n      <td>2</td>\n    </tr>\n  </tbody>\n</table>\n</div>"
     },
     "metadata": {},
     "execution_count": 43
    }
   ],
   "source": [
    "details(telecom)"
   ]
  },
  {
   "source": [
    "## Machine Learning Algorithmns"
   ],
   "cell_type": "markdown",
   "metadata": {}
  },
  {
   "source": [
    "### Train-test-split"
   ],
   "cell_type": "markdown",
   "metadata": {}
  },
  {
   "cell_type": "code",
   "execution_count": null,
   "metadata": {},
   "outputs": [],
   "source": []
  }
 ]
}