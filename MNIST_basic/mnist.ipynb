{
 "cells": [
  {
   "cell_type": "code",
   "execution_count": null,
   "metadata": {},
   "outputs": [],
   "source": [
    "import numpy as np\n",
    "import pandas as pd\n",
    "import random\n",
    "import time"
   ]
  },
  {
   "cell_type": "code",
   "execution_count": null,
   "metadata": {},
   "outputs": [],
   "source": [
    "#This is one way of initilizating weights and bias\n",
    "class Network(object):\n",
    "\n",
    "    def __init__(self, sizes):\n",
    "        self.num_layers = len(sizes)\n",
    "        self.sizes = sizes\n",
    "        self.biases = [np.random.randn(y, 1) for y in sizes[1:]] #sizes[1:] skips the input layer (since it doesn't have biases) and includes all subsequent layers.\n",
    "        self.weights = [np.random.randn(z, x) for x, z in zip(sizes[:-1], sizes[1:])] #zip(sizes[:-1], sizes[1:]) pairs each layer with the next one, creating tuples (x, z) where:\n",
    "        # x is the number of neurons in the current layer.\n",
    "        # z is the number of neurons in the next layer.\n",
    "        print(f'sizes: {sizes}, biases: {self.biases}, weights: {self.weights}')\n",
    "\n",
    "'''np.random.randn(y, 1):\n",
    "For each layer y (number of neurons in that layer), this generates a column vector of shape (y, 1) with random values sampled from a standard normal distribution (mean = 0, standard deviation = 1).\n",
    "Each value in this vector represents the initial bias for a neuron in that layer.'''\n",
    "\n",
    "'''\n",
    "List comprehension:\n",
    "The list comprehension [np.random.randn(y, 1) for y in sizes[1:]] iterates over the number of neurons in each layer (excluding the input layer) and creates a bias vector for each layer.\n",
    "'''\n",
    "'''\n",
    "Example:\n",
    "If sizes = [784, 30, 10] (e.g., for an MNIST network with 784 input neurons, 30 hidden neurons, and 10 output neurons):\n",
    "\n",
    "sizes[1:] = [30, 10]\n",
    "self.biases will be a list containing:\n",
    "A (30, 1) array for the biases of the hidden layer.\n",
    "A (10, 1) array for the biases of the output layer.\n",
    "'''\n",
    "\n",
    "'''\n",
    "Example:\n",
    "If sizes = [784, 30, 10] (e.g., for an MNIST network with 784 input neurons, 30 hidden neurons, and 10 output neurons):\n",
    "\n",
    "sizes[:-1] = [784, 30] (input and hidden layers).\n",
    "sizes[1:] = [30, 10] (hidden and output layers).\n",
    "zip(sizes[:-1], sizes[1:]) = [(784, 30), (30, 10)].\n",
    "The resulting self.weights will be a list containing:\n",
    "\n",
    "A (30, 784) matrix for the weights connecting the input layer to the hidden layer.\n",
    "A (10, 30) matrix for the weights connecting the hidden layer to the output layer.\n",
    "'''"
   ]
  },
  {
   "cell_type": "markdown",
   "metadata": {},
   "source": [
    "The randn function in NumPy (np.random.randn) generates samples from a standard normal distribution (Gaussian distribution) with a mean of 0 and a standard deviation of 1."
   ]
  },
  {
   "cell_type": "code",
   "execution_count": 11,
   "metadata": {},
   "outputs": [
    {
     "name": "stdout",
     "output_type": "stream",
     "text": [
      "sizes: [2, 3, 1], biases: [array([[ 0.48450357],\n",
      "       [ 0.570756  ],\n",
      "       [-0.5221414 ]]), array([[0.31319019]])], weights: [array([[-1.54893345,  2.13447036],\n",
      "       [-0.53880242, -0.44847638],\n",
      "       [-0.14905836,  1.41607488]]), array([[-1.12878731, -0.07287262,  1.49177351]])]\n"
     ]
    },
    {
     "data": {
      "text/plain": [
       "<__main__.Network at 0x236bec57ed0>"
      ]
     },
     "execution_count": 11,
     "metadata": {},
     "output_type": "execute_result"
    }
   ],
   "source": [
    "#example\n",
    "net = Network([2,3,1])\n",
    "net"
   ]
  },
  {
   "cell_type": "code",
   "execution_count": null,
   "metadata": {},
   "outputs": [],
   "source": [
    "# Note that when the input z is a vector or Numpy array, Numpy automatically applies the function sigmoid elementwise, that is, in vectorized form.\n",
    "def sigmoid(z):\n",
    "    return 1.0/(1.0+np.exp(-z))"
   ]
  },
  {
   "cell_type": "code",
   "execution_count": null,
   "metadata": {},
   "outputs": [],
   "source": [
    "# We then add a feedforward method to the Network class, which, given an input a for the network, returns the corresponding output. All the method does is applies Equation (22) for each layer.\n",
    "def feedforward(self, a):\n",
    "    \"\"\"Return the output of the network if \"a\" is input.\"\"\"\n",
    "    for b, w in zip(self.biases, self.weights):\n",
    "        a = sigmoid(np.dot(w, a)+b)\n",
    "    return a"
   ]
  },
  {
   "cell_type": "code",
   "execution_count": null,
   "metadata": {},
   "outputs": [],
   "source": [
    "#Network will learn through stochastic gradient descent\n",
    "\"\"\"Train the neural network using mini-batch stochastic gradient descent. The \"training_data\" is a list of tuples \"(x, y)\" representing the training inputs and the desired outputs.\n",
    "If \"test_data\" is provided then the network will be evaluated against the test data after each epoch, and partial progress printed out.  This is useful for tracking progress, but slows \n",
    "things down substantially. The training_data is a list of tuples (x, y) representing the training inputs and corresponding desired outputs.\"\"\"\n",
    "\n",
    "def SGD(self, training_data, epochs, mini_batch_size, eta, test_data=None):\n",
    "    if test_data: \n",
    "        n_test = len(test_data)\n",
    "    n = len(training_data)\n",
    "    for j in range(epochs):\n",
    "        time1 = time.time()\n",
    "        random.shuffle(training_data)\n",
    "        mini_batches = [training_data[k:k+mini_batch_size] for k in range(0, n, mini_batch_size)]        \n",
    "        for mini_batch in mini_batches:\n",
    "            self.update_mini_batch(mini_batch, eta) #updates the network weights and biases according to a single iteration of gradient descent using training data in mini batch   \n",
    "        time2 = time.time()\n",
    "        if test_data:\n",
    "            print(\"Epoch {0}: {1} / {2}, took {3:.2f} seconds\".format(j, self.evaluate(test_data), n_test, time2-time1))\n",
    "        else:\n",
    "            print(\"Epoch {0} complete in {1:.2f} seconds\".format(j, time2-time1))"
   ]
  },
  {
   "cell_type": "code",
   "execution_count": null,
   "metadata": {},
   "outputs": [],
   "source": [
    "def update_mini_batch(self, mini_batch, eta):\n",
    "    \"\"\"Update the network's weights and biases by applying gradient descent using backpropagation to a single mini batch. The ``mini_batch`` is a list of tuples ``(x, y)``, and ``eta``\n",
    "    is the learning rate.\"\"\"\n",
    "    nabla_b = [np.zeros(b.shape) for b in self.biases]\n",
    "    nabla_w = [np.zeros(w.shape) for w in self.weights]\n",
    "    for x, y in mini_batch:\n",
    "        delta_nabla_b, delta_nabla_w = self.backprop(x, y) #This line invokes backpropagation algorithm which is a fast way of computing the gradient of the cost function.\n",
    "        nabla_b = [nb+dnb for nb, dnb in zip(nabla_b, delta_nabla_b)]\n",
    "        nabla_w = [nw+dnw for nw, dnw in zip(nabla_w, delta_nabla_w)]\n",
    "    self.weights = [w-(eta/len(mini_batch))*nw for w, nw in zip(self.weights, nabla_w)]\n",
    "    self.biases = [b-(eta/len(mini_batch))*nb for b, nb in zip(self.biases, nabla_b)]"
   ]
  },
  {
   "cell_type": "code",
   "execution_count": null,
   "metadata": {},
   "outputs": [],
   "source": [
    "\"\"\"Derivative of the sigmoid function.\"\"\"\n",
    "def sigmoid_prime(z):\n",
    "    return sigmoid(z)*(1-sigmoid(z))"
   ]
  },
  {
   "cell_type": "code",
   "execution_count": null,
   "metadata": {},
   "outputs": [],
   "source": [
    "def backprop(self, x, y):\n",
    "    \"\"\"Return a tuple ``(nabla_b, nabla_w)`` representing the\n",
    "    gradient for the cost function C_x.  ``nabla_b`` and\n",
    "    ``nabla_w`` are layer-by-layer lists of numpy arrays, similar\n",
    "    to ``self.biases`` and ``self.weights``.\"\"\"\n",
    "    nabla_b = [np.zeros(b.shape) for b in self.biases]\n",
    "    nabla_w = [np.zeros(w.shape) for w in self.weights]\n",
    "    # feedforward\n",
    "    activation = x\n",
    "    activations = [x] # list to store all the activations, layer by layer\n",
    "    zs = [] # list to store all the z vectors, layer by layer\n",
    "    for b, w in zip(self.biases, self.weights):\n",
    "        z = np.dot(w, activation)+b\n",
    "        zs.append(z)\n",
    "        activation = sigmoid(z)\n",
    "        activations.append(activation)\n",
    "    # backward pass\n",
    "    delta = self.cost_derivative(activations[-1], y) * sigmoid_prime(zs[-1])\n",
    "    nabla_b[-1] = delta\n",
    "    nabla_w[-1] = np.dot(delta, activations[-2].transpose())\n",
    "    # Note that the variable l in the loop below is used a little\n",
    "    # differently to the notation in Chapter 2 of the book.  Here,\n",
    "    # l = 1 means the last layer of neurons, l = 2 is the\n",
    "    # second-last layer, and so on.  It's a renumbering of the\n",
    "    # scheme in the book, used here to take advantage of the fact\n",
    "    # that Python can use negative indices in lists.\n",
    "    for l in range(2, self.num_layers):\n",
    "        z = zs[-l]\n",
    "        sp = sigmoid_prime(z)\n",
    "        delta = np.dot(self.weights[-l+1].transpose(), delta) * sp\n",
    "        nabla_b[-l] = delta\n",
    "        nabla_w[-l] = np.dot(delta, activations[-l-1].transpose())\n",
    "    return (nabla_b, nabla_w)"
   ]
  },
  {
   "cell_type": "code",
   "execution_count": null,
   "metadata": {},
   "outputs": [],
   "source": [
    "def evaluate(self, test_data):\n",
    "    \"\"\"Return the number of test inputs for which the neural\n",
    "    network outputs the correct result. Note that the neural\n",
    "    network's output is assumed to be the index of whichever\n",
    "    neuron in the final layer has the highest activation.\"\"\"\n",
    "    test_results = [(np.argmax(self.feedforward(x)), y)\n",
    "                    for (x, y) in test_data]\n",
    "    return sum(int(x == y) for (x, y) in test_results)"
   ]
  },
  {
   "cell_type": "code",
   "execution_count": null,
   "metadata": {},
   "outputs": [],
   "source": [
    "def cost_derivative(self, output_activations, y):\n",
    "    \"\"\"Return the vector of partial derivatives \\partial C_x /\n",
    "    \\partial a for the output activations.\"\"\"\n",
    "    return (output_activations-y)"
   ]
  }
 ],
 "metadata": {
  "kernelspec": {
   "display_name": ".mldlenv",
   "language": "python",
   "name": "python3"
  },
  "language_info": {
   "codemirror_mode": {
    "name": "ipython",
    "version": 3
   },
   "file_extension": ".py",
   "mimetype": "text/x-python",
   "name": "python",
   "nbconvert_exporter": "python",
   "pygments_lexer": "ipython3",
   "version": "3.13.1"
  }
 },
 "nbformat": 4,
 "nbformat_minor": 2
}
