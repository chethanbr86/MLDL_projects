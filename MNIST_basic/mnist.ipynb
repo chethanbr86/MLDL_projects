{
 "cells": [
  {
   "cell_type": "code",
   "execution_count": 1,
   "metadata": {},
   "outputs": [],
   "source": [
    "import numpy as np\n",
    "import pandas as pd"
   ]
  },
  {
   "cell_type": "code",
   "execution_count": null,
   "metadata": {},
   "outputs": [],
   "source": [
    "class Network(object):\n",
    "\n",
    "    def __init__(self, sizes):\n",
    "        self.num_layers = len(sizes)\n",
    "        self.sizes = sizes\n",
    "        self.biases = [np.random.randn(y, 1) for y in sizes[1:]] #sizes[1:] skips the input layer (since it doesn't have biases) and includes all subsequent layers.\n",
    "        self.weights = [np.random.randn(z, x) for x, z in zip(sizes[:-1], sizes[1:])] #zip(sizes[:-1], sizes[1:]) pairs each layer with the next one, creating tuples (x, z) where:\n",
    "        # x is the number of neurons in the current layer.\n",
    "        # z is the number of neurons in the next layer.\n",
    "        print(f'sizes: {sizes}, biases: {self.biases}, weights: {self.weights}')\n",
    "\n",
    "'''np.random.randn(y, 1):\n",
    "For each layer y (number of neurons in that layer), this generates a column vector of shape (y, 1) with random values sampled from a standard normal distribution (mean = 0, standard deviation = 1).\n",
    "Each value in this vector represents the initial bias for a neuron in that layer.'''\n",
    "\n",
    "'''\n",
    "List comprehension:\n",
    "The list comprehension [np.random.randn(y, 1) for y in sizes[1:]] iterates over the number of neurons in each layer (excluding the input layer) and creates a bias vector for each layer.\n",
    "'''\n",
    "'''\n",
    "Example:\n",
    "If sizes = [784, 30, 10] (e.g., for an MNIST network with 784 input neurons, 30 hidden neurons, and 10 output neurons):\n",
    "\n",
    "sizes[1:] = [30, 10]\n",
    "self.biases will be a list containing:\n",
    "A (30, 1) array for the biases of the hidden layer.\n",
    "A (10, 1) array for the biases of the output layer.\n",
    "'''\n",
    "\n",
    "'''\n",
    "Example:\n",
    "If sizes = [784, 30, 10] (e.g., for an MNIST network with 784 input neurons, 30 hidden neurons, and 10 output neurons):\n",
    "\n",
    "sizes[:-1] = [784, 30] (input and hidden layers).\n",
    "sizes[1:] = [30, 10] (hidden and output layers).\n",
    "zip(sizes[:-1], sizes[1:]) = [(784, 30), (30, 10)].\n",
    "The resulting self.weights will be a list containing:\n",
    "\n",
    "A (30, 784) matrix for the weights connecting the input layer to the hidden layer.\n",
    "A (10, 30) matrix for the weights connecting the hidden layer to the output layer.\n",
    "'''"
   ]
  },
  {
   "cell_type": "markdown",
   "metadata": {},
   "source": [
    "The randn function in NumPy (np.random.randn) generates samples from a standard normal distribution (Gaussian distribution) with a mean of 0 and a standard deviation of 1."
   ]
  },
  {
   "cell_type": "code",
   "execution_count": 11,
   "metadata": {},
   "outputs": [
    {
     "name": "stdout",
     "output_type": "stream",
     "text": [
      "sizes: [2, 3, 1], biases: [array([[ 0.48450357],\n",
      "       [ 0.570756  ],\n",
      "       [-0.5221414 ]]), array([[0.31319019]])], weights: [array([[-1.54893345,  2.13447036],\n",
      "       [-0.53880242, -0.44847638],\n",
      "       [-0.14905836,  1.41607488]]), array([[-1.12878731, -0.07287262,  1.49177351]])]\n"
     ]
    },
    {
     "data": {
      "text/plain": [
       "<__main__.Network at 0x236bec57ed0>"
      ]
     },
     "execution_count": 11,
     "metadata": {},
     "output_type": "execute_result"
    }
   ],
   "source": [
    "#example\n",
    "net = Network([2,3,1])\n",
    "net"
   ]
  },
  {
   "cell_type": "code",
   "execution_count": null,
   "metadata": {},
   "outputs": [],
   "source": []
  }
 ],
 "metadata": {
  "kernelspec": {
   "display_name": ".mldlenv",
   "language": "python",
   "name": "python3"
  },
  "language_info": {
   "codemirror_mode": {
    "name": "ipython",
    "version": 3
   },
   "file_extension": ".py",
   "mimetype": "text/x-python",
   "name": "python",
   "nbconvert_exporter": "python",
   "pygments_lexer": "ipython3",
   "version": "3.13.1"
  }
 },
 "nbformat": 4,
 "nbformat_minor": 2
}
