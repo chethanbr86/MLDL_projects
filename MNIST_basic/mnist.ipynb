{
 "cells": [
  {
   "cell_type": "code",
   "execution_count": 1,
   "metadata": {},
   "outputs": [],
   "source": [
    "import numpy as np\n",
    "import pandas as pd\n",
    "import random\n",
    "import time"
   ]
  },
  {
   "cell_type": "code",
   "execution_count": 2,
   "metadata": {},
   "outputs": [
    {
     "name": "stderr",
     "output_type": "stream",
     "text": [
      "<>:49: SyntaxWarning: invalid escape sequence '\\p'\n",
      "<>:49: SyntaxWarning: invalid escape sequence '\\p'\n",
      "C:\\Users\\getch\\AppData\\Local\\Temp\\ipykernel_9484\\2973414786.py:49: SyntaxWarning: invalid escape sequence '\\p'\n",
      "  \"\"\"Return the vector of partial derivatives \\partial C_x /\n"
     ]
    },
    {
     "data": {
      "text/plain": [
       "'Return the vector of partial derivatives \\\\partial C_x /\\n\\\\partial a for the output activations.'"
      ]
     },
     "execution_count": 2,
     "metadata": {},
     "output_type": "execute_result"
    }
   ],
   "source": [
    "'''np.random.randn(y, 1):\n",
    "For each layer y (number of neurons in that layer), this generates a column vector of shape (y, 1) with random values sampled from a standard normal distribution (mean = 0, standard deviation = 1).\n",
    "Each value in this vector represents the initial bias for a neuron in that layer.'''\n",
    "\n",
    "'''\n",
    "List comprehension:\n",
    "The list comprehension [np.random.randn(y, 1) for y in sizes[1:]] iterates over the number of neurons in each layer (excluding the input layer) and creates a bias vector for each layer.\n",
    "'''\n",
    "'''\n",
    "Example:\n",
    "If sizes = [784, 30, 10] (e.g., for an MNIST network with 784 input neurons, 30 hidden neurons, and 10 output neurons):\n",
    "\n",
    "sizes[1:] = [30, 10]\n",
    "self.biases will be a list containing:\n",
    "A (30, 1) array for the biases of the hidden layer.\n",
    "A (10, 1) array for the biases of the output layer.\n",
    "'''\n",
    "\n",
    "'''\n",
    "Example:\n",
    "If sizes = [784, 30, 10] (e.g., for an MNIST network with 784 input neurons, 30 hidden neurons, and 10 output neurons):\n",
    "\n",
    "sizes[:-1] = [784, 30] (input and hidden layers).\n",
    "sizes[1:] = [30, 10] (hidden and output layers).\n",
    "zip(sizes[:-1], sizes[1:]) = [(784, 30), (30, 10)].\n",
    "The resulting self.weights will be a list containing:\n",
    "\n",
    "A (30, 784) matrix for the weights connecting the input layer to the hidden layer.\n",
    "A (10, 30) matrix for the weights connecting the hidden layer to the output layer.\n",
    "'''\n",
    "\n",
    "\"\"\"Train the neural network using mini-batch stochastic gradient descent. The \"training_data\" is a list of tuples \"(x, y)\" representing the training inputs and the desired outputs.\n",
    "If \"test_data\" is provided then the network will be evaluated against the test data after each epoch, and partial progress printed out.  This is useful for tracking progress, but slows \n",
    "things down substantially. The training_data is a list of tuples (x, y) representing the training inputs and corresponding desired outputs.\"\"\"\n",
    "\n",
    "\"\"\"Update the network's weights and biases by applying gradient descent using backpropagation to a single mini batch. The ``mini_batch`` is a list of tuples ``(x, y)``, and ``eta``\n",
    "is the learning rate.\"\"\"\n",
    "\n",
    "\"\"\"Return a tuple ``(nabla_b, nabla_w)`` representing the\n",
    "gradient for the cost function C_x.  ``nabla_b`` and\n",
    "``nabla_w`` are layer-by-layer lists of numpy arrays, similar\n",
    "to ``self.biases`` and ``self.weights``.\"\"\"\n",
    "\n",
    "\"\"\"Return the number of test inputs for which the neural\n",
    "network outputs the correct result. Note that the neural\n",
    "network's output is assumed to be the index of whichever\n",
    "neuron in the final layer has the highest activation.\"\"\"\n",
    "\n",
    "\"\"\"Return the vector of partial derivatives \\partial C_x /\n",
    "\\partial a for the output activations.\"\"\""
   ]
  },
  {
   "cell_type": "markdown",
   "metadata": {},
   "source": [
    "The randn function in NumPy (np.random.randn) generates samples from a standard normal distribution (Gaussian distribution) with a mean of 0 and a standard deviation of 1."
   ]
  },
  {
   "cell_type": "code",
   "execution_count": 3,
   "metadata": {},
   "outputs": [],
   "source": [
    "train_set, valid_set, test_set = pd.read_pickle(\"mnist.pkl.gz\")"
   ]
  },
  {
   "cell_type": "code",
   "execution_count": 4,
   "metadata": {},
   "outputs": [
    {
     "data": {
      "text/plain": [
       "(array([[0., 0., 0., ..., 0., 0., 0.],\n",
       "        [0., 0., 0., ..., 0., 0., 0.],\n",
       "        [0., 0., 0., ..., 0., 0., 0.],\n",
       "        ...,\n",
       "        [0., 0., 0., ..., 0., 0., 0.],\n",
       "        [0., 0., 0., ..., 0., 0., 0.],\n",
       "        [0., 0., 0., ..., 0., 0., 0.]], shape=(50000, 784), dtype=float32),\n",
       " array([5, 0, 4, ..., 8, 4, 8], shape=(50000,)))"
      ]
     },
     "execution_count": 4,
     "metadata": {},
     "output_type": "execute_result"
    }
   ],
   "source": [
    "train_set"
   ]
  },
  {
   "cell_type": "code",
   "execution_count": 5,
   "metadata": {},
   "outputs": [],
   "source": [
    "train_x, train_y = train_set"
   ]
  },
  {
   "cell_type": "code",
   "execution_count": 6,
   "metadata": {},
   "outputs": [
    {
     "data": {
      "text/plain": [
       "array([[0., 0., 0., ..., 0., 0., 0.],\n",
       "       [0., 0., 0., ..., 0., 0., 0.],\n",
       "       [0., 0., 0., ..., 0., 0., 0.],\n",
       "       ...,\n",
       "       [0., 0., 0., ..., 0., 0., 0.],\n",
       "       [0., 0., 0., ..., 0., 0., 0.],\n",
       "       [0., 0., 0., ..., 0., 0., 0.]], shape=(50000, 784), dtype=float32)"
      ]
     },
     "execution_count": 6,
     "metadata": {},
     "output_type": "execute_result"
    }
   ],
   "source": [
    "train_x"
   ]
  },
  {
   "cell_type": "code",
   "execution_count": 7,
   "metadata": {},
   "outputs": [
    {
     "data": {
      "text/plain": [
       "array([5, 0, 4, ..., 8, 4, 8], shape=(50000,))"
      ]
     },
     "execution_count": 7,
     "metadata": {},
     "output_type": "execute_result"
    }
   ],
   "source": [
    "train_y"
   ]
  },
  {
   "cell_type": "code",
   "execution_count": 8,
   "metadata": {},
   "outputs": [
    {
     "data": {
      "text/plain": [
       "(array([[0., 0., 0., ..., 0., 0., 0.],\n",
       "        [0., 0., 0., ..., 0., 0., 0.],\n",
       "        [0., 0., 0., ..., 0., 0., 0.],\n",
       "        ...,\n",
       "        [0., 0., 0., ..., 0., 0., 0.],\n",
       "        [0., 0., 0., ..., 0., 0., 0.],\n",
       "        [0., 0., 0., ..., 0., 0., 0.]], shape=(10000, 784), dtype=float32),\n",
       " array([3, 8, 6, ..., 5, 6, 8], shape=(10000,)))"
      ]
     },
     "execution_count": 8,
     "metadata": {},
     "output_type": "execute_result"
    }
   ],
   "source": [
    "valid_set"
   ]
  },
  {
   "cell_type": "code",
   "execution_count": 9,
   "metadata": {},
   "outputs": [],
   "source": [
    "val_x, val_y = valid_set"
   ]
  },
  {
   "cell_type": "code",
   "execution_count": 10,
   "metadata": {},
   "outputs": [
    {
     "data": {
      "text/plain": [
       "array([[0., 0., 0., ..., 0., 0., 0.],\n",
       "       [0., 0., 0., ..., 0., 0., 0.],\n",
       "       [0., 0., 0., ..., 0., 0., 0.],\n",
       "       ...,\n",
       "       [0., 0., 0., ..., 0., 0., 0.],\n",
       "       [0., 0., 0., ..., 0., 0., 0.],\n",
       "       [0., 0., 0., ..., 0., 0., 0.]], shape=(10000, 784), dtype=float32)"
      ]
     },
     "execution_count": 10,
     "metadata": {},
     "output_type": "execute_result"
    }
   ],
   "source": [
    "val_x"
   ]
  },
  {
   "cell_type": "code",
   "execution_count": 11,
   "metadata": {},
   "outputs": [
    {
     "data": {
      "text/plain": [
       "array([3, 8, 6, ..., 5, 6, 8], shape=(10000,))"
      ]
     },
     "execution_count": 11,
     "metadata": {},
     "output_type": "execute_result"
    }
   ],
   "source": [
    "val_y"
   ]
  },
  {
   "cell_type": "code",
   "execution_count": 12,
   "metadata": {},
   "outputs": [],
   "source": [
    "test_x, test_y = test_set"
   ]
  },
  {
   "cell_type": "code",
   "execution_count": 13,
   "metadata": {},
   "outputs": [
    {
     "data": {
      "text/plain": [
       "array([[0., 0., 0., ..., 0., 0., 0.],\n",
       "       [0., 0., 0., ..., 0., 0., 0.],\n",
       "       [0., 0., 0., ..., 0., 0., 0.],\n",
       "       ...,\n",
       "       [0., 0., 0., ..., 0., 0., 0.],\n",
       "       [0., 0., 0., ..., 0., 0., 0.],\n",
       "       [0., 0., 0., ..., 0., 0., 0.]], shape=(10000, 784), dtype=float32)"
      ]
     },
     "execution_count": 13,
     "metadata": {},
     "output_type": "execute_result"
    }
   ],
   "source": [
    "test_x"
   ]
  },
  {
   "cell_type": "code",
   "execution_count": 14,
   "metadata": {},
   "outputs": [
    {
     "data": {
      "text/plain": [
       "array([7, 2, 1, ..., 4, 5, 6], shape=(10000,))"
      ]
     },
     "execution_count": 14,
     "metadata": {},
     "output_type": "execute_result"
    }
   ],
   "source": [
    "test_y"
   ]
  },
  {
   "cell_type": "code",
   "execution_count": 15,
   "metadata": {},
   "outputs": [
    {
     "name": "stdout",
     "output_type": "stream",
     "text": [
      "sizes: [784, 30, 10], biases: [array([[ 1.81186622],\n",
      "       [-0.88467413],\n",
      "       [-0.73143762],\n",
      "       [-0.54590563],\n",
      "       [ 0.59132596],\n",
      "       [-0.7533147 ],\n",
      "       [ 0.38625414],\n",
      "       [-0.06141245],\n",
      "       [-0.35120478],\n",
      "       [ 0.93933553],\n",
      "       [ 2.80113522],\n",
      "       [ 0.13821962],\n",
      "       [-1.29886672],\n",
      "       [ 1.7628872 ],\n",
      "       [-1.85306978],\n",
      "       [-0.53258631],\n",
      "       [-0.3599814 ],\n",
      "       [ 0.81259892],\n",
      "       [-1.19317314],\n",
      "       [ 0.28541958],\n",
      "       [ 1.75939965],\n",
      "       [-1.03503926],\n",
      "       [-0.79854113],\n",
      "       [-1.84973586],\n",
      "       [-0.16142912],\n",
      "       [ 0.11145982],\n",
      "       [ 1.22880326],\n",
      "       [ 0.03506251],\n",
      "       [-0.38807249],\n",
      "       [-0.95799598]]), array([[ 0.15367466],\n",
      "       [-2.6173999 ],\n",
      "       [ 1.40997951],\n",
      "       [-0.80974883],\n",
      "       [ 0.83759222],\n",
      "       [ 0.1087377 ],\n",
      "       [-0.66502291],\n",
      "       [-1.2597122 ],\n",
      "       [-0.93731865],\n",
      "       [ 1.30628165]])], weights: [array([[-1.33860783, -1.50693093,  1.14238679, ..., -0.29714835,\n",
      "        -1.40561689, -1.25564796],\n",
      "       [ 0.65738411, -0.2301959 ,  0.04242068, ..., -0.21668142,\n",
      "         1.49005646,  1.19845158],\n",
      "       [-1.03411328,  1.81187864,  0.74884154, ...,  0.08843904,\n",
      "         0.22548891,  1.05925268],\n",
      "       ...,\n",
      "       [ 0.92602738,  1.38910264,  0.9235654 , ...,  0.75113863,\n",
      "         0.44813046,  0.01329556],\n",
      "       [-0.86351288,  0.23930506,  1.22171951, ...,  1.275643  ,\n",
      "         0.1699007 ,  0.82634223],\n",
      "       [ 0.59918331, -0.51195538, -0.05466534, ...,  0.64114801,\n",
      "         1.08730002,  1.09275122]], shape=(30, 784)), array([[ 5.24106256e-01,  5.46268740e-01, -1.45085765e+00,\n",
      "         6.41445789e-01, -2.96084899e-01,  7.74665349e-01,\n",
      "         8.37307879e-02, -3.49188405e-01, -5.34437918e-01,\n",
      "         5.23646609e-01,  2.88220415e-01, -3.38969242e-01,\n",
      "        -7.16608780e-01, -1.05779187e+00,  5.23711774e-01,\n",
      "        -5.56416498e-01, -1.29500704e+00, -4.83152594e-01,\n",
      "        -2.80471763e-01,  9.82690857e-01,  9.71734354e-01,\n",
      "         5.92205620e-01,  2.70274323e-01,  3.43072562e-01,\n",
      "        -4.38467115e-01, -2.74090978e-01,  3.25978145e-01,\n",
      "         1.23169943e+00, -4.99610727e-01,  1.39532656e+00],\n",
      "       [ 1.22737980e+00,  2.60857161e+00, -1.25685766e+00,\n",
      "         1.04693820e+00,  4.14086790e-01,  1.30951025e+00,\n",
      "        -2.15415101e+00,  4.15170015e-01, -2.68629329e-01,\n",
      "         2.01221627e+00,  1.73564700e+00, -6.46096646e-01,\n",
      "        -5.31776305e-01, -4.03093958e-01, -1.47768336e+00,\n",
      "         2.86250525e-01, -1.44569340e+00, -7.61087237e-01,\n",
      "        -1.22763599e+00,  7.93352309e-02,  1.22151893e-01,\n",
      "        -2.57451208e+00, -1.05061290e+00,  7.96113017e-01,\n",
      "        -1.68334505e+00,  2.32887648e-01,  3.60522842e-01,\n",
      "         1.12551834e+00, -5.70027829e-01, -8.87869787e-01],\n",
      "       [-5.76031817e-01, -2.09986723e+00, -5.84536248e-01,\n",
      "        -2.56775760e-02,  3.92348069e-01, -1.54483846e+00,\n",
      "        -1.06872819e+00,  1.76835004e+00, -5.75001578e-01,\n",
      "        -6.77075638e-01, -1.33181669e+00,  7.09975958e-01,\n",
      "        -7.40559937e-01,  1.27713583e+00,  1.13209310e+00,\n",
      "        -9.48011420e-01, -9.89051161e-01,  6.38060004e-01,\n",
      "        -1.86298906e+00, -4.52629340e-01, -1.77060683e+00,\n",
      "        -1.85126290e-01, -2.01536501e+00, -1.61868500e+00,\n",
      "         2.24737133e+00, -1.00092962e+00,  4.96132311e-01,\n",
      "         1.66697521e-01,  1.26357533e+00,  1.31511264e+00],\n",
      "       [ 1.17432291e+00,  1.14364716e+00, -4.73224135e-01,\n",
      "         5.62761598e-01,  1.39017867e-01, -1.90567177e-02,\n",
      "         1.40009251e+00,  2.81098155e-01, -1.49344896e+00,\n",
      "        -3.02673309e-02,  2.41972471e-01, -5.02384482e-01,\n",
      "         9.53548662e-01, -3.35806056e-01,  6.11374727e-01,\n",
      "         1.06972883e-01,  2.09507872e-01, -2.60735139e-01,\n",
      "         4.57454386e-02,  5.09139214e-01,  4.07817550e-02,\n",
      "         1.27401171e+00,  1.42034998e-01,  1.97661386e+00,\n",
      "         1.01418516e+00, -6.88205009e-01, -3.53084343e-02,\n",
      "         5.03842335e-02, -1.90710869e-01,  1.43284463e-01],\n",
      "       [-8.58280813e-01, -9.95133039e-01, -8.80031615e-01,\n",
      "         4.56641779e-01,  3.64685186e-01, -2.20602263e-01,\n",
      "         2.15176361e-01, -1.06241392e+00, -7.24911644e-01,\n",
      "         1.06313969e+00,  3.75642947e-01, -4.52449020e-01,\n",
      "        -7.87626407e-02,  1.69765929e-01,  1.90246180e+00,\n",
      "        -5.47307398e-01, -7.43350496e-01,  2.01197536e-02,\n",
      "         2.68037878e-01, -1.10612768e+00,  6.69710656e-01,\n",
      "        -1.11939167e+00, -1.94521766e-01, -1.08677917e-01,\n",
      "         4.11554122e-01,  1.37434089e+00,  1.48988479e+00,\n",
      "         8.20206524e-01,  1.05824138e+00,  1.38168175e+00],\n",
      "       [-3.64932556e-01,  6.53305565e-01, -8.41254791e-02,\n",
      "        -6.47385653e-01,  9.36645378e-01,  3.62988124e-01,\n",
      "         2.11534104e+00,  2.62879117e-01, -6.26754960e-01,\n",
      "        -4.27609908e-01, -1.15691374e-01, -9.36166326e-01,\n",
      "        -2.80411608e-01, -1.20452318e+00, -2.98231512e+00,\n",
      "         8.02301881e-01, -8.14230291e-01, -1.37267567e+00,\n",
      "        -8.58796222e-01, -2.33632203e+00,  6.55965751e-03,\n",
      "         2.94472355e-01, -1.00406692e+00,  1.26867264e-01,\n",
      "         8.52333015e-01, -8.68832302e-01,  1.64221489e+00,\n",
      "        -1.23508190e+00, -3.59008658e-01,  8.10092773e-01],\n",
      "       [-7.52007726e-02,  3.09553071e-01,  5.76412723e-01,\n",
      "        -3.31097874e+00, -1.40450783e+00,  6.77619144e-02,\n",
      "        -4.61469598e-01, -1.32422684e+00, -1.41046995e+00,\n",
      "        -3.11295365e-01, -1.14946760e+00,  1.30938374e+00,\n",
      "        -7.09626100e-02, -3.68578217e-01, -6.62295834e-02,\n",
      "        -1.64933257e+00,  1.30433948e+00, -2.71269477e-01,\n",
      "         3.42948741e-01, -1.62795340e+00,  1.17663387e-01,\n",
      "        -4.98829932e-01,  1.43182432e+00,  1.06266156e+00,\n",
      "        -8.44922937e-01,  1.00028799e+00, -9.13655704e-01,\n",
      "         2.99883067e-01,  3.97049541e-01,  8.10264012e-01],\n",
      "       [-9.20978296e-01,  1.08564996e+00,  2.03076666e-02,\n",
      "         1.96817349e-01,  2.45192789e-01, -6.34480724e-01,\n",
      "        -1.35027209e-01, -7.43695500e-01, -4.84499678e-02,\n",
      "        -8.69791681e-01, -3.63601730e-01, -6.84202497e-01,\n",
      "        -6.50254052e-01, -4.20279641e-03,  5.65427874e-02,\n",
      "         6.66039877e-01,  1.18276628e+00,  8.37307501e-01,\n",
      "         5.53574385e-01,  1.37679485e-01,  1.87197093e+00,\n",
      "        -7.73567655e-01,  7.24349513e-01, -1.17321371e+00,\n",
      "         5.63689906e-03,  1.73746402e-02, -1.19363062e+00,\n",
      "         8.94215978e-01, -1.42384269e+00, -4.93496321e-01],\n",
      "       [-8.36075154e-01, -2.29848826e-02,  5.77358771e-01,\n",
      "        -6.29991547e-01,  3.58284576e-01, -4.74843825e-01,\n",
      "         1.02891727e+00,  1.01943883e-01, -2.86469479e-01,\n",
      "        -1.98543449e+00, -3.58382533e-01,  7.55255245e-01,\n",
      "         2.34345609e-01,  2.49921697e-01, -4.67364822e-01,\n",
      "         7.50820011e-02,  1.40713425e-01,  2.46842866e-01,\n",
      "         1.49636134e+00, -1.41756481e+00,  1.83820162e+00,\n",
      "         1.46530902e-01, -9.86053937e-01, -4.20759306e-01,\n",
      "        -1.02830461e+00,  5.39109441e-01,  2.06225236e+00,\n",
      "        -4.49080650e-01,  1.23770063e+00,  1.61009956e-01],\n",
      "       [-1.12980496e+00, -1.08535631e+00, -4.30763081e-01,\n",
      "        -4.93472999e-01, -4.70269049e-01, -1.38556219e+00,\n",
      "         1.02048888e-01,  4.48632644e-01,  1.65163399e+00,\n",
      "        -2.66078465e+00, -4.33375858e-01, -6.71902128e-01,\n",
      "        -1.98555869e+00, -8.63854396e-01, -1.22851705e+00,\n",
      "        -1.47611244e+00,  3.69523305e-01, -9.26381907e-01,\n",
      "         5.06158481e-01,  2.22015461e+00, -1.11045039e+00,\n",
      "         5.03488618e-01, -3.66045074e-01,  6.13024237e-01,\n",
      "         9.19775086e-02,  1.25498976e-03,  7.00337753e-01,\n",
      "         1.11288278e+00,  2.01791632e-01, -6.50731124e-01]])]\n"
     ]
    },
    {
     "data": {
      "text/plain": [
       "<network.Network at 0x1d22c2d5550>"
      ]
     },
     "execution_count": 15,
     "metadata": {},
     "output_type": "execute_result"
    }
   ],
   "source": [
    "import network\n",
    "\n",
    "net = network.Network([784, 30, 10])\n",
    "net"
   ]
  },
  {
   "cell_type": "code",
   "execution_count": 16,
   "metadata": {},
   "outputs": [
    {
     "ename": "ValueError",
     "evalue": "too many values to unpack (expected 2)",
     "output_type": "error",
     "traceback": [
      "\u001b[31m---------------------------------------------------------------------------\u001b[39m",
      "\u001b[31mValueError\u001b[39m                                Traceback (most recent call last)",
      "\u001b[36mCell\u001b[39m\u001b[36m \u001b[39m\u001b[32mIn[16]\u001b[39m\u001b[32m, line 1\u001b[39m\n\u001b[32m----> \u001b[39m\u001b[32m1\u001b[39m \u001b[43mnet\u001b[49m\u001b[43m.\u001b[49m\u001b[43mSGD\u001b[49m\u001b[43m(\u001b[49m\u001b[43mtrain_x\u001b[49m\u001b[43m,\u001b[49m\u001b[43m \u001b[49m\u001b[32;43m30\u001b[39;49m\u001b[43m,\u001b[49m\u001b[43m \u001b[49m\u001b[32;43m10\u001b[39;49m\u001b[43m,\u001b[49m\u001b[43m \u001b[49m\u001b[32;43m3.0\u001b[39;49m\u001b[43m,\u001b[49m\u001b[43m \u001b[49m\u001b[43mtest_data\u001b[49m\u001b[43m=\u001b[49m\u001b[43mtest_x\u001b[49m\u001b[43m)\u001b[49m\n",
      "\u001b[36mFile \u001b[39m\u001b[32mc:\\Users\\getch\\Documents\\GitHub\\MLDL_projects\\MNIST_basic\\network.py:44\u001b[39m, in \u001b[36mNetwork.SGD\u001b[39m\u001b[34m(self, training_data, epochs, mini_batch_size, eta, test_data)\u001b[39m\n\u001b[32m     42\u001b[39m mini_batches = [training_data[k:k+mini_batch_size] \u001b[38;5;28;01mfor\u001b[39;00m k \u001b[38;5;129;01min\u001b[39;00m \u001b[38;5;28mrange\u001b[39m(\u001b[32m0\u001b[39m, n, mini_batch_size)]        \n\u001b[32m     43\u001b[39m \u001b[38;5;28;01mfor\u001b[39;00m mini_batch \u001b[38;5;129;01min\u001b[39;00m mini_batches:\n\u001b[32m---> \u001b[39m\u001b[32m44\u001b[39m     \u001b[38;5;28;43mself\u001b[39;49m\u001b[43m.\u001b[49m\u001b[43mupdate_mini_batch\u001b[49m\u001b[43m(\u001b[49m\u001b[43mmini_batch\u001b[49m\u001b[43m,\u001b[49m\u001b[43m \u001b[49m\u001b[43meta\u001b[49m\u001b[43m)\u001b[49m \u001b[38;5;66;03m#updates the network weights and biases according to a single iteration of gradient descent using training data in mini batch   \u001b[39;00m\n\u001b[32m     45\u001b[39m time2 = time.time()\n\u001b[32m     46\u001b[39m \u001b[38;5;28;01mif\u001b[39;00m test_data \u001b[38;5;129;01mis\u001b[39;00m \u001b[38;5;129;01mnot\u001b[39;00m \u001b[38;5;28;01mNone\u001b[39;00m:\n",
      "\u001b[36mFile \u001b[39m\u001b[32mc:\\Users\\getch\\Documents\\GitHub\\MLDL_projects\\MNIST_basic\\network.py:54\u001b[39m, in \u001b[36mNetwork.update_mini_batch\u001b[39m\u001b[34m(self, mini_batch, eta)\u001b[39m\n\u001b[32m     52\u001b[39m nabla_b = [np.zeros(b.shape) \u001b[38;5;28;01mfor\u001b[39;00m b \u001b[38;5;129;01min\u001b[39;00m \u001b[38;5;28mself\u001b[39m.biases]\n\u001b[32m     53\u001b[39m nabla_w = [np.zeros(w.shape) \u001b[38;5;28;01mfor\u001b[39;00m w \u001b[38;5;129;01min\u001b[39;00m \u001b[38;5;28mself\u001b[39m.weights]\n\u001b[32m---> \u001b[39m\u001b[32m54\u001b[39m \u001b[38;5;28;01mfor\u001b[39;00m x, y \u001b[38;5;129;01min\u001b[39;00m mini_batch:\n\u001b[32m     55\u001b[39m     delta_nabla_b, delta_nabla_w = \u001b[38;5;28mself\u001b[39m.backprop(x, y) \u001b[38;5;66;03m#This line invokes backpropagation algorithm which is a fast way of computing the gradient of the cost function.\u001b[39;00m\n\u001b[32m     56\u001b[39m     nabla_b = [nb+dnb \u001b[38;5;28;01mfor\u001b[39;00m nb, dnb \u001b[38;5;129;01min\u001b[39;00m \u001b[38;5;28mzip\u001b[39m(nabla_b, delta_nabla_b)]\n",
      "\u001b[31mValueError\u001b[39m: too many values to unpack (expected 2)"
     ]
    }
   ],
   "source": [
    "net.SGD(train_x, 30, 10, 3.0, test_data=test_x)"
   ]
  }
 ],
 "metadata": {
  "kernelspec": {
   "display_name": ".mldlenv",
   "language": "python",
   "name": "python3"
  },
  "language_info": {
   "codemirror_mode": {
    "name": "ipython",
    "version": 3
   },
   "file_extension": ".py",
   "mimetype": "text/x-python",
   "name": "python",
   "nbconvert_exporter": "python",
   "pygments_lexer": "ipython3",
   "version": "3.13.1"
  }
 },
 "nbformat": 4,
 "nbformat_minor": 2
}
