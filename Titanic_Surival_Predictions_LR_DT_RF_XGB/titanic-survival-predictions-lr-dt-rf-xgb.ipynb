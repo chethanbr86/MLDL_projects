{
  "cells": [
    {
      "cell_type": "code",
      "execution_count": 2,
      "metadata": {
        "_cell_guid": "b1076dfc-b9ad-4769-8c92-a6c4dae69d19",
        "_uuid": "8f2839f25d086af736a60e9eeb907d3b93b6e0e5",
        "execution": {
          "iopub.execute_input": "2021-05-29T17:25:41.013907Z",
          "iopub.status.busy": "2021-05-29T17:25:41.013193Z",
          "iopub.status.idle": "2021-05-29T17:25:41.019753Z",
          "shell.execute_reply": "2021-05-29T17:25:41.019196Z",
          "shell.execute_reply.started": "2021-05-29T17:23:30.776956Z"
        },
        "papermill": {
          "duration": 0.097062,
          "end_time": "2021-05-29T17:25:41.019876",
          "exception": false,
          "start_time": "2021-05-29T17:25:40.922814",
          "status": "completed"
        },
        "tags": [],
        "id": "_qMUzoVi3Xmk"
      },
      "outputs": [],
      "source": [
        "# This Python 3 environment comes with many helpful analytics libraries installed\n",
        "# It is defined by the kaggle/python Docker image: https://github.com/kaggle/docker-python\n",
        "# For example, here's several helpful packages to load\n",
        "\n",
        "import numpy as np # linear algebra\n",
        "import pandas as pd # data processing, CSV file I/O (e.g. pd.read_csv)\n",
        "\n",
        "# Input data files are available in the read-only \"../input/\" directory\n",
        "# For example, running this (by clicking run or pressing Shift+Enter) will list all files under the input directory\n",
        "\n",
        "# import os\n",
        "# for dirname, _, filenames in os.walk('/kaggle/input'):\n",
        "#     for filename in filenames:\n",
        "#         print(os.path.join(dirname, filename))\n",
        "\n",
        "# You can write up to 20GB to the current directory (/kaggle/working/) that gets preserved as output when you create a version using \"Save & Run All\" \n",
        "# You can also write temporary files to /kaggle/temp/, but they won't be saved outside of the current session"
      ]
    },
    {
      "cell_type": "code",
      "execution_count": 3,
      "metadata": {
        "execution": {
          "iopub.execute_input": "2021-05-29T17:25:41.189462Z",
          "iopub.status.busy": "2021-05-29T17:25:41.188765Z",
          "iopub.status.idle": "2021-05-29T17:25:41.192401Z",
          "shell.execute_reply": "2021-05-29T17:25:41.191713Z",
          "shell.execute_reply.started": "2021-05-29T17:23:30.788047Z"
        },
        "papermill": {
          "duration": 0.089606,
          "end_time": "2021-05-29T17:25:41.192540",
          "exception": false,
          "start_time": "2021-05-29T17:25:41.102934",
          "status": "completed"
        },
        "tags": [],
        "id": "pZIm3WAT3Xmn"
      },
      "outputs": [],
      "source": [
        "import warnings\n",
        "warnings.filterwarnings('ignore')"
      ]
    },
    {
      "cell_type": "code",
      "execution_count": 4,
      "metadata": {
        "execution": {
          "iopub.execute_input": "2021-05-29T17:25:41.357941Z",
          "iopub.status.busy": "2021-05-29T17:25:41.357177Z",
          "iopub.status.idle": "2021-05-29T17:25:41.361432Z",
          "shell.execute_reply": "2021-05-29T17:25:41.361984Z",
          "shell.execute_reply.started": "2021-05-29T17:23:30.803640Z"
        },
        "papermill": {
          "duration": 0.087912,
          "end_time": "2021-05-29T17:25:41.362150",
          "exception": false,
          "start_time": "2021-05-29T17:25:41.274238",
          "status": "completed"
        },
        "tags": [],
        "id": "rQ-znrNr3Xmo"
      },
      "outputs": [],
      "source": [
        "pd.set_option('display.max_columns',500)\n",
        "pd.set_option('display.width',500)\n",
        "pd.set_option('display.max_rows', 500)"
      ]
    },
    {
      "cell_type": "markdown",
      "metadata": {
        "papermill": {
          "duration": 0.079916,
          "end_time": "2021-05-29T17:25:41.522760",
          "exception": false,
          "start_time": "2021-05-29T17:25:41.442844",
          "status": "completed"
        },
        "tags": [],
        "id": "N-UW2_DQ3Xmo"
      },
      "source": [
        "### Importing requried libraries"
      ]
    },
    {
      "cell_type": "code",
      "execution_count": 7,
      "metadata": {
        "execution": {
          "iopub.execute_input": "2021-05-29T17:25:41.686828Z",
          "iopub.status.busy": "2021-05-29T17:25:41.686095Z",
          "iopub.status.idle": "2021-05-29T17:25:44.125260Z",
          "shell.execute_reply": "2021-05-29T17:25:44.125923Z",
          "shell.execute_reply.started": "2021-05-29T17:23:30.814865Z"
        },
        "papermill": {
          "duration": 2.523203,
          "end_time": "2021-05-29T17:25:44.126110",
          "exception": false,
          "start_time": "2021-05-29T17:25:41.602907",
          "status": "completed"
        },
        "tags": [],
        "id": "Exp6Yl6J3Xmp"
      },
      "outputs": [],
      "source": [
        "import matplotlib.pyplot as plt\n",
        "import seaborn as sns\n",
        "import matplotlib.gridspec as gridspec\n",
        "\n",
        "from sklearn.preprocessing import OneHotEncoder\n",
        "from sklearn.preprocessing import OrdinalEncoder\n",
        "from sklearn.preprocessing import StandardScaler\n",
        "\n",
        "from sklearn.model_selection import RandomizedSearchCV\n",
        "from sklearn.model_selection import train_test_split\n",
        "\n",
        "from sklearn.linear_model import LogisticRegression\n",
        "from sklearn.tree import DecisionTreeClassifier\n",
        "\n",
        "from sklearn.ensemble import RandomForestClassifier\n",
        "\n",
        "from xgboost import XGBClassifier\n",
        "\n",
        "from sklearn.metrics import confusion_matrix\n",
        "from sklearn.metrics import accuracy_score"
      ]
    },
    {
      "cell_type": "code",
      "source": [
        "from google.colab import drive\n",
        "drive.mount('/content/gdrive', force_remount=False)"
      ],
      "metadata": {
        "id": "w8tFgaH74uPP",
        "outputId": "84b989b9-6dc6-4a41-a09b-c3fe31abfa41",
        "colab": {
          "base_uri": "https://localhost:8080/"
        }
      },
      "execution_count": 10,
      "outputs": [
        {
          "output_type": "stream",
          "name": "stdout",
          "text": [
            "Mounted at /content/gdrive\n"
          ]
        }
      ]
    },
    {
      "cell_type": "code",
      "execution_count": 11,
      "metadata": {
        "id": "gPjhjyq33Xmq"
      },
      "outputs": [],
      "source": [
        "train_data = pd.read_csv('/content/gdrive/MyDrive/Hackathons/kaggle/datasets/titanic/train.csv')\n",
        "test_data = pd.read_csv('/content/gdrive/MyDrive/Hackathons/kaggle/datasets/titanic/test.csv')"
      ]
    },
    {
      "cell_type": "code",
      "execution_count": null,
      "metadata": {
        "_cell_guid": "79c7e3d0-c299-4dcb-8224-4455121ee9b0",
        "_uuid": "d629ff2d2480ee46fbb7e2d37f6b5fab8052498a",
        "execution": {
          "iopub.execute_input": "2021-05-29T17:25:44.298080Z",
          "iopub.status.busy": "2021-05-29T17:25:44.297289Z",
          "iopub.status.idle": "2021-05-29T17:25:44.351079Z",
          "shell.execute_reply": "2021-05-29T17:25:44.350443Z",
          "shell.execute_reply.started": "2021-05-29T17:23:33.213918Z"
        },
        "papermill": {
          "duration": 0.143774,
          "end_time": "2021-05-29T17:25:44.351210",
          "exception": false,
          "start_time": "2021-05-29T17:25:44.207436",
          "status": "completed"
        },
        "tags": [],
        "id": "SEAFTukQ3Xmr"
      },
      "outputs": [],
      "source": [
        "# train_data = pd.read_csv('../input/titanic/train.csv')\n",
        "# test_data = pd.read_csv('../input/titanic/test.csv')"
      ]
    },
    {
      "cell_type": "code",
      "execution_count": 12,
      "metadata": {
        "execution": {
          "iopub.execute_input": "2021-05-29T17:25:44.536261Z",
          "iopub.status.busy": "2021-05-29T17:25:44.525054Z",
          "iopub.status.idle": "2021-05-29T17:25:44.549704Z",
          "shell.execute_reply": "2021-05-29T17:25:44.548996Z",
          "shell.execute_reply.started": "2021-05-29T17:23:33.308253Z"
        },
        "papermill": {
          "duration": 0.117309,
          "end_time": "2021-05-29T17:25:44.549839",
          "exception": false,
          "start_time": "2021-05-29T17:25:44.432530",
          "status": "completed"
        },
        "tags": [],
        "id": "mnwG4sz03Xmr",
        "outputId": "b6f6d532-18af-4af0-95b5-7a9c13bc4d59",
        "colab": {
          "base_uri": "https://localhost:8080/",
          "height": 206
        }
      },
      "outputs": [
        {
          "output_type": "execute_result",
          "data": {
            "text/plain": [
              "   PassengerId  Survived  Pclass                                               Name     Sex   Age  SibSp  Parch            Ticket     Fare Cabin Embarked\n",
              "0            1         0       3                            Braund, Mr. Owen Harris    male  22.0      1      0         A/5 21171   7.2500   NaN        S\n",
              "1            2         1       1  Cumings, Mrs. John Bradley (Florence Briggs Th...  female  38.0      1      0          PC 17599  71.2833   C85        C\n",
              "2            3         1       3                             Heikkinen, Miss. Laina  female  26.0      0      0  STON/O2. 3101282   7.9250   NaN        S\n",
              "3            4         1       1       Futrelle, Mrs. Jacques Heath (Lily May Peel)  female  35.0      1      0            113803  53.1000  C123        S\n",
              "4            5         0       3                           Allen, Mr. William Henry    male  35.0      0      0            373450   8.0500   NaN        S"
            ],
            "text/html": [
              "\n",
              "  <div id=\"df-d96edf58-8e79-4202-9ecd-374bae9cbe8d\">\n",
              "    <div class=\"colab-df-container\">\n",
              "      <div>\n",
              "<style scoped>\n",
              "    .dataframe tbody tr th:only-of-type {\n",
              "        vertical-align: middle;\n",
              "    }\n",
              "\n",
              "    .dataframe tbody tr th {\n",
              "        vertical-align: top;\n",
              "    }\n",
              "\n",
              "    .dataframe thead th {\n",
              "        text-align: right;\n",
              "    }\n",
              "</style>\n",
              "<table border=\"1\" class=\"dataframe\">\n",
              "  <thead>\n",
              "    <tr style=\"text-align: right;\">\n",
              "      <th></th>\n",
              "      <th>PassengerId</th>\n",
              "      <th>Survived</th>\n",
              "      <th>Pclass</th>\n",
              "      <th>Name</th>\n",
              "      <th>Sex</th>\n",
              "      <th>Age</th>\n",
              "      <th>SibSp</th>\n",
              "      <th>Parch</th>\n",
              "      <th>Ticket</th>\n",
              "      <th>Fare</th>\n",
              "      <th>Cabin</th>\n",
              "      <th>Embarked</th>\n",
              "    </tr>\n",
              "  </thead>\n",
              "  <tbody>\n",
              "    <tr>\n",
              "      <th>0</th>\n",
              "      <td>1</td>\n",
              "      <td>0</td>\n",
              "      <td>3</td>\n",
              "      <td>Braund, Mr. Owen Harris</td>\n",
              "      <td>male</td>\n",
              "      <td>22.0</td>\n",
              "      <td>1</td>\n",
              "      <td>0</td>\n",
              "      <td>A/5 21171</td>\n",
              "      <td>7.2500</td>\n",
              "      <td>NaN</td>\n",
              "      <td>S</td>\n",
              "    </tr>\n",
              "    <tr>\n",
              "      <th>1</th>\n",
              "      <td>2</td>\n",
              "      <td>1</td>\n",
              "      <td>1</td>\n",
              "      <td>Cumings, Mrs. John Bradley (Florence Briggs Th...</td>\n",
              "      <td>female</td>\n",
              "      <td>38.0</td>\n",
              "      <td>1</td>\n",
              "      <td>0</td>\n",
              "      <td>PC 17599</td>\n",
              "      <td>71.2833</td>\n",
              "      <td>C85</td>\n",
              "      <td>C</td>\n",
              "    </tr>\n",
              "    <tr>\n",
              "      <th>2</th>\n",
              "      <td>3</td>\n",
              "      <td>1</td>\n",
              "      <td>3</td>\n",
              "      <td>Heikkinen, Miss. Laina</td>\n",
              "      <td>female</td>\n",
              "      <td>26.0</td>\n",
              "      <td>0</td>\n",
              "      <td>0</td>\n",
              "      <td>STON/O2. 3101282</td>\n",
              "      <td>7.9250</td>\n",
              "      <td>NaN</td>\n",
              "      <td>S</td>\n",
              "    </tr>\n",
              "    <tr>\n",
              "      <th>3</th>\n",
              "      <td>4</td>\n",
              "      <td>1</td>\n",
              "      <td>1</td>\n",
              "      <td>Futrelle, Mrs. Jacques Heath (Lily May Peel)</td>\n",
              "      <td>female</td>\n",
              "      <td>35.0</td>\n",
              "      <td>1</td>\n",
              "      <td>0</td>\n",
              "      <td>113803</td>\n",
              "      <td>53.1000</td>\n",
              "      <td>C123</td>\n",
              "      <td>S</td>\n",
              "    </tr>\n",
              "    <tr>\n",
              "      <th>4</th>\n",
              "      <td>5</td>\n",
              "      <td>0</td>\n",
              "      <td>3</td>\n",
              "      <td>Allen, Mr. William Henry</td>\n",
              "      <td>male</td>\n",
              "      <td>35.0</td>\n",
              "      <td>0</td>\n",
              "      <td>0</td>\n",
              "      <td>373450</td>\n",
              "      <td>8.0500</td>\n",
              "      <td>NaN</td>\n",
              "      <td>S</td>\n",
              "    </tr>\n",
              "  </tbody>\n",
              "</table>\n",
              "</div>\n",
              "      <button class=\"colab-df-convert\" onclick=\"convertToInteractive('df-d96edf58-8e79-4202-9ecd-374bae9cbe8d')\"\n",
              "              title=\"Convert this dataframe to an interactive table.\"\n",
              "              style=\"display:none;\">\n",
              "        \n",
              "  <svg xmlns=\"http://www.w3.org/2000/svg\" height=\"24px\"viewBox=\"0 0 24 24\"\n",
              "       width=\"24px\">\n",
              "    <path d=\"M0 0h24v24H0V0z\" fill=\"none\"/>\n",
              "    <path d=\"M18.56 5.44l.94 2.06.94-2.06 2.06-.94-2.06-.94-.94-2.06-.94 2.06-2.06.94zm-11 1L8.5 8.5l.94-2.06 2.06-.94-2.06-.94L8.5 2.5l-.94 2.06-2.06.94zm10 10l.94 2.06.94-2.06 2.06-.94-2.06-.94-.94-2.06-.94 2.06-2.06.94z\"/><path d=\"M17.41 7.96l-1.37-1.37c-.4-.4-.92-.59-1.43-.59-.52 0-1.04.2-1.43.59L10.3 9.45l-7.72 7.72c-.78.78-.78 2.05 0 2.83L4 21.41c.39.39.9.59 1.41.59.51 0 1.02-.2 1.41-.59l7.78-7.78 2.81-2.81c.8-.78.8-2.07 0-2.86zM5.41 20L4 18.59l7.72-7.72 1.47 1.35L5.41 20z\"/>\n",
              "  </svg>\n",
              "      </button>\n",
              "      \n",
              "  <style>\n",
              "    .colab-df-container {\n",
              "      display:flex;\n",
              "      flex-wrap:wrap;\n",
              "      gap: 12px;\n",
              "    }\n",
              "\n",
              "    .colab-df-convert {\n",
              "      background-color: #E8F0FE;\n",
              "      border: none;\n",
              "      border-radius: 50%;\n",
              "      cursor: pointer;\n",
              "      display: none;\n",
              "      fill: #1967D2;\n",
              "      height: 32px;\n",
              "      padding: 0 0 0 0;\n",
              "      width: 32px;\n",
              "    }\n",
              "\n",
              "    .colab-df-convert:hover {\n",
              "      background-color: #E2EBFA;\n",
              "      box-shadow: 0px 1px 2px rgba(60, 64, 67, 0.3), 0px 1px 3px 1px rgba(60, 64, 67, 0.15);\n",
              "      fill: #174EA6;\n",
              "    }\n",
              "\n",
              "    [theme=dark] .colab-df-convert {\n",
              "      background-color: #3B4455;\n",
              "      fill: #D2E3FC;\n",
              "    }\n",
              "\n",
              "    [theme=dark] .colab-df-convert:hover {\n",
              "      background-color: #434B5C;\n",
              "      box-shadow: 0px 1px 3px 1px rgba(0, 0, 0, 0.15);\n",
              "      filter: drop-shadow(0px 1px 2px rgba(0, 0, 0, 0.3));\n",
              "      fill: #FFFFFF;\n",
              "    }\n",
              "  </style>\n",
              "\n",
              "      <script>\n",
              "        const buttonEl =\n",
              "          document.querySelector('#df-d96edf58-8e79-4202-9ecd-374bae9cbe8d button.colab-df-convert');\n",
              "        buttonEl.style.display =\n",
              "          google.colab.kernel.accessAllowed ? 'block' : 'none';\n",
              "\n",
              "        async function convertToInteractive(key) {\n",
              "          const element = document.querySelector('#df-d96edf58-8e79-4202-9ecd-374bae9cbe8d');\n",
              "          const dataTable =\n",
              "            await google.colab.kernel.invokeFunction('convertToInteractive',\n",
              "                                                     [key], {});\n",
              "          if (!dataTable) return;\n",
              "\n",
              "          const docLinkHtml = 'Like what you see? Visit the ' +\n",
              "            '<a target=\"_blank\" href=https://colab.research.google.com/notebooks/data_table.ipynb>data table notebook</a>'\n",
              "            + ' to learn more about interactive tables.';\n",
              "          element.innerHTML = '';\n",
              "          dataTable['output_type'] = 'display_data';\n",
              "          await google.colab.output.renderOutput(dataTable, element);\n",
              "          const docLink = document.createElement('div');\n",
              "          docLink.innerHTML = docLinkHtml;\n",
              "          element.appendChild(docLink);\n",
              "        }\n",
              "      </script>\n",
              "    </div>\n",
              "  </div>\n",
              "  "
            ]
          },
          "metadata": {},
          "execution_count": 12
        }
      ],
      "source": [
        "train_data.head()"
      ]
    },
    {
      "cell_type": "code",
      "execution_count": 13,
      "metadata": {
        "execution": {
          "iopub.execute_input": "2021-05-29T17:25:44.731855Z",
          "iopub.status.busy": "2021-05-29T17:25:44.731084Z",
          "iopub.status.idle": "2021-05-29T17:25:44.735968Z",
          "shell.execute_reply": "2021-05-29T17:25:44.735289Z",
          "shell.execute_reply.started": "2021-05-29T17:23:33.337988Z"
        },
        "papermill": {
          "duration": 0.104637,
          "end_time": "2021-05-29T17:25:44.736104",
          "exception": false,
          "start_time": "2021-05-29T17:25:44.631467",
          "status": "completed"
        },
        "tags": [],
        "id": "_XIUaVFc3Xms",
        "outputId": "8dd4fd0a-6b0e-4057-be87-7613a56f19d3",
        "colab": {
          "base_uri": "https://localhost:8080/",
          "height": 206
        }
      },
      "outputs": [
        {
          "output_type": "execute_result",
          "data": {
            "text/plain": [
              "   PassengerId  Pclass                                          Name     Sex   Age  SibSp  Parch   Ticket     Fare Cabin Embarked\n",
              "0          892       3                              Kelly, Mr. James    male  34.5      0      0   330911   7.8292   NaN        Q\n",
              "1          893       3              Wilkes, Mrs. James (Ellen Needs)  female  47.0      1      0   363272   7.0000   NaN        S\n",
              "2          894       2                     Myles, Mr. Thomas Francis    male  62.0      0      0   240276   9.6875   NaN        Q\n",
              "3          895       3                              Wirz, Mr. Albert    male  27.0      0      0   315154   8.6625   NaN        S\n",
              "4          896       3  Hirvonen, Mrs. Alexander (Helga E Lindqvist)  female  22.0      1      1  3101298  12.2875   NaN        S"
            ],
            "text/html": [
              "\n",
              "  <div id=\"df-95add57d-b383-4b57-8fa2-ff02e3cfa3cd\">\n",
              "    <div class=\"colab-df-container\">\n",
              "      <div>\n",
              "<style scoped>\n",
              "    .dataframe tbody tr th:only-of-type {\n",
              "        vertical-align: middle;\n",
              "    }\n",
              "\n",
              "    .dataframe tbody tr th {\n",
              "        vertical-align: top;\n",
              "    }\n",
              "\n",
              "    .dataframe thead th {\n",
              "        text-align: right;\n",
              "    }\n",
              "</style>\n",
              "<table border=\"1\" class=\"dataframe\">\n",
              "  <thead>\n",
              "    <tr style=\"text-align: right;\">\n",
              "      <th></th>\n",
              "      <th>PassengerId</th>\n",
              "      <th>Pclass</th>\n",
              "      <th>Name</th>\n",
              "      <th>Sex</th>\n",
              "      <th>Age</th>\n",
              "      <th>SibSp</th>\n",
              "      <th>Parch</th>\n",
              "      <th>Ticket</th>\n",
              "      <th>Fare</th>\n",
              "      <th>Cabin</th>\n",
              "      <th>Embarked</th>\n",
              "    </tr>\n",
              "  </thead>\n",
              "  <tbody>\n",
              "    <tr>\n",
              "      <th>0</th>\n",
              "      <td>892</td>\n",
              "      <td>3</td>\n",
              "      <td>Kelly, Mr. James</td>\n",
              "      <td>male</td>\n",
              "      <td>34.5</td>\n",
              "      <td>0</td>\n",
              "      <td>0</td>\n",
              "      <td>330911</td>\n",
              "      <td>7.8292</td>\n",
              "      <td>NaN</td>\n",
              "      <td>Q</td>\n",
              "    </tr>\n",
              "    <tr>\n",
              "      <th>1</th>\n",
              "      <td>893</td>\n",
              "      <td>3</td>\n",
              "      <td>Wilkes, Mrs. James (Ellen Needs)</td>\n",
              "      <td>female</td>\n",
              "      <td>47.0</td>\n",
              "      <td>1</td>\n",
              "      <td>0</td>\n",
              "      <td>363272</td>\n",
              "      <td>7.0000</td>\n",
              "      <td>NaN</td>\n",
              "      <td>S</td>\n",
              "    </tr>\n",
              "    <tr>\n",
              "      <th>2</th>\n",
              "      <td>894</td>\n",
              "      <td>2</td>\n",
              "      <td>Myles, Mr. Thomas Francis</td>\n",
              "      <td>male</td>\n",
              "      <td>62.0</td>\n",
              "      <td>0</td>\n",
              "      <td>0</td>\n",
              "      <td>240276</td>\n",
              "      <td>9.6875</td>\n",
              "      <td>NaN</td>\n",
              "      <td>Q</td>\n",
              "    </tr>\n",
              "    <tr>\n",
              "      <th>3</th>\n",
              "      <td>895</td>\n",
              "      <td>3</td>\n",
              "      <td>Wirz, Mr. Albert</td>\n",
              "      <td>male</td>\n",
              "      <td>27.0</td>\n",
              "      <td>0</td>\n",
              "      <td>0</td>\n",
              "      <td>315154</td>\n",
              "      <td>8.6625</td>\n",
              "      <td>NaN</td>\n",
              "      <td>S</td>\n",
              "    </tr>\n",
              "    <tr>\n",
              "      <th>4</th>\n",
              "      <td>896</td>\n",
              "      <td>3</td>\n",
              "      <td>Hirvonen, Mrs. Alexander (Helga E Lindqvist)</td>\n",
              "      <td>female</td>\n",
              "      <td>22.0</td>\n",
              "      <td>1</td>\n",
              "      <td>1</td>\n",
              "      <td>3101298</td>\n",
              "      <td>12.2875</td>\n",
              "      <td>NaN</td>\n",
              "      <td>S</td>\n",
              "    </tr>\n",
              "  </tbody>\n",
              "</table>\n",
              "</div>\n",
              "      <button class=\"colab-df-convert\" onclick=\"convertToInteractive('df-95add57d-b383-4b57-8fa2-ff02e3cfa3cd')\"\n",
              "              title=\"Convert this dataframe to an interactive table.\"\n",
              "              style=\"display:none;\">\n",
              "        \n",
              "  <svg xmlns=\"http://www.w3.org/2000/svg\" height=\"24px\"viewBox=\"0 0 24 24\"\n",
              "       width=\"24px\">\n",
              "    <path d=\"M0 0h24v24H0V0z\" fill=\"none\"/>\n",
              "    <path d=\"M18.56 5.44l.94 2.06.94-2.06 2.06-.94-2.06-.94-.94-2.06-.94 2.06-2.06.94zm-11 1L8.5 8.5l.94-2.06 2.06-.94-2.06-.94L8.5 2.5l-.94 2.06-2.06.94zm10 10l.94 2.06.94-2.06 2.06-.94-2.06-.94-.94-2.06-.94 2.06-2.06.94z\"/><path d=\"M17.41 7.96l-1.37-1.37c-.4-.4-.92-.59-1.43-.59-.52 0-1.04.2-1.43.59L10.3 9.45l-7.72 7.72c-.78.78-.78 2.05 0 2.83L4 21.41c.39.39.9.59 1.41.59.51 0 1.02-.2 1.41-.59l7.78-7.78 2.81-2.81c.8-.78.8-2.07 0-2.86zM5.41 20L4 18.59l7.72-7.72 1.47 1.35L5.41 20z\"/>\n",
              "  </svg>\n",
              "      </button>\n",
              "      \n",
              "  <style>\n",
              "    .colab-df-container {\n",
              "      display:flex;\n",
              "      flex-wrap:wrap;\n",
              "      gap: 12px;\n",
              "    }\n",
              "\n",
              "    .colab-df-convert {\n",
              "      background-color: #E8F0FE;\n",
              "      border: none;\n",
              "      border-radius: 50%;\n",
              "      cursor: pointer;\n",
              "      display: none;\n",
              "      fill: #1967D2;\n",
              "      height: 32px;\n",
              "      padding: 0 0 0 0;\n",
              "      width: 32px;\n",
              "    }\n",
              "\n",
              "    .colab-df-convert:hover {\n",
              "      background-color: #E2EBFA;\n",
              "      box-shadow: 0px 1px 2px rgba(60, 64, 67, 0.3), 0px 1px 3px 1px rgba(60, 64, 67, 0.15);\n",
              "      fill: #174EA6;\n",
              "    }\n",
              "\n",
              "    [theme=dark] .colab-df-convert {\n",
              "      background-color: #3B4455;\n",
              "      fill: #D2E3FC;\n",
              "    }\n",
              "\n",
              "    [theme=dark] .colab-df-convert:hover {\n",
              "      background-color: #434B5C;\n",
              "      box-shadow: 0px 1px 3px 1px rgba(0, 0, 0, 0.15);\n",
              "      filter: drop-shadow(0px 1px 2px rgba(0, 0, 0, 0.3));\n",
              "      fill: #FFFFFF;\n",
              "    }\n",
              "  </style>\n",
              "\n",
              "      <script>\n",
              "        const buttonEl =\n",
              "          document.querySelector('#df-95add57d-b383-4b57-8fa2-ff02e3cfa3cd button.colab-df-convert');\n",
              "        buttonEl.style.display =\n",
              "          google.colab.kernel.accessAllowed ? 'block' : 'none';\n",
              "\n",
              "        async function convertToInteractive(key) {\n",
              "          const element = document.querySelector('#df-95add57d-b383-4b57-8fa2-ff02e3cfa3cd');\n",
              "          const dataTable =\n",
              "            await google.colab.kernel.invokeFunction('convertToInteractive',\n",
              "                                                     [key], {});\n",
              "          if (!dataTable) return;\n",
              "\n",
              "          const docLinkHtml = 'Like what you see? Visit the ' +\n",
              "            '<a target=\"_blank\" href=https://colab.research.google.com/notebooks/data_table.ipynb>data table notebook</a>'\n",
              "            + ' to learn more about interactive tables.';\n",
              "          element.innerHTML = '';\n",
              "          dataTable['output_type'] = 'display_data';\n",
              "          await google.colab.output.renderOutput(dataTable, element);\n",
              "          const docLink = document.createElement('div');\n",
              "          docLink.innerHTML = docLinkHtml;\n",
              "          element.appendChild(docLink);\n",
              "        }\n",
              "      </script>\n",
              "    </div>\n",
              "  </div>\n",
              "  "
            ]
          },
          "metadata": {},
          "execution_count": 13
        }
      ],
      "source": [
        "test_data.head()"
      ]
    },
    {
      "cell_type": "code",
      "execution_count": 14,
      "metadata": {
        "execution": {
          "iopub.execute_input": "2021-05-29T17:25:44.906081Z",
          "iopub.status.busy": "2021-05-29T17:25:44.905321Z",
          "iopub.status.idle": "2021-05-29T17:25:44.909136Z",
          "shell.execute_reply": "2021-05-29T17:25:44.908516Z",
          "shell.execute_reply.started": "2021-05-29T17:23:33.355623Z"
        },
        "papermill": {
          "duration": 0.091629,
          "end_time": "2021-05-29T17:25:44.909262",
          "exception": false,
          "start_time": "2021-05-29T17:25:44.817633",
          "status": "completed"
        },
        "tags": [],
        "id": "T0pv6Vy-3Xmt",
        "outputId": "82731427-a71c-4e07-8ec7-8be9ff946005",
        "colab": {
          "base_uri": "https://localhost:8080/"
        }
      },
      "outputs": [
        {
          "output_type": "execute_result",
          "data": {
            "text/plain": [
              "46.91358024691358"
            ]
          },
          "metadata": {},
          "execution_count": 14
        }
      ],
      "source": [
        "100*len(test_data)/len(train_data)"
      ]
    },
    {
      "cell_type": "code",
      "execution_count": 15,
      "metadata": {
        "execution": {
          "iopub.execute_input": "2021-05-29T17:25:45.080464Z",
          "iopub.status.busy": "2021-05-29T17:25:45.079717Z",
          "iopub.status.idle": "2021-05-29T17:25:45.082588Z",
          "shell.execute_reply": "2021-05-29T17:25:45.083096Z",
          "shell.execute_reply.started": "2021-05-29T17:23:33.368168Z"
        },
        "papermill": {
          "duration": 0.091938,
          "end_time": "2021-05-29T17:25:45.083259",
          "exception": false,
          "start_time": "2021-05-29T17:25:44.991321",
          "status": "completed"
        },
        "tags": [],
        "id": "ABkls5e83Xmt",
        "outputId": "84b772e5-97bb-43f1-f832-c2fe36b1beea",
        "colab": {
          "base_uri": "https://localhost:8080/"
        }
      },
      "outputs": [
        {
          "output_type": "execute_result",
          "data": {
            "text/plain": [
              "((891, 12), (418, 11))"
            ]
          },
          "metadata": {},
          "execution_count": 15
        }
      ],
      "source": [
        "train_data.shape, test_data.shape"
      ]
    },
    {
      "cell_type": "markdown",
      "metadata": {
        "papermill": {
          "duration": 0.08244,
          "end_time": "2021-05-29T17:25:45.248085",
          "exception": false,
          "start_time": "2021-05-29T17:25:45.165645",
          "status": "completed"
        },
        "tags": [],
        "id": "O188yx3C3Xmt"
      },
      "source": [
        "### Information of dataset"
      ]
    },
    {
      "cell_type": "code",
      "execution_count": 16,
      "metadata": {
        "execution": {
          "iopub.execute_input": "2021-05-29T17:25:45.416530Z",
          "iopub.status.busy": "2021-05-29T17:25:45.415810Z",
          "iopub.status.idle": "2021-05-29T17:25:45.422762Z",
          "shell.execute_reply": "2021-05-29T17:25:45.423249Z",
          "shell.execute_reply.started": "2021-05-29T17:23:33.381939Z"
        },
        "papermill": {
          "duration": 0.092838,
          "end_time": "2021-05-29T17:25:45.423442",
          "exception": false,
          "start_time": "2021-05-29T17:25:45.330604",
          "status": "completed"
        },
        "tags": [],
        "id": "KmV20xDE3Xmu"
      },
      "outputs": [],
      "source": [
        "def details(df):\n",
        "    missing_values = df.isnull().sum()\n",
        "    missing_perc = 100*df.isnull().sum()/len(df)\n",
        "    data_types = df.dtypes\n",
        "    unique_vlaues = df.nunique()\n",
        "    \n",
        "    table = pd.concat([missing_values,missing_perc,data_types,unique_vlaues], axis=1)\n",
        "    table_columns = table.rename(columns = {0 : 'Missing Values', 1 : '% of Total Missing Values', 2 : 'Data_Types', 3: 'Unique values'})\n",
        "    return table_columns"
      ]
    },
    {
      "cell_type": "code",
      "execution_count": 17,
      "metadata": {
        "execution": {
          "iopub.execute_input": "2021-05-29T17:25:45.593133Z",
          "iopub.status.busy": "2021-05-29T17:25:45.592465Z",
          "iopub.status.idle": "2021-05-29T17:25:45.617465Z",
          "shell.execute_reply": "2021-05-29T17:25:45.617944Z",
          "shell.execute_reply.started": "2021-05-29T17:23:33.394213Z"
        },
        "papermill": {
          "duration": 0.112401,
          "end_time": "2021-05-29T17:25:45.618125",
          "exception": false,
          "start_time": "2021-05-29T17:25:45.505724",
          "status": "completed"
        },
        "tags": [],
        "id": "7sFhgnai3Xmu",
        "outputId": "782bea23-045e-4947-add1-2bcdda2a111a",
        "colab": {
          "base_uri": "https://localhost:8080/",
          "height": 426
        }
      },
      "outputs": [
        {
          "output_type": "execute_result",
          "data": {
            "text/plain": [
              "             Missing Values  % of Total Missing Values Data_Types  Unique values\n",
              "PassengerId               0                   0.000000      int64            891\n",
              "Survived                  0                   0.000000      int64              2\n",
              "Pclass                    0                   0.000000      int64              3\n",
              "Name                      0                   0.000000     object            891\n",
              "Sex                       0                   0.000000     object              2\n",
              "Age                     177                  19.865320    float64             88\n",
              "SibSp                     0                   0.000000      int64              7\n",
              "Parch                     0                   0.000000      int64              7\n",
              "Ticket                    0                   0.000000     object            681\n",
              "Fare                      0                   0.000000    float64            248\n",
              "Cabin                   687                  77.104377     object            147\n",
              "Embarked                  2                   0.224467     object              3"
            ],
            "text/html": [
              "\n",
              "  <div id=\"df-31f58273-8701-44b7-a0ea-8b18203bd246\">\n",
              "    <div class=\"colab-df-container\">\n",
              "      <div>\n",
              "<style scoped>\n",
              "    .dataframe tbody tr th:only-of-type {\n",
              "        vertical-align: middle;\n",
              "    }\n",
              "\n",
              "    .dataframe tbody tr th {\n",
              "        vertical-align: top;\n",
              "    }\n",
              "\n",
              "    .dataframe thead th {\n",
              "        text-align: right;\n",
              "    }\n",
              "</style>\n",
              "<table border=\"1\" class=\"dataframe\">\n",
              "  <thead>\n",
              "    <tr style=\"text-align: right;\">\n",
              "      <th></th>\n",
              "      <th>Missing Values</th>\n",
              "      <th>% of Total Missing Values</th>\n",
              "      <th>Data_Types</th>\n",
              "      <th>Unique values</th>\n",
              "    </tr>\n",
              "  </thead>\n",
              "  <tbody>\n",
              "    <tr>\n",
              "      <th>PassengerId</th>\n",
              "      <td>0</td>\n",
              "      <td>0.000000</td>\n",
              "      <td>int64</td>\n",
              "      <td>891</td>\n",
              "    </tr>\n",
              "    <tr>\n",
              "      <th>Survived</th>\n",
              "      <td>0</td>\n",
              "      <td>0.000000</td>\n",
              "      <td>int64</td>\n",
              "      <td>2</td>\n",
              "    </tr>\n",
              "    <tr>\n",
              "      <th>Pclass</th>\n",
              "      <td>0</td>\n",
              "      <td>0.000000</td>\n",
              "      <td>int64</td>\n",
              "      <td>3</td>\n",
              "    </tr>\n",
              "    <tr>\n",
              "      <th>Name</th>\n",
              "      <td>0</td>\n",
              "      <td>0.000000</td>\n",
              "      <td>object</td>\n",
              "      <td>891</td>\n",
              "    </tr>\n",
              "    <tr>\n",
              "      <th>Sex</th>\n",
              "      <td>0</td>\n",
              "      <td>0.000000</td>\n",
              "      <td>object</td>\n",
              "      <td>2</td>\n",
              "    </tr>\n",
              "    <tr>\n",
              "      <th>Age</th>\n",
              "      <td>177</td>\n",
              "      <td>19.865320</td>\n",
              "      <td>float64</td>\n",
              "      <td>88</td>\n",
              "    </tr>\n",
              "    <tr>\n",
              "      <th>SibSp</th>\n",
              "      <td>0</td>\n",
              "      <td>0.000000</td>\n",
              "      <td>int64</td>\n",
              "      <td>7</td>\n",
              "    </tr>\n",
              "    <tr>\n",
              "      <th>Parch</th>\n",
              "      <td>0</td>\n",
              "      <td>0.000000</td>\n",
              "      <td>int64</td>\n",
              "      <td>7</td>\n",
              "    </tr>\n",
              "    <tr>\n",
              "      <th>Ticket</th>\n",
              "      <td>0</td>\n",
              "      <td>0.000000</td>\n",
              "      <td>object</td>\n",
              "      <td>681</td>\n",
              "    </tr>\n",
              "    <tr>\n",
              "      <th>Fare</th>\n",
              "      <td>0</td>\n",
              "      <td>0.000000</td>\n",
              "      <td>float64</td>\n",
              "      <td>248</td>\n",
              "    </tr>\n",
              "    <tr>\n",
              "      <th>Cabin</th>\n",
              "      <td>687</td>\n",
              "      <td>77.104377</td>\n",
              "      <td>object</td>\n",
              "      <td>147</td>\n",
              "    </tr>\n",
              "    <tr>\n",
              "      <th>Embarked</th>\n",
              "      <td>2</td>\n",
              "      <td>0.224467</td>\n",
              "      <td>object</td>\n",
              "      <td>3</td>\n",
              "    </tr>\n",
              "  </tbody>\n",
              "</table>\n",
              "</div>\n",
              "      <button class=\"colab-df-convert\" onclick=\"convertToInteractive('df-31f58273-8701-44b7-a0ea-8b18203bd246')\"\n",
              "              title=\"Convert this dataframe to an interactive table.\"\n",
              "              style=\"display:none;\">\n",
              "        \n",
              "  <svg xmlns=\"http://www.w3.org/2000/svg\" height=\"24px\"viewBox=\"0 0 24 24\"\n",
              "       width=\"24px\">\n",
              "    <path d=\"M0 0h24v24H0V0z\" fill=\"none\"/>\n",
              "    <path d=\"M18.56 5.44l.94 2.06.94-2.06 2.06-.94-2.06-.94-.94-2.06-.94 2.06-2.06.94zm-11 1L8.5 8.5l.94-2.06 2.06-.94-2.06-.94L8.5 2.5l-.94 2.06-2.06.94zm10 10l.94 2.06.94-2.06 2.06-.94-2.06-.94-.94-2.06-.94 2.06-2.06.94z\"/><path d=\"M17.41 7.96l-1.37-1.37c-.4-.4-.92-.59-1.43-.59-.52 0-1.04.2-1.43.59L10.3 9.45l-7.72 7.72c-.78.78-.78 2.05 0 2.83L4 21.41c.39.39.9.59 1.41.59.51 0 1.02-.2 1.41-.59l7.78-7.78 2.81-2.81c.8-.78.8-2.07 0-2.86zM5.41 20L4 18.59l7.72-7.72 1.47 1.35L5.41 20z\"/>\n",
              "  </svg>\n",
              "      </button>\n",
              "      \n",
              "  <style>\n",
              "    .colab-df-container {\n",
              "      display:flex;\n",
              "      flex-wrap:wrap;\n",
              "      gap: 12px;\n",
              "    }\n",
              "\n",
              "    .colab-df-convert {\n",
              "      background-color: #E8F0FE;\n",
              "      border: none;\n",
              "      border-radius: 50%;\n",
              "      cursor: pointer;\n",
              "      display: none;\n",
              "      fill: #1967D2;\n",
              "      height: 32px;\n",
              "      padding: 0 0 0 0;\n",
              "      width: 32px;\n",
              "    }\n",
              "\n",
              "    .colab-df-convert:hover {\n",
              "      background-color: #E2EBFA;\n",
              "      box-shadow: 0px 1px 2px rgba(60, 64, 67, 0.3), 0px 1px 3px 1px rgba(60, 64, 67, 0.15);\n",
              "      fill: #174EA6;\n",
              "    }\n",
              "\n",
              "    [theme=dark] .colab-df-convert {\n",
              "      background-color: #3B4455;\n",
              "      fill: #D2E3FC;\n",
              "    }\n",
              "\n",
              "    [theme=dark] .colab-df-convert:hover {\n",
              "      background-color: #434B5C;\n",
              "      box-shadow: 0px 1px 3px 1px rgba(0, 0, 0, 0.15);\n",
              "      filter: drop-shadow(0px 1px 2px rgba(0, 0, 0, 0.3));\n",
              "      fill: #FFFFFF;\n",
              "    }\n",
              "  </style>\n",
              "\n",
              "      <script>\n",
              "        const buttonEl =\n",
              "          document.querySelector('#df-31f58273-8701-44b7-a0ea-8b18203bd246 button.colab-df-convert');\n",
              "        buttonEl.style.display =\n",
              "          google.colab.kernel.accessAllowed ? 'block' : 'none';\n",
              "\n",
              "        async function convertToInteractive(key) {\n",
              "          const element = document.querySelector('#df-31f58273-8701-44b7-a0ea-8b18203bd246');\n",
              "          const dataTable =\n",
              "            await google.colab.kernel.invokeFunction('convertToInteractive',\n",
              "                                                     [key], {});\n",
              "          if (!dataTable) return;\n",
              "\n",
              "          const docLinkHtml = 'Like what you see? Visit the ' +\n",
              "            '<a target=\"_blank\" href=https://colab.research.google.com/notebooks/data_table.ipynb>data table notebook</a>'\n",
              "            + ' to learn more about interactive tables.';\n",
              "          element.innerHTML = '';\n",
              "          dataTable['output_type'] = 'display_data';\n",
              "          await google.colab.output.renderOutput(dataTable, element);\n",
              "          const docLink = document.createElement('div');\n",
              "          docLink.innerHTML = docLinkHtml;\n",
              "          element.appendChild(docLink);\n",
              "        }\n",
              "      </script>\n",
              "    </div>\n",
              "  </div>\n",
              "  "
            ]
          },
          "metadata": {},
          "execution_count": 17
        }
      ],
      "source": [
        "details(train_data)"
      ]
    },
    {
      "cell_type": "code",
      "execution_count": 18,
      "metadata": {
        "execution": {
          "iopub.execute_input": "2021-05-29T17:25:45.788941Z",
          "iopub.status.busy": "2021-05-29T17:25:45.788261Z",
          "iopub.status.idle": "2021-05-29T17:25:45.808417Z",
          "shell.execute_reply": "2021-05-29T17:25:45.807675Z",
          "shell.execute_reply.started": "2021-05-29T17:23:33.433287Z"
        },
        "papermill": {
          "duration": 0.107116,
          "end_time": "2021-05-29T17:25:45.808564",
          "exception": false,
          "start_time": "2021-05-29T17:25:45.701448",
          "status": "completed"
        },
        "tags": [],
        "id": "XygoVBVf3Xmu",
        "outputId": "6cc00436-5d8d-4de2-cfea-5df62dd73c92",
        "colab": {
          "base_uri": "https://localhost:8080/",
          "height": 394
        }
      },
      "outputs": [
        {
          "output_type": "execute_result",
          "data": {
            "text/plain": [
              "             Missing Values  % of Total Missing Values Data_Types  Unique values\n",
              "PassengerId               0                   0.000000      int64            418\n",
              "Pclass                    0                   0.000000      int64              3\n",
              "Name                      0                   0.000000     object            418\n",
              "Sex                       0                   0.000000     object              2\n",
              "Age                      86                  20.574163    float64             79\n",
              "SibSp                     0                   0.000000      int64              7\n",
              "Parch                     0                   0.000000      int64              8\n",
              "Ticket                    0                   0.000000     object            363\n",
              "Fare                      1                   0.239234    float64            169\n",
              "Cabin                   327                  78.229665     object             76\n",
              "Embarked                  0                   0.000000     object              3"
            ],
            "text/html": [
              "\n",
              "  <div id=\"df-c86be57e-9451-4d8a-bbac-ad171771b66d\">\n",
              "    <div class=\"colab-df-container\">\n",
              "      <div>\n",
              "<style scoped>\n",
              "    .dataframe tbody tr th:only-of-type {\n",
              "        vertical-align: middle;\n",
              "    }\n",
              "\n",
              "    .dataframe tbody tr th {\n",
              "        vertical-align: top;\n",
              "    }\n",
              "\n",
              "    .dataframe thead th {\n",
              "        text-align: right;\n",
              "    }\n",
              "</style>\n",
              "<table border=\"1\" class=\"dataframe\">\n",
              "  <thead>\n",
              "    <tr style=\"text-align: right;\">\n",
              "      <th></th>\n",
              "      <th>Missing Values</th>\n",
              "      <th>% of Total Missing Values</th>\n",
              "      <th>Data_Types</th>\n",
              "      <th>Unique values</th>\n",
              "    </tr>\n",
              "  </thead>\n",
              "  <tbody>\n",
              "    <tr>\n",
              "      <th>PassengerId</th>\n",
              "      <td>0</td>\n",
              "      <td>0.000000</td>\n",
              "      <td>int64</td>\n",
              "      <td>418</td>\n",
              "    </tr>\n",
              "    <tr>\n",
              "      <th>Pclass</th>\n",
              "      <td>0</td>\n",
              "      <td>0.000000</td>\n",
              "      <td>int64</td>\n",
              "      <td>3</td>\n",
              "    </tr>\n",
              "    <tr>\n",
              "      <th>Name</th>\n",
              "      <td>0</td>\n",
              "      <td>0.000000</td>\n",
              "      <td>object</td>\n",
              "      <td>418</td>\n",
              "    </tr>\n",
              "    <tr>\n",
              "      <th>Sex</th>\n",
              "      <td>0</td>\n",
              "      <td>0.000000</td>\n",
              "      <td>object</td>\n",
              "      <td>2</td>\n",
              "    </tr>\n",
              "    <tr>\n",
              "      <th>Age</th>\n",
              "      <td>86</td>\n",
              "      <td>20.574163</td>\n",
              "      <td>float64</td>\n",
              "      <td>79</td>\n",
              "    </tr>\n",
              "    <tr>\n",
              "      <th>SibSp</th>\n",
              "      <td>0</td>\n",
              "      <td>0.000000</td>\n",
              "      <td>int64</td>\n",
              "      <td>7</td>\n",
              "    </tr>\n",
              "    <tr>\n",
              "      <th>Parch</th>\n",
              "      <td>0</td>\n",
              "      <td>0.000000</td>\n",
              "      <td>int64</td>\n",
              "      <td>8</td>\n",
              "    </tr>\n",
              "    <tr>\n",
              "      <th>Ticket</th>\n",
              "      <td>0</td>\n",
              "      <td>0.000000</td>\n",
              "      <td>object</td>\n",
              "      <td>363</td>\n",
              "    </tr>\n",
              "    <tr>\n",
              "      <th>Fare</th>\n",
              "      <td>1</td>\n",
              "      <td>0.239234</td>\n",
              "      <td>float64</td>\n",
              "      <td>169</td>\n",
              "    </tr>\n",
              "    <tr>\n",
              "      <th>Cabin</th>\n",
              "      <td>327</td>\n",
              "      <td>78.229665</td>\n",
              "      <td>object</td>\n",
              "      <td>76</td>\n",
              "    </tr>\n",
              "    <tr>\n",
              "      <th>Embarked</th>\n",
              "      <td>0</td>\n",
              "      <td>0.000000</td>\n",
              "      <td>object</td>\n",
              "      <td>3</td>\n",
              "    </tr>\n",
              "  </tbody>\n",
              "</table>\n",
              "</div>\n",
              "      <button class=\"colab-df-convert\" onclick=\"convertToInteractive('df-c86be57e-9451-4d8a-bbac-ad171771b66d')\"\n",
              "              title=\"Convert this dataframe to an interactive table.\"\n",
              "              style=\"display:none;\">\n",
              "        \n",
              "  <svg xmlns=\"http://www.w3.org/2000/svg\" height=\"24px\"viewBox=\"0 0 24 24\"\n",
              "       width=\"24px\">\n",
              "    <path d=\"M0 0h24v24H0V0z\" fill=\"none\"/>\n",
              "    <path d=\"M18.56 5.44l.94 2.06.94-2.06 2.06-.94-2.06-.94-.94-2.06-.94 2.06-2.06.94zm-11 1L8.5 8.5l.94-2.06 2.06-.94-2.06-.94L8.5 2.5l-.94 2.06-2.06.94zm10 10l.94 2.06.94-2.06 2.06-.94-2.06-.94-.94-2.06-.94 2.06-2.06.94z\"/><path d=\"M17.41 7.96l-1.37-1.37c-.4-.4-.92-.59-1.43-.59-.52 0-1.04.2-1.43.59L10.3 9.45l-7.72 7.72c-.78.78-.78 2.05 0 2.83L4 21.41c.39.39.9.59 1.41.59.51 0 1.02-.2 1.41-.59l7.78-7.78 2.81-2.81c.8-.78.8-2.07 0-2.86zM5.41 20L4 18.59l7.72-7.72 1.47 1.35L5.41 20z\"/>\n",
              "  </svg>\n",
              "      </button>\n",
              "      \n",
              "  <style>\n",
              "    .colab-df-container {\n",
              "      display:flex;\n",
              "      flex-wrap:wrap;\n",
              "      gap: 12px;\n",
              "    }\n",
              "\n",
              "    .colab-df-convert {\n",
              "      background-color: #E8F0FE;\n",
              "      border: none;\n",
              "      border-radius: 50%;\n",
              "      cursor: pointer;\n",
              "      display: none;\n",
              "      fill: #1967D2;\n",
              "      height: 32px;\n",
              "      padding: 0 0 0 0;\n",
              "      width: 32px;\n",
              "    }\n",
              "\n",
              "    .colab-df-convert:hover {\n",
              "      background-color: #E2EBFA;\n",
              "      box-shadow: 0px 1px 2px rgba(60, 64, 67, 0.3), 0px 1px 3px 1px rgba(60, 64, 67, 0.15);\n",
              "      fill: #174EA6;\n",
              "    }\n",
              "\n",
              "    [theme=dark] .colab-df-convert {\n",
              "      background-color: #3B4455;\n",
              "      fill: #D2E3FC;\n",
              "    }\n",
              "\n",
              "    [theme=dark] .colab-df-convert:hover {\n",
              "      background-color: #434B5C;\n",
              "      box-shadow: 0px 1px 3px 1px rgba(0, 0, 0, 0.15);\n",
              "      filter: drop-shadow(0px 1px 2px rgba(0, 0, 0, 0.3));\n",
              "      fill: #FFFFFF;\n",
              "    }\n",
              "  </style>\n",
              "\n",
              "      <script>\n",
              "        const buttonEl =\n",
              "          document.querySelector('#df-c86be57e-9451-4d8a-bbac-ad171771b66d button.colab-df-convert');\n",
              "        buttonEl.style.display =\n",
              "          google.colab.kernel.accessAllowed ? 'block' : 'none';\n",
              "\n",
              "        async function convertToInteractive(key) {\n",
              "          const element = document.querySelector('#df-c86be57e-9451-4d8a-bbac-ad171771b66d');\n",
              "          const dataTable =\n",
              "            await google.colab.kernel.invokeFunction('convertToInteractive',\n",
              "                                                     [key], {});\n",
              "          if (!dataTable) return;\n",
              "\n",
              "          const docLinkHtml = 'Like what you see? Visit the ' +\n",
              "            '<a target=\"_blank\" href=https://colab.research.google.com/notebooks/data_table.ipynb>data table notebook</a>'\n",
              "            + ' to learn more about interactive tables.';\n",
              "          element.innerHTML = '';\n",
              "          dataTable['output_type'] = 'display_data';\n",
              "          await google.colab.output.renderOutput(dataTable, element);\n",
              "          const docLink = document.createElement('div');\n",
              "          docLink.innerHTML = docLinkHtml;\n",
              "          element.appendChild(docLink);\n",
              "        }\n",
              "      </script>\n",
              "    </div>\n",
              "  </div>\n",
              "  "
            ]
          },
          "metadata": {},
          "execution_count": 18
        }
      ],
      "source": [
        "details(test_data)"
      ]
    },
    {
      "cell_type": "markdown",
      "metadata": {
        "papermill": {
          "duration": 0.084334,
          "end_time": "2021-05-29T17:25:45.977100",
          "exception": false,
          "start_time": "2021-05-29T17:25:45.892766",
          "status": "completed"
        },
        "tags": [],
        "id": "gIlUR7tv3Xmv"
      },
      "source": [
        "### Balance of Data"
      ]
    },
    {
      "cell_type": "code",
      "execution_count": 19,
      "metadata": {
        "execution": {
          "iopub.execute_input": "2021-05-29T17:25:46.156202Z",
          "iopub.status.busy": "2021-05-29T17:25:46.155496Z",
          "iopub.status.idle": "2021-05-29T17:25:46.163882Z",
          "shell.execute_reply": "2021-05-29T17:25:46.163168Z",
          "shell.execute_reply.started": "2021-05-29T17:23:33.458210Z"
        },
        "papermill": {
          "duration": 0.100037,
          "end_time": "2021-05-29T17:25:46.164019",
          "exception": false,
          "start_time": "2021-05-29T17:25:46.063982",
          "status": "completed"
        },
        "tags": [],
        "id": "hihGOnzn3Xmv",
        "outputId": "c5e3df95-98d0-4941-e87e-568c256c4096",
        "colab": {
          "base_uri": "https://localhost:8080/"
        }
      },
      "outputs": [
        {
          "output_type": "execute_result",
          "data": {
            "text/plain": [
              "0    61.616162\n",
              "1    38.383838\n",
              "Name: Survived, dtype: float64"
            ]
          },
          "metadata": {},
          "execution_count": 19
        }
      ],
      "source": [
        "100*train_data['Survived'].value_counts(normalize=True)"
      ]
    },
    {
      "cell_type": "code",
      "execution_count": 20,
      "metadata": {
        "execution": {
          "iopub.execute_input": "2021-05-29T17:25:46.409953Z",
          "iopub.status.busy": "2021-05-29T17:25:46.409192Z",
          "iopub.status.idle": "2021-05-29T17:25:46.594887Z",
          "shell.execute_reply": "2021-05-29T17:25:46.594355Z",
          "shell.execute_reply.started": "2021-05-29T17:23:33.468667Z"
        },
        "papermill": {
          "duration": 0.346421,
          "end_time": "2021-05-29T17:25:46.595022",
          "exception": false,
          "start_time": "2021-05-29T17:25:46.248601",
          "status": "completed"
        },
        "tags": [],
        "id": "3AxKkZJ53Xmv",
        "outputId": "36b479ea-750d-4f4f-d476-acc15559e298",
        "colab": {
          "base_uri": "https://localhost:8080/",
          "height": 262
        }
      },
      "outputs": [
        {
          "output_type": "display_data",
          "data": {
            "text/plain": [
              "<Figure size 432x288 with 1 Axes>"
            ],
            "image/png": "[encoded data removed]"
          },
          "metadata": {
            "needs_background": "light"
          }
        }
      ],
      "source": [
        "round(100*train_data['Survived'].value_counts(normalize=True),2).plot(kind='bar', figsize=(6,4))\n",
        "plt.show()"
      ]
    },
    {
      "cell_type": "markdown",
      "metadata": {
        "papermill": {
          "duration": 0.083357,
          "end_time": "2021-05-29T17:25:46.761561",
          "exception": false,
          "start_time": "2021-05-29T17:25:46.678204",
          "status": "completed"
        },
        "tags": [],
        "id": "JzXHFWSJ3Xmw"
      },
      "source": [
        "### Male vs Female Surviours"
      ]
    },
    {
      "cell_type": "code",
      "execution_count": null,
      "metadata": {
        "execution": {
          "iopub.execute_input": "2021-05-29T17:25:46.937896Z",
          "iopub.status.busy": "2021-05-29T17:25:46.937080Z",
          "iopub.status.idle": "2021-05-29T17:25:46.941556Z",
          "shell.execute_reply": "2021-05-29T17:25:46.942064Z",
          "shell.execute_reply.started": "2021-05-29T17:23:33.657534Z"
        },
        "papermill": {
          "duration": 0.097175,
          "end_time": "2021-05-29T17:25:46.942205",
          "exception": false,
          "start_time": "2021-05-29T17:25:46.845030",
          "status": "completed"
        },
        "tags": [],
        "id": "DR8loOkO3Xmw",
        "outputId": "c3e16bc0-9124-498f-b8c0-bbb0aff567f6"
      },
      "outputs": [
        {
          "name": "stdout",
          "output_type": "stream",
          "text": [
            "% of women who survived: 0.7420382165605095\n"
          ]
        }
      ],
      "source": [
        "women = train_data.loc[train_data.Sex == 'female'][\"Survived\"]\n",
        "rate_women = sum(women)/len(women)\n",
        "\n",
        "print(\"% of women who survived:\", rate_women)"
      ]
    },
    {
      "cell_type": "code",
      "execution_count": null,
      "metadata": {
        "execution": {
          "iopub.execute_input": "2021-05-29T17:25:47.120098Z",
          "iopub.status.busy": "2021-05-29T17:25:47.119198Z",
          "iopub.status.idle": "2021-05-29T17:25:47.124721Z",
          "shell.execute_reply": "2021-05-29T17:25:47.125305Z",
          "shell.execute_reply.started": "2021-05-29T17:23:33.667421Z"
        },
        "papermill": {
          "duration": 0.097336,
          "end_time": "2021-05-29T17:25:47.125472",
          "exception": false,
          "start_time": "2021-05-29T17:25:47.028136",
          "status": "completed"
        },
        "tags": [],
        "id": "xJs_XnDU3Xmw",
        "outputId": "e89246c4-dbda-411c-94f0-9a7b6362bd93"
      },
      "outputs": [
        {
          "name": "stdout",
          "output_type": "stream",
          "text": [
            "% of men who survived: 0.18890814558058924\n"
          ]
        }
      ],
      "source": [
        "men = train_data.loc[train_data.Sex == 'male'][\"Survived\"]\n",
        "rate_men = sum(men)/len(men)\n",
        "\n",
        "print(\"% of men who survived:\", rate_men)"
      ]
    },
    {
      "cell_type": "code",
      "execution_count": null,
      "metadata": {
        "execution": {
          "iopub.execute_input": "2021-05-29T17:25:47.302712Z",
          "iopub.status.busy": "2021-05-29T17:25:47.301981Z",
          "iopub.status.idle": "2021-05-29T17:25:47.334766Z",
          "shell.execute_reply": "2021-05-29T17:25:47.334218Z",
          "shell.execute_reply.started": "2021-05-29T17:23:33.681706Z"
        },
        "papermill": {
          "duration": 0.125164,
          "end_time": "2021-05-29T17:25:47.334886",
          "exception": false,
          "start_time": "2021-05-29T17:25:47.209722",
          "status": "completed"
        },
        "tags": [],
        "id": "jPyadExn3Xmw",
        "outputId": "71c0d667-3424-4002-94f5-cae3df049657"
      },
      "outputs": [
        {
          "data": {
            "text/html": [
              "<div>\n",
              "<style scoped>\n",
              "    .dataframe tbody tr th:only-of-type {\n",
              "        vertical-align: middle;\n",
              "    }\n",
              "\n",
              "    .dataframe tbody tr th {\n",
              "        vertical-align: top;\n",
              "    }\n",
              "\n",
              "    .dataframe thead th {\n",
              "        text-align: right;\n",
              "    }\n",
              "</style>\n",
              "<table border=\"1\" class=\"dataframe\">\n",
              "  <thead>\n",
              "    <tr style=\"text-align: right;\">\n",
              "      <th></th>\n",
              "      <th>PassengerId</th>\n",
              "      <th>Survived</th>\n",
              "      <th>Pclass</th>\n",
              "      <th>Age</th>\n",
              "      <th>SibSp</th>\n",
              "      <th>Parch</th>\n",
              "      <th>Fare</th>\n",
              "    </tr>\n",
              "  </thead>\n",
              "  <tbody>\n",
              "    <tr>\n",
              "      <th>count</th>\n",
              "      <td>891.000000</td>\n",
              "      <td>891.000000</td>\n",
              "      <td>891.000000</td>\n",
              "      <td>714.000000</td>\n",
              "      <td>891.000000</td>\n",
              "      <td>891.000000</td>\n",
              "      <td>891.000000</td>\n",
              "    </tr>\n",
              "    <tr>\n",
              "      <th>mean</th>\n",
              "      <td>446.000000</td>\n",
              "      <td>0.383838</td>\n",
              "      <td>2.308642</td>\n",
              "      <td>29.699118</td>\n",
              "      <td>0.523008</td>\n",
              "      <td>0.381594</td>\n",
              "      <td>32.204208</td>\n",
              "    </tr>\n",
              "    <tr>\n",
              "      <th>std</th>\n",
              "      <td>257.353842</td>\n",
              "      <td>0.486592</td>\n",
              "      <td>0.836071</td>\n",
              "      <td>14.526497</td>\n",
              "      <td>1.102743</td>\n",
              "      <td>0.806057</td>\n",
              "      <td>49.693429</td>\n",
              "    </tr>\n",
              "    <tr>\n",
              "      <th>min</th>\n",
              "      <td>1.000000</td>\n",
              "      <td>0.000000</td>\n",
              "      <td>1.000000</td>\n",
              "      <td>0.420000</td>\n",
              "      <td>0.000000</td>\n",
              "      <td>0.000000</td>\n",
              "      <td>0.000000</td>\n",
              "    </tr>\n",
              "    <tr>\n",
              "      <th>1%</th>\n",
              "      <td>9.900000</td>\n",
              "      <td>0.000000</td>\n",
              "      <td>1.000000</td>\n",
              "      <td>1.000000</td>\n",
              "      <td>0.000000</td>\n",
              "      <td>0.000000</td>\n",
              "      <td>0.000000</td>\n",
              "    </tr>\n",
              "    <tr>\n",
              "      <th>10%</th>\n",
              "      <td>90.000000</td>\n",
              "      <td>0.000000</td>\n",
              "      <td>1.000000</td>\n",
              "      <td>14.000000</td>\n",
              "      <td>0.000000</td>\n",
              "      <td>0.000000</td>\n",
              "      <td>7.550000</td>\n",
              "    </tr>\n",
              "    <tr>\n",
              "      <th>25%</th>\n",
              "      <td>223.500000</td>\n",
              "      <td>0.000000</td>\n",
              "      <td>2.000000</td>\n",
              "      <td>20.125000</td>\n",
              "      <td>0.000000</td>\n",
              "      <td>0.000000</td>\n",
              "      <td>7.910400</td>\n",
              "    </tr>\n",
              "    <tr>\n",
              "      <th>50%</th>\n",
              "      <td>446.000000</td>\n",
              "      <td>0.000000</td>\n",
              "      <td>3.000000</td>\n",
              "      <td>28.000000</td>\n",
              "      <td>0.000000</td>\n",
              "      <td>0.000000</td>\n",
              "      <td>14.454200</td>\n",
              "    </tr>\n",
              "    <tr>\n",
              "      <th>75%</th>\n",
              "      <td>668.500000</td>\n",
              "      <td>1.000000</td>\n",
              "      <td>3.000000</td>\n",
              "      <td>38.000000</td>\n",
              "      <td>1.000000</td>\n",
              "      <td>0.000000</td>\n",
              "      <td>31.000000</td>\n",
              "    </tr>\n",
              "    <tr>\n",
              "      <th>90%</th>\n",
              "      <td>802.000000</td>\n",
              "      <td>1.000000</td>\n",
              "      <td>3.000000</td>\n",
              "      <td>50.000000</td>\n",
              "      <td>1.000000</td>\n",
              "      <td>2.000000</td>\n",
              "      <td>77.958300</td>\n",
              "    </tr>\n",
              "    <tr>\n",
              "      <th>95%</th>\n",
              "      <td>846.500000</td>\n",
              "      <td>1.000000</td>\n",
              "      <td>3.000000</td>\n",
              "      <td>56.000000</td>\n",
              "      <td>3.000000</td>\n",
              "      <td>2.000000</td>\n",
              "      <td>112.079150</td>\n",
              "    </tr>\n",
              "    <tr>\n",
              "      <th>99%</th>\n",
              "      <td>882.100000</td>\n",
              "      <td>1.000000</td>\n",
              "      <td>3.000000</td>\n",
              "      <td>65.870000</td>\n",
              "      <td>5.000000</td>\n",
              "      <td>4.000000</td>\n",
              "      <td>249.006220</td>\n",
              "    </tr>\n",
              "    <tr>\n",
              "      <th>max</th>\n",
              "      <td>891.000000</td>\n",
              "      <td>1.000000</td>\n",
              "      <td>3.000000</td>\n",
              "      <td>80.000000</td>\n",
              "      <td>8.000000</td>\n",
              "      <td>6.000000</td>\n",
              "      <td>512.329200</td>\n",
              "    </tr>\n",
              "  </tbody>\n",
              "</table>\n",
              "</div>"
            ],
            "text/plain": [
              "       PassengerId    Survived      Pclass         Age       SibSp       Parch        Fare\n",
              "count   891.000000  891.000000  891.000000  714.000000  891.000000  891.000000  891.000000\n",
              "mean    446.000000    0.383838    2.308642   29.699118    0.523008    0.381594   32.204208\n",
              "std     257.353842    0.486592    0.836071   14.526497    1.102743    0.806057   49.693429\n",
              "min       1.000000    0.000000    1.000000    0.420000    0.000000    0.000000    0.000000\n",
              "1%        9.900000    0.000000    1.000000    1.000000    0.000000    0.000000    0.000000\n",
              "10%      90.000000    0.000000    1.000000   14.000000    0.000000    0.000000    7.550000\n",
              "25%     223.500000    0.000000    2.000000   20.125000    0.000000    0.000000    7.910400\n",
              "50%     446.000000    0.000000    3.000000   28.000000    0.000000    0.000000   14.454200\n",
              "75%     668.500000    1.000000    3.000000   38.000000    1.000000    0.000000   31.000000\n",
              "90%     802.000000    1.000000    3.000000   50.000000    1.000000    2.000000   77.958300\n",
              "95%     846.500000    1.000000    3.000000   56.000000    3.000000    2.000000  112.079150\n",
              "99%     882.100000    1.000000    3.000000   65.870000    5.000000    4.000000  249.006220\n",
              "max     891.000000    1.000000    3.000000   80.000000    8.000000    6.000000  512.329200"
            ]
          },
          "execution_count": 17,
          "metadata": {},
          "output_type": "execute_result"
        }
      ],
      "source": [
        "train_data.describe(percentiles=[0.01,0.1,0.25,0.5,0.75,0.9,0.95,0.99])"
      ]
    },
    {
      "cell_type": "code",
      "execution_count": null,
      "metadata": {
        "execution": {
          "iopub.execute_input": "2021-05-29T17:25:47.519162Z",
          "iopub.status.busy": "2021-05-29T17:25:47.516922Z",
          "iopub.status.idle": "2021-05-29T17:25:47.543472Z",
          "shell.execute_reply": "2021-05-29T17:25:47.543949Z",
          "shell.execute_reply.started": "2021-05-29T17:23:33.729240Z"
        },
        "papermill": {
          "duration": 0.124914,
          "end_time": "2021-05-29T17:25:47.544118",
          "exception": false,
          "start_time": "2021-05-29T17:25:47.419204",
          "status": "completed"
        },
        "tags": [],
        "id": "edj8x2cT3Xmx",
        "outputId": "980d9472-62cd-494e-fb6a-6acafa9296b4"
      },
      "outputs": [
        {
          "data": {
            "text/html": [
              "<div>\n",
              "<style scoped>\n",
              "    .dataframe tbody tr th:only-of-type {\n",
              "        vertical-align: middle;\n",
              "    }\n",
              "\n",
              "    .dataframe tbody tr th {\n",
              "        vertical-align: top;\n",
              "    }\n",
              "\n",
              "    .dataframe thead th {\n",
              "        text-align: right;\n",
              "    }\n",
              "</style>\n",
              "<table border=\"1\" class=\"dataframe\">\n",
              "  <thead>\n",
              "    <tr style=\"text-align: right;\">\n",
              "      <th></th>\n",
              "      <th>PassengerId</th>\n",
              "      <th>Pclass</th>\n",
              "      <th>Age</th>\n",
              "      <th>SibSp</th>\n",
              "      <th>Parch</th>\n",
              "      <th>Fare</th>\n",
              "    </tr>\n",
              "  </thead>\n",
              "  <tbody>\n",
              "    <tr>\n",
              "      <th>count</th>\n",
              "      <td>418.000000</td>\n",
              "      <td>418.000000</td>\n",
              "      <td>332.000000</td>\n",
              "      <td>418.000000</td>\n",
              "      <td>418.000000</td>\n",
              "      <td>417.000000</td>\n",
              "    </tr>\n",
              "    <tr>\n",
              "      <th>mean</th>\n",
              "      <td>1100.500000</td>\n",
              "      <td>2.265550</td>\n",
              "      <td>30.272590</td>\n",
              "      <td>0.447368</td>\n",
              "      <td>0.392344</td>\n",
              "      <td>35.627188</td>\n",
              "    </tr>\n",
              "    <tr>\n",
              "      <th>std</th>\n",
              "      <td>120.810458</td>\n",
              "      <td>0.841838</td>\n",
              "      <td>14.181209</td>\n",
              "      <td>0.896760</td>\n",
              "      <td>0.981429</td>\n",
              "      <td>55.907576</td>\n",
              "    </tr>\n",
              "    <tr>\n",
              "      <th>min</th>\n",
              "      <td>892.000000</td>\n",
              "      <td>1.000000</td>\n",
              "      <td>0.170000</td>\n",
              "      <td>0.000000</td>\n",
              "      <td>0.000000</td>\n",
              "      <td>0.000000</td>\n",
              "    </tr>\n",
              "    <tr>\n",
              "      <th>1%</th>\n",
              "      <td>896.170000</td>\n",
              "      <td>1.000000</td>\n",
              "      <td>0.857900</td>\n",
              "      <td>0.000000</td>\n",
              "      <td>0.000000</td>\n",
              "      <td>6.446828</td>\n",
              "    </tr>\n",
              "    <tr>\n",
              "      <th>10%</th>\n",
              "      <td>933.700000</td>\n",
              "      <td>1.000000</td>\n",
              "      <td>16.100000</td>\n",
              "      <td>0.000000</td>\n",
              "      <td>0.000000</td>\n",
              "      <td>7.641680</td>\n",
              "    </tr>\n",
              "    <tr>\n",
              "      <th>25%</th>\n",
              "      <td>996.250000</td>\n",
              "      <td>1.000000</td>\n",
              "      <td>21.000000</td>\n",
              "      <td>0.000000</td>\n",
              "      <td>0.000000</td>\n",
              "      <td>7.895800</td>\n",
              "    </tr>\n",
              "    <tr>\n",
              "      <th>50%</th>\n",
              "      <td>1100.500000</td>\n",
              "      <td>3.000000</td>\n",
              "      <td>27.000000</td>\n",
              "      <td>0.000000</td>\n",
              "      <td>0.000000</td>\n",
              "      <td>14.454200</td>\n",
              "    </tr>\n",
              "    <tr>\n",
              "      <th>75%</th>\n",
              "      <td>1204.750000</td>\n",
              "      <td>3.000000</td>\n",
              "      <td>39.000000</td>\n",
              "      <td>1.000000</td>\n",
              "      <td>0.000000</td>\n",
              "      <td>31.500000</td>\n",
              "    </tr>\n",
              "    <tr>\n",
              "      <th>90%</th>\n",
              "      <td>1267.300000</td>\n",
              "      <td>3.000000</td>\n",
              "      <td>50.000000</td>\n",
              "      <td>1.000000</td>\n",
              "      <td>1.300000</td>\n",
              "      <td>79.200000</td>\n",
              "    </tr>\n",
              "    <tr>\n",
              "      <th>95%</th>\n",
              "      <td>1288.150000</td>\n",
              "      <td>3.000000</td>\n",
              "      <td>57.000000</td>\n",
              "      <td>2.000000</td>\n",
              "      <td>2.000000</td>\n",
              "      <td>151.550000</td>\n",
              "    </tr>\n",
              "    <tr>\n",
              "      <th>99%</th>\n",
              "      <td>1304.830000</td>\n",
              "      <td>3.000000</td>\n",
              "      <td>64.000000</td>\n",
              "      <td>4.000000</td>\n",
              "      <td>4.000000</td>\n",
              "      <td>262.375000</td>\n",
              "    </tr>\n",
              "    <tr>\n",
              "      <th>max</th>\n",
              "      <td>1309.000000</td>\n",
              "      <td>3.000000</td>\n",
              "      <td>76.000000</td>\n",
              "      <td>8.000000</td>\n",
              "      <td>9.000000</td>\n",
              "      <td>512.329200</td>\n",
              "    </tr>\n",
              "  </tbody>\n",
              "</table>\n",
              "</div>"
            ],
            "text/plain": [
              "       PassengerId      Pclass         Age       SibSp       Parch        Fare\n",
              "count   418.000000  418.000000  332.000000  418.000000  418.000000  417.000000\n",
              "mean   1100.500000    2.265550   30.272590    0.447368    0.392344   35.627188\n",
              "std     120.810458    0.841838   14.181209    0.896760    0.981429   55.907576\n",
              "min     892.000000    1.000000    0.170000    0.000000    0.000000    0.000000\n",
              "1%      896.170000    1.000000    0.857900    0.000000    0.000000    6.446828\n",
              "10%     933.700000    1.000000   16.100000    0.000000    0.000000    7.641680\n",
              "25%     996.250000    1.000000   21.000000    0.000000    0.000000    7.895800\n",
              "50%    1100.500000    3.000000   27.000000    0.000000    0.000000   14.454200\n",
              "75%    1204.750000    3.000000   39.000000    1.000000    0.000000   31.500000\n",
              "90%    1267.300000    3.000000   50.000000    1.000000    1.300000   79.200000\n",
              "95%    1288.150000    3.000000   57.000000    2.000000    2.000000  151.550000\n",
              "99%    1304.830000    3.000000   64.000000    4.000000    4.000000  262.375000\n",
              "max    1309.000000    3.000000   76.000000    8.000000    9.000000  512.329200"
            ]
          },
          "execution_count": 18,
          "metadata": {},
          "output_type": "execute_result"
        }
      ],
      "source": [
        "test_data.describe(percentiles=[0.01,0.1,0.25,0.5,0.75,0.9,0.95,0.99])"
      ]
    },
    {
      "cell_type": "markdown",
      "metadata": {
        "papermill": {
          "duration": 0.085872,
          "end_time": "2021-05-29T17:25:47.716601",
          "exception": false,
          "start_time": "2021-05-29T17:25:47.630729",
          "status": "completed"
        },
        "tags": [],
        "id": "kziR20_23Xmx"
      },
      "source": [
        "### Dropping cabin column from both train and test dataset"
      ]
    },
    {
      "cell_type": "code",
      "execution_count": null,
      "metadata": {
        "execution": {
          "iopub.execute_input": "2021-05-29T17:25:47.909332Z",
          "iopub.status.busy": "2021-05-29T17:25:47.895736Z",
          "iopub.status.idle": "2021-05-29T17:25:47.915002Z",
          "shell.execute_reply": "2021-05-29T17:25:47.914004Z",
          "shell.execute_reply.started": "2021-05-29T17:23:33.765375Z"
        },
        "papermill": {
          "duration": 0.112023,
          "end_time": "2021-05-29T17:25:47.915152",
          "exception": false,
          "start_time": "2021-05-29T17:25:47.803129",
          "status": "completed"
        },
        "tags": [],
        "id": "GGAvEJWh3Xmx",
        "outputId": "cc51a26e-5ec1-4784-f639-929bcd563882"
      },
      "outputs": [
        {
          "data": {
            "text/html": [
              "<div>\n",
              "<style scoped>\n",
              "    .dataframe tbody tr th:only-of-type {\n",
              "        vertical-align: middle;\n",
              "    }\n",
              "\n",
              "    .dataframe tbody tr th {\n",
              "        vertical-align: top;\n",
              "    }\n",
              "\n",
              "    .dataframe thead th {\n",
              "        text-align: right;\n",
              "    }\n",
              "</style>\n",
              "<table border=\"1\" class=\"dataframe\">\n",
              "  <thead>\n",
              "    <tr style=\"text-align: right;\">\n",
              "      <th></th>\n",
              "      <th>PassengerId</th>\n",
              "      <th>Survived</th>\n",
              "      <th>Pclass</th>\n",
              "      <th>Name</th>\n",
              "      <th>Sex</th>\n",
              "      <th>Age</th>\n",
              "      <th>SibSp</th>\n",
              "      <th>Parch</th>\n",
              "      <th>Ticket</th>\n",
              "      <th>Fare</th>\n",
              "      <th>Embarked</th>\n",
              "    </tr>\n",
              "  </thead>\n",
              "  <tbody>\n",
              "    <tr>\n",
              "      <th>0</th>\n",
              "      <td>1</td>\n",
              "      <td>0</td>\n",
              "      <td>3</td>\n",
              "      <td>Braund, Mr. Owen Harris</td>\n",
              "      <td>male</td>\n",
              "      <td>22.0</td>\n",
              "      <td>1</td>\n",
              "      <td>0</td>\n",
              "      <td>A/5 21171</td>\n",
              "      <td>7.2500</td>\n",
              "      <td>S</td>\n",
              "    </tr>\n",
              "    <tr>\n",
              "      <th>1</th>\n",
              "      <td>2</td>\n",
              "      <td>1</td>\n",
              "      <td>1</td>\n",
              "      <td>Cumings, Mrs. John Bradley (Florence Briggs Th...</td>\n",
              "      <td>female</td>\n",
              "      <td>38.0</td>\n",
              "      <td>1</td>\n",
              "      <td>0</td>\n",
              "      <td>PC 17599</td>\n",
              "      <td>71.2833</td>\n",
              "      <td>C</td>\n",
              "    </tr>\n",
              "    <tr>\n",
              "      <th>2</th>\n",
              "      <td>3</td>\n",
              "      <td>1</td>\n",
              "      <td>3</td>\n",
              "      <td>Heikkinen, Miss. Laina</td>\n",
              "      <td>female</td>\n",
              "      <td>26.0</td>\n",
              "      <td>0</td>\n",
              "      <td>0</td>\n",
              "      <td>STON/O2. 3101282</td>\n",
              "      <td>7.9250</td>\n",
              "      <td>S</td>\n",
              "    </tr>\n",
              "    <tr>\n",
              "      <th>3</th>\n",
              "      <td>4</td>\n",
              "      <td>1</td>\n",
              "      <td>1</td>\n",
              "      <td>Futrelle, Mrs. Jacques Heath (Lily May Peel)</td>\n",
              "      <td>female</td>\n",
              "      <td>35.0</td>\n",
              "      <td>1</td>\n",
              "      <td>0</td>\n",
              "      <td>113803</td>\n",
              "      <td>53.1000</td>\n",
              "      <td>S</td>\n",
              "    </tr>\n",
              "    <tr>\n",
              "      <th>4</th>\n",
              "      <td>5</td>\n",
              "      <td>0</td>\n",
              "      <td>3</td>\n",
              "      <td>Allen, Mr. William Henry</td>\n",
              "      <td>male</td>\n",
              "      <td>35.0</td>\n",
              "      <td>0</td>\n",
              "      <td>0</td>\n",
              "      <td>373450</td>\n",
              "      <td>8.0500</td>\n",
              "      <td>S</td>\n",
              "    </tr>\n",
              "  </tbody>\n",
              "</table>\n",
              "</div>"
            ],
            "text/plain": [
              "   PassengerId  Survived  Pclass                                               Name     Sex   Age  SibSp  Parch            Ticket     Fare Embarked\n",
              "0            1         0       3                            Braund, Mr. Owen Harris    male  22.0      1      0         A/5 21171   7.2500        S\n",
              "1            2         1       1  Cumings, Mrs. John Bradley (Florence Briggs Th...  female  38.0      1      0          PC 17599  71.2833        C\n",
              "2            3         1       3                             Heikkinen, Miss. Laina  female  26.0      0      0  STON/O2. 3101282   7.9250        S\n",
              "3            4         1       1       Futrelle, Mrs. Jacques Heath (Lily May Peel)  female  35.0      1      0            113803  53.1000        S\n",
              "4            5         0       3                           Allen, Mr. William Henry    male  35.0      0      0            373450   8.0500        S"
            ]
          },
          "execution_count": 19,
          "metadata": {},
          "output_type": "execute_result"
        }
      ],
      "source": [
        "train_data.drop('Cabin', axis=1, inplace=True)\n",
        "train_data.head()"
      ]
    },
    {
      "cell_type": "code",
      "execution_count": null,
      "metadata": {
        "execution": {
          "iopub.execute_input": "2021-05-29T17:25:48.102232Z",
          "iopub.status.busy": "2021-05-29T17:25:48.101479Z",
          "iopub.status.idle": "2021-05-29T17:25:48.111619Z",
          "shell.execute_reply": "2021-05-29T17:25:48.110991Z",
          "shell.execute_reply.started": "2021-05-29T17:23:33.787049Z"
        },
        "papermill": {
          "duration": 0.109661,
          "end_time": "2021-05-29T17:25:48.111751",
          "exception": false,
          "start_time": "2021-05-29T17:25:48.002090",
          "status": "completed"
        },
        "tags": [],
        "id": "syd5sqTR3Xmx",
        "outputId": "b84f99c4-dad7-45ed-a77d-f3d9f8c23864"
      },
      "outputs": [
        {
          "data": {
            "text/html": [
              "<div>\n",
              "<style scoped>\n",
              "    .dataframe tbody tr th:only-of-type {\n",
              "        vertical-align: middle;\n",
              "    }\n",
              "\n",
              "    .dataframe tbody tr th {\n",
              "        vertical-align: top;\n",
              "    }\n",
              "\n",
              "    .dataframe thead th {\n",
              "        text-align: right;\n",
              "    }\n",
              "</style>\n",
              "<table border=\"1\" class=\"dataframe\">\n",
              "  <thead>\n",
              "    <tr style=\"text-align: right;\">\n",
              "      <th></th>\n",
              "      <th>PassengerId</th>\n",
              "      <th>Pclass</th>\n",
              "      <th>Name</th>\n",
              "      <th>Sex</th>\n",
              "      <th>Age</th>\n",
              "      <th>SibSp</th>\n",
              "      <th>Parch</th>\n",
              "      <th>Ticket</th>\n",
              "      <th>Fare</th>\n",
              "      <th>Embarked</th>\n",
              "    </tr>\n",
              "  </thead>\n",
              "  <tbody>\n",
              "    <tr>\n",
              "      <th>0</th>\n",
              "      <td>892</td>\n",
              "      <td>3</td>\n",
              "      <td>Kelly, Mr. James</td>\n",
              "      <td>male</td>\n",
              "      <td>34.5</td>\n",
              "      <td>0</td>\n",
              "      <td>0</td>\n",
              "      <td>330911</td>\n",
              "      <td>7.8292</td>\n",
              "      <td>Q</td>\n",
              "    </tr>\n",
              "    <tr>\n",
              "      <th>1</th>\n",
              "      <td>893</td>\n",
              "      <td>3</td>\n",
              "      <td>Wilkes, Mrs. James (Ellen Needs)</td>\n",
              "      <td>female</td>\n",
              "      <td>47.0</td>\n",
              "      <td>1</td>\n",
              "      <td>0</td>\n",
              "      <td>363272</td>\n",
              "      <td>7.0000</td>\n",
              "      <td>S</td>\n",
              "    </tr>\n",
              "    <tr>\n",
              "      <th>2</th>\n",
              "      <td>894</td>\n",
              "      <td>2</td>\n",
              "      <td>Myles, Mr. Thomas Francis</td>\n",
              "      <td>male</td>\n",
              "      <td>62.0</td>\n",
              "      <td>0</td>\n",
              "      <td>0</td>\n",
              "      <td>240276</td>\n",
              "      <td>9.6875</td>\n",
              "      <td>Q</td>\n",
              "    </tr>\n",
              "    <tr>\n",
              "      <th>3</th>\n",
              "      <td>895</td>\n",
              "      <td>3</td>\n",
              "      <td>Wirz, Mr. Albert</td>\n",
              "      <td>male</td>\n",
              "      <td>27.0</td>\n",
              "      <td>0</td>\n",
              "      <td>0</td>\n",
              "      <td>315154</td>\n",
              "      <td>8.6625</td>\n",
              "      <td>S</td>\n",
              "    </tr>\n",
              "    <tr>\n",
              "      <th>4</th>\n",
              "      <td>896</td>\n",
              "      <td>3</td>\n",
              "      <td>Hirvonen, Mrs. Alexander (Helga E Lindqvist)</td>\n",
              "      <td>female</td>\n",
              "      <td>22.0</td>\n",
              "      <td>1</td>\n",
              "      <td>1</td>\n",
              "      <td>3101298</td>\n",
              "      <td>12.2875</td>\n",
              "      <td>S</td>\n",
              "    </tr>\n",
              "  </tbody>\n",
              "</table>\n",
              "</div>"
            ],
            "text/plain": [
              "   PassengerId  Pclass                                          Name     Sex   Age  SibSp  Parch   Ticket     Fare Embarked\n",
              "0          892       3                              Kelly, Mr. James    male  34.5      0      0   330911   7.8292        Q\n",
              "1          893       3              Wilkes, Mrs. James (Ellen Needs)  female  47.0      1      0   363272   7.0000        S\n",
              "2          894       2                     Myles, Mr. Thomas Francis    male  62.0      0      0   240276   9.6875        Q\n",
              "3          895       3                              Wirz, Mr. Albert    male  27.0      0      0   315154   8.6625        S\n",
              "4          896       3  Hirvonen, Mrs. Alexander (Helga E Lindqvist)  female  22.0      1      1  3101298  12.2875        S"
            ]
          },
          "execution_count": 20,
          "metadata": {},
          "output_type": "execute_result"
        }
      ],
      "source": [
        "test_data.drop('Cabin', axis=1, inplace=True)\n",
        "test_data.head()"
      ]
    },
    {
      "cell_type": "markdown",
      "metadata": {
        "papermill": {
          "duration": 0.08823,
          "end_time": "2021-05-29T17:25:48.287706",
          "exception": false,
          "start_time": "2021-05-29T17:25:48.199476",
          "status": "completed"
        },
        "tags": [],
        "id": "w9t607BH3Xmy"
      },
      "source": [
        "### Imputing Age, Fare and Embarked with median and mode values"
      ]
    },
    {
      "cell_type": "code",
      "execution_count": null,
      "metadata": {
        "execution": {
          "iopub.execute_input": "2021-05-29T17:25:48.473496Z",
          "iopub.status.busy": "2021-05-29T17:25:48.472550Z",
          "iopub.status.idle": "2021-05-29T17:25:48.477255Z",
          "shell.execute_reply": "2021-05-29T17:25:48.476743Z",
          "shell.execute_reply.started": "2021-05-29T17:23:33.817885Z"
        },
        "papermill": {
          "duration": 0.101932,
          "end_time": "2021-05-29T17:25:48.477401",
          "exception": false,
          "start_time": "2021-05-29T17:25:48.375469",
          "status": "completed"
        },
        "tags": [],
        "id": "VvUQlrUM3Xmy",
        "outputId": "1184fd69-c2d6-4f7b-ffc3-29a99736e7c4"
      },
      "outputs": [
        {
          "data": {
            "text/plain": [
              "0"
            ]
          },
          "execution_count": 21,
          "metadata": {},
          "output_type": "execute_result"
        }
      ],
      "source": [
        "age_median_train = train_data.Age.median()\n",
        "train_data.Age.fillna(age_median_train, inplace=True)\n",
        "train_data.Age.isnull().sum()"
      ]
    },
    {
      "cell_type": "code",
      "execution_count": null,
      "metadata": {
        "execution": {
          "iopub.execute_input": "2021-05-29T17:25:48.657403Z",
          "iopub.status.busy": "2021-05-29T17:25:48.656748Z",
          "iopub.status.idle": "2021-05-29T17:25:48.664220Z",
          "shell.execute_reply": "2021-05-29T17:25:48.664776Z",
          "shell.execute_reply.started": "2021-05-29T17:23:33.829131Z"
        },
        "papermill": {
          "duration": 0.098786,
          "end_time": "2021-05-29T17:25:48.664940",
          "exception": false,
          "start_time": "2021-05-29T17:25:48.566154",
          "status": "completed"
        },
        "tags": [],
        "id": "Ij33uMkd3Xmy",
        "outputId": "de2613a8-ffa3-4b2a-e60c-e1d22a096ef8"
      },
      "outputs": [
        {
          "data": {
            "text/plain": [
              "0"
            ]
          },
          "execution_count": 22,
          "metadata": {},
          "output_type": "execute_result"
        }
      ],
      "source": [
        "age_median_test = test_data.Age.median()\n",
        "test_data.Age.fillna(age_median_test, inplace=True)\n",
        "test_data.Age.isnull().sum()"
      ]
    },
    {
      "cell_type": "code",
      "execution_count": null,
      "metadata": {
        "execution": {
          "iopub.execute_input": "2021-05-29T17:25:48.846830Z",
          "iopub.status.busy": "2021-05-29T17:25:48.845999Z",
          "iopub.status.idle": "2021-05-29T17:25:48.853061Z",
          "shell.execute_reply": "2021-05-29T17:25:48.853594Z",
          "shell.execute_reply.started": "2021-05-29T17:23:33.841169Z"
        },
        "papermill": {
          "duration": 0.100049,
          "end_time": "2021-05-29T17:25:48.853756",
          "exception": false,
          "start_time": "2021-05-29T17:25:48.753707",
          "status": "completed"
        },
        "tags": [],
        "id": "ttcCUael3Xmy",
        "outputId": "1043d7fd-84fc-49d3-dfb8-c7f2b80bb602"
      },
      "outputs": [
        {
          "data": {
            "text/plain": [
              "0    608\n",
              "1    209\n",
              "2     28\n",
              "4     18\n",
              "3     16\n",
              "8      7\n",
              "5      5\n",
              "Name: SibSp, dtype: int64"
            ]
          },
          "execution_count": 23,
          "metadata": {},
          "output_type": "execute_result"
        }
      ],
      "source": [
        "train_data.SibSp.value_counts()"
      ]
    },
    {
      "cell_type": "code",
      "execution_count": null,
      "metadata": {
        "execution": {
          "iopub.execute_input": "2021-05-29T17:25:49.036918Z",
          "iopub.status.busy": "2021-05-29T17:25:49.036050Z",
          "iopub.status.idle": "2021-05-29T17:25:49.039706Z",
          "shell.execute_reply": "2021-05-29T17:25:49.040159Z",
          "shell.execute_reply.started": "2021-05-29T17:23:33.854716Z"
        },
        "papermill": {
          "duration": 0.099302,
          "end_time": "2021-05-29T17:25:49.040306",
          "exception": false,
          "start_time": "2021-05-29T17:25:48.941004",
          "status": "completed"
        },
        "tags": [],
        "id": "-6Udw1vi3Xmy",
        "outputId": "767fc471-0d8c-4dd2-d6d2-92d0037b42a6"
      },
      "outputs": [
        {
          "data": {
            "text/plain": [
              "0    678\n",
              "1    118\n",
              "2     80\n",
              "5      5\n",
              "3      5\n",
              "4      4\n",
              "6      1\n",
              "Name: Parch, dtype: int64"
            ]
          },
          "execution_count": 24,
          "metadata": {},
          "output_type": "execute_result"
        }
      ],
      "source": [
        "train_data.Parch.value_counts()"
      ]
    },
    {
      "cell_type": "code",
      "execution_count": null,
      "metadata": {
        "execution": {
          "iopub.execute_input": "2021-05-29T17:25:49.220147Z",
          "iopub.status.busy": "2021-05-29T17:25:49.219422Z",
          "iopub.status.idle": "2021-05-29T17:25:49.231794Z",
          "shell.execute_reply": "2021-05-29T17:25:49.231229Z",
          "shell.execute_reply.started": "2021-05-29T17:23:33.871570Z"
        },
        "papermill": {
          "duration": 0.103688,
          "end_time": "2021-05-29T17:25:49.231915",
          "exception": false,
          "start_time": "2021-05-29T17:25:49.128227",
          "status": "completed"
        },
        "tags": [],
        "id": "gSEzJQAX3Xmz",
        "outputId": "1275f619-9dd7-4956-97c7-a665a8be59b6"
      },
      "outputs": [
        {
          "data": {
            "text/plain": [
              "S      644\n",
              "C      168\n",
              "Q       77\n",
              "NaN      2\n",
              "Name: Embarked, dtype: int64"
            ]
          },
          "execution_count": 25,
          "metadata": {},
          "output_type": "execute_result"
        }
      ],
      "source": [
        "train_data.Embarked.value_counts(dropna=False)"
      ]
    },
    {
      "cell_type": "code",
      "execution_count": null,
      "metadata": {
        "execution": {
          "iopub.execute_input": "2021-05-29T17:25:49.411568Z",
          "iopub.status.busy": "2021-05-29T17:25:49.410574Z",
          "iopub.status.idle": "2021-05-29T17:25:49.419143Z",
          "shell.execute_reply": "2021-05-29T17:25:49.419604Z",
          "shell.execute_reply.started": "2021-05-29T17:23:33.887568Z"
        },
        "papermill": {
          "duration": 0.100158,
          "end_time": "2021-05-29T17:25:49.419751",
          "exception": false,
          "start_time": "2021-05-29T17:25:49.319593",
          "status": "completed"
        },
        "tags": [],
        "id": "yYcj6ueU3Xmz",
        "outputId": "1db06658-8ee8-4229-9d22-e5516c434cdf"
      },
      "outputs": [
        {
          "data": {
            "text/plain": [
              "0"
            ]
          },
          "execution_count": 26,
          "metadata": {},
          "output_type": "execute_result"
        }
      ],
      "source": [
        "Embarked_mode_train = train_data.Embarked.mode()[0]\n",
        "train_data.Embarked.fillna(Embarked_mode_train, inplace=True)\n",
        "train_data.Embarked.isnull().sum()"
      ]
    },
    {
      "cell_type": "code",
      "execution_count": null,
      "metadata": {
        "execution": {
          "iopub.execute_input": "2021-05-29T17:25:49.603025Z",
          "iopub.status.busy": "2021-05-29T17:25:49.601997Z",
          "iopub.status.idle": "2021-05-29T17:25:49.610492Z",
          "shell.execute_reply": "2021-05-29T17:25:49.610956Z",
          "shell.execute_reply.started": "2021-05-29T17:23:33.903872Z"
        },
        "papermill": {
          "duration": 0.102511,
          "end_time": "2021-05-29T17:25:49.611131",
          "exception": false,
          "start_time": "2021-05-29T17:25:49.508620",
          "status": "completed"
        },
        "tags": [],
        "id": "RbdYl9rs3Xmz",
        "outputId": "5dee2c9d-addd-424c-a293-e4a784b29c20"
      },
      "outputs": [
        {
          "data": {
            "text/plain": [
              "0"
            ]
          },
          "execution_count": 27,
          "metadata": {},
          "output_type": "execute_result"
        }
      ],
      "source": [
        "Fare_median_test = test_data.Fare.median()\n",
        "test_data.Fare.fillna(Fare_median_test, inplace=True)\n",
        "test_data.Fare.isnull().sum()"
      ]
    },
    {
      "cell_type": "code",
      "execution_count": null,
      "metadata": {
        "execution": {
          "iopub.execute_input": "2021-05-29T17:25:49.795668Z",
          "iopub.status.busy": "2021-05-29T17:25:49.794620Z",
          "iopub.status.idle": "2021-05-29T17:25:49.917757Z",
          "shell.execute_reply": "2021-05-29T17:25:49.918229Z",
          "shell.execute_reply.started": "2021-05-29T17:23:33.914068Z"
        },
        "papermill": {
          "duration": 0.217032,
          "end_time": "2021-05-29T17:25:49.918423",
          "exception": false,
          "start_time": "2021-05-29T17:25:49.701391",
          "status": "completed"
        },
        "tags": [],
        "id": "ChrIBOwu3Xmz",
        "outputId": "5c583773-9a7e-4938-bfdd-c45daad4554b"
      },
      "outputs": [
        {
          "data": {
            "text/plain": [
              "<matplotlib.axes._subplots.AxesSubplot at 0x7fb545bc4110>"
            ]
          },
          "execution_count": 28,
          "metadata": {},
          "output_type": "execute_result"
        },
        {
          "data": {
            "image/png": "[encoded data removed]",
            "text/plain": [
              "<Figure size 432x288 with 1 Axes>"
            ]
          },
          "metadata": {
            "needs_background": "light"
          },
          "output_type": "display_data"
        }
      ],
      "source": [
        "train_data.Pclass.value_counts().plot(kind='bar')"
      ]
    },
    {
      "cell_type": "code",
      "execution_count": null,
      "metadata": {
        "execution": {
          "iopub.execute_input": "2021-05-29T17:25:50.107438Z",
          "iopub.status.busy": "2021-05-29T17:25:50.106325Z",
          "iopub.status.idle": "2021-05-29T17:25:50.121766Z",
          "shell.execute_reply": "2021-05-29T17:25:50.122279Z",
          "shell.execute_reply.started": "2021-05-29T17:23:34.033542Z"
        },
        "papermill": {
          "duration": 0.112935,
          "end_time": "2021-05-29T17:25:50.122465",
          "exception": false,
          "start_time": "2021-05-29T17:25:50.009530",
          "status": "completed"
        },
        "tags": [],
        "id": "6fJQfFEE3Xmz",
        "outputId": "7ab6caf2-cbef-4a01-9e2c-d2774595c83a"
      },
      "outputs": [
        {
          "data": {
            "text/html": [
              "<div>\n",
              "<style scoped>\n",
              "    .dataframe tbody tr th:only-of-type {\n",
              "        vertical-align: middle;\n",
              "    }\n",
              "\n",
              "    .dataframe tbody tr th {\n",
              "        vertical-align: top;\n",
              "    }\n",
              "\n",
              "    .dataframe thead th {\n",
              "        text-align: right;\n",
              "    }\n",
              "</style>\n",
              "<table border=\"1\" class=\"dataframe\">\n",
              "  <thead>\n",
              "    <tr style=\"text-align: right;\">\n",
              "      <th></th>\n",
              "      <th>PassengerId</th>\n",
              "      <th>Survived</th>\n",
              "      <th>Pclass</th>\n",
              "      <th>Name</th>\n",
              "      <th>Sex</th>\n",
              "      <th>Age</th>\n",
              "      <th>SibSp</th>\n",
              "      <th>Parch</th>\n",
              "      <th>Ticket</th>\n",
              "      <th>Fare</th>\n",
              "      <th>Embarked</th>\n",
              "    </tr>\n",
              "  </thead>\n",
              "  <tbody>\n",
              "    <tr>\n",
              "      <th>0</th>\n",
              "      <td>1</td>\n",
              "      <td>0</td>\n",
              "      <td>3</td>\n",
              "      <td>Braund, Mr. Owen Harris</td>\n",
              "      <td>male</td>\n",
              "      <td>22.0</td>\n",
              "      <td>1</td>\n",
              "      <td>0</td>\n",
              "      <td>A/5 21171</td>\n",
              "      <td>7.2500</td>\n",
              "      <td>S</td>\n",
              "    </tr>\n",
              "    <tr>\n",
              "      <th>1</th>\n",
              "      <td>2</td>\n",
              "      <td>1</td>\n",
              "      <td>1</td>\n",
              "      <td>Cumings, Mrs. John Bradley (Florence Briggs Th...</td>\n",
              "      <td>female</td>\n",
              "      <td>38.0</td>\n",
              "      <td>1</td>\n",
              "      <td>0</td>\n",
              "      <td>PC 17599</td>\n",
              "      <td>71.2833</td>\n",
              "      <td>C</td>\n",
              "    </tr>\n",
              "  </tbody>\n",
              "</table>\n",
              "</div>"
            ],
            "text/plain": [
              "   PassengerId  Survived  Pclass                                               Name     Sex   Age  SibSp  Parch     Ticket     Fare Embarked\n",
              "0            1         0       3                            Braund, Mr. Owen Harris    male  22.0      1      0  A/5 21171   7.2500        S\n",
              "1            2         1       1  Cumings, Mrs. John Bradley (Florence Briggs Th...  female  38.0      1      0   PC 17599  71.2833        C"
            ]
          },
          "execution_count": 29,
          "metadata": {},
          "output_type": "execute_result"
        }
      ],
      "source": [
        "train_data.head(2)"
      ]
    },
    {
      "cell_type": "code",
      "execution_count": null,
      "metadata": {
        "execution": {
          "iopub.execute_input": "2021-05-29T17:25:50.308232Z",
          "iopub.status.busy": "2021-05-29T17:25:50.307165Z",
          "iopub.status.idle": "2021-05-29T17:25:50.323912Z",
          "shell.execute_reply": "2021-05-29T17:25:50.323291Z",
          "shell.execute_reply.started": "2021-05-29T17:23:34.051648Z"
        },
        "papermill": {
          "duration": 0.111033,
          "end_time": "2021-05-29T17:25:50.324036",
          "exception": false,
          "start_time": "2021-05-29T17:25:50.213003",
          "status": "completed"
        },
        "tags": [],
        "id": "k9ggmHt03Xm0",
        "outputId": "3360688b-2285-44f7-f00d-a3ae869fcdbc"
      },
      "outputs": [
        {
          "data": {
            "text/html": [
              "<div>\n",
              "<style scoped>\n",
              "    .dataframe tbody tr th:only-of-type {\n",
              "        vertical-align: middle;\n",
              "    }\n",
              "\n",
              "    .dataframe tbody tr th {\n",
              "        vertical-align: top;\n",
              "    }\n",
              "\n",
              "    .dataframe thead th {\n",
              "        text-align: right;\n",
              "    }\n",
              "</style>\n",
              "<table border=\"1\" class=\"dataframe\">\n",
              "  <thead>\n",
              "    <tr style=\"text-align: right;\">\n",
              "      <th></th>\n",
              "      <th>PassengerId</th>\n",
              "      <th>Pclass</th>\n",
              "      <th>Name</th>\n",
              "      <th>Sex</th>\n",
              "      <th>Age</th>\n",
              "      <th>SibSp</th>\n",
              "      <th>Parch</th>\n",
              "      <th>Ticket</th>\n",
              "      <th>Fare</th>\n",
              "      <th>Embarked</th>\n",
              "    </tr>\n",
              "  </thead>\n",
              "  <tbody>\n",
              "    <tr>\n",
              "      <th>0</th>\n",
              "      <td>892</td>\n",
              "      <td>3</td>\n",
              "      <td>Kelly, Mr. James</td>\n",
              "      <td>male</td>\n",
              "      <td>34.5</td>\n",
              "      <td>0</td>\n",
              "      <td>0</td>\n",
              "      <td>330911</td>\n",
              "      <td>7.8292</td>\n",
              "      <td>Q</td>\n",
              "    </tr>\n",
              "    <tr>\n",
              "      <th>1</th>\n",
              "      <td>893</td>\n",
              "      <td>3</td>\n",
              "      <td>Wilkes, Mrs. James (Ellen Needs)</td>\n",
              "      <td>female</td>\n",
              "      <td>47.0</td>\n",
              "      <td>1</td>\n",
              "      <td>0</td>\n",
              "      <td>363272</td>\n",
              "      <td>7.0000</td>\n",
              "      <td>S</td>\n",
              "    </tr>\n",
              "  </tbody>\n",
              "</table>\n",
              "</div>"
            ],
            "text/plain": [
              "   PassengerId  Pclass                              Name     Sex   Age  SibSp  Parch  Ticket    Fare Embarked\n",
              "0          892       3                  Kelly, Mr. James    male  34.5      0      0  330911  7.8292        Q\n",
              "1          893       3  Wilkes, Mrs. James (Ellen Needs)  female  47.0      1      0  363272  7.0000        S"
            ]
          },
          "execution_count": 30,
          "metadata": {},
          "output_type": "execute_result"
        }
      ],
      "source": [
        "test_data.head(2)"
      ]
    },
    {
      "cell_type": "code",
      "execution_count": null,
      "metadata": {
        "execution": {
          "iopub.execute_input": "2021-05-29T17:25:50.516703Z",
          "iopub.status.busy": "2021-05-29T17:25:50.515569Z",
          "iopub.status.idle": "2021-05-29T17:25:50.532246Z",
          "shell.execute_reply": "2021-05-29T17:25:50.532862Z",
          "shell.execute_reply.started": "2021-05-29T17:23:34.073625Z"
        },
        "papermill": {
          "duration": 0.117898,
          "end_time": "2021-05-29T17:25:50.533034",
          "exception": false,
          "start_time": "2021-05-29T17:25:50.415136",
          "status": "completed"
        },
        "tags": [],
        "id": "Am_q-C9A3Xm0",
        "outputId": "d0dcd092-5c96-4226-8423-14eb7936c444"
      },
      "outputs": [
        {
          "data": {
            "text/html": [
              "<div>\n",
              "<style scoped>\n",
              "    .dataframe tbody tr th:only-of-type {\n",
              "        vertical-align: middle;\n",
              "    }\n",
              "\n",
              "    .dataframe tbody tr th {\n",
              "        vertical-align: top;\n",
              "    }\n",
              "\n",
              "    .dataframe thead th {\n",
              "        text-align: right;\n",
              "    }\n",
              "</style>\n",
              "<table border=\"1\" class=\"dataframe\">\n",
              "  <thead>\n",
              "    <tr style=\"text-align: right;\">\n",
              "      <th></th>\n",
              "      <th>Missing Values</th>\n",
              "      <th>% of Total Missing Values</th>\n",
              "      <th>Data_Types</th>\n",
              "      <th>Unique values</th>\n",
              "    </tr>\n",
              "  </thead>\n",
              "  <tbody>\n",
              "    <tr>\n",
              "      <th>PassengerId</th>\n",
              "      <td>0</td>\n",
              "      <td>0.0</td>\n",
              "      <td>int64</td>\n",
              "      <td>891</td>\n",
              "    </tr>\n",
              "    <tr>\n",
              "      <th>Survived</th>\n",
              "      <td>0</td>\n",
              "      <td>0.0</td>\n",
              "      <td>int64</td>\n",
              "      <td>2</td>\n",
              "    </tr>\n",
              "    <tr>\n",
              "      <th>Pclass</th>\n",
              "      <td>0</td>\n",
              "      <td>0.0</td>\n",
              "      <td>int64</td>\n",
              "      <td>3</td>\n",
              "    </tr>\n",
              "    <tr>\n",
              "      <th>Name</th>\n",
              "      <td>0</td>\n",
              "      <td>0.0</td>\n",
              "      <td>object</td>\n",
              "      <td>891</td>\n",
              "    </tr>\n",
              "    <tr>\n",
              "      <th>Sex</th>\n",
              "      <td>0</td>\n",
              "      <td>0.0</td>\n",
              "      <td>object</td>\n",
              "      <td>2</td>\n",
              "    </tr>\n",
              "    <tr>\n",
              "      <th>Age</th>\n",
              "      <td>0</td>\n",
              "      <td>0.0</td>\n",
              "      <td>float64</td>\n",
              "      <td>88</td>\n",
              "    </tr>\n",
              "    <tr>\n",
              "      <th>SibSp</th>\n",
              "      <td>0</td>\n",
              "      <td>0.0</td>\n",
              "      <td>int64</td>\n",
              "      <td>7</td>\n",
              "    </tr>\n",
              "    <tr>\n",
              "      <th>Parch</th>\n",
              "      <td>0</td>\n",
              "      <td>0.0</td>\n",
              "      <td>int64</td>\n",
              "      <td>7</td>\n",
              "    </tr>\n",
              "    <tr>\n",
              "      <th>Ticket</th>\n",
              "      <td>0</td>\n",
              "      <td>0.0</td>\n",
              "      <td>object</td>\n",
              "      <td>681</td>\n",
              "    </tr>\n",
              "    <tr>\n",
              "      <th>Fare</th>\n",
              "      <td>0</td>\n",
              "      <td>0.0</td>\n",
              "      <td>float64</td>\n",
              "      <td>248</td>\n",
              "    </tr>\n",
              "    <tr>\n",
              "      <th>Embarked</th>\n",
              "      <td>0</td>\n",
              "      <td>0.0</td>\n",
              "      <td>object</td>\n",
              "      <td>3</td>\n",
              "    </tr>\n",
              "  </tbody>\n",
              "</table>\n",
              "</div>"
            ],
            "text/plain": [
              "             Missing Values  % of Total Missing Values Data_Types  Unique values\n",
              "PassengerId               0                        0.0      int64            891\n",
              "Survived                  0                        0.0      int64              2\n",
              "Pclass                    0                        0.0      int64              3\n",
              "Name                      0                        0.0     object            891\n",
              "Sex                       0                        0.0     object              2\n",
              "Age                       0                        0.0    float64             88\n",
              "SibSp                     0                        0.0      int64              7\n",
              "Parch                     0                        0.0      int64              7\n",
              "Ticket                    0                        0.0     object            681\n",
              "Fare                      0                        0.0    float64            248\n",
              "Embarked                  0                        0.0     object              3"
            ]
          },
          "execution_count": 31,
          "metadata": {},
          "output_type": "execute_result"
        }
      ],
      "source": [
        "details(train_data)"
      ]
    },
    {
      "cell_type": "code",
      "execution_count": null,
      "metadata": {
        "execution": {
          "iopub.execute_input": "2021-05-29T17:25:50.721437Z",
          "iopub.status.busy": "2021-05-29T17:25:50.720769Z",
          "iopub.status.idle": "2021-05-29T17:25:50.738684Z",
          "shell.execute_reply": "2021-05-29T17:25:50.739293Z",
          "shell.execute_reply.started": "2021-05-29T17:23:34.099362Z"
        },
        "papermill": {
          "duration": 0.11326,
          "end_time": "2021-05-29T17:25:50.739478",
          "exception": false,
          "start_time": "2021-05-29T17:25:50.626218",
          "status": "completed"
        },
        "tags": [],
        "id": "KP5f-ITj3Xm0",
        "outputId": "3e1749df-6d7f-4b9e-a294-b8cb4f3c0554"
      },
      "outputs": [
        {
          "data": {
            "text/html": [
              "<div>\n",
              "<style scoped>\n",
              "    .dataframe tbody tr th:only-of-type {\n",
              "        vertical-align: middle;\n",
              "    }\n",
              "\n",
              "    .dataframe tbody tr th {\n",
              "        vertical-align: top;\n",
              "    }\n",
              "\n",
              "    .dataframe thead th {\n",
              "        text-align: right;\n",
              "    }\n",
              "</style>\n",
              "<table border=\"1\" class=\"dataframe\">\n",
              "  <thead>\n",
              "    <tr style=\"text-align: right;\">\n",
              "      <th></th>\n",
              "      <th>Missing Values</th>\n",
              "      <th>% of Total Missing Values</th>\n",
              "      <th>Data_Types</th>\n",
              "      <th>Unique values</th>\n",
              "    </tr>\n",
              "  </thead>\n",
              "  <tbody>\n",
              "    <tr>\n",
              "      <th>PassengerId</th>\n",
              "      <td>0</td>\n",
              "      <td>0.0</td>\n",
              "      <td>int64</td>\n",
              "      <td>418</td>\n",
              "    </tr>\n",
              "    <tr>\n",
              "      <th>Pclass</th>\n",
              "      <td>0</td>\n",
              "      <td>0.0</td>\n",
              "      <td>int64</td>\n",
              "      <td>3</td>\n",
              "    </tr>\n",
              "    <tr>\n",
              "      <th>Name</th>\n",
              "      <td>0</td>\n",
              "      <td>0.0</td>\n",
              "      <td>object</td>\n",
              "      <td>418</td>\n",
              "    </tr>\n",
              "    <tr>\n",
              "      <th>Sex</th>\n",
              "      <td>0</td>\n",
              "      <td>0.0</td>\n",
              "      <td>object</td>\n",
              "      <td>2</td>\n",
              "    </tr>\n",
              "    <tr>\n",
              "      <th>Age</th>\n",
              "      <td>0</td>\n",
              "      <td>0.0</td>\n",
              "      <td>float64</td>\n",
              "      <td>79</td>\n",
              "    </tr>\n",
              "    <tr>\n",
              "      <th>SibSp</th>\n",
              "      <td>0</td>\n",
              "      <td>0.0</td>\n",
              "      <td>int64</td>\n",
              "      <td>7</td>\n",
              "    </tr>\n",
              "    <tr>\n",
              "      <th>Parch</th>\n",
              "      <td>0</td>\n",
              "      <td>0.0</td>\n",
              "      <td>int64</td>\n",
              "      <td>8</td>\n",
              "    </tr>\n",
              "    <tr>\n",
              "      <th>Ticket</th>\n",
              "      <td>0</td>\n",
              "      <td>0.0</td>\n",
              "      <td>object</td>\n",
              "      <td>363</td>\n",
              "    </tr>\n",
              "    <tr>\n",
              "      <th>Fare</th>\n",
              "      <td>0</td>\n",
              "      <td>0.0</td>\n",
              "      <td>float64</td>\n",
              "      <td>169</td>\n",
              "    </tr>\n",
              "    <tr>\n",
              "      <th>Embarked</th>\n",
              "      <td>0</td>\n",
              "      <td>0.0</td>\n",
              "      <td>object</td>\n",
              "      <td>3</td>\n",
              "    </tr>\n",
              "  </tbody>\n",
              "</table>\n",
              "</div>"
            ],
            "text/plain": [
              "             Missing Values  % of Total Missing Values Data_Types  Unique values\n",
              "PassengerId               0                        0.0      int64            418\n",
              "Pclass                    0                        0.0      int64              3\n",
              "Name                      0                        0.0     object            418\n",
              "Sex                       0                        0.0     object              2\n",
              "Age                       0                        0.0    float64             79\n",
              "SibSp                     0                        0.0      int64              7\n",
              "Parch                     0                        0.0      int64              8\n",
              "Ticket                    0                        0.0     object            363\n",
              "Fare                      0                        0.0    float64            169\n",
              "Embarked                  0                        0.0     object              3"
            ]
          },
          "execution_count": 32,
          "metadata": {},
          "output_type": "execute_result"
        }
      ],
      "source": [
        "details(test_data)"
      ]
    },
    {
      "cell_type": "markdown",
      "metadata": {
        "papermill": {
          "duration": 0.092206,
          "end_time": "2021-05-29T17:25:50.924481",
          "exception": false,
          "start_time": "2021-05-29T17:25:50.832275",
          "status": "completed"
        },
        "tags": [],
        "id": "e8zOKzcX3Xm0"
      },
      "source": [
        "### Checking outliers in Fare, Parch, SibSp"
      ]
    },
    {
      "cell_type": "code",
      "execution_count": null,
      "metadata": {
        "execution": {
          "iopub.execute_input": "2021-05-29T17:25:51.117215Z",
          "iopub.status.busy": "2021-05-29T17:25:51.116533Z",
          "iopub.status.idle": "2021-05-29T17:25:51.431524Z",
          "shell.execute_reply": "2021-05-29T17:25:51.430838Z",
          "shell.execute_reply.started": "2021-05-29T17:23:34.120249Z"
        },
        "papermill": {
          "duration": 0.413778,
          "end_time": "2021-05-29T17:25:51.431657",
          "exception": false,
          "start_time": "2021-05-29T17:25:51.017879",
          "status": "completed"
        },
        "tags": [],
        "id": "PxLiPe9G3Xm0",
        "outputId": "ac0718bf-b6fd-40f7-9578-dbef2982334a"
      },
      "outputs": [
        {
          "data": {
            "image/png": "[encoded data removed]",
            "text/plain": [
              "<Figure size 1440x360 with 3 Axes>"
            ]
          },
          "metadata": {
            "needs_background": "light"
          },
          "output_type": "display_data"
        }
      ],
      "source": [
        "col_data_train = ['SibSp','Parch','Fare']\n",
        "\n",
        "plt.figure(figsize=(20,5))\n",
        "for i in enumerate(col_data_train):\n",
        "    plt.subplot(1,3,i[0]+1)\n",
        "    sns.boxplot(train_data[i[1]])"
      ]
    },
    {
      "cell_type": "code",
      "execution_count": null,
      "metadata": {
        "execution": {
          "iopub.execute_input": "2021-05-29T17:25:51.627675Z",
          "iopub.status.busy": "2021-05-29T17:25:51.626589Z",
          "iopub.status.idle": "2021-05-29T17:25:51.950410Z",
          "shell.execute_reply": "2021-05-29T17:25:51.950881Z",
          "shell.execute_reply.started": "2021-05-29T17:23:34.444401Z"
        },
        "papermill": {
          "duration": 0.42532,
          "end_time": "2021-05-29T17:25:51.951078",
          "exception": false,
          "start_time": "2021-05-29T17:25:51.525758",
          "status": "completed"
        },
        "tags": [],
        "id": "FyAkAvus3Xm1",
        "outputId": "ad797f6a-1a95-4287-9d09-1217e8b9f0e1"
      },
      "outputs": [
        {
          "data": {
            "image/png": "[encoded data removed]",
            "text/plain": [
              "<Figure size 1440x360 with 3 Axes>"
            ]
          },
          "metadata": {
            "needs_background": "light"
          },
          "output_type": "display_data"
        }
      ],
      "source": [
        "col_data_test = ['SibSp','Parch','Fare']\n",
        "\n",
        "plt.figure(figsize=(20,5))\n",
        "for i in enumerate(col_data_test):\n",
        "    plt.subplot(1,3,i[0]+1)\n",
        "    sns.boxplot(test_data[i[1]])"
      ]
    },
    {
      "cell_type": "markdown",
      "metadata": {
        "papermill": {
          "duration": 0.096835,
          "end_time": "2021-05-29T17:25:52.141843",
          "exception": false,
          "start_time": "2021-05-29T17:25:52.045008",
          "status": "completed"
        },
        "tags": [],
        "id": "n1M8xkVy3Xm1"
      },
      "source": [
        "### Splitting and joining columns"
      ]
    },
    {
      "cell_type": "code",
      "execution_count": null,
      "metadata": {
        "execution": {
          "iopub.execute_input": "2021-05-29T17:25:52.339661Z",
          "iopub.status.busy": "2021-05-29T17:25:52.339002Z",
          "iopub.status.idle": "2021-05-29T17:25:52.348826Z",
          "shell.execute_reply": "2021-05-29T17:25:52.349291Z",
          "shell.execute_reply.started": "2021-05-29T17:23:34.769093Z"
        },
        "papermill": {
          "duration": 0.113691,
          "end_time": "2021-05-29T17:25:52.349476",
          "exception": false,
          "start_time": "2021-05-29T17:25:52.235785",
          "status": "completed"
        },
        "tags": [],
        "id": "ssPXhest3Xm1",
        "outputId": "bf734098-f2a3-4825-e7ee-1de76c262f33"
      },
      "outputs": [
        {
          "data": {
            "text/html": [
              "<div>\n",
              "<style scoped>\n",
              "    .dataframe tbody tr th:only-of-type {\n",
              "        vertical-align: middle;\n",
              "    }\n",
              "\n",
              "    .dataframe tbody tr th {\n",
              "        vertical-align: top;\n",
              "    }\n",
              "\n",
              "    .dataframe thead th {\n",
              "        text-align: right;\n",
              "    }\n",
              "</style>\n",
              "<table border=\"1\" class=\"dataframe\">\n",
              "  <thead>\n",
              "    <tr style=\"text-align: right;\">\n",
              "      <th></th>\n",
              "      <th>PassengerId</th>\n",
              "      <th>Survived</th>\n",
              "      <th>Pclass</th>\n",
              "      <th>Name</th>\n",
              "      <th>Sex</th>\n",
              "      <th>Age</th>\n",
              "      <th>SibSp</th>\n",
              "      <th>Parch</th>\n",
              "      <th>Ticket</th>\n",
              "      <th>Fare</th>\n",
              "      <th>Embarked</th>\n",
              "    </tr>\n",
              "  </thead>\n",
              "  <tbody>\n",
              "    <tr>\n",
              "      <th>0</th>\n",
              "      <td>1</td>\n",
              "      <td>0</td>\n",
              "      <td>3</td>\n",
              "      <td>Braund, Mr. Owen Harris</td>\n",
              "      <td>male</td>\n",
              "      <td>22.0</td>\n",
              "      <td>1</td>\n",
              "      <td>0</td>\n",
              "      <td>A/5 21171</td>\n",
              "      <td>7.2500</td>\n",
              "      <td>S</td>\n",
              "    </tr>\n",
              "    <tr>\n",
              "      <th>1</th>\n",
              "      <td>2</td>\n",
              "      <td>1</td>\n",
              "      <td>1</td>\n",
              "      <td>Cumings, Mrs. John Bradley (Florence Briggs Th...</td>\n",
              "      <td>female</td>\n",
              "      <td>38.0</td>\n",
              "      <td>1</td>\n",
              "      <td>0</td>\n",
              "      <td>PC 17599</td>\n",
              "      <td>71.2833</td>\n",
              "      <td>C</td>\n",
              "    </tr>\n",
              "    <tr>\n",
              "      <th>2</th>\n",
              "      <td>3</td>\n",
              "      <td>1</td>\n",
              "      <td>3</td>\n",
              "      <td>Heikkinen, Miss. Laina</td>\n",
              "      <td>female</td>\n",
              "      <td>26.0</td>\n",
              "      <td>0</td>\n",
              "      <td>0</td>\n",
              "      <td>STON/O2. 3101282</td>\n",
              "      <td>7.9250</td>\n",
              "      <td>S</td>\n",
              "    </tr>\n",
              "    <tr>\n",
              "      <th>3</th>\n",
              "      <td>4</td>\n",
              "      <td>1</td>\n",
              "      <td>1</td>\n",
              "      <td>Futrelle, Mrs. Jacques Heath (Lily May Peel)</td>\n",
              "      <td>female</td>\n",
              "      <td>35.0</td>\n",
              "      <td>1</td>\n",
              "      <td>0</td>\n",
              "      <td>113803</td>\n",
              "      <td>53.1000</td>\n",
              "      <td>S</td>\n",
              "    </tr>\n",
              "    <tr>\n",
              "      <th>4</th>\n",
              "      <td>5</td>\n",
              "      <td>0</td>\n",
              "      <td>3</td>\n",
              "      <td>Allen, Mr. William Henry</td>\n",
              "      <td>male</td>\n",
              "      <td>35.0</td>\n",
              "      <td>0</td>\n",
              "      <td>0</td>\n",
              "      <td>373450</td>\n",
              "      <td>8.0500</td>\n",
              "      <td>S</td>\n",
              "    </tr>\n",
              "  </tbody>\n",
              "</table>\n",
              "</div>"
            ],
            "text/plain": [
              "   PassengerId  Survived  Pclass                                               Name     Sex   Age  SibSp  Parch            Ticket     Fare Embarked\n",
              "0            1         0       3                            Braund, Mr. Owen Harris    male  22.0      1      0         A/5 21171   7.2500        S\n",
              "1            2         1       1  Cumings, Mrs. John Bradley (Florence Briggs Th...  female  38.0      1      0          PC 17599  71.2833        C\n",
              "2            3         1       3                             Heikkinen, Miss. Laina  female  26.0      0      0  STON/O2. 3101282   7.9250        S\n",
              "3            4         1       1       Futrelle, Mrs. Jacques Heath (Lily May Peel)  female  35.0      1      0            113803  53.1000        S\n",
              "4            5         0       3                           Allen, Mr. William Henry    male  35.0      0      0            373450   8.0500        S"
            ]
          },
          "execution_count": 35,
          "metadata": {},
          "output_type": "execute_result"
        }
      ],
      "source": [
        "train_data.head()"
      ]
    },
    {
      "cell_type": "code",
      "execution_count": null,
      "metadata": {
        "execution": {
          "iopub.execute_input": "2021-05-29T17:25:52.539786Z",
          "iopub.status.busy": "2021-05-29T17:25:52.539121Z",
          "iopub.status.idle": "2021-05-29T17:25:52.554474Z",
          "shell.execute_reply": "2021-05-29T17:25:52.555081Z",
          "shell.execute_reply.started": "2021-05-29T17:23:34.791547Z"
        },
        "papermill": {
          "duration": 0.111817,
          "end_time": "2021-05-29T17:25:52.555220",
          "exception": false,
          "start_time": "2021-05-29T17:25:52.443403",
          "status": "completed"
        },
        "tags": [],
        "id": "4nLks3ut3Xm1",
        "outputId": "3455912c-71eb-4094-9b15-d62497962ba2"
      },
      "outputs": [
        {
          "data": {
            "text/html": [
              "<div>\n",
              "<style scoped>\n",
              "    .dataframe tbody tr th:only-of-type {\n",
              "        vertical-align: middle;\n",
              "    }\n",
              "\n",
              "    .dataframe tbody tr th {\n",
              "        vertical-align: top;\n",
              "    }\n",
              "\n",
              "    .dataframe thead th {\n",
              "        text-align: right;\n",
              "    }\n",
              "</style>\n",
              "<table border=\"1\" class=\"dataframe\">\n",
              "  <thead>\n",
              "    <tr style=\"text-align: right;\">\n",
              "      <th></th>\n",
              "      <th>PassengerId</th>\n",
              "      <th>Pclass</th>\n",
              "      <th>Name</th>\n",
              "      <th>Sex</th>\n",
              "      <th>Age</th>\n",
              "      <th>SibSp</th>\n",
              "      <th>Parch</th>\n",
              "      <th>Ticket</th>\n",
              "      <th>Fare</th>\n",
              "      <th>Embarked</th>\n",
              "    </tr>\n",
              "  </thead>\n",
              "  <tbody>\n",
              "    <tr>\n",
              "      <th>0</th>\n",
              "      <td>892</td>\n",
              "      <td>3</td>\n",
              "      <td>Kelly, Mr. James</td>\n",
              "      <td>male</td>\n",
              "      <td>34.5</td>\n",
              "      <td>0</td>\n",
              "      <td>0</td>\n",
              "      <td>330911</td>\n",
              "      <td>7.8292</td>\n",
              "      <td>Q</td>\n",
              "    </tr>\n",
              "    <tr>\n",
              "      <th>1</th>\n",
              "      <td>893</td>\n",
              "      <td>3</td>\n",
              "      <td>Wilkes, Mrs. James (Ellen Needs)</td>\n",
              "      <td>female</td>\n",
              "      <td>47.0</td>\n",
              "      <td>1</td>\n",
              "      <td>0</td>\n",
              "      <td>363272</td>\n",
              "      <td>7.0000</td>\n",
              "      <td>S</td>\n",
              "    </tr>\n",
              "    <tr>\n",
              "      <th>2</th>\n",
              "      <td>894</td>\n",
              "      <td>2</td>\n",
              "      <td>Myles, Mr. Thomas Francis</td>\n",
              "      <td>male</td>\n",
              "      <td>62.0</td>\n",
              "      <td>0</td>\n",
              "      <td>0</td>\n",
              "      <td>240276</td>\n",
              "      <td>9.6875</td>\n",
              "      <td>Q</td>\n",
              "    </tr>\n",
              "    <tr>\n",
              "      <th>3</th>\n",
              "      <td>895</td>\n",
              "      <td>3</td>\n",
              "      <td>Wirz, Mr. Albert</td>\n",
              "      <td>male</td>\n",
              "      <td>27.0</td>\n",
              "      <td>0</td>\n",
              "      <td>0</td>\n",
              "      <td>315154</td>\n",
              "      <td>8.6625</td>\n",
              "      <td>S</td>\n",
              "    </tr>\n",
              "    <tr>\n",
              "      <th>4</th>\n",
              "      <td>896</td>\n",
              "      <td>3</td>\n",
              "      <td>Hirvonen, Mrs. Alexander (Helga E Lindqvist)</td>\n",
              "      <td>female</td>\n",
              "      <td>22.0</td>\n",
              "      <td>1</td>\n",
              "      <td>1</td>\n",
              "      <td>3101298</td>\n",
              "      <td>12.2875</td>\n",
              "      <td>S</td>\n",
              "    </tr>\n",
              "  </tbody>\n",
              "</table>\n",
              "</div>"
            ],
            "text/plain": [
              "   PassengerId  Pclass                                          Name     Sex   Age  SibSp  Parch   Ticket     Fare Embarked\n",
              "0          892       3                              Kelly, Mr. James    male  34.5      0      0   330911   7.8292        Q\n",
              "1          893       3              Wilkes, Mrs. James (Ellen Needs)  female  47.0      1      0   363272   7.0000        S\n",
              "2          894       2                     Myles, Mr. Thomas Francis    male  62.0      0      0   240276   9.6875        Q\n",
              "3          895       3                              Wirz, Mr. Albert    male  27.0      0      0   315154   8.6625        S\n",
              "4          896       3  Hirvonen, Mrs. Alexander (Helga E Lindqvist)  female  22.0      1      1  3101298  12.2875        S"
            ]
          },
          "execution_count": 36,
          "metadata": {},
          "output_type": "execute_result"
        }
      ],
      "source": [
        "test_data.head()"
      ]
    },
    {
      "cell_type": "code",
      "execution_count": null,
      "metadata": {
        "execution": {
          "iopub.execute_input": "2021-05-29T17:25:52.749091Z",
          "iopub.status.busy": "2021-05-29T17:25:52.748414Z",
          "iopub.status.idle": "2021-05-29T17:25:52.765321Z",
          "shell.execute_reply": "2021-05-29T17:25:52.765908Z",
          "shell.execute_reply.started": "2021-05-29T17:23:34.811352Z"
        },
        "papermill": {
          "duration": 0.115559,
          "end_time": "2021-05-29T17:25:52.766085",
          "exception": false,
          "start_time": "2021-05-29T17:25:52.650526",
          "status": "completed"
        },
        "tags": [],
        "id": "W_zrF53k3Xm1",
        "outputId": "3ad7caef-2da7-48cd-efe3-1f9d960ae382"
      },
      "outputs": [
        {
          "data": {
            "text/html": [
              "<div>\n",
              "<style scoped>\n",
              "    .dataframe tbody tr th:only-of-type {\n",
              "        vertical-align: middle;\n",
              "    }\n",
              "\n",
              "    .dataframe tbody tr th {\n",
              "        vertical-align: top;\n",
              "    }\n",
              "\n",
              "    .dataframe thead th {\n",
              "        text-align: right;\n",
              "    }\n",
              "</style>\n",
              "<table border=\"1\" class=\"dataframe\">\n",
              "  <thead>\n",
              "    <tr style=\"text-align: right;\">\n",
              "      <th></th>\n",
              "      <th>PassengerId</th>\n",
              "      <th>Survived</th>\n",
              "      <th>Pclass</th>\n",
              "      <th>Name</th>\n",
              "      <th>Sex</th>\n",
              "      <th>Age</th>\n",
              "      <th>SibSp</th>\n",
              "      <th>Parch</th>\n",
              "      <th>Ticket</th>\n",
              "      <th>Fare</th>\n",
              "      <th>Embarked</th>\n",
              "      <th>Family_size</th>\n",
              "    </tr>\n",
              "  </thead>\n",
              "  <tbody>\n",
              "    <tr>\n",
              "      <th>0</th>\n",
              "      <td>1</td>\n",
              "      <td>0</td>\n",
              "      <td>3</td>\n",
              "      <td>Braund, Mr. Owen Harris</td>\n",
              "      <td>male</td>\n",
              "      <td>22.0</td>\n",
              "      <td>1</td>\n",
              "      <td>0</td>\n",
              "      <td>A/5 21171</td>\n",
              "      <td>7.2500</td>\n",
              "      <td>S</td>\n",
              "      <td>2</td>\n",
              "    </tr>\n",
              "    <tr>\n",
              "      <th>1</th>\n",
              "      <td>2</td>\n",
              "      <td>1</td>\n",
              "      <td>1</td>\n",
              "      <td>Cumings, Mrs. John Bradley (Florence Briggs Th...</td>\n",
              "      <td>female</td>\n",
              "      <td>38.0</td>\n",
              "      <td>1</td>\n",
              "      <td>0</td>\n",
              "      <td>PC 17599</td>\n",
              "      <td>71.2833</td>\n",
              "      <td>C</td>\n",
              "      <td>2</td>\n",
              "    </tr>\n",
              "    <tr>\n",
              "      <th>2</th>\n",
              "      <td>3</td>\n",
              "      <td>1</td>\n",
              "      <td>3</td>\n",
              "      <td>Heikkinen, Miss. Laina</td>\n",
              "      <td>female</td>\n",
              "      <td>26.0</td>\n",
              "      <td>0</td>\n",
              "      <td>0</td>\n",
              "      <td>STON/O2. 3101282</td>\n",
              "      <td>7.9250</td>\n",
              "      <td>S</td>\n",
              "      <td>1</td>\n",
              "    </tr>\n",
              "    <tr>\n",
              "      <th>3</th>\n",
              "      <td>4</td>\n",
              "      <td>1</td>\n",
              "      <td>1</td>\n",
              "      <td>Futrelle, Mrs. Jacques Heath (Lily May Peel)</td>\n",
              "      <td>female</td>\n",
              "      <td>35.0</td>\n",
              "      <td>1</td>\n",
              "      <td>0</td>\n",
              "      <td>113803</td>\n",
              "      <td>53.1000</td>\n",
              "      <td>S</td>\n",
              "      <td>2</td>\n",
              "    </tr>\n",
              "    <tr>\n",
              "      <th>4</th>\n",
              "      <td>5</td>\n",
              "      <td>0</td>\n",
              "      <td>3</td>\n",
              "      <td>Allen, Mr. William Henry</td>\n",
              "      <td>male</td>\n",
              "      <td>35.0</td>\n",
              "      <td>0</td>\n",
              "      <td>0</td>\n",
              "      <td>373450</td>\n",
              "      <td>8.0500</td>\n",
              "      <td>S</td>\n",
              "      <td>1</td>\n",
              "    </tr>\n",
              "  </tbody>\n",
              "</table>\n",
              "</div>"
            ],
            "text/plain": [
              "   PassengerId  Survived  Pclass                                               Name     Sex   Age  SibSp  Parch            Ticket     Fare Embarked  Family_size\n",
              "0            1         0       3                            Braund, Mr. Owen Harris    male  22.0      1      0         A/5 21171   7.2500        S            2\n",
              "1            2         1       1  Cumings, Mrs. John Bradley (Florence Briggs Th...  female  38.0      1      0          PC 17599  71.2833        C            2\n",
              "2            3         1       3                             Heikkinen, Miss. Laina  female  26.0      0      0  STON/O2. 3101282   7.9250        S            1\n",
              "3            4         1       1       Futrelle, Mrs. Jacques Heath (Lily May Peel)  female  35.0      1      0            113803  53.1000        S            2\n",
              "4            5         0       3                           Allen, Mr. William Henry    male  35.0      0      0            373450   8.0500        S            1"
            ]
          },
          "execution_count": 37,
          "metadata": {},
          "output_type": "execute_result"
        }
      ],
      "source": [
        "train_data['Family_size'] = train_data['SibSp'] + train_data['Parch'] + 1\n",
        "train_data.head()"
      ]
    },
    {
      "cell_type": "code",
      "execution_count": null,
      "metadata": {
        "execution": {
          "iopub.execute_input": "2021-05-29T17:25:52.963824Z",
          "iopub.status.busy": "2021-05-29T17:25:52.963033Z",
          "iopub.status.idle": "2021-05-29T17:25:52.980826Z",
          "shell.execute_reply": "2021-05-29T17:25:52.980184Z",
          "shell.execute_reply.started": "2021-05-29T17:23:34.833107Z"
        },
        "papermill": {
          "duration": 0.116982,
          "end_time": "2021-05-29T17:25:52.980976",
          "exception": false,
          "start_time": "2021-05-29T17:25:52.863994",
          "status": "completed"
        },
        "tags": [],
        "id": "P112JKud3Xm1",
        "outputId": "bcd97c3a-3637-4445-ce04-363389210df8"
      },
      "outputs": [
        {
          "data": {
            "text/html": [
              "<div>\n",
              "<style scoped>\n",
              "    .dataframe tbody tr th:only-of-type {\n",
              "        vertical-align: middle;\n",
              "    }\n",
              "\n",
              "    .dataframe tbody tr th {\n",
              "        vertical-align: top;\n",
              "    }\n",
              "\n",
              "    .dataframe thead th {\n",
              "        text-align: right;\n",
              "    }\n",
              "</style>\n",
              "<table border=\"1\" class=\"dataframe\">\n",
              "  <thead>\n",
              "    <tr style=\"text-align: right;\">\n",
              "      <th></th>\n",
              "      <th>PassengerId</th>\n",
              "      <th>Pclass</th>\n",
              "      <th>Name</th>\n",
              "      <th>Sex</th>\n",
              "      <th>Age</th>\n",
              "      <th>SibSp</th>\n",
              "      <th>Parch</th>\n",
              "      <th>Ticket</th>\n",
              "      <th>Fare</th>\n",
              "      <th>Embarked</th>\n",
              "      <th>Family_size</th>\n",
              "    </tr>\n",
              "  </thead>\n",
              "  <tbody>\n",
              "    <tr>\n",
              "      <th>0</th>\n",
              "      <td>892</td>\n",
              "      <td>3</td>\n",
              "      <td>Kelly, Mr. James</td>\n",
              "      <td>male</td>\n",
              "      <td>34.5</td>\n",
              "      <td>0</td>\n",
              "      <td>0</td>\n",
              "      <td>330911</td>\n",
              "      <td>7.8292</td>\n",
              "      <td>Q</td>\n",
              "      <td>1</td>\n",
              "    </tr>\n",
              "    <tr>\n",
              "      <th>1</th>\n",
              "      <td>893</td>\n",
              "      <td>3</td>\n",
              "      <td>Wilkes, Mrs. James (Ellen Needs)</td>\n",
              "      <td>female</td>\n",
              "      <td>47.0</td>\n",
              "      <td>1</td>\n",
              "      <td>0</td>\n",
              "      <td>363272</td>\n",
              "      <td>7.0000</td>\n",
              "      <td>S</td>\n",
              "      <td>2</td>\n",
              "    </tr>\n",
              "    <tr>\n",
              "      <th>2</th>\n",
              "      <td>894</td>\n",
              "      <td>2</td>\n",
              "      <td>Myles, Mr. Thomas Francis</td>\n",
              "      <td>male</td>\n",
              "      <td>62.0</td>\n",
              "      <td>0</td>\n",
              "      <td>0</td>\n",
              "      <td>240276</td>\n",
              "      <td>9.6875</td>\n",
              "      <td>Q</td>\n",
              "      <td>1</td>\n",
              "    </tr>\n",
              "    <tr>\n",
              "      <th>3</th>\n",
              "      <td>895</td>\n",
              "      <td>3</td>\n",
              "      <td>Wirz, Mr. Albert</td>\n",
              "      <td>male</td>\n",
              "      <td>27.0</td>\n",
              "      <td>0</td>\n",
              "      <td>0</td>\n",
              "      <td>315154</td>\n",
              "      <td>8.6625</td>\n",
              "      <td>S</td>\n",
              "      <td>1</td>\n",
              "    </tr>\n",
              "    <tr>\n",
              "      <th>4</th>\n",
              "      <td>896</td>\n",
              "      <td>3</td>\n",
              "      <td>Hirvonen, Mrs. Alexander (Helga E Lindqvist)</td>\n",
              "      <td>female</td>\n",
              "      <td>22.0</td>\n",
              "      <td>1</td>\n",
              "      <td>1</td>\n",
              "      <td>3101298</td>\n",
              "      <td>12.2875</td>\n",
              "      <td>S</td>\n",
              "      <td>3</td>\n",
              "    </tr>\n",
              "  </tbody>\n",
              "</table>\n",
              "</div>"
            ],
            "text/plain": [
              "   PassengerId  Pclass                                          Name     Sex   Age  SibSp  Parch   Ticket     Fare Embarked  Family_size\n",
              "0          892       3                              Kelly, Mr. James    male  34.5      0      0   330911   7.8292        Q            1\n",
              "1          893       3              Wilkes, Mrs. James (Ellen Needs)  female  47.0      1      0   363272   7.0000        S            2\n",
              "2          894       2                     Myles, Mr. Thomas Francis    male  62.0      0      0   240276   9.6875        Q            1\n",
              "3          895       3                              Wirz, Mr. Albert    male  27.0      0      0   315154   8.6625        S            1\n",
              "4          896       3  Hirvonen, Mrs. Alexander (Helga E Lindqvist)  female  22.0      1      1  3101298  12.2875        S            3"
            ]
          },
          "execution_count": 38,
          "metadata": {},
          "output_type": "execute_result"
        }
      ],
      "source": [
        "test_data['Family_size'] = test_data['SibSp'] + test_data['Parch'] + 1\n",
        "test_data.head()"
      ]
    },
    {
      "cell_type": "code",
      "execution_count": null,
      "metadata": {
        "execution": {
          "iopub.execute_input": "2021-05-29T17:25:53.183379Z",
          "iopub.status.busy": "2021-05-29T17:25:53.182673Z",
          "iopub.status.idle": "2021-05-29T17:25:53.198100Z",
          "shell.execute_reply": "2021-05-29T17:25:53.197436Z",
          "shell.execute_reply.started": "2021-05-29T17:23:34.856716Z"
        },
        "papermill": {
          "duration": 0.117677,
          "end_time": "2021-05-29T17:25:53.198224",
          "exception": false,
          "start_time": "2021-05-29T17:25:53.080547",
          "status": "completed"
        },
        "tags": [],
        "id": "6CKTYRYR3Xm2",
        "outputId": "1bf27b61-35b1-41ce-c86a-4d6b489e3610"
      },
      "outputs": [
        {
          "data": {
            "text/html": [
              "<div>\n",
              "<style scoped>\n",
              "    .dataframe tbody tr th:only-of-type {\n",
              "        vertical-align: middle;\n",
              "    }\n",
              "\n",
              "    .dataframe tbody tr th {\n",
              "        vertical-align: top;\n",
              "    }\n",
              "\n",
              "    .dataframe thead th {\n",
              "        text-align: right;\n",
              "    }\n",
              "</style>\n",
              "<table border=\"1\" class=\"dataframe\">\n",
              "  <thead>\n",
              "    <tr style=\"text-align: right;\">\n",
              "      <th></th>\n",
              "      <th>PassengerId</th>\n",
              "      <th>Survived</th>\n",
              "      <th>Pclass</th>\n",
              "      <th>Name</th>\n",
              "      <th>Sex</th>\n",
              "      <th>Age</th>\n",
              "      <th>Fare</th>\n",
              "      <th>Embarked</th>\n",
              "      <th>Family_size</th>\n",
              "    </tr>\n",
              "  </thead>\n",
              "  <tbody>\n",
              "    <tr>\n",
              "      <th>0</th>\n",
              "      <td>1</td>\n",
              "      <td>0</td>\n",
              "      <td>3</td>\n",
              "      <td>Braund, Mr. Owen Harris</td>\n",
              "      <td>male</td>\n",
              "      <td>22.0</td>\n",
              "      <td>7.2500</td>\n",
              "      <td>S</td>\n",
              "      <td>2</td>\n",
              "    </tr>\n",
              "    <tr>\n",
              "      <th>1</th>\n",
              "      <td>2</td>\n",
              "      <td>1</td>\n",
              "      <td>1</td>\n",
              "      <td>Cumings, Mrs. John Bradley (Florence Briggs Th...</td>\n",
              "      <td>female</td>\n",
              "      <td>38.0</td>\n",
              "      <td>71.2833</td>\n",
              "      <td>C</td>\n",
              "      <td>2</td>\n",
              "    </tr>\n",
              "    <tr>\n",
              "      <th>2</th>\n",
              "      <td>3</td>\n",
              "      <td>1</td>\n",
              "      <td>3</td>\n",
              "      <td>Heikkinen, Miss. Laina</td>\n",
              "      <td>female</td>\n",
              "      <td>26.0</td>\n",
              "      <td>7.9250</td>\n",
              "      <td>S</td>\n",
              "      <td>1</td>\n",
              "    </tr>\n",
              "    <tr>\n",
              "      <th>3</th>\n",
              "      <td>4</td>\n",
              "      <td>1</td>\n",
              "      <td>1</td>\n",
              "      <td>Futrelle, Mrs. Jacques Heath (Lily May Peel)</td>\n",
              "      <td>female</td>\n",
              "      <td>35.0</td>\n",
              "      <td>53.1000</td>\n",
              "      <td>S</td>\n",
              "      <td>2</td>\n",
              "    </tr>\n",
              "    <tr>\n",
              "      <th>4</th>\n",
              "      <td>5</td>\n",
              "      <td>0</td>\n",
              "      <td>3</td>\n",
              "      <td>Allen, Mr. William Henry</td>\n",
              "      <td>male</td>\n",
              "      <td>35.0</td>\n",
              "      <td>8.0500</td>\n",
              "      <td>S</td>\n",
              "      <td>1</td>\n",
              "    </tr>\n",
              "  </tbody>\n",
              "</table>\n",
              "</div>"
            ],
            "text/plain": [
              "   PassengerId  Survived  Pclass                                               Name     Sex   Age     Fare Embarked  Family_size\n",
              "0            1         0       3                            Braund, Mr. Owen Harris    male  22.0   7.2500        S            2\n",
              "1            2         1       1  Cumings, Mrs. John Bradley (Florence Briggs Th...  female  38.0  71.2833        C            2\n",
              "2            3         1       3                             Heikkinen, Miss. Laina  female  26.0   7.9250        S            1\n",
              "3            4         1       1       Futrelle, Mrs. Jacques Heath (Lily May Peel)  female  35.0  53.1000        S            2\n",
              "4            5         0       3                           Allen, Mr. William Henry    male  35.0   8.0500        S            1"
            ]
          },
          "execution_count": 39,
          "metadata": {},
          "output_type": "execute_result"
        }
      ],
      "source": [
        "train_data.drop(['SibSp','Parch','Ticket'], axis=1, inplace=True)\n",
        "train_data.head()"
      ]
    },
    {
      "cell_type": "code",
      "execution_count": null,
      "metadata": {
        "execution": {
          "iopub.execute_input": "2021-05-29T17:25:53.409998Z",
          "iopub.status.busy": "2021-05-29T17:25:53.409253Z",
          "iopub.status.idle": "2021-05-29T17:25:53.413391Z",
          "shell.execute_reply": "2021-05-29T17:25:53.412725Z",
          "shell.execute_reply.started": "2021-05-29T17:23:34.879525Z"
        },
        "papermill": {
          "duration": 0.116855,
          "end_time": "2021-05-29T17:25:53.413520",
          "exception": false,
          "start_time": "2021-05-29T17:25:53.296665",
          "status": "completed"
        },
        "tags": [],
        "id": "5fJLqZsA3Xm2",
        "outputId": "de88f442-a0a8-4f01-9eeb-b67790f61d9d"
      },
      "outputs": [
        {
          "data": {
            "text/html": [
              "<div>\n",
              "<style scoped>\n",
              "    .dataframe tbody tr th:only-of-type {\n",
              "        vertical-align: middle;\n",
              "    }\n",
              "\n",
              "    .dataframe tbody tr th {\n",
              "        vertical-align: top;\n",
              "    }\n",
              "\n",
              "    .dataframe thead th {\n",
              "        text-align: right;\n",
              "    }\n",
              "</style>\n",
              "<table border=\"1\" class=\"dataframe\">\n",
              "  <thead>\n",
              "    <tr style=\"text-align: right;\">\n",
              "      <th></th>\n",
              "      <th>PassengerId</th>\n",
              "      <th>Pclass</th>\n",
              "      <th>Name</th>\n",
              "      <th>Sex</th>\n",
              "      <th>Age</th>\n",
              "      <th>Fare</th>\n",
              "      <th>Embarked</th>\n",
              "      <th>Family_size</th>\n",
              "    </tr>\n",
              "  </thead>\n",
              "  <tbody>\n",
              "    <tr>\n",
              "      <th>0</th>\n",
              "      <td>892</td>\n",
              "      <td>3</td>\n",
              "      <td>Kelly, Mr. James</td>\n",
              "      <td>male</td>\n",
              "      <td>34.5</td>\n",
              "      <td>7.8292</td>\n",
              "      <td>Q</td>\n",
              "      <td>1</td>\n",
              "    </tr>\n",
              "    <tr>\n",
              "      <th>1</th>\n",
              "      <td>893</td>\n",
              "      <td>3</td>\n",
              "      <td>Wilkes, Mrs. James (Ellen Needs)</td>\n",
              "      <td>female</td>\n",
              "      <td>47.0</td>\n",
              "      <td>7.0000</td>\n",
              "      <td>S</td>\n",
              "      <td>2</td>\n",
              "    </tr>\n",
              "    <tr>\n",
              "      <th>2</th>\n",
              "      <td>894</td>\n",
              "      <td>2</td>\n",
              "      <td>Myles, Mr. Thomas Francis</td>\n",
              "      <td>male</td>\n",
              "      <td>62.0</td>\n",
              "      <td>9.6875</td>\n",
              "      <td>Q</td>\n",
              "      <td>1</td>\n",
              "    </tr>\n",
              "    <tr>\n",
              "      <th>3</th>\n",
              "      <td>895</td>\n",
              "      <td>3</td>\n",
              "      <td>Wirz, Mr. Albert</td>\n",
              "      <td>male</td>\n",
              "      <td>27.0</td>\n",
              "      <td>8.6625</td>\n",
              "      <td>S</td>\n",
              "      <td>1</td>\n",
              "    </tr>\n",
              "    <tr>\n",
              "      <th>4</th>\n",
              "      <td>896</td>\n",
              "      <td>3</td>\n",
              "      <td>Hirvonen, Mrs. Alexander (Helga E Lindqvist)</td>\n",
              "      <td>female</td>\n",
              "      <td>22.0</td>\n",
              "      <td>12.2875</td>\n",
              "      <td>S</td>\n",
              "      <td>3</td>\n",
              "    </tr>\n",
              "  </tbody>\n",
              "</table>\n",
              "</div>"
            ],
            "text/plain": [
              "   PassengerId  Pclass                                          Name     Sex   Age     Fare Embarked  Family_size\n",
              "0          892       3                              Kelly, Mr. James    male  34.5   7.8292        Q            1\n",
              "1          893       3              Wilkes, Mrs. James (Ellen Needs)  female  47.0   7.0000        S            2\n",
              "2          894       2                     Myles, Mr. Thomas Francis    male  62.0   9.6875        Q            1\n",
              "3          895       3                              Wirz, Mr. Albert    male  27.0   8.6625        S            1\n",
              "4          896       3  Hirvonen, Mrs. Alexander (Helga E Lindqvist)  female  22.0  12.2875        S            3"
            ]
          },
          "execution_count": 40,
          "metadata": {},
          "output_type": "execute_result"
        }
      ],
      "source": [
        "test_data.drop(['SibSp','Parch','Ticket'], axis=1, inplace=True)\n",
        "test_data.head()"
      ]
    },
    {
      "cell_type": "code",
      "execution_count": null,
      "metadata": {
        "execution": {
          "iopub.execute_input": "2021-05-29T17:25:53.613174Z",
          "iopub.status.busy": "2021-05-29T17:25:53.612517Z",
          "iopub.status.idle": "2021-05-29T17:25:53.619420Z",
          "shell.execute_reply": "2021-05-29T17:25:53.619870Z",
          "shell.execute_reply.started": "2021-05-29T17:23:34.901083Z"
        },
        "papermill": {
          "duration": 0.107761,
          "end_time": "2021-05-29T17:25:53.620059",
          "exception": false,
          "start_time": "2021-05-29T17:25:53.512298",
          "status": "completed"
        },
        "tags": [],
        "id": "sDh9hX8o3Xm2",
        "outputId": "9a93bd97-aeef-4df8-9b7c-893625924800"
      },
      "outputs": [
        {
          "data": {
            "text/plain": [
              "1     537\n",
              "2     161\n",
              "3     102\n",
              "4      29\n",
              "6      22\n",
              "5      15\n",
              "7      12\n",
              "11      7\n",
              "8       6\n",
              "Name: Family_size, dtype: int64"
            ]
          },
          "execution_count": 41,
          "metadata": {},
          "output_type": "execute_result"
        }
      ],
      "source": [
        "train_data.Family_size.value_counts(dropna=False)"
      ]
    },
    {
      "cell_type": "code",
      "execution_count": null,
      "metadata": {
        "execution": {
          "iopub.execute_input": "2021-05-29T17:25:53.821426Z",
          "iopub.status.busy": "2021-05-29T17:25:53.820766Z",
          "iopub.status.idle": "2021-05-29T17:25:53.827325Z",
          "shell.execute_reply": "2021-05-29T17:25:53.827911Z",
          "shell.execute_reply.started": "2021-05-29T17:23:34.916542Z"
        },
        "papermill": {
          "duration": 0.109077,
          "end_time": "2021-05-29T17:25:53.828070",
          "exception": false,
          "start_time": "2021-05-29T17:25:53.718993",
          "status": "completed"
        },
        "tags": [],
        "id": "uR3NPdqZ3Xm2",
        "outputId": "e8a04ca9-997e-4da0-b95b-f4eee5dc6aa4"
      },
      "outputs": [
        {
          "data": {
            "text/plain": [
              "1     253\n",
              "2      74\n",
              "3      57\n",
              "4      14\n",
              "5       7\n",
              "11      4\n",
              "7       4\n",
              "6       3\n",
              "8       2\n",
              "Name: Family_size, dtype: int64"
            ]
          },
          "execution_count": 42,
          "metadata": {},
          "output_type": "execute_result"
        }
      ],
      "source": [
        "test_data.Family_size.value_counts(dropna=False)"
      ]
    },
    {
      "cell_type": "markdown",
      "metadata": {
        "papermill": {
          "duration": 0.097033,
          "end_time": "2021-05-29T17:25:54.024997",
          "exception": false,
          "start_time": "2021-05-29T17:25:53.927964",
          "status": "completed"
        },
        "tags": [],
        "id": "e0ENse5V3Xm2"
      },
      "source": [
        "### OHE"
      ]
    },
    {
      "cell_type": "code",
      "execution_count": null,
      "metadata": {
        "execution": {
          "iopub.execute_input": "2021-05-29T17:25:54.226483Z",
          "iopub.status.busy": "2021-05-29T17:25:54.225839Z",
          "iopub.status.idle": "2021-05-29T17:25:54.229729Z",
          "shell.execute_reply": "2021-05-29T17:25:54.230251Z",
          "shell.execute_reply.started": "2021-05-29T17:23:34.932528Z"
        },
        "papermill": {
          "duration": 0.105413,
          "end_time": "2021-05-29T17:25:54.230426",
          "exception": false,
          "start_time": "2021-05-29T17:25:54.125013",
          "status": "completed"
        },
        "tags": [],
        "id": "QcRKn3b73Xm2"
      },
      "outputs": [],
      "source": [
        "ohe = OneHotEncoder(sparse=False, drop='first', dtype=int)"
      ]
    },
    {
      "cell_type": "code",
      "execution_count": null,
      "metadata": {
        "execution": {
          "iopub.execute_input": "2021-05-29T17:25:54.430491Z",
          "iopub.status.busy": "2021-05-29T17:25:54.429808Z",
          "iopub.status.idle": "2021-05-29T17:25:54.441268Z",
          "shell.execute_reply": "2021-05-29T17:25:54.441866Z",
          "shell.execute_reply.started": "2021-05-29T17:23:34.942723Z"
        },
        "papermill": {
          "duration": 0.11299,
          "end_time": "2021-05-29T17:25:54.442033",
          "exception": false,
          "start_time": "2021-05-29T17:25:54.329043",
          "status": "completed"
        },
        "tags": [],
        "id": "xuscbant3Xm2"
      },
      "outputs": [],
      "source": [
        "ohe_df1 = pd.DataFrame(ohe.fit_transform(train_data[['Sex','Embarked']]),columns=ohe.get_feature_names())\n",
        "ohe_df2 = pd.DataFrame(ohe.transform(test_data[['Sex','Embarked']]),columns=ohe.get_feature_names())"
      ]
    },
    {
      "cell_type": "code",
      "execution_count": null,
      "metadata": {
        "execution": {
          "iopub.execute_input": "2021-05-29T17:25:54.644018Z",
          "iopub.status.busy": "2021-05-29T17:25:54.643306Z",
          "iopub.status.idle": "2021-05-29T17:25:54.650850Z",
          "shell.execute_reply": "2021-05-29T17:25:54.651385Z",
          "shell.execute_reply.started": "2021-05-29T17:23:34.959201Z"
        },
        "papermill": {
          "duration": 0.109092,
          "end_time": "2021-05-29T17:25:54.651560",
          "exception": false,
          "start_time": "2021-05-29T17:25:54.542468",
          "status": "completed"
        },
        "tags": [],
        "id": "RN1bGCti3Xm3"
      },
      "outputs": [],
      "source": [
        "train_data = pd.concat([train_data, ohe_df1],1)\n",
        "test_data = pd.concat([test_data, ohe_df2],1)"
      ]
    },
    {
      "cell_type": "code",
      "execution_count": null,
      "metadata": {
        "execution": {
          "iopub.execute_input": "2021-05-29T17:25:54.858488Z",
          "iopub.status.busy": "2021-05-29T17:25:54.857647Z",
          "iopub.status.idle": "2021-05-29T17:25:54.864638Z",
          "shell.execute_reply": "2021-05-29T17:25:54.865481Z",
          "shell.execute_reply.started": "2021-05-29T17:23:34.970423Z"
        },
        "papermill": {
          "duration": 0.115825,
          "end_time": "2021-05-29T17:25:54.865712",
          "exception": false,
          "start_time": "2021-05-29T17:25:54.749887",
          "status": "completed"
        },
        "tags": [],
        "id": "4HZbRgd53Xm3"
      },
      "outputs": [],
      "source": [
        "# For train data\n",
        "train_data.drop(['Sex','Embarked', 'Name'],1, inplace=True)\n",
        "\n",
        "# For test data\n",
        "test_data.drop(['Sex','Embarked', 'Name'],1, inplace=True)"
      ]
    },
    {
      "cell_type": "markdown",
      "metadata": {
        "papermill": {
          "duration": 0.099343,
          "end_time": "2021-05-29T17:25:55.089129",
          "exception": false,
          "start_time": "2021-05-29T17:25:54.989786",
          "status": "completed"
        },
        "tags": [],
        "id": "xYvEgRQt3Xm3"
      },
      "source": [
        "### Saving original dataset"
      ]
    },
    {
      "cell_type": "code",
      "execution_count": null,
      "metadata": {
        "execution": {
          "iopub.execute_input": "2021-05-29T17:25:55.289534Z",
          "iopub.status.busy": "2021-05-29T17:25:55.288847Z",
          "iopub.status.idle": "2021-05-29T17:25:55.293912Z",
          "shell.execute_reply": "2021-05-29T17:25:55.293311Z",
          "shell.execute_reply.started": "2021-05-29T17:23:34.985256Z"
        },
        "papermill": {
          "duration": 0.105601,
          "end_time": "2021-05-29T17:25:55.294060",
          "exception": false,
          "start_time": "2021-05-29T17:25:55.188459",
          "status": "completed"
        },
        "tags": [],
        "id": "W5whluG13Xm3"
      },
      "outputs": [],
      "source": [
        "df_train = train_data.copy()\n",
        "df_test = test_data.copy()"
      ]
    },
    {
      "cell_type": "markdown",
      "metadata": {
        "papermill": {
          "duration": 0.097588,
          "end_time": "2021-05-29T17:25:55.490783",
          "exception": false,
          "start_time": "2021-05-29T17:25:55.393195",
          "status": "completed"
        },
        "tags": [],
        "id": "JbL7-D7S3Xm3"
      },
      "source": [
        "### Data prep for Logistic Regression"
      ]
    },
    {
      "cell_type": "code",
      "execution_count": null,
      "metadata": {
        "execution": {
          "iopub.execute_input": "2021-05-29T17:25:55.699672Z",
          "iopub.status.busy": "2021-05-29T17:25:55.694327Z",
          "iopub.status.idle": "2021-05-29T17:25:55.703495Z",
          "shell.execute_reply": "2021-05-29T17:25:55.702955Z",
          "shell.execute_reply.started": "2021-05-29T17:23:34.994154Z"
        },
        "papermill": {
          "duration": 0.114683,
          "end_time": "2021-05-29T17:25:55.703628",
          "exception": false,
          "start_time": "2021-05-29T17:25:55.588945",
          "status": "completed"
        },
        "tags": [],
        "id": "VZg10EFZ3Xm3"
      },
      "outputs": [],
      "source": [
        "bins_age = [0, 12, 18, 35, 60, 100]\n",
        "labels_age = ['Child','Teen','Young_Adult','Adult','Senior']\n",
        "df_train['age_bins'] = pd.cut(df_train['Age'], bins=bins_age, labels=labels_age)\n",
        "df_test['age_bins'] = pd.cut(df_test['Age'], bins=bins_age, labels=labels_age)"
      ]
    },
    {
      "cell_type": "code",
      "execution_count": null,
      "metadata": {
        "execution": {
          "iopub.execute_input": "2021-05-29T17:25:55.907601Z",
          "iopub.status.busy": "2021-05-29T17:25:55.906895Z",
          "iopub.status.idle": "2021-05-29T17:25:55.910663Z",
          "shell.execute_reply": "2021-05-29T17:25:55.909965Z",
          "shell.execute_reply.started": "2021-05-29T17:23:35.009971Z"
        },
        "papermill": {
          "duration": 0.109349,
          "end_time": "2021-05-29T17:25:55.910791",
          "exception": false,
          "start_time": "2021-05-29T17:25:55.801442",
          "status": "completed"
        },
        "tags": [],
        "id": "sufhOlot3Xm3"
      },
      "outputs": [],
      "source": [
        "df_train.drop('Age',1, inplace=True)\n",
        "df_test.drop('Age',1, inplace=True)"
      ]
    },
    {
      "cell_type": "markdown",
      "metadata": {
        "papermill": {
          "duration": 0.098313,
          "end_time": "2021-05-29T17:25:56.107121",
          "exception": false,
          "start_time": "2021-05-29T17:25:56.008808",
          "status": "completed"
        },
        "tags": [],
        "id": "iVVLReJA3Xm4"
      },
      "source": [
        "### Ordinal encoding for age_bins"
      ]
    },
    {
      "cell_type": "code",
      "execution_count": null,
      "metadata": {
        "execution": {
          "iopub.execute_input": "2021-05-29T17:25:56.309796Z",
          "iopub.status.busy": "2021-05-29T17:25:56.309096Z",
          "iopub.status.idle": "2021-05-29T17:25:56.319576Z",
          "shell.execute_reply": "2021-05-29T17:25:56.320052Z",
          "shell.execute_reply.started": "2021-05-29T17:23:35.024616Z"
        },
        "papermill": {
          "duration": 0.114864,
          "end_time": "2021-05-29T17:25:56.320241",
          "exception": false,
          "start_time": "2021-05-29T17:25:56.205377",
          "status": "completed"
        },
        "tags": [],
        "id": "JukqHJrD3Xm4"
      },
      "outputs": [],
      "source": [
        "age_bins = ['Child','Teen','Young_Adult','Adult','Senior']\n",
        "ordi = OrdinalEncoder(categories=[age_bins], dtype=int)\n",
        "df_train['age_bins'] = pd.DataFrame(ordi.fit_transform(df_train[['age_bins']]))\n",
        "df_test['age_bins'] = pd.DataFrame(ordi.transform(df_test[['age_bins']]))"
      ]
    },
    {
      "cell_type": "markdown",
      "metadata": {
        "papermill": {
          "duration": 0.096881,
          "end_time": "2021-05-29T17:25:56.515375",
          "exception": false,
          "start_time": "2021-05-29T17:25:56.418494",
          "status": "completed"
        },
        "tags": [],
        "id": "yj8_5eHM3Xm4"
      },
      "source": [
        "### HeatMap"
      ]
    },
    {
      "cell_type": "code",
      "execution_count": null,
      "metadata": {
        "execution": {
          "iopub.execute_input": "2021-05-29T17:25:56.714577Z",
          "iopub.status.busy": "2021-05-29T17:25:56.713872Z",
          "iopub.status.idle": "2021-05-29T17:25:57.472591Z",
          "shell.execute_reply": "2021-05-29T17:25:57.471858Z",
          "shell.execute_reply.started": "2021-05-29T17:23:35.041998Z"
        },
        "papermill": {
          "duration": 0.859481,
          "end_time": "2021-05-29T17:25:57.472728",
          "exception": false,
          "start_time": "2021-05-29T17:25:56.613247",
          "status": "completed"
        },
        "tags": [],
        "id": "JCm9evBk3Xm4",
        "outputId": "baaf9792-b30e-4d37-ceb9-793488f0c4f6"
      },
      "outputs": [
        {
          "data": {
            "image/png": "[encoded data removed]",
            "text/plain": [
              "<Figure size 2160x2160 with 2 Axes>"
            ]
          },
          "metadata": {
            "needs_background": "light"
          },
          "output_type": "display_data"
        }
      ],
      "source": [
        "plt.figure(figsize = (30,30))\n",
        "sns.heatmap(df_train.corr(),annot = True, cmap=\"GnBu\",fmt='.2f')\n",
        "plt.show()"
      ]
    },
    {
      "cell_type": "code",
      "execution_count": null,
      "metadata": {
        "execution": {
          "iopub.execute_input": "2021-05-29T17:25:57.689113Z",
          "iopub.status.busy": "2021-05-29T17:25:57.688029Z",
          "iopub.status.idle": "2021-05-29T17:25:57.698407Z",
          "shell.execute_reply": "2021-05-29T17:25:57.698949Z",
          "shell.execute_reply.started": "2021-05-29T17:23:35.705924Z"
        },
        "papermill": {
          "duration": 0.122401,
          "end_time": "2021-05-29T17:25:57.699116",
          "exception": false,
          "start_time": "2021-05-29T17:25:57.576715",
          "status": "completed"
        },
        "tags": [],
        "id": "DgaZ1Any3Xm4",
        "outputId": "0fbe581a-ce6a-4a18-d25d-f0bcf84faff9"
      },
      "outputs": [
        {
          "data": {
            "text/plain": [
              "[]"
            ]
          },
          "execution_count": 52,
          "metadata": {},
          "output_type": "execute_result"
        }
      ],
      "source": [
        "corr_matrix_train = df_train.corr().abs()\n",
        "\n",
        "# Select upper triangle of correlation matrix\n",
        "upper_train = corr_matrix_train.where(np.triu(np.ones(corr_matrix_train.shape), k=1).astype(np.bool))\n",
        "\n",
        "# Find features with correlation greater than 0.8 as they are highly correlated\n",
        "to_drop_train = [column for column in upper_train.columns if any(upper_train[column] > 0.7)]\n",
        "to_drop_train"
      ]
    },
    {
      "cell_type": "markdown",
      "metadata": {
        "papermill": {
          "duration": 0.099138,
          "end_time": "2021-05-29T17:25:57.901337",
          "exception": false,
          "start_time": "2021-05-29T17:25:57.802199",
          "status": "completed"
        },
        "tags": [],
        "id": "frOKVZo93Xm4"
      },
      "source": [
        "### Splitting the data"
      ]
    },
    {
      "cell_type": "code",
      "execution_count": null,
      "metadata": {
        "execution": {
          "iopub.execute_input": "2021-05-29T17:25:58.107409Z",
          "iopub.status.busy": "2021-05-29T17:25:58.106462Z",
          "iopub.status.idle": "2021-05-29T17:25:58.120485Z",
          "shell.execute_reply": "2021-05-29T17:25:58.119784Z",
          "shell.execute_reply.started": "2021-05-29T17:23:35.723120Z"
        },
        "papermill": {
          "duration": 0.118085,
          "end_time": "2021-05-29T17:25:58.120603",
          "exception": false,
          "start_time": "2021-05-29T17:25:58.002518",
          "status": "completed"
        },
        "tags": [],
        "id": "UlrV295d3Xm4",
        "outputId": "19571968-4443-40c3-97b3-63d99574f8f4"
      },
      "outputs": [
        {
          "data": {
            "text/html": [
              "<div>\n",
              "<style scoped>\n",
              "    .dataframe tbody tr th:only-of-type {\n",
              "        vertical-align: middle;\n",
              "    }\n",
              "\n",
              "    .dataframe tbody tr th {\n",
              "        vertical-align: top;\n",
              "    }\n",
              "\n",
              "    .dataframe thead th {\n",
              "        text-align: right;\n",
              "    }\n",
              "</style>\n",
              "<table border=\"1\" class=\"dataframe\">\n",
              "  <thead>\n",
              "    <tr style=\"text-align: right;\">\n",
              "      <th></th>\n",
              "      <th>PassengerId</th>\n",
              "      <th>Survived</th>\n",
              "      <th>Pclass</th>\n",
              "      <th>Fare</th>\n",
              "      <th>Family_size</th>\n",
              "      <th>x0_male</th>\n",
              "      <th>x1_Q</th>\n",
              "      <th>x1_S</th>\n",
              "      <th>age_bins</th>\n",
              "    </tr>\n",
              "  </thead>\n",
              "  <tbody>\n",
              "    <tr>\n",
              "      <th>0</th>\n",
              "      <td>1</td>\n",
              "      <td>0</td>\n",
              "      <td>3</td>\n",
              "      <td>7.2500</td>\n",
              "      <td>2</td>\n",
              "      <td>1</td>\n",
              "      <td>0</td>\n",
              "      <td>1</td>\n",
              "      <td>2</td>\n",
              "    </tr>\n",
              "    <tr>\n",
              "      <th>1</th>\n",
              "      <td>2</td>\n",
              "      <td>1</td>\n",
              "      <td>1</td>\n",
              "      <td>71.2833</td>\n",
              "      <td>2</td>\n",
              "      <td>0</td>\n",
              "      <td>0</td>\n",
              "      <td>0</td>\n",
              "      <td>3</td>\n",
              "    </tr>\n",
              "    <tr>\n",
              "      <th>2</th>\n",
              "      <td>3</td>\n",
              "      <td>1</td>\n",
              "      <td>3</td>\n",
              "      <td>7.9250</td>\n",
              "      <td>1</td>\n",
              "      <td>0</td>\n",
              "      <td>0</td>\n",
              "      <td>1</td>\n",
              "      <td>2</td>\n",
              "    </tr>\n",
              "    <tr>\n",
              "      <th>3</th>\n",
              "      <td>4</td>\n",
              "      <td>1</td>\n",
              "      <td>1</td>\n",
              "      <td>53.1000</td>\n",
              "      <td>2</td>\n",
              "      <td>0</td>\n",
              "      <td>0</td>\n",
              "      <td>1</td>\n",
              "      <td>2</td>\n",
              "    </tr>\n",
              "    <tr>\n",
              "      <th>4</th>\n",
              "      <td>5</td>\n",
              "      <td>0</td>\n",
              "      <td>3</td>\n",
              "      <td>8.0500</td>\n",
              "      <td>1</td>\n",
              "      <td>1</td>\n",
              "      <td>0</td>\n",
              "      <td>1</td>\n",
              "      <td>2</td>\n",
              "    </tr>\n",
              "  </tbody>\n",
              "</table>\n",
              "</div>"
            ],
            "text/plain": [
              "   PassengerId  Survived  Pclass     Fare  Family_size  x0_male  x1_Q  x1_S  age_bins\n",
              "0            1         0       3   7.2500            2        1     0     1         2\n",
              "1            2         1       1  71.2833            2        0     0     0         3\n",
              "2            3         1       3   7.9250            1        0     0     1         2\n",
              "3            4         1       1  53.1000            2        0     0     1         2\n",
              "4            5         0       3   8.0500            1        1     0     1         2"
            ]
          },
          "execution_count": 53,
          "metadata": {},
          "output_type": "execute_result"
        }
      ],
      "source": [
        "df_train.head()"
      ]
    },
    {
      "cell_type": "code",
      "execution_count": null,
      "metadata": {
        "execution": {
          "iopub.execute_input": "2021-05-29T17:25:58.331577Z",
          "iopub.status.busy": "2021-05-29T17:25:58.330871Z",
          "iopub.status.idle": "2021-05-29T17:25:58.334218Z",
          "shell.execute_reply": "2021-05-29T17:25:58.334685Z",
          "shell.execute_reply.started": "2021-05-29T17:23:35.738909Z"
        },
        "papermill": {
          "duration": 0.114685,
          "end_time": "2021-05-29T17:25:58.334833",
          "exception": false,
          "start_time": "2021-05-29T17:25:58.220148",
          "status": "completed"
        },
        "tags": [],
        "id": "hstJizfQ3Xm5",
        "outputId": "1dddcc29-bd2c-442f-cb5b-7d4c47818b36"
      },
      "outputs": [
        {
          "data": {
            "text/html": [
              "<div>\n",
              "<style scoped>\n",
              "    .dataframe tbody tr th:only-of-type {\n",
              "        vertical-align: middle;\n",
              "    }\n",
              "\n",
              "    .dataframe tbody tr th {\n",
              "        vertical-align: top;\n",
              "    }\n",
              "\n",
              "    .dataframe thead th {\n",
              "        text-align: right;\n",
              "    }\n",
              "</style>\n",
              "<table border=\"1\" class=\"dataframe\">\n",
              "  <thead>\n",
              "    <tr style=\"text-align: right;\">\n",
              "      <th></th>\n",
              "      <th>PassengerId</th>\n",
              "      <th>Pclass</th>\n",
              "      <th>Fare</th>\n",
              "      <th>Family_size</th>\n",
              "      <th>x0_male</th>\n",
              "      <th>x1_Q</th>\n",
              "      <th>x1_S</th>\n",
              "      <th>age_bins</th>\n",
              "    </tr>\n",
              "  </thead>\n",
              "  <tbody>\n",
              "    <tr>\n",
              "      <th>0</th>\n",
              "      <td>892</td>\n",
              "      <td>3</td>\n",
              "      <td>7.8292</td>\n",
              "      <td>1</td>\n",
              "      <td>1</td>\n",
              "      <td>1</td>\n",
              "      <td>0</td>\n",
              "      <td>2</td>\n",
              "    </tr>\n",
              "    <tr>\n",
              "      <th>1</th>\n",
              "      <td>893</td>\n",
              "      <td>3</td>\n",
              "      <td>7.0000</td>\n",
              "      <td>2</td>\n",
              "      <td>0</td>\n",
              "      <td>0</td>\n",
              "      <td>1</td>\n",
              "      <td>3</td>\n",
              "    </tr>\n",
              "    <tr>\n",
              "      <th>2</th>\n",
              "      <td>894</td>\n",
              "      <td>2</td>\n",
              "      <td>9.6875</td>\n",
              "      <td>1</td>\n",
              "      <td>1</td>\n",
              "      <td>1</td>\n",
              "      <td>0</td>\n",
              "      <td>4</td>\n",
              "    </tr>\n",
              "    <tr>\n",
              "      <th>3</th>\n",
              "      <td>895</td>\n",
              "      <td>3</td>\n",
              "      <td>8.6625</td>\n",
              "      <td>1</td>\n",
              "      <td>1</td>\n",
              "      <td>0</td>\n",
              "      <td>1</td>\n",
              "      <td>2</td>\n",
              "    </tr>\n",
              "    <tr>\n",
              "      <th>4</th>\n",
              "      <td>896</td>\n",
              "      <td>3</td>\n",
              "      <td>12.2875</td>\n",
              "      <td>3</td>\n",
              "      <td>0</td>\n",
              "      <td>0</td>\n",
              "      <td>1</td>\n",
              "      <td>2</td>\n",
              "    </tr>\n",
              "  </tbody>\n",
              "</table>\n",
              "</div>"
            ],
            "text/plain": [
              "   PassengerId  Pclass     Fare  Family_size  x0_male  x1_Q  x1_S  age_bins\n",
              "0          892       3   7.8292            1        1     1     0         2\n",
              "1          893       3   7.0000            2        0     0     1         3\n",
              "2          894       2   9.6875            1        1     1     0         4\n",
              "3          895       3   8.6625            1        1     0     1         2\n",
              "4          896       3  12.2875            3        0     0     1         2"
            ]
          },
          "execution_count": 54,
          "metadata": {},
          "output_type": "execute_result"
        }
      ],
      "source": [
        "df_test.head()"
      ]
    },
    {
      "cell_type": "code",
      "execution_count": null,
      "metadata": {
        "execution": {
          "iopub.execute_input": "2021-05-29T17:25:58.544785Z",
          "iopub.status.busy": "2021-05-29T17:25:58.542596Z",
          "iopub.status.idle": "2021-05-29T17:25:58.553326Z",
          "shell.execute_reply": "2021-05-29T17:25:58.552565Z",
          "shell.execute_reply.started": "2021-05-29T17:23:35.759450Z"
        },
        "papermill": {
          "duration": 0.118303,
          "end_time": "2021-05-29T17:25:58.553465",
          "exception": false,
          "start_time": "2021-05-29T17:25:58.435162",
          "status": "completed"
        },
        "tags": [],
        "id": "s3-cDXtJ3Xm5",
        "outputId": "c57dc6f5-5614-4c8b-c57a-97a7f13202ca"
      },
      "outputs": [
        {
          "data": {
            "text/plain": [
              "((623, 7), (268, 7), (623,), (268,))"
            ]
          },
          "execution_count": 55,
          "metadata": {},
          "output_type": "execute_result"
        }
      ],
      "source": [
        "X = df_train.drop(['PassengerId','Survived'],1)\n",
        "y = df_train['Survived']\n",
        "\n",
        "X_train, X_val, y_train, y_val = train_test_split(X, y, test_size=0.3, random_state=23)\n",
        "X_train.shape, X_val.shape, y_train.shape, y_val.shape"
      ]
    },
    {
      "cell_type": "markdown",
      "metadata": {
        "papermill": {
          "duration": 0.100467,
          "end_time": "2021-05-29T17:25:58.755221",
          "exception": false,
          "start_time": "2021-05-29T17:25:58.654754",
          "status": "completed"
        },
        "tags": [],
        "id": "eRNlHjaV3Xm5"
      },
      "source": [
        "### Scaling"
      ]
    },
    {
      "cell_type": "code",
      "execution_count": null,
      "metadata": {
        "execution": {
          "iopub.execute_input": "2021-05-29T17:25:58.973209Z",
          "iopub.status.busy": "2021-05-29T17:25:58.972133Z",
          "iopub.status.idle": "2021-05-29T17:25:58.985996Z",
          "shell.execute_reply": "2021-05-29T17:25:58.986512Z",
          "shell.execute_reply.started": "2021-05-29T17:23:35.884111Z"
        },
        "papermill": {
          "duration": 0.128319,
          "end_time": "2021-05-29T17:25:58.986709",
          "exception": false,
          "start_time": "2021-05-29T17:25:58.858390",
          "status": "completed"
        },
        "tags": [],
        "id": "eL2MXwUq3Xm5"
      },
      "outputs": [],
      "source": [
        "scaler = StandardScaler()\n",
        "X_train[['Pclass', 'Fare', 'Family_size']] = scaler.fit_transform(X_train[['Pclass', 'Fare', 'Family_size']])\n",
        "X_val[['Pclass', 'Fare', 'Family_size']] = scaler.transform(X_val[['Pclass', 'Fare', 'Family_size']])"
      ]
    },
    {
      "cell_type": "markdown",
      "metadata": {
        "papermill": {
          "duration": 0.102344,
          "end_time": "2021-05-29T17:25:59.192280",
          "exception": false,
          "start_time": "2021-05-29T17:25:59.089936",
          "status": "completed"
        },
        "tags": [],
        "id": "xMZBvCiA3Xm5"
      },
      "source": [
        " ### Model Building"
      ]
    },
    {
      "cell_type": "markdown",
      "metadata": {
        "papermill": {
          "duration": 0.102019,
          "end_time": "2021-05-29T17:25:59.396401",
          "exception": false,
          "start_time": "2021-05-29T17:25:59.294382",
          "status": "completed"
        },
        "tags": [],
        "id": "PK6-RPkD3Xm5"
      },
      "source": [
        ""
      ]
    },
    {
      "cell_type": "code",
      "execution_count": null,
      "metadata": {
        "execution": {
          "iopub.execute_input": "2021-05-29T17:25:59.606241Z",
          "iopub.status.busy": "2021-05-29T17:25:59.605230Z",
          "iopub.status.idle": "2021-05-29T17:25:59.608822Z",
          "shell.execute_reply": "2021-05-29T17:25:59.608255Z",
          "shell.execute_reply.started": "2021-05-29T17:23:35.905471Z"
        },
        "papermill": {
          "duration": 0.110509,
          "end_time": "2021-05-29T17:25:59.608948",
          "exception": false,
          "start_time": "2021-05-29T17:25:59.498439",
          "status": "completed"
        },
        "tags": [],
        "id": "WOAt7kqA3Xm5"
      },
      "outputs": [],
      "source": [
        "# Models\n",
        "model_algos = []\n",
        "# accuracy\n",
        "train_accuracy = []\n",
        "val_accuracy = []"
      ]
    },
    {
      "cell_type": "markdown",
      "metadata": {
        "papermill": {
          "duration": 0.104883,
          "end_time": "2021-05-29T17:25:59.816850",
          "exception": false,
          "start_time": "2021-05-29T17:25:59.711967",
          "status": "completed"
        },
        "tags": [],
        "id": "kQMQmO363Xm6"
      },
      "source": [
        "### Logistic Regression without hyperparameters"
      ]
    },
    {
      "cell_type": "code",
      "execution_count": null,
      "metadata": {
        "execution": {
          "iopub.execute_input": "2021-05-29T17:26:00.028690Z",
          "iopub.status.busy": "2021-05-29T17:26:00.027714Z",
          "iopub.status.idle": "2021-05-29T17:26:00.030848Z",
          "shell.execute_reply": "2021-05-29T17:26:00.030178Z",
          "shell.execute_reply.started": "2021-05-29T17:23:35.916485Z"
        },
        "papermill": {
          "duration": 0.110404,
          "end_time": "2021-05-29T17:26:00.030977",
          "exception": false,
          "start_time": "2021-05-29T17:25:59.920573",
          "status": "completed"
        },
        "tags": [],
        "id": "7fWnmUM33Xm6"
      },
      "outputs": [],
      "source": [
        "model_LR = LogisticRegression()"
      ]
    },
    {
      "cell_type": "code",
      "execution_count": null,
      "metadata": {
        "execution": {
          "iopub.execute_input": "2021-05-29T17:26:00.250509Z",
          "iopub.status.busy": "2021-05-29T17:26:00.249763Z",
          "iopub.status.idle": "2021-05-29T17:26:00.253280Z",
          "shell.execute_reply": "2021-05-29T17:26:00.252709Z",
          "shell.execute_reply.started": "2021-05-29T17:23:35.928254Z"
        },
        "papermill": {
          "duration": 0.118055,
          "end_time": "2021-05-29T17:26:00.253433",
          "exception": false,
          "start_time": "2021-05-29T17:26:00.135378",
          "status": "completed"
        },
        "tags": [],
        "id": "S-DZsxlB3Xm6"
      },
      "outputs": [],
      "source": [
        "def model_fit(model, X_train, y_train, X_val, y_val, algo=None):\n",
        "    \n",
        "    model_LR.fit(X_train, y_train)\n",
        "    \n",
        "    y_train_pred= model_LR.predict(X_train)\n",
        "    y_val_pred = model_LR.predict(X_val)\n",
        "    acc_train = accuracy_score(y_train, y_train_pred)\n",
        "    acc_val = accuracy_score(y_val, y_val_pred)\n",
        "    matrix_train = confusion_matrix(y_train, y_train_pred)\n",
        "    matrix_val = confusion_matrix(y_val, y_val_pred)\n",
        "    \n",
        "    print('Confusion Matrix train')\n",
        "    print('='*60)\n",
        "    print(matrix_train,\"\\n\")\n",
        "    print('Confusion Matrix validation')\n",
        "    print('='*60)\n",
        "    print(matrix_val,\"\\n\")\n",
        "    print('Accuracy of training set')\n",
        "    print('='*60)\n",
        "    print(acc_train)\n",
        "    print('='*60)\n",
        "    print('Accuracy of validation set')\n",
        "    print('='*60)\n",
        "    print(acc_val)\n",
        "    \n",
        "    model_algos.append(algo)\n",
        "    train_accuracy.append(acc_train)\n",
        "    val_accuracy.append(acc_val)"
      ]
    },
    {
      "cell_type": "code",
      "execution_count": null,
      "metadata": {
        "execution": {
          "iopub.execute_input": "2021-05-29T17:26:00.469119Z",
          "iopub.status.busy": "2021-05-29T17:26:00.467981Z",
          "iopub.status.idle": "2021-05-29T17:26:00.497528Z",
          "shell.execute_reply": "2021-05-29T17:26:00.496745Z",
          "shell.execute_reply.started": "2021-05-29T17:23:35.941959Z"
        },
        "papermill": {
          "duration": 0.14077,
          "end_time": "2021-05-29T17:26:00.497686",
          "exception": false,
          "start_time": "2021-05-29T17:26:00.356916",
          "status": "completed"
        },
        "tags": [],
        "id": "AjG_We-73Xm6",
        "outputId": "10779431-f5da-4389-9c91-3592b137c560"
      },
      "outputs": [
        {
          "name": "stdout",
          "output_type": "stream",
          "text": [
            "Confusion Matrix train\n",
            "============================================================\n",
            "[[325  51]\n",
            " [ 65 182]] \n",
            "\n",
            "Confusion Matrix validation\n",
            "============================================================\n",
            "[[142  31]\n",
            " [ 32  63]] \n",
            "\n",
            "Accuracy of training set\n",
            "============================================================\n",
            "0.8138041733547352\n",
            "============================================================\n",
            "Accuracy of validation set\n",
            "============================================================\n",
            "0.7649253731343284\n"
          ]
        }
      ],
      "source": [
        "model_fit(model_LR, X_train, y_train, X_val, y_val, algo='LR without HPT')"
      ]
    },
    {
      "cell_type": "code",
      "execution_count": null,
      "metadata": {
        "execution": {
          "iopub.execute_input": "2021-05-29T17:26:00.711301Z",
          "iopub.status.busy": "2021-05-29T17:26:00.710303Z",
          "iopub.status.idle": "2021-05-29T17:26:00.714242Z",
          "shell.execute_reply": "2021-05-29T17:26:00.713581Z",
          "shell.execute_reply.started": "2021-05-29T17:23:35.984637Z"
        },
        "papermill": {
          "duration": 0.113258,
          "end_time": "2021-05-29T17:26:00.714380",
          "exception": false,
          "start_time": "2021-05-29T17:26:00.601122",
          "status": "completed"
        },
        "tags": [],
        "id": "_BspmE4d3Xm6"
      },
      "outputs": [],
      "source": [
        "params_LR = {'C':[0.001, 0.005, 0.01, 0.05, 0.1, 0.25, 0.5, 0.75, 1], 'class_weight':[None,'balanced'], 'penalty':['l1','l2']}"
      ]
    },
    {
      "cell_type": "code",
      "execution_count": null,
      "metadata": {
        "execution": {
          "iopub.execute_input": "2021-05-29T17:26:00.936305Z",
          "iopub.status.busy": "2021-05-29T17:26:00.935452Z",
          "iopub.status.idle": "2021-05-29T17:26:00.939370Z",
          "shell.execute_reply": "2021-05-29T17:26:00.938726Z",
          "shell.execute_reply.started": "2021-05-29T17:23:35.991032Z"
        },
        "papermill": {
          "duration": 0.120933,
          "end_time": "2021-05-29T17:26:00.939491",
          "exception": false,
          "start_time": "2021-05-29T17:26:00.818558",
          "status": "completed"
        },
        "tags": [],
        "id": "C9yXfkvu3Xm6"
      },
      "outputs": [],
      "source": [
        "def model_fit_evaluation(model, params, X_train, y_train, X_val, y_val, algo=None):\n",
        "        \n",
        "    rcv = RandomizedSearchCV(model, params, cv=5, scoring='roc_auc', n_jobs=-1, verbose=1, random_state=23)\n",
        "    rcv.fit(X_train, y_train)\n",
        "    \n",
        "    print('\\n')\n",
        "    print('best estimator : ', rcv.best_estimator_)\n",
        "    print('best parameters: ', rcv.best_params_)\n",
        "    print('best score: ', rcv.best_score_)\n",
        "    print('\\n')\n",
        "\n",
        "    # Prediction    \n",
        "    y_train_pred=(rcv.best_estimator_).predict(X_train)\n",
        "    y_val_pred=(rcv.best_estimator_).predict(X_val)\n",
        "    acc_train = accuracy_score(y_train, y_train_pred)\n",
        "    acc_val = accuracy_score(y_val, y_val_pred)\n",
        "    matrix_train = confusion_matrix(y_train, y_train_pred)\n",
        "    matrix_val = confusion_matrix(y_val, y_val_pred)\n",
        "    \n",
        "    print('Confusion Matrix train')\n",
        "    print('='*60)\n",
        "    print(matrix_train,\"\\n\")\n",
        "    print('Confusion Matrix validation')\n",
        "    print('='*60)\n",
        "    print(matrix_val,\"\\n\")\n",
        "    print('Accuracy of training set')\n",
        "    print('='*60)\n",
        "    print(acc_train)\n",
        "    print('='*60)\n",
        "    print('Accuracy of validation set')\n",
        "    print('='*60)\n",
        "    print(acc_val)    \n",
        "        \n",
        "    model_algos.append(algo)\n",
        "    train_accuracy.append(acc_train)\n",
        "    val_accuracy.append(acc_val)"
      ]
    },
    {
      "cell_type": "code",
      "execution_count": null,
      "metadata": {
        "execution": {
          "iopub.execute_input": "2021-05-29T17:26:01.155296Z",
          "iopub.status.busy": "2021-05-29T17:26:01.154121Z",
          "iopub.status.idle": "2021-05-29T17:26:03.588991Z",
          "shell.execute_reply": "2021-05-29T17:26:03.589763Z",
          "shell.execute_reply.started": "2021-05-29T17:23:36.007347Z"
        },
        "papermill": {
          "duration": 2.548414,
          "end_time": "2021-05-29T17:26:03.589982",
          "exception": false,
          "start_time": "2021-05-29T17:26:01.041568",
          "status": "completed"
        },
        "tags": [],
        "id": "22Ha7YUE3Xm7",
        "outputId": "2d974e65-a86e-4a30-9d7d-afd2b947aa67"
      },
      "outputs": [
        {
          "name": "stdout",
          "output_type": "stream",
          "text": [
            "Fitting 5 folds for each of 10 candidates, totalling 50 fits\n"
          ]
        },
        {
          "name": "stderr",
          "output_type": "stream",
          "text": [
            "[Parallel(n_jobs=-1)]: Using backend LokyBackend with 4 concurrent workers.\n"
          ]
        },
        {
          "name": "stdout",
          "output_type": "stream",
          "text": [
            "\n",
            "\n",
            "best estimator :  LogisticRegression(C=0.25)\n",
            "best parameters:  {'penalty': 'l2', 'class_weight': None, 'C': 0.25}\n",
            "best score:  0.862925642678124\n",
            "\n",
            "\n",
            "Confusion Matrix train\n",
            "============================================================\n",
            "[[325  51]\n",
            " [ 66 181]] \n",
            "\n",
            "Confusion Matrix validation\n",
            "============================================================\n",
            "[[145  28]\n",
            " [ 33  62]] \n",
            "\n",
            "Accuracy of training set\n",
            "============================================================\n",
            "0.812199036918138\n",
            "============================================================\n",
            "Accuracy of validation set\n",
            "============================================================\n",
            "0.7723880597014925\n"
          ]
        },
        {
          "name": "stderr",
          "output_type": "stream",
          "text": [
            "[Parallel(n_jobs=-1)]: Done  43 out of  50 | elapsed:    2.4s remaining:    0.4s\n",
            "[Parallel(n_jobs=-1)]: Done  50 out of  50 | elapsed:    2.4s finished\n"
          ]
        }
      ],
      "source": [
        "model_fit_evaluation(model_LR, params_LR, X_train, y_train, X_val, y_val, algo='LR with HPT')"
      ]
    },
    {
      "cell_type": "markdown",
      "metadata": {
        "papermill": {
          "duration": 0.104197,
          "end_time": "2021-05-29T17:26:03.798515",
          "exception": false,
          "start_time": "2021-05-29T17:26:03.694318",
          "status": "completed"
        },
        "tags": [],
        "id": "IXSkUth23Xm7"
      },
      "source": [
        "### Decision Tree"
      ]
    },
    {
      "cell_type": "code",
      "execution_count": null,
      "metadata": {
        "execution": {
          "iopub.execute_input": "2021-05-29T17:26:04.011678Z",
          "iopub.status.busy": "2021-05-29T17:26:04.010651Z",
          "iopub.status.idle": "2021-05-29T17:26:04.015948Z",
          "shell.execute_reply": "2021-05-29T17:26:04.016518Z",
          "shell.execute_reply.started": "2021-05-29T17:23:38.542377Z"
        },
        "papermill": {
          "duration": 0.113795,
          "end_time": "2021-05-29T17:26:04.016692",
          "exception": false,
          "start_time": "2021-05-29T17:26:03.902897",
          "status": "completed"
        },
        "tags": [],
        "id": "Y1hXiVJi3Xm7"
      },
      "outputs": [],
      "source": [
        "train_dt = train_data.copy()\n",
        "test_dt = test_data.copy()"
      ]
    },
    {
      "cell_type": "code",
      "execution_count": null,
      "metadata": {
        "execution": {
          "iopub.execute_input": "2021-05-29T17:26:04.233106Z",
          "iopub.status.busy": "2021-05-29T17:26:04.232120Z",
          "iopub.status.idle": "2021-05-29T17:26:04.244677Z",
          "shell.execute_reply": "2021-05-29T17:26:04.245125Z",
          "shell.execute_reply.started": "2021-05-29T17:23:38.552424Z"
        },
        "papermill": {
          "duration": 0.123059,
          "end_time": "2021-05-29T17:26:04.245291",
          "exception": false,
          "start_time": "2021-05-29T17:26:04.122232",
          "status": "completed"
        },
        "tags": [],
        "id": "CjpTMHmT3Xm7",
        "outputId": "0addd5db-19de-48c7-e45e-ed6a0288aceb"
      },
      "outputs": [
        {
          "data": {
            "text/plain": [
              "((623, 7), (268, 7), (623,), (268,))"
            ]
          },
          "execution_count": 65,
          "metadata": {},
          "output_type": "execute_result"
        }
      ],
      "source": [
        "X = train_dt.drop(['PassengerId','Survived'],1)\n",
        "y = train_dt['Survived']\n",
        "\n",
        "X_train, X_val, y_train, y_val = train_test_split(X, y, test_size=0.3, random_state=23)\n",
        "X_train.shape, X_val.shape, y_train.shape, y_val.shape"
      ]
    },
    {
      "cell_type": "code",
      "execution_count": null,
      "metadata": {
        "execution": {
          "iopub.execute_input": "2021-05-29T17:26:04.458707Z",
          "iopub.status.busy": "2021-05-29T17:26:04.457704Z",
          "iopub.status.idle": "2021-05-29T17:26:04.462577Z",
          "shell.execute_reply": "2021-05-29T17:26:04.463045Z",
          "shell.execute_reply.started": "2021-05-29T17:23:38.572571Z"
        },
        "papermill": {
          "duration": 0.113788,
          "end_time": "2021-05-29T17:26:04.463218",
          "exception": false,
          "start_time": "2021-05-29T17:26:04.349430",
          "status": "completed"
        },
        "tags": [],
        "id": "bCFNp3Rs3Xm7"
      },
      "outputs": [],
      "source": [
        "model_DT = DecisionTreeClassifier(random_state=23)\n",
        "# model_DT.fit(X_train, y_train)\n",
        "# y_train_pred= model_DT.predict(X_train)\n",
        "# y_val_pred = model_DT.predict(X_val)\n",
        "# acc_train = accuracy_score(y_train, y_train_pred)\n",
        "# acc_val = accuracy_score(y_val, y_val_pred)\n",
        "# print('Accuracy of training set')\n",
        "# print('='*60)\n",
        "# print(acc_train)\n",
        "# print('='*60)\n",
        "# print('Accuracy of validation set')\n",
        "# print('='*60)\n",
        "# print(acc_val)"
      ]
    },
    {
      "cell_type": "code",
      "execution_count": null,
      "metadata": {
        "execution": {
          "iopub.execute_input": "2021-05-29T17:26:04.678207Z",
          "iopub.status.busy": "2021-05-29T17:26:04.676920Z",
          "iopub.status.idle": "2021-05-29T17:26:04.729473Z",
          "shell.execute_reply": "2021-05-29T17:26:04.730157Z",
          "shell.execute_reply.started": "2021-05-29T17:23:38.581250Z"
        },
        "papermill": {
          "duration": 0.161723,
          "end_time": "2021-05-29T17:26:04.730402",
          "exception": false,
          "start_time": "2021-05-29T17:26:04.568679",
          "status": "completed"
        },
        "tags": [],
        "id": "hhdJuB4c3Xm7",
        "outputId": "9c276e49-1134-44ea-bc4a-08ca38b93e6d"
      },
      "outputs": [
        {
          "name": "stdout",
          "output_type": "stream",
          "text": [
            "Confusion Matrix train\n",
            "============================================================\n",
            "[[326  50]\n",
            " [ 67 180]] \n",
            "\n",
            "Confusion Matrix validation\n",
            "============================================================\n",
            "[[141  32]\n",
            " [ 33  62]] \n",
            "\n",
            "Accuracy of training set\n",
            "============================================================\n",
            "0.812199036918138\n",
            "============================================================\n",
            "Accuracy of validation set\n",
            "============================================================\n",
            "0.7574626865671642\n"
          ]
        }
      ],
      "source": [
        "model_fit(model_DT, X_train, y_train, X_val, y_val, algo='DT without HPT')"
      ]
    },
    {
      "cell_type": "code",
      "execution_count": null,
      "metadata": {
        "execution": {
          "iopub.execute_input": "2021-05-29T17:26:04.955111Z",
          "iopub.status.busy": "2021-05-29T17:26:04.954068Z",
          "iopub.status.idle": "2021-05-29T17:26:04.960241Z",
          "shell.execute_reply": "2021-05-29T17:26:04.960722Z",
          "shell.execute_reply.started": "2021-05-29T17:23:38.639416Z"
        },
        "papermill": {
          "duration": 0.117023,
          "end_time": "2021-05-29T17:26:04.960891",
          "exception": false,
          "start_time": "2021-05-29T17:26:04.843868",
          "status": "completed"
        },
        "tags": [],
        "id": "2OHtqv4j3Xm7"
      },
      "outputs": [],
      "source": [
        "params_DT = {\n",
        "    'max_depth': [10, 20, 50, 100, 200],\n",
        "    'min_samples_leaf': [10, 20, 50, 100, 200],\n",
        "    'min_samples_split' : [10, 20, 50, 100, 200],\n",
        "    'criterion': [\"gini\", \"entropy\"]\n",
        "}"
      ]
    },
    {
      "cell_type": "code",
      "execution_count": null,
      "metadata": {
        "execution": {
          "iopub.execute_input": "2021-05-29T17:26:05.177259Z",
          "iopub.status.busy": "2021-05-29T17:26:05.176224Z",
          "iopub.status.idle": "2021-05-29T17:26:05.462934Z",
          "shell.execute_reply": "2021-05-29T17:26:05.462368Z",
          "shell.execute_reply.started": "2021-05-29T17:23:38.647663Z"
        },
        "papermill": {
          "duration": 0.397088,
          "end_time": "2021-05-29T17:26:05.463061",
          "exception": false,
          "start_time": "2021-05-29T17:26:05.065973",
          "status": "completed"
        },
        "tags": [],
        "id": "T1KvMbNJ3Xm8",
        "outputId": "cd37e988-a1c2-455c-888c-0519a4b0953d"
      },
      "outputs": [
        {
          "name": "stdout",
          "output_type": "stream",
          "text": [
            "Fitting 5 folds for each of 10 candidates, totalling 50 fits\n"
          ]
        },
        {
          "name": "stderr",
          "output_type": "stream",
          "text": [
            "[Parallel(n_jobs=-1)]: Using backend LokyBackend with 4 concurrent workers.\n"
          ]
        },
        {
          "name": "stdout",
          "output_type": "stream",
          "text": [
            "\n",
            "\n",
            "best estimator :  DecisionTreeClassifier(criterion='entropy', max_depth=100, min_samples_leaf=20,\n",
            "                       min_samples_split=20, random_state=23)\n",
            "best parameters:  {'min_samples_split': 20, 'min_samples_leaf': 20, 'max_depth': 100, 'criterion': 'entropy'}\n",
            "best score:  0.851818575008951\n",
            "\n",
            "\n",
            "Confusion Matrix train\n",
            "============================================================\n",
            "[[341  35]\n",
            " [ 73 174]] \n",
            "\n",
            "Confusion Matrix validation\n",
            "============================================================\n",
            "[[153  20]\n",
            " [ 36  59]] \n",
            "\n",
            "Accuracy of training set\n",
            "============================================================\n",
            "0.826645264847512\n",
            "============================================================\n",
            "Accuracy of validation set\n",
            "============================================================\n",
            "0.7910447761194029\n"
          ]
        },
        {
          "name": "stderr",
          "output_type": "stream",
          "text": [
            "[Parallel(n_jobs=-1)]: Done  50 out of  50 | elapsed:    0.3s finished\n"
          ]
        }
      ],
      "source": [
        "model_fit_evaluation(model_DT, params_DT, X_train, y_train, X_val, y_val, algo='DT with HPT')"
      ]
    },
    {
      "cell_type": "markdown",
      "metadata": {
        "papermill": {
          "duration": 0.105425,
          "end_time": "2021-05-29T17:26:05.676676",
          "exception": false,
          "start_time": "2021-05-29T17:26:05.571251",
          "status": "completed"
        },
        "tags": [],
        "id": "DFsy0jF13Xm8"
      },
      "source": [
        "### Random Forest"
      ]
    },
    {
      "cell_type": "code",
      "execution_count": null,
      "metadata": {
        "execution": {
          "iopub.execute_input": "2021-05-29T17:26:05.915113Z",
          "iopub.status.busy": "2021-05-29T17:26:05.914075Z",
          "iopub.status.idle": "2021-05-29T17:26:05.919738Z",
          "shell.execute_reply": "2021-05-29T17:26:05.918742Z",
          "shell.execute_reply.started": "2021-05-29T17:23:38.972959Z"
        },
        "papermill": {
          "duration": 0.137456,
          "end_time": "2021-05-29T17:26:05.919936",
          "exception": false,
          "start_time": "2021-05-29T17:26:05.782480",
          "status": "completed"
        },
        "tags": [],
        "id": "0vj2Bebg3Xm8"
      },
      "outputs": [],
      "source": [
        "train_rf = train_data.copy()\n",
        "test_rf = test_data.copy()"
      ]
    },
    {
      "cell_type": "code",
      "execution_count": null,
      "metadata": {
        "execution": {
          "iopub.execute_input": "2021-05-29T17:26:06.150486Z",
          "iopub.status.busy": "2021-05-29T17:26:06.148452Z",
          "iopub.status.idle": "2021-05-29T17:26:06.153747Z",
          "shell.execute_reply": "2021-05-29T17:26:06.154360Z",
          "shell.execute_reply.started": "2021-05-29T17:23:38.980785Z"
        },
        "papermill": {
          "duration": 0.121793,
          "end_time": "2021-05-29T17:26:06.154531",
          "exception": false,
          "start_time": "2021-05-29T17:26:06.032738",
          "status": "completed"
        },
        "tags": [],
        "id": "p5DfV7jB3Xm8",
        "outputId": "48793841-4ffe-49bb-ae16-a6491e774d24"
      },
      "outputs": [
        {
          "data": {
            "text/plain": [
              "((623, 7), (268, 7), (623,), (268,))"
            ]
          },
          "execution_count": 71,
          "metadata": {},
          "output_type": "execute_result"
        }
      ],
      "source": [
        "X = train_rf.drop(['PassengerId','Survived'],1)\n",
        "y = train_rf['Survived']\n",
        "\n",
        "X_train, X_val, y_train, y_val = train_test_split(X, y, test_size=0.3, random_state=23)\n",
        "X_train.shape, X_val.shape, y_train.shape, y_val.shape"
      ]
    },
    {
      "cell_type": "code",
      "execution_count": null,
      "metadata": {
        "execution": {
          "iopub.execute_input": "2021-05-29T17:26:06.372173Z",
          "iopub.status.busy": "2021-05-29T17:26:06.371498Z",
          "iopub.status.idle": "2021-05-29T17:26:06.377008Z",
          "shell.execute_reply": "2021-05-29T17:26:06.376441Z",
          "shell.execute_reply.started": "2021-05-29T17:23:38.998300Z"
        },
        "papermill": {
          "duration": 0.114654,
          "end_time": "2021-05-29T17:26:06.377135",
          "exception": false,
          "start_time": "2021-05-29T17:26:06.262481",
          "status": "completed"
        },
        "tags": [],
        "id": "QZpBZFzX3Xm8"
      },
      "outputs": [],
      "source": [
        "model_RF = RandomForestClassifier(oob_score = True, random_state=23)\n",
        "# model_RF.fit(X_train, y_train)\n",
        "# y_train_pred= model_RF.predict(X_train)\n",
        "# y_val_pred = model_RF.predict(X_val)\n",
        "# acc_train = accuracy_score(y_train, y_train_pred)\n",
        "# acc_val = accuracy_score(y_val, y_val_pred)\n",
        "# print('Accuracy of training set')\n",
        "# print('='*60)\n",
        "# print(acc_train)\n",
        "# print('='*60)\n",
        "# print('Accuracy of validation set')\n",
        "# print('='*60)\n",
        "# print(acc_val)"
      ]
    },
    {
      "cell_type": "code",
      "execution_count": null,
      "metadata": {
        "execution": {
          "iopub.execute_input": "2021-05-29T17:26:06.595941Z",
          "iopub.status.busy": "2021-05-29T17:26:06.595265Z",
          "iopub.status.idle": "2021-05-29T17:26:06.650424Z",
          "shell.execute_reply": "2021-05-29T17:26:06.649308Z",
          "shell.execute_reply.started": "2021-05-29T17:23:39.009821Z"
        },
        "papermill": {
          "duration": 0.165879,
          "end_time": "2021-05-29T17:26:06.650627",
          "exception": false,
          "start_time": "2021-05-29T17:26:06.484748",
          "status": "completed"
        },
        "tags": [],
        "id": "zivMum973Xm8",
        "outputId": "7150598a-0266-45d9-9082-ae00a8eacda7"
      },
      "outputs": [
        {
          "name": "stdout",
          "output_type": "stream",
          "text": [
            "Confusion Matrix train\n",
            "============================================================\n",
            "[[326  50]\n",
            " [ 67 180]] \n",
            "\n",
            "Confusion Matrix validation\n",
            "============================================================\n",
            "[[141  32]\n",
            " [ 33  62]] \n",
            "\n",
            "Accuracy of training set\n",
            "============================================================\n",
            "0.812199036918138\n",
            "============================================================\n",
            "Accuracy of validation set\n",
            "============================================================\n",
            "0.7574626865671642\n"
          ]
        }
      ],
      "source": [
        "model_fit(model_RF, X_train, y_train, X_val, y_val, algo='RF without HPT')"
      ]
    },
    {
      "cell_type": "code",
      "execution_count": null,
      "metadata": {
        "execution": {
          "iopub.execute_input": "2021-05-29T17:26:06.874150Z",
          "iopub.status.busy": "2021-05-29T17:26:06.873181Z",
          "iopub.status.idle": "2021-05-29T17:26:06.877003Z",
          "shell.execute_reply": "2021-05-29T17:26:06.876374Z",
          "shell.execute_reply.started": "2021-05-29T17:23:39.069586Z"
        },
        "papermill": {
          "duration": 0.11871,
          "end_time": "2021-05-29T17:26:06.877134",
          "exception": false,
          "start_time": "2021-05-29T17:26:06.758424",
          "status": "completed"
        },
        "tags": [],
        "id": "YK9ZJ7Uc3Xm9"
      },
      "outputs": [],
      "source": [
        "params_RF = {\n",
        "    'n_estimators': [10, 20, 50, 100, 200],\n",
        "    'max_depth': [10, 20, 50, 100, 200],\n",
        "    'min_samples_leaf': [10, 20, 50, 100, 200],\n",
        "    'min_samples_split' : [10, 20, 50, 100, 200],\n",
        "    'criterion': [\"gini\", \"entropy\"]\n",
        "}"
      ]
    },
    {
      "cell_type": "code",
      "execution_count": null,
      "metadata": {
        "execution": {
          "iopub.execute_input": "2021-05-29T17:26:07.096077Z",
          "iopub.status.busy": "2021-05-29T17:26:07.095311Z",
          "iopub.status.idle": "2021-05-29T17:26:10.972741Z",
          "shell.execute_reply": "2021-05-29T17:26:10.972087Z",
          "shell.execute_reply.started": "2021-05-29T17:23:39.078080Z"
        },
        "papermill": {
          "duration": 3.987957,
          "end_time": "2021-05-29T17:26:10.972860",
          "exception": false,
          "start_time": "2021-05-29T17:26:06.984903",
          "status": "completed"
        },
        "tags": [],
        "id": "XquH2H_k3Xm9",
        "outputId": "e74c98a5-dd9d-4db3-9bfc-96bc00fdb58c"
      },
      "outputs": [
        {
          "name": "stdout",
          "output_type": "stream",
          "text": [
            "Fitting 5 folds for each of 10 candidates, totalling 50 fits\n"
          ]
        },
        {
          "name": "stderr",
          "output_type": "stream",
          "text": [
            "[Parallel(n_jobs=-1)]: Using backend LokyBackend with 4 concurrent workers.\n",
            "[Parallel(n_jobs=-1)]: Done  43 out of  50 | elapsed:    2.8s remaining:    0.5s\n",
            "[Parallel(n_jobs=-1)]: Done  50 out of  50 | elapsed:    3.3s finished\n"
          ]
        },
        {
          "name": "stdout",
          "output_type": "stream",
          "text": [
            "\n",
            "\n",
            "best estimator :  RandomForestClassifier(max_depth=10, min_samples_leaf=20, min_samples_split=50,\n",
            "                       n_estimators=200, oob_score=True, random_state=23)\n",
            "best parameters:  {'n_estimators': 200, 'min_samples_split': 50, 'min_samples_leaf': 20, 'max_depth': 10, 'criterion': 'gini'}\n",
            "best score:  0.8598014035087719\n",
            "\n",
            "\n",
            "Confusion Matrix train\n",
            "============================================================\n",
            "[[358  18]\n",
            " [ 90 157]] \n",
            "\n",
            "Confusion Matrix validation\n",
            "============================================================\n",
            "[[162  11]\n",
            " [ 42  53]] \n",
            "\n",
            "Accuracy of training set\n",
            "============================================================\n",
            "0.826645264847512\n",
            "============================================================\n",
            "Accuracy of validation set\n",
            "============================================================\n",
            "0.8022388059701493\n"
          ]
        }
      ],
      "source": [
        "model_fit_evaluation(model_RF, params_RF, X_train, y_train, X_val, y_val, algo='RF with HPT')"
      ]
    },
    {
      "cell_type": "markdown",
      "metadata": {
        "papermill": {
          "duration": 0.110411,
          "end_time": "2021-05-29T17:26:11.192310",
          "exception": false,
          "start_time": "2021-05-29T17:26:11.081899",
          "status": "completed"
        },
        "tags": [],
        "id": "d-ZLgVeo3Xm9"
      },
      "source": [
        "### XGBoost"
      ]
    },
    {
      "cell_type": "code",
      "execution_count": null,
      "metadata": {
        "execution": {
          "iopub.execute_input": "2021-05-29T17:26:11.415750Z",
          "iopub.status.busy": "2021-05-29T17:26:11.414690Z",
          "iopub.status.idle": "2021-05-29T17:26:11.417200Z",
          "shell.execute_reply": "2021-05-29T17:26:11.417698Z",
          "shell.execute_reply.started": "2021-05-29T17:23:43.172579Z"
        },
        "papermill": {
          "duration": 0.117204,
          "end_time": "2021-05-29T17:26:11.417865",
          "exception": false,
          "start_time": "2021-05-29T17:26:11.300661",
          "status": "completed"
        },
        "tags": [],
        "id": "jcMTz8L03Xm9"
      },
      "outputs": [],
      "source": [
        "train_xgb = train_data.copy()\n",
        "test_xgb = test_data.copy()"
      ]
    },
    {
      "cell_type": "code",
      "execution_count": null,
      "metadata": {
        "execution": {
          "iopub.execute_input": "2021-05-29T17:26:11.638888Z",
          "iopub.status.busy": "2021-05-29T17:26:11.637887Z",
          "iopub.status.idle": "2021-05-29T17:26:11.650113Z",
          "shell.execute_reply": "2021-05-29T17:26:11.650604Z",
          "shell.execute_reply.started": "2021-05-29T17:23:43.181046Z"
        },
        "papermill": {
          "duration": 0.124705,
          "end_time": "2021-05-29T17:26:11.650777",
          "exception": false,
          "start_time": "2021-05-29T17:26:11.526072",
          "status": "completed"
        },
        "tags": [],
        "id": "vB_d4vH23Xm9",
        "outputId": "392d6e30-9e3a-4f5b-e802-94fd88ef630d"
      },
      "outputs": [
        {
          "data": {
            "text/plain": [
              "((623, 7), (268, 7), (623,), (268,))"
            ]
          },
          "execution_count": 77,
          "metadata": {},
          "output_type": "execute_result"
        }
      ],
      "source": [
        "X = train_xgb.drop(['PassengerId','Survived'],1)\n",
        "y = train_xgb['Survived']\n",
        "\n",
        "X_train, X_val, y_train, y_val = train_test_split(X, y, test_size=0.3, random_state=23)\n",
        "X_train.shape, X_val.shape, y_train.shape, y_val.shape"
      ]
    },
    {
      "cell_type": "code",
      "execution_count": null,
      "metadata": {
        "execution": {
          "iopub.execute_input": "2021-05-29T17:26:11.876578Z",
          "iopub.status.busy": "2021-05-29T17:26:11.875606Z",
          "iopub.status.idle": "2021-05-29T17:26:11.880298Z",
          "shell.execute_reply": "2021-05-29T17:26:11.880868Z",
          "shell.execute_reply.started": "2021-05-29T17:23:43.200172Z"
        },
        "papermill": {
          "duration": 0.12224,
          "end_time": "2021-05-29T17:26:11.881045",
          "exception": false,
          "start_time": "2021-05-29T17:26:11.758805",
          "status": "completed"
        },
        "tags": [],
        "id": "0yvMUwAL3Xm9"
      },
      "outputs": [],
      "source": [
        "model_XGB = XGBClassifier(random_state=23)"
      ]
    },
    {
      "cell_type": "code",
      "execution_count": null,
      "metadata": {
        "execution": {
          "iopub.execute_input": "2021-05-29T17:26:12.102372Z",
          "iopub.status.busy": "2021-05-29T17:26:12.101271Z",
          "iopub.status.idle": "2021-05-29T17:26:12.157664Z",
          "shell.execute_reply": "2021-05-29T17:26:12.158215Z",
          "shell.execute_reply.started": "2021-05-29T17:23:43.213077Z"
        },
        "papermill": {
          "duration": 0.169053,
          "end_time": "2021-05-29T17:26:12.158434",
          "exception": false,
          "start_time": "2021-05-29T17:26:11.989381",
          "status": "completed"
        },
        "tags": [],
        "id": "SFebBo-O3Xm9",
        "outputId": "d5c54898-24a5-4629-f54b-d99c8a5a2939"
      },
      "outputs": [
        {
          "name": "stdout",
          "output_type": "stream",
          "text": [
            "Confusion Matrix train\n",
            "============================================================\n",
            "[[326  50]\n",
            " [ 67 180]] \n",
            "\n",
            "Confusion Matrix validation\n",
            "============================================================\n",
            "[[141  32]\n",
            " [ 33  62]] \n",
            "\n",
            "Accuracy of training set\n",
            "============================================================\n",
            "0.812199036918138\n",
            "============================================================\n",
            "Accuracy of validation set\n",
            "============================================================\n",
            "0.7574626865671642\n"
          ]
        }
      ],
      "source": [
        "model_fit(model_XGB, X_train, y_train, X_val, y_val, algo='XGB without HPT')"
      ]
    },
    {
      "cell_type": "code",
      "execution_count": null,
      "metadata": {
        "execution": {
          "iopub.execute_input": "2021-05-29T17:26:12.385548Z",
          "iopub.status.busy": "2021-05-29T17:26:12.384500Z",
          "iopub.status.idle": "2021-05-29T17:26:12.388412Z",
          "shell.execute_reply": "2021-05-29T17:26:12.387736Z",
          "shell.execute_reply.started": "2021-05-29T17:23:43.270929Z"
        },
        "papermill": {
          "duration": 0.120292,
          "end_time": "2021-05-29T17:26:12.388535",
          "exception": false,
          "start_time": "2021-05-29T17:26:12.268243",
          "status": "completed"
        },
        "tags": [],
        "id": "3StZMc2l3Xm-"
      },
      "outputs": [],
      "source": [
        "params_XGB = {\n",
        "    'n_estimators': [5, 10, 20, 50, 100, 200, 500],\n",
        "    'max_depth': [5, 10, 20, 50, 100, 200],\n",
        "    'sampling_method': ['uniform','gradient_based'],\n",
        "    'subsample': [0.2, 0.4, 0.5, 0.6, 0.8, 1],\n",
        "    'learning_rate': [0.01,0.05,0.1,0.2,0.3,0.5,1]\n",
        "}"
      ]
    },
    {
      "cell_type": "code",
      "execution_count": null,
      "metadata": {
        "execution": {
          "iopub.execute_input": "2021-05-29T17:26:12.612099Z",
          "iopub.status.busy": "2021-05-29T17:26:12.611182Z",
          "iopub.status.idle": "2021-05-29T17:26:14.139044Z",
          "shell.execute_reply": "2021-05-29T17:26:14.140176Z",
          "shell.execute_reply.started": "2021-05-29T17:23:43.282484Z"
        },
        "papermill": {
          "duration": 1.643117,
          "end_time": "2021-05-29T17:26:14.140418",
          "exception": false,
          "start_time": "2021-05-29T17:26:12.497301",
          "status": "completed"
        },
        "tags": [],
        "id": "r-1IVcPU3Xm-",
        "outputId": "13c03d50-4e66-48f5-e94a-1bdddcaf53ff"
      },
      "outputs": [
        {
          "name": "stdout",
          "output_type": "stream",
          "text": [
            "Fitting 5 folds for each of 10 candidates, totalling 50 fits\n"
          ]
        },
        {
          "name": "stderr",
          "output_type": "stream",
          "text": [
            "[Parallel(n_jobs=-1)]: Using backend LokyBackend with 4 concurrent workers.\n"
          ]
        },
        {
          "name": "stdout",
          "output_type": "stream",
          "text": [
            "\n",
            "\n",
            "best estimator :  XGBClassifier(base_score=0.5, booster='gbtree', colsample_bylevel=1,\n",
            "              colsample_bynode=1, colsample_bytree=1, gamma=0, gpu_id=-1,\n",
            "              importance_type='gain', interaction_constraints='',\n",
            "              learning_rate=0.3, max_delta_step=0, max_depth=50,\n",
            "              min_child_weight=1, missing=nan, monotone_constraints='()',\n",
            "              n_estimators=10, n_jobs=0, num_parallel_tree=1, random_state=23,\n",
            "              reg_alpha=0, reg_lambda=1, sampling_method='uniform',\n",
            "              scale_pos_weight=1, subsample=1, tree_method='exact',\n",
            "              validate_parameters=1, verbosity=None)\n",
            "best parameters:  {'subsample': 1, 'sampling_method': 'uniform', 'n_estimators': 10, 'max_depth': 50, 'learning_rate': 0.3}\n",
            "best score:  0.8740638739706409\n",
            "\n",
            "\n",
            "Confusion Matrix train\n",
            "============================================================\n",
            "[[360  16]\n",
            " [ 38 209]] \n",
            "\n",
            "Confusion Matrix validation\n",
            "============================================================\n",
            "[[154  19]\n",
            " [ 28  67]] \n",
            "\n",
            "Accuracy of training set\n",
            "============================================================\n",
            "0.913322632423756\n",
            "============================================================\n",
            "Accuracy of validation set\n",
            "============================================================\n",
            "0.8246268656716418\n"
          ]
        },
        {
          "name": "stderr",
          "output_type": "stream",
          "text": [
            "[Parallel(n_jobs=-1)]: Done  43 out of  50 | elapsed:    1.4s remaining:    0.2s\n",
            "[Parallel(n_jobs=-1)]: Done  50 out of  50 | elapsed:    1.5s finished\n"
          ]
        }
      ],
      "source": [
        "model_fit_evaluation(model_XGB, params_XGB, X_train, y_train, X_val, y_val, algo='XGB with HPT')"
      ]
    },
    {
      "cell_type": "markdown",
      "metadata": {
        "papermill": {
          "duration": 0.11891,
          "end_time": "2021-05-29T17:26:14.406053",
          "exception": false,
          "start_time": "2021-05-29T17:26:14.287143",
          "status": "completed"
        },
        "tags": [],
        "id": "H8KsLPlE3Xm-"
      },
      "source": [
        "### Model_Evaluation"
      ]
    },
    {
      "cell_type": "code",
      "execution_count": null,
      "metadata": {
        "execution": {
          "iopub.execute_input": "2021-05-29T17:26:14.641691Z",
          "iopub.status.busy": "2021-05-29T17:26:14.641008Z",
          "iopub.status.idle": "2021-05-29T17:26:14.645220Z",
          "shell.execute_reply": "2021-05-29T17:26:14.645770Z",
          "shell.execute_reply.started": "2021-05-29T17:23:44.866320Z"
        },
        "papermill": {
          "duration": 0.12825,
          "end_time": "2021-05-29T17:26:14.645936",
          "exception": false,
          "start_time": "2021-05-29T17:26:14.517686",
          "status": "completed"
        },
        "tags": [],
        "id": "JoZWmtcR3Xm-",
        "outputId": "64c1d0c2-8481-438b-d686-5b9d26de3c61"
      },
      "outputs": [
        {
          "data": {
            "text/html": [
              "<div>\n",
              "<style scoped>\n",
              "    .dataframe tbody tr th:only-of-type {\n",
              "        vertical-align: middle;\n",
              "    }\n",
              "\n",
              "    .dataframe tbody tr th {\n",
              "        vertical-align: top;\n",
              "    }\n",
              "\n",
              "    .dataframe thead th {\n",
              "        text-align: right;\n",
              "    }\n",
              "</style>\n",
              "<table border=\"1\" class=\"dataframe\">\n",
              "  <thead>\n",
              "    <tr style=\"text-align: right;\">\n",
              "      <th></th>\n",
              "      <th>model</th>\n",
              "      <th>train_acc</th>\n",
              "      <th>val_acc</th>\n",
              "    </tr>\n",
              "  </thead>\n",
              "  <tbody>\n",
              "    <tr>\n",
              "      <th>0</th>\n",
              "      <td>LR without HPT</td>\n",
              "      <td>0.813804</td>\n",
              "      <td>0.764925</td>\n",
              "    </tr>\n",
              "    <tr>\n",
              "      <th>1</th>\n",
              "      <td>LR with HPT</td>\n",
              "      <td>0.812199</td>\n",
              "      <td>0.772388</td>\n",
              "    </tr>\n",
              "    <tr>\n",
              "      <th>2</th>\n",
              "      <td>DT without HPT</td>\n",
              "      <td>0.812199</td>\n",
              "      <td>0.757463</td>\n",
              "    </tr>\n",
              "    <tr>\n",
              "      <th>3</th>\n",
              "      <td>DT with HPT</td>\n",
              "      <td>0.826645</td>\n",
              "      <td>0.791045</td>\n",
              "    </tr>\n",
              "    <tr>\n",
              "      <th>4</th>\n",
              "      <td>RF without HPT</td>\n",
              "      <td>0.812199</td>\n",
              "      <td>0.757463</td>\n",
              "    </tr>\n",
              "    <tr>\n",
              "      <th>5</th>\n",
              "      <td>RF with HPT</td>\n",
              "      <td>0.826645</td>\n",
              "      <td>0.802239</td>\n",
              "    </tr>\n",
              "    <tr>\n",
              "      <th>6</th>\n",
              "      <td>XGB without HPT</td>\n",
              "      <td>0.812199</td>\n",
              "      <td>0.757463</td>\n",
              "    </tr>\n",
              "    <tr>\n",
              "      <th>7</th>\n",
              "      <td>XGB with HPT</td>\n",
              "      <td>0.913323</td>\n",
              "      <td>0.824627</td>\n",
              "    </tr>\n",
              "  </tbody>\n",
              "</table>\n",
              "</div>"
            ],
            "text/plain": [
              "             model  train_acc   val_acc\n",
              "0   LR without HPT   0.813804  0.764925\n",
              "1      LR with HPT   0.812199  0.772388\n",
              "2   DT without HPT   0.812199  0.757463\n",
              "3      DT with HPT   0.826645  0.791045\n",
              "4   RF without HPT   0.812199  0.757463\n",
              "5      RF with HPT   0.826645  0.802239\n",
              "6  XGB without HPT   0.812199  0.757463\n",
              "7     XGB with HPT   0.913323  0.824627"
            ]
          },
          "execution_count": 82,
          "metadata": {},
          "output_type": "execute_result"
        }
      ],
      "source": [
        "eval_df = pd.DataFrame({'model': model_algos, 'train_acc': train_accuracy, 'val_acc': val_accuracy})\n",
        "eval_df"
      ]
    },
    {
      "cell_type": "markdown",
      "metadata": {
        "papermill": {
          "duration": 0.110482,
          "end_time": "2021-05-29T17:26:14.866962",
          "exception": false,
          "start_time": "2021-05-29T17:26:14.756480",
          "status": "completed"
        },
        "tags": [],
        "id": "08VK0dqD3Xm-"
      },
      "source": [
        "### Running again with XGBoost with perfect parameters on entire train set"
      ]
    },
    {
      "cell_type": "code",
      "execution_count": null,
      "metadata": {
        "execution": {
          "iopub.execute_input": "2021-05-29T17:26:15.091549Z",
          "iopub.status.busy": "2021-05-29T17:26:15.090823Z",
          "iopub.status.idle": "2021-05-29T17:26:19.144970Z",
          "shell.execute_reply": "2021-05-29T17:26:19.144142Z",
          "shell.execute_reply.started": "2021-05-29T17:23:44.883240Z"
        },
        "papermill": {
          "duration": 4.167938,
          "end_time": "2021-05-29T17:26:19.145134",
          "exception": false,
          "start_time": "2021-05-29T17:26:14.977196",
          "status": "completed"
        },
        "tags": [],
        "id": "JA1kZVMa3Xm-",
        "outputId": "9f680ad4-b842-44f9-b83d-f80cdb1e2c7a"
      },
      "outputs": [
        {
          "name": "stdout",
          "output_type": "stream",
          "text": [
            "Fitting 5 folds for each of 10 candidates, totalling 50 fits\n"
          ]
        },
        {
          "name": "stderr",
          "output_type": "stream",
          "text": [
            "[Parallel(n_jobs=-1)]: Using backend LokyBackend with 4 concurrent workers.\n",
            "[Parallel(n_jobs=-1)]: Done  43 out of  50 | elapsed:    2.9s remaining:    0.5s\n",
            "[Parallel(n_jobs=-1)]: Done  50 out of  50 | elapsed:    3.5s finished\n"
          ]
        },
        {
          "name": "stdout",
          "output_type": "stream",
          "text": [
            "\n",
            "\n",
            "best estimator :  RandomForestClassifier(max_depth=10, min_samples_leaf=20, min_samples_split=50,\n",
            "                       n_estimators=200, oob_score=True, random_state=23)\n",
            "best parameters:  {'n_estimators': 200, 'min_samples_split': 50, 'min_samples_leaf': 20, 'max_depth': 10, 'criterion': 'gini'}\n",
            "best score:  0.8556053229211328\n",
            "\n",
            "\n",
            "Confusion Matrix train\n",
            "============================================================\n",
            "[[520  29]\n",
            " [120 222]] \n",
            "\n",
            "Accuracy of training set\n",
            "============================================================\n",
            "0.8327721661054994\n"
          ]
        }
      ],
      "source": [
        "# model_RF = RandomForestClassifier( n_estimators=200, criterion: 'gini', max_depth=10, min_samples_split=50, min_samples_leaf=20, n_jobs=-1, random_state=23, verbose=1)\n",
        "rcv = RandomizedSearchCV(model_RF, params_RF, cv=5, scoring='roc_auc', n_jobs=-1, verbose=1, random_state=23)\n",
        "rcv.fit(X, y)\n",
        "\n",
        "print('\\n')\n",
        "print('best estimator : ', rcv.best_estimator_)\n",
        "print('best parameters: ', rcv.best_params_)\n",
        "print('best score: ', rcv.best_score_)\n",
        "print('\\n')\n",
        "\n",
        "# Prediction    \n",
        "y_train_pred=(rcv.best_estimator_).predict(X)\n",
        "acc_train = accuracy_score(y, y_train_pred)\n",
        "matrix_train = confusion_matrix(y, y_train_pred)\n",
        "\n",
        "print('Confusion Matrix train')\n",
        "print('='*60)\n",
        "print(matrix_train,\"\\n\")\n",
        "print('Accuracy of training set')\n",
        "print('='*60)\n",
        "print(acc_train)"
      ]
    },
    {
      "cell_type": "markdown",
      "metadata": {
        "papermill": {
          "duration": 0.113061,
          "end_time": "2021-05-29T17:26:19.372698",
          "exception": false,
          "start_time": "2021-05-29T17:26:19.259637",
          "status": "completed"
        },
        "tags": [],
        "id": "YbRvHWHR3Xm_"
      },
      "source": [
        "We can see here that train accuracy for whole training data set is 0.83 with ROC of 0.86."
      ]
    },
    {
      "cell_type": "markdown",
      "metadata": {
        "papermill": {
          "duration": 0.113511,
          "end_time": "2021-05-29T17:26:19.599055",
          "exception": false,
          "start_time": "2021-05-29T17:26:19.485544",
          "status": "completed"
        },
        "tags": [],
        "id": "6CoyzcFR3Xm_"
      },
      "source": [
        "### Feature importance variable using Random forest with hyperparameter tuning"
      ]
    },
    {
      "cell_type": "code",
      "execution_count": null,
      "metadata": {
        "execution": {
          "iopub.execute_input": "2021-05-29T17:26:19.990747Z",
          "iopub.status.busy": "2021-05-29T17:26:19.990039Z",
          "iopub.status.idle": "2021-05-29T17:26:19.996995Z",
          "shell.execute_reply": "2021-05-29T17:26:19.996425Z",
          "shell.execute_reply.started": "2021-05-29T17:23:49.458714Z"
        },
        "papermill": {
          "duration": 0.28491,
          "end_time": "2021-05-29T17:26:19.997119",
          "exception": false,
          "start_time": "2021-05-29T17:26:19.712209",
          "status": "completed"
        },
        "tags": [],
        "id": "h8xqBrXi3Xm_",
        "outputId": "9a465635-c9fb-4726-a294-2a4137669848"
      },
      "outputs": [
        {
          "data": {
            "text/plain": [
              "array([0.15866381, 0.07040665, 0.16812089, 0.06791769, 0.50650109,\n",
              "       0.00707958, 0.02131029])"
            ]
          },
          "execution_count": 84,
          "metadata": {},
          "output_type": "execute_result"
        }
      ],
      "source": [
        "feature = rcv.best_estimator_\n",
        "feature.feature_importances_"
      ]
    },
    {
      "cell_type": "code",
      "execution_count": null,
      "metadata": {
        "execution": {
          "iopub.execute_input": "2021-05-29T17:26:20.258038Z",
          "iopub.status.busy": "2021-05-29T17:26:20.250625Z",
          "iopub.status.idle": "2021-05-29T17:26:20.263091Z",
          "shell.execute_reply": "2021-05-29T17:26:20.262533Z",
          "shell.execute_reply.started": "2021-05-29T17:23:49.488985Z"
        },
        "papermill": {
          "duration": 0.151238,
          "end_time": "2021-05-29T17:26:20.263213",
          "exception": false,
          "start_time": "2021-05-29T17:26:20.111975",
          "status": "completed"
        },
        "tags": [],
        "id": "yUUGCNB83Xm_",
        "outputId": "3499d418-fcee-4cd3-a54a-acdae377076e"
      },
      "outputs": [
        {
          "data": {
            "text/html": [
              "<div>\n",
              "<style scoped>\n",
              "    .dataframe tbody tr th:only-of-type {\n",
              "        vertical-align: middle;\n",
              "    }\n",
              "\n",
              "    .dataframe tbody tr th {\n",
              "        vertical-align: top;\n",
              "    }\n",
              "\n",
              "    .dataframe thead th {\n",
              "        text-align: right;\n",
              "    }\n",
              "</style>\n",
              "<table border=\"1\" class=\"dataframe\">\n",
              "  <thead>\n",
              "    <tr style=\"text-align: right;\">\n",
              "      <th></th>\n",
              "      <th>Varname</th>\n",
              "      <th>feature_imp</th>\n",
              "    </tr>\n",
              "  </thead>\n",
              "  <tbody>\n",
              "    <tr>\n",
              "      <th>4</th>\n",
              "      <td>x0_male</td>\n",
              "      <td>0.506501</td>\n",
              "    </tr>\n",
              "    <tr>\n",
              "      <th>2</th>\n",
              "      <td>Fare</td>\n",
              "      <td>0.168121</td>\n",
              "    </tr>\n",
              "    <tr>\n",
              "      <th>0</th>\n",
              "      <td>Pclass</td>\n",
              "      <td>0.158664</td>\n",
              "    </tr>\n",
              "    <tr>\n",
              "      <th>1</th>\n",
              "      <td>Age</td>\n",
              "      <td>0.070407</td>\n",
              "    </tr>\n",
              "    <tr>\n",
              "      <th>3</th>\n",
              "      <td>Family_size</td>\n",
              "      <td>0.067918</td>\n",
              "    </tr>\n",
              "    <tr>\n",
              "      <th>6</th>\n",
              "      <td>x1_S</td>\n",
              "      <td>0.021310</td>\n",
              "    </tr>\n",
              "    <tr>\n",
              "      <th>5</th>\n",
              "      <td>x1_Q</td>\n",
              "      <td>0.007080</td>\n",
              "    </tr>\n",
              "  </tbody>\n",
              "</table>\n",
              "</div>"
            ],
            "text/plain": [
              "       Varname  feature_imp\n",
              "4      x0_male     0.506501\n",
              "2         Fare     0.168121\n",
              "0       Pclass     0.158664\n",
              "1          Age     0.070407\n",
              "3  Family_size     0.067918\n",
              "6         x1_S     0.021310\n",
              "5         x1_Q     0.007080"
            ]
          },
          "execution_count": 85,
          "metadata": {},
          "output_type": "execute_result"
        }
      ],
      "source": [
        "final_df = pd.DataFrame({'Varname': X.columns, 'feature_imp':feature.feature_importances_})\n",
        "final_df.sort_values(by='feature_imp', ascending=False)"
      ]
    },
    {
      "cell_type": "code",
      "execution_count": null,
      "metadata": {
        "execution": {
          "iopub.execute_input": "2021-05-29T17:26:20.500388Z",
          "iopub.status.busy": "2021-05-29T17:26:20.499643Z",
          "iopub.status.idle": "2021-05-29T17:26:20.504253Z",
          "shell.execute_reply": "2021-05-29T17:26:20.503708Z",
          "shell.execute_reply.started": "2021-05-29T17:23:49.527780Z"
        },
        "papermill": {
          "duration": 0.128639,
          "end_time": "2021-05-29T17:26:20.504393",
          "exception": false,
          "start_time": "2021-05-29T17:26:20.375754",
          "status": "completed"
        },
        "tags": [],
        "id": "FgX4qJRH3Xm_",
        "outputId": "6c38b7e5-1355-4a8a-f117-0a12a9efb9d4"
      },
      "outputs": [
        {
          "data": {
            "text/html": [
              "<div>\n",
              "<style scoped>\n",
              "    .dataframe tbody tr th:only-of-type {\n",
              "        vertical-align: middle;\n",
              "    }\n",
              "\n",
              "    .dataframe tbody tr th {\n",
              "        vertical-align: top;\n",
              "    }\n",
              "\n",
              "    .dataframe thead th {\n",
              "        text-align: right;\n",
              "    }\n",
              "</style>\n",
              "<table border=\"1\" class=\"dataframe\">\n",
              "  <thead>\n",
              "    <tr style=\"text-align: right;\">\n",
              "      <th></th>\n",
              "      <th>PassengerId</th>\n",
              "      <th>Survived</th>\n",
              "      <th>Pclass</th>\n",
              "      <th>Age</th>\n",
              "      <th>Fare</th>\n",
              "      <th>Family_size</th>\n",
              "      <th>x0_male</th>\n",
              "      <th>x1_Q</th>\n",
              "      <th>x1_S</th>\n",
              "    </tr>\n",
              "  </thead>\n",
              "  <tbody>\n",
              "    <tr>\n",
              "      <th>0</th>\n",
              "      <td>1</td>\n",
              "      <td>0</td>\n",
              "      <td>3</td>\n",
              "      <td>22.0</td>\n",
              "      <td>7.2500</td>\n",
              "      <td>2</td>\n",
              "      <td>1</td>\n",
              "      <td>0</td>\n",
              "      <td>1</td>\n",
              "    </tr>\n",
              "    <tr>\n",
              "      <th>1</th>\n",
              "      <td>2</td>\n",
              "      <td>1</td>\n",
              "      <td>1</td>\n",
              "      <td>38.0</td>\n",
              "      <td>71.2833</td>\n",
              "      <td>2</td>\n",
              "      <td>0</td>\n",
              "      <td>0</td>\n",
              "      <td>0</td>\n",
              "    </tr>\n",
              "    <tr>\n",
              "      <th>2</th>\n",
              "      <td>3</td>\n",
              "      <td>1</td>\n",
              "      <td>3</td>\n",
              "      <td>26.0</td>\n",
              "      <td>7.9250</td>\n",
              "      <td>1</td>\n",
              "      <td>0</td>\n",
              "      <td>0</td>\n",
              "      <td>1</td>\n",
              "    </tr>\n",
              "    <tr>\n",
              "      <th>3</th>\n",
              "      <td>4</td>\n",
              "      <td>1</td>\n",
              "      <td>1</td>\n",
              "      <td>35.0</td>\n",
              "      <td>53.1000</td>\n",
              "      <td>2</td>\n",
              "      <td>0</td>\n",
              "      <td>0</td>\n",
              "      <td>1</td>\n",
              "    </tr>\n",
              "    <tr>\n",
              "      <th>4</th>\n",
              "      <td>5</td>\n",
              "      <td>0</td>\n",
              "      <td>3</td>\n",
              "      <td>35.0</td>\n",
              "      <td>8.0500</td>\n",
              "      <td>1</td>\n",
              "      <td>1</td>\n",
              "      <td>0</td>\n",
              "      <td>1</td>\n",
              "    </tr>\n",
              "  </tbody>\n",
              "</table>\n",
              "</div>"
            ],
            "text/plain": [
              "   PassengerId  Survived  Pclass   Age     Fare  Family_size  x0_male  x1_Q  x1_S\n",
              "0            1         0       3  22.0   7.2500            2        1     0     1\n",
              "1            2         1       1  38.0  71.2833            2        0     0     0\n",
              "2            3         1       3  26.0   7.9250            1        0     0     1\n",
              "3            4         1       1  35.0  53.1000            2        0     0     1\n",
              "4            5         0       3  35.0   8.0500            1        1     0     1"
            ]
          },
          "execution_count": 86,
          "metadata": {},
          "output_type": "execute_result"
        }
      ],
      "source": [
        "train_data.head()"
      ]
    },
    {
      "cell_type": "code",
      "execution_count": null,
      "metadata": {
        "execution": {
          "iopub.execute_input": "2021-05-29T17:26:20.745256Z",
          "iopub.status.busy": "2021-05-29T17:26:20.744461Z",
          "iopub.status.idle": "2021-05-29T17:26:20.748800Z",
          "shell.execute_reply": "2021-05-29T17:26:20.748116Z",
          "shell.execute_reply.started": "2021-05-29T17:23:49.549316Z"
        },
        "papermill": {
          "duration": 0.130714,
          "end_time": "2021-05-29T17:26:20.748935",
          "exception": false,
          "start_time": "2021-05-29T17:26:20.618221",
          "status": "completed"
        },
        "tags": [],
        "id": "SrQtTwr13Xm_",
        "outputId": "9c6871bb-9dae-46a3-cbcd-2c44a2e7445b"
      },
      "outputs": [
        {
          "data": {
            "text/html": [
              "<div>\n",
              "<style scoped>\n",
              "    .dataframe tbody tr th:only-of-type {\n",
              "        vertical-align: middle;\n",
              "    }\n",
              "\n",
              "    .dataframe tbody tr th {\n",
              "        vertical-align: top;\n",
              "    }\n",
              "\n",
              "    .dataframe thead th {\n",
              "        text-align: right;\n",
              "    }\n",
              "</style>\n",
              "<table border=\"1\" class=\"dataframe\">\n",
              "  <thead>\n",
              "    <tr style=\"text-align: right;\">\n",
              "      <th></th>\n",
              "      <th>PassengerId</th>\n",
              "      <th>Survived</th>\n",
              "      <th>Pclass</th>\n",
              "      <th>Fare</th>\n",
              "      <th>Family_size</th>\n",
              "      <th>x0_male</th>\n",
              "      <th>x1_Q</th>\n",
              "      <th>x1_S</th>\n",
              "      <th>age_bins</th>\n",
              "    </tr>\n",
              "  </thead>\n",
              "  <tbody>\n",
              "    <tr>\n",
              "      <th>0</th>\n",
              "      <td>1</td>\n",
              "      <td>0</td>\n",
              "      <td>3</td>\n",
              "      <td>7.2500</td>\n",
              "      <td>2</td>\n",
              "      <td>1</td>\n",
              "      <td>0</td>\n",
              "      <td>1</td>\n",
              "      <td>2</td>\n",
              "    </tr>\n",
              "    <tr>\n",
              "      <th>1</th>\n",
              "      <td>2</td>\n",
              "      <td>1</td>\n",
              "      <td>1</td>\n",
              "      <td>71.2833</td>\n",
              "      <td>2</td>\n",
              "      <td>0</td>\n",
              "      <td>0</td>\n",
              "      <td>0</td>\n",
              "      <td>3</td>\n",
              "    </tr>\n",
              "    <tr>\n",
              "      <th>2</th>\n",
              "      <td>3</td>\n",
              "      <td>1</td>\n",
              "      <td>3</td>\n",
              "      <td>7.9250</td>\n",
              "      <td>1</td>\n",
              "      <td>0</td>\n",
              "      <td>0</td>\n",
              "      <td>1</td>\n",
              "      <td>2</td>\n",
              "    </tr>\n",
              "    <tr>\n",
              "      <th>3</th>\n",
              "      <td>4</td>\n",
              "      <td>1</td>\n",
              "      <td>1</td>\n",
              "      <td>53.1000</td>\n",
              "      <td>2</td>\n",
              "      <td>0</td>\n",
              "      <td>0</td>\n",
              "      <td>1</td>\n",
              "      <td>2</td>\n",
              "    </tr>\n",
              "    <tr>\n",
              "      <th>4</th>\n",
              "      <td>5</td>\n",
              "      <td>0</td>\n",
              "      <td>3</td>\n",
              "      <td>8.0500</td>\n",
              "      <td>1</td>\n",
              "      <td>1</td>\n",
              "      <td>0</td>\n",
              "      <td>1</td>\n",
              "      <td>2</td>\n",
              "    </tr>\n",
              "  </tbody>\n",
              "</table>\n",
              "</div>"
            ],
            "text/plain": [
              "   PassengerId  Survived  Pclass     Fare  Family_size  x0_male  x1_Q  x1_S  age_bins\n",
              "0            1         0       3   7.2500            2        1     0     1         2\n",
              "1            2         1       1  71.2833            2        0     0     0         3\n",
              "2            3         1       3   7.9250            1        0     0     1         2\n",
              "3            4         1       1  53.1000            2        0     0     1         2\n",
              "4            5         0       3   8.0500            1        1     0     1         2"
            ]
          },
          "execution_count": 87,
          "metadata": {},
          "output_type": "execute_result"
        }
      ],
      "source": [
        "df_train.head()"
      ]
    },
    {
      "cell_type": "code",
      "execution_count": null,
      "metadata": {
        "execution": {
          "iopub.execute_input": "2021-05-29T17:26:20.993682Z",
          "iopub.status.busy": "2021-05-29T17:26:20.992744Z",
          "iopub.status.idle": "2021-05-29T17:26:20.997726Z",
          "shell.execute_reply": "2021-05-29T17:26:20.997028Z",
          "shell.execute_reply.started": "2021-05-29T17:23:49.571498Z"
        },
        "papermill": {
          "duration": 0.132681,
          "end_time": "2021-05-29T17:26:20.997860",
          "exception": false,
          "start_time": "2021-05-29T17:26:20.865179",
          "status": "completed"
        },
        "tags": [],
        "id": "DJony9jm3Xm_",
        "outputId": "64632899-1091-46d5-d2ad-44c051ed88d9"
      },
      "outputs": [
        {
          "data": {
            "text/html": [
              "<div>\n",
              "<style scoped>\n",
              "    .dataframe tbody tr th:only-of-type {\n",
              "        vertical-align: middle;\n",
              "    }\n",
              "\n",
              "    .dataframe tbody tr th {\n",
              "        vertical-align: top;\n",
              "    }\n",
              "\n",
              "    .dataframe thead th {\n",
              "        text-align: right;\n",
              "    }\n",
              "</style>\n",
              "<table border=\"1\" class=\"dataframe\">\n",
              "  <thead>\n",
              "    <tr style=\"text-align: right;\">\n",
              "      <th></th>\n",
              "      <th>PassengerId</th>\n",
              "      <th>Pclass</th>\n",
              "      <th>Age</th>\n",
              "      <th>Fare</th>\n",
              "      <th>Family_size</th>\n",
              "      <th>x0_male</th>\n",
              "      <th>x1_Q</th>\n",
              "      <th>x1_S</th>\n",
              "    </tr>\n",
              "  </thead>\n",
              "  <tbody>\n",
              "    <tr>\n",
              "      <th>0</th>\n",
              "      <td>892</td>\n",
              "      <td>3</td>\n",
              "      <td>34.5</td>\n",
              "      <td>7.8292</td>\n",
              "      <td>1</td>\n",
              "      <td>1</td>\n",
              "      <td>1</td>\n",
              "      <td>0</td>\n",
              "    </tr>\n",
              "    <tr>\n",
              "      <th>1</th>\n",
              "      <td>893</td>\n",
              "      <td>3</td>\n",
              "      <td>47.0</td>\n",
              "      <td>7.0000</td>\n",
              "      <td>2</td>\n",
              "      <td>0</td>\n",
              "      <td>0</td>\n",
              "      <td>1</td>\n",
              "    </tr>\n",
              "    <tr>\n",
              "      <th>2</th>\n",
              "      <td>894</td>\n",
              "      <td>2</td>\n",
              "      <td>62.0</td>\n",
              "      <td>9.6875</td>\n",
              "      <td>1</td>\n",
              "      <td>1</td>\n",
              "      <td>1</td>\n",
              "      <td>0</td>\n",
              "    </tr>\n",
              "    <tr>\n",
              "      <th>3</th>\n",
              "      <td>895</td>\n",
              "      <td>3</td>\n",
              "      <td>27.0</td>\n",
              "      <td>8.6625</td>\n",
              "      <td>1</td>\n",
              "      <td>1</td>\n",
              "      <td>0</td>\n",
              "      <td>1</td>\n",
              "    </tr>\n",
              "    <tr>\n",
              "      <th>4</th>\n",
              "      <td>896</td>\n",
              "      <td>3</td>\n",
              "      <td>22.0</td>\n",
              "      <td>12.2875</td>\n",
              "      <td>3</td>\n",
              "      <td>0</td>\n",
              "      <td>0</td>\n",
              "      <td>1</td>\n",
              "    </tr>\n",
              "  </tbody>\n",
              "</table>\n",
              "</div>"
            ],
            "text/plain": [
              "   PassengerId  Pclass   Age     Fare  Family_size  x0_male  x1_Q  x1_S\n",
              "0          892       3  34.5   7.8292            1        1     1     0\n",
              "1          893       3  47.0   7.0000            2        0     0     1\n",
              "2          894       2  62.0   9.6875            1        1     1     0\n",
              "3          895       3  27.0   8.6625            1        1     0     1\n",
              "4          896       3  22.0  12.2875            3        0     0     1"
            ]
          },
          "execution_count": 88,
          "metadata": {},
          "output_type": "execute_result"
        }
      ],
      "source": [
        "test_data.head()"
      ]
    },
    {
      "cell_type": "code",
      "execution_count": null,
      "metadata": {
        "execution": {
          "iopub.execute_input": "2021-05-29T17:26:21.243882Z",
          "iopub.status.busy": "2021-05-29T17:26:21.242624Z",
          "iopub.status.idle": "2021-05-29T17:26:21.249016Z",
          "shell.execute_reply": "2021-05-29T17:26:21.248485Z",
          "shell.execute_reply.started": "2021-05-29T17:23:49.597151Z"
        },
        "papermill": {
          "duration": 0.135097,
          "end_time": "2021-05-29T17:26:21.249138",
          "exception": false,
          "start_time": "2021-05-29T17:26:21.114041",
          "status": "completed"
        },
        "tags": [],
        "id": "3F_leKfg3XnA",
        "outputId": "375bd9e2-b8bd-4f7e-dc10-4ba0a500acbf"
      },
      "outputs": [
        {
          "data": {
            "text/html": [
              "<div>\n",
              "<style scoped>\n",
              "    .dataframe tbody tr th:only-of-type {\n",
              "        vertical-align: middle;\n",
              "    }\n",
              "\n",
              "    .dataframe tbody tr th {\n",
              "        vertical-align: top;\n",
              "    }\n",
              "\n",
              "    .dataframe thead th {\n",
              "        text-align: right;\n",
              "    }\n",
              "</style>\n",
              "<table border=\"1\" class=\"dataframe\">\n",
              "  <thead>\n",
              "    <tr style=\"text-align: right;\">\n",
              "      <th></th>\n",
              "      <th>PassengerId</th>\n",
              "      <th>Pclass</th>\n",
              "      <th>Fare</th>\n",
              "      <th>Family_size</th>\n",
              "      <th>x0_male</th>\n",
              "      <th>x1_Q</th>\n",
              "      <th>x1_S</th>\n",
              "      <th>age_bins</th>\n",
              "    </tr>\n",
              "  </thead>\n",
              "  <tbody>\n",
              "    <tr>\n",
              "      <th>0</th>\n",
              "      <td>892</td>\n",
              "      <td>3</td>\n",
              "      <td>7.8292</td>\n",
              "      <td>1</td>\n",
              "      <td>1</td>\n",
              "      <td>1</td>\n",
              "      <td>0</td>\n",
              "      <td>2</td>\n",
              "    </tr>\n",
              "    <tr>\n",
              "      <th>1</th>\n",
              "      <td>893</td>\n",
              "      <td>3</td>\n",
              "      <td>7.0000</td>\n",
              "      <td>2</td>\n",
              "      <td>0</td>\n",
              "      <td>0</td>\n",
              "      <td>1</td>\n",
              "      <td>3</td>\n",
              "    </tr>\n",
              "    <tr>\n",
              "      <th>2</th>\n",
              "      <td>894</td>\n",
              "      <td>2</td>\n",
              "      <td>9.6875</td>\n",
              "      <td>1</td>\n",
              "      <td>1</td>\n",
              "      <td>1</td>\n",
              "      <td>0</td>\n",
              "      <td>4</td>\n",
              "    </tr>\n",
              "    <tr>\n",
              "      <th>3</th>\n",
              "      <td>895</td>\n",
              "      <td>3</td>\n",
              "      <td>8.6625</td>\n",
              "      <td>1</td>\n",
              "      <td>1</td>\n",
              "      <td>0</td>\n",
              "      <td>1</td>\n",
              "      <td>2</td>\n",
              "    </tr>\n",
              "    <tr>\n",
              "      <th>4</th>\n",
              "      <td>896</td>\n",
              "      <td>3</td>\n",
              "      <td>12.2875</td>\n",
              "      <td>3</td>\n",
              "      <td>0</td>\n",
              "      <td>0</td>\n",
              "      <td>1</td>\n",
              "      <td>2</td>\n",
              "    </tr>\n",
              "  </tbody>\n",
              "</table>\n",
              "</div>"
            ],
            "text/plain": [
              "   PassengerId  Pclass     Fare  Family_size  x0_male  x1_Q  x1_S  age_bins\n",
              "0          892       3   7.8292            1        1     1     0         2\n",
              "1          893       3   7.0000            2        0     0     1         3\n",
              "2          894       2   9.6875            1        1     1     0         4\n",
              "3          895       3   8.6625            1        1     0     1         2\n",
              "4          896       3  12.2875            3        0     0     1         2"
            ]
          },
          "execution_count": 89,
          "metadata": {},
          "output_type": "execute_result"
        }
      ],
      "source": [
        "df_test.head()"
      ]
    },
    {
      "cell_type": "markdown",
      "metadata": {
        "papermill": {
          "duration": 0.116883,
          "end_time": "2021-05-29T17:26:21.484565",
          "exception": false,
          "start_time": "2021-05-29T17:26:21.367682",
          "status": "completed"
        },
        "tags": [],
        "id": "uRUcz2rD3XnA"
      },
      "source": [
        "### Creating submission file"
      ]
    },
    {
      "cell_type": "code",
      "execution_count": null,
      "metadata": {
        "execution": {
          "iopub.execute_input": "2021-05-29T17:26:21.723538Z",
          "iopub.status.busy": "2021-05-29T17:26:21.722465Z",
          "iopub.status.idle": "2021-05-29T17:26:21.756703Z",
          "shell.execute_reply": "2021-05-29T17:26:21.757165Z",
          "shell.execute_reply.started": "2021-05-29T17:23:49.614310Z"
        },
        "papermill": {
          "duration": 0.157246,
          "end_time": "2021-05-29T17:26:21.757335",
          "exception": false,
          "start_time": "2021-05-29T17:26:21.600089",
          "status": "completed"
        },
        "tags": [],
        "id": "Va01vUiw3XnA",
        "outputId": "c4dedeca-47c4-4a12-dee7-0d7b76035795"
      },
      "outputs": [
        {
          "data": {
            "text/plain": [
              "(418, 2)"
            ]
          },
          "execution_count": 90,
          "metadata": {},
          "output_type": "execute_result"
        }
      ],
      "source": [
        "#Final prediction\n",
        "predictions = feature.predict(test_data.drop('PassengerId', axis=1))\n",
        "\n",
        "#set the output as a dataframe and convert to csv file named submission.csv\n",
        "submission = pd.DataFrame({ 'PassengerId' : test_data['PassengerId'], 'Survived': predictions })\n",
        "submission.shape"
      ]
    },
    {
      "cell_type": "code",
      "execution_count": null,
      "metadata": {
        "execution": {
          "iopub.execute_input": "2021-05-29T17:26:21.996287Z",
          "iopub.status.busy": "2021-05-29T17:26:21.995216Z",
          "iopub.status.idle": "2021-05-29T17:26:22.006226Z",
          "shell.execute_reply": "2021-05-29T17:26:22.005711Z",
          "shell.execute_reply.started": "2021-05-29T17:23:49.659329Z"
        },
        "papermill": {
          "duration": 0.130159,
          "end_time": "2021-05-29T17:26:22.006380",
          "exception": false,
          "start_time": "2021-05-29T17:26:21.876221",
          "status": "completed"
        },
        "tags": [],
        "id": "OIfdU8g03XnA",
        "outputId": "c425a4a9-03cf-4a37-ce81-47f7e454cb20"
      },
      "outputs": [
        {
          "data": {
            "text/html": [
              "<div>\n",
              "<style scoped>\n",
              "    .dataframe tbody tr th:only-of-type {\n",
              "        vertical-align: middle;\n",
              "    }\n",
              "\n",
              "    .dataframe tbody tr th {\n",
              "        vertical-align: top;\n",
              "    }\n",
              "\n",
              "    .dataframe thead th {\n",
              "        text-align: right;\n",
              "    }\n",
              "</style>\n",
              "<table border=\"1\" class=\"dataframe\">\n",
              "  <thead>\n",
              "    <tr style=\"text-align: right;\">\n",
              "      <th></th>\n",
              "      <th>PassengerId</th>\n",
              "      <th>Survived</th>\n",
              "    </tr>\n",
              "  </thead>\n",
              "  <tbody>\n",
              "    <tr>\n",
              "      <th>0</th>\n",
              "      <td>892</td>\n",
              "      <td>0</td>\n",
              "    </tr>\n",
              "    <tr>\n",
              "      <th>1</th>\n",
              "      <td>893</td>\n",
              "      <td>0</td>\n",
              "    </tr>\n",
              "    <tr>\n",
              "      <th>2</th>\n",
              "      <td>894</td>\n",
              "      <td>0</td>\n",
              "    </tr>\n",
              "    <tr>\n",
              "      <th>3</th>\n",
              "      <td>895</td>\n",
              "      <td>0</td>\n",
              "    </tr>\n",
              "    <tr>\n",
              "      <th>4</th>\n",
              "      <td>896</td>\n",
              "      <td>0</td>\n",
              "    </tr>\n",
              "  </tbody>\n",
              "</table>\n",
              "</div>"
            ],
            "text/plain": [
              "   PassengerId  Survived\n",
              "0          892         0\n",
              "1          893         0\n",
              "2          894         0\n",
              "3          895         0\n",
              "4          896         0"
            ]
          },
          "execution_count": 91,
          "metadata": {},
          "output_type": "execute_result"
        }
      ],
      "source": [
        "submission.head()"
      ]
    },
    {
      "cell_type": "code",
      "execution_count": null,
      "metadata": {
        "execution": {
          "iopub.execute_input": "2021-05-29T17:26:22.249776Z",
          "iopub.status.busy": "2021-05-29T17:26:22.249087Z",
          "iopub.status.idle": "2021-05-29T17:26:22.492153Z",
          "shell.execute_reply": "2021-05-29T17:26:22.492860Z",
          "shell.execute_reply.started": "2021-05-29T17:23:49.672217Z"
        },
        "papermill": {
          "duration": 0.369857,
          "end_time": "2021-05-29T17:26:22.493092",
          "exception": false,
          "start_time": "2021-05-29T17:26:22.123235",
          "status": "completed"
        },
        "tags": [],
        "id": "pPuP1ZyF3XnA",
        "outputId": "c44f35cf-50a3-4138-8943-7d4bd99bba64"
      },
      "outputs": [
        {
          "name": "stdout",
          "output_type": "stream",
          "text": [
            "Saved file: Titanic_Predictions.csv\n"
          ]
        }
      ],
      "source": [
        "filename = 'Titanic_Predictions.csv'\n",
        "submission.to_csv(filename, index=False)\n",
        "print('Saved file: '+filename)"
      ]
    }
  ],
  "metadata": {
    "kernelspec": {
      "display_name": "Python 3.9.7 ('base')",
      "language": "python",
      "name": "python3"
    },
    "language_info": {
      "codemirror_mode": {
        "name": "ipython",
        "version": 3
      },
      "file_extension": ".py",
      "mimetype": "text/x-python",
      "name": "python",
      "nbconvert_exporter": "python",
      "pygments_lexer": "ipython3",
      "version": "3.9.7"
    },
    "papermill": {
      "duration": 46.8067,
      "end_time": "2021-05-29T17:26:22.727407",
      "environment_variables": {},
      "exception": null,
      "input_path": "__notebook__.ipynb",
      "output_path": "__notebook__.ipynb",
      "parameters": {},
      "start_time": "2021-05-29T17:25:35.920707",
      "version": "2.1.0"
    },
    "vscode": {
      "interpreter": {
        "hash": "abaf831100587012b7d4adbed58d8a9774e7c8b8a74af100c350b04256909625"
      }
    },
    "colab": {
      "name": "titanic-survival-predictions-lr-dt-rf-xgb.ipynb",
      "provenance": []
    }
  },
  "nbformat": 4,
  "nbformat_minor": 0
}