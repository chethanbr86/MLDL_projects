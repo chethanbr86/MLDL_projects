{
 "cells": [
  {
   "cell_type": "markdown",
   "metadata": {},
   "source": [
    "## Credit Card Lead Prediction "
   ]
  },
  {
   "cell_type": "markdown",
   "metadata": {},
   "source": [
    "### Importing Required Libraries"
   ]
  },
  {
   "cell_type": "code",
   "execution_count": 1,
   "metadata": {
    "execution": {
     "iopub.execute_input": "2021-05-30T15:24:48.508735Z",
     "iopub.status.busy": "2021-05-30T15:24:48.507958Z",
     "iopub.status.idle": "2021-05-30T15:24:48.511465Z",
     "shell.execute_reply": "2021-05-30T15:24:48.510864Z",
     "shell.execute_reply.started": "2021-05-30T14:40:28.087704Z"
    },
    "papermill": {
     "duration": 0.084145,
     "end_time": "2021-05-30T15:24:48.511645",
     "exception": false,
     "start_time": "2021-05-30T15:24:48.427500",
     "status": "completed"
    },
    "tags": []
   },
   "outputs": [],
   "source": [
    "import warnings\n",
    "warnings.filterwarnings('ignore')"
   ]
  },
  {
   "cell_type": "code",
   "execution_count": 2,
   "metadata": {
    "execution": {
     "iopub.execute_input": "2021-05-30T15:24:48.828171Z",
     "iopub.status.busy": "2021-05-30T15:24:48.827471Z",
     "iopub.status.idle": "2021-05-30T15:24:50.470365Z",
     "shell.execute_reply": "2021-05-30T15:24:50.470885Z",
     "shell.execute_reply.started": "2021-05-30T14:40:28.110142Z"
    },
    "papermill": {
     "duration": 1.726604,
     "end_time": "2021-05-30T15:24:50.471094",
     "exception": false,
     "start_time": "2021-05-30T15:24:48.744490",
     "status": "completed"
    },
    "tags": []
   },
   "outputs": [],
   "source": [
    "import numpy as np\n",
    "import pandas as pd\n",
    "\n",
    "from sklearn.impute import SimpleImputer\n",
    "\n",
    "import matplotlib.pyplot as plt\n",
    "import seaborn as sns\n",
    "%matplotlib inline\n",
    "\n",
    "# import category_encoders as ce\n",
    "\n",
    "from sklearn import model_selection\n",
    "from sklearn.model_selection import train_test_split\n",
    "from sklearn.preprocessing import OneHotEncoder\n",
    "from sklearn.preprocessing import PowerTransformer\n",
    "from sklearn.model_selection import RandomizedSearchCV\n",
    "# from sklearn.feature_selection import RFECV\n",
    "\n",
    "from sklearn.linear_model import LogisticRegression\n",
    "from sklearn.tree import DecisionTreeClassifier\n",
    "from sklearn.ensemble import RandomForestClassifier\n",
    "# from xgboost import XGBClassifier\n",
    "\n",
    "from sklearn import metrics\n",
    "from sklearn.metrics import confusion_matrix\n",
    "from sklearn.metrics import roc_auc_score\n",
    "from sklearn.metrics import plot_roc_curve\n",
    "from sklearn.metrics import classification_report"
   ]
  },
  {
   "cell_type": "code",
   "execution_count": 3,
   "metadata": {
    "execution": {
     "iopub.execute_input": "2021-05-30T15:24:48.666886Z",
     "iopub.status.busy": "2021-05-30T15:24:48.666201Z",
     "iopub.status.idle": "2021-05-30T15:24:48.669608Z",
     "shell.execute_reply": "2021-05-30T15:24:48.669057Z",
     "shell.execute_reply.started": "2021-05-30T14:40:28.096859Z"
    },
    "papermill": {
     "duration": 0.083337,
     "end_time": "2021-05-30T15:24:48.669765",
     "exception": false,
     "start_time": "2021-05-30T15:24:48.586428",
     "status": "completed"
    },
    "tags": []
   },
   "outputs": [],
   "source": [
    "pd.set_option('display.max_columns',500)\n",
    "pd.set_option('display.width',500)\n",
    "pd.set_option('display.max_rows', 500)"
   ]
  },
  {
   "cell_type": "code",
   "execution_count": 4,
   "metadata": {
    "execution": {
     "iopub.execute_input": "2021-05-30T15:24:50.622900Z",
     "iopub.status.busy": "2021-05-30T15:24:50.622239Z",
     "iopub.status.idle": "2021-05-30T15:24:51.274434Z",
     "shell.execute_reply": "2021-05-30T15:24:51.275286Z",
     "shell.execute_reply.started": "2021-05-30T14:40:29.705494Z"
    },
    "papermill": {
     "duration": 0.730581,
     "end_time": "2021-05-30T15:24:51.275485",
     "exception": false,
     "start_time": "2021-05-30T15:24:50.544904",
     "status": "completed"
    },
    "tags": []
   },
   "outputs": [
    {
     "data": {
      "text/html": [
       "<div>\n",
       "<style scoped>\n",
       "    .dataframe tbody tr th:only-of-type {\n",
       "        vertical-align: middle;\n",
       "    }\n",
       "\n",
       "    .dataframe tbody tr th {\n",
       "        vertical-align: top;\n",
       "    }\n",
       "\n",
       "    .dataframe thead th {\n",
       "        text-align: right;\n",
       "    }\n",
       "</style>\n",
       "<table border=\"1\" class=\"dataframe\">\n",
       "  <thead>\n",
       "    <tr style=\"text-align: right;\">\n",
       "      <th></th>\n",
       "      <th>ID</th>\n",
       "      <th>Gender</th>\n",
       "      <th>Age</th>\n",
       "      <th>Region_Code</th>\n",
       "      <th>Occupation</th>\n",
       "      <th>Channel_Code</th>\n",
       "      <th>Vintage</th>\n",
       "      <th>Credit_Product</th>\n",
       "      <th>Avg_Account_Balance</th>\n",
       "      <th>Is_Active</th>\n",
       "      <th>Is_Lead</th>\n",
       "    </tr>\n",
       "  </thead>\n",
       "  <tbody>\n",
       "    <tr>\n",
       "      <th>0</th>\n",
       "      <td>NNVBBKZB</td>\n",
       "      <td>Female</td>\n",
       "      <td>73</td>\n",
       "      <td>RG268</td>\n",
       "      <td>Other</td>\n",
       "      <td>X3</td>\n",
       "      <td>43</td>\n",
       "      <td>No</td>\n",
       "      <td>1045696</td>\n",
       "      <td>No</td>\n",
       "      <td>0</td>\n",
       "    </tr>\n",
       "    <tr>\n",
       "      <th>1</th>\n",
       "      <td>IDD62UNG</td>\n",
       "      <td>Female</td>\n",
       "      <td>30</td>\n",
       "      <td>RG277</td>\n",
       "      <td>Salaried</td>\n",
       "      <td>X1</td>\n",
       "      <td>32</td>\n",
       "      <td>No</td>\n",
       "      <td>581988</td>\n",
       "      <td>No</td>\n",
       "      <td>0</td>\n",
       "    </tr>\n",
       "    <tr>\n",
       "      <th>2</th>\n",
       "      <td>HD3DSEMC</td>\n",
       "      <td>Female</td>\n",
       "      <td>56</td>\n",
       "      <td>RG268</td>\n",
       "      <td>Self_Employed</td>\n",
       "      <td>X3</td>\n",
       "      <td>26</td>\n",
       "      <td>No</td>\n",
       "      <td>1484315</td>\n",
       "      <td>Yes</td>\n",
       "      <td>0</td>\n",
       "    </tr>\n",
       "    <tr>\n",
       "      <th>3</th>\n",
       "      <td>BF3NC7KV</td>\n",
       "      <td>Male</td>\n",
       "      <td>34</td>\n",
       "      <td>RG270</td>\n",
       "      <td>Salaried</td>\n",
       "      <td>X1</td>\n",
       "      <td>19</td>\n",
       "      <td>No</td>\n",
       "      <td>470454</td>\n",
       "      <td>No</td>\n",
       "      <td>0</td>\n",
       "    </tr>\n",
       "    <tr>\n",
       "      <th>4</th>\n",
       "      <td>TEASRWXV</td>\n",
       "      <td>Female</td>\n",
       "      <td>30</td>\n",
       "      <td>RG282</td>\n",
       "      <td>Salaried</td>\n",
       "      <td>X1</td>\n",
       "      <td>33</td>\n",
       "      <td>No</td>\n",
       "      <td>886787</td>\n",
       "      <td>No</td>\n",
       "      <td>0</td>\n",
       "    </tr>\n",
       "  </tbody>\n",
       "</table>\n",
       "</div>"
      ],
      "text/plain": [
       "         ID  Gender  Age Region_Code     Occupation Channel_Code  Vintage Credit_Product  Avg_Account_Balance Is_Active  Is_Lead\n",
       "0  NNVBBKZB  Female   73       RG268          Other           X3       43             No              1045696        No        0\n",
       "1  IDD62UNG  Female   30       RG277       Salaried           X1       32             No               581988        No        0\n",
       "2  HD3DSEMC  Female   56       RG268  Self_Employed           X3       26             No              1484315       Yes        0\n",
       "3  BF3NC7KV    Male   34       RG270       Salaried           X1       19             No               470454        No        0\n",
       "4  TEASRWXV  Female   30       RG282       Salaried           X1       33             No               886787        No        0"
      ]
     },
     "execution_count": 4,
     "metadata": {},
     "output_type": "execute_result"
    }
   ],
   "source": [
    "df_train_data = pd.read_csv('train_s3TEQDk.csv')\n",
    "df_train_data.head()"
   ]
  },
  {
   "cell_type": "code",
   "execution_count": 5,
   "metadata": {
    "execution": {
     "iopub.execute_input": "2021-05-30T15:24:51.429752Z",
     "iopub.status.busy": "2021-05-30T15:24:51.429038Z",
     "iopub.status.idle": "2021-05-30T15:24:51.704585Z",
     "shell.execute_reply": "2021-05-30T15:24:51.703817Z",
     "shell.execute_reply.started": "2021-05-30T14:40:30.364521Z"
    },
    "papermill": {
     "duration": 0.355074,
     "end_time": "2021-05-30T15:24:51.704757",
     "exception": false,
     "start_time": "2021-05-30T15:24:51.349683",
     "status": "completed"
    },
    "tags": []
   },
   "outputs": [
    {
     "data": {
      "text/html": [
       "<div>\n",
       "<style scoped>\n",
       "    .dataframe tbody tr th:only-of-type {\n",
       "        vertical-align: middle;\n",
       "    }\n",
       "\n",
       "    .dataframe tbody tr th {\n",
       "        vertical-align: top;\n",
       "    }\n",
       "\n",
       "    .dataframe thead th {\n",
       "        text-align: right;\n",
       "    }\n",
       "</style>\n",
       "<table border=\"1\" class=\"dataframe\">\n",
       "  <thead>\n",
       "    <tr style=\"text-align: right;\">\n",
       "      <th></th>\n",
       "      <th>ID</th>\n",
       "      <th>Gender</th>\n",
       "      <th>Age</th>\n",
       "      <th>Region_Code</th>\n",
       "      <th>Occupation</th>\n",
       "      <th>Channel_Code</th>\n",
       "      <th>Vintage</th>\n",
       "      <th>Credit_Product</th>\n",
       "      <th>Avg_Account_Balance</th>\n",
       "      <th>Is_Active</th>\n",
       "    </tr>\n",
       "  </thead>\n",
       "  <tbody>\n",
       "    <tr>\n",
       "      <th>0</th>\n",
       "      <td>VBENBARO</td>\n",
       "      <td>Male</td>\n",
       "      <td>29</td>\n",
       "      <td>RG254</td>\n",
       "      <td>Other</td>\n",
       "      <td>X1</td>\n",
       "      <td>25</td>\n",
       "      <td>Yes</td>\n",
       "      <td>742366</td>\n",
       "      <td>No</td>\n",
       "    </tr>\n",
       "    <tr>\n",
       "      <th>1</th>\n",
       "      <td>CCMEWNKY</td>\n",
       "      <td>Male</td>\n",
       "      <td>43</td>\n",
       "      <td>RG268</td>\n",
       "      <td>Other</td>\n",
       "      <td>X2</td>\n",
       "      <td>49</td>\n",
       "      <td>NaN</td>\n",
       "      <td>925537</td>\n",
       "      <td>No</td>\n",
       "    </tr>\n",
       "    <tr>\n",
       "      <th>2</th>\n",
       "      <td>VK3KGA9M</td>\n",
       "      <td>Male</td>\n",
       "      <td>31</td>\n",
       "      <td>RG270</td>\n",
       "      <td>Salaried</td>\n",
       "      <td>X1</td>\n",
       "      <td>14</td>\n",
       "      <td>No</td>\n",
       "      <td>215949</td>\n",
       "      <td>No</td>\n",
       "    </tr>\n",
       "    <tr>\n",
       "      <th>3</th>\n",
       "      <td>TT8RPZVC</td>\n",
       "      <td>Male</td>\n",
       "      <td>29</td>\n",
       "      <td>RG272</td>\n",
       "      <td>Other</td>\n",
       "      <td>X1</td>\n",
       "      <td>33</td>\n",
       "      <td>No</td>\n",
       "      <td>868070</td>\n",
       "      <td>No</td>\n",
       "    </tr>\n",
       "    <tr>\n",
       "      <th>4</th>\n",
       "      <td>SHQZEYTZ</td>\n",
       "      <td>Female</td>\n",
       "      <td>29</td>\n",
       "      <td>RG270</td>\n",
       "      <td>Other</td>\n",
       "      <td>X1</td>\n",
       "      <td>19</td>\n",
       "      <td>No</td>\n",
       "      <td>657087</td>\n",
       "      <td>No</td>\n",
       "    </tr>\n",
       "  </tbody>\n",
       "</table>\n",
       "</div>"
      ],
      "text/plain": [
       "         ID  Gender  Age Region_Code Occupation Channel_Code  Vintage Credit_Product  Avg_Account_Balance Is_Active\n",
       "0  VBENBARO    Male   29       RG254      Other           X1       25            Yes               742366        No\n",
       "1  CCMEWNKY    Male   43       RG268      Other           X2       49            NaN               925537        No\n",
       "2  VK3KGA9M    Male   31       RG270   Salaried           X1       14             No               215949        No\n",
       "3  TT8RPZVC    Male   29       RG272      Other           X1       33             No               868070        No\n",
       "4  SHQZEYTZ  Female   29       RG270      Other           X1       19             No               657087        No"
      ]
     },
     "execution_count": 5,
     "metadata": {},
     "output_type": "execute_result"
    }
   ],
   "source": [
    "df_test_data = pd.read_csv('test_mSzZ8RL.csv')\n",
    "df_test_data.head()"
   ]
  },
  {
   "cell_type": "code",
   "execution_count": 6,
   "metadata": {
    "execution": {
     "iopub.execute_input": "2021-05-30T15:24:51.863354Z",
     "iopub.status.busy": "2021-05-30T15:24:51.862103Z",
     "iopub.status.idle": "2021-05-30T15:24:51.906979Z",
     "shell.execute_reply": "2021-05-30T15:24:51.906245Z",
     "shell.execute_reply.started": "2021-05-30T14:40:30.616065Z"
    },
    "papermill": {
     "duration": 0.126712,
     "end_time": "2021-05-30T15:24:51.907145",
     "exception": false,
     "start_time": "2021-05-30T15:24:51.780433",
     "status": "completed"
    },
    "tags": []
   },
   "outputs": [],
   "source": [
    "train_data = df_train_data.copy()\n",
    "test_data = df_test_data.copy()"
   ]
  },
  {
   "cell_type": "code",
   "execution_count": 7,
   "metadata": {
    "execution": {
     "iopub.execute_input": "2021-05-30T15:24:52.069127Z",
     "iopub.status.busy": "2021-05-30T15:24:52.068403Z",
     "iopub.status.idle": "2021-05-30T15:24:52.071327Z",
     "shell.execute_reply": "2021-05-30T15:24:52.071863Z",
     "shell.execute_reply.started": "2021-05-30T14:40:30.656816Z"
    },
    "papermill": {
     "duration": 0.087214,
     "end_time": "2021-05-30T15:24:52.072061",
     "exception": false,
     "start_time": "2021-05-30T15:24:51.984847",
     "status": "completed"
    },
    "tags": []
   },
   "outputs": [
    {
     "data": {
      "text/plain": [
       "((245725, 11), (105312, 10))"
      ]
     },
     "execution_count": 7,
     "metadata": {},
     "output_type": "execute_result"
    }
   ],
   "source": [
    "train_data.shape, test_data.shape"
   ]
  },
  {
   "cell_type": "code",
   "execution_count": 8,
   "metadata": {
    "execution": {
     "iopub.execute_input": "2021-05-30T15:24:52.228659Z",
     "iopub.status.busy": "2021-05-30T15:24:52.227981Z",
     "iopub.status.idle": "2021-05-30T15:24:52.234271Z",
     "shell.execute_reply": "2021-05-30T15:24:52.233620Z",
     "shell.execute_reply.started": "2021-05-30T14:40:30.666420Z"
    },
    "papermill": {
     "duration": 0.085592,
     "end_time": "2021-05-30T15:24:52.234451",
     "exception": false,
     "start_time": "2021-05-30T15:24:52.148859",
     "status": "completed"
    },
    "tags": []
   },
   "outputs": [
    {
     "data": {
      "text/plain": [
       "42.85766609014142"
      ]
     },
     "execution_count": 8,
     "metadata": {},
     "output_type": "execute_result"
    }
   ],
   "source": [
    "100*len(test_data)/len(train_data)"
   ]
  },
  {
   "cell_type": "markdown",
   "metadata": {},
   "source": [
    "### Details of Null values and Unique values and Data Types"
   ]
  },
  {
   "cell_type": "code",
   "execution_count": 9,
   "metadata": {
    "execution": {
     "iopub.execute_input": "2021-05-30T15:24:52.390849Z",
     "iopub.status.busy": "2021-05-30T15:24:52.390189Z",
     "iopub.status.idle": "2021-05-30T15:24:52.395687Z",
     "shell.execute_reply": "2021-05-30T15:24:52.396144Z",
     "shell.execute_reply.started": "2021-05-30T14:40:30.678914Z"
    },
    "papermill": {
     "duration": 0.085375,
     "end_time": "2021-05-30T15:24:52.396344",
     "exception": false,
     "start_time": "2021-05-30T15:24:52.310969",
     "status": "completed"
    },
    "tags": []
   },
   "outputs": [],
   "source": [
    "def details(df):\n",
    "    sum_null_values = df.isnull().sum()\n",
    "    percent_null_values = 100* (sum_null_values/len(df))\n",
    "    data_type = df.dtypes\n",
    "    unique_values = df.nunique()\n",
    "\n",
    "    table = pd.concat([sum_null_values,percent_null_values,data_type,unique_values], axis=1)\n",
    "    table_col = table.rename(columns = {0 : 'Missing Values', 1 : '% of Total Missing Values', 2 : 'Data_Type', 3: 'Unique values'})\n",
    "    return table_col"
   ]
  },
  {
   "cell_type": "code",
   "execution_count": 10,
   "metadata": {
    "execution": {
     "iopub.execute_input": "2021-05-30T15:24:52.554012Z",
     "iopub.status.busy": "2021-05-30T15:24:52.553307Z",
     "iopub.status.idle": "2021-05-30T15:24:53.200500Z",
     "shell.execute_reply": "2021-05-30T15:24:53.199936Z",
     "shell.execute_reply.started": "2021-05-30T14:40:30.689027Z"
    },
    "papermill": {
     "duration": 0.727677,
     "end_time": "2021-05-30T15:24:53.200680",
     "exception": false,
     "start_time": "2021-05-30T15:24:52.473003",
     "status": "completed"
    },
    "tags": []
   },
   "outputs": [
    {
     "data": {
      "text/html": [
       "<div>\n",
       "<style scoped>\n",
       "    .dataframe tbody tr th:only-of-type {\n",
       "        vertical-align: middle;\n",
       "    }\n",
       "\n",
       "    .dataframe tbody tr th {\n",
       "        vertical-align: top;\n",
       "    }\n",
       "\n",
       "    .dataframe thead th {\n",
       "        text-align: right;\n",
       "    }\n",
       "</style>\n",
       "<table border=\"1\" class=\"dataframe\">\n",
       "  <thead>\n",
       "    <tr style=\"text-align: right;\">\n",
       "      <th></th>\n",
       "      <th>Missing Values</th>\n",
       "      <th>% of Total Missing Values</th>\n",
       "      <th>Data_Type</th>\n",
       "      <th>Unique values</th>\n",
       "    </tr>\n",
       "  </thead>\n",
       "  <tbody>\n",
       "    <tr>\n",
       "      <th>ID</th>\n",
       "      <td>0</td>\n",
       "      <td>0.000000</td>\n",
       "      <td>object</td>\n",
       "      <td>245725</td>\n",
       "    </tr>\n",
       "    <tr>\n",
       "      <th>Gender</th>\n",
       "      <td>0</td>\n",
       "      <td>0.000000</td>\n",
       "      <td>object</td>\n",
       "      <td>2</td>\n",
       "    </tr>\n",
       "    <tr>\n",
       "      <th>Age</th>\n",
       "      <td>0</td>\n",
       "      <td>0.000000</td>\n",
       "      <td>int64</td>\n",
       "      <td>63</td>\n",
       "    </tr>\n",
       "    <tr>\n",
       "      <th>Region_Code</th>\n",
       "      <td>0</td>\n",
       "      <td>0.000000</td>\n",
       "      <td>object</td>\n",
       "      <td>35</td>\n",
       "    </tr>\n",
       "    <tr>\n",
       "      <th>Occupation</th>\n",
       "      <td>0</td>\n",
       "      <td>0.000000</td>\n",
       "      <td>object</td>\n",
       "      <td>4</td>\n",
       "    </tr>\n",
       "    <tr>\n",
       "      <th>Channel_Code</th>\n",
       "      <td>0</td>\n",
       "      <td>0.000000</td>\n",
       "      <td>object</td>\n",
       "      <td>4</td>\n",
       "    </tr>\n",
       "    <tr>\n",
       "      <th>Vintage</th>\n",
       "      <td>0</td>\n",
       "      <td>0.000000</td>\n",
       "      <td>int64</td>\n",
       "      <td>66</td>\n",
       "    </tr>\n",
       "    <tr>\n",
       "      <th>Credit_Product</th>\n",
       "      <td>29325</td>\n",
       "      <td>11.934073</td>\n",
       "      <td>object</td>\n",
       "      <td>2</td>\n",
       "    </tr>\n",
       "    <tr>\n",
       "      <th>Avg_Account_Balance</th>\n",
       "      <td>0</td>\n",
       "      <td>0.000000</td>\n",
       "      <td>int64</td>\n",
       "      <td>135292</td>\n",
       "    </tr>\n",
       "    <tr>\n",
       "      <th>Is_Active</th>\n",
       "      <td>0</td>\n",
       "      <td>0.000000</td>\n",
       "      <td>object</td>\n",
       "      <td>2</td>\n",
       "    </tr>\n",
       "    <tr>\n",
       "      <th>Is_Lead</th>\n",
       "      <td>0</td>\n",
       "      <td>0.000000</td>\n",
       "      <td>int64</td>\n",
       "      <td>2</td>\n",
       "    </tr>\n",
       "  </tbody>\n",
       "</table>\n",
       "</div>"
      ],
      "text/plain": [
       "                     Missing Values  % of Total Missing Values Data_Type  Unique values\n",
       "ID                                0                   0.000000    object         245725\n",
       "Gender                            0                   0.000000    object              2\n",
       "Age                               0                   0.000000     int64             63\n",
       "Region_Code                       0                   0.000000    object             35\n",
       "Occupation                        0                   0.000000    object              4\n",
       "Channel_Code                      0                   0.000000    object              4\n",
       "Vintage                           0                   0.000000     int64             66\n",
       "Credit_Product                29325                  11.934073    object              2\n",
       "Avg_Account_Balance               0                   0.000000     int64         135292\n",
       "Is_Active                         0                   0.000000    object              2\n",
       "Is_Lead                           0                   0.000000     int64              2"
      ]
     },
     "execution_count": 10,
     "metadata": {},
     "output_type": "execute_result"
    }
   ],
   "source": [
    "details(train_data)"
   ]
  },
  {
   "cell_type": "code",
   "execution_count": 11,
   "metadata": {
    "execution": {
     "iopub.execute_input": "2021-05-30T15:24:53.425417Z",
     "iopub.status.busy": "2021-05-30T15:24:53.424362Z",
     "iopub.status.idle": "2021-05-30T15:24:53.616845Z",
     "shell.execute_reply": "2021-05-30T15:24:53.617314Z",
     "shell.execute_reply.started": "2021-05-30T14:40:31.278571Z"
    },
    "papermill": {
     "duration": 0.339818,
     "end_time": "2021-05-30T15:24:53.617546",
     "exception": false,
     "start_time": "2021-05-30T15:24:53.277728",
     "status": "completed"
    },
    "tags": []
   },
   "outputs": [
    {
     "data": {
      "text/html": [
       "<div>\n",
       "<style scoped>\n",
       "    .dataframe tbody tr th:only-of-type {\n",
       "        vertical-align: middle;\n",
       "    }\n",
       "\n",
       "    .dataframe tbody tr th {\n",
       "        vertical-align: top;\n",
       "    }\n",
       "\n",
       "    .dataframe thead th {\n",
       "        text-align: right;\n",
       "    }\n",
       "</style>\n",
       "<table border=\"1\" class=\"dataframe\">\n",
       "  <thead>\n",
       "    <tr style=\"text-align: right;\">\n",
       "      <th></th>\n",
       "      <th>Missing Values</th>\n",
       "      <th>% of Total Missing Values</th>\n",
       "      <th>Data_Type</th>\n",
       "      <th>Unique values</th>\n",
       "    </tr>\n",
       "  </thead>\n",
       "  <tbody>\n",
       "    <tr>\n",
       "      <th>ID</th>\n",
       "      <td>0</td>\n",
       "      <td>0.000000</td>\n",
       "      <td>object</td>\n",
       "      <td>105312</td>\n",
       "    </tr>\n",
       "    <tr>\n",
       "      <th>Gender</th>\n",
       "      <td>0</td>\n",
       "      <td>0.000000</td>\n",
       "      <td>object</td>\n",
       "      <td>2</td>\n",
       "    </tr>\n",
       "    <tr>\n",
       "      <th>Age</th>\n",
       "      <td>0</td>\n",
       "      <td>0.000000</td>\n",
       "      <td>int64</td>\n",
       "      <td>62</td>\n",
       "    </tr>\n",
       "    <tr>\n",
       "      <th>Region_Code</th>\n",
       "      <td>0</td>\n",
       "      <td>0.000000</td>\n",
       "      <td>object</td>\n",
       "      <td>35</td>\n",
       "    </tr>\n",
       "    <tr>\n",
       "      <th>Occupation</th>\n",
       "      <td>0</td>\n",
       "      <td>0.000000</td>\n",
       "      <td>object</td>\n",
       "      <td>4</td>\n",
       "    </tr>\n",
       "    <tr>\n",
       "      <th>Channel_Code</th>\n",
       "      <td>0</td>\n",
       "      <td>0.000000</td>\n",
       "      <td>object</td>\n",
       "      <td>4</td>\n",
       "    </tr>\n",
       "    <tr>\n",
       "      <th>Vintage</th>\n",
       "      <td>0</td>\n",
       "      <td>0.000000</td>\n",
       "      <td>int64</td>\n",
       "      <td>66</td>\n",
       "    </tr>\n",
       "    <tr>\n",
       "      <th>Credit_Product</th>\n",
       "      <td>12522</td>\n",
       "      <td>11.890383</td>\n",
       "      <td>object</td>\n",
       "      <td>2</td>\n",
       "    </tr>\n",
       "    <tr>\n",
       "      <th>Avg_Account_Balance</th>\n",
       "      <td>0</td>\n",
       "      <td>0.000000</td>\n",
       "      <td>int64</td>\n",
       "      <td>78315</td>\n",
       "    </tr>\n",
       "    <tr>\n",
       "      <th>Is_Active</th>\n",
       "      <td>0</td>\n",
       "      <td>0.000000</td>\n",
       "      <td>object</td>\n",
       "      <td>2</td>\n",
       "    </tr>\n",
       "  </tbody>\n",
       "</table>\n",
       "</div>"
      ],
      "text/plain": [
       "                     Missing Values  % of Total Missing Values Data_Type  Unique values\n",
       "ID                                0                   0.000000    object         105312\n",
       "Gender                            0                   0.000000    object              2\n",
       "Age                               0                   0.000000     int64             62\n",
       "Region_Code                       0                   0.000000    object             35\n",
       "Occupation                        0                   0.000000    object              4\n",
       "Channel_Code                      0                   0.000000    object              4\n",
       "Vintage                           0                   0.000000     int64             66\n",
       "Credit_Product                12522                  11.890383    object              2\n",
       "Avg_Account_Balance               0                   0.000000     int64          78315\n",
       "Is_Active                         0                   0.000000    object              2"
      ]
     },
     "execution_count": 11,
     "metadata": {},
     "output_type": "execute_result"
    }
   ],
   "source": [
    "details(test_data)"
   ]
  },
  {
   "cell_type": "markdown",
   "metadata": {},
   "source": [
    "### Differentiating Numerical and Objective columns"
   ]
  },
  {
   "cell_type": "code",
   "execution_count": 12,
   "metadata": {
    "execution": {
     "iopub.execute_input": "2021-05-30T15:24:53.799946Z",
     "iopub.status.busy": "2021-05-30T15:24:53.792529Z",
     "iopub.status.idle": "2021-05-30T15:24:53.812712Z",
     "shell.execute_reply": "2021-05-30T15:24:53.812032Z",
     "shell.execute_reply.started": "2021-05-30T14:40:31.521270Z"
    },
    "papermill": {
     "duration": 0.1161,
     "end_time": "2021-05-30T15:24:53.812880",
     "exception": false,
     "start_time": "2021-05-30T15:24:53.696780",
     "status": "completed"
    },
    "tags": []
   },
   "outputs": [
    {
     "data": {
      "text/plain": [
       "Index(['ID', 'Gender', 'Region_Code', 'Occupation', 'Channel_Code', 'Credit_Product', 'Is_Active'], dtype='object')"
      ]
     },
     "execution_count": 12,
     "metadata": {},
     "output_type": "execute_result"
    }
   ],
   "source": [
    "cols_obj = train_data.select_dtypes('object').columns\n",
    "cols_obj"
   ]
  },
  {
   "cell_type": "code",
   "execution_count": 13,
   "metadata": {
    "execution": {
     "iopub.execute_input": "2021-05-30T15:24:53.980151Z",
     "iopub.status.busy": "2021-05-30T15:24:53.979234Z",
     "iopub.status.idle": "2021-05-30T15:24:53.983580Z",
     "shell.execute_reply": "2021-05-30T15:24:53.982963Z",
     "shell.execute_reply.started": "2021-05-30T14:40:31.553496Z"
    },
    "papermill": {
     "duration": 0.093834,
     "end_time": "2021-05-30T15:24:53.983721",
     "exception": false,
     "start_time": "2021-05-30T15:24:53.889887",
     "status": "completed"
    },
    "tags": []
   },
   "outputs": [
    {
     "data": {
      "text/plain": [
       "Index(['Age', 'Vintage', 'Avg_Account_Balance', 'Is_Lead'], dtype='object')"
      ]
     },
     "execution_count": 13,
     "metadata": {},
     "output_type": "execute_result"
    }
   ],
   "source": [
    "cols_num = train_data.select_dtypes('number').columns\n",
    "cols_num"
   ]
  },
  {
   "cell_type": "markdown",
   "metadata": {},
   "source": [
    "### Looking at the different categories of categorical columns"
   ]
  },
  {
   "cell_type": "code",
   "execution_count": 14,
   "metadata": {
    "execution": {
     "iopub.execute_input": "2021-05-30T15:24:54.193675Z",
     "iopub.status.busy": "2021-05-30T15:24:54.173186Z",
     "iopub.status.idle": "2021-05-30T15:24:54.201243Z",
     "shell.execute_reply": "2021-05-30T15:24:54.200737Z",
     "shell.execute_reply.started": "2021-05-30T14:40:31.572393Z"
    },
    "papermill": {
     "duration": 0.140156,
     "end_time": "2021-05-30T15:24:54.201373",
     "exception": false,
     "start_time": "2021-05-30T15:24:54.061217",
     "status": "completed"
    },
    "tags": []
   },
   "outputs": [
    {
     "data": {
      "text/plain": [
       "No     144357\n",
       "Yes     72043\n",
       "NaN     29325\n",
       "Name: Credit_Product, dtype: int64"
      ]
     },
     "execution_count": 14,
     "metadata": {},
     "output_type": "execute_result"
    }
   ],
   "source": [
    "train_data.Credit_Product.value_counts(dropna=False)"
   ]
  },
  {
   "cell_type": "code",
   "execution_count": 15,
   "metadata": {
    "execution": {
     "iopub.execute_input": "2021-05-30T15:24:54.415999Z",
     "iopub.status.busy": "2021-05-30T15:24:54.414516Z",
     "iopub.status.idle": "2021-05-30T15:24:54.772607Z",
     "shell.execute_reply": "2021-05-30T15:24:54.771982Z",
     "shell.execute_reply.started": "2021-05-30T14:40:31.634601Z"
    },
    "papermill": {
     "duration": 0.494766,
     "end_time": "2021-05-30T15:24:54.772767",
     "exception": false,
     "start_time": "2021-05-30T15:24:54.278001",
     "status": "completed"
    },
    "tags": []
   },
   "outputs": [
    {
     "data": {
      "image/png": "[encoded data removed]",
      "text/plain": [
       "<Figure size 432x288 with 1 Axes>"
      ]
     },
     "metadata": {
      "needs_background": "light"
     },
     "output_type": "display_data"
    }
   ],
   "source": [
    "train_data.Is_Active.value_counts().plot.bar()\n",
    "plt.show()"
   ]
  },
  {
   "cell_type": "code",
   "execution_count": 16,
   "metadata": {
    "execution": {
     "iopub.execute_input": "2021-05-30T15:24:54.941982Z",
     "iopub.status.busy": "2021-05-30T15:24:54.940970Z",
     "iopub.status.idle": "2021-05-30T15:24:55.113738Z",
     "shell.execute_reply": "2021-05-30T15:24:55.113147Z",
     "shell.execute_reply.started": "2021-05-30T14:40:31.975837Z"
    },
    "papermill": {
     "duration": 0.261763,
     "end_time": "2021-05-30T15:24:55.113899",
     "exception": false,
     "start_time": "2021-05-30T15:24:54.852136",
     "status": "completed"
    },
    "tags": []
   },
   "outputs": [
    {
     "data": {
      "image/png": "[encoded data removed]",
      "text/plain": [
       "<Figure size 432x288 with 1 Axes>"
      ]
     },
     "metadata": {
      "needs_background": "light"
     },
     "output_type": "display_data"
    }
   ],
   "source": [
    "train_data.groupby('Is_Active')['Credit_Product'].count().plot.bar()\n",
    "plt.show()"
   ]
  },
  {
   "cell_type": "markdown",
   "metadata": {
    "papermill": {
     "duration": 0.079061,
     "end_time": "2021-05-30T15:24:55.598707",
     "exception": false,
     "start_time": "2021-05-30T15:24:55.519646",
     "status": "completed"
    },
    "tags": []
   },
   "source": [
    "### Instead of imputing, null values in the column can be called as different category"
   ]
  },
  {
   "cell_type": "code",
   "execution_count": 17,
   "metadata": {
    "execution": {
     "iopub.execute_input": "2021-05-30T15:24:55.784982Z",
     "iopub.status.busy": "2021-05-30T15:24:55.784266Z",
     "iopub.status.idle": "2021-05-30T15:24:55.804580Z",
     "shell.execute_reply": "2021-05-30T15:24:55.805103Z",
     "shell.execute_reply.started": "2021-05-30T14:40:32.150132Z"
    },
    "papermill": {
     "duration": 0.126838,
     "end_time": "2021-05-30T15:24:55.805335",
     "exception": false,
     "start_time": "2021-05-30T15:24:55.678497",
     "status": "completed"
    },
    "tags": []
   },
   "outputs": [],
   "source": [
    "train_data['Credit_Product']= train_data['Credit_Product'].replace(np.nan, \"Others\")\n",
    "test_data['Credit_Product']= test_data['Credit_Product'].replace(np.nan, \"Others\")"
   ]
  },
  {
   "cell_type": "code",
   "execution_count": 18,
   "metadata": {
    "execution": {
     "iopub.execute_input": "2021-05-30T15:24:56.025189Z",
     "iopub.status.busy": "2021-05-30T15:24:56.024461Z",
     "iopub.status.idle": "2021-05-30T15:24:56.151099Z",
     "shell.execute_reply": "2021-05-30T15:24:56.150568Z",
     "shell.execute_reply.started": "2021-05-30T14:40:32.200325Z"
    },
    "papermill": {
     "duration": 0.265168,
     "end_time": "2021-05-30T15:24:56.151261",
     "exception": false,
     "start_time": "2021-05-30T15:24:55.886093",
     "status": "completed"
    },
    "tags": []
   },
   "outputs": [
    {
     "data": {
      "image/png": "[encoded data removed]",
      "text/plain": [
       "<Figure size 432x288 with 1 Axes>"
      ]
     },
     "metadata": {
      "needs_background": "light"
     },
     "output_type": "display_data"
    }
   ],
   "source": [
    "train_data.Credit_Product.value_counts().plot.bar()\n",
    "plt.show()"
   ]
  },
  {
   "cell_type": "code",
   "execution_count": 19,
   "metadata": {
    "execution": {
     "iopub.execute_input": "2021-05-30T15:24:56.393993Z",
     "iopub.status.busy": "2021-05-30T15:24:56.371675Z",
     "iopub.status.idle": "2021-05-30T15:24:56.502014Z",
     "shell.execute_reply": "2021-05-30T15:24:56.501332Z",
     "shell.execute_reply.started": "2021-05-30T14:40:32.388335Z"
    },
    "papermill": {
     "duration": 0.26944,
     "end_time": "2021-05-30T15:24:56.502174",
     "exception": false,
     "start_time": "2021-05-30T15:24:56.232734",
     "status": "completed"
    },
    "tags": []
   },
   "outputs": [
    {
     "data": {
      "image/png": "[encoded data removed]",
      "text/plain": [
       "<Figure size 432x288 with 1 Axes>"
      ]
     },
     "metadata": {
      "needs_background": "light"
     },
     "output_type": "display_data"
    }
   ],
   "source": [
    "train_data.Gender.value_counts().plot.bar()\n",
    "plt.show()"
   ]
  },
  {
   "cell_type": "code",
   "execution_count": 20,
   "metadata": {
    "execution": {
     "iopub.execute_input": "2021-05-30T15:24:56.756979Z",
     "iopub.status.busy": "2021-05-30T15:24:56.723018Z",
     "iopub.status.idle": "2021-05-30T15:24:57.064782Z",
     "shell.execute_reply": "2021-05-30T15:24:57.064073Z",
     "shell.execute_reply.started": "2021-05-30T14:40:32.570715Z"
    },
    "papermill": {
     "duration": 0.481737,
     "end_time": "2021-05-30T15:24:57.064947",
     "exception": false,
     "start_time": "2021-05-30T15:24:56.583210",
     "status": "completed"
    },
    "tags": []
   },
   "outputs": [
    {
     "data": {
      "image/png": "[encoded data removed]",
      "text/plain": [
       "<Figure size 432x288 with 1 Axes>"
      ]
     },
     "metadata": {
      "needs_background": "light"
     },
     "output_type": "display_data"
    }
   ],
   "source": [
    "train_data.Region_Code.value_counts().plot.bar()\n",
    "plt.show()"
   ]
  },
  {
   "cell_type": "code",
   "execution_count": 21,
   "metadata": {
    "execution": {
     "iopub.execute_input": "2021-05-30T15:24:57.288706Z",
     "iopub.status.busy": "2021-05-30T15:24:57.287851Z",
     "iopub.status.idle": "2021-05-30T15:24:57.418695Z",
     "shell.execute_reply": "2021-05-30T15:24:57.417912Z",
     "shell.execute_reply.started": "2021-05-30T14:40:32.952982Z"
    },
    "papermill": {
     "duration": 0.27076,
     "end_time": "2021-05-30T15:24:57.418857",
     "exception": false,
     "start_time": "2021-05-30T15:24:57.148097",
     "status": "completed"
    },
    "tags": []
   },
   "outputs": [
    {
     "data": {
      "image/png": "[encoded data removed]",
      "text/plain": [
       "<Figure size 432x288 with 1 Axes>"
      ]
     },
     "metadata": {
      "needs_background": "light"
     },
     "output_type": "display_data"
    }
   ],
   "source": [
    "train_data.Occupation.value_counts().plot.bar()\n",
    "plt.show()"
   ]
  },
  {
   "cell_type": "code",
   "execution_count": 22,
   "metadata": {
    "execution": {
     "iopub.execute_input": "2021-05-30T15:24:57.688145Z",
     "iopub.status.busy": "2021-05-30T15:24:57.643186Z",
     "iopub.status.idle": "2021-05-30T15:24:57.784900Z",
     "shell.execute_reply": "2021-05-30T15:24:57.784310Z",
     "shell.execute_reply.started": "2021-05-30T14:40:33.138297Z"
    },
    "papermill": {
     "duration": 0.283901,
     "end_time": "2021-05-30T15:24:57.785070",
     "exception": false,
     "start_time": "2021-05-30T15:24:57.501169",
     "status": "completed"
    },
    "tags": []
   },
   "outputs": [
    {
     "data": {
      "image/png": "[encoded data removed]",
      "text/plain": [
       "<Figure size 432x288 with 1 Axes>"
      ]
     },
     "metadata": {
      "needs_background": "light"
     },
     "output_type": "display_data"
    }
   ],
   "source": [
    "train_data.Channel_Code.value_counts().plot.bar()\n",
    "plt.show()"
   ]
  },
  {
   "cell_type": "code",
   "execution_count": 23,
   "metadata": {
    "execution": {
     "iopub.execute_input": "2021-05-30T15:24:57.963716Z",
     "iopub.status.busy": "2021-05-30T15:24:57.962998Z",
     "iopub.status.idle": "2021-05-30T15:24:58.031089Z",
     "shell.execute_reply": "2021-05-30T15:24:58.030415Z",
     "shell.execute_reply.started": "2021-05-30T14:40:33.312658Z"
    },
    "papermill": {
     "duration": 0.16295,
     "end_time": "2021-05-30T15:24:58.031243",
     "exception": false,
     "start_time": "2021-05-30T15:24:57.868293",
     "status": "completed"
    },
    "tags": []
   },
   "outputs": [
    {
     "data": {
      "text/html": [
       "<div>\n",
       "<style scoped>\n",
       "    .dataframe tbody tr th:only-of-type {\n",
       "        vertical-align: middle;\n",
       "    }\n",
       "\n",
       "    .dataframe tbody tr th {\n",
       "        vertical-align: top;\n",
       "    }\n",
       "\n",
       "    .dataframe thead th {\n",
       "        text-align: right;\n",
       "    }\n",
       "</style>\n",
       "<table border=\"1\" class=\"dataframe\">\n",
       "  <thead>\n",
       "    <tr style=\"text-align: right;\">\n",
       "      <th></th>\n",
       "      <th>Age</th>\n",
       "      <th>Vintage</th>\n",
       "      <th>Avg_Account_Balance</th>\n",
       "      <th>Is_Lead</th>\n",
       "    </tr>\n",
       "  </thead>\n",
       "  <tbody>\n",
       "    <tr>\n",
       "      <th>count</th>\n",
       "      <td>245725.00000</td>\n",
       "      <td>245725.00000</td>\n",
       "      <td>245725.00000</td>\n",
       "      <td>245725.00000</td>\n",
       "    </tr>\n",
       "    <tr>\n",
       "      <th>mean</th>\n",
       "      <td>43.85631</td>\n",
       "      <td>46.95914</td>\n",
       "      <td>1128403.10102</td>\n",
       "      <td>0.23721</td>\n",
       "    </tr>\n",
       "    <tr>\n",
       "      <th>std</th>\n",
       "      <td>14.82867</td>\n",
       "      <td>32.35314</td>\n",
       "      <td>852936.35607</td>\n",
       "      <td>0.42537</td>\n",
       "    </tr>\n",
       "    <tr>\n",
       "      <th>min</th>\n",
       "      <td>23.00000</td>\n",
       "      <td>7.00000</td>\n",
       "      <td>20790.00000</td>\n",
       "      <td>0.00000</td>\n",
       "    </tr>\n",
       "    <tr>\n",
       "      <th>1%</th>\n",
       "      <td>25.00000</td>\n",
       "      <td>13.00000</td>\n",
       "      <td>233678.00000</td>\n",
       "      <td>0.00000</td>\n",
       "    </tr>\n",
       "    <tr>\n",
       "      <th>5%</th>\n",
       "      <td>26.00000</td>\n",
       "      <td>13.00000</td>\n",
       "      <td>352992.80000</td>\n",
       "      <td>0.00000</td>\n",
       "    </tr>\n",
       "    <tr>\n",
       "      <th>10%</th>\n",
       "      <td>27.00000</td>\n",
       "      <td>14.00000</td>\n",
       "      <td>432184.00000</td>\n",
       "      <td>0.00000</td>\n",
       "    </tr>\n",
       "    <tr>\n",
       "      <th>25%</th>\n",
       "      <td>30.00000</td>\n",
       "      <td>20.00000</td>\n",
       "      <td>604310.00000</td>\n",
       "      <td>0.00000</td>\n",
       "    </tr>\n",
       "    <tr>\n",
       "      <th>50%</th>\n",
       "      <td>43.00000</td>\n",
       "      <td>32.00000</td>\n",
       "      <td>894601.00000</td>\n",
       "      <td>0.00000</td>\n",
       "    </tr>\n",
       "    <tr>\n",
       "      <th>75%</th>\n",
       "      <td>54.00000</td>\n",
       "      <td>73.00000</td>\n",
       "      <td>1366666.00000</td>\n",
       "      <td>0.00000</td>\n",
       "    </tr>\n",
       "    <tr>\n",
       "      <th>90%</th>\n",
       "      <td>64.00000</td>\n",
       "      <td>98.00000</td>\n",
       "      <td>2043591.00000</td>\n",
       "      <td>1.00000</td>\n",
       "    </tr>\n",
       "    <tr>\n",
       "      <th>95%</th>\n",
       "      <td>73.00000</td>\n",
       "      <td>110.00000</td>\n",
       "      <td>2673533.00000</td>\n",
       "      <td>1.00000</td>\n",
       "    </tr>\n",
       "    <tr>\n",
       "      <th>99%</th>\n",
       "      <td>82.00000</td>\n",
       "      <td>123.00000</td>\n",
       "      <td>4472872.60000</td>\n",
       "      <td>1.00000</td>\n",
       "    </tr>\n",
       "    <tr>\n",
       "      <th>max</th>\n",
       "      <td>85.00000</td>\n",
       "      <td>135.00000</td>\n",
       "      <td>10352009.00000</td>\n",
       "      <td>1.00000</td>\n",
       "    </tr>\n",
       "  </tbody>\n",
       "</table>\n",
       "</div>"
      ],
      "text/plain": [
       "                Age       Vintage Avg_Account_Balance       Is_Lead\n",
       "count  245725.00000  245725.00000        245725.00000  245725.00000\n",
       "mean       43.85631      46.95914       1128403.10102       0.23721\n",
       "std        14.82867      32.35314        852936.35607       0.42537\n",
       "min        23.00000       7.00000         20790.00000       0.00000\n",
       "1%         25.00000      13.00000        233678.00000       0.00000\n",
       "5%         26.00000      13.00000        352992.80000       0.00000\n",
       "10%        27.00000      14.00000        432184.00000       0.00000\n",
       "25%        30.00000      20.00000        604310.00000       0.00000\n",
       "50%        43.00000      32.00000        894601.00000       0.00000\n",
       "75%        54.00000      73.00000       1366666.00000       0.00000\n",
       "90%        64.00000      98.00000       2043591.00000       1.00000\n",
       "95%        73.00000     110.00000       2673533.00000       1.00000\n",
       "99%        82.00000     123.00000       4472872.60000       1.00000\n",
       "max        85.00000     135.00000      10352009.00000       1.00000"
      ]
     },
     "execution_count": 23,
     "metadata": {},
     "output_type": "execute_result"
    }
   ],
   "source": [
    "train_data.describe(percentiles=(0.01,0.05,0.1,0.25,0.5,0.75,0.9,0.95,0.99)).apply(lambda s: s.apply('{0:.5f}'.format))"
   ]
  },
  {
   "cell_type": "markdown",
   "metadata": {
    "papermill": {
     "duration": 0.082444,
     "end_time": "2021-05-30T15:24:58.197490",
     "exception": false,
     "start_time": "2021-05-30T15:24:58.115046",
     "status": "completed"
    },
    "tags": []
   },
   "source": [
    "### Data Imbalance Check"
   ]
  },
  {
   "cell_type": "code",
   "execution_count": 24,
   "metadata": {
    "execution": {
     "iopub.execute_input": "2021-05-30T15:24:58.370708Z",
     "iopub.status.busy": "2021-05-30T15:24:58.369962Z",
     "iopub.status.idle": "2021-05-30T15:24:58.377339Z",
     "shell.execute_reply": "2021-05-30T15:24:58.378031Z",
     "shell.execute_reply.started": "2021-05-30T14:40:33.382378Z"
    },
    "papermill": {
     "duration": 0.096986,
     "end_time": "2021-05-30T15:24:58.378237",
     "exception": false,
     "start_time": "2021-05-30T15:24:58.281251",
     "status": "completed"
    },
    "tags": []
   },
   "outputs": [
    {
     "data": {
      "text/plain": [
       "0    187437\n",
       "1     58288\n",
       "Name: Is_Lead, dtype: int64"
      ]
     },
     "execution_count": 24,
     "metadata": {},
     "output_type": "execute_result"
    }
   ],
   "source": [
    "train_data.Is_Lead.value_counts()"
   ]
  },
  {
   "cell_type": "code",
   "execution_count": 25,
   "metadata": {
    "execution": {
     "iopub.execute_input": "2021-05-30T15:24:58.548957Z",
     "iopub.status.busy": "2021-05-30T15:24:58.548270Z",
     "iopub.status.idle": "2021-05-30T15:24:58.750469Z",
     "shell.execute_reply": "2021-05-30T15:24:58.750937Z",
     "shell.execute_reply.started": "2021-05-30T14:40:33.395107Z"
    },
    "papermill": {
     "duration": 0.289013,
     "end_time": "2021-05-30T15:24:58.751131",
     "exception": false,
     "start_time": "2021-05-30T15:24:58.462118",
     "status": "completed"
    },
    "tags": []
   },
   "outputs": [
    {
     "data": {
      "image/png": "[encoded data removed]",
      "text/plain": [
       "<Figure size 432x432 with 1 Axes>"
      ]
     },
     "metadata": {},
     "output_type": "display_data"
    }
   ],
   "source": [
    "round(100*train_data['Is_Lead'].value_counts(normalize=True),2).plot(kind='pie', figsize=(6, 6), autopct='%1.2f%%')\n",
    "plt.title(\"Lead and Non-Lead Distribution\")\n",
    "plt.legend([\"Non-Lead\", \"Lead\"])\n",
    "plt.show()"
   ]
  },
  {
   "cell_type": "markdown",
   "metadata": {
    "papermill": {
     "duration": 0.084074,
     "end_time": "2021-05-30T15:24:58.918787",
     "exception": false,
     "start_time": "2021-05-30T15:24:58.834713",
     "status": "completed"
    },
    "tags": []
   },
   "source": [
    "### Visualizations"
   ]
  },
  {
   "cell_type": "code",
   "execution_count": 26,
   "metadata": {
    "execution": {
     "iopub.execute_input": "2021-05-30T15:24:59.096204Z",
     "iopub.status.busy": "2021-05-30T15:24:59.095570Z",
     "iopub.status.idle": "2021-05-30T15:24:59.099115Z",
     "shell.execute_reply": "2021-05-30T15:24:59.099615Z",
     "shell.execute_reply.started": "2021-05-30T14:40:33.681164Z"
    },
    "papermill": {
     "duration": 0.09301,
     "end_time": "2021-05-30T15:24:59.099783",
     "exception": false,
     "start_time": "2021-05-30T15:24:59.006773",
     "status": "completed"
    },
    "tags": []
   },
   "outputs": [],
   "source": [
    "# %%time\n",
    "# row,col,c = 14,3,1\n",
    "# fig = plt.figure(figsize=(30,80), dpi= 200)\n",
    "\n",
    "# for i in list(cols_obj):\n",
    "#     plt.subplot(row,col,c)\n",
    "#     plt.title(f'{i},subplot:{row}{col}{c}')\n",
    "#     plt.xlabel(i)\n",
    "#     train_data[i].value_counts().plot.bar()\n",
    "#     c = c + 1\n",
    "# plt.tight_layout()\n",
    "# plt.show()"
   ]
  },
  {
   "cell_type": "code",
   "execution_count": 27,
   "metadata": {
    "execution": {
     "iopub.execute_input": "2021-05-30T15:24:59.270552Z",
     "iopub.status.busy": "2021-05-30T15:24:59.269826Z",
     "iopub.status.idle": "2021-05-30T15:25:03.081681Z",
     "shell.execute_reply": "2021-05-30T15:25:03.081125Z",
     "shell.execute_reply.started": "2021-05-30T14:40:33.685926Z"
    },
    "papermill": {
     "duration": 3.89843,
     "end_time": "2021-05-30T15:25:03.081839",
     "exception": false,
     "start_time": "2021-05-30T15:24:59.183409",
     "status": "completed"
    },
    "tags": []
   },
   "outputs": [
    {
     "data": {
      "image/png": "[encoded data removed]",
      "text/plain": [
       "<Figure size 432x288 with 1 Axes>"
      ]
     },
     "metadata": {
      "needs_background": "light"
     },
     "output_type": "display_data"
    }
   ],
   "source": [
    "sns.barplot(data=train_data, x='Is_Lead', y='Avg_Account_Balance')\n",
    "plt.show()"
   ]
  },
  {
   "cell_type": "code",
   "execution_count": 28,
   "metadata": {
    "execution": {
     "iopub.execute_input": "2021-05-30T15:25:03.291537Z",
     "iopub.status.busy": "2021-05-30T15:25:03.277431Z",
     "iopub.status.idle": "2021-05-30T15:25:06.525395Z",
     "shell.execute_reply": "2021-05-30T15:25:06.524837Z",
     "shell.execute_reply.started": "2021-05-30T14:40:36.854423Z"
    },
    "papermill": {
     "duration": 3.359523,
     "end_time": "2021-05-30T15:25:06.525546",
     "exception": false,
     "start_time": "2021-05-30T15:25:03.166023",
     "status": "completed"
    },
    "tags": []
   },
   "outputs": [
    {
     "data": {
      "image/png": "[encoded data removed]",
      "text/plain": [
       "<Figure size 432x288 with 1 Axes>"
      ]
     },
     "metadata": {
      "needs_background": "light"
     },
     "output_type": "display_data"
    }
   ],
   "source": [
    "sns.barplot(data=train_data, y='Is_Lead', x='Gender')\n",
    "plt.show()"
   ]
  },
  {
   "cell_type": "code",
   "execution_count": 29,
   "metadata": {
    "execution": {
     "iopub.execute_input": "2021-05-30T15:25:06.722984Z",
     "iopub.status.busy": "2021-05-30T15:25:06.707204Z",
     "iopub.status.idle": "2021-05-30T15:25:10.129627Z",
     "shell.execute_reply": "2021-05-30T15:25:10.130160Z",
     "shell.execute_reply.started": "2021-05-30T14:40:40.113446Z"
    },
    "papermill": {
     "duration": 3.518961,
     "end_time": "2021-05-30T15:25:10.130405",
     "exception": false,
     "start_time": "2021-05-30T15:25:06.611444",
     "status": "completed"
    },
    "tags": []
   },
   "outputs": [
    {
     "data": {
      "image/png": "[encoded data removed]",
      "text/plain": [
       "<Figure size 3600x2160 with 6 Axes>"
      ]
     },
     "metadata": {
      "needs_background": "light"
     },
     "output_type": "display_data"
    }
   ],
   "source": [
    "fig, axes = plt.subplots(nrows=3, ncols = 2, figsize=(50,30))\n",
    "\n",
    "sns.countplot(x=\"Gender\", hue='Is_Lead', data=train_data, ax=axes[0][0])\n",
    "axes[0][0].set_title('Gender')\n",
    "plt.xticks(rotation=45)\n",
    "\n",
    "sns.countplot(x=\"Region_Code\", hue='Is_Lead', data=train_data, ax=axes[0][1])\n",
    "axes[0][1].set_title('Region_Code')\n",
    "plt.xticks(rotation=45)\n",
    "\n",
    "sns.countplot(x=\"Occupation\", hue='Is_Lead', data=train_data, ax=axes[1][0])\n",
    "axes[1][0].set_title('Occupation')\n",
    "plt.xticks(rotation=45)\n",
    "\n",
    "sns.countplot(x=\"Channel_Code\", hue='Is_Lead', data=train_data, ax=axes[1][1])\n",
    "axes[1][1].set_title('Channel_Code')\n",
    "plt.xticks(rotation=45)\n",
    "\n",
    "sns.countplot(x=\"Credit_Product\", hue='Is_Lead', data=train_data, ax=axes[2][0])\n",
    "axes[2][0].set_title('Credit_Product')\n",
    "plt.xticks(rotation=45)\n",
    "\n",
    "sns.countplot(x=\"Is_Active\", hue='Is_Lead', data=train_data, ax=axes[2][1])\n",
    "axes[2][1].set_title('Is_Active')\n",
    "plt.xticks(rotation=45)\n",
    "\n",
    "plt.show()"
   ]
  },
  {
   "cell_type": "markdown",
   "metadata": {
    "papermill": {
     "duration": 0.089726,
     "end_time": "2021-05-30T15:25:10.308931",
     "exception": false,
     "start_time": "2021-05-30T15:25:10.219205",
     "status": "completed"
    },
    "tags": []
   },
   "source": [
    "### Binary Encoding"
   ]
  },
  {
   "cell_type": "code",
   "execution_count": 30,
   "metadata": {
    "execution": {
     "iopub.execute_input": "2021-05-30T15:25:10.488245Z",
     "iopub.status.busy": "2021-05-30T15:25:10.487557Z",
     "iopub.status.idle": "2021-05-30T15:25:10.617818Z",
     "shell.execute_reply": "2021-05-30T15:25:10.617174Z",
     "shell.execute_reply.started": "2021-05-30T14:40:43.379355Z"
    },
    "papermill": {
     "duration": 0.221403,
     "end_time": "2021-05-30T15:25:10.618040",
     "exception": false,
     "start_time": "2021-05-30T15:25:10.396637",
     "status": "completed"
    },
    "tags": []
   },
   "outputs": [],
   "source": [
    "#This can be kept before new df creation since its common\n",
    "train_data.Gender = train_data.Gender.map({'Male':1,'Female':0})\n",
    "train_data.Credit_Product = train_data.Credit_Product.map({'Yes':1,'No':0,'Others':3})\n",
    "train_data.Is_Active = train_data.Is_Active.map({'Yes':1,'No':0})"
   ]
  },
  {
   "cell_type": "code",
   "execution_count": 31,
   "metadata": {
    "execution": {
     "iopub.execute_input": "2021-05-30T15:25:10.811817Z",
     "iopub.status.busy": "2021-05-30T15:25:10.811097Z",
     "iopub.status.idle": "2021-05-30T15:25:10.851365Z",
     "shell.execute_reply": "2021-05-30T15:25:10.851914Z",
     "shell.execute_reply.started": "2021-05-30T14:40:43.512783Z"
    },
    "papermill": {
     "duration": 0.145862,
     "end_time": "2021-05-30T15:25:10.852133",
     "exception": false,
     "start_time": "2021-05-30T15:25:10.706271",
     "status": "completed"
    },
    "tags": []
   },
   "outputs": [],
   "source": [
    "test_data.Gender = test_data.Gender.map({'Male':1,'Female':0})\n",
    "test_data.Credit_Product = test_data.Credit_Product.map({'Yes':1,'No':0,'Others':3})\n",
    "test_data.Is_Active = test_data.Is_Active.map({'Yes':1,'No':0})"
   ]
  },
  {
   "cell_type": "markdown",
   "metadata": {},
   "source": [
    "### OneHotEncoding"
   ]
  },
  {
   "cell_type": "code",
   "execution_count": 32,
   "metadata": {
    "execution": {
     "iopub.execute_input": "2021-05-30T15:25:11.061323Z",
     "iopub.status.busy": "2021-05-30T15:25:11.056713Z",
     "iopub.status.idle": "2021-05-30T15:25:11.716717Z",
     "shell.execute_reply": "2021-05-30T15:25:11.715964Z",
     "shell.execute_reply.started": "2021-05-30T14:40:43.568031Z"
    },
    "papermill": {
     "duration": 0.773821,
     "end_time": "2021-05-30T15:25:11.716879",
     "exception": false,
     "start_time": "2021-05-30T15:25:10.943058",
     "status": "completed"
    },
    "tags": []
   },
   "outputs": [],
   "source": [
    "#OHE\n",
    "#This can be kept before new df creation since its common\n",
    "ohe = OneHotEncoder(sparse=False)\n",
    "ohe_df1 = pd.DataFrame(ohe.fit_transform(train_data[['Region_Code','Occupation','Channel_Code']]),columns=ohe.get_feature_names())\n",
    "ohe_df2 = pd.DataFrame(ohe.transform(test_data[['Region_Code','Occupation','Channel_Code']]),columns=ohe.get_feature_names())"
   ]
  },
  {
   "cell_type": "markdown",
   "metadata": {},
   "source": [
    "### Merging the data"
   ]
  },
  {
   "cell_type": "code",
   "execution_count": 33,
   "metadata": {
    "execution": {
     "iopub.execute_input": "2021-05-30T15:25:11.904664Z",
     "iopub.status.busy": "2021-05-30T15:25:11.903603Z",
     "iopub.status.idle": "2021-05-30T15:25:12.387821Z",
     "shell.execute_reply": "2021-05-30T15:25:12.387119Z",
     "shell.execute_reply.started": "2021-05-30T14:40:44.167424Z"
    },
    "papermill": {
     "duration": 0.582128,
     "end_time": "2021-05-30T15:25:12.387984",
     "exception": false,
     "start_time": "2021-05-30T15:25:11.805856",
     "status": "completed"
    },
    "tags": []
   },
   "outputs": [],
   "source": [
    "train_data = pd.concat([train_data, ohe_df1],1)\n",
    "test_data = pd.concat([test_data, ohe_df2],1)"
   ]
  },
  {
   "cell_type": "code",
   "execution_count": 34,
   "metadata": {
    "execution": {
     "iopub.execute_input": "2021-05-30T15:25:12.624944Z",
     "iopub.status.busy": "2021-05-30T15:25:12.614408Z",
     "iopub.status.idle": "2021-05-30T15:25:12.638518Z",
     "shell.execute_reply": "2021-05-30T15:25:12.637722Z",
     "shell.execute_reply.started": "2021-05-30T14:40:44.439566Z"
    },
    "papermill": {
     "duration": 0.162507,
     "end_time": "2021-05-30T15:25:12.638700",
     "exception": false,
     "start_time": "2021-05-30T15:25:12.476193",
     "status": "completed"
    },
    "tags": []
   },
   "outputs": [
    {
     "data": {
      "text/html": [
       "<div>\n",
       "<style scoped>\n",
       "    .dataframe tbody tr th:only-of-type {\n",
       "        vertical-align: middle;\n",
       "    }\n",
       "\n",
       "    .dataframe tbody tr th {\n",
       "        vertical-align: top;\n",
       "    }\n",
       "\n",
       "    .dataframe thead th {\n",
       "        text-align: right;\n",
       "    }\n",
       "</style>\n",
       "<table border=\"1\" class=\"dataframe\">\n",
       "  <thead>\n",
       "    <tr style=\"text-align: right;\">\n",
       "      <th></th>\n",
       "      <th>ID</th>\n",
       "      <th>Gender</th>\n",
       "      <th>Age</th>\n",
       "      <th>Region_Code</th>\n",
       "      <th>Occupation</th>\n",
       "      <th>Channel_Code</th>\n",
       "      <th>Vintage</th>\n",
       "      <th>Credit_Product</th>\n",
       "      <th>Avg_Account_Balance</th>\n",
       "      <th>Is_Active</th>\n",
       "      <th>Is_Lead</th>\n",
       "      <th>x0_RG250</th>\n",
       "      <th>x0_RG251</th>\n",
       "      <th>x0_RG252</th>\n",
       "      <th>x0_RG253</th>\n",
       "      <th>x0_RG254</th>\n",
       "      <th>x0_RG255</th>\n",
       "      <th>x0_RG256</th>\n",
       "      <th>x0_RG257</th>\n",
       "      <th>x0_RG258</th>\n",
       "      <th>x0_RG259</th>\n",
       "      <th>x0_RG260</th>\n",
       "      <th>x0_RG261</th>\n",
       "      <th>x0_RG262</th>\n",
       "      <th>x0_RG263</th>\n",
       "      <th>x0_RG264</th>\n",
       "      <th>x0_RG265</th>\n",
       "      <th>x0_RG266</th>\n",
       "      <th>x0_RG267</th>\n",
       "      <th>x0_RG268</th>\n",
       "      <th>x0_RG269</th>\n",
       "      <th>x0_RG270</th>\n",
       "      <th>x0_RG271</th>\n",
       "      <th>x0_RG272</th>\n",
       "      <th>x0_RG273</th>\n",
       "      <th>x0_RG274</th>\n",
       "      <th>x0_RG275</th>\n",
       "      <th>x0_RG276</th>\n",
       "      <th>x0_RG277</th>\n",
       "      <th>x0_RG278</th>\n",
       "      <th>x0_RG279</th>\n",
       "      <th>x0_RG280</th>\n",
       "      <th>x0_RG281</th>\n",
       "      <th>x0_RG282</th>\n",
       "      <th>x0_RG283</th>\n",
       "      <th>x0_RG284</th>\n",
       "      <th>x1_Entrepreneur</th>\n",
       "      <th>x1_Other</th>\n",
       "      <th>x1_Salaried</th>\n",
       "      <th>x1_Self_Employed</th>\n",
       "      <th>x2_X1</th>\n",
       "      <th>x2_X2</th>\n",
       "      <th>x2_X3</th>\n",
       "      <th>x2_X4</th>\n",
       "    </tr>\n",
       "  </thead>\n",
       "  <tbody>\n",
       "    <tr>\n",
       "      <th>0</th>\n",
       "      <td>NNVBBKZB</td>\n",
       "      <td>0</td>\n",
       "      <td>73</td>\n",
       "      <td>RG268</td>\n",
       "      <td>Other</td>\n",
       "      <td>X3</td>\n",
       "      <td>43</td>\n",
       "      <td>0</td>\n",
       "      <td>1045696</td>\n",
       "      <td>0</td>\n",
       "      <td>0</td>\n",
       "      <td>0.0</td>\n",
       "      <td>0.0</td>\n",
       "      <td>0.0</td>\n",
       "      <td>0.0</td>\n",
       "      <td>0.0</td>\n",
       "      <td>0.0</td>\n",
       "      <td>0.0</td>\n",
       "      <td>0.0</td>\n",
       "      <td>0.0</td>\n",
       "      <td>0.0</td>\n",
       "      <td>0.0</td>\n",
       "      <td>0.0</td>\n",
       "      <td>0.0</td>\n",
       "      <td>0.0</td>\n",
       "      <td>0.0</td>\n",
       "      <td>0.0</td>\n",
       "      <td>0.0</td>\n",
       "      <td>0.0</td>\n",
       "      <td>1.0</td>\n",
       "      <td>0.0</td>\n",
       "      <td>0.0</td>\n",
       "      <td>0.0</td>\n",
       "      <td>0.0</td>\n",
       "      <td>0.0</td>\n",
       "      <td>0.0</td>\n",
       "      <td>0.0</td>\n",
       "      <td>0.0</td>\n",
       "      <td>0.0</td>\n",
       "      <td>0.0</td>\n",
       "      <td>0.0</td>\n",
       "      <td>0.0</td>\n",
       "      <td>0.0</td>\n",
       "      <td>0.0</td>\n",
       "      <td>0.0</td>\n",
       "      <td>0.0</td>\n",
       "      <td>0.0</td>\n",
       "      <td>1.0</td>\n",
       "      <td>0.0</td>\n",
       "      <td>0.0</td>\n",
       "      <td>0.0</td>\n",
       "      <td>0.0</td>\n",
       "      <td>1.0</td>\n",
       "      <td>0.0</td>\n",
       "    </tr>\n",
       "    <tr>\n",
       "      <th>1</th>\n",
       "      <td>IDD62UNG</td>\n",
       "      <td>0</td>\n",
       "      <td>30</td>\n",
       "      <td>RG277</td>\n",
       "      <td>Salaried</td>\n",
       "      <td>X1</td>\n",
       "      <td>32</td>\n",
       "      <td>0</td>\n",
       "      <td>581988</td>\n",
       "      <td>0</td>\n",
       "      <td>0</td>\n",
       "      <td>0.0</td>\n",
       "      <td>0.0</td>\n",
       "      <td>0.0</td>\n",
       "      <td>0.0</td>\n",
       "      <td>0.0</td>\n",
       "      <td>0.0</td>\n",
       "      <td>0.0</td>\n",
       "      <td>0.0</td>\n",
       "      <td>0.0</td>\n",
       "      <td>0.0</td>\n",
       "      <td>0.0</td>\n",
       "      <td>0.0</td>\n",
       "      <td>0.0</td>\n",
       "      <td>0.0</td>\n",
       "      <td>0.0</td>\n",
       "      <td>0.0</td>\n",
       "      <td>0.0</td>\n",
       "      <td>0.0</td>\n",
       "      <td>0.0</td>\n",
       "      <td>0.0</td>\n",
       "      <td>0.0</td>\n",
       "      <td>0.0</td>\n",
       "      <td>0.0</td>\n",
       "      <td>0.0</td>\n",
       "      <td>0.0</td>\n",
       "      <td>0.0</td>\n",
       "      <td>0.0</td>\n",
       "      <td>1.0</td>\n",
       "      <td>0.0</td>\n",
       "      <td>0.0</td>\n",
       "      <td>0.0</td>\n",
       "      <td>0.0</td>\n",
       "      <td>0.0</td>\n",
       "      <td>0.0</td>\n",
       "      <td>0.0</td>\n",
       "      <td>0.0</td>\n",
       "      <td>0.0</td>\n",
       "      <td>1.0</td>\n",
       "      <td>0.0</td>\n",
       "      <td>1.0</td>\n",
       "      <td>0.0</td>\n",
       "      <td>0.0</td>\n",
       "      <td>0.0</td>\n",
       "    </tr>\n",
       "    <tr>\n",
       "      <th>2</th>\n",
       "      <td>HD3DSEMC</td>\n",
       "      <td>0</td>\n",
       "      <td>56</td>\n",
       "      <td>RG268</td>\n",
       "      <td>Self_Employed</td>\n",
       "      <td>X3</td>\n",
       "      <td>26</td>\n",
       "      <td>0</td>\n",
       "      <td>1484315</td>\n",
       "      <td>1</td>\n",
       "      <td>0</td>\n",
       "      <td>0.0</td>\n",
       "      <td>0.0</td>\n",
       "      <td>0.0</td>\n",
       "      <td>0.0</td>\n",
       "      <td>0.0</td>\n",
       "      <td>0.0</td>\n",
       "      <td>0.0</td>\n",
       "      <td>0.0</td>\n",
       "      <td>0.0</td>\n",
       "      <td>0.0</td>\n",
       "      <td>0.0</td>\n",
       "      <td>0.0</td>\n",
       "      <td>0.0</td>\n",
       "      <td>0.0</td>\n",
       "      <td>0.0</td>\n",
       "      <td>0.0</td>\n",
       "      <td>0.0</td>\n",
       "      <td>0.0</td>\n",
       "      <td>1.0</td>\n",
       "      <td>0.0</td>\n",
       "      <td>0.0</td>\n",
       "      <td>0.0</td>\n",
       "      <td>0.0</td>\n",
       "      <td>0.0</td>\n",
       "      <td>0.0</td>\n",
       "      <td>0.0</td>\n",
       "      <td>0.0</td>\n",
       "      <td>0.0</td>\n",
       "      <td>0.0</td>\n",
       "      <td>0.0</td>\n",
       "      <td>0.0</td>\n",
       "      <td>0.0</td>\n",
       "      <td>0.0</td>\n",
       "      <td>0.0</td>\n",
       "      <td>0.0</td>\n",
       "      <td>0.0</td>\n",
       "      <td>0.0</td>\n",
       "      <td>0.0</td>\n",
       "      <td>1.0</td>\n",
       "      <td>0.0</td>\n",
       "      <td>0.0</td>\n",
       "      <td>1.0</td>\n",
       "      <td>0.0</td>\n",
       "    </tr>\n",
       "    <tr>\n",
       "      <th>3</th>\n",
       "      <td>BF3NC7KV</td>\n",
       "      <td>1</td>\n",
       "      <td>34</td>\n",
       "      <td>RG270</td>\n",
       "      <td>Salaried</td>\n",
       "      <td>X1</td>\n",
       "      <td>19</td>\n",
       "      <td>0</td>\n",
       "      <td>470454</td>\n",
       "      <td>0</td>\n",
       "      <td>0</td>\n",
       "      <td>0.0</td>\n",
       "      <td>0.0</td>\n",
       "      <td>0.0</td>\n",
       "      <td>0.0</td>\n",
       "      <td>0.0</td>\n",
       "      <td>0.0</td>\n",
       "      <td>0.0</td>\n",
       "      <td>0.0</td>\n",
       "      <td>0.0</td>\n",
       "      <td>0.0</td>\n",
       "      <td>0.0</td>\n",
       "      <td>0.0</td>\n",
       "      <td>0.0</td>\n",
       "      <td>0.0</td>\n",
       "      <td>0.0</td>\n",
       "      <td>0.0</td>\n",
       "      <td>0.0</td>\n",
       "      <td>0.0</td>\n",
       "      <td>0.0</td>\n",
       "      <td>0.0</td>\n",
       "      <td>1.0</td>\n",
       "      <td>0.0</td>\n",
       "      <td>0.0</td>\n",
       "      <td>0.0</td>\n",
       "      <td>0.0</td>\n",
       "      <td>0.0</td>\n",
       "      <td>0.0</td>\n",
       "      <td>0.0</td>\n",
       "      <td>0.0</td>\n",
       "      <td>0.0</td>\n",
       "      <td>0.0</td>\n",
       "      <td>0.0</td>\n",
       "      <td>0.0</td>\n",
       "      <td>0.0</td>\n",
       "      <td>0.0</td>\n",
       "      <td>0.0</td>\n",
       "      <td>0.0</td>\n",
       "      <td>1.0</td>\n",
       "      <td>0.0</td>\n",
       "      <td>1.0</td>\n",
       "      <td>0.0</td>\n",
       "      <td>0.0</td>\n",
       "      <td>0.0</td>\n",
       "    </tr>\n",
       "    <tr>\n",
       "      <th>4</th>\n",
       "      <td>TEASRWXV</td>\n",
       "      <td>0</td>\n",
       "      <td>30</td>\n",
       "      <td>RG282</td>\n",
       "      <td>Salaried</td>\n",
       "      <td>X1</td>\n",
       "      <td>33</td>\n",
       "      <td>0</td>\n",
       "      <td>886787</td>\n",
       "      <td>0</td>\n",
       "      <td>0</td>\n",
       "      <td>0.0</td>\n",
       "      <td>0.0</td>\n",
       "      <td>0.0</td>\n",
       "      <td>0.0</td>\n",
       "      <td>0.0</td>\n",
       "      <td>0.0</td>\n",
       "      <td>0.0</td>\n",
       "      <td>0.0</td>\n",
       "      <td>0.0</td>\n",
       "      <td>0.0</td>\n",
       "      <td>0.0</td>\n",
       "      <td>0.0</td>\n",
       "      <td>0.0</td>\n",
       "      <td>0.0</td>\n",
       "      <td>0.0</td>\n",
       "      <td>0.0</td>\n",
       "      <td>0.0</td>\n",
       "      <td>0.0</td>\n",
       "      <td>0.0</td>\n",
       "      <td>0.0</td>\n",
       "      <td>0.0</td>\n",
       "      <td>0.0</td>\n",
       "      <td>0.0</td>\n",
       "      <td>0.0</td>\n",
       "      <td>0.0</td>\n",
       "      <td>0.0</td>\n",
       "      <td>0.0</td>\n",
       "      <td>0.0</td>\n",
       "      <td>0.0</td>\n",
       "      <td>0.0</td>\n",
       "      <td>0.0</td>\n",
       "      <td>0.0</td>\n",
       "      <td>1.0</td>\n",
       "      <td>0.0</td>\n",
       "      <td>0.0</td>\n",
       "      <td>0.0</td>\n",
       "      <td>0.0</td>\n",
       "      <td>1.0</td>\n",
       "      <td>0.0</td>\n",
       "      <td>1.0</td>\n",
       "      <td>0.0</td>\n",
       "      <td>0.0</td>\n",
       "      <td>0.0</td>\n",
       "    </tr>\n",
       "  </tbody>\n",
       "</table>\n",
       "</div>"
      ],
      "text/plain": [
       "         ID  Gender  Age Region_Code     Occupation Channel_Code  Vintage  Credit_Product  Avg_Account_Balance  Is_Active  Is_Lead  x0_RG250  x0_RG251  x0_RG252  x0_RG253  x0_RG254  x0_RG255  x0_RG256  x0_RG257  x0_RG258  x0_RG259  x0_RG260  x0_RG261  x0_RG262  x0_RG263  x0_RG264  x0_RG265  x0_RG266  x0_RG267  x0_RG268  x0_RG269  x0_RG270  x0_RG271  x0_RG272  x0_RG273  x0_RG274  x0_RG275  x0_RG276  x0_RG277  x0_RG278  x0_RG279  x0_RG280  x0_RG281  x0_RG282  x0_RG283  x0_RG284  x1_Entrepreneur  \\\n",
       "0  NNVBBKZB       0   73       RG268          Other           X3       43               0              1045696          0        0       0.0       0.0       0.0       0.0       0.0       0.0       0.0       0.0       0.0       0.0       0.0       0.0       0.0       0.0       0.0       0.0       0.0       0.0       1.0       0.0       0.0       0.0       0.0       0.0       0.0       0.0       0.0       0.0       0.0       0.0       0.0       0.0       0.0       0.0       0.0              0.0   \n",
       "1  IDD62UNG       0   30       RG277       Salaried           X1       32               0               581988          0        0       0.0       0.0       0.0       0.0       0.0       0.0       0.0       0.0       0.0       0.0       0.0       0.0       0.0       0.0       0.0       0.0       0.0       0.0       0.0       0.0       0.0       0.0       0.0       0.0       0.0       0.0       0.0       1.0       0.0       0.0       0.0       0.0       0.0       0.0       0.0              0.0   \n",
       "2  HD3DSEMC       0   56       RG268  Self_Employed           X3       26               0              1484315          1        0       0.0       0.0       0.0       0.0       0.0       0.0       0.0       0.0       0.0       0.0       0.0       0.0       0.0       0.0       0.0       0.0       0.0       0.0       1.0       0.0       0.0       0.0       0.0       0.0       0.0       0.0       0.0       0.0       0.0       0.0       0.0       0.0       0.0       0.0       0.0              0.0   \n",
       "3  BF3NC7KV       1   34       RG270       Salaried           X1       19               0               470454          0        0       0.0       0.0       0.0       0.0       0.0       0.0       0.0       0.0       0.0       0.0       0.0       0.0       0.0       0.0       0.0       0.0       0.0       0.0       0.0       0.0       1.0       0.0       0.0       0.0       0.0       0.0       0.0       0.0       0.0       0.0       0.0       0.0       0.0       0.0       0.0              0.0   \n",
       "4  TEASRWXV       0   30       RG282       Salaried           X1       33               0               886787          0        0       0.0       0.0       0.0       0.0       0.0       0.0       0.0       0.0       0.0       0.0       0.0       0.0       0.0       0.0       0.0       0.0       0.0       0.0       0.0       0.0       0.0       0.0       0.0       0.0       0.0       0.0       0.0       0.0       0.0       0.0       0.0       0.0       1.0       0.0       0.0              0.0   \n",
       "\n",
       "   x1_Other  x1_Salaried  x1_Self_Employed  x2_X1  x2_X2  x2_X3  x2_X4  \n",
       "0       1.0          0.0               0.0    0.0    0.0    1.0    0.0  \n",
       "1       0.0          1.0               0.0    1.0    0.0    0.0    0.0  \n",
       "2       0.0          0.0               1.0    0.0    0.0    1.0    0.0  \n",
       "3       0.0          1.0               0.0    1.0    0.0    0.0    0.0  \n",
       "4       0.0          1.0               0.0    1.0    0.0    0.0    0.0  "
      ]
     },
     "execution_count": 34,
     "metadata": {},
     "output_type": "execute_result"
    }
   ],
   "source": [
    "train_data.head()"
   ]
  },
  {
   "cell_type": "code",
   "execution_count": 35,
   "metadata": {
    "execution": {
     "iopub.execute_input": "2021-05-30T15:25:12.825059Z",
     "iopub.status.busy": "2021-05-30T15:25:12.824283Z",
     "iopub.status.idle": "2021-05-30T15:25:12.925342Z",
     "shell.execute_reply": "2021-05-30T15:25:12.924611Z",
     "shell.execute_reply.started": "2021-05-30T14:40:44.518711Z"
    },
    "papermill": {
     "duration": 0.196954,
     "end_time": "2021-05-30T15:25:12.925540",
     "exception": false,
     "start_time": "2021-05-30T15:25:12.728586",
     "status": "completed"
    },
    "tags": []
   },
   "outputs": [],
   "source": [
    "train_data.drop(['Region_Code','Occupation','Channel_Code'],1,inplace=True)\n",
    "test_data.drop(['Region_Code','Occupation','Channel_Code'],1,inplace=True)"
   ]
  },
  {
   "cell_type": "markdown",
   "metadata": {
    "papermill": {
     "duration": 0.089483,
     "end_time": "2021-05-30T15:25:13.108517",
     "exception": false,
     "start_time": "2021-05-30T15:25:13.019034",
     "status": "completed"
    },
    "tags": []
   },
   "source": [
    "### Keeping copy of dataset"
   ]
  },
  {
   "cell_type": "code",
   "execution_count": 36,
   "metadata": {
    "execution": {
     "iopub.execute_input": "2021-05-30T15:25:13.294718Z",
     "iopub.status.busy": "2021-05-30T15:25:13.292745Z",
     "iopub.status.idle": "2021-05-30T15:25:13.358354Z",
     "shell.execute_reply": "2021-05-30T15:25:13.357635Z",
     "shell.execute_reply.started": "2021-05-30T14:40:44.617618Z"
    },
    "papermill": {
     "duration": 0.159362,
     "end_time": "2021-05-30T15:25:13.358537",
     "exception": false,
     "start_time": "2021-05-30T15:25:13.199175",
     "status": "completed"
    },
    "tags": []
   },
   "outputs": [],
   "source": [
    "df_train = train_data.copy()\n",
    "df_test = test_data.copy()"
   ]
  },
  {
   "cell_type": "markdown",
   "metadata": {
    "papermill": {
     "duration": 0.089185,
     "end_time": "2021-05-30T15:25:13.536955",
     "exception": false,
     "start_time": "2021-05-30T15:25:13.447770",
     "status": "completed"
    },
    "tags": []
   },
   "source": [
    "### Age and Vintage to be made bins for Linear modelling"
   ]
  },
  {
   "cell_type": "code",
   "execution_count": 37,
   "metadata": {
    "execution": {
     "iopub.execute_input": "2021-05-30T15:25:13.776550Z",
     "iopub.status.busy": "2021-05-30T15:25:13.775555Z",
     "iopub.status.idle": "2021-05-30T15:25:13.814371Z",
     "shell.execute_reply": "2021-05-30T15:25:13.813838Z",
     "shell.execute_reply.started": "2021-05-30T14:40:44.682059Z"
    },
    "papermill": {
     "duration": 0.136351,
     "end_time": "2021-05-30T15:25:13.814544",
     "exception": false,
     "start_time": "2021-05-30T15:25:13.678193",
     "status": "completed"
    },
    "tags": []
   },
   "outputs": [],
   "source": [
    "df_train['Age'] = pd.cut(df_train['Age'], [0,25,50,75,100], labels=['<25','25-50','50-75','>75'])\n",
    "df_train['Vintage'] = pd.cut(df_train['Vintage'], [0,15,30,45,60,75,90,105,120,200], labels=['<15','15-30','30-45','45-60','60-75','75-90','90-105','105-120','>120'])\n",
    "\n",
    "df_test['Age'] = pd.cut(df_test['Age'], [0,25,50,75,100], labels=['<25','25-50','50-75','>75'])\n",
    "df_test['Vintage'] = pd.cut(df_test['Vintage'], [0,15,30,45,60,75,90,105,120,200], labels=['<15','15-30','30-45','45-60','60-75','75-90','90-105','105-120','>120'])"
   ]
  },
  {
   "cell_type": "code",
   "execution_count": 38,
   "metadata": {
    "execution": {
     "iopub.execute_input": "2021-05-30T15:25:13.998005Z",
     "iopub.status.busy": "2021-05-30T15:25:13.996925Z",
     "iopub.status.idle": "2021-05-30T15:25:14.007840Z",
     "shell.execute_reply": "2021-05-30T15:25:14.007266Z",
     "shell.execute_reply.started": "2021-05-30T14:40:44.724079Z"
    },
    "papermill": {
     "duration": 0.105165,
     "end_time": "2021-05-30T15:25:14.007995",
     "exception": false,
     "start_time": "2021-05-30T15:25:13.902830",
     "status": "completed"
    },
    "tags": []
   },
   "outputs": [
    {
     "data": {
      "text/plain": [
       "25-50    159483\n",
       "50-75     70212\n",
       ">75        8817\n",
       "<25        7213\n",
       "Name: Age, dtype: int64"
      ]
     },
     "execution_count": 38,
     "metadata": {},
     "output_type": "execute_result"
    }
   ],
   "source": [
    "df_train['Age'].value_counts()"
   ]
  },
  {
   "cell_type": "code",
   "execution_count": 39,
   "metadata": {
    "execution": {
     "iopub.execute_input": "2021-05-30T15:25:14.194561Z",
     "iopub.status.busy": "2021-05-30T15:25:14.193864Z",
     "iopub.status.idle": "2021-05-30T15:25:14.202539Z",
     "shell.execute_reply": "2021-05-30T15:25:14.201838Z",
     "shell.execute_reply.started": "2021-05-30T14:40:44.735478Z"
    },
    "papermill": {
     "duration": 0.103106,
     "end_time": "2021-05-30T15:25:14.202699",
     "exception": false,
     "start_time": "2021-05-30T15:25:14.099593",
     "status": "completed"
    },
    "tags": []
   },
   "outputs": [
    {
     "data": {
      "text/plain": [
       "15-30      69237\n",
       "30-45      40500\n",
       "<15        38752\n",
       "90-105     25716\n",
       "60-75      24736\n",
       "75-90      16525\n",
       "45-60      16121\n",
       "105-120     9565\n",
       ">120        4573\n",
       "Name: Vintage, dtype: int64"
      ]
     },
     "execution_count": 39,
     "metadata": {},
     "output_type": "execute_result"
    }
   ],
   "source": [
    "df_train['Vintage'].value_counts()"
   ]
  },
  {
   "cell_type": "code",
   "execution_count": 40,
   "metadata": {
    "execution": {
     "iopub.execute_input": "2021-05-30T15:25:14.406105Z",
     "iopub.status.busy": "2021-05-30T15:25:14.405425Z",
     "iopub.status.idle": "2021-05-30T15:25:14.958513Z",
     "shell.execute_reply": "2021-05-30T15:25:14.957982Z",
     "shell.execute_reply.started": "2021-05-30T14:40:44.748343Z"
    },
    "papermill": {
     "duration": 0.666117,
     "end_time": "2021-05-30T15:25:14.958660",
     "exception": false,
     "start_time": "2021-05-30T15:25:14.292543",
     "status": "completed"
    },
    "tags": []
   },
   "outputs": [
    {
     "data": {
      "text/plain": [
       "Text(0.5, 1.0, 'Vintage')"
      ]
     },
     "execution_count": 40,
     "metadata": {},
     "output_type": "execute_result"
    },
    {
     "data": {
      "image/png": "[encoded data removed]",
      "text/plain": [
       "<Figure size 1152x576 with 2 Axes>"
      ]
     },
     "metadata": {
      "needs_background": "light"
     },
     "output_type": "display_data"
    }
   ],
   "source": [
    "plt.figure(figsize=(16,8))\n",
    "plt.subplot(1,2,1)\n",
    "sns.countplot(y=\"Age\", data=df_train)\n",
    "plt.title('Age')\n",
    "plt.subplot(1,2,2)\n",
    "sns.countplot(y=\"Vintage\", data=df_train)\n",
    "plt.title('Vintage')"
   ]
  },
  {
   "cell_type": "code",
   "execution_count": 41,
   "metadata": {
    "execution": {
     "iopub.execute_input": "2021-05-30T15:25:15.148946Z",
     "iopub.status.busy": "2021-05-30T15:25:15.148243Z",
     "iopub.status.idle": "2021-05-30T15:25:15.469518Z",
     "shell.execute_reply": "2021-05-30T15:25:15.468844Z",
     "shell.execute_reply.started": "2021-05-30T14:40:45.222218Z"
    },
    "papermill": {
     "duration": 0.419437,
     "end_time": "2021-05-30T15:25:15.469670",
     "exception": false,
     "start_time": "2021-05-30T15:25:15.050233",
     "status": "completed"
    },
    "tags": []
   },
   "outputs": [],
   "source": [
    "ohe_df3 = pd.DataFrame(ohe.fit_transform(df_train[['Age','Vintage']]),columns=ohe.get_feature_names())\n",
    "ohe_df4 = pd.DataFrame(ohe.transform(df_test[['Age','Vintage']]),columns=ohe.get_feature_names())"
   ]
  },
  {
   "cell_type": "code",
   "execution_count": 42,
   "metadata": {
    "execution": {
     "iopub.execute_input": "2021-05-30T15:25:15.665696Z",
     "iopub.status.busy": "2021-05-30T15:25:15.664939Z",
     "iopub.status.idle": "2021-05-30T15:25:15.767202Z",
     "shell.execute_reply": "2021-05-30T15:25:15.766637Z",
     "shell.execute_reply.started": "2021-05-30T14:40:45.521486Z"
    },
    "papermill": {
     "duration": 0.206608,
     "end_time": "2021-05-30T15:25:15.767396",
     "exception": false,
     "start_time": "2021-05-30T15:25:15.560788",
     "status": "completed"
    },
    "tags": []
   },
   "outputs": [],
   "source": [
    "df_train = pd.concat([df_train, ohe_df3],1)\n",
    "df_test = pd.concat([df_test, ohe_df4],1)"
   ]
  },
  {
   "cell_type": "code",
   "execution_count": 43,
   "metadata": {
    "execution": {
     "iopub.execute_input": "2021-05-30T15:25:15.957506Z",
     "iopub.status.busy": "2021-05-30T15:25:15.956784Z",
     "iopub.status.idle": "2021-05-30T15:25:16.150485Z",
     "shell.execute_reply": "2021-05-30T15:25:16.149787Z",
     "shell.execute_reply.started": "2021-05-30T14:40:45.628191Z"
    },
    "papermill": {
     "duration": 0.290988,
     "end_time": "2021-05-30T15:25:16.150666",
     "exception": false,
     "start_time": "2021-05-30T15:25:15.859678",
     "status": "completed"
    },
    "tags": []
   },
   "outputs": [],
   "source": [
    "df_train.drop(['Age','Vintage'],1,inplace=True)\n",
    "df_test.drop(['Age','Vintage'],1,inplace=True)"
   ]
  },
  {
   "cell_type": "code",
   "execution_count": 44,
   "metadata": {
    "execution": {
     "iopub.execute_input": "2021-05-30T15:25:16.374772Z",
     "iopub.status.busy": "2021-05-30T15:25:16.358676Z",
     "iopub.status.idle": "2021-05-30T15:25:16.417159Z",
     "shell.execute_reply": "2021-05-30T15:25:16.416247Z",
     "shell.execute_reply.started": "2021-05-30T15:14:55.015450Z"
    },
    "papermill": {
     "duration": 0.172749,
     "end_time": "2021-05-30T15:25:16.417327",
     "exception": false,
     "start_time": "2021-05-30T15:25:16.244578",
     "status": "completed"
    },
    "tags": []
   },
   "outputs": [
    {
     "data": {
      "text/html": [
       "<div>\n",
       "<style scoped>\n",
       "    .dataframe tbody tr th:only-of-type {\n",
       "        vertical-align: middle;\n",
       "    }\n",
       "\n",
       "    .dataframe tbody tr th {\n",
       "        vertical-align: top;\n",
       "    }\n",
       "\n",
       "    .dataframe thead th {\n",
       "        text-align: right;\n",
       "    }\n",
       "</style>\n",
       "<table border=\"1\" class=\"dataframe\">\n",
       "  <thead>\n",
       "    <tr style=\"text-align: right;\">\n",
       "      <th></th>\n",
       "      <th>ID</th>\n",
       "      <th>Gender</th>\n",
       "      <th>Credit_Product</th>\n",
       "      <th>Avg_Account_Balance</th>\n",
       "      <th>Is_Active</th>\n",
       "      <th>Is_Lead</th>\n",
       "      <th>x0_RG250</th>\n",
       "      <th>x0_RG251</th>\n",
       "      <th>x0_RG252</th>\n",
       "      <th>x0_RG253</th>\n",
       "      <th>x0_RG254</th>\n",
       "      <th>x0_RG255</th>\n",
       "      <th>x0_RG256</th>\n",
       "      <th>x0_RG257</th>\n",
       "      <th>x0_RG258</th>\n",
       "      <th>x0_RG259</th>\n",
       "      <th>x0_RG260</th>\n",
       "      <th>x0_RG261</th>\n",
       "      <th>x0_RG262</th>\n",
       "      <th>x0_RG263</th>\n",
       "      <th>x0_RG264</th>\n",
       "      <th>x0_RG265</th>\n",
       "      <th>x0_RG266</th>\n",
       "      <th>x0_RG267</th>\n",
       "      <th>x0_RG268</th>\n",
       "      <th>x0_RG269</th>\n",
       "      <th>x0_RG270</th>\n",
       "      <th>x0_RG271</th>\n",
       "      <th>x0_RG272</th>\n",
       "      <th>x0_RG273</th>\n",
       "      <th>x0_RG274</th>\n",
       "      <th>x0_RG275</th>\n",
       "      <th>x0_RG276</th>\n",
       "      <th>x0_RG277</th>\n",
       "      <th>x0_RG278</th>\n",
       "      <th>x0_RG279</th>\n",
       "      <th>x0_RG280</th>\n",
       "      <th>x0_RG281</th>\n",
       "      <th>x0_RG282</th>\n",
       "      <th>x0_RG283</th>\n",
       "      <th>x0_RG284</th>\n",
       "      <th>x1_Entrepreneur</th>\n",
       "      <th>x1_Other</th>\n",
       "      <th>x1_Salaried</th>\n",
       "      <th>x1_Self_Employed</th>\n",
       "      <th>x2_X1</th>\n",
       "      <th>x2_X2</th>\n",
       "      <th>x2_X3</th>\n",
       "      <th>x2_X4</th>\n",
       "      <th>x0_25-50</th>\n",
       "      <th>x0_50-75</th>\n",
       "      <th>x0_&lt;25</th>\n",
       "      <th>x0_&gt;75</th>\n",
       "      <th>x1_105-120</th>\n",
       "      <th>x1_15-30</th>\n",
       "      <th>x1_30-45</th>\n",
       "      <th>x1_45-60</th>\n",
       "      <th>x1_60-75</th>\n",
       "      <th>x1_75-90</th>\n",
       "      <th>x1_90-105</th>\n",
       "      <th>x1_&lt;15</th>\n",
       "      <th>x1_&gt;120</th>\n",
       "    </tr>\n",
       "  </thead>\n",
       "  <tbody>\n",
       "    <tr>\n",
       "      <th>0</th>\n",
       "      <td>NNVBBKZB</td>\n",
       "      <td>0</td>\n",
       "      <td>0</td>\n",
       "      <td>1045696</td>\n",
       "      <td>0</td>\n",
       "      <td>0</td>\n",
       "      <td>0.0</td>\n",
       "      <td>0.0</td>\n",
       "      <td>0.0</td>\n",
       "      <td>0.0</td>\n",
       "      <td>0.0</td>\n",
       "      <td>0.0</td>\n",
       "      <td>0.0</td>\n",
       "      <td>0.0</td>\n",
       "      <td>0.0</td>\n",
       "      <td>0.0</td>\n",
       "      <td>0.0</td>\n",
       "      <td>0.0</td>\n",
       "      <td>0.0</td>\n",
       "      <td>0.0</td>\n",
       "      <td>0.0</td>\n",
       "      <td>0.0</td>\n",
       "      <td>0.0</td>\n",
       "      <td>0.0</td>\n",
       "      <td>1.0</td>\n",
       "      <td>0.0</td>\n",
       "      <td>0.0</td>\n",
       "      <td>0.0</td>\n",
       "      <td>0.0</td>\n",
       "      <td>0.0</td>\n",
       "      <td>0.0</td>\n",
       "      <td>0.0</td>\n",
       "      <td>0.0</td>\n",
       "      <td>0.0</td>\n",
       "      <td>0.0</td>\n",
       "      <td>0.0</td>\n",
       "      <td>0.0</td>\n",
       "      <td>0.0</td>\n",
       "      <td>0.0</td>\n",
       "      <td>0.0</td>\n",
       "      <td>0.0</td>\n",
       "      <td>0.0</td>\n",
       "      <td>1.0</td>\n",
       "      <td>0.0</td>\n",
       "      <td>0.0</td>\n",
       "      <td>0.0</td>\n",
       "      <td>0.0</td>\n",
       "      <td>1.0</td>\n",
       "      <td>0.0</td>\n",
       "      <td>0.0</td>\n",
       "      <td>1.0</td>\n",
       "      <td>0.0</td>\n",
       "      <td>0.0</td>\n",
       "      <td>0.0</td>\n",
       "      <td>0.0</td>\n",
       "      <td>1.0</td>\n",
       "      <td>0.0</td>\n",
       "      <td>0.0</td>\n",
       "      <td>0.0</td>\n",
       "      <td>0.0</td>\n",
       "      <td>0.0</td>\n",
       "      <td>0.0</td>\n",
       "    </tr>\n",
       "    <tr>\n",
       "      <th>1</th>\n",
       "      <td>IDD62UNG</td>\n",
       "      <td>0</td>\n",
       "      <td>0</td>\n",
       "      <td>581988</td>\n",
       "      <td>0</td>\n",
       "      <td>0</td>\n",
       "      <td>0.0</td>\n",
       "      <td>0.0</td>\n",
       "      <td>0.0</td>\n",
       "      <td>0.0</td>\n",
       "      <td>0.0</td>\n",
       "      <td>0.0</td>\n",
       "      <td>0.0</td>\n",
       "      <td>0.0</td>\n",
       "      <td>0.0</td>\n",
       "      <td>0.0</td>\n",
       "      <td>0.0</td>\n",
       "      <td>0.0</td>\n",
       "      <td>0.0</td>\n",
       "      <td>0.0</td>\n",
       "      <td>0.0</td>\n",
       "      <td>0.0</td>\n",
       "      <td>0.0</td>\n",
       "      <td>0.0</td>\n",
       "      <td>0.0</td>\n",
       "      <td>0.0</td>\n",
       "      <td>0.0</td>\n",
       "      <td>0.0</td>\n",
       "      <td>0.0</td>\n",
       "      <td>0.0</td>\n",
       "      <td>0.0</td>\n",
       "      <td>0.0</td>\n",
       "      <td>0.0</td>\n",
       "      <td>1.0</td>\n",
       "      <td>0.0</td>\n",
       "      <td>0.0</td>\n",
       "      <td>0.0</td>\n",
       "      <td>0.0</td>\n",
       "      <td>0.0</td>\n",
       "      <td>0.0</td>\n",
       "      <td>0.0</td>\n",
       "      <td>0.0</td>\n",
       "      <td>0.0</td>\n",
       "      <td>1.0</td>\n",
       "      <td>0.0</td>\n",
       "      <td>1.0</td>\n",
       "      <td>0.0</td>\n",
       "      <td>0.0</td>\n",
       "      <td>0.0</td>\n",
       "      <td>1.0</td>\n",
       "      <td>0.0</td>\n",
       "      <td>0.0</td>\n",
       "      <td>0.0</td>\n",
       "      <td>0.0</td>\n",
       "      <td>0.0</td>\n",
       "      <td>1.0</td>\n",
       "      <td>0.0</td>\n",
       "      <td>0.0</td>\n",
       "      <td>0.0</td>\n",
       "      <td>0.0</td>\n",
       "      <td>0.0</td>\n",
       "      <td>0.0</td>\n",
       "    </tr>\n",
       "    <tr>\n",
       "      <th>2</th>\n",
       "      <td>HD3DSEMC</td>\n",
       "      <td>0</td>\n",
       "      <td>0</td>\n",
       "      <td>1484315</td>\n",
       "      <td>1</td>\n",
       "      <td>0</td>\n",
       "      <td>0.0</td>\n",
       "      <td>0.0</td>\n",
       "      <td>0.0</td>\n",
       "      <td>0.0</td>\n",
       "      <td>0.0</td>\n",
       "      <td>0.0</td>\n",
       "      <td>0.0</td>\n",
       "      <td>0.0</td>\n",
       "      <td>0.0</td>\n",
       "      <td>0.0</td>\n",
       "      <td>0.0</td>\n",
       "      <td>0.0</td>\n",
       "      <td>0.0</td>\n",
       "      <td>0.0</td>\n",
       "      <td>0.0</td>\n",
       "      <td>0.0</td>\n",
       "      <td>0.0</td>\n",
       "      <td>0.0</td>\n",
       "      <td>1.0</td>\n",
       "      <td>0.0</td>\n",
       "      <td>0.0</td>\n",
       "      <td>0.0</td>\n",
       "      <td>0.0</td>\n",
       "      <td>0.0</td>\n",
       "      <td>0.0</td>\n",
       "      <td>0.0</td>\n",
       "      <td>0.0</td>\n",
       "      <td>0.0</td>\n",
       "      <td>0.0</td>\n",
       "      <td>0.0</td>\n",
       "      <td>0.0</td>\n",
       "      <td>0.0</td>\n",
       "      <td>0.0</td>\n",
       "      <td>0.0</td>\n",
       "      <td>0.0</td>\n",
       "      <td>0.0</td>\n",
       "      <td>0.0</td>\n",
       "      <td>0.0</td>\n",
       "      <td>1.0</td>\n",
       "      <td>0.0</td>\n",
       "      <td>0.0</td>\n",
       "      <td>1.0</td>\n",
       "      <td>0.0</td>\n",
       "      <td>0.0</td>\n",
       "      <td>1.0</td>\n",
       "      <td>0.0</td>\n",
       "      <td>0.0</td>\n",
       "      <td>0.0</td>\n",
       "      <td>1.0</td>\n",
       "      <td>0.0</td>\n",
       "      <td>0.0</td>\n",
       "      <td>0.0</td>\n",
       "      <td>0.0</td>\n",
       "      <td>0.0</td>\n",
       "      <td>0.0</td>\n",
       "      <td>0.0</td>\n",
       "    </tr>\n",
       "    <tr>\n",
       "      <th>3</th>\n",
       "      <td>BF3NC7KV</td>\n",
       "      <td>1</td>\n",
       "      <td>0</td>\n",
       "      <td>470454</td>\n",
       "      <td>0</td>\n",
       "      <td>0</td>\n",
       "      <td>0.0</td>\n",
       "      <td>0.0</td>\n",
       "      <td>0.0</td>\n",
       "      <td>0.0</td>\n",
       "      <td>0.0</td>\n",
       "      <td>0.0</td>\n",
       "      <td>0.0</td>\n",
       "      <td>0.0</td>\n",
       "      <td>0.0</td>\n",
       "      <td>0.0</td>\n",
       "      <td>0.0</td>\n",
       "      <td>0.0</td>\n",
       "      <td>0.0</td>\n",
       "      <td>0.0</td>\n",
       "      <td>0.0</td>\n",
       "      <td>0.0</td>\n",
       "      <td>0.0</td>\n",
       "      <td>0.0</td>\n",
       "      <td>0.0</td>\n",
       "      <td>0.0</td>\n",
       "      <td>1.0</td>\n",
       "      <td>0.0</td>\n",
       "      <td>0.0</td>\n",
       "      <td>0.0</td>\n",
       "      <td>0.0</td>\n",
       "      <td>0.0</td>\n",
       "      <td>0.0</td>\n",
       "      <td>0.0</td>\n",
       "      <td>0.0</td>\n",
       "      <td>0.0</td>\n",
       "      <td>0.0</td>\n",
       "      <td>0.0</td>\n",
       "      <td>0.0</td>\n",
       "      <td>0.0</td>\n",
       "      <td>0.0</td>\n",
       "      <td>0.0</td>\n",
       "      <td>0.0</td>\n",
       "      <td>1.0</td>\n",
       "      <td>0.0</td>\n",
       "      <td>1.0</td>\n",
       "      <td>0.0</td>\n",
       "      <td>0.0</td>\n",
       "      <td>0.0</td>\n",
       "      <td>1.0</td>\n",
       "      <td>0.0</td>\n",
       "      <td>0.0</td>\n",
       "      <td>0.0</td>\n",
       "      <td>0.0</td>\n",
       "      <td>1.0</td>\n",
       "      <td>0.0</td>\n",
       "      <td>0.0</td>\n",
       "      <td>0.0</td>\n",
       "      <td>0.0</td>\n",
       "      <td>0.0</td>\n",
       "      <td>0.0</td>\n",
       "      <td>0.0</td>\n",
       "    </tr>\n",
       "    <tr>\n",
       "      <th>4</th>\n",
       "      <td>TEASRWXV</td>\n",
       "      <td>0</td>\n",
       "      <td>0</td>\n",
       "      <td>886787</td>\n",
       "      <td>0</td>\n",
       "      <td>0</td>\n",
       "      <td>0.0</td>\n",
       "      <td>0.0</td>\n",
       "      <td>0.0</td>\n",
       "      <td>0.0</td>\n",
       "      <td>0.0</td>\n",
       "      <td>0.0</td>\n",
       "      <td>0.0</td>\n",
       "      <td>0.0</td>\n",
       "      <td>0.0</td>\n",
       "      <td>0.0</td>\n",
       "      <td>0.0</td>\n",
       "      <td>0.0</td>\n",
       "      <td>0.0</td>\n",
       "      <td>0.0</td>\n",
       "      <td>0.0</td>\n",
       "      <td>0.0</td>\n",
       "      <td>0.0</td>\n",
       "      <td>0.0</td>\n",
       "      <td>0.0</td>\n",
       "      <td>0.0</td>\n",
       "      <td>0.0</td>\n",
       "      <td>0.0</td>\n",
       "      <td>0.0</td>\n",
       "      <td>0.0</td>\n",
       "      <td>0.0</td>\n",
       "      <td>0.0</td>\n",
       "      <td>0.0</td>\n",
       "      <td>0.0</td>\n",
       "      <td>0.0</td>\n",
       "      <td>0.0</td>\n",
       "      <td>0.0</td>\n",
       "      <td>0.0</td>\n",
       "      <td>1.0</td>\n",
       "      <td>0.0</td>\n",
       "      <td>0.0</td>\n",
       "      <td>0.0</td>\n",
       "      <td>0.0</td>\n",
       "      <td>1.0</td>\n",
       "      <td>0.0</td>\n",
       "      <td>1.0</td>\n",
       "      <td>0.0</td>\n",
       "      <td>0.0</td>\n",
       "      <td>0.0</td>\n",
       "      <td>1.0</td>\n",
       "      <td>0.0</td>\n",
       "      <td>0.0</td>\n",
       "      <td>0.0</td>\n",
       "      <td>0.0</td>\n",
       "      <td>0.0</td>\n",
       "      <td>1.0</td>\n",
       "      <td>0.0</td>\n",
       "      <td>0.0</td>\n",
       "      <td>0.0</td>\n",
       "      <td>0.0</td>\n",
       "      <td>0.0</td>\n",
       "      <td>0.0</td>\n",
       "    </tr>\n",
       "  </tbody>\n",
       "</table>\n",
       "</div>"
      ],
      "text/plain": [
       "         ID  Gender  Credit_Product  Avg_Account_Balance  Is_Active  Is_Lead  x0_RG250  x0_RG251  x0_RG252  x0_RG253  x0_RG254  x0_RG255  x0_RG256  x0_RG257  x0_RG258  x0_RG259  x0_RG260  x0_RG261  x0_RG262  x0_RG263  x0_RG264  x0_RG265  x0_RG266  x0_RG267  x0_RG268  x0_RG269  x0_RG270  x0_RG271  x0_RG272  x0_RG273  x0_RG274  x0_RG275  x0_RG276  x0_RG277  x0_RG278  x0_RG279  x0_RG280  x0_RG281  x0_RG282  x0_RG283  x0_RG284  x1_Entrepreneur  x1_Other  x1_Salaried  x1_Self_Employed  x2_X1  \\\n",
       "0  NNVBBKZB       0               0              1045696          0        0       0.0       0.0       0.0       0.0       0.0       0.0       0.0       0.0       0.0       0.0       0.0       0.0       0.0       0.0       0.0       0.0       0.0       0.0       1.0       0.0       0.0       0.0       0.0       0.0       0.0       0.0       0.0       0.0       0.0       0.0       0.0       0.0       0.0       0.0       0.0              0.0       1.0          0.0               0.0    0.0   \n",
       "1  IDD62UNG       0               0               581988          0        0       0.0       0.0       0.0       0.0       0.0       0.0       0.0       0.0       0.0       0.0       0.0       0.0       0.0       0.0       0.0       0.0       0.0       0.0       0.0       0.0       0.0       0.0       0.0       0.0       0.0       0.0       0.0       1.0       0.0       0.0       0.0       0.0       0.0       0.0       0.0              0.0       0.0          1.0               0.0    1.0   \n",
       "2  HD3DSEMC       0               0              1484315          1        0       0.0       0.0       0.0       0.0       0.0       0.0       0.0       0.0       0.0       0.0       0.0       0.0       0.0       0.0       0.0       0.0       0.0       0.0       1.0       0.0       0.0       0.0       0.0       0.0       0.0       0.0       0.0       0.0       0.0       0.0       0.0       0.0       0.0       0.0       0.0              0.0       0.0          0.0               1.0    0.0   \n",
       "3  BF3NC7KV       1               0               470454          0        0       0.0       0.0       0.0       0.0       0.0       0.0       0.0       0.0       0.0       0.0       0.0       0.0       0.0       0.0       0.0       0.0       0.0       0.0       0.0       0.0       1.0       0.0       0.0       0.0       0.0       0.0       0.0       0.0       0.0       0.0       0.0       0.0       0.0       0.0       0.0              0.0       0.0          1.0               0.0    1.0   \n",
       "4  TEASRWXV       0               0               886787          0        0       0.0       0.0       0.0       0.0       0.0       0.0       0.0       0.0       0.0       0.0       0.0       0.0       0.0       0.0       0.0       0.0       0.0       0.0       0.0       0.0       0.0       0.0       0.0       0.0       0.0       0.0       0.0       0.0       0.0       0.0       0.0       0.0       1.0       0.0       0.0              0.0       0.0          1.0               0.0    1.0   \n",
       "\n",
       "   x2_X2  x2_X3  x2_X4  x0_25-50  x0_50-75  x0_<25  x0_>75  x1_105-120  x1_15-30  x1_30-45  x1_45-60  x1_60-75  x1_75-90  x1_90-105  x1_<15  x1_>120  \n",
       "0    0.0    1.0    0.0       0.0       1.0     0.0     0.0         0.0       0.0       1.0       0.0       0.0       0.0        0.0     0.0      0.0  \n",
       "1    0.0    0.0    0.0       1.0       0.0     0.0     0.0         0.0       0.0       1.0       0.0       0.0       0.0        0.0     0.0      0.0  \n",
       "2    0.0    1.0    0.0       0.0       1.0     0.0     0.0         0.0       1.0       0.0       0.0       0.0       0.0        0.0     0.0      0.0  \n",
       "3    0.0    0.0    0.0       1.0       0.0     0.0     0.0         0.0       1.0       0.0       0.0       0.0       0.0        0.0     0.0      0.0  \n",
       "4    0.0    0.0    0.0       1.0       0.0     0.0     0.0         0.0       0.0       1.0       0.0       0.0       0.0        0.0     0.0      0.0  "
      ]
     },
     "execution_count": 44,
     "metadata": {},
     "output_type": "execute_result"
    }
   ],
   "source": [
    "df_train.head()"
   ]
  },
  {
   "cell_type": "markdown",
   "metadata": {
    "papermill": {
     "duration": 0.090946,
     "end_time": "2021-05-30T15:25:16.600714",
     "exception": false,
     "start_time": "2021-05-30T15:25:16.509768",
     "status": "completed"
    },
    "tags": []
   },
   "source": [
    "### Splitting data with train and validation set"
   ]
  },
  {
   "cell_type": "code",
   "execution_count": 45,
   "metadata": {
    "execution": {
     "iopub.execute_input": "2021-05-30T15:25:16.830267Z",
     "iopub.status.busy": "2021-05-30T15:25:16.828975Z",
     "iopub.status.idle": "2021-05-30T15:25:16.983943Z",
     "shell.execute_reply": "2021-05-30T15:25:16.983204Z",
     "shell.execute_reply.started": "2021-05-30T14:40:45.817651Z"
    },
    "papermill": {
     "duration": 0.290533,
     "end_time": "2021-05-30T15:25:16.984093",
     "exception": false,
     "start_time": "2021-05-30T15:25:16.693560",
     "status": "completed"
    },
    "tags": []
   },
   "outputs": [],
   "source": [
    "X = df_train.drop(['ID','Is_Lead'], 1)\n",
    "y = df_train['Is_Lead']\n",
    "X_train, X_val, y_train, y_val = train_test_split(X, y, train_size=0.7, random_state=23)"
   ]
  },
  {
   "cell_type": "code",
   "execution_count": 46,
   "metadata": {
    "execution": {
     "iopub.execute_input": "2021-05-30T15:25:17.179933Z",
     "iopub.status.busy": "2021-05-30T15:25:17.178926Z",
     "iopub.status.idle": "2021-05-30T15:25:17.184533Z",
     "shell.execute_reply": "2021-05-30T15:25:17.183795Z",
     "shell.execute_reply.started": "2021-05-30T14:40:46.005562Z"
    },
    "papermill": {
     "duration": 0.104637,
     "end_time": "2021-05-30T15:25:17.184728",
     "exception": false,
     "start_time": "2021-05-30T15:25:17.080091",
     "status": "completed"
    },
    "tags": []
   },
   "outputs": [
    {
     "data": {
      "text/plain": [
       "(245725, 62)"
      ]
     },
     "execution_count": 46,
     "metadata": {},
     "output_type": "execute_result"
    }
   ],
   "source": [
    "df_train.shape"
   ]
  },
  {
   "cell_type": "code",
   "execution_count": 47,
   "metadata": {
    "execution": {
     "iopub.execute_input": "2021-05-30T15:25:17.380886Z",
     "iopub.status.busy": "2021-05-30T15:25:17.379798Z",
     "iopub.status.idle": "2021-05-30T15:25:17.392999Z",
     "shell.execute_reply": "2021-05-30T15:25:17.392274Z",
     "shell.execute_reply.started": "2021-05-30T14:40:46.012121Z"
    },
    "papermill": {
     "duration": 0.113919,
     "end_time": "2021-05-30T15:25:17.393159",
     "exception": false,
     "start_time": "2021-05-30T15:25:17.279240",
     "status": "completed"
    },
    "tags": []
   },
   "outputs": [
    {
     "data": {
      "text/plain": [
       "Index(['ID'], dtype='object')"
      ]
     },
     "execution_count": 47,
     "metadata": {},
     "output_type": "execute_result"
    }
   ],
   "source": [
    "cols_obj = df_train.select_dtypes('object').columns\n",
    "cols_obj"
   ]
  },
  {
   "cell_type": "code",
   "execution_count": 48,
   "metadata": {
    "execution": {
     "iopub.execute_input": "2021-05-30T15:25:17.663138Z",
     "iopub.status.busy": "2021-05-30T15:25:17.662215Z",
     "iopub.status.idle": "2021-05-30T15:25:17.667838Z",
     "shell.execute_reply": "2021-05-30T15:25:17.667127Z",
     "shell.execute_reply.started": "2021-05-30T14:40:46.032064Z"
    },
    "papermill": {
     "duration": 0.182911,
     "end_time": "2021-05-30T15:25:17.668005",
     "exception": false,
     "start_time": "2021-05-30T15:25:17.485094",
     "status": "completed"
    },
    "tags": []
   },
   "outputs": [
    {
     "data": {
      "text/plain": [
       "Index(['Gender', 'Credit_Product', 'Avg_Account_Balance', 'Is_Active', 'Is_Lead', 'x0_RG250', 'x0_RG251', 'x0_RG252', 'x0_RG253', 'x0_RG254', 'x0_RG255', 'x0_RG256', 'x0_RG257', 'x0_RG258', 'x0_RG259', 'x0_RG260', 'x0_RG261', 'x0_RG262', 'x0_RG263', 'x0_RG264', 'x0_RG265', 'x0_RG266', 'x0_RG267', 'x0_RG268', 'x0_RG269', 'x0_RG270', 'x0_RG271', 'x0_RG272', 'x0_RG273', 'x0_RG274', 'x0_RG275', 'x0_RG276', 'x0_RG277', 'x0_RG278', 'x0_RG279', 'x0_RG280', 'x0_RG281', 'x0_RG282', 'x0_RG283',\n",
       "       'x0_RG284', 'x1_Entrepreneur', 'x1_Other', 'x1_Salaried', 'x1_Self_Employed', 'x2_X1', 'x2_X2', 'x2_X3', 'x2_X4', 'x0_25-50', 'x0_50-75', 'x0_<25', 'x0_>75', 'x1_105-120', 'x1_15-30', 'x1_30-45', 'x1_45-60', 'x1_60-75', 'x1_75-90', 'x1_90-105', 'x1_<15', 'x1_>120'],\n",
       "      dtype='object')"
      ]
     },
     "execution_count": 48,
     "metadata": {},
     "output_type": "execute_result"
    }
   ],
   "source": [
    "cols_num = df_train.select_dtypes('number').columns\n",
    "cols_num"
   ]
  },
  {
   "cell_type": "markdown",
   "metadata": {
    "papermill": {
     "duration": 0.093967,
     "end_time": "2021-05-30T15:25:17.855735",
     "exception": false,
     "start_time": "2021-05-30T15:25:17.761768",
     "status": "completed"
    },
    "tags": []
   },
   "source": [
    "### Distplot"
   ]
  },
  {
   "cell_type": "code",
   "execution_count": 49,
   "metadata": {
    "execution": {
     "iopub.execute_input": "2021-05-30T15:25:18.077806Z",
     "iopub.status.busy": "2021-05-30T15:25:18.068645Z",
     "iopub.status.idle": "2021-05-30T15:25:19.125475Z",
     "shell.execute_reply": "2021-05-30T15:25:19.124914Z",
     "shell.execute_reply.started": "2021-05-30T14:40:46.089348Z"
    },
    "papermill": {
     "duration": 1.175933,
     "end_time": "2021-05-30T15:25:19.125654",
     "exception": false,
     "start_time": "2021-05-30T15:25:17.949721",
     "status": "completed"
    },
    "tags": []
   },
   "outputs": [
    {
     "data": {
      "image/png": "[encoded data removed]",
      "text/plain": [
       "<Figure size 1080x576 with 1 Axes>"
      ]
     },
     "metadata": {
      "needs_background": "light"
     },
     "output_type": "display_data"
    }
   ],
   "source": [
    "plt.figure(figsize=(15,8))\n",
    "# for i in enumerate(cols):\n",
    "#     plt.subplot(1,3,i[0]+1)\n",
    "sns.distplot(X_train['Avg_Account_Balance'])\n",
    "plt.show()"
   ]
  },
  {
   "cell_type": "markdown",
   "metadata": {
    "papermill": {
     "duration": 0.092734,
     "end_time": "2021-05-30T15:25:19.314434",
     "exception": false,
     "start_time": "2021-05-30T15:25:19.221700",
     "status": "completed"
    },
    "tags": []
   },
   "source": [
    "### Using Power transformer to bring the data to normal distribution"
   ]
  },
  {
   "cell_type": "code",
   "execution_count": 50,
   "metadata": {
    "execution": {
     "iopub.execute_input": "2021-05-30T15:25:19.512331Z",
     "iopub.status.busy": "2021-05-30T15:25:19.511678Z",
     "iopub.status.idle": "2021-05-30T15:25:20.348837Z",
     "shell.execute_reply": "2021-05-30T15:25:20.349432Z",
     "shell.execute_reply.started": "2021-05-30T14:40:47.156690Z"
    },
    "papermill": {
     "duration": 0.942339,
     "end_time": "2021-05-30T15:25:20.349647",
     "exception": false,
     "start_time": "2021-05-30T15:25:19.407308",
     "status": "completed"
    },
    "tags": []
   },
   "outputs": [],
   "source": [
    "pt = PowerTransformer(copy=False)\n",
    "X_train[['Avg_Account_Balance']] = pt.fit_transform(X_train[['Avg_Account_Balance']])\n",
    "X_val[['Avg_Account_Balance']] = pt.transform(X_val[['Avg_Account_Balance']])\n",
    "df_test[['Avg_Account_Balance']] = pt.transform(df_test[['Avg_Account_Balance']])"
   ]
  },
  {
   "cell_type": "code",
   "execution_count": 51,
   "metadata": {
    "execution": {
     "iopub.execute_input": "2021-05-30T15:25:20.543766Z",
     "iopub.status.busy": "2021-05-30T15:25:20.542764Z",
     "iopub.status.idle": "2021-05-30T15:25:21.687457Z",
     "shell.execute_reply": "2021-05-30T15:25:21.686467Z",
     "shell.execute_reply.started": "2021-05-30T14:40:47.948105Z"
    },
    "papermill": {
     "duration": 1.242417,
     "end_time": "2021-05-30T15:25:21.687717",
     "exception": false,
     "start_time": "2021-05-30T15:25:20.445300",
     "status": "completed"
    },
    "tags": []
   },
   "outputs": [
    {
     "data": {
      "image/png": "[encoded data removed]",
      "text/plain": [
       "<Figure size 1080x576 with 1 Axes>"
      ]
     },
     "metadata": {
      "needs_background": "light"
     },
     "output_type": "display_data"
    }
   ],
   "source": [
    "plt.figure(figsize=(15,8))\n",
    "# for i in enumerate(cols):\n",
    "#     plt.subplot(1,3,i[0]+1)\n",
    "sns.distplot(X_train['Avg_Account_Balance'])\n",
    "plt.show()"
   ]
  },
  {
   "cell_type": "code",
   "execution_count": 52,
   "metadata": {
    "execution": {
     "iopub.execute_input": "2021-05-30T15:25:21.918836Z",
     "iopub.status.busy": "2021-05-30T15:25:21.896086Z",
     "iopub.status.idle": "2021-05-30T15:25:21.963049Z",
     "shell.execute_reply": "2021-05-30T15:25:21.961949Z",
     "shell.execute_reply.started": "2021-05-30T14:40:49.085130Z"
    },
    "papermill": {
     "duration": 0.17913,
     "end_time": "2021-05-30T15:25:21.963202",
     "exception": false,
     "start_time": "2021-05-30T15:25:21.784072",
     "status": "completed"
    },
    "tags": []
   },
   "outputs": [
    {
     "data": {
      "text/html": [
       "<div>\n",
       "<style scoped>\n",
       "    .dataframe tbody tr th:only-of-type {\n",
       "        vertical-align: middle;\n",
       "    }\n",
       "\n",
       "    .dataframe tbody tr th {\n",
       "        vertical-align: top;\n",
       "    }\n",
       "\n",
       "    .dataframe thead th {\n",
       "        text-align: right;\n",
       "    }\n",
       "</style>\n",
       "<table border=\"1\" class=\"dataframe\">\n",
       "  <thead>\n",
       "    <tr style=\"text-align: right;\">\n",
       "      <th></th>\n",
       "      <th>Gender</th>\n",
       "      <th>Credit_Product</th>\n",
       "      <th>Avg_Account_Balance</th>\n",
       "      <th>Is_Active</th>\n",
       "      <th>x0_RG250</th>\n",
       "      <th>x0_RG251</th>\n",
       "      <th>x0_RG252</th>\n",
       "      <th>x0_RG253</th>\n",
       "      <th>x0_RG254</th>\n",
       "      <th>x0_RG255</th>\n",
       "      <th>x0_RG256</th>\n",
       "      <th>x0_RG257</th>\n",
       "      <th>x0_RG258</th>\n",
       "      <th>x0_RG259</th>\n",
       "      <th>x0_RG260</th>\n",
       "      <th>x0_RG261</th>\n",
       "      <th>x0_RG262</th>\n",
       "      <th>x0_RG263</th>\n",
       "      <th>x0_RG264</th>\n",
       "      <th>x0_RG265</th>\n",
       "      <th>x0_RG266</th>\n",
       "      <th>x0_RG267</th>\n",
       "      <th>x0_RG268</th>\n",
       "      <th>x0_RG269</th>\n",
       "      <th>x0_RG270</th>\n",
       "      <th>x0_RG271</th>\n",
       "      <th>x0_RG272</th>\n",
       "      <th>x0_RG273</th>\n",
       "      <th>x0_RG274</th>\n",
       "      <th>x0_RG275</th>\n",
       "      <th>x0_RG276</th>\n",
       "      <th>x0_RG277</th>\n",
       "      <th>x0_RG278</th>\n",
       "      <th>x0_RG279</th>\n",
       "      <th>x0_RG280</th>\n",
       "      <th>x0_RG281</th>\n",
       "      <th>x0_RG282</th>\n",
       "      <th>x0_RG283</th>\n",
       "      <th>x0_RG284</th>\n",
       "      <th>x1_Entrepreneur</th>\n",
       "      <th>x1_Other</th>\n",
       "      <th>x1_Salaried</th>\n",
       "      <th>x1_Self_Employed</th>\n",
       "      <th>x2_X1</th>\n",
       "      <th>x2_X2</th>\n",
       "      <th>x2_X3</th>\n",
       "      <th>x2_X4</th>\n",
       "      <th>x0_25-50</th>\n",
       "      <th>x0_50-75</th>\n",
       "      <th>x0_&lt;25</th>\n",
       "      <th>x0_&gt;75</th>\n",
       "      <th>x1_105-120</th>\n",
       "      <th>x1_15-30</th>\n",
       "      <th>x1_30-45</th>\n",
       "      <th>x1_45-60</th>\n",
       "      <th>x1_60-75</th>\n",
       "      <th>x1_75-90</th>\n",
       "      <th>x1_90-105</th>\n",
       "      <th>x1_&lt;15</th>\n",
       "      <th>x1_&gt;120</th>\n",
       "    </tr>\n",
       "  </thead>\n",
       "  <tbody>\n",
       "    <tr>\n",
       "      <th>73250</th>\n",
       "      <td>1</td>\n",
       "      <td>0</td>\n",
       "      <td>3.019998</td>\n",
       "      <td>0</td>\n",
       "      <td>0.0</td>\n",
       "      <td>0.0</td>\n",
       "      <td>0.0</td>\n",
       "      <td>0.0</td>\n",
       "      <td>0.0</td>\n",
       "      <td>0.0</td>\n",
       "      <td>0.0</td>\n",
       "      <td>0.0</td>\n",
       "      <td>0.0</td>\n",
       "      <td>0.0</td>\n",
       "      <td>0.0</td>\n",
       "      <td>0.0</td>\n",
       "      <td>0.0</td>\n",
       "      <td>0.0</td>\n",
       "      <td>0.0</td>\n",
       "      <td>0.0</td>\n",
       "      <td>0.0</td>\n",
       "      <td>0.0</td>\n",
       "      <td>1.0</td>\n",
       "      <td>0.0</td>\n",
       "      <td>0.0</td>\n",
       "      <td>0.0</td>\n",
       "      <td>0.0</td>\n",
       "      <td>0.0</td>\n",
       "      <td>0.0</td>\n",
       "      <td>0.0</td>\n",
       "      <td>0.0</td>\n",
       "      <td>0.0</td>\n",
       "      <td>0.0</td>\n",
       "      <td>0.0</td>\n",
       "      <td>0.0</td>\n",
       "      <td>0.0</td>\n",
       "      <td>0.0</td>\n",
       "      <td>0.0</td>\n",
       "      <td>0.0</td>\n",
       "      <td>0.0</td>\n",
       "      <td>0.0</td>\n",
       "      <td>0.0</td>\n",
       "      <td>1.0</td>\n",
       "      <td>0.0</td>\n",
       "      <td>0.0</td>\n",
       "      <td>1.0</td>\n",
       "      <td>0.0</td>\n",
       "      <td>0.0</td>\n",
       "      <td>1.0</td>\n",
       "      <td>0.0</td>\n",
       "      <td>0.0</td>\n",
       "      <td>0.0</td>\n",
       "      <td>0.0</td>\n",
       "      <td>0.0</td>\n",
       "      <td>0.0</td>\n",
       "      <td>0.0</td>\n",
       "      <td>0.0</td>\n",
       "      <td>0.0</td>\n",
       "      <td>0.0</td>\n",
       "      <td>1.0</td>\n",
       "    </tr>\n",
       "    <tr>\n",
       "      <th>72152</th>\n",
       "      <td>1</td>\n",
       "      <td>0</td>\n",
       "      <td>0.332554</td>\n",
       "      <td>1</td>\n",
       "      <td>0.0</td>\n",
       "      <td>0.0</td>\n",
       "      <td>0.0</td>\n",
       "      <td>0.0</td>\n",
       "      <td>1.0</td>\n",
       "      <td>0.0</td>\n",
       "      <td>0.0</td>\n",
       "      <td>0.0</td>\n",
       "      <td>0.0</td>\n",
       "      <td>0.0</td>\n",
       "      <td>0.0</td>\n",
       "      <td>0.0</td>\n",
       "      <td>0.0</td>\n",
       "      <td>0.0</td>\n",
       "      <td>0.0</td>\n",
       "      <td>0.0</td>\n",
       "      <td>0.0</td>\n",
       "      <td>0.0</td>\n",
       "      <td>0.0</td>\n",
       "      <td>0.0</td>\n",
       "      <td>0.0</td>\n",
       "      <td>0.0</td>\n",
       "      <td>0.0</td>\n",
       "      <td>0.0</td>\n",
       "      <td>0.0</td>\n",
       "      <td>0.0</td>\n",
       "      <td>0.0</td>\n",
       "      <td>0.0</td>\n",
       "      <td>0.0</td>\n",
       "      <td>0.0</td>\n",
       "      <td>0.0</td>\n",
       "      <td>0.0</td>\n",
       "      <td>0.0</td>\n",
       "      <td>0.0</td>\n",
       "      <td>0.0</td>\n",
       "      <td>0.0</td>\n",
       "      <td>0.0</td>\n",
       "      <td>0.0</td>\n",
       "      <td>1.0</td>\n",
       "      <td>0.0</td>\n",
       "      <td>0.0</td>\n",
       "      <td>1.0</td>\n",
       "      <td>0.0</td>\n",
       "      <td>1.0</td>\n",
       "      <td>0.0</td>\n",
       "      <td>0.0</td>\n",
       "      <td>0.0</td>\n",
       "      <td>0.0</td>\n",
       "      <td>0.0</td>\n",
       "      <td>0.0</td>\n",
       "      <td>1.0</td>\n",
       "      <td>0.0</td>\n",
       "      <td>0.0</td>\n",
       "      <td>0.0</td>\n",
       "      <td>0.0</td>\n",
       "      <td>0.0</td>\n",
       "    </tr>\n",
       "    <tr>\n",
       "      <th>80416</th>\n",
       "      <td>1</td>\n",
       "      <td>1</td>\n",
       "      <td>-0.766094</td>\n",
       "      <td>0</td>\n",
       "      <td>0.0</td>\n",
       "      <td>0.0</td>\n",
       "      <td>0.0</td>\n",
       "      <td>0.0</td>\n",
       "      <td>1.0</td>\n",
       "      <td>0.0</td>\n",
       "      <td>0.0</td>\n",
       "      <td>0.0</td>\n",
       "      <td>0.0</td>\n",
       "      <td>0.0</td>\n",
       "      <td>0.0</td>\n",
       "      <td>0.0</td>\n",
       "      <td>0.0</td>\n",
       "      <td>0.0</td>\n",
       "      <td>0.0</td>\n",
       "      <td>0.0</td>\n",
       "      <td>0.0</td>\n",
       "      <td>0.0</td>\n",
       "      <td>0.0</td>\n",
       "      <td>0.0</td>\n",
       "      <td>0.0</td>\n",
       "      <td>0.0</td>\n",
       "      <td>0.0</td>\n",
       "      <td>0.0</td>\n",
       "      <td>0.0</td>\n",
       "      <td>0.0</td>\n",
       "      <td>0.0</td>\n",
       "      <td>0.0</td>\n",
       "      <td>0.0</td>\n",
       "      <td>0.0</td>\n",
       "      <td>0.0</td>\n",
       "      <td>0.0</td>\n",
       "      <td>0.0</td>\n",
       "      <td>0.0</td>\n",
       "      <td>0.0</td>\n",
       "      <td>0.0</td>\n",
       "      <td>1.0</td>\n",
       "      <td>0.0</td>\n",
       "      <td>0.0</td>\n",
       "      <td>0.0</td>\n",
       "      <td>1.0</td>\n",
       "      <td>0.0</td>\n",
       "      <td>0.0</td>\n",
       "      <td>1.0</td>\n",
       "      <td>0.0</td>\n",
       "      <td>0.0</td>\n",
       "      <td>0.0</td>\n",
       "      <td>0.0</td>\n",
       "      <td>1.0</td>\n",
       "      <td>0.0</td>\n",
       "      <td>0.0</td>\n",
       "      <td>0.0</td>\n",
       "      <td>0.0</td>\n",
       "      <td>0.0</td>\n",
       "      <td>0.0</td>\n",
       "      <td>0.0</td>\n",
       "    </tr>\n",
       "    <tr>\n",
       "      <th>80053</th>\n",
       "      <td>1</td>\n",
       "      <td>0</td>\n",
       "      <td>-1.379284</td>\n",
       "      <td>1</td>\n",
       "      <td>0.0</td>\n",
       "      <td>0.0</td>\n",
       "      <td>0.0</td>\n",
       "      <td>0.0</td>\n",
       "      <td>0.0</td>\n",
       "      <td>0.0</td>\n",
       "      <td>0.0</td>\n",
       "      <td>0.0</td>\n",
       "      <td>0.0</td>\n",
       "      <td>0.0</td>\n",
       "      <td>0.0</td>\n",
       "      <td>0.0</td>\n",
       "      <td>0.0</td>\n",
       "      <td>0.0</td>\n",
       "      <td>0.0</td>\n",
       "      <td>0.0</td>\n",
       "      <td>1.0</td>\n",
       "      <td>0.0</td>\n",
       "      <td>0.0</td>\n",
       "      <td>0.0</td>\n",
       "      <td>0.0</td>\n",
       "      <td>0.0</td>\n",
       "      <td>0.0</td>\n",
       "      <td>0.0</td>\n",
       "      <td>0.0</td>\n",
       "      <td>0.0</td>\n",
       "      <td>0.0</td>\n",
       "      <td>0.0</td>\n",
       "      <td>0.0</td>\n",
       "      <td>0.0</td>\n",
       "      <td>0.0</td>\n",
       "      <td>0.0</td>\n",
       "      <td>0.0</td>\n",
       "      <td>0.0</td>\n",
       "      <td>0.0</td>\n",
       "      <td>0.0</td>\n",
       "      <td>0.0</td>\n",
       "      <td>0.0</td>\n",
       "      <td>1.0</td>\n",
       "      <td>0.0</td>\n",
       "      <td>1.0</td>\n",
       "      <td>0.0</td>\n",
       "      <td>0.0</td>\n",
       "      <td>1.0</td>\n",
       "      <td>0.0</td>\n",
       "      <td>0.0</td>\n",
       "      <td>0.0</td>\n",
       "      <td>0.0</td>\n",
       "      <td>0.0</td>\n",
       "      <td>0.0</td>\n",
       "      <td>1.0</td>\n",
       "      <td>0.0</td>\n",
       "      <td>0.0</td>\n",
       "      <td>0.0</td>\n",
       "      <td>0.0</td>\n",
       "      <td>0.0</td>\n",
       "    </tr>\n",
       "    <tr>\n",
       "      <th>155367</th>\n",
       "      <td>1</td>\n",
       "      <td>3</td>\n",
       "      <td>0.009297</td>\n",
       "      <td>1</td>\n",
       "      <td>0.0</td>\n",
       "      <td>0.0</td>\n",
       "      <td>0.0</td>\n",
       "      <td>0.0</td>\n",
       "      <td>0.0</td>\n",
       "      <td>0.0</td>\n",
       "      <td>0.0</td>\n",
       "      <td>0.0</td>\n",
       "      <td>0.0</td>\n",
       "      <td>0.0</td>\n",
       "      <td>0.0</td>\n",
       "      <td>0.0</td>\n",
       "      <td>0.0</td>\n",
       "      <td>1.0</td>\n",
       "      <td>0.0</td>\n",
       "      <td>0.0</td>\n",
       "      <td>0.0</td>\n",
       "      <td>0.0</td>\n",
       "      <td>0.0</td>\n",
       "      <td>0.0</td>\n",
       "      <td>0.0</td>\n",
       "      <td>0.0</td>\n",
       "      <td>0.0</td>\n",
       "      <td>0.0</td>\n",
       "      <td>0.0</td>\n",
       "      <td>0.0</td>\n",
       "      <td>0.0</td>\n",
       "      <td>0.0</td>\n",
       "      <td>0.0</td>\n",
       "      <td>0.0</td>\n",
       "      <td>0.0</td>\n",
       "      <td>0.0</td>\n",
       "      <td>0.0</td>\n",
       "      <td>0.0</td>\n",
       "      <td>0.0</td>\n",
       "      <td>0.0</td>\n",
       "      <td>0.0</td>\n",
       "      <td>1.0</td>\n",
       "      <td>0.0</td>\n",
       "      <td>0.0</td>\n",
       "      <td>0.0</td>\n",
       "      <td>1.0</td>\n",
       "      <td>0.0</td>\n",
       "      <td>0.0</td>\n",
       "      <td>1.0</td>\n",
       "      <td>0.0</td>\n",
       "      <td>0.0</td>\n",
       "      <td>1.0</td>\n",
       "      <td>0.0</td>\n",
       "      <td>0.0</td>\n",
       "      <td>0.0</td>\n",
       "      <td>0.0</td>\n",
       "      <td>0.0</td>\n",
       "      <td>0.0</td>\n",
       "      <td>0.0</td>\n",
       "      <td>0.0</td>\n",
       "    </tr>\n",
       "  </tbody>\n",
       "</table>\n",
       "</div>"
      ],
      "text/plain": [
       "        Gender  Credit_Product  Avg_Account_Balance  Is_Active  x0_RG250  x0_RG251  x0_RG252  x0_RG253  x0_RG254  x0_RG255  x0_RG256  x0_RG257  x0_RG258  x0_RG259  x0_RG260  x0_RG261  x0_RG262  x0_RG263  x0_RG264  x0_RG265  x0_RG266  x0_RG267  x0_RG268  x0_RG269  x0_RG270  x0_RG271  x0_RG272  x0_RG273  x0_RG274  x0_RG275  x0_RG276  x0_RG277  x0_RG278  x0_RG279  x0_RG280  x0_RG281  x0_RG282  x0_RG283  x0_RG284  x1_Entrepreneur  x1_Other  x1_Salaried  x1_Self_Employed  x2_X1  x2_X2  x2_X3  \\\n",
       "73250        1               0             3.019998          0       0.0       0.0       0.0       0.0       0.0       0.0       0.0       0.0       0.0       0.0       0.0       0.0       0.0       0.0       0.0       0.0       0.0       0.0       1.0       0.0       0.0       0.0       0.0       0.0       0.0       0.0       0.0       0.0       0.0       0.0       0.0       0.0       0.0       0.0       0.0              0.0       0.0          0.0               1.0    0.0    0.0    1.0   \n",
       "72152        1               0             0.332554          1       0.0       0.0       0.0       0.0       1.0       0.0       0.0       0.0       0.0       0.0       0.0       0.0       0.0       0.0       0.0       0.0       0.0       0.0       0.0       0.0       0.0       0.0       0.0       0.0       0.0       0.0       0.0       0.0       0.0       0.0       0.0       0.0       0.0       0.0       0.0              0.0       0.0          0.0               1.0    0.0    0.0    1.0   \n",
       "80416        1               1            -0.766094          0       0.0       0.0       0.0       0.0       1.0       0.0       0.0       0.0       0.0       0.0       0.0       0.0       0.0       0.0       0.0       0.0       0.0       0.0       0.0       0.0       0.0       0.0       0.0       0.0       0.0       0.0       0.0       0.0       0.0       0.0       0.0       0.0       0.0       0.0       0.0              0.0       1.0          0.0               0.0    0.0    1.0    0.0   \n",
       "80053        1               0            -1.379284          1       0.0       0.0       0.0       0.0       0.0       0.0       0.0       0.0       0.0       0.0       0.0       0.0       0.0       0.0       0.0       0.0       1.0       0.0       0.0       0.0       0.0       0.0       0.0       0.0       0.0       0.0       0.0       0.0       0.0       0.0       0.0       0.0       0.0       0.0       0.0              0.0       0.0          0.0               1.0    0.0    1.0    0.0   \n",
       "155367       1               3             0.009297          1       0.0       0.0       0.0       0.0       0.0       0.0       0.0       0.0       0.0       0.0       0.0       0.0       0.0       1.0       0.0       0.0       0.0       0.0       0.0       0.0       0.0       0.0       0.0       0.0       0.0       0.0       0.0       0.0       0.0       0.0       0.0       0.0       0.0       0.0       0.0              0.0       0.0          1.0               0.0    0.0    0.0    1.0   \n",
       "\n",
       "        x2_X4  x0_25-50  x0_50-75  x0_<25  x0_>75  x1_105-120  x1_15-30  x1_30-45  x1_45-60  x1_60-75  x1_75-90  x1_90-105  x1_<15  x1_>120  \n",
       "73250     0.0       0.0       1.0     0.0     0.0         0.0       0.0       0.0       0.0       0.0       0.0        0.0     0.0      1.0  \n",
       "72152     0.0       1.0       0.0     0.0     0.0         0.0       0.0       0.0       1.0       0.0       0.0        0.0     0.0      0.0  \n",
       "80416     0.0       1.0       0.0     0.0     0.0         0.0       1.0       0.0       0.0       0.0       0.0        0.0     0.0      0.0  \n",
       "80053     0.0       1.0       0.0     0.0     0.0         0.0       0.0       0.0       1.0       0.0       0.0        0.0     0.0      0.0  \n",
       "155367    0.0       0.0       1.0     0.0     0.0         1.0       0.0       0.0       0.0       0.0       0.0        0.0     0.0      0.0  "
      ]
     },
     "execution_count": 52,
     "metadata": {},
     "output_type": "execute_result"
    }
   ],
   "source": [
    "X_train.head()"
   ]
  },
  {
   "cell_type": "code",
   "execution_count": 53,
   "metadata": {
    "execution": {
     "iopub.execute_input": "2021-05-30T15:25:22.192443Z",
     "iopub.status.busy": "2021-05-30T15:25:22.191720Z",
     "iopub.status.idle": "2021-05-30T15:25:22.196244Z",
     "shell.execute_reply": "2021-05-30T15:25:22.195612Z",
     "shell.execute_reply.started": "2021-05-30T14:40:49.160432Z"
    },
    "papermill": {
     "duration": 0.112057,
     "end_time": "2021-05-30T15:25:22.196414",
     "exception": false,
     "start_time": "2021-05-30T15:25:22.084357",
     "status": "completed"
    },
    "tags": []
   },
   "outputs": [
    {
     "data": {
      "text/plain": [
       "((172007, 60), (73718, 60), (172007,), (73718,))"
      ]
     },
     "execution_count": 53,
     "metadata": {},
     "output_type": "execute_result"
    }
   ],
   "source": [
    "X_train.shape, X_val.shape, y_train.shape, y_val.shape"
   ]
  },
  {
   "cell_type": "markdown",
   "metadata": {
    "papermill": {
     "duration": 0.096678,
     "end_time": "2021-05-30T15:25:22.388540",
     "exception": false,
     "start_time": "2021-05-30T15:25:22.291862",
     "status": "completed"
    },
    "tags": []
   },
   "source": [
    "### Data Modelling"
   ]
  },
  {
   "cell_type": "code",
   "execution_count": 54,
   "metadata": {
    "execution": {
     "iopub.execute_input": "2021-05-30T15:25:22.589254Z",
     "iopub.status.busy": "2021-05-30T15:25:22.588267Z",
     "iopub.status.idle": "2021-05-30T15:25:22.592033Z",
     "shell.execute_reply": "2021-05-30T15:25:22.591397Z",
     "shell.execute_reply.started": "2021-05-30T14:40:49.167749Z"
    },
    "papermill": {
     "duration": 0.106174,
     "end_time": "2021-05-30T15:25:22.592178",
     "exception": false,
     "start_time": "2021-05-30T15:25:22.486004",
     "status": "completed"
    },
    "tags": []
   },
   "outputs": [],
   "source": [
    "# Models\n",
    "model_list = list()\n",
    "#AUC curve\n",
    "AUCROC_train = list()\n",
    "AUCROC_val = list()"
   ]
  },
  {
   "cell_type": "markdown",
   "metadata": {},
   "source": [
    "### Running Logistic Regression"
   ]
  },
  {
   "cell_type": "code",
   "execution_count": 55,
   "metadata": {
    "execution": {
     "iopub.execute_input": "2021-05-30T15:25:22.790685Z",
     "iopub.status.busy": "2021-05-30T15:25:22.789739Z",
     "iopub.status.idle": "2021-05-30T15:25:22.793351Z",
     "shell.execute_reply": "2021-05-30T15:25:22.792756Z",
     "shell.execute_reply.started": "2021-05-30T14:40:49.181614Z"
    },
    "papermill": {
     "duration": 0.104325,
     "end_time": "2021-05-30T15:25:22.793534",
     "exception": false,
     "start_time": "2021-05-30T15:25:22.689209",
     "status": "completed"
    },
    "tags": []
   },
   "outputs": [],
   "source": [
    "model_LR = LogisticRegression()"
   ]
  },
  {
   "cell_type": "code",
   "execution_count": 56,
   "metadata": {
    "execution": {
     "iopub.execute_input": "2021-05-30T15:25:22.997969Z",
     "iopub.status.busy": "2021-05-30T15:25:22.997244Z",
     "iopub.status.idle": "2021-05-30T15:25:23.000455Z",
     "shell.execute_reply": "2021-05-30T15:25:23.000943Z",
     "shell.execute_reply.started": "2021-05-30T14:40:49.200320Z"
    },
    "papermill": {
     "duration": 0.111489,
     "end_time": "2021-05-30T15:25:23.001113",
     "exception": false,
     "start_time": "2021-05-30T15:25:22.889624",
     "status": "completed"
    },
    "tags": []
   },
   "outputs": [],
   "source": [
    "def model_fit(model, X_train, y_train, X_val, y_val, algo=None):\n",
    "    \n",
    "    model_LR.fit(X_train, y_train)\n",
    "    \n",
    "    y_train_prob = model_LR.predict_proba(X_train)\n",
    "    y_train_pred = model_LR.predict(X_train)\n",
    "    y_val_prob = model_LR.predict_proba(X_val)\n",
    "    y_val_pred = model_LR.predict(X_val)\n",
    "    \n",
    "    matrix_train = confusion_matrix(y_train, y_train_pred)\n",
    "    matrix_val = confusion_matrix(y_val, y_val_pred)\n",
    "    report_train = classification_report(y_train, y_train_pred)\n",
    "    report_val = classification_report(y_val, y_val_pred)\n",
    "    auc_train = roc_auc_score(y_train, y_train_prob[:,1])\n",
    "    auc_val = roc_auc_score(y_val, y_val_prob[:,1])\n",
    "    \n",
    "    print('Confusion Matrix for train')\n",
    "    print('='*60)\n",
    "    print(matrix_train,\"\\n\")\n",
    "    print('Confusion Matrix for val')\n",
    "    print('='*60)\n",
    "    print(matrix_val,\"\\n\")\n",
    "    print('Classification Report for train')\n",
    "    print('='*60)\n",
    "    print(report_train,\"\\n\")\n",
    "    print('Classification Report for val')\n",
    "    print('='*60)\n",
    "    print(report_val,\"\\n\")\n",
    "    print('AUC-ROC for train')\n",
    "    print('='*60)\n",
    "    print(auc_train,'\\n')\n",
    "    print('AUC-ROC for val')\n",
    "    print('='*60)\n",
    "    print(auc_val,'\\n')\n",
    "    print('Roc-Auc-Curve for Train set')\n",
    "    print('='*60)\n",
    "    print(plot_roc_curve(model_LR, X_train, y_train),'\\n')\n",
    "    print('Roc-Auc-Curve for Val set')\n",
    "    print('='*60)\n",
    "    print(plot_roc_curve(model_LR, X_val, y_val),'\\n')\n",
    "    \n",
    "    model_list.append(algo)\n",
    "    AUCROC_train.append(auc_train)\n",
    "    AUCROC_val.append(auc_val)"
   ]
  },
  {
   "cell_type": "code",
   "execution_count": 57,
   "metadata": {
    "execution": {
     "iopub.execute_input": "2021-05-30T15:25:23.198287Z",
     "iopub.status.busy": "2021-05-30T15:25:23.197585Z",
     "iopub.status.idle": "2021-05-30T15:25:23.210445Z",
     "shell.execute_reply": "2021-05-30T15:25:23.210976Z",
     "shell.execute_reply.started": "2021-05-30T14:40:49.213278Z"
    },
    "papermill": {
     "duration": 0.11392,
     "end_time": "2021-05-30T15:25:23.211156",
     "exception": false,
     "start_time": "2021-05-30T15:25:23.097236",
     "status": "completed"
    },
    "tags": []
   },
   "outputs": [],
   "source": [
    "def model_fit_evaluation(model, params, X_train, y_train, X_val, y_val, algo=None):\n",
    "    \n",
    "    rcv = RandomizedSearchCV(model, params, cv=5, scoring='roc_auc', n_jobs=-1, verbose=1, random_state=23)\n",
    "    rcv.fit(X_train, y_train)\n",
    "    \n",
    "    rcv_best = rcv.best_estimator_\n",
    "    print('\\n')\n",
    "    print('best estimator : ', rcv_best)\n",
    "    print('best parameters: ', rcv.best_params_)\n",
    "    print('best score: ', rcv.best_score_)\n",
    "    print('\\n')\n",
    "\n",
    "    y_train_prob = rcv_best.predict_proba(X_train)\n",
    "    y_train_pred = rcv_best.predict(X_train)\n",
    "    y_val_prob = rcv_best.predict_proba(X_val)\n",
    "    y_val_pred = rcv_best.predict(X_val)\n",
    "    \n",
    "    matrix_train = confusion_matrix(y_train, y_train_pred)\n",
    "    matrix_val = confusion_matrix(y_val, y_val_pred)\n",
    "    report_train = classification_report(y_train, y_train_pred)\n",
    "    report_val = classification_report(y_val, y_val_pred)\n",
    "    auc_train = roc_auc_score(y_train, y_train_prob[:,1])\n",
    "    auc_val = roc_auc_score(y_val, y_val_prob[:,1])\n",
    "    \n",
    "    print('Confusion Matrix for train')\n",
    "    print('='*60)\n",
    "    print(matrix_train,\"\\n\")\n",
    "    print('Confusion Matrix for val')\n",
    "    print('='*60)\n",
    "    print(matrix_val,\"\\n\")\n",
    "    print('Classification Report for train')\n",
    "    print('='*60)\n",
    "    print(report_train,\"\\n\")\n",
    "    print('Classification Report for val')\n",
    "    print('='*60)\n",
    "    print(report_val,\"\\n\")\n",
    "    print('AUC-ROC for train')\n",
    "    print('='*60)\n",
    "    print(auc_train,'\\n')\n",
    "    print('AUC-ROC for val')\n",
    "    print('='*60)\n",
    "    print(auc_val,'\\n')\n",
    "    print('Roc-Auc-Curve for Train set')\n",
    "    print('='*60)\n",
    "    print(plot_roc_curve(rcv_best, X_train, y_train),'\\n')\n",
    "    print('Roc-Auc-Curve for Val set')\n",
    "    print('='*60)\n",
    "    print(plot_roc_curve(rcv_best, X_val, y_val),'\\n')\n",
    "    \n",
    "    model_list.append(algo)\n",
    "    AUCROC_train.append(auc_train)\n",
    "    AUCROC_val.append(auc_val)"
   ]
  },
  {
   "cell_type": "code",
   "execution_count": 58,
   "metadata": {
    "execution": {
     "iopub.execute_input": "2021-05-30T15:25:23.408048Z",
     "iopub.status.busy": "2021-05-30T15:25:23.407290Z",
     "iopub.status.idle": "2021-05-30T15:25:30.484016Z",
     "shell.execute_reply": "2021-05-30T15:25:30.483445Z",
     "shell.execute_reply.started": "2021-05-30T14:40:49.230605Z"
    },
    "papermill": {
     "duration": 7.175627,
     "end_time": "2021-05-30T15:25:30.484190",
     "exception": false,
     "start_time": "2021-05-30T15:25:23.308563",
     "status": "completed"
    },
    "tags": []
   },
   "outputs": [
    {
     "name": "stdout",
     "output_type": "stream",
     "text": [
      "Confusion Matrix for train\n",
      "============================================================\n",
      "[[127495   3780]\n",
      " [ 21318  19414]] \n",
      "\n",
      "Confusion Matrix for val\n",
      "============================================================\n",
      "[[54544  1618]\n",
      " [ 9320  8236]] \n",
      "\n",
      "Classification Report for train\n",
      "============================================================\n",
      "              precision    recall  f1-score   support\n",
      "\n",
      "           0       0.86      0.97      0.91    131275\n",
      "           1       0.84      0.48      0.61     40732\n",
      "\n",
      "    accuracy                           0.85    172007\n",
      "   macro avg       0.85      0.72      0.76    172007\n",
      "weighted avg       0.85      0.85      0.84    172007\n",
      " \n",
      "\n",
      "Classification Report for val\n",
      "============================================================\n",
      "              precision    recall  f1-score   support\n",
      "\n",
      "           0       0.85      0.97      0.91     56162\n",
      "           1       0.84      0.47      0.60     17556\n",
      "\n",
      "    accuracy                           0.85     73718\n",
      "   macro avg       0.84      0.72      0.75     73718\n",
      "weighted avg       0.85      0.85      0.84     73718\n",
      " \n",
      "\n",
      "AUC-ROC for train\n",
      "============================================================\n",
      "0.8624763698250787 \n",
      "\n",
      "AUC-ROC for val\n",
      "============================================================\n",
      "0.8609660358328215 \n",
      "\n",
      "Roc-Auc-Curve for Train set\n",
      "============================================================\n",
      "<sklearn.metrics._plot.roc_curve.RocCurveDisplay object at 0x0000021DF1792250> \n",
      "\n",
      "Roc-Auc-Curve for Val set\n",
      "============================================================\n",
      "<sklearn.metrics._plot.roc_curve.RocCurveDisplay object at 0x0000021DF1792250> \n",
      "\n"
     ]
    },
    {
     "data": {
      "image/png": "[encoded data removed]",
      "text/plain": [
       "<Figure size 432x288 with 1 Axes>"
      ]
     },
     "metadata": {
      "needs_background": "light"
     },
     "output_type": "display_data"
    },
    {
     "data": {
      "image/png": "[encoded data removed]",
      "text/plain": [
       "<Figure size 432x288 with 1 Axes>"
      ]
     },
     "metadata": {
      "needs_background": "light"
     },
     "output_type": "display_data"
    }
   ],
   "source": [
    "model_fit(model_LR, X_train, y_train, X_val, y_val, algo='Logistic Regression with Hyperparameters')"
   ]
  },
  {
   "cell_type": "markdown",
   "metadata": {},
   "source": [
    "#### <font color=green> With Logistic Regression without hyperparameters we are getting AUC score of 0.86"
   ]
  },
  {
   "cell_type": "code",
   "execution_count": 59,
   "metadata": {
    "execution": {
     "iopub.execute_input": "2021-05-30T15:25:30.688169Z",
     "iopub.status.busy": "2021-05-30T15:25:30.687445Z",
     "iopub.status.idle": "2021-05-30T15:25:30.691086Z",
     "shell.execute_reply": "2021-05-30T15:25:30.691587Z",
     "shell.execute_reply.started": "2021-05-30T14:40:55.194021Z"
    },
    "papermill": {
     "duration": 0.109616,
     "end_time": "2021-05-30T15:25:30.691809",
     "exception": false,
     "start_time": "2021-05-30T15:25:30.582193",
     "status": "completed"
    },
    "tags": []
   },
   "outputs": [],
   "source": [
    "params_LR = {'C':np.logspace(-1, 5, 10), 'class_weight':[None,'balanced'], 'penalty':['l1','l2']}"
   ]
  },
  {
   "cell_type": "code",
   "execution_count": 60,
   "metadata": {
    "execution": {
     "iopub.execute_input": "2021-05-30T15:25:30.898303Z",
     "iopub.status.busy": "2021-05-30T15:25:30.897567Z",
     "iopub.status.idle": "2021-05-30T15:25:56.561677Z",
     "shell.execute_reply": "2021-05-30T15:25:56.561057Z",
     "shell.execute_reply.started": "2021-05-30T14:40:55.199922Z"
    },
    "papermill": {
     "duration": 25.76989,
     "end_time": "2021-05-30T15:25:56.561834",
     "exception": false,
     "start_time": "2021-05-30T15:25:30.791944",
     "status": "completed"
    },
    "tags": []
   },
   "outputs": [
    {
     "name": "stdout",
     "output_type": "stream",
     "text": [
      "Fitting 5 folds for each of 10 candidates, totalling 50 fits\n"
     ]
    },
    {
     "name": "stderr",
     "output_type": "stream",
     "text": [
      "[Parallel(n_jobs=-1)]: Using backend LokyBackend with 8 concurrent workers.\n",
      "[Parallel(n_jobs=-1)]: Done  34 tasks      | elapsed:   22.9s\n",
      "[Parallel(n_jobs=-1)]: Done  50 out of  50 | elapsed:   27.0s finished\n"
     ]
    },
    {
     "name": "stdout",
     "output_type": "stream",
     "text": [
      "\n",
      "\n",
      "best estimator :  LogisticRegression(C=0.1, class_weight='balanced')\n",
      "best parameters:  {'penalty': 'l2', 'class_weight': 'balanced', 'C': 0.1}\n",
      "best score:  0.862325631597393\n",
      "\n",
      "\n",
      "Confusion Matrix for train\n",
      "============================================================\n",
      "[[112437  18838]\n",
      " [ 10965  29767]] \n",
      "\n",
      "Confusion Matrix for val\n",
      "============================================================\n",
      "[[48035  8127]\n",
      " [ 4822 12734]] \n",
      "\n",
      "Classification Report for train\n",
      "============================================================\n",
      "              precision    recall  f1-score   support\n",
      "\n",
      "           0       0.91      0.86      0.88    131275\n",
      "           1       0.61      0.73      0.67     40732\n",
      "\n",
      "    accuracy                           0.83    172007\n",
      "   macro avg       0.76      0.79      0.77    172007\n",
      "weighted avg       0.84      0.83      0.83    172007\n",
      " \n",
      "\n",
      "Classification Report for val\n",
      "============================================================\n",
      "              precision    recall  f1-score   support\n",
      "\n",
      "           0       0.91      0.86      0.88     56162\n",
      "           1       0.61      0.73      0.66     17556\n",
      "\n",
      "    accuracy                           0.82     73718\n",
      "   macro avg       0.76      0.79      0.77     73718\n",
      "weighted avg       0.84      0.82      0.83     73718\n",
      " \n",
      "\n",
      "AUC-ROC for train\n",
      "============================================================\n",
      "0.8628402376109652 \n",
      "\n",
      "AUC-ROC for val\n",
      "============================================================\n",
      "0.8612391123458731 \n",
      "\n",
      "Roc-Auc-Curve for Train set\n",
      "============================================================\n",
      "<sklearn.metrics._plot.roc_curve.RocCurveDisplay object at 0x0000021D8A9FF310> \n",
      "\n",
      "Roc-Auc-Curve for Val set\n",
      "============================================================\n",
      "<sklearn.metrics._plot.roc_curve.RocCurveDisplay object at 0x0000021D8A9FF310> \n",
      "\n"
     ]
    },
    {
     "data": {
      "image/png": "[encoded data removed]",
      "text/plain": [
       "<Figure size 432x288 with 1 Axes>"
      ]
     },
     "metadata": {
      "needs_background": "light"
     },
     "output_type": "display_data"
    },
    {
     "data": {
      "image/png": "[encoded data removed]",
      "text/plain": [
       "<Figure size 432x288 with 1 Axes>"
      ]
     },
     "metadata": {
      "needs_background": "light"
     },
     "output_type": "display_data"
    }
   ],
   "source": [
    "model_fit_evaluation(model_LR, params_LR, X_train, y_train, X_val, y_val, algo='Logistic Regression with Hyperparameter tuning')"
   ]
  },
  {
   "cell_type": "markdown",
   "metadata": {},
   "source": [
    "#### <font color=green> With Logistic Regression with hyperparameters we are getting AUC score of 0.86"
   ]
  },
  {
   "cell_type": "markdown",
   "metadata": {
    "papermill": {
     "duration": 0.101213,
     "end_time": "2021-05-30T15:25:56.765324",
     "exception": false,
     "start_time": "2021-05-30T15:25:56.664111",
     "status": "completed"
    },
    "tags": []
   },
   "source": [
    "### Decision tree and Random Forest"
   ]
  },
  {
   "cell_type": "code",
   "execution_count": 61,
   "metadata": {
    "execution": {
     "iopub.execute_input": "2021-05-30T15:25:57.001741Z",
     "iopub.status.busy": "2021-05-30T15:25:57.000314Z",
     "iopub.status.idle": "2021-05-30T15:25:57.065762Z",
     "shell.execute_reply": "2021-05-30T15:25:57.064935Z",
     "shell.execute_reply.started": "2021-05-30T14:41:16.638814Z"
    },
    "papermill": {
     "duration": 0.196945,
     "end_time": "2021-05-30T15:25:57.065935",
     "exception": false,
     "start_time": "2021-05-30T15:25:56.868990",
     "status": "completed"
    },
    "tags": []
   },
   "outputs": [],
   "source": [
    "df_train_tree = train_data.copy()\n",
    "df_test_tree = test_data.copy()"
   ]
  },
  {
   "cell_type": "code",
   "execution_count": 62,
   "metadata": {
    "execution": {
     "iopub.execute_input": "2021-05-30T15:25:57.321457Z",
     "iopub.status.busy": "2021-05-30T15:25:57.314414Z",
     "iopub.status.idle": "2021-05-30T15:25:57.448410Z",
     "shell.execute_reply": "2021-05-30T15:25:57.447591Z",
     "shell.execute_reply.started": "2021-05-30T14:41:16.700830Z"
    },
    "papermill": {
     "duration": 0.278351,
     "end_time": "2021-05-30T15:25:57.448592",
     "exception": false,
     "start_time": "2021-05-30T15:25:57.170241",
     "status": "completed"
    },
    "tags": []
   },
   "outputs": [],
   "source": [
    "X = df_train_tree.drop(['ID','Is_Lead'], 1)\n",
    "y = df_train_tree['Is_Lead']\n",
    "X_train, X_val, y_train, y_val = train_test_split(X, y, train_size=0.7, random_state=23)"
   ]
  },
  {
   "cell_type": "code",
   "execution_count": 63,
   "metadata": {
    "execution": {
     "iopub.execute_input": "2021-05-30T15:25:57.661051Z",
     "iopub.status.busy": "2021-05-30T15:25:57.660368Z",
     "iopub.status.idle": "2021-05-30T15:25:57.663786Z",
     "shell.execute_reply": "2021-05-30T15:25:57.663169Z",
     "shell.execute_reply.started": "2021-05-30T14:41:16.861953Z"
    },
    "papermill": {
     "duration": 0.112328,
     "end_time": "2021-05-30T15:25:57.663951",
     "exception": false,
     "start_time": "2021-05-30T15:25:57.551623",
     "status": "completed"
    },
    "tags": []
   },
   "outputs": [],
   "source": [
    "model_DT = DecisionTreeClassifier(random_state=23)\n",
    "params_DT = {\n",
    "    'max_depth': [10, 20, 50, 100, 200],\n",
    "    'min_samples_leaf': [10, 20, 50, 100, 200],\n",
    "    'min_samples_split' : [10, 20, 50, 100, 200],\n",
    "    'criterion': [\"gini\", \"entropy\"]\n",
    "}"
   ]
  },
  {
   "cell_type": "code",
   "execution_count": 64,
   "metadata": {
    "execution": {
     "iopub.execute_input": "2021-05-30T15:25:57.878928Z",
     "iopub.status.busy": "2021-05-30T15:25:57.878221Z",
     "iopub.status.idle": "2021-05-30T15:26:00.160550Z",
     "shell.execute_reply": "2021-05-30T15:26:00.159883Z",
     "shell.execute_reply.started": "2021-05-30T14:41:16.868313Z"
    },
    "papermill": {
     "duration": 2.392383,
     "end_time": "2021-05-30T15:26:00.160726",
     "exception": false,
     "start_time": "2021-05-30T15:25:57.768343",
     "status": "completed"
    },
    "tags": []
   },
   "outputs": [
    {
     "name": "stdout",
     "output_type": "stream",
     "text": [
      "Confusion Matrix for train\n",
      "============================================================\n",
      "[[131275      0]\n",
      " [ 40732      0]] \n",
      "\n",
      "Confusion Matrix for val\n",
      "============================================================\n",
      "[[56162     0]\n",
      " [17556     0]] \n",
      "\n",
      "Classification Report for train\n",
      "============================================================\n",
      "              precision    recall  f1-score   support\n",
      "\n",
      "           0       0.76      1.00      0.87    131275\n",
      "           1       0.00      0.00      0.00     40732\n",
      "\n",
      "    accuracy                           0.76    172007\n",
      "   macro avg       0.38      0.50      0.43    172007\n",
      "weighted avg       0.58      0.76      0.66    172007\n",
      " \n",
      "\n",
      "Classification Report for val\n",
      "============================================================\n",
      "              precision    recall  f1-score   support\n",
      "\n",
      "           0       0.76      1.00      0.86     56162\n",
      "           1       0.00      0.00      0.00     17556\n",
      "\n",
      "    accuracy                           0.76     73718\n",
      "   macro avg       0.38      0.50      0.43     73718\n",
      "weighted avg       0.58      0.76      0.66     73718\n",
      " \n",
      "\n",
      "AUC-ROC for train\n",
      "============================================================\n",
      "0.4491303672408334 \n",
      "\n",
      "AUC-ROC for val\n",
      "============================================================\n",
      "0.44348254079114896 \n",
      "\n",
      "Roc-Auc-Curve for Train set\n",
      "============================================================\n",
      "<sklearn.metrics._plot.roc_curve.RocCurveDisplay object at 0x0000021DF2851970> \n",
      "\n",
      "Roc-Auc-Curve for Val set\n",
      "============================================================\n",
      "<sklearn.metrics._plot.roc_curve.RocCurveDisplay object at 0x0000021D8AACAE50> \n",
      "\n"
     ]
    },
    {
     "data": {
      "image/png": "[encoded data removed]",
      "text/plain": [
       "<Figure size 432x288 with 1 Axes>"
      ]
     },
     "metadata": {
      "needs_background": "light"
     },
     "output_type": "display_data"
    },
    {
     "data": {
      "image/png": "[encoded data removed]",
      "text/plain": [
       "<Figure size 432x288 with 1 Axes>"
      ]
     },
     "metadata": {
      "needs_background": "light"
     },
     "output_type": "display_data"
    }
   ],
   "source": [
    "model_fit(model_DT, X_train, y_train, X_val, y_val, algo='Decision Tree without Hyperparameters')"
   ]
  },
  {
   "cell_type": "markdown",
   "metadata": {},
   "source": [
    "#### <font color=green> With Decision Tree without hyperparameters we are getting AUC score of 0.44"
   ]
  },
  {
   "cell_type": "code",
   "execution_count": 65,
   "metadata": {
    "execution": {
     "iopub.execute_input": "2021-05-30T15:26:00.379128Z",
     "iopub.status.busy": "2021-05-30T15:26:00.378424Z",
     "iopub.status.idle": "2021-05-30T15:26:37.326163Z",
     "shell.execute_reply": "2021-05-30T15:26:37.325592Z",
     "shell.execute_reply.started": "2021-05-30T14:41:18.981853Z"
    },
    "papermill": {
     "duration": 37.060767,
     "end_time": "2021-05-30T15:26:37.326338",
     "exception": false,
     "start_time": "2021-05-30T15:26:00.265571",
     "status": "completed"
    },
    "tags": []
   },
   "outputs": [
    {
     "name": "stdout",
     "output_type": "stream",
     "text": [
      "Fitting 5 folds for each of 10 candidates, totalling 50 fits\n"
     ]
    },
    {
     "name": "stderr",
     "output_type": "stream",
     "text": [
      "[Parallel(n_jobs=-1)]: Using backend LokyBackend with 8 concurrent workers.\n",
      "[Parallel(n_jobs=-1)]: Done  34 tasks      | elapsed:   24.7s\n",
      "[Parallel(n_jobs=-1)]: Done  50 out of  50 | elapsed:   31.5s finished\n"
     ]
    },
    {
     "name": "stdout",
     "output_type": "stream",
     "text": [
      "\n",
      "\n",
      "best estimator :  DecisionTreeClassifier(max_depth=10, min_samples_leaf=50, min_samples_split=200,\n",
      "                       random_state=23)\n",
      "best parameters:  {'min_samples_split': 200, 'min_samples_leaf': 50, 'max_depth': 10, 'criterion': 'gini'}\n",
      "best score:  0.8705520179354871\n",
      "\n",
      "\n",
      "Confusion Matrix for train\n",
      "============================================================\n",
      "[[126595   4680]\n",
      " [ 19201  21531]] \n",
      "\n",
      "Confusion Matrix for val\n",
      "============================================================\n",
      "[[54086  2076]\n",
      " [ 8443  9113]] \n",
      "\n",
      "Classification Report for train\n",
      "============================================================\n",
      "              precision    recall  f1-score   support\n",
      "\n",
      "           0       0.87      0.96      0.91    131275\n",
      "           1       0.82      0.53      0.64     40732\n",
      "\n",
      "    accuracy                           0.86    172007\n",
      "   macro avg       0.84      0.75      0.78    172007\n",
      "weighted avg       0.86      0.86      0.85    172007\n",
      " \n",
      "\n",
      "Classification Report for val\n",
      "============================================================\n",
      "              precision    recall  f1-score   support\n",
      "\n",
      "           0       0.86      0.96      0.91     56162\n",
      "           1       0.81      0.52      0.63     17556\n",
      "\n",
      "    accuracy                           0.86     73718\n",
      "   macro avg       0.84      0.74      0.77     73718\n",
      "weighted avg       0.85      0.86      0.85     73718\n",
      " \n",
      "\n",
      "AUC-ROC for train\n",
      "============================================================\n",
      "0.87807472585152 \n",
      "\n",
      "AUC-ROC for val\n",
      "============================================================\n",
      "0.870071812668441 \n",
      "\n",
      "Roc-Auc-Curve for Train set\n",
      "============================================================\n",
      "<sklearn.metrics._plot.roc_curve.RocCurveDisplay object at 0x0000021DF281D3D0> \n",
      "\n",
      "Roc-Auc-Curve for Val set\n",
      "============================================================\n",
      "<sklearn.metrics._plot.roc_curve.RocCurveDisplay object at 0x0000021DF281D3D0> \n",
      "\n",
      "Wall time: 34 s\n"
     ]
    },
    {
     "data": {
      "image/png": "[encoded data removed]",
      "text/plain": [
       "<Figure size 432x288 with 1 Axes>"
      ]
     },
     "metadata": {
      "needs_background": "light"
     },
     "output_type": "display_data"
    },
    {
     "data": {
      "image/png": "[encoded data removed]",
      "text/plain": [
       "<Figure size 432x288 with 1 Axes>"
      ]
     },
     "metadata": {
      "needs_background": "light"
     },
     "output_type": "display_data"
    }
   ],
   "source": [
    "%%time\n",
    "model_fit_evaluation(model_DT, params_DT, X_train, y_train, X_val, y_val, algo='Decision Tree with Hyperparameter tuning')"
   ]
  },
  {
   "cell_type": "markdown",
   "metadata": {},
   "source": [
    "#### <font color=green> With Decision Tree with hyperparameters we are getting AUC score of 0.87"
   ]
  },
  {
   "cell_type": "code",
   "execution_count": 66,
   "metadata": {
    "execution": {
     "iopub.execute_input": "2021-05-30T15:26:37.549492Z",
     "iopub.status.busy": "2021-05-30T15:26:37.548819Z",
     "iopub.status.idle": "2021-05-30T15:26:37.551815Z",
     "shell.execute_reply": "2021-05-30T15:26:37.551234Z",
     "shell.execute_reply.started": "2021-05-30T14:41:51.112747Z"
    },
    "papermill": {
     "duration": 0.11731,
     "end_time": "2021-05-30T15:26:37.551971",
     "exception": false,
     "start_time": "2021-05-30T15:26:37.434661",
     "status": "completed"
    },
    "tags": []
   },
   "outputs": [],
   "source": [
    "model_RF = RandomForestClassifier(oob_score = True, random_state=23)\n",
    "params_RF = {\n",
    "    'n_estimators': [10, 20, 50, 100, 200],\n",
    "    'max_depth': [10, 20, 50, 100, 200],\n",
    "    'min_samples_leaf': [10, 20, 50, 100, 200],\n",
    "    'min_samples_split' : [10, 20, 50, 100, 200],\n",
    "    'criterion': [\"gini\", \"entropy\"]\n",
    "}"
   ]
  },
  {
   "cell_type": "code",
   "execution_count": 67,
   "metadata": {
    "execution": {
     "iopub.execute_input": "2021-05-30T15:26:37.771814Z",
     "iopub.status.busy": "2021-05-30T15:26:37.771145Z",
     "iopub.status.idle": "2021-05-30T15:26:40.117452Z",
     "shell.execute_reply": "2021-05-30T15:26:40.116700Z",
     "shell.execute_reply.started": "2021-05-30T14:41:51.120671Z"
    },
    "papermill": {
     "duration": 2.457174,
     "end_time": "2021-05-30T15:26:40.117632",
     "exception": false,
     "start_time": "2021-05-30T15:26:37.660458",
     "status": "completed"
    },
    "tags": []
   },
   "outputs": [
    {
     "name": "stdout",
     "output_type": "stream",
     "text": [
      "Confusion Matrix for train\n",
      "============================================================\n",
      "[[131275      0]\n",
      " [ 40732      0]] \n",
      "\n",
      "Confusion Matrix for val\n",
      "============================================================\n",
      "[[56162     0]\n",
      " [17556     0]] \n",
      "\n",
      "Classification Report for train\n",
      "============================================================\n",
      "              precision    recall  f1-score   support\n",
      "\n",
      "           0       0.76      1.00      0.87    131275\n",
      "           1       0.00      0.00      0.00     40732\n",
      "\n",
      "    accuracy                           0.76    172007\n",
      "   macro avg       0.38      0.50      0.43    172007\n",
      "weighted avg       0.58      0.76      0.66    172007\n",
      " \n",
      "\n",
      "Classification Report for val\n",
      "============================================================\n",
      "              precision    recall  f1-score   support\n",
      "\n",
      "           0       0.76      1.00      0.86     56162\n",
      "           1       0.00      0.00      0.00     17556\n",
      "\n",
      "    accuracy                           0.76     73718\n",
      "   macro avg       0.38      0.50      0.43     73718\n",
      "weighted avg       0.58      0.76      0.66     73718\n",
      " \n",
      "\n",
      "AUC-ROC for train\n",
      "============================================================\n",
      "0.4491303672408334 \n",
      "\n",
      "AUC-ROC for val\n",
      "============================================================\n",
      "0.44348254079114896 \n",
      "\n",
      "Roc-Auc-Curve for Train set\n",
      "============================================================\n",
      "<sklearn.metrics._plot.roc_curve.RocCurveDisplay object at 0x0000021D8AAA7C10> \n",
      "\n",
      "Roc-Auc-Curve for Val set\n",
      "============================================================\n",
      "<sklearn.metrics._plot.roc_curve.RocCurveDisplay object at 0x0000021D8AB957F0> \n",
      "\n"
     ]
    },
    {
     "data": {
      "image/png": "[encoded data removed]",
      "text/plain": [
       "<Figure size 432x288 with 1 Axes>"
      ]
     },
     "metadata": {
      "needs_background": "light"
     },
     "output_type": "display_data"
    },
    {
     "data": {
      "image/png": "[encoded data removed]",
      "text/plain": [
       "<Figure size 432x288 with 1 Axes>"
      ]
     },
     "metadata": {
      "needs_background": "light"
     },
     "output_type": "display_data"
    }
   ],
   "source": [
    "model_fit(model_RF, X_train, y_train, X_val, y_val, algo='Random Forest without Hyperparameters')"
   ]
  },
  {
   "cell_type": "markdown",
   "metadata": {},
   "source": [
    "#### <font color=green> With Random Forest without hyperparameters we are getting AUC score of 0.44"
   ]
  },
  {
   "cell_type": "code",
   "execution_count": 68,
   "metadata": {
    "execution": {
     "iopub.execute_input": "2021-05-30T15:26:40.348835Z",
     "iopub.status.busy": "2021-05-30T15:26:40.347753Z",
     "iopub.status.idle": "2021-05-30T15:32:20.732864Z",
     "shell.execute_reply": "2021-05-30T15:32:20.732170Z",
     "shell.execute_reply.started": "2021-05-30T14:41:53.201299Z"
    },
    "papermill": {
     "duration": 340.502881,
     "end_time": "2021-05-30T15:32:20.733032",
     "exception": false,
     "start_time": "2021-05-30T15:26:40.230151",
     "status": "completed"
    },
    "tags": []
   },
   "outputs": [
    {
     "name": "stdout",
     "output_type": "stream",
     "text": [
      "Fitting 5 folds for each of 10 candidates, totalling 50 fits\n"
     ]
    },
    {
     "name": "stderr",
     "output_type": "stream",
     "text": [
      "[Parallel(n_jobs=-1)]: Using backend LokyBackend with 8 concurrent workers.\n",
      "[Parallel(n_jobs=-1)]: Done  34 tasks      | elapsed:  2.7min\n",
      "[Parallel(n_jobs=-1)]: Done  50 out of  50 | elapsed:  3.7min finished\n"
     ]
    },
    {
     "name": "stdout",
     "output_type": "stream",
     "text": [
      "\n",
      "\n",
      "best estimator :  RandomForestClassifier(criterion='entropy', max_depth=100, min_samples_leaf=50,\n",
      "                       min_samples_split=50, n_estimators=200, oob_score=True,\n",
      "                       random_state=23)\n",
      "best parameters:  {'n_estimators': 200, 'min_samples_split': 50, 'min_samples_leaf': 50, 'max_depth': 100, 'criterion': 'entropy'}\n",
      "best score:  0.8709203615833111\n",
      "\n",
      "\n",
      "Confusion Matrix for train\n",
      "============================================================\n",
      "[[127717   3558]\n",
      " [ 20454  20278]] \n",
      "\n",
      "Confusion Matrix for val\n",
      "============================================================\n",
      "[[54619  1543]\n",
      " [ 8964  8592]] \n",
      "\n",
      "Classification Report for train\n",
      "============================================================\n",
      "              precision    recall  f1-score   support\n",
      "\n",
      "           0       0.86      0.97      0.91    131275\n",
      "           1       0.85      0.50      0.63     40732\n",
      "\n",
      "    accuracy                           0.86    172007\n",
      "   macro avg       0.86      0.74      0.77    172007\n",
      "weighted avg       0.86      0.86      0.85    172007\n",
      " \n",
      "\n",
      "Classification Report for val\n",
      "============================================================\n",
      "              precision    recall  f1-score   support\n",
      "\n",
      "           0       0.86      0.97      0.91     56162\n",
      "           1       0.85      0.49      0.62     17556\n",
      "\n",
      "    accuracy                           0.86     73718\n",
      "   macro avg       0.85      0.73      0.77     73718\n",
      "weighted avg       0.86      0.86      0.84     73718\n",
      " \n",
      "\n",
      "AUC-ROC for train\n",
      "============================================================\n",
      "0.881396798238026 \n",
      "\n",
      "AUC-ROC for val\n",
      "============================================================\n",
      "0.8701248091756564 \n",
      "\n",
      "Roc-Auc-Curve for Train set\n",
      "============================================================\n",
      "<sklearn.metrics._plot.roc_curve.RocCurveDisplay object at 0x0000021DF3E87F40> \n",
      "\n",
      "Roc-Auc-Curve for Val set\n",
      "============================================================\n",
      "<sklearn.metrics._plot.roc_curve.RocCurveDisplay object at 0x0000021DF3E87F40> \n",
      "\n",
      "Wall time: 4min 52s\n"
     ]
    },
    {
     "data": {
      "image/png": "[encoded data removed]",
      "text/plain": [
       "<Figure size 432x288 with 1 Axes>"
      ]
     },
     "metadata": {
      "needs_background": "light"
     },
     "output_type": "display_data"
    },
    {
     "data": {
      "image/png": "[encoded data removed]",
      "text/plain": [
       "<Figure size 432x288 with 1 Axes>"
      ]
     },
     "metadata": {
      "needs_background": "light"
     },
     "output_type": "display_data"
    }
   ],
   "source": [
    "%%time\n",
    "model_fit_evaluation(model_RF, params_RF, X_train, y_train, X_val, y_val, algo='Random Forest with Hyperparameter tuning')"
   ]
  },
  {
   "cell_type": "markdown",
   "metadata": {},
   "source": [
    "#### <font color=green> With Random Forest with hyperparameters we are getting AUC score of 0.87"
   ]
  },
  {
   "cell_type": "markdown",
   "metadata": {},
   "source": [
    "#### <font color=orange> We can see that the AUC score for Random Forest is better with train and validation set showing high AUC scores and hence Random Forest can be used to predict test data."
   ]
  },
  {
   "cell_type": "code",
   "execution_count": 69,
   "metadata": {
    "execution": {
     "iopub.execute_input": "2021-05-30T15:32:20.967096Z",
     "iopub.status.busy": "2021-05-30T15:32:20.966341Z",
     "iopub.status.idle": "2021-05-30T15:32:20.969258Z",
     "shell.execute_reply": "2021-05-30T15:32:20.968647Z",
     "shell.execute_reply.started": "2021-05-30T14:46:49.191598Z"
    },
    "papermill": {
     "duration": 0.122687,
     "end_time": "2021-05-30T15:32:20.969437",
     "exception": false,
     "start_time": "2021-05-30T15:32:20.846750",
     "status": "completed"
    },
    "tags": []
   },
   "outputs": [],
   "source": [
    "# model_XGB = XGBClassifier(random_state=23)\n",
    "# params_XGB = {\n",
    "#     'n_estimators': [5, 10, 20, 50, 100, 200],\n",
    "#     'max_depth': [5, 10, 20, 50, 100, 200],\n",
    "#     'sampling_method': ['uniform','gradient_based'],\n",
    "#     'subsample': [0.2, 0.4, 0.5, 0.6, 0.8, 1],\n",
    "#     'learning_rate': [0.01,0.05,0.1,0.2,0.3,0.5,1]\n",
    "# }"
   ]
  },
  {
   "cell_type": "code",
   "execution_count": 70,
   "metadata": {
    "execution": {
     "iopub.execute_input": "2021-05-30T15:32:21.206366Z",
     "iopub.status.busy": "2021-05-30T15:32:21.205733Z",
     "iopub.status.idle": "2021-05-30T15:32:21.209091Z",
     "shell.execute_reply": "2021-05-30T15:32:21.209632Z",
     "shell.execute_reply.started": "2021-05-30T14:46:49.197442Z"
    },
    "papermill": {
     "duration": 0.1241,
     "end_time": "2021-05-30T15:32:21.209876",
     "exception": false,
     "start_time": "2021-05-30T15:32:21.085776",
     "status": "completed"
    },
    "tags": []
   },
   "outputs": [],
   "source": [
    "# model_fit(model_XGB, X_train, y_train, X_val, y_val, algo='XGB without Hyperparameters')"
   ]
  },
  {
   "cell_type": "code",
   "execution_count": 71,
   "metadata": {
    "execution": {
     "iopub.execute_input": "2021-05-30T15:32:21.441745Z",
     "iopub.status.busy": "2021-05-30T15:32:21.440774Z",
     "iopub.status.idle": "2021-05-30T15:32:21.444179Z",
     "shell.execute_reply": "2021-05-30T15:32:21.443568Z",
     "shell.execute_reply.started": "2021-05-30T14:46:49.211083Z"
    },
    "papermill": {
     "duration": 0.120767,
     "end_time": "2021-05-30T15:32:21.444323",
     "exception": false,
     "start_time": "2021-05-30T15:32:21.323556",
     "status": "completed"
    },
    "tags": []
   },
   "outputs": [],
   "source": [
    "#Not running due to lack of system properties\n",
    "# model_fit_evaluation(model_XGB, params_XGB, X_train, y_train, X_val, y_val, algo='XGB with Hyperparameter tuning')"
   ]
  },
  {
   "cell_type": "markdown",
   "metadata": {
    "papermill": {
     "duration": 0.113107,
     "end_time": "2021-05-30T15:32:21.670533",
     "exception": false,
     "start_time": "2021-05-30T15:32:21.557426",
     "status": "completed"
    },
    "tags": []
   },
   "source": [
    "### Evaluation"
   ]
  },
  {
   "cell_type": "code",
   "execution_count": 72,
   "metadata": {
    "execution": {
     "iopub.execute_input": "2021-05-30T15:32:21.927931Z",
     "iopub.status.busy": "2021-05-30T15:32:21.927282Z",
     "iopub.status.idle": "2021-05-30T15:32:21.933623Z",
     "shell.execute_reply": "2021-05-30T15:32:21.933101Z",
     "shell.execute_reply.started": "2021-05-30T14:46:49.224279Z"
    },
    "papermill": {
     "duration": 0.13377,
     "end_time": "2021-05-30T15:32:21.933777",
     "exception": false,
     "start_time": "2021-05-30T15:32:21.800007",
     "status": "completed"
    },
    "tags": []
   },
   "outputs": [
    {
     "data": {
      "text/html": [
       "<div>\n",
       "<style scoped>\n",
       "    .dataframe tbody tr th:only-of-type {\n",
       "        vertical-align: middle;\n",
       "    }\n",
       "\n",
       "    .dataframe tbody tr th {\n",
       "        vertical-align: top;\n",
       "    }\n",
       "\n",
       "    .dataframe thead th {\n",
       "        text-align: right;\n",
       "    }\n",
       "</style>\n",
       "<table border=\"1\" class=\"dataframe\">\n",
       "  <thead>\n",
       "    <tr style=\"text-align: right;\">\n",
       "      <th></th>\n",
       "      <th>model</th>\n",
       "      <th>train_AUC</th>\n",
       "      <th>val_AUC</th>\n",
       "    </tr>\n",
       "  </thead>\n",
       "  <tbody>\n",
       "    <tr>\n",
       "      <th>0</th>\n",
       "      <td>Logistic Regression with Hyperparameters</td>\n",
       "      <td>0.862476</td>\n",
       "      <td>0.860966</td>\n",
       "    </tr>\n",
       "    <tr>\n",
       "      <th>1</th>\n",
       "      <td>Logistic Regression with Hyperparameter tuning</td>\n",
       "      <td>0.862840</td>\n",
       "      <td>0.861239</td>\n",
       "    </tr>\n",
       "    <tr>\n",
       "      <th>2</th>\n",
       "      <td>Decision Tree without Hyperparameters</td>\n",
       "      <td>0.449130</td>\n",
       "      <td>0.443483</td>\n",
       "    </tr>\n",
       "    <tr>\n",
       "      <th>3</th>\n",
       "      <td>Decision Tree with Hyperparameter tuning</td>\n",
       "      <td>0.878075</td>\n",
       "      <td>0.870072</td>\n",
       "    </tr>\n",
       "    <tr>\n",
       "      <th>4</th>\n",
       "      <td>Random Forest without Hyperparameters</td>\n",
       "      <td>0.449130</td>\n",
       "      <td>0.443483</td>\n",
       "    </tr>\n",
       "    <tr>\n",
       "      <th>5</th>\n",
       "      <td>Random Forest with Hyperparameter tuning</td>\n",
       "      <td>0.881397</td>\n",
       "      <td>0.870125</td>\n",
       "    </tr>\n",
       "  </tbody>\n",
       "</table>\n",
       "</div>"
      ],
      "text/plain": [
       "                                            model  train_AUC   val_AUC\n",
       "0        Logistic Regression with Hyperparameters   0.862476  0.860966\n",
       "1  Logistic Regression with Hyperparameter tuning   0.862840  0.861239\n",
       "2           Decision Tree without Hyperparameters   0.449130  0.443483\n",
       "3        Decision Tree with Hyperparameter tuning   0.878075  0.870072\n",
       "4           Random Forest without Hyperparameters   0.449130  0.443483\n",
       "5        Random Forest with Hyperparameter tuning   0.881397  0.870125"
      ]
     },
     "execution_count": 72,
     "metadata": {},
     "output_type": "execute_result"
    }
   ],
   "source": [
    "eval_df = pd.DataFrame({'model': model_list, 'train_AUC': AUCROC_train, 'val_AUC': AUCROC_val})\n",
    "eval_df"
   ]
  },
  {
   "cell_type": "markdown",
   "metadata": {
    "papermill": {
     "duration": 0.116432,
     "end_time": "2021-05-30T15:32:22.163238",
     "exception": false,
     "start_time": "2021-05-30T15:32:22.046806",
     "status": "completed"
    },
    "tags": []
   },
   "source": [
    "### Running the entire train dataset to predict on test data set"
   ]
  },
  {
   "cell_type": "code",
   "execution_count": 73,
   "metadata": {
    "execution": {
     "iopub.execute_input": "2021-05-30T15:32:22.402745Z",
     "iopub.status.busy": "2021-05-30T15:32:22.401922Z",
     "iopub.status.idle": "2021-05-30T15:40:57.775214Z",
     "shell.execute_reply": "2021-05-30T15:40:57.774421Z",
     "shell.execute_reply.started": "2021-05-30T14:46:49.245287Z"
    },
    "papermill": {
     "duration": 515.496376,
     "end_time": "2021-05-30T15:40:57.775459",
     "exception": false,
     "start_time": "2021-05-30T15:32:22.279083",
     "status": "completed"
    },
    "tags": []
   },
   "outputs": [
    {
     "name": "stdout",
     "output_type": "stream",
     "text": [
      "Fitting 5 folds for each of 10 candidates, totalling 50 fits\n"
     ]
    },
    {
     "name": "stderr",
     "output_type": "stream",
     "text": [
      "[Parallel(n_jobs=-1)]: Using backend LokyBackend with 8 concurrent workers.\n",
      "[Parallel(n_jobs=-1)]: Done  34 tasks      | elapsed:  4.4min\n",
      "[Parallel(n_jobs=-1)]: Done  50 out of  50 | elapsed:  5.9min finished\n"
     ]
    },
    {
     "name": "stdout",
     "output_type": "stream",
     "text": [
      "\n",
      "\n",
      "best estimator :  RandomForestClassifier(criterion='entropy', max_depth=100, min_samples_leaf=50,\n",
      "                       min_samples_split=50, n_estimators=200, oob_score=True,\n",
      "                       random_state=23)\n",
      "best parameters:  {'n_estimators': 200, 'min_samples_split': 50, 'min_samples_leaf': 50, 'max_depth': 100, 'criterion': 'entropy'}\n",
      "best score:  0.8709739363538194\n",
      "\n",
      "\n",
      "Confusion Matrix for train\n",
      "============================================================\n",
      "[[181980   5457]\n",
      " [ 28760  29528]] \n",
      "\n",
      "Classification Report for train\n",
      "============================================================\n",
      "              precision    recall  f1-score   support\n",
      "\n",
      "           0       0.86      0.97      0.91    187437\n",
      "           1       0.84      0.51      0.63     58288\n",
      "\n",
      "    accuracy                           0.86    245725\n",
      "   macro avg       0.85      0.74      0.77    245725\n",
      "weighted avg       0.86      0.86      0.85    245725\n",
      " \n",
      "\n",
      "AUC-ROC for train\n",
      "============================================================\n",
      "0.8818793644905333 \n",
      "\n",
      "Roc-Auc-Curve for Train set\n",
      "============================================================\n",
      "<sklearn.metrics._plot.roc_curve.RocCurveDisplay object at 0x0000021DF286D1F0> \n",
      "\n",
      "Wall time: 7min 36s\n"
     ]
    },
    {
     "data": {
      "image/png": "[encoded data removed]",
      "text/plain": [
       "<Figure size 432x288 with 1 Axes>"
      ]
     },
     "metadata": {
      "needs_background": "light"
     },
     "output_type": "display_data"
    }
   ],
   "source": [
    "%%time\n",
    "rcv = RandomizedSearchCV(model_RF, params_RF, cv=5, scoring='roc_auc', n_jobs=-1, verbose=1, random_state=23)\n",
    "rcv.fit(X, y)\n",
    "\n",
    "rcv_best = rcv.best_estimator_\n",
    "print('\\n')\n",
    "print('best estimator : ', rcv_best)\n",
    "print('best parameters: ', rcv.best_params_)\n",
    "print('best score: ', rcv.best_score_)\n",
    "print('\\n')\n",
    "\n",
    "y_train_prob = rcv_best.predict_proba(X)\n",
    "y_train_pred = rcv_best.predict(X)\n",
    "\n",
    "matrix_train = confusion_matrix(y, y_train_pred)\n",
    "report_train = classification_report(y, y_train_pred)\n",
    "auc_train = roc_auc_score(y, y_train_prob[:,1])\n",
    "\n",
    "print('Confusion Matrix for train')\n",
    "print('='*60)\n",
    "print(matrix_train,\"\\n\")\n",
    "print('Classification Report for train')\n",
    "print('='*60)\n",
    "print(report_train,\"\\n\")\n",
    "print('AUC-ROC for train')\n",
    "print('='*60)\n",
    "print(auc_train,'\\n')\n",
    "print('Roc-Auc-Curve for Train set')\n",
    "print('='*60)\n",
    "print(plot_roc_curve(rcv_best, X, y),'\\n')"
   ]
  },
  {
   "cell_type": "markdown",
   "metadata": {},
   "source": [
    "#### <font color=orange> With Random Forest with hyperparameters we are getting AUC score of 0.86 for entire training dataset."
   ]
  },
  {
   "cell_type": "markdown",
   "metadata": {
    "papermill": {
     "duration": 0.117039,
     "end_time": "2021-05-30T15:40:58.011041",
     "exception": false,
     "start_time": "2021-05-30T15:40:57.894002",
     "status": "completed"
    },
    "tags": []
   },
   "source": [
    "### Feature importance"
   ]
  },
  {
   "cell_type": "code",
   "execution_count": 74,
   "metadata": {
    "execution": {
     "iopub.execute_input": "2021-05-30T15:40:58.255964Z",
     "iopub.status.busy": "2021-05-30T15:40:58.255286Z",
     "iopub.status.idle": "2021-05-30T15:40:58.326807Z",
     "shell.execute_reply": "2021-05-30T15:40:58.326112Z",
     "shell.execute_reply.started": "2021-05-30T14:54:12.242451Z"
    },
    "papermill": {
     "duration": 0.195696,
     "end_time": "2021-05-30T15:40:58.326966",
     "exception": false,
     "start_time": "2021-05-30T15:40:58.131270",
     "status": "completed"
    },
    "tags": []
   },
   "outputs": [
    {
     "data": {
      "text/html": [
       "<div>\n",
       "<style scoped>\n",
       "    .dataframe tbody tr th:only-of-type {\n",
       "        vertical-align: middle;\n",
       "    }\n",
       "\n",
       "    .dataframe tbody tr th {\n",
       "        vertical-align: top;\n",
       "    }\n",
       "\n",
       "    .dataframe thead th {\n",
       "        text-align: right;\n",
       "    }\n",
       "</style>\n",
       "<table border=\"1\" class=\"dataframe\">\n",
       "  <thead>\n",
       "    <tr style=\"text-align: right;\">\n",
       "      <th></th>\n",
       "      <th>Varname</th>\n",
       "      <th>feature_imp</th>\n",
       "    </tr>\n",
       "  </thead>\n",
       "  <tbody>\n",
       "    <tr>\n",
       "      <th>3</th>\n",
       "      <td>Credit_Product</td>\n",
       "      <td>0.557393</td>\n",
       "    </tr>\n",
       "    <tr>\n",
       "      <th>1</th>\n",
       "      <td>Age</td>\n",
       "      <td>0.121827</td>\n",
       "    </tr>\n",
       "    <tr>\n",
       "      <th>2</th>\n",
       "      <td>Vintage</td>\n",
       "      <td>0.098139</td>\n",
       "    </tr>\n",
       "    <tr>\n",
       "      <th>45</th>\n",
       "      <td>x2_X1</td>\n",
       "      <td>0.074117</td>\n",
       "    </tr>\n",
       "    <tr>\n",
       "      <th>43</th>\n",
       "      <td>x1_Salaried</td>\n",
       "      <td>0.038100</td>\n",
       "    </tr>\n",
       "    <tr>\n",
       "      <th>47</th>\n",
       "      <td>x2_X3</td>\n",
       "      <td>0.020824</td>\n",
       "    </tr>\n",
       "    <tr>\n",
       "      <th>4</th>\n",
       "      <td>Avg_Account_Balance</td>\n",
       "      <td>0.017149</td>\n",
       "    </tr>\n",
       "    <tr>\n",
       "      <th>46</th>\n",
       "      <td>x2_X2</td>\n",
       "      <td>0.016324</td>\n",
       "    </tr>\n",
       "    <tr>\n",
       "      <th>5</th>\n",
       "      <td>Is_Active</td>\n",
       "      <td>0.011534</td>\n",
       "    </tr>\n",
       "    <tr>\n",
       "      <th>42</th>\n",
       "      <td>x1_Other</td>\n",
       "      <td>0.010373</td>\n",
       "    </tr>\n",
       "    <tr>\n",
       "      <th>44</th>\n",
       "      <td>x1_Self_Employed</td>\n",
       "      <td>0.009033</td>\n",
       "    </tr>\n",
       "    <tr>\n",
       "      <th>41</th>\n",
       "      <td>x1_Entrepreneur</td>\n",
       "      <td>0.007374</td>\n",
       "    </tr>\n",
       "    <tr>\n",
       "      <th>0</th>\n",
       "      <td>Gender</td>\n",
       "      <td>0.003120</td>\n",
       "    </tr>\n",
       "    <tr>\n",
       "      <th>24</th>\n",
       "      <td>x0_RG268</td>\n",
       "      <td>0.002426</td>\n",
       "    </tr>\n",
       "    <tr>\n",
       "      <th>39</th>\n",
       "      <td>x0_RG283</td>\n",
       "      <td>0.002253</td>\n",
       "    </tr>\n",
       "    <tr>\n",
       "      <th>48</th>\n",
       "      <td>x2_X4</td>\n",
       "      <td>0.001207</td>\n",
       "    </tr>\n",
       "    <tr>\n",
       "      <th>10</th>\n",
       "      <td>x0_RG254</td>\n",
       "      <td>0.001160</td>\n",
       "    </tr>\n",
       "    <tr>\n",
       "      <th>40</th>\n",
       "      <td>x0_RG284</td>\n",
       "      <td>0.001070</td>\n",
       "    </tr>\n",
       "    <tr>\n",
       "      <th>33</th>\n",
       "      <td>x0_RG277</td>\n",
       "      <td>0.000589</td>\n",
       "    </tr>\n",
       "    <tr>\n",
       "      <th>36</th>\n",
       "      <td>x0_RG280</td>\n",
       "      <td>0.000561</td>\n",
       "    </tr>\n",
       "    <tr>\n",
       "      <th>26</th>\n",
       "      <td>x0_RG270</td>\n",
       "      <td>0.000534</td>\n",
       "    </tr>\n",
       "    <tr>\n",
       "      <th>17</th>\n",
       "      <td>x0_RG261</td>\n",
       "      <td>0.000392</td>\n",
       "    </tr>\n",
       "    <tr>\n",
       "      <th>25</th>\n",
       "      <td>x0_RG269</td>\n",
       "      <td>0.000390</td>\n",
       "    </tr>\n",
       "    <tr>\n",
       "      <th>38</th>\n",
       "      <td>x0_RG282</td>\n",
       "      <td>0.000331</td>\n",
       "    </tr>\n",
       "    <tr>\n",
       "      <th>37</th>\n",
       "      <td>x0_RG281</td>\n",
       "      <td>0.000300</td>\n",
       "    </tr>\n",
       "    <tr>\n",
       "      <th>7</th>\n",
       "      <td>x0_RG251</td>\n",
       "      <td>0.000266</td>\n",
       "    </tr>\n",
       "    <tr>\n",
       "      <th>13</th>\n",
       "      <td>x0_RG257</td>\n",
       "      <td>0.000258</td>\n",
       "    </tr>\n",
       "    <tr>\n",
       "      <th>8</th>\n",
       "      <td>x0_RG252</td>\n",
       "      <td>0.000251</td>\n",
       "    </tr>\n",
       "    <tr>\n",
       "      <th>35</th>\n",
       "      <td>x0_RG279</td>\n",
       "      <td>0.000230</td>\n",
       "    </tr>\n",
       "    <tr>\n",
       "      <th>20</th>\n",
       "      <td>x0_RG264</td>\n",
       "      <td>0.000217</td>\n",
       "    </tr>\n",
       "    <tr>\n",
       "      <th>28</th>\n",
       "      <td>x0_RG272</td>\n",
       "      <td>0.000215</td>\n",
       "    </tr>\n",
       "    <tr>\n",
       "      <th>31</th>\n",
       "      <td>x0_RG275</td>\n",
       "      <td>0.000212</td>\n",
       "    </tr>\n",
       "    <tr>\n",
       "      <th>29</th>\n",
       "      <td>x0_RG273</td>\n",
       "      <td>0.000204</td>\n",
       "    </tr>\n",
       "    <tr>\n",
       "      <th>30</th>\n",
       "      <td>x0_RG274</td>\n",
       "      <td>0.000203</td>\n",
       "    </tr>\n",
       "    <tr>\n",
       "      <th>19</th>\n",
       "      <td>x0_RG263</td>\n",
       "      <td>0.000185</td>\n",
       "    </tr>\n",
       "    <tr>\n",
       "      <th>12</th>\n",
       "      <td>x0_RG256</td>\n",
       "      <td>0.000141</td>\n",
       "    </tr>\n",
       "    <tr>\n",
       "      <th>16</th>\n",
       "      <td>x0_RG260</td>\n",
       "      <td>0.000136</td>\n",
       "    </tr>\n",
       "    <tr>\n",
       "      <th>6</th>\n",
       "      <td>x0_RG250</td>\n",
       "      <td>0.000123</td>\n",
       "    </tr>\n",
       "    <tr>\n",
       "      <th>15</th>\n",
       "      <td>x0_RG259</td>\n",
       "      <td>0.000111</td>\n",
       "    </tr>\n",
       "    <tr>\n",
       "      <th>32</th>\n",
       "      <td>x0_RG276</td>\n",
       "      <td>0.000096</td>\n",
       "    </tr>\n",
       "    <tr>\n",
       "      <th>27</th>\n",
       "      <td>x0_RG271</td>\n",
       "      <td>0.000084</td>\n",
       "    </tr>\n",
       "    <tr>\n",
       "      <th>22</th>\n",
       "      <td>x0_RG266</td>\n",
       "      <td>0.000083</td>\n",
       "    </tr>\n",
       "    <tr>\n",
       "      <th>11</th>\n",
       "      <td>x0_RG255</td>\n",
       "      <td>0.000078</td>\n",
       "    </tr>\n",
       "    <tr>\n",
       "      <th>18</th>\n",
       "      <td>x0_RG262</td>\n",
       "      <td>0.000074</td>\n",
       "    </tr>\n",
       "    <tr>\n",
       "      <th>34</th>\n",
       "      <td>x0_RG278</td>\n",
       "      <td>0.000072</td>\n",
       "    </tr>\n",
       "    <tr>\n",
       "      <th>23</th>\n",
       "      <td>x0_RG267</td>\n",
       "      <td>0.000071</td>\n",
       "    </tr>\n",
       "    <tr>\n",
       "      <th>9</th>\n",
       "      <td>x0_RG253</td>\n",
       "      <td>0.000065</td>\n",
       "    </tr>\n",
       "    <tr>\n",
       "      <th>14</th>\n",
       "      <td>x0_RG258</td>\n",
       "      <td>0.000064</td>\n",
       "    </tr>\n",
       "    <tr>\n",
       "      <th>21</th>\n",
       "      <td>x0_RG265</td>\n",
       "      <td>0.000042</td>\n",
       "    </tr>\n",
       "  </tbody>\n",
       "</table>\n",
       "</div>"
      ],
      "text/plain": [
       "                Varname  feature_imp\n",
       "3        Credit_Product     0.557393\n",
       "1                   Age     0.121827\n",
       "2               Vintage     0.098139\n",
       "45                x2_X1     0.074117\n",
       "43          x1_Salaried     0.038100\n",
       "47                x2_X3     0.020824\n",
       "4   Avg_Account_Balance     0.017149\n",
       "46                x2_X2     0.016324\n",
       "5             Is_Active     0.011534\n",
       "42             x1_Other     0.010373\n",
       "44     x1_Self_Employed     0.009033\n",
       "41      x1_Entrepreneur     0.007374\n",
       "0                Gender     0.003120\n",
       "24             x0_RG268     0.002426\n",
       "39             x0_RG283     0.002253\n",
       "48                x2_X4     0.001207\n",
       "10             x0_RG254     0.001160\n",
       "40             x0_RG284     0.001070\n",
       "33             x0_RG277     0.000589\n",
       "36             x0_RG280     0.000561\n",
       "26             x0_RG270     0.000534\n",
       "17             x0_RG261     0.000392\n",
       "25             x0_RG269     0.000390\n",
       "38             x0_RG282     0.000331\n",
       "37             x0_RG281     0.000300\n",
       "7              x0_RG251     0.000266\n",
       "13             x0_RG257     0.000258\n",
       "8              x0_RG252     0.000251\n",
       "35             x0_RG279     0.000230\n",
       "20             x0_RG264     0.000217\n",
       "28             x0_RG272     0.000215\n",
       "31             x0_RG275     0.000212\n",
       "29             x0_RG273     0.000204\n",
       "30             x0_RG274     0.000203\n",
       "19             x0_RG263     0.000185\n",
       "12             x0_RG256     0.000141\n",
       "16             x0_RG260     0.000136\n",
       "6              x0_RG250     0.000123\n",
       "15             x0_RG259     0.000111\n",
       "32             x0_RG276     0.000096\n",
       "27             x0_RG271     0.000084\n",
       "22             x0_RG266     0.000083\n",
       "11             x0_RG255     0.000078\n",
       "18             x0_RG262     0.000074\n",
       "34             x0_RG278     0.000072\n",
       "23             x0_RG267     0.000071\n",
       "9              x0_RG253     0.000065\n",
       "14             x0_RG258     0.000064\n",
       "21             x0_RG265     0.000042"
      ]
     },
     "execution_count": 74,
     "metadata": {},
     "output_type": "execute_result"
    }
   ],
   "source": [
    "rcv_best.feature_importances_\n",
    "final_df = pd.DataFrame({'Varname': X.columns, 'feature_imp':rcv_best.feature_importances_})\n",
    "final_df.sort_values(by='feature_imp', ascending=False)"
   ]
  },
  {
   "cell_type": "markdown",
   "metadata": {},
   "source": [
    "#### <font color=green> We can see that top 5 variables which are important are: Credit_Product, Age, Vintage, Channel code X1 and Salaried Employee."
   ]
  },
  {
   "cell_type": "markdown",
   "metadata": {
    "papermill": {
     "duration": 0.115324,
     "end_time": "2021-05-30T15:40:58.561613",
     "exception": false,
     "start_time": "2021-05-30T15:40:58.446289",
     "status": "completed"
    },
    "tags": []
   },
   "source": [
    "### Predicting on Test dataset"
   ]
  },
  {
   "cell_type": "code",
   "execution_count": 75,
   "metadata": {
    "execution": {
     "iopub.execute_input": "2021-05-30T15:40:58.824323Z",
     "iopub.status.busy": "2021-05-30T15:40:58.821038Z",
     "iopub.status.idle": "2021-05-30T15:41:03.219949Z",
     "shell.execute_reply": "2021-05-30T15:41:03.220528Z",
     "shell.execute_reply.started": "2021-05-30T14:54:12.315848Z"
    },
    "papermill": {
     "duration": 4.543367,
     "end_time": "2021-05-30T15:41:03.220779",
     "exception": false,
     "start_time": "2021-05-30T15:40:58.677412",
     "status": "completed"
    },
    "tags": []
   },
   "outputs": [
    {
     "data": {
      "text/plain": [
       "(105312, 2)"
      ]
     },
     "execution_count": 75,
     "metadata": {},
     "output_type": "execute_result"
    }
   ],
   "source": [
    "#Final prediction\n",
    "predictions = rcv_best.predict(df_test_tree.drop('ID', axis=1))\n",
    "\n",
    "#set the output as a dataframe and convert to csv file named submission.csv\n",
    "submission = pd.DataFrame({ 'ID' : df_test_tree['ID'], 'Is_Lead': predictions })\n",
    "submission.shape"
   ]
  },
  {
   "cell_type": "code",
   "execution_count": 86,
   "metadata": {},
   "outputs": [],
   "source": [
    "submission.to_csv(r'C:\\Users\\getch\\Documents\\Hackathons\\AnalyticsVidya\\submission.csv', index = False)"
   ]
  },
  {
   "cell_type": "code",
   "execution_count": 76,
   "metadata": {
    "execution": {
     "iopub.execute_input": "2021-05-30T15:41:03.467997Z",
     "iopub.status.busy": "2021-05-30T15:41:03.467084Z",
     "iopub.status.idle": "2021-05-30T15:41:03.470646Z",
     "shell.execute_reply": "2021-05-30T15:41:03.471234Z",
     "shell.execute_reply.started": "2021-05-30T14:54:16.496633Z"
    },
    "papermill": {
     "duration": 0.132459,
     "end_time": "2021-05-30T15:41:03.471430",
     "exception": false,
     "start_time": "2021-05-30T15:41:03.338971",
     "status": "completed"
    },
    "tags": []
   },
   "outputs": [
    {
     "data": {
      "text/html": [
       "<div>\n",
       "<style scoped>\n",
       "    .dataframe tbody tr th:only-of-type {\n",
       "        vertical-align: middle;\n",
       "    }\n",
       "\n",
       "    .dataframe tbody tr th {\n",
       "        vertical-align: top;\n",
       "    }\n",
       "\n",
       "    .dataframe thead th {\n",
       "        text-align: right;\n",
       "    }\n",
       "</style>\n",
       "<table border=\"1\" class=\"dataframe\">\n",
       "  <thead>\n",
       "    <tr style=\"text-align: right;\">\n",
       "      <th></th>\n",
       "      <th>ID</th>\n",
       "      <th>Is_Lead</th>\n",
       "    </tr>\n",
       "  </thead>\n",
       "  <tbody>\n",
       "    <tr>\n",
       "      <th>0</th>\n",
       "      <td>VBENBARO</td>\n",
       "      <td>0</td>\n",
       "    </tr>\n",
       "    <tr>\n",
       "      <th>1</th>\n",
       "      <td>CCMEWNKY</td>\n",
       "      <td>1</td>\n",
       "    </tr>\n",
       "    <tr>\n",
       "      <th>2</th>\n",
       "      <td>VK3KGA9M</td>\n",
       "      <td>0</td>\n",
       "    </tr>\n",
       "    <tr>\n",
       "      <th>3</th>\n",
       "      <td>TT8RPZVC</td>\n",
       "      <td>0</td>\n",
       "    </tr>\n",
       "    <tr>\n",
       "      <th>4</th>\n",
       "      <td>SHQZEYTZ</td>\n",
       "      <td>0</td>\n",
       "    </tr>\n",
       "    <tr>\n",
       "      <th>5</th>\n",
       "      <td>MZZAQMPT</td>\n",
       "      <td>0</td>\n",
       "    </tr>\n",
       "    <tr>\n",
       "      <th>6</th>\n",
       "      <td>Y88TW36I</td>\n",
       "      <td>0</td>\n",
       "    </tr>\n",
       "    <tr>\n",
       "      <th>7</th>\n",
       "      <td>3UGOAQNU</td>\n",
       "      <td>0</td>\n",
       "    </tr>\n",
       "    <tr>\n",
       "      <th>8</th>\n",
       "      <td>VVUKMUJT</td>\n",
       "      <td>1</td>\n",
       "    </tr>\n",
       "    <tr>\n",
       "      <th>9</th>\n",
       "      <td>9R363ZXS</td>\n",
       "      <td>0</td>\n",
       "    </tr>\n",
       "  </tbody>\n",
       "</table>\n",
       "</div>"
      ],
      "text/plain": [
       "         ID  Is_Lead\n",
       "0  VBENBARO        0\n",
       "1  CCMEWNKY        1\n",
       "2  VK3KGA9M        0\n",
       "3  TT8RPZVC        0\n",
       "4  SHQZEYTZ        0\n",
       "5  MZZAQMPT        0\n",
       "6  Y88TW36I        0\n",
       "7  3UGOAQNU        0\n",
       "8  VVUKMUJT        1\n",
       "9  9R363ZXS        0"
      ]
     },
     "execution_count": 76,
     "metadata": {},
     "output_type": "execute_result"
    }
   ],
   "source": [
    "submission.head(10)"
   ]
  },
  {
   "cell_type": "code",
   "execution_count": 77,
   "metadata": {
    "execution": {
     "iopub.execute_input": "2021-05-30T15:41:03.732239Z",
     "iopub.status.busy": "2021-05-30T15:41:03.727032Z",
     "iopub.status.idle": "2021-05-30T15:41:03.772067Z",
     "shell.execute_reply": "2021-05-30T15:41:03.772566Z",
     "shell.execute_reply.started": "2021-05-30T15:08:13.860286Z"
    },
    "papermill": {
     "duration": 0.184587,
     "end_time": "2021-05-30T15:41:03.772743",
     "exception": false,
     "start_time": "2021-05-30T15:41:03.588156",
     "status": "completed"
    },
    "tags": []
   },
   "outputs": [
    {
     "data": {
      "text/html": [
       "<div>\n",
       "<style scoped>\n",
       "    .dataframe tbody tr th:only-of-type {\n",
       "        vertical-align: middle;\n",
       "    }\n",
       "\n",
       "    .dataframe tbody tr th {\n",
       "        vertical-align: top;\n",
       "    }\n",
       "\n",
       "    .dataframe thead th {\n",
       "        text-align: right;\n",
       "    }\n",
       "</style>\n",
       "<table border=\"1\" class=\"dataframe\">\n",
       "  <thead>\n",
       "    <tr style=\"text-align: right;\">\n",
       "      <th></th>\n",
       "      <th>ID</th>\n",
       "      <th>Gender</th>\n",
       "      <th>Age</th>\n",
       "      <th>Vintage</th>\n",
       "      <th>Credit_Product</th>\n",
       "      <th>Avg_Account_Balance</th>\n",
       "      <th>Is_Active</th>\n",
       "      <th>x0_RG250</th>\n",
       "      <th>x0_RG251</th>\n",
       "      <th>x0_RG252</th>\n",
       "      <th>x0_RG253</th>\n",
       "      <th>x0_RG254</th>\n",
       "      <th>x0_RG255</th>\n",
       "      <th>x0_RG256</th>\n",
       "      <th>x0_RG257</th>\n",
       "      <th>x0_RG258</th>\n",
       "      <th>x0_RG259</th>\n",
       "      <th>x0_RG260</th>\n",
       "      <th>x0_RG261</th>\n",
       "      <th>x0_RG262</th>\n",
       "      <th>x0_RG263</th>\n",
       "      <th>x0_RG264</th>\n",
       "      <th>x0_RG265</th>\n",
       "      <th>x0_RG266</th>\n",
       "      <th>x0_RG267</th>\n",
       "      <th>x0_RG268</th>\n",
       "      <th>x0_RG269</th>\n",
       "      <th>x0_RG270</th>\n",
       "      <th>x0_RG271</th>\n",
       "      <th>x0_RG272</th>\n",
       "      <th>x0_RG273</th>\n",
       "      <th>x0_RG274</th>\n",
       "      <th>x0_RG275</th>\n",
       "      <th>x0_RG276</th>\n",
       "      <th>x0_RG277</th>\n",
       "      <th>x0_RG278</th>\n",
       "      <th>x0_RG279</th>\n",
       "      <th>x0_RG280</th>\n",
       "      <th>x0_RG281</th>\n",
       "      <th>x0_RG282</th>\n",
       "      <th>x0_RG283</th>\n",
       "      <th>x0_RG284</th>\n",
       "      <th>x1_Entrepreneur</th>\n",
       "      <th>x1_Other</th>\n",
       "      <th>x1_Salaried</th>\n",
       "      <th>x1_Self_Employed</th>\n",
       "      <th>x2_X1</th>\n",
       "      <th>x2_X2</th>\n",
       "      <th>x2_X3</th>\n",
       "      <th>x2_X4</th>\n",
       "    </tr>\n",
       "  </thead>\n",
       "  <tbody>\n",
       "    <tr>\n",
       "      <th>0</th>\n",
       "      <td>VBENBARO</td>\n",
       "      <td>1</td>\n",
       "      <td>29</td>\n",
       "      <td>25</td>\n",
       "      <td>1</td>\n",
       "      <td>742366</td>\n",
       "      <td>0</td>\n",
       "      <td>0.0</td>\n",
       "      <td>0.0</td>\n",
       "      <td>0.0</td>\n",
       "      <td>0.0</td>\n",
       "      <td>1.0</td>\n",
       "      <td>0.0</td>\n",
       "      <td>0.0</td>\n",
       "      <td>0.0</td>\n",
       "      <td>0.0</td>\n",
       "      <td>0.0</td>\n",
       "      <td>0.0</td>\n",
       "      <td>0.0</td>\n",
       "      <td>0.0</td>\n",
       "      <td>0.0</td>\n",
       "      <td>0.0</td>\n",
       "      <td>0.0</td>\n",
       "      <td>0.0</td>\n",
       "      <td>0.0</td>\n",
       "      <td>0.0</td>\n",
       "      <td>0.0</td>\n",
       "      <td>0.0</td>\n",
       "      <td>0.0</td>\n",
       "      <td>0.0</td>\n",
       "      <td>0.0</td>\n",
       "      <td>0.0</td>\n",
       "      <td>0.0</td>\n",
       "      <td>0.0</td>\n",
       "      <td>0.0</td>\n",
       "      <td>0.0</td>\n",
       "      <td>0.0</td>\n",
       "      <td>0.0</td>\n",
       "      <td>0.0</td>\n",
       "      <td>0.0</td>\n",
       "      <td>0.0</td>\n",
       "      <td>0.0</td>\n",
       "      <td>0.0</td>\n",
       "      <td>1.0</td>\n",
       "      <td>0.0</td>\n",
       "      <td>0.0</td>\n",
       "      <td>1.0</td>\n",
       "      <td>0.0</td>\n",
       "      <td>0.0</td>\n",
       "      <td>0.0</td>\n",
       "    </tr>\n",
       "    <tr>\n",
       "      <th>1</th>\n",
       "      <td>CCMEWNKY</td>\n",
       "      <td>1</td>\n",
       "      <td>43</td>\n",
       "      <td>49</td>\n",
       "      <td>3</td>\n",
       "      <td>925537</td>\n",
       "      <td>0</td>\n",
       "      <td>0.0</td>\n",
       "      <td>0.0</td>\n",
       "      <td>0.0</td>\n",
       "      <td>0.0</td>\n",
       "      <td>0.0</td>\n",
       "      <td>0.0</td>\n",
       "      <td>0.0</td>\n",
       "      <td>0.0</td>\n",
       "      <td>0.0</td>\n",
       "      <td>0.0</td>\n",
       "      <td>0.0</td>\n",
       "      <td>0.0</td>\n",
       "      <td>0.0</td>\n",
       "      <td>0.0</td>\n",
       "      <td>0.0</td>\n",
       "      <td>0.0</td>\n",
       "      <td>0.0</td>\n",
       "      <td>0.0</td>\n",
       "      <td>1.0</td>\n",
       "      <td>0.0</td>\n",
       "      <td>0.0</td>\n",
       "      <td>0.0</td>\n",
       "      <td>0.0</td>\n",
       "      <td>0.0</td>\n",
       "      <td>0.0</td>\n",
       "      <td>0.0</td>\n",
       "      <td>0.0</td>\n",
       "      <td>0.0</td>\n",
       "      <td>0.0</td>\n",
       "      <td>0.0</td>\n",
       "      <td>0.0</td>\n",
       "      <td>0.0</td>\n",
       "      <td>0.0</td>\n",
       "      <td>0.0</td>\n",
       "      <td>0.0</td>\n",
       "      <td>0.0</td>\n",
       "      <td>1.0</td>\n",
       "      <td>0.0</td>\n",
       "      <td>0.0</td>\n",
       "      <td>0.0</td>\n",
       "      <td>1.0</td>\n",
       "      <td>0.0</td>\n",
       "      <td>0.0</td>\n",
       "    </tr>\n",
       "    <tr>\n",
       "      <th>2</th>\n",
       "      <td>VK3KGA9M</td>\n",
       "      <td>1</td>\n",
       "      <td>31</td>\n",
       "      <td>14</td>\n",
       "      <td>0</td>\n",
       "      <td>215949</td>\n",
       "      <td>0</td>\n",
       "      <td>0.0</td>\n",
       "      <td>0.0</td>\n",
       "      <td>0.0</td>\n",
       "      <td>0.0</td>\n",
       "      <td>0.0</td>\n",
       "      <td>0.0</td>\n",
       "      <td>0.0</td>\n",
       "      <td>0.0</td>\n",
       "      <td>0.0</td>\n",
       "      <td>0.0</td>\n",
       "      <td>0.0</td>\n",
       "      <td>0.0</td>\n",
       "      <td>0.0</td>\n",
       "      <td>0.0</td>\n",
       "      <td>0.0</td>\n",
       "      <td>0.0</td>\n",
       "      <td>0.0</td>\n",
       "      <td>0.0</td>\n",
       "      <td>0.0</td>\n",
       "      <td>0.0</td>\n",
       "      <td>1.0</td>\n",
       "      <td>0.0</td>\n",
       "      <td>0.0</td>\n",
       "      <td>0.0</td>\n",
       "      <td>0.0</td>\n",
       "      <td>0.0</td>\n",
       "      <td>0.0</td>\n",
       "      <td>0.0</td>\n",
       "      <td>0.0</td>\n",
       "      <td>0.0</td>\n",
       "      <td>0.0</td>\n",
       "      <td>0.0</td>\n",
       "      <td>0.0</td>\n",
       "      <td>0.0</td>\n",
       "      <td>0.0</td>\n",
       "      <td>0.0</td>\n",
       "      <td>0.0</td>\n",
       "      <td>1.0</td>\n",
       "      <td>0.0</td>\n",
       "      <td>1.0</td>\n",
       "      <td>0.0</td>\n",
       "      <td>0.0</td>\n",
       "      <td>0.0</td>\n",
       "    </tr>\n",
       "    <tr>\n",
       "      <th>3</th>\n",
       "      <td>TT8RPZVC</td>\n",
       "      <td>1</td>\n",
       "      <td>29</td>\n",
       "      <td>33</td>\n",
       "      <td>0</td>\n",
       "      <td>868070</td>\n",
       "      <td>0</td>\n",
       "      <td>0.0</td>\n",
       "      <td>0.0</td>\n",
       "      <td>0.0</td>\n",
       "      <td>0.0</td>\n",
       "      <td>0.0</td>\n",
       "      <td>0.0</td>\n",
       "      <td>0.0</td>\n",
       "      <td>0.0</td>\n",
       "      <td>0.0</td>\n",
       "      <td>0.0</td>\n",
       "      <td>0.0</td>\n",
       "      <td>0.0</td>\n",
       "      <td>0.0</td>\n",
       "      <td>0.0</td>\n",
       "      <td>0.0</td>\n",
       "      <td>0.0</td>\n",
       "      <td>0.0</td>\n",
       "      <td>0.0</td>\n",
       "      <td>0.0</td>\n",
       "      <td>0.0</td>\n",
       "      <td>0.0</td>\n",
       "      <td>0.0</td>\n",
       "      <td>1.0</td>\n",
       "      <td>0.0</td>\n",
       "      <td>0.0</td>\n",
       "      <td>0.0</td>\n",
       "      <td>0.0</td>\n",
       "      <td>0.0</td>\n",
       "      <td>0.0</td>\n",
       "      <td>0.0</td>\n",
       "      <td>0.0</td>\n",
       "      <td>0.0</td>\n",
       "      <td>0.0</td>\n",
       "      <td>0.0</td>\n",
       "      <td>0.0</td>\n",
       "      <td>0.0</td>\n",
       "      <td>1.0</td>\n",
       "      <td>0.0</td>\n",
       "      <td>0.0</td>\n",
       "      <td>1.0</td>\n",
       "      <td>0.0</td>\n",
       "      <td>0.0</td>\n",
       "      <td>0.0</td>\n",
       "    </tr>\n",
       "    <tr>\n",
       "      <th>4</th>\n",
       "      <td>SHQZEYTZ</td>\n",
       "      <td>0</td>\n",
       "      <td>29</td>\n",
       "      <td>19</td>\n",
       "      <td>0</td>\n",
       "      <td>657087</td>\n",
       "      <td>0</td>\n",
       "      <td>0.0</td>\n",
       "      <td>0.0</td>\n",
       "      <td>0.0</td>\n",
       "      <td>0.0</td>\n",
       "      <td>0.0</td>\n",
       "      <td>0.0</td>\n",
       "      <td>0.0</td>\n",
       "      <td>0.0</td>\n",
       "      <td>0.0</td>\n",
       "      <td>0.0</td>\n",
       "      <td>0.0</td>\n",
       "      <td>0.0</td>\n",
       "      <td>0.0</td>\n",
       "      <td>0.0</td>\n",
       "      <td>0.0</td>\n",
       "      <td>0.0</td>\n",
       "      <td>0.0</td>\n",
       "      <td>0.0</td>\n",
       "      <td>0.0</td>\n",
       "      <td>0.0</td>\n",
       "      <td>1.0</td>\n",
       "      <td>0.0</td>\n",
       "      <td>0.0</td>\n",
       "      <td>0.0</td>\n",
       "      <td>0.0</td>\n",
       "      <td>0.0</td>\n",
       "      <td>0.0</td>\n",
       "      <td>0.0</td>\n",
       "      <td>0.0</td>\n",
       "      <td>0.0</td>\n",
       "      <td>0.0</td>\n",
       "      <td>0.0</td>\n",
       "      <td>0.0</td>\n",
       "      <td>0.0</td>\n",
       "      <td>0.0</td>\n",
       "      <td>0.0</td>\n",
       "      <td>1.0</td>\n",
       "      <td>0.0</td>\n",
       "      <td>0.0</td>\n",
       "      <td>1.0</td>\n",
       "      <td>0.0</td>\n",
       "      <td>0.0</td>\n",
       "      <td>0.0</td>\n",
       "    </tr>\n",
       "  </tbody>\n",
       "</table>\n",
       "</div>"
      ],
      "text/plain": [
       "         ID  Gender  Age  Vintage  Credit_Product  Avg_Account_Balance  Is_Active  x0_RG250  x0_RG251  x0_RG252  x0_RG253  x0_RG254  x0_RG255  x0_RG256  x0_RG257  x0_RG258  x0_RG259  x0_RG260  x0_RG261  x0_RG262  x0_RG263  x0_RG264  x0_RG265  x0_RG266  x0_RG267  x0_RG268  x0_RG269  x0_RG270  x0_RG271  x0_RG272  x0_RG273  x0_RG274  x0_RG275  x0_RG276  x0_RG277  x0_RG278  x0_RG279  x0_RG280  x0_RG281  x0_RG282  x0_RG283  x0_RG284  x1_Entrepreneur  x1_Other  x1_Salaried  x1_Self_Employed  x2_X1  \\\n",
       "0  VBENBARO       1   29       25               1               742366          0       0.0       0.0       0.0       0.0       1.0       0.0       0.0       0.0       0.0       0.0       0.0       0.0       0.0       0.0       0.0       0.0       0.0       0.0       0.0       0.0       0.0       0.0       0.0       0.0       0.0       0.0       0.0       0.0       0.0       0.0       0.0       0.0       0.0       0.0       0.0              0.0       1.0          0.0               0.0    1.0   \n",
       "1  CCMEWNKY       1   43       49               3               925537          0       0.0       0.0       0.0       0.0       0.0       0.0       0.0       0.0       0.0       0.0       0.0       0.0       0.0       0.0       0.0       0.0       0.0       0.0       1.0       0.0       0.0       0.0       0.0       0.0       0.0       0.0       0.0       0.0       0.0       0.0       0.0       0.0       0.0       0.0       0.0              0.0       1.0          0.0               0.0    0.0   \n",
       "2  VK3KGA9M       1   31       14               0               215949          0       0.0       0.0       0.0       0.0       0.0       0.0       0.0       0.0       0.0       0.0       0.0       0.0       0.0       0.0       0.0       0.0       0.0       0.0       0.0       0.0       1.0       0.0       0.0       0.0       0.0       0.0       0.0       0.0       0.0       0.0       0.0       0.0       0.0       0.0       0.0              0.0       0.0          1.0               0.0    1.0   \n",
       "3  TT8RPZVC       1   29       33               0               868070          0       0.0       0.0       0.0       0.0       0.0       0.0       0.0       0.0       0.0       0.0       0.0       0.0       0.0       0.0       0.0       0.0       0.0       0.0       0.0       0.0       0.0       0.0       1.0       0.0       0.0       0.0       0.0       0.0       0.0       0.0       0.0       0.0       0.0       0.0       0.0              0.0       1.0          0.0               0.0    1.0   \n",
       "4  SHQZEYTZ       0   29       19               0               657087          0       0.0       0.0       0.0       0.0       0.0       0.0       0.0       0.0       0.0       0.0       0.0       0.0       0.0       0.0       0.0       0.0       0.0       0.0       0.0       0.0       1.0       0.0       0.0       0.0       0.0       0.0       0.0       0.0       0.0       0.0       0.0       0.0       0.0       0.0       0.0              0.0       1.0          0.0               0.0    1.0   \n",
       "\n",
       "   x2_X2  x2_X3  x2_X4  \n",
       "0    0.0    0.0    0.0  \n",
       "1    1.0    0.0    0.0  \n",
       "2    0.0    0.0    0.0  \n",
       "3    0.0    0.0    0.0  \n",
       "4    0.0    0.0    0.0  "
      ]
     },
     "execution_count": 77,
     "metadata": {},
     "output_type": "execute_result"
    }
   ],
   "source": [
    "test_data.head()"
   ]
  },
  {
   "cell_type": "markdown",
   "metadata": {},
   "source": [
    "### Merging test data with submission predictions"
   ]
  },
  {
   "cell_type": "code",
   "execution_count": 78,
   "metadata": {
    "execution": {
     "iopub.execute_input": "2021-05-30T15:41:04.059764Z",
     "iopub.status.busy": "2021-05-30T15:41:04.013426Z",
     "iopub.status.idle": "2021-05-30T15:41:04.186622Z",
     "shell.execute_reply": "2021-05-30T15:41:04.186103Z",
     "shell.execute_reply.started": "2021-05-30T15:08:16.322005Z"
    },
    "papermill": {
     "duration": 0.296902,
     "end_time": "2021-05-30T15:41:04.186785",
     "exception": false,
     "start_time": "2021-05-30T15:41:03.889883",
     "status": "completed"
    },
    "tags": []
   },
   "outputs": [
    {
     "data": {
      "text/html": [
       "<div>\n",
       "<style scoped>\n",
       "    .dataframe tbody tr th:only-of-type {\n",
       "        vertical-align: middle;\n",
       "    }\n",
       "\n",
       "    .dataframe tbody tr th {\n",
       "        vertical-align: top;\n",
       "    }\n",
       "\n",
       "    .dataframe thead th {\n",
       "        text-align: right;\n",
       "    }\n",
       "</style>\n",
       "<table border=\"1\" class=\"dataframe\">\n",
       "  <thead>\n",
       "    <tr style=\"text-align: right;\">\n",
       "      <th></th>\n",
       "      <th>ID</th>\n",
       "      <th>Gender</th>\n",
       "      <th>Age</th>\n",
       "      <th>Vintage</th>\n",
       "      <th>Credit_Product</th>\n",
       "      <th>Avg_Account_Balance</th>\n",
       "      <th>Is_Active</th>\n",
       "      <th>x0_RG250</th>\n",
       "      <th>x0_RG251</th>\n",
       "      <th>x0_RG252</th>\n",
       "      <th>x0_RG253</th>\n",
       "      <th>x0_RG254</th>\n",
       "      <th>x0_RG255</th>\n",
       "      <th>x0_RG256</th>\n",
       "      <th>x0_RG257</th>\n",
       "      <th>x0_RG258</th>\n",
       "      <th>x0_RG259</th>\n",
       "      <th>x0_RG260</th>\n",
       "      <th>x0_RG261</th>\n",
       "      <th>x0_RG262</th>\n",
       "      <th>x0_RG263</th>\n",
       "      <th>x0_RG264</th>\n",
       "      <th>x0_RG265</th>\n",
       "      <th>x0_RG266</th>\n",
       "      <th>x0_RG267</th>\n",
       "      <th>x0_RG268</th>\n",
       "      <th>x0_RG269</th>\n",
       "      <th>x0_RG270</th>\n",
       "      <th>x0_RG271</th>\n",
       "      <th>x0_RG272</th>\n",
       "      <th>x0_RG273</th>\n",
       "      <th>x0_RG274</th>\n",
       "      <th>x0_RG275</th>\n",
       "      <th>x0_RG276</th>\n",
       "      <th>x0_RG277</th>\n",
       "      <th>x0_RG278</th>\n",
       "      <th>x0_RG279</th>\n",
       "      <th>x0_RG280</th>\n",
       "      <th>x0_RG281</th>\n",
       "      <th>x0_RG282</th>\n",
       "      <th>x0_RG283</th>\n",
       "      <th>x0_RG284</th>\n",
       "      <th>x1_Entrepreneur</th>\n",
       "      <th>x1_Other</th>\n",
       "      <th>x1_Salaried</th>\n",
       "      <th>x1_Self_Employed</th>\n",
       "      <th>x2_X1</th>\n",
       "      <th>x2_X2</th>\n",
       "      <th>x2_X3</th>\n",
       "      <th>x2_X4</th>\n",
       "      <th>Is_Lead</th>\n",
       "    </tr>\n",
       "  </thead>\n",
       "  <tbody>\n",
       "    <tr>\n",
       "      <th>0</th>\n",
       "      <td>VBENBARO</td>\n",
       "      <td>1</td>\n",
       "      <td>29</td>\n",
       "      <td>25</td>\n",
       "      <td>1</td>\n",
       "      <td>742366</td>\n",
       "      <td>0</td>\n",
       "      <td>0.0</td>\n",
       "      <td>0.0</td>\n",
       "      <td>0.0</td>\n",
       "      <td>0.0</td>\n",
       "      <td>1.0</td>\n",
       "      <td>0.0</td>\n",
       "      <td>0.0</td>\n",
       "      <td>0.0</td>\n",
       "      <td>0.0</td>\n",
       "      <td>0.0</td>\n",
       "      <td>0.0</td>\n",
       "      <td>0.0</td>\n",
       "      <td>0.0</td>\n",
       "      <td>0.0</td>\n",
       "      <td>0.0</td>\n",
       "      <td>0.0</td>\n",
       "      <td>0.0</td>\n",
       "      <td>0.0</td>\n",
       "      <td>0.0</td>\n",
       "      <td>0.0</td>\n",
       "      <td>0.0</td>\n",
       "      <td>0.0</td>\n",
       "      <td>0.0</td>\n",
       "      <td>0.0</td>\n",
       "      <td>0.0</td>\n",
       "      <td>0.0</td>\n",
       "      <td>0.0</td>\n",
       "      <td>0.0</td>\n",
       "      <td>0.0</td>\n",
       "      <td>0.0</td>\n",
       "      <td>0.0</td>\n",
       "      <td>0.0</td>\n",
       "      <td>0.0</td>\n",
       "      <td>0.0</td>\n",
       "      <td>0.0</td>\n",
       "      <td>0.0</td>\n",
       "      <td>1.0</td>\n",
       "      <td>0.0</td>\n",
       "      <td>0.0</td>\n",
       "      <td>1.0</td>\n",
       "      <td>0.0</td>\n",
       "      <td>0.0</td>\n",
       "      <td>0.0</td>\n",
       "      <td>0</td>\n",
       "    </tr>\n",
       "    <tr>\n",
       "      <th>1</th>\n",
       "      <td>CCMEWNKY</td>\n",
       "      <td>1</td>\n",
       "      <td>43</td>\n",
       "      <td>49</td>\n",
       "      <td>3</td>\n",
       "      <td>925537</td>\n",
       "      <td>0</td>\n",
       "      <td>0.0</td>\n",
       "      <td>0.0</td>\n",
       "      <td>0.0</td>\n",
       "      <td>0.0</td>\n",
       "      <td>0.0</td>\n",
       "      <td>0.0</td>\n",
       "      <td>0.0</td>\n",
       "      <td>0.0</td>\n",
       "      <td>0.0</td>\n",
       "      <td>0.0</td>\n",
       "      <td>0.0</td>\n",
       "      <td>0.0</td>\n",
       "      <td>0.0</td>\n",
       "      <td>0.0</td>\n",
       "      <td>0.0</td>\n",
       "      <td>0.0</td>\n",
       "      <td>0.0</td>\n",
       "      <td>0.0</td>\n",
       "      <td>1.0</td>\n",
       "      <td>0.0</td>\n",
       "      <td>0.0</td>\n",
       "      <td>0.0</td>\n",
       "      <td>0.0</td>\n",
       "      <td>0.0</td>\n",
       "      <td>0.0</td>\n",
       "      <td>0.0</td>\n",
       "      <td>0.0</td>\n",
       "      <td>0.0</td>\n",
       "      <td>0.0</td>\n",
       "      <td>0.0</td>\n",
       "      <td>0.0</td>\n",
       "      <td>0.0</td>\n",
       "      <td>0.0</td>\n",
       "      <td>0.0</td>\n",
       "      <td>0.0</td>\n",
       "      <td>0.0</td>\n",
       "      <td>1.0</td>\n",
       "      <td>0.0</td>\n",
       "      <td>0.0</td>\n",
       "      <td>0.0</td>\n",
       "      <td>1.0</td>\n",
       "      <td>0.0</td>\n",
       "      <td>0.0</td>\n",
       "      <td>1</td>\n",
       "    </tr>\n",
       "    <tr>\n",
       "      <th>2</th>\n",
       "      <td>VK3KGA9M</td>\n",
       "      <td>1</td>\n",
       "      <td>31</td>\n",
       "      <td>14</td>\n",
       "      <td>0</td>\n",
       "      <td>215949</td>\n",
       "      <td>0</td>\n",
       "      <td>0.0</td>\n",
       "      <td>0.0</td>\n",
       "      <td>0.0</td>\n",
       "      <td>0.0</td>\n",
       "      <td>0.0</td>\n",
       "      <td>0.0</td>\n",
       "      <td>0.0</td>\n",
       "      <td>0.0</td>\n",
       "      <td>0.0</td>\n",
       "      <td>0.0</td>\n",
       "      <td>0.0</td>\n",
       "      <td>0.0</td>\n",
       "      <td>0.0</td>\n",
       "      <td>0.0</td>\n",
       "      <td>0.0</td>\n",
       "      <td>0.0</td>\n",
       "      <td>0.0</td>\n",
       "      <td>0.0</td>\n",
       "      <td>0.0</td>\n",
       "      <td>0.0</td>\n",
       "      <td>1.0</td>\n",
       "      <td>0.0</td>\n",
       "      <td>0.0</td>\n",
       "      <td>0.0</td>\n",
       "      <td>0.0</td>\n",
       "      <td>0.0</td>\n",
       "      <td>0.0</td>\n",
       "      <td>0.0</td>\n",
       "      <td>0.0</td>\n",
       "      <td>0.0</td>\n",
       "      <td>0.0</td>\n",
       "      <td>0.0</td>\n",
       "      <td>0.0</td>\n",
       "      <td>0.0</td>\n",
       "      <td>0.0</td>\n",
       "      <td>0.0</td>\n",
       "      <td>0.0</td>\n",
       "      <td>1.0</td>\n",
       "      <td>0.0</td>\n",
       "      <td>1.0</td>\n",
       "      <td>0.0</td>\n",
       "      <td>0.0</td>\n",
       "      <td>0.0</td>\n",
       "      <td>0</td>\n",
       "    </tr>\n",
       "    <tr>\n",
       "      <th>3</th>\n",
       "      <td>TT8RPZVC</td>\n",
       "      <td>1</td>\n",
       "      <td>29</td>\n",
       "      <td>33</td>\n",
       "      <td>0</td>\n",
       "      <td>868070</td>\n",
       "      <td>0</td>\n",
       "      <td>0.0</td>\n",
       "      <td>0.0</td>\n",
       "      <td>0.0</td>\n",
       "      <td>0.0</td>\n",
       "      <td>0.0</td>\n",
       "      <td>0.0</td>\n",
       "      <td>0.0</td>\n",
       "      <td>0.0</td>\n",
       "      <td>0.0</td>\n",
       "      <td>0.0</td>\n",
       "      <td>0.0</td>\n",
       "      <td>0.0</td>\n",
       "      <td>0.0</td>\n",
       "      <td>0.0</td>\n",
       "      <td>0.0</td>\n",
       "      <td>0.0</td>\n",
       "      <td>0.0</td>\n",
       "      <td>0.0</td>\n",
       "      <td>0.0</td>\n",
       "      <td>0.0</td>\n",
       "      <td>0.0</td>\n",
       "      <td>0.0</td>\n",
       "      <td>1.0</td>\n",
       "      <td>0.0</td>\n",
       "      <td>0.0</td>\n",
       "      <td>0.0</td>\n",
       "      <td>0.0</td>\n",
       "      <td>0.0</td>\n",
       "      <td>0.0</td>\n",
       "      <td>0.0</td>\n",
       "      <td>0.0</td>\n",
       "      <td>0.0</td>\n",
       "      <td>0.0</td>\n",
       "      <td>0.0</td>\n",
       "      <td>0.0</td>\n",
       "      <td>0.0</td>\n",
       "      <td>1.0</td>\n",
       "      <td>0.0</td>\n",
       "      <td>0.0</td>\n",
       "      <td>1.0</td>\n",
       "      <td>0.0</td>\n",
       "      <td>0.0</td>\n",
       "      <td>0.0</td>\n",
       "      <td>0</td>\n",
       "    </tr>\n",
       "    <tr>\n",
       "      <th>4</th>\n",
       "      <td>SHQZEYTZ</td>\n",
       "      <td>0</td>\n",
       "      <td>29</td>\n",
       "      <td>19</td>\n",
       "      <td>0</td>\n",
       "      <td>657087</td>\n",
       "      <td>0</td>\n",
       "      <td>0.0</td>\n",
       "      <td>0.0</td>\n",
       "      <td>0.0</td>\n",
       "      <td>0.0</td>\n",
       "      <td>0.0</td>\n",
       "      <td>0.0</td>\n",
       "      <td>0.0</td>\n",
       "      <td>0.0</td>\n",
       "      <td>0.0</td>\n",
       "      <td>0.0</td>\n",
       "      <td>0.0</td>\n",
       "      <td>0.0</td>\n",
       "      <td>0.0</td>\n",
       "      <td>0.0</td>\n",
       "      <td>0.0</td>\n",
       "      <td>0.0</td>\n",
       "      <td>0.0</td>\n",
       "      <td>0.0</td>\n",
       "      <td>0.0</td>\n",
       "      <td>0.0</td>\n",
       "      <td>1.0</td>\n",
       "      <td>0.0</td>\n",
       "      <td>0.0</td>\n",
       "      <td>0.0</td>\n",
       "      <td>0.0</td>\n",
       "      <td>0.0</td>\n",
       "      <td>0.0</td>\n",
       "      <td>0.0</td>\n",
       "      <td>0.0</td>\n",
       "      <td>0.0</td>\n",
       "      <td>0.0</td>\n",
       "      <td>0.0</td>\n",
       "      <td>0.0</td>\n",
       "      <td>0.0</td>\n",
       "      <td>0.0</td>\n",
       "      <td>0.0</td>\n",
       "      <td>1.0</td>\n",
       "      <td>0.0</td>\n",
       "      <td>0.0</td>\n",
       "      <td>1.0</td>\n",
       "      <td>0.0</td>\n",
       "      <td>0.0</td>\n",
       "      <td>0.0</td>\n",
       "      <td>0</td>\n",
       "    </tr>\n",
       "  </tbody>\n",
       "</table>\n",
       "</div>"
      ],
      "text/plain": [
       "         ID  Gender  Age  Vintage  Credit_Product  Avg_Account_Balance  Is_Active  x0_RG250  x0_RG251  x0_RG252  x0_RG253  x0_RG254  x0_RG255  x0_RG256  x0_RG257  x0_RG258  x0_RG259  x0_RG260  x0_RG261  x0_RG262  x0_RG263  x0_RG264  x0_RG265  x0_RG266  x0_RG267  x0_RG268  x0_RG269  x0_RG270  x0_RG271  x0_RG272  x0_RG273  x0_RG274  x0_RG275  x0_RG276  x0_RG277  x0_RG278  x0_RG279  x0_RG280  x0_RG281  x0_RG282  x0_RG283  x0_RG284  x1_Entrepreneur  x1_Other  x1_Salaried  x1_Self_Employed  x2_X1  \\\n",
       "0  VBENBARO       1   29       25               1               742366          0       0.0       0.0       0.0       0.0       1.0       0.0       0.0       0.0       0.0       0.0       0.0       0.0       0.0       0.0       0.0       0.0       0.0       0.0       0.0       0.0       0.0       0.0       0.0       0.0       0.0       0.0       0.0       0.0       0.0       0.0       0.0       0.0       0.0       0.0       0.0              0.0       1.0          0.0               0.0    1.0   \n",
       "1  CCMEWNKY       1   43       49               3               925537          0       0.0       0.0       0.0       0.0       0.0       0.0       0.0       0.0       0.0       0.0       0.0       0.0       0.0       0.0       0.0       0.0       0.0       0.0       1.0       0.0       0.0       0.0       0.0       0.0       0.0       0.0       0.0       0.0       0.0       0.0       0.0       0.0       0.0       0.0       0.0              0.0       1.0          0.0               0.0    0.0   \n",
       "2  VK3KGA9M       1   31       14               0               215949          0       0.0       0.0       0.0       0.0       0.0       0.0       0.0       0.0       0.0       0.0       0.0       0.0       0.0       0.0       0.0       0.0       0.0       0.0       0.0       0.0       1.0       0.0       0.0       0.0       0.0       0.0       0.0       0.0       0.0       0.0       0.0       0.0       0.0       0.0       0.0              0.0       0.0          1.0               0.0    1.0   \n",
       "3  TT8RPZVC       1   29       33               0               868070          0       0.0       0.0       0.0       0.0       0.0       0.0       0.0       0.0       0.0       0.0       0.0       0.0       0.0       0.0       0.0       0.0       0.0       0.0       0.0       0.0       0.0       0.0       1.0       0.0       0.0       0.0       0.0       0.0       0.0       0.0       0.0       0.0       0.0       0.0       0.0              0.0       1.0          0.0               0.0    1.0   \n",
       "4  SHQZEYTZ       0   29       19               0               657087          0       0.0       0.0       0.0       0.0       0.0       0.0       0.0       0.0       0.0       0.0       0.0       0.0       0.0       0.0       0.0       0.0       0.0       0.0       0.0       0.0       1.0       0.0       0.0       0.0       0.0       0.0       0.0       0.0       0.0       0.0       0.0       0.0       0.0       0.0       0.0              0.0       1.0          0.0               0.0    1.0   \n",
       "\n",
       "   x2_X2  x2_X3  x2_X4  Is_Lead  \n",
       "0    0.0    0.0    0.0        0  \n",
       "1    1.0    0.0    0.0        1  \n",
       "2    0.0    0.0    0.0        0  \n",
       "3    0.0    0.0    0.0        0  \n",
       "4    0.0    0.0    0.0        0  "
      ]
     },
     "execution_count": 78,
     "metadata": {},
     "output_type": "execute_result"
    }
   ],
   "source": [
    "test_final = pd.merge(left=test_data, right=submission, left_on='ID', right_on='ID')\n",
    "test_final.head()"
   ]
  },
  {
   "cell_type": "markdown",
   "metadata": {},
   "source": [
    "### Merging original test data with submission predictions"
   ]
  },
  {
   "cell_type": "code",
   "execution_count": 79,
   "metadata": {
    "execution": {
     "iopub.execute_input": "2021-05-30T15:41:04.495782Z",
     "iopub.status.busy": "2021-05-30T15:41:04.429929Z",
     "iopub.status.idle": "2021-05-30T15:41:04.565443Z",
     "shell.execute_reply": "2021-05-30T15:41:04.564879Z",
     "shell.execute_reply.started": "2021-05-30T15:12:06.298940Z"
    },
    "papermill": {
     "duration": 0.259483,
     "end_time": "2021-05-30T15:41:04.565590",
     "exception": false,
     "start_time": "2021-05-30T15:41:04.306107",
     "status": "completed"
    },
    "tags": []
   },
   "outputs": [
    {
     "data": {
      "text/html": [
       "<div>\n",
       "<style scoped>\n",
       "    .dataframe tbody tr th:only-of-type {\n",
       "        vertical-align: middle;\n",
       "    }\n",
       "\n",
       "    .dataframe tbody tr th {\n",
       "        vertical-align: top;\n",
       "    }\n",
       "\n",
       "    .dataframe thead th {\n",
       "        text-align: right;\n",
       "    }\n",
       "</style>\n",
       "<table border=\"1\" class=\"dataframe\">\n",
       "  <thead>\n",
       "    <tr style=\"text-align: right;\">\n",
       "      <th></th>\n",
       "      <th>ID</th>\n",
       "      <th>Gender</th>\n",
       "      <th>Age</th>\n",
       "      <th>Region_Code</th>\n",
       "      <th>Occupation</th>\n",
       "      <th>Channel_Code</th>\n",
       "      <th>Vintage</th>\n",
       "      <th>Credit_Product</th>\n",
       "      <th>Avg_Account_Balance</th>\n",
       "      <th>Is_Active</th>\n",
       "      <th>Is_Lead</th>\n",
       "    </tr>\n",
       "  </thead>\n",
       "  <tbody>\n",
       "    <tr>\n",
       "      <th>0</th>\n",
       "      <td>VBENBARO</td>\n",
       "      <td>Male</td>\n",
       "      <td>29</td>\n",
       "      <td>RG254</td>\n",
       "      <td>Other</td>\n",
       "      <td>X1</td>\n",
       "      <td>25</td>\n",
       "      <td>Yes</td>\n",
       "      <td>742366</td>\n",
       "      <td>No</td>\n",
       "      <td>0</td>\n",
       "    </tr>\n",
       "    <tr>\n",
       "      <th>1</th>\n",
       "      <td>CCMEWNKY</td>\n",
       "      <td>Male</td>\n",
       "      <td>43</td>\n",
       "      <td>RG268</td>\n",
       "      <td>Other</td>\n",
       "      <td>X2</td>\n",
       "      <td>49</td>\n",
       "      <td>NaN</td>\n",
       "      <td>925537</td>\n",
       "      <td>No</td>\n",
       "      <td>1</td>\n",
       "    </tr>\n",
       "    <tr>\n",
       "      <th>2</th>\n",
       "      <td>VK3KGA9M</td>\n",
       "      <td>Male</td>\n",
       "      <td>31</td>\n",
       "      <td>RG270</td>\n",
       "      <td>Salaried</td>\n",
       "      <td>X1</td>\n",
       "      <td>14</td>\n",
       "      <td>No</td>\n",
       "      <td>215949</td>\n",
       "      <td>No</td>\n",
       "      <td>0</td>\n",
       "    </tr>\n",
       "    <tr>\n",
       "      <th>3</th>\n",
       "      <td>TT8RPZVC</td>\n",
       "      <td>Male</td>\n",
       "      <td>29</td>\n",
       "      <td>RG272</td>\n",
       "      <td>Other</td>\n",
       "      <td>X1</td>\n",
       "      <td>33</td>\n",
       "      <td>No</td>\n",
       "      <td>868070</td>\n",
       "      <td>No</td>\n",
       "      <td>0</td>\n",
       "    </tr>\n",
       "    <tr>\n",
       "      <th>4</th>\n",
       "      <td>SHQZEYTZ</td>\n",
       "      <td>Female</td>\n",
       "      <td>29</td>\n",
       "      <td>RG270</td>\n",
       "      <td>Other</td>\n",
       "      <td>X1</td>\n",
       "      <td>19</td>\n",
       "      <td>No</td>\n",
       "      <td>657087</td>\n",
       "      <td>No</td>\n",
       "      <td>0</td>\n",
       "    </tr>\n",
       "  </tbody>\n",
       "</table>\n",
       "</div>"
      ],
      "text/plain": [
       "         ID  Gender  Age Region_Code Occupation Channel_Code  Vintage Credit_Product  Avg_Account_Balance Is_Active  Is_Lead\n",
       "0  VBENBARO    Male   29       RG254      Other           X1       25            Yes               742366        No        0\n",
       "1  CCMEWNKY    Male   43       RG268      Other           X2       49            NaN               925537        No        1\n",
       "2  VK3KGA9M    Male   31       RG270   Salaried           X1       14             No               215949        No        0\n",
       "3  TT8RPZVC    Male   29       RG272      Other           X1       33             No               868070        No        0\n",
       "4  SHQZEYTZ  Female   29       RG270      Other           X1       19             No               657087        No        0"
      ]
     },
     "execution_count": 79,
     "metadata": {},
     "output_type": "execute_result"
    }
   ],
   "source": [
    "test_final_original = pd.merge(left=df_test_data, right=submission, left_on='ID', right_on='ID')\n",
    "test_final_original.head()"
   ]
  },
  {
   "cell_type": "markdown",
   "metadata": {},
   "source": [
    "### Binning age and vintage"
   ]
  },
  {
   "cell_type": "code",
   "execution_count": 80,
   "metadata": {
    "execution": {
     "iopub.execute_input": "2021-05-30T15:41:04.812422Z",
     "iopub.status.busy": "2021-05-30T15:41:04.811740Z",
     "iopub.status.idle": "2021-05-30T15:41:04.914371Z",
     "shell.execute_reply": "2021-05-30T15:41:04.913731Z",
     "shell.execute_reply.started": "2021-05-30T15:08:19.065824Z"
    },
    "papermill": {
     "duration": 0.229788,
     "end_time": "2021-05-30T15:41:04.914549",
     "exception": false,
     "start_time": "2021-05-30T15:41:04.684761",
     "status": "completed"
    },
    "tags": []
   },
   "outputs": [
    {
     "data": {
      "text/html": [
       "<div>\n",
       "<style scoped>\n",
       "    .dataframe tbody tr th:only-of-type {\n",
       "        vertical-align: middle;\n",
       "    }\n",
       "\n",
       "    .dataframe tbody tr th {\n",
       "        vertical-align: top;\n",
       "    }\n",
       "\n",
       "    .dataframe thead th {\n",
       "        text-align: right;\n",
       "    }\n",
       "</style>\n",
       "<table border=\"1\" class=\"dataframe\">\n",
       "  <thead>\n",
       "    <tr style=\"text-align: right;\">\n",
       "      <th></th>\n",
       "      <th>ID</th>\n",
       "      <th>Gender</th>\n",
       "      <th>Credit_Product</th>\n",
       "      <th>Avg_Account_Balance</th>\n",
       "      <th>Is_Active</th>\n",
       "      <th>x0_RG250</th>\n",
       "      <th>x0_RG251</th>\n",
       "      <th>x0_RG252</th>\n",
       "      <th>x0_RG253</th>\n",
       "      <th>x0_RG254</th>\n",
       "      <th>x0_RG255</th>\n",
       "      <th>x0_RG256</th>\n",
       "      <th>x0_RG257</th>\n",
       "      <th>x0_RG258</th>\n",
       "      <th>x0_RG259</th>\n",
       "      <th>x0_RG260</th>\n",
       "      <th>x0_RG261</th>\n",
       "      <th>x0_RG262</th>\n",
       "      <th>x0_RG263</th>\n",
       "      <th>x0_RG264</th>\n",
       "      <th>x0_RG265</th>\n",
       "      <th>x0_RG266</th>\n",
       "      <th>x0_RG267</th>\n",
       "      <th>x0_RG268</th>\n",
       "      <th>x0_RG269</th>\n",
       "      <th>x0_RG270</th>\n",
       "      <th>x0_RG271</th>\n",
       "      <th>x0_RG272</th>\n",
       "      <th>x0_RG273</th>\n",
       "      <th>x0_RG274</th>\n",
       "      <th>x0_RG275</th>\n",
       "      <th>x0_RG276</th>\n",
       "      <th>x0_RG277</th>\n",
       "      <th>x0_RG278</th>\n",
       "      <th>x0_RG279</th>\n",
       "      <th>x0_RG280</th>\n",
       "      <th>x0_RG281</th>\n",
       "      <th>x0_RG282</th>\n",
       "      <th>x0_RG283</th>\n",
       "      <th>x0_RG284</th>\n",
       "      <th>x1_Entrepreneur</th>\n",
       "      <th>x1_Other</th>\n",
       "      <th>x1_Salaried</th>\n",
       "      <th>x1_Self_Employed</th>\n",
       "      <th>x2_X1</th>\n",
       "      <th>x2_X2</th>\n",
       "      <th>x2_X3</th>\n",
       "      <th>x2_X4</th>\n",
       "      <th>Is_Lead</th>\n",
       "      <th>Age_binned</th>\n",
       "      <th>Vintage_binned</th>\n",
       "    </tr>\n",
       "  </thead>\n",
       "  <tbody>\n",
       "    <tr>\n",
       "      <th>0</th>\n",
       "      <td>VBENBARO</td>\n",
       "      <td>1</td>\n",
       "      <td>1</td>\n",
       "      <td>742366</td>\n",
       "      <td>0</td>\n",
       "      <td>0.0</td>\n",
       "      <td>0.0</td>\n",
       "      <td>0.0</td>\n",
       "      <td>0.0</td>\n",
       "      <td>1.0</td>\n",
       "      <td>0.0</td>\n",
       "      <td>0.0</td>\n",
       "      <td>0.0</td>\n",
       "      <td>0.0</td>\n",
       "      <td>0.0</td>\n",
       "      <td>0.0</td>\n",
       "      <td>0.0</td>\n",
       "      <td>0.0</td>\n",
       "      <td>0.0</td>\n",
       "      <td>0.0</td>\n",
       "      <td>0.0</td>\n",
       "      <td>0.0</td>\n",
       "      <td>0.0</td>\n",
       "      <td>0.0</td>\n",
       "      <td>0.0</td>\n",
       "      <td>0.0</td>\n",
       "      <td>0.0</td>\n",
       "      <td>0.0</td>\n",
       "      <td>0.0</td>\n",
       "      <td>0.0</td>\n",
       "      <td>0.0</td>\n",
       "      <td>0.0</td>\n",
       "      <td>0.0</td>\n",
       "      <td>0.0</td>\n",
       "      <td>0.0</td>\n",
       "      <td>0.0</td>\n",
       "      <td>0.0</td>\n",
       "      <td>0.0</td>\n",
       "      <td>0.0</td>\n",
       "      <td>0.0</td>\n",
       "      <td>0.0</td>\n",
       "      <td>1.0</td>\n",
       "      <td>0.0</td>\n",
       "      <td>0.0</td>\n",
       "      <td>1.0</td>\n",
       "      <td>0.0</td>\n",
       "      <td>0.0</td>\n",
       "      <td>0.0</td>\n",
       "      <td>0</td>\n",
       "      <td>25-50</td>\n",
       "      <td>15-30</td>\n",
       "    </tr>\n",
       "    <tr>\n",
       "      <th>1</th>\n",
       "      <td>CCMEWNKY</td>\n",
       "      <td>1</td>\n",
       "      <td>3</td>\n",
       "      <td>925537</td>\n",
       "      <td>0</td>\n",
       "      <td>0.0</td>\n",
       "      <td>0.0</td>\n",
       "      <td>0.0</td>\n",
       "      <td>0.0</td>\n",
       "      <td>0.0</td>\n",
       "      <td>0.0</td>\n",
       "      <td>0.0</td>\n",
       "      <td>0.0</td>\n",
       "      <td>0.0</td>\n",
       "      <td>0.0</td>\n",
       "      <td>0.0</td>\n",
       "      <td>0.0</td>\n",
       "      <td>0.0</td>\n",
       "      <td>0.0</td>\n",
       "      <td>0.0</td>\n",
       "      <td>0.0</td>\n",
       "      <td>0.0</td>\n",
       "      <td>0.0</td>\n",
       "      <td>1.0</td>\n",
       "      <td>0.0</td>\n",
       "      <td>0.0</td>\n",
       "      <td>0.0</td>\n",
       "      <td>0.0</td>\n",
       "      <td>0.0</td>\n",
       "      <td>0.0</td>\n",
       "      <td>0.0</td>\n",
       "      <td>0.0</td>\n",
       "      <td>0.0</td>\n",
       "      <td>0.0</td>\n",
       "      <td>0.0</td>\n",
       "      <td>0.0</td>\n",
       "      <td>0.0</td>\n",
       "      <td>0.0</td>\n",
       "      <td>0.0</td>\n",
       "      <td>0.0</td>\n",
       "      <td>0.0</td>\n",
       "      <td>1.0</td>\n",
       "      <td>0.0</td>\n",
       "      <td>0.0</td>\n",
       "      <td>0.0</td>\n",
       "      <td>1.0</td>\n",
       "      <td>0.0</td>\n",
       "      <td>0.0</td>\n",
       "      <td>1</td>\n",
       "      <td>25-50</td>\n",
       "      <td>45-60</td>\n",
       "    </tr>\n",
       "    <tr>\n",
       "      <th>2</th>\n",
       "      <td>VK3KGA9M</td>\n",
       "      <td>1</td>\n",
       "      <td>0</td>\n",
       "      <td>215949</td>\n",
       "      <td>0</td>\n",
       "      <td>0.0</td>\n",
       "      <td>0.0</td>\n",
       "      <td>0.0</td>\n",
       "      <td>0.0</td>\n",
       "      <td>0.0</td>\n",
       "      <td>0.0</td>\n",
       "      <td>0.0</td>\n",
       "      <td>0.0</td>\n",
       "      <td>0.0</td>\n",
       "      <td>0.0</td>\n",
       "      <td>0.0</td>\n",
       "      <td>0.0</td>\n",
       "      <td>0.0</td>\n",
       "      <td>0.0</td>\n",
       "      <td>0.0</td>\n",
       "      <td>0.0</td>\n",
       "      <td>0.0</td>\n",
       "      <td>0.0</td>\n",
       "      <td>0.0</td>\n",
       "      <td>0.0</td>\n",
       "      <td>1.0</td>\n",
       "      <td>0.0</td>\n",
       "      <td>0.0</td>\n",
       "      <td>0.0</td>\n",
       "      <td>0.0</td>\n",
       "      <td>0.0</td>\n",
       "      <td>0.0</td>\n",
       "      <td>0.0</td>\n",
       "      <td>0.0</td>\n",
       "      <td>0.0</td>\n",
       "      <td>0.0</td>\n",
       "      <td>0.0</td>\n",
       "      <td>0.0</td>\n",
       "      <td>0.0</td>\n",
       "      <td>0.0</td>\n",
       "      <td>0.0</td>\n",
       "      <td>0.0</td>\n",
       "      <td>1.0</td>\n",
       "      <td>0.0</td>\n",
       "      <td>1.0</td>\n",
       "      <td>0.0</td>\n",
       "      <td>0.0</td>\n",
       "      <td>0.0</td>\n",
       "      <td>0</td>\n",
       "      <td>25-50</td>\n",
       "      <td>&lt;15</td>\n",
       "    </tr>\n",
       "    <tr>\n",
       "      <th>3</th>\n",
       "      <td>TT8RPZVC</td>\n",
       "      <td>1</td>\n",
       "      <td>0</td>\n",
       "      <td>868070</td>\n",
       "      <td>0</td>\n",
       "      <td>0.0</td>\n",
       "      <td>0.0</td>\n",
       "      <td>0.0</td>\n",
       "      <td>0.0</td>\n",
       "      <td>0.0</td>\n",
       "      <td>0.0</td>\n",
       "      <td>0.0</td>\n",
       "      <td>0.0</td>\n",
       "      <td>0.0</td>\n",
       "      <td>0.0</td>\n",
       "      <td>0.0</td>\n",
       "      <td>0.0</td>\n",
       "      <td>0.0</td>\n",
       "      <td>0.0</td>\n",
       "      <td>0.0</td>\n",
       "      <td>0.0</td>\n",
       "      <td>0.0</td>\n",
       "      <td>0.0</td>\n",
       "      <td>0.0</td>\n",
       "      <td>0.0</td>\n",
       "      <td>0.0</td>\n",
       "      <td>0.0</td>\n",
       "      <td>1.0</td>\n",
       "      <td>0.0</td>\n",
       "      <td>0.0</td>\n",
       "      <td>0.0</td>\n",
       "      <td>0.0</td>\n",
       "      <td>0.0</td>\n",
       "      <td>0.0</td>\n",
       "      <td>0.0</td>\n",
       "      <td>0.0</td>\n",
       "      <td>0.0</td>\n",
       "      <td>0.0</td>\n",
       "      <td>0.0</td>\n",
       "      <td>0.0</td>\n",
       "      <td>0.0</td>\n",
       "      <td>1.0</td>\n",
       "      <td>0.0</td>\n",
       "      <td>0.0</td>\n",
       "      <td>1.0</td>\n",
       "      <td>0.0</td>\n",
       "      <td>0.0</td>\n",
       "      <td>0.0</td>\n",
       "      <td>0</td>\n",
       "      <td>25-50</td>\n",
       "      <td>30-45</td>\n",
       "    </tr>\n",
       "    <tr>\n",
       "      <th>4</th>\n",
       "      <td>SHQZEYTZ</td>\n",
       "      <td>0</td>\n",
       "      <td>0</td>\n",
       "      <td>657087</td>\n",
       "      <td>0</td>\n",
       "      <td>0.0</td>\n",
       "      <td>0.0</td>\n",
       "      <td>0.0</td>\n",
       "      <td>0.0</td>\n",
       "      <td>0.0</td>\n",
       "      <td>0.0</td>\n",
       "      <td>0.0</td>\n",
       "      <td>0.0</td>\n",
       "      <td>0.0</td>\n",
       "      <td>0.0</td>\n",
       "      <td>0.0</td>\n",
       "      <td>0.0</td>\n",
       "      <td>0.0</td>\n",
       "      <td>0.0</td>\n",
       "      <td>0.0</td>\n",
       "      <td>0.0</td>\n",
       "      <td>0.0</td>\n",
       "      <td>0.0</td>\n",
       "      <td>0.0</td>\n",
       "      <td>0.0</td>\n",
       "      <td>1.0</td>\n",
       "      <td>0.0</td>\n",
       "      <td>0.0</td>\n",
       "      <td>0.0</td>\n",
       "      <td>0.0</td>\n",
       "      <td>0.0</td>\n",
       "      <td>0.0</td>\n",
       "      <td>0.0</td>\n",
       "      <td>0.0</td>\n",
       "      <td>0.0</td>\n",
       "      <td>0.0</td>\n",
       "      <td>0.0</td>\n",
       "      <td>0.0</td>\n",
       "      <td>0.0</td>\n",
       "      <td>0.0</td>\n",
       "      <td>0.0</td>\n",
       "      <td>1.0</td>\n",
       "      <td>0.0</td>\n",
       "      <td>0.0</td>\n",
       "      <td>1.0</td>\n",
       "      <td>0.0</td>\n",
       "      <td>0.0</td>\n",
       "      <td>0.0</td>\n",
       "      <td>0</td>\n",
       "      <td>25-50</td>\n",
       "      <td>15-30</td>\n",
       "    </tr>\n",
       "  </tbody>\n",
       "</table>\n",
       "</div>"
      ],
      "text/plain": [
       "         ID  Gender  Credit_Product  Avg_Account_Balance  Is_Active  x0_RG250  x0_RG251  x0_RG252  x0_RG253  x0_RG254  x0_RG255  x0_RG256  x0_RG257  x0_RG258  x0_RG259  x0_RG260  x0_RG261  x0_RG262  x0_RG263  x0_RG264  x0_RG265  x0_RG266  x0_RG267  x0_RG268  x0_RG269  x0_RG270  x0_RG271  x0_RG272  x0_RG273  x0_RG274  x0_RG275  x0_RG276  x0_RG277  x0_RG278  x0_RG279  x0_RG280  x0_RG281  x0_RG282  x0_RG283  x0_RG284  x1_Entrepreneur  x1_Other  x1_Salaried  x1_Self_Employed  x2_X1  x2_X2  x2_X3  \\\n",
       "0  VBENBARO       1               1               742366          0       0.0       0.0       0.0       0.0       1.0       0.0       0.0       0.0       0.0       0.0       0.0       0.0       0.0       0.0       0.0       0.0       0.0       0.0       0.0       0.0       0.0       0.0       0.0       0.0       0.0       0.0       0.0       0.0       0.0       0.0       0.0       0.0       0.0       0.0       0.0              0.0       1.0          0.0               0.0    1.0    0.0    0.0   \n",
       "1  CCMEWNKY       1               3               925537          0       0.0       0.0       0.0       0.0       0.0       0.0       0.0       0.0       0.0       0.0       0.0       0.0       0.0       0.0       0.0       0.0       0.0       0.0       1.0       0.0       0.0       0.0       0.0       0.0       0.0       0.0       0.0       0.0       0.0       0.0       0.0       0.0       0.0       0.0       0.0              0.0       1.0          0.0               0.0    0.0    1.0    0.0   \n",
       "2  VK3KGA9M       1               0               215949          0       0.0       0.0       0.0       0.0       0.0       0.0       0.0       0.0       0.0       0.0       0.0       0.0       0.0       0.0       0.0       0.0       0.0       0.0       0.0       0.0       1.0       0.0       0.0       0.0       0.0       0.0       0.0       0.0       0.0       0.0       0.0       0.0       0.0       0.0       0.0              0.0       0.0          1.0               0.0    1.0    0.0    0.0   \n",
       "3  TT8RPZVC       1               0               868070          0       0.0       0.0       0.0       0.0       0.0       0.0       0.0       0.0       0.0       0.0       0.0       0.0       0.0       0.0       0.0       0.0       0.0       0.0       0.0       0.0       0.0       0.0       1.0       0.0       0.0       0.0       0.0       0.0       0.0       0.0       0.0       0.0       0.0       0.0       0.0              0.0       1.0          0.0               0.0    1.0    0.0    0.0   \n",
       "4  SHQZEYTZ       0               0               657087          0       0.0       0.0       0.0       0.0       0.0       0.0       0.0       0.0       0.0       0.0       0.0       0.0       0.0       0.0       0.0       0.0       0.0       0.0       0.0       0.0       1.0       0.0       0.0       0.0       0.0       0.0       0.0       0.0       0.0       0.0       0.0       0.0       0.0       0.0       0.0              0.0       1.0          0.0               0.0    1.0    0.0    0.0   \n",
       "\n",
       "   x2_X4  Is_Lead Age_binned Vintage_binned  \n",
       "0    0.0        0      25-50          15-30  \n",
       "1    0.0        1      25-50          45-60  \n",
       "2    0.0        0      25-50            <15  \n",
       "3    0.0        0      25-50          30-45  \n",
       "4    0.0        0      25-50          15-30  "
      ]
     },
     "execution_count": 80,
     "metadata": {},
     "output_type": "execute_result"
    }
   ],
   "source": [
    "test_final['Age_binned'] = pd.cut(test_final['Age'], [0,25,50,75,100], labels=['<25','25-50','50-75','>75'])\n",
    "test_final['Vintage_binned'] = pd.cut(test_final['Vintage'], [0,15,30,45,60,75,90,105,120,200], labels=['<15','15-30','30-45','45-60','60-75','75-90','90-105','105-120','>120'])\n",
    "test_final.drop(['Age','Vintage'],1,inplace=True)\n",
    "test_final.head()"
   ]
  },
  {
   "cell_type": "markdown",
   "metadata": {},
   "source": [
    "### Plotting Age and Vintage"
   ]
  },
  {
   "cell_type": "code",
   "execution_count": 81,
   "metadata": {
    "execution": {
     "iopub.execute_input": "2021-05-30T15:41:05.209071Z",
     "iopub.status.busy": "2021-05-30T15:41:05.202705Z",
     "iopub.status.idle": "2021-05-30T15:41:05.539833Z",
     "shell.execute_reply": "2021-05-30T15:41:05.539105Z",
     "shell.execute_reply.started": "2021-05-30T15:08:49.360936Z"
    },
    "papermill": {
     "duration": 0.479574,
     "end_time": "2021-05-30T15:41:05.539996",
     "exception": false,
     "start_time": "2021-05-30T15:41:05.060422",
     "status": "completed"
    },
    "tags": []
   },
   "outputs": [
    {
     "data": {
      "text/plain": [
       "Text(0.5, 1.0, 'Vintage')"
      ]
     },
     "execution_count": 81,
     "metadata": {},
     "output_type": "execute_result"
    },
    {
     "data": {
      "image/png": "[encoded data removed]",
      "text/plain": [
       "<Figure size 1152x576 with 2 Axes>"
      ]
     },
     "metadata": {
      "needs_background": "light"
     },
     "output_type": "display_data"
    }
   ],
   "source": [
    "plt.figure(figsize=(16,8))\n",
    "plt.subplot(1,2,1)\n",
    "sns.countplot(y=\"Age_binned\", data=test_final)\n",
    "plt.title('Age')\n",
    "plt.subplot(1,2,2)\n",
    "sns.countplot(y=\"Vintage_binned\", data=test_final)\n",
    "plt.title('Vintage')"
   ]
  },
  {
   "cell_type": "markdown",
   "metadata": {},
   "source": [
    "### Plotting variables"
   ]
  },
  {
   "cell_type": "code",
   "execution_count": 82,
   "metadata": {
    "execution": {
     "iopub.execute_input": "2021-05-30T15:41:05.813123Z",
     "iopub.status.busy": "2021-05-30T15:41:05.794743Z",
     "iopub.status.idle": "2021-05-30T15:41:08.458672Z",
     "shell.execute_reply": "2021-05-30T15:41:08.457992Z",
     "shell.execute_reply.started": "2021-05-30T15:12:28.081619Z"
    },
    "papermill": {
     "duration": 2.79656,
     "end_time": "2021-05-30T15:41:08.458831",
     "exception": false,
     "start_time": "2021-05-30T15:41:05.662271",
     "status": "completed"
    },
    "tags": []
   },
   "outputs": [
    {
     "data": {
      "image/png": "[encoded data removed]",
      "text/plain": [
       "<Figure size 3600x2160 with 6 Axes>"
      ]
     },
     "metadata": {
      "needs_background": "light"
     },
     "output_type": "display_data"
    }
   ],
   "source": [
    "fig, axes = plt.subplots(nrows=3, ncols = 2, figsize=(50,30))\n",
    "\n",
    "sns.countplot(x=\"Gender\", hue='Is_Lead', data=test_final_original, ax=axes[0][0])\n",
    "axes[0][0].set_title('Gender')\n",
    "plt.xticks(rotation=45)\n",
    "\n",
    "sns.countplot(x=\"Region_Code\", hue='Is_Lead', data=test_final_original, ax=axes[0][1])\n",
    "axes[0][1].set_title('Region_Code')\n",
    "plt.xticks(rotation=45)\n",
    "\n",
    "sns.countplot(x=\"Occupation\", hue='Is_Lead', data=test_final_original, ax=axes[1][0])\n",
    "axes[1][0].set_title('Occupation')\n",
    "plt.xticks(rotation=45)\n",
    "\n",
    "sns.countplot(x=\"Channel_Code\", hue='Is_Lead', data=test_final_original, ax=axes[1][1])\n",
    "axes[1][1].set_title('Channel_Code')\n",
    "plt.xticks(rotation=45)\n",
    "\n",
    "sns.countplot(x=\"Credit_Product\", hue='Is_Lead', data=test_final_original, ax=axes[2][0])\n",
    "axes[2][0].set_title('Credit_Product')\n",
    "plt.xticks(rotation=45)\n",
    "\n",
    "sns.countplot(x=\"Is_Active\", hue='Is_Lead', data=test_final_original, ax=axes[2][1])\n",
    "axes[2][1].set_title('Is_Active')\n",
    "plt.xticks(rotation=45)\n",
    "\n",
    "plt.show()"
   ]
  },
  {
   "cell_type": "markdown",
   "metadata": {},
   "source": [
    "#### <font color=green> Here we can see that most of the male and female genders will be open to buy credit cards. Some regions are more open than others for getting credit cards. Self employed and salaried people are more approachable compared to Entrepreneurs. Channel code X1 is more approachable compared to other 3 channels. Customers with not many credit products are approachable. Customers who are not very active in last 3 months can be approached."
   ]
  },
  {
   "cell_type": "code",
   "execution_count": 83,
   "metadata": {
    "execution": {
     "iopub.execute_input": "2021-05-30T15:41:08.714268Z",
     "iopub.status.busy": "2021-05-30T15:41:08.713620Z",
     "iopub.status.idle": "2021-05-30T15:41:08.891865Z",
     "shell.execute_reply": "2021-05-30T15:41:08.892412Z",
     "shell.execute_reply.started": "2021-05-30T15:23:55.200651Z"
    },
    "papermill": {
     "duration": 0.307379,
     "end_time": "2021-05-30T15:41:08.892621",
     "exception": false,
     "start_time": "2021-05-30T15:41:08.585242",
     "status": "completed"
    },
    "tags": []
   },
   "outputs": [
    {
     "data": {
      "image/png": "[encoded data removed]",
      "text/plain": [
       "<Figure size 432x288 with 1 Axes>"
      ]
     },
     "metadata": {
      "needs_background": "light"
     },
     "output_type": "display_data"
    }
   ],
   "source": [
    "sns.countplot(x=\"Age_binned\", hue='Is_Lead', data=test_final)\n",
    "plt.show()"
   ]
  },
  {
   "cell_type": "markdown",
   "metadata": {},
   "source": [
    "#### <font color=green> Here we can see that customers who belong to age group of 25-50 can be approached for selling credit cards."
   ]
  },
  {
   "cell_type": "code",
   "execution_count": 84,
   "metadata": {
    "execution": {
     "iopub.execute_input": "2021-05-30T15:41:09.155641Z",
     "iopub.status.busy": "2021-05-30T15:41:09.154906Z",
     "iopub.status.idle": "2021-05-30T15:41:09.394313Z",
     "shell.execute_reply": "2021-05-30T15:41:09.394853Z",
     "shell.execute_reply.started": "2021-05-30T15:24:18.802670Z"
    },
    "papermill": {
     "duration": 0.376855,
     "end_time": "2021-05-30T15:41:09.395059",
     "exception": false,
     "start_time": "2021-05-30T15:41:09.018204",
     "status": "completed"
    },
    "tags": []
   },
   "outputs": [
    {
     "data": {
      "image/png": "[encoded data removed]",
      "text/plain": [
       "<Figure size 432x288 with 1 Axes>"
      ]
     },
     "metadata": {
      "needs_background": "light"
     },
     "output_type": "display_data"
    }
   ],
   "source": [
    "sns.countplot(x=\"Vintage_binned\", hue='Is_Lead', data=test_final)\n",
    "plt.show()"
   ]
  },
  {
   "cell_type": "markdown",
   "metadata": {},
   "source": [
    "#### <font color=green> Here we can see that customers belonging to 15-30 month vintage can be approached for credit cards."
   ]
  },
  {
   "cell_type": "markdown",
   "metadata": {},
   "source": [
    "### Analysis and Impact"
   ]
  },
  {
   "cell_type": "markdown",
   "metadata": {},
   "source": [
    "<font color=orange> **Bussiness Impact**: <br>\n",
    "<font color=blue> Here we can see that: <br>\n",
    "<font color=blue> - Most of the male and female genders will be open to buy credit cards. <br> \n",
    "<font color=blue> - Some regions are more open than others for getting credit cards. <br> \n",
    "<font color=blue> - Self employed and salaried people are more approachable compared to Entrepreneurs. <br> \n",
    "<font color=blue> - Channel code X1 is more approachable compared to other 3 channels. Customers with not many credit products are approachable. <br> \n",
    "<font color=blue> - Customers who are not very active in last 3 months can be approached. <br>\n",
    "<font color=blue> - I got the AUC value of 0.88 which depicts that the model predicts correctly about customers who can be approached. <br>"
   ]
  }
 ],
 "metadata": {
  "kernelspec": {
   "display_name": "Python 3",
   "language": "python",
   "name": "python3"
  },
  "language_info": {
   "codemirror_mode": {
    "name": "ipython",
    "version": 3
   },
   "file_extension": ".py",
   "mimetype": "text/x-python",
   "name": "python",
   "nbconvert_exporter": "python",
   "pygments_lexer": "ipython3",
   "version": "3.8.5"
  },
  "papermill": {
   "default_parameters": {},
   "duration": 991.380188,
   "end_time": "2021-05-30T15:41:11.436683",
   "environment_variables": {},
   "exception": null,
   "input_path": "__notebook__.ipynb",
   "output_path": "__notebook__.ipynb",
   "parameters": {},
   "start_time": "2021-05-30T15:24:40.056495",
   "version": "2.3.3"
  }
 },
 "nbformat": 4,
 "nbformat_minor": 5
}
